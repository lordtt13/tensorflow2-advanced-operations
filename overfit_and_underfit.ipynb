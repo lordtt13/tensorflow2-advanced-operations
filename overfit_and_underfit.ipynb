{
 "cells": [
  {
   "cell_type": "code",
   "execution_count": 1,
   "metadata": {},
   "outputs": [],
   "source": [
    "import shutil\n",
    "import pathlib\n",
    "import tempfile\n",
    "import tensorflow_docs.plots\n",
    "import tensorflow_docs.modeling\n",
    "\n",
    "import numpy as np\n",
    "import tensorflow as tf\n",
    "import matplotlib.pyplot as plt\n",
    "import tensorflow_docs as tfdocs\n",
    "\n",
    "from  IPython import display\n",
    "from tensorflow.keras import layers\n",
    "from tensorflow.keras import regularizers"
   ]
  },
  {
   "cell_type": "code",
   "execution_count": 2,
   "metadata": {},
   "outputs": [],
   "source": [
    "# For tensorboard loggin\n",
    "\n",
    "logdir = pathlib.Path(tempfile.mkdtemp())/\"tensorboard_logs\"\n",
    "shutil.rmtree(logdir, ignore_errors = True)"
   ]
  },
  {
   "cell_type": "code",
   "execution_count": 3,
   "metadata": {},
   "outputs": [],
   "source": [
    "gz = tf.keras.utils.get_file('HIGGS.csv.gz', 'http://mlphysics.ics.uci.edu/data/higgs/HIGGS.csv.gz')"
   ]
  },
  {
   "cell_type": "code",
   "execution_count": 4,
   "metadata": {},
   "outputs": [],
   "source": [
    "FEATURES = 28"
   ]
  },
  {
   "cell_type": "code",
   "execution_count": 5,
   "metadata": {},
   "outputs": [],
   "source": [
    "ds = tf.data.experimental.CsvDataset(gz ,[float(),]*(FEATURES+1), compression_type = \"GZIP\")"
   ]
  },
  {
   "cell_type": "code",
   "execution_count": 6,
   "metadata": {},
   "outputs": [],
   "source": [
    "def pack_row(*row):\n",
    "  label = row[0]\n",
    "  features = tf.stack(row[1:],1)\n",
    "  return features, label"
   ]
  },
  {
   "cell_type": "code",
   "execution_count": 7,
   "metadata": {},
   "outputs": [],
   "source": [
    "packed_ds = ds.batch(10000).map(pack_row).unbatch()"
   ]
  },
  {
   "cell_type": "code",
   "execution_count": 8,
   "metadata": {},
   "outputs": [
    {
     "name": "stdout",
     "output_type": "stream",
     "text": [
      "tf.Tensor(\n",
      "[ 0.8692932  -0.6350818   0.22569026  0.32747006 -0.6899932   0.75420225\n",
      " -0.24857314 -1.0920639   0.          1.3749921  -0.6536742   0.9303491\n",
      "  1.1074361   1.1389043  -1.5781983  -1.0469854   0.          0.65792954\n",
      " -0.01045457 -0.04576717  3.1019614   1.35376     0.9795631   0.97807616\n",
      "  0.92000484  0.72165745  0.98875093  0.87667835], shape=(28,), dtype=float32)\n"
     ]
    },
    {
     "data": {
      "image/png": "[encoded data removed]",
      "text/plain": [
       "<Figure size 432x288 with 1 Axes>"
      ]
     },
     "metadata": {
      "needs_background": "light"
     },
     "output_type": "display_data"
    }
   ],
   "source": [
    "for features,label in packed_ds.batch(1000).take(1):\n",
    "  print(features[0])\n",
    "  plt.hist(features.numpy().flatten(), bins = 101)"
   ]
  },
  {
   "cell_type": "code",
   "execution_count": 9,
   "metadata": {},
   "outputs": [],
   "source": [
    "N_VALIDATION = int(1e3)\n",
    "N_TRAIN = int(1e4)\n",
    "BUFFER_SIZE = int(1e4)\n",
    "BATCH_SIZE = 500\n",
    "STEPS_PER_EPOCH = N_TRAIN//BATCH_SIZE"
   ]
  },
  {
   "cell_type": "code",
   "execution_count": 10,
   "metadata": {},
   "outputs": [],
   "source": [
    "# Dataset.cache ensures we don't have to reload dataset on each epoch\n",
    "\n",
    "validate_ds = packed_ds.take(N_VALIDATION).cache()\n",
    "train_ds = packed_ds.skip(N_VALIDATION).take(N_TRAIN).cache()"
   ]
  },
  {
   "cell_type": "code",
   "execution_count": 11,
   "metadata": {},
   "outputs": [],
   "source": [
    "validate_ds = validate_ds.batch(BATCH_SIZE)\n",
    "train_ds = train_ds.shuffle(BUFFER_SIZE).repeat().batch(BATCH_SIZE)"
   ]
  },
  {
   "cell_type": "code",
   "execution_count": 12,
   "metadata": {},
   "outputs": [],
   "source": [
    "# Get optimizer as an LR Scheduler\n",
    "\n",
    "lr_schedule = tf.keras.optimizers.schedules.InverseTimeDecay(\n",
    "  0.001,\n",
    "  decay_steps = STEPS_PER_EPOCH*1000,\n",
    "  decay_rate = 1,\n",
    "  staircase = False)\n",
    "\n",
    "def get_optimizer():\n",
    "  return tf.keras.optimizers.Adam(lr_schedule)"
   ]
  },
  {
   "cell_type": "code",
   "execution_count": 13,
   "metadata": {},
   "outputs": [
    {
     "data": {
      "image/png": "[encoded data removed]",
      "text/plain": [
       "<Figure size 576x432 with 1 Axes>"
      ]
     },
     "metadata": {
      "needs_background": "light"
     },
     "output_type": "display_data"
    }
   ],
   "source": [
    "# See decay on plot\n",
    "\n",
    "step = np.linspace(0,100000)\n",
    "lr = lr_schedule(step)\n",
    "plt.figure(figsize = (8,6))\n",
    "plt.plot(step/STEPS_PER_EPOCH, lr)\n",
    "plt.ylim([0,max(plt.ylim())])\n",
    "plt.xlabel('Epoch')\n",
    "_ = plt.ylabel('Learning Rate')"
   ]
  },
  {
   "cell_type": "code",
   "execution_count": 14,
   "metadata": {},
   "outputs": [],
   "source": [
    "def get_callbacks(name):\n",
    "    \n",
    "  return [\n",
    "    tfdocs.modeling.EpochDots(),\n",
    "    tf.keras.callbacks.EarlyStopping(monitor = 'val_binary_crossentropy', patience = 200),\n",
    "    tf.keras.callbacks.TensorBoard(logdir/name),\n",
    "  ]"
   ]
  },
  {
   "cell_type": "code",
   "execution_count": 15,
   "metadata": {},
   "outputs": [],
   "source": [
    "def compile_and_fit(model, name, optimizer = None, max_epochs = 10000):\n",
    "    \n",
    "  if optimizer is None:\n",
    "    optimizer = get_optimizer()\n",
    "  model.compile(optimizer = optimizer,\n",
    "                loss = tf.keras.losses.BinaryCrossentropy(from_logits = True),\n",
    "                metrics = [\n",
    "                  tf.keras.losses.BinaryCrossentropy(\n",
    "                      from_logits = True, name = 'binary_crossentropy'),\n",
    "                  'accuracy'])\n",
    "\n",
    "  model.summary()\n",
    "\n",
    "  history = model.fit(\n",
    "    train_ds,\n",
    "    steps_per_epoch = STEPS_PER_EPOCH,\n",
    "    epochs = max_epochs,\n",
    "    validation_data = validate_ds,\n",
    "    callbacks = get_callbacks(name),\n",
    "    verbose = 0)\n",
    "\n",
    "  return history"
   ]
  },
  {
   "cell_type": "markdown",
   "metadata": {},
   "source": [
    "# Show overfit\n",
    "\n",
    "Very tiny model as a starter"
   ]
  },
  {
   "cell_type": "code",
   "execution_count": 16,
   "metadata": {},
   "outputs": [],
   "source": [
    "tiny_model = tf.keras.Sequential([\n",
    "    layers.Dense(16, activation = 'elu', input_shape = (FEATURES,)),\n",
    "    layers.Dense(1)\n",
    "])"
   ]
  },
  {
   "cell_type": "code",
   "execution_count": 17,
   "metadata": {},
   "outputs": [],
   "source": [
    "size_histories = {}"
   ]
  },
  {
   "cell_type": "code",
   "execution_count": 18,
   "metadata": {},
   "outputs": [
    {
     "name": "stdout",
     "output_type": "stream",
     "text": [
      "Model: \"sequential\"\n",
      "_________________________________________________________________\n",
      "Layer (type)                 Output Shape              Param #   \n",
      "=================================================================\n",
      "dense (Dense)                (None, 16)                464       \n",
      "_________________________________________________________________\n",
      "dense_1 (Dense)              (None, 1)                 17        \n",
      "=================================================================\n",
      "Total params: 481\n",
      "Trainable params: 481\n",
      "Non-trainable params: 0\n",
      "_________________________________________________________________\n",
      "WARNING:tensorflow:Method (on_train_batch_end) is slow compared to the batch update (0.141885). Check your callbacks.\n",
      "\n",
      "Epoch: 0, accuracy:0.4621,  binary_crossentropy:0.8460,  loss:0.8460,  val_accuracy:0.4810,  val_binary_crossentropy:0.7555,  val_loss:0.7555,  \n",
      "....................................................................................................\n",
      "Epoch: 100, accuracy:0.5985,  binary_crossentropy:0.6280,  loss:0.6280,  val_accuracy:0.5780,  val_binary_crossentropy:0.6336,  val_loss:0.6336,  \n",
      "....................................................................................................\n",
      "Epoch: 200, accuracy:0.6204,  binary_crossentropy:0.6149,  loss:0.6149,  val_accuracy:0.5970,  val_binary_crossentropy:0.6195,  val_loss:0.6195,  \n",
      "....................................................................................................\n",
      "Epoch: 300, accuracy:0.6371,  binary_crossentropy:0.6042,  loss:0.6042,  val_accuracy:0.6150,  val_binary_crossentropy:0.6107,  val_loss:0.6107,  \n",
      "....................................................................................................\n",
      "Epoch: 400, accuracy:0.6554,  binary_crossentropy:0.5958,  loss:0.5958,  val_accuracy:0.6120,  val_binary_crossentropy:0.6041,  val_loss:0.6041,  \n",
      "....................................................................................................\n",
      "Epoch: 500, accuracy:0.6627,  binary_crossentropy:0.5904,  loss:0.5904,  val_accuracy:0.6460,  val_binary_crossentropy:0.5950,  val_loss:0.5950,  \n",
      "....................................................................................................\n",
      "Epoch: 600, accuracy:0.6698,  binary_crossentropy:0.5858,  loss:0.5858,  val_accuracy:0.6490,  val_binary_crossentropy:0.5921,  val_loss:0.5921,  \n",
      "....................................................................................................\n",
      "Epoch: 700, accuracy:0.6764,  binary_crossentropy:0.5832,  loss:0.5832,  val_accuracy:0.6630,  val_binary_crossentropy:0.5882,  val_loss:0.5882,  \n",
      "....................................................................................................\n",
      "Epoch: 800, accuracy:0.6767,  binary_crossentropy:0.5802,  loss:0.5802,  val_accuracy:0.6710,  val_binary_crossentropy:0.5865,  val_loss:0.5865,  \n",
      "....................................................................................................\n",
      "Epoch: 900, accuracy:0.6793,  binary_crossentropy:0.5784,  loss:0.5784,  val_accuracy:0.6620,  val_binary_crossentropy:0.5870,  val_loss:0.5870,  \n",
      "....................................................................................................\n",
      "Epoch: 1000, accuracy:0.6790,  binary_crossentropy:0.5763,  loss:0.5763,  val_accuracy:0.6710,  val_binary_crossentropy:0.5860,  val_loss:0.5860,  \n",
      "....................................................................................................\n",
      "Epoch: 1100, accuracy:0.6831,  binary_crossentropy:0.5747,  loss:0.5747,  val_accuracy:0.6760,  val_binary_crossentropy:0.5869,  val_loss:0.5869,  \n",
      "....................................................................................................\n",
      "Epoch: 1200, accuracy:0.6855,  binary_crossentropy:0.5730,  loss:0.5730,  val_accuracy:0.6740,  val_binary_crossentropy:0.5873,  val_loss:0.5873,  \n",
      "....................................................................................................\n",
      "Epoch: 1300, accuracy:0.6851,  binary_crossentropy:0.5726,  loss:0.5726,  val_accuracy:0.6760,  val_binary_crossentropy:0.5864,  val_loss:0.5864,  \n",
      "....................................................................................................\n",
      "Epoch: 1400, accuracy:0.6895,  binary_crossentropy:0.5708,  loss:0.5708,  val_accuracy:0.6750,  val_binary_crossentropy:0.5892,  val_loss:0.5892,  \n",
      "....................................................................................................\n",
      "Epoch: 1500, accuracy:0.6847,  binary_crossentropy:0.5699,  loss:0.5699,  val_accuracy:0.6720,  val_binary_crossentropy:0.5872,  val_loss:0.5872,  \n",
      "........................................................................."
     ]
    }
   ],
   "source": [
    "size_histories['Tiny'] = compile_and_fit(tiny_model, 'sizes/Tiny')"
   ]
  },
  {
   "cell_type": "code",
   "execution_count": 19,
   "metadata": {},
   "outputs": [
    {
     "data": {
      "text/plain": [
       "(0.5, 0.7)"
      ]
     },
     "execution_count": 19,
     "metadata": {},
     "output_type": "execute_result"
    },
    {
     "data": {
      "image/png": "[encoded data removed]",
      "text/plain": [
       "<Figure size 432x288 with 1 Axes>"
      ]
     },
     "metadata": {
      "needs_background": "light"
     },
     "output_type": "display_data"
    }
   ],
   "source": [
    "plotter = tfdocs.plots.HistoryPlotter(metric = 'binary_crossentropy', smoothing_std = 10)\n",
    "plotter.plot(size_histories)\n",
    "plt.ylim([0.5, 0.7])"
   ]
  },
  {
   "cell_type": "code",
   "execution_count": null,
   "metadata": {},
   "outputs": [],
   "source": []
  }
 ],
 "metadata": {
  "kernelspec": {
   "display_name": "Python 3",
   "language": "python",
   "name": "python3"
  },
  "language_info": {
   "codemirror_mode": {
    "name": "ipython",
    "version": 3
   },
   "file_extension": ".py",
   "mimetype": "text/x-python",
   "name": "python",
   "nbconvert_exporter": "python",
   "pygments_lexer": "ipython3",
   "version": "3.7.6"
  }
 },
 "nbformat": 4,
 "nbformat_minor": 4
}
