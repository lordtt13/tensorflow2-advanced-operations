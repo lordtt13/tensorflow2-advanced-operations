{
 "cells": [
  {
   "cell_type": "code",
   "execution_count": 1,
   "metadata": {},
   "outputs": [],
   "source": [
    "import shutil\n",
    "import pathlib\n",
    "import tempfile\n",
    "import tensorflow_docs.plots\n",
    "import tensorflow_docs.modeling\n",
    "\n",
    "import numpy as np\n",
    "import tensorflow as tf\n",
    "import matplotlib.pyplot as plt\n",
    "import tensorflow_docs as tfdocs\n",
    "\n",
    "from  IPython import display\n",
    "from tensorflow.keras import layers\n",
    "from tensorflow.keras import regularizers"
   ]
  },
  {
   "cell_type": "code",
   "execution_count": 2,
   "metadata": {},
   "outputs": [],
   "source": [
    "# For tensorboard loggin\n",
    "\n",
    "logdir = pathlib.Path(tempfile.mkdtemp())/\"tensorboard_logs\"\n",
    "shutil.rmtree(logdir, ignore_errors = True)"
   ]
  },
  {
   "cell_type": "code",
   "execution_count": 3,
   "metadata": {},
   "outputs": [],
   "source": [
    "gz = tf.keras.utils.get_file('HIGGS.csv.gz', 'http://mlphysics.ics.uci.edu/data/higgs/HIGGS.csv.gz')"
   ]
  },
  {
   "cell_type": "code",
   "execution_count": 4,
   "metadata": {},
   "outputs": [],
   "source": [
    "FEATURES = 28"
   ]
  },
  {
   "cell_type": "code",
   "execution_count": 5,
   "metadata": {},
   "outputs": [],
   "source": [
    "ds = tf.data.experimental.CsvDataset(gz ,[float(),]*(FEATURES+1), compression_type = \"GZIP\")"
   ]
  },
  {
   "cell_type": "code",
   "execution_count": 6,
   "metadata": {},
   "outputs": [],
   "source": [
    "def pack_row(*row):\n",
    "  label = row[0]\n",
    "  features = tf.stack(row[1:],1)\n",
    "  return features, label"
   ]
  },
  {
   "cell_type": "code",
   "execution_count": 7,
   "metadata": {},
   "outputs": [],
   "source": [
    "packed_ds = ds.batch(10000).map(pack_row).unbatch()"
   ]
  },
  {
   "cell_type": "code",
   "execution_count": 8,
   "metadata": {},
   "outputs": [
    {
     "name": "stdout",
     "output_type": "stream",
     "text": [
      "tf.Tensor(\n",
      "[ 0.8692932  -0.6350818   0.22569026  0.32747006 -0.6899932   0.75420225\n",
      " -0.24857314 -1.0920639   0.          1.3749921  -0.6536742   0.9303491\n",
      "  1.1074361   1.1389043  -1.5781983  -1.0469854   0.          0.65792954\n",
      " -0.01045457 -0.04576717  3.1019614   1.35376     0.9795631   0.97807616\n",
      "  0.92000484  0.72165745  0.98875093  0.87667835], shape=(28,), dtype=float32)\n"
     ]
    },
    {
     "data": {
      "image/png": "[encoded data removed]",
      "text/plain": [
       "<Figure size 432x288 with 1 Axes>"
      ]
     },
     "metadata": {
      "needs_background": "light"
     },
     "output_type": "display_data"
    }
   ],
   "source": [
    "for features,label in packed_ds.batch(1000).take(1):\n",
    "  print(features[0])\n",
    "  plt.hist(features.numpy().flatten(), bins = 101)"
   ]
  },
  {
   "cell_type": "code",
   "execution_count": 9,
   "metadata": {},
   "outputs": [],
   "source": [
    "N_VALIDATION = int(1e3)\n",
    "N_TRAIN = int(1e4)\n",
    "BUFFER_SIZE = int(1e4)\n",
    "BATCH_SIZE = 500\n",
    "STEPS_PER_EPOCH = N_TRAIN//BATCH_SIZE"
   ]
  },
  {
   "cell_type": "code",
   "execution_count": 10,
   "metadata": {},
   "outputs": [],
   "source": [
    "# Dataset.cache ensures we don't have to reload dataset on each epoch\n",
    "\n",
    "validate_ds = packed_ds.take(N_VALIDATION).cache()\n",
    "train_ds = packed_ds.skip(N_VALIDATION).take(N_TRAIN).cache()"
   ]
  },
  {
   "cell_type": "code",
   "execution_count": 11,
   "metadata": {},
   "outputs": [],
   "source": [
    "validate_ds = validate_ds.batch(BATCH_SIZE)\n",
    "train_ds = train_ds.shuffle(BUFFER_SIZE).repeat().batch(BATCH_SIZE)"
   ]
  },
  {
   "cell_type": "code",
   "execution_count": 12,
   "metadata": {},
   "outputs": [],
   "source": [
    "# Get optimizer as an LR Scheduler\n",
    "\n",
    "lr_schedule = tf.keras.optimizers.schedules.InverseTimeDecay(\n",
    "  0.001,\n",
    "  decay_steps = STEPS_PER_EPOCH*1000,\n",
    "  decay_rate = 1,\n",
    "  staircase = False)\n",
    "\n",
    "def get_optimizer():\n",
    "  return tf.keras.optimizers.Adam(lr_schedule)"
   ]
  },
  {
   "cell_type": "code",
   "execution_count": 13,
   "metadata": {},
   "outputs": [
    {
     "data": {
      "image/png": "[encoded data removed]",
      "text/plain": [
       "<Figure size 576x432 with 1 Axes>"
      ]
     },
     "metadata": {
      "needs_background": "light"
     },
     "output_type": "display_data"
    }
   ],
   "source": [
    "# See decay on plot\n",
    "\n",
    "step = np.linspace(0,100000)\n",
    "lr = lr_schedule(step)\n",
    "plt.figure(figsize = (8,6))\n",
    "plt.plot(step/STEPS_PER_EPOCH, lr)\n",
    "plt.ylim([0,max(plt.ylim())])\n",
    "plt.xlabel('Epoch')\n",
    "_ = plt.ylabel('Learning Rate')"
   ]
  },
  {
   "cell_type": "code",
   "execution_count": 14,
   "metadata": {},
   "outputs": [],
   "source": [
    "def get_callbacks(name):\n",
    "    \n",
    "  return [\n",
    "    tfdocs.modeling.EpochDots(),\n",
    "    tf.keras.callbacks.EarlyStopping(monitor = 'val_binary_crossentropy', patience = 200),\n",
    "    tf.keras.callbacks.TensorBoard(logdir/name),\n",
    "  ]"
   ]
  },
  {
   "cell_type": "code",
   "execution_count": 15,
   "metadata": {},
   "outputs": [],
   "source": [
    "def compile_and_fit(model, name, optimizer = None, max_epochs = 10000):\n",
    "    \n",
    "  if optimizer is None:\n",
    "    optimizer = get_optimizer()\n",
    "  model.compile(optimizer = optimizer,\n",
    "                loss = tf.keras.losses.BinaryCrossentropy(from_logits = True),\n",
    "                metrics = [\n",
    "                  tf.keras.losses.BinaryCrossentropy(\n",
    "                      from_logits = True, name = 'binary_crossentropy'),\n",
    "                  'accuracy'])\n",
    "\n",
    "  model.summary()\n",
    "\n",
    "  history = model.fit(\n",
    "    train_ds,\n",
    "    steps_per_epoch = STEPS_PER_EPOCH,\n",
    "    epochs = max_epochs,\n",
    "    validation_data = validate_ds,\n",
    "    callbacks = get_callbacks(name),\n",
    "    verbose = 0)\n",
    "\n",
    "  return history"
   ]
  },
  {
   "cell_type": "markdown",
   "metadata": {},
   "source": [
    "# Show overfit\n",
    "\n",
    "Very tiny model as a starter"
   ]
  },
  {
   "cell_type": "code",
   "execution_count": 16,
   "metadata": {},
   "outputs": [],
   "source": [
    "tiny_model = tf.keras.Sequential([\n",
    "    layers.Dense(16, activation = 'elu', input_shape = (FEATURES,)),\n",
    "    layers.Dense(1)\n",
    "])"
   ]
  },
  {
   "cell_type": "code",
   "execution_count": 17,
   "metadata": {},
   "outputs": [],
   "source": [
    "size_histories = {}"
   ]
  },
  {
   "cell_type": "code",
   "execution_count": 18,
   "metadata": {},
   "outputs": [
    {
     "name": "stdout",
     "output_type": "stream",
     "text": [
      "Model: \"sequential\"\n",
      "_________________________________________________________________\n",
      "Layer (type)                 Output Shape              Param #   \n",
      "=================================================================\n",
      "dense (Dense)                (None, 16)                464       \n",
      "_________________________________________________________________\n",
      "dense_1 (Dense)              (None, 1)                 17        \n",
      "=================================================================\n",
      "Total params: 481\n",
      "Trainable params: 481\n",
      "Non-trainable params: 0\n",
      "_________________________________________________________________\n",
      "\n",
      "Epoch: 0, accuracy:0.5221,  binary_crossentropy:0.8934,  loss:0.8934,  val_accuracy:0.4820,  val_binary_crossentropy:0.8016,  val_loss:0.8016,  \n",
      "....................................................................................................\n",
      "Epoch: 100, accuracy:0.5923,  binary_crossentropy:0.6282,  loss:0.6281,  val_accuracy:0.5840,  val_binary_crossentropy:0.6257,  val_loss:0.6257,  \n",
      "....................................................................................................\n",
      "Epoch: 200, accuracy:0.6200,  binary_crossentropy:0.6165,  loss:0.6165,  val_accuracy:0.5800,  val_binary_crossentropy:0.6216,  val_loss:0.6216,  \n",
      "....................................................................................................\n",
      "Epoch: 300, accuracy:0.6312,  binary_crossentropy:0.6092,  loss:0.6092,  val_accuracy:0.6210,  val_binary_crossentropy:0.6133,  val_loss:0.6133,  \n",
      "....................................................................................................\n",
      "Epoch: 400, accuracy:0.6416,  binary_crossentropy:0.6030,  loss:0.6030,  val_accuracy:0.6200,  val_binary_crossentropy:0.6114,  val_loss:0.6114,  \n",
      "....................................................................................................\n",
      "Epoch: 500, accuracy:0.6446,  binary_crossentropy:0.5976,  loss:0.5976,  val_accuracy:0.6230,  val_binary_crossentropy:0.6065,  val_loss:0.6065,  \n",
      "....................................................................................................\n",
      "Epoch: 600, accuracy:0.6534,  binary_crossentropy:0.5923,  loss:0.5923,  val_accuracy:0.6310,  val_binary_crossentropy:0.6022,  val_loss:0.6022,  \n",
      "....................................................................................................\n",
      "Epoch: 700, accuracy:0.6542,  binary_crossentropy:0.5876,  loss:0.5876,  val_accuracy:0.6360,  val_binary_crossentropy:0.5987,  val_loss:0.5987,  \n",
      "....................................................................................................\n",
      "Epoch: 800, accuracy:0.6639,  binary_crossentropy:0.5848,  loss:0.5848,  val_accuracy:0.6490,  val_binary_crossentropy:0.5966,  val_loss:0.5966,  \n",
      "....................................................................................................\n",
      "Epoch: 900, accuracy:0.6664,  binary_crossentropy:0.5823,  loss:0.5823,  val_accuracy:0.6430,  val_binary_crossentropy:0.5960,  val_loss:0.5960,  \n",
      "....................................................................................................\n",
      "Epoch: 1000, accuracy:0.6709,  binary_crossentropy:0.5801,  loss:0.5801,  val_accuracy:0.6530,  val_binary_crossentropy:0.5953,  val_loss:0.5953,  \n",
      "....................................................................................................\n",
      "Epoch: 1100, accuracy:0.6679,  binary_crossentropy:0.5789,  loss:0.5789,  val_accuracy:0.6590,  val_binary_crossentropy:0.5948,  val_loss:0.5948,  \n",
      "....................................................................................................\n",
      "Epoch: 1200, accuracy:0.6697,  binary_crossentropy:0.5767,  loss:0.5767,  val_accuracy:0.6480,  val_binary_crossentropy:0.5944,  val_loss:0.5944,  \n",
      "................................................................................................."
     ]
    }
   ],
   "source": [
    "size_histories['Tiny'] = compile_and_fit(tiny_model, 'sizes/Tiny')"
   ]
  },
  {
   "cell_type": "code",
   "execution_count": 19,
   "metadata": {},
   "outputs": [
    {
     "data": {
      "text/plain": [
       "(0.5, 0.7)"
      ]
     },
     "execution_count": 19,
     "metadata": {},
     "output_type": "execute_result"
    },
    {
     "data": {
      "image/png": "[encoded data removed]",
      "text/plain": [
       "<Figure size 432x288 with 1 Axes>"
      ]
     },
     "metadata": {
      "needs_background": "light"
     },
     "output_type": "display_data"
    }
   ],
   "source": [
    "plotter = tfdocs.plots.HistoryPlotter(metric = 'binary_crossentropy', smoothing_std = 10)\n",
    "plotter.plot(size_histories)\n",
    "plt.ylim([0.5, 0.7])"
   ]
  },
  {
   "cell_type": "markdown",
   "metadata": {},
   "source": [
    "Small Model "
   ]
  },
  {
   "cell_type": "code",
   "execution_count": 20,
   "metadata": {},
   "outputs": [],
   "source": [
    "small_model = tf.keras.Sequential([\n",
    "    layers.Dense(16, activation='elu', input_shape = (FEATURES,)),\n",
    "    layers.Dense(16, activation='elu'),\n",
    "    layers.Dense(1)\n",
    "])"
   ]
  },
  {
   "cell_type": "code",
   "execution_count": 21,
   "metadata": {},
   "outputs": [
    {
     "name": "stdout",
     "output_type": "stream",
     "text": [
      "Model: \"sequential_1\"\n",
      "_________________________________________________________________\n",
      "Layer (type)                 Output Shape              Param #   \n",
      "=================================================================\n",
      "dense_2 (Dense)              (None, 16)                464       \n",
      "_________________________________________________________________\n",
      "dense_3 (Dense)              (None, 16)                272       \n",
      "_________________________________________________________________\n",
      "dense_4 (Dense)              (None, 1)                 17        \n",
      "=================================================================\n",
      "Total params: 753\n",
      "Trainable params: 753\n",
      "Non-trainable params: 0\n",
      "_________________________________________________________________\n",
      "\n",
      "Epoch: 0, accuracy:0.5059,  binary_crossentropy:0.7582,  loss:0.7582,  val_accuracy:0.4770,  val_binary_crossentropy:0.7408,  val_loss:0.7408,  \n",
      "....................................................................................................\n",
      "Epoch: 100, accuracy:0.6100,  binary_crossentropy:0.6180,  loss:0.6180,  val_accuracy:0.5790,  val_binary_crossentropy:0.6264,  val_loss:0.6264,  \n",
      "....................................................................................................\n",
      "Epoch: 200, accuracy:0.6634,  binary_crossentropy:0.5870,  loss:0.5870,  val_accuracy:0.6550,  val_binary_crossentropy:0.5956,  val_loss:0.5956,  \n",
      "....................................................................................................\n",
      "Epoch: 300, accuracy:0.6775,  binary_crossentropy:0.5724,  loss:0.5724,  val_accuracy:0.6640,  val_binary_crossentropy:0.5928,  val_loss:0.5928,  \n",
      "....................................................................................................\n",
      "Epoch: 400, accuracy:0.6871,  binary_crossentropy:0.5653,  loss:0.5653,  val_accuracy:0.6510,  val_binary_crossentropy:0.5944,  val_loss:0.5944,  \n",
      "....................................................................................................\n",
      "Epoch: 500, accuracy:0.6997,  binary_crossentropy:0.5571,  loss:0.5571,  val_accuracy:0.6680,  val_binary_crossentropy:0.5906,  val_loss:0.5906,  \n",
      "....................................................................................................\n",
      "Epoch: 600, accuracy:0.7013,  binary_crossentropy:0.5507,  loss:0.5507,  val_accuracy:0.6490,  val_binary_crossentropy:0.5967,  val_loss:0.5967,  \n",
      "....................................................................................................\n",
      "Epoch: 700, accuracy:0.7091,  binary_crossentropy:0.5450,  loss:0.5450,  val_accuracy:0.6860,  val_binary_crossentropy:0.5891,  val_loss:0.5891,  \n",
      "....................................................................................................\n",
      "Epoch: 800, accuracy:0.7077,  binary_crossentropy:0.5411,  loss:0.5411,  val_accuracy:0.6870,  val_binary_crossentropy:0.5887,  val_loss:0.5887,  \n",
      ".................."
     ]
    }
   ],
   "source": [
    "size_histories['Small'] = compile_and_fit(small_model, 'sizes/Small', optimizer = 'adam')"
   ]
  },
  {
   "cell_type": "code",
   "execution_count": 22,
   "metadata": {},
   "outputs": [],
   "source": [
    "medium_model = tf.keras.Sequential([\n",
    "    layers.Dense(64, activation='elu', input_shape=(FEATURES,)),\n",
    "    layers.Dense(64, activation='elu'),\n",
    "    layers.Dense(64, activation='elu'),\n",
    "    layers.Dense(1)\n",
    "])"
   ]
  },
  {
   "cell_type": "code",
   "execution_count": 23,
   "metadata": {},
   "outputs": [
    {
     "name": "stdout",
     "output_type": "stream",
     "text": [
      "Model: \"sequential_2\"\n",
      "_________________________________________________________________\n",
      "Layer (type)                 Output Shape              Param #   \n",
      "=================================================================\n",
      "dense_5 (Dense)              (None, 64)                1856      \n",
      "_________________________________________________________________\n",
      "dense_6 (Dense)              (None, 64)                4160      \n",
      "_________________________________________________________________\n",
      "dense_7 (Dense)              (None, 64)                4160      \n",
      "_________________________________________________________________\n",
      "dense_8 (Dense)              (None, 1)                 65        \n",
      "=================================================================\n",
      "Total params: 10,241\n",
      "Trainable params: 10,241\n",
      "Non-trainable params: 0\n",
      "_________________________________________________________________\n",
      "\n",
      "Epoch: 0, accuracy:0.4915,  binary_crossentropy:0.6931,  loss:0.6931,  val_accuracy:0.4820,  val_binary_crossentropy:0.6840,  val_loss:0.6840,  \n",
      "....................................................................................................\n",
      "Epoch: 100, accuracy:0.7168,  binary_crossentropy:0.5295,  loss:0.5295,  val_accuracy:0.6400,  val_binary_crossentropy:0.6158,  val_loss:0.6158,  \n",
      "....................................................................................................\n",
      "Epoch: 200, accuracy:0.7971,  binary_crossentropy:0.4171,  loss:0.4171,  val_accuracy:0.6290,  val_binary_crossentropy:0.7354,  val_loss:0.7354,  \n",
      "......................................................"
     ]
    }
   ],
   "source": [
    "size_histories['Medium']  = compile_and_fit(medium_model, \"sizes/Medium\", optimizer = 'adam')"
   ]
  },
  {
   "cell_type": "code",
   "execution_count": 24,
   "metadata": {},
   "outputs": [],
   "source": [
    "large_model = tf.keras.Sequential([\n",
    "    layers.Dense(512, activation='elu', input_shape=(FEATURES,)),\n",
    "    layers.Dense(512, activation='elu'),\n",
    "    layers.Dense(512, activation='elu'),\n",
    "    layers.Dense(512, activation='elu'),\n",
    "    layers.Dense(1)\n",
    "])"
   ]
  },
  {
   "cell_type": "code",
   "execution_count": 25,
   "metadata": {},
   "outputs": [
    {
     "name": "stdout",
     "output_type": "stream",
     "text": [
      "Model: \"sequential_3\"\n",
      "_________________________________________________________________\n",
      "Layer (type)                 Output Shape              Param #   \n",
      "=================================================================\n",
      "dense_9 (Dense)              (None, 512)               14848     \n",
      "_________________________________________________________________\n",
      "dense_10 (Dense)             (None, 512)               262656    \n",
      "_________________________________________________________________\n",
      "dense_11 (Dense)             (None, 512)               262656    \n",
      "_________________________________________________________________\n",
      "dense_12 (Dense)             (None, 512)               262656    \n",
      "_________________________________________________________________\n",
      "dense_13 (Dense)             (None, 1)                 513       \n",
      "=================================================================\n",
      "Total params: 803,329\n",
      "Trainable params: 803,329\n",
      "Non-trainable params: 0\n",
      "_________________________________________________________________\n",
      "\n",
      "Epoch: 0, accuracy:0.5076,  binary_crossentropy:0.7847,  loss:0.7847,  val_accuracy:0.4650,  val_binary_crossentropy:0.6810,  val_loss:0.6810,  \n",
      "....................................................................................................\n",
      "Epoch: 100, accuracy:1.0000,  binary_crossentropy:0.0016,  loss:0.0016,  val_accuracy:0.6660,  val_binary_crossentropy:1.8143,  val_loss:1.8143,  \n",
      "....................................................................................................\n",
      "Epoch: 200, accuracy:1.0000,  binary_crossentropy:0.0001,  loss:0.0001,  val_accuracy:0.6610,  val_binary_crossentropy:2.4375,  val_loss:2.4375,  \n",
      "......................."
     ]
    }
   ],
   "source": [
    "size_histories['large'] = compile_and_fit(large_model, \"sizes/large\", optimizer = 'adam')"
   ]
  },
  {
   "cell_type": "code",
   "execution_count": 26,
   "metadata": {},
   "outputs": [
    {
     "data": {
      "text/plain": [
       "Text(0.5, 0, 'Epochs [Log Scale]')"
      ]
     },
     "execution_count": 26,
     "metadata": {},
     "output_type": "execute_result"
    },
    {
     "data": {
      "image/png": "[encoded data removed]",
      "text/plain": [
       "<Figure size 432x288 with 1 Axes>"
      ]
     },
     "metadata": {
      "needs_background": "light"
     },
     "output_type": "display_data"
    }
   ],
   "source": [
    "plotter.plot(size_histories)\n",
    "a = plt.xscale('log')\n",
    "plt.xlim([5, max(plt.xlim())])\n",
    "plt.ylim([0.5, 0.7])\n",
    "plt.xlabel(\"Epochs [Log Scale]\")"
   ]
  },
  {
   "cell_type": "code",
   "execution_count": null,
   "metadata": {},
   "outputs": [],
   "source": []
  }
 ],
 "metadata": {
  "kernelspec": {
   "display_name": "Python 3",
   "language": "python",
   "name": "python3"
  },
  "language_info": {
   "codemirror_mode": {
    "name": "ipython",
    "version": 3
   },
   "file_extension": ".py",
   "mimetype": "text/x-python",
   "name": "python",
   "nbconvert_exporter": "python",
   "pygments_lexer": "ipython3",
   "version": "3.7.6"
  }
 },
 "nbformat": 4,
 "nbformat_minor": 4
}
