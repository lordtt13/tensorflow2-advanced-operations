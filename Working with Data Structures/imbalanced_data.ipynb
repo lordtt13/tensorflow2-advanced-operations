{
 "cells": [
  {
   "cell_type": "code",
   "execution_count": 1,
   "metadata": {},
   "outputs": [],
   "source": [
    "import os\n",
    "import sklearn\n",
    "import tempfile\n",
    "\n",
    "import numpy as np\n",
    "import pandas as pd\n",
    "import seaborn as sns\n",
    "import tensorflow as tf\n",
    "import matplotlib as mpl\n",
    "import matplotlib.pyplot as plt\n",
    "\n",
    "from tensorflow import keras\n",
    "from sklearn.metrics import confusion_matrix\n",
    "from sklearn.preprocessing import StandardScaler\n",
    "from sklearn.model_selection import train_test_split"
   ]
  },
  {
   "cell_type": "code",
   "execution_count": 2,
   "metadata": {},
   "outputs": [],
   "source": [
    "mpl.rcParams['figure.figsize'] = (12, 10)\n",
    "colors = plt.rcParams['axes.prop_cycle'].by_key()['color']"
   ]
  },
  {
   "cell_type": "code",
   "execution_count": 3,
   "metadata": {},
   "outputs": [
    {
     "data": {
      "text/html": [
       "<div>\n",
       "<style scoped>\n",
       "    .dataframe tbody tr th:only-of-type {\n",
       "        vertical-align: middle;\n",
       "    }\n",
       "\n",
       "    .dataframe tbody tr th {\n",
       "        vertical-align: top;\n",
       "    }\n",
       "\n",
       "    .dataframe thead th {\n",
       "        text-align: right;\n",
       "    }\n",
       "</style>\n",
       "<table border=\"1\" class=\"dataframe\">\n",
       "  <thead>\n",
       "    <tr style=\"text-align: right;\">\n",
       "      <th></th>\n",
       "      <th>Time</th>\n",
       "      <th>V1</th>\n",
       "      <th>V2</th>\n",
       "      <th>V3</th>\n",
       "      <th>V4</th>\n",
       "      <th>V5</th>\n",
       "      <th>V6</th>\n",
       "      <th>V7</th>\n",
       "      <th>V8</th>\n",
       "      <th>V9</th>\n",
       "      <th>...</th>\n",
       "      <th>V21</th>\n",
       "      <th>V22</th>\n",
       "      <th>V23</th>\n",
       "      <th>V24</th>\n",
       "      <th>V25</th>\n",
       "      <th>V26</th>\n",
       "      <th>V27</th>\n",
       "      <th>V28</th>\n",
       "      <th>Amount</th>\n",
       "      <th>Class</th>\n",
       "    </tr>\n",
       "  </thead>\n",
       "  <tbody>\n",
       "    <tr>\n",
       "      <th>0</th>\n",
       "      <td>0.0</td>\n",
       "      <td>-1.359807</td>\n",
       "      <td>-0.072781</td>\n",
       "      <td>2.536347</td>\n",
       "      <td>1.378155</td>\n",
       "      <td>-0.338321</td>\n",
       "      <td>0.462388</td>\n",
       "      <td>0.239599</td>\n",
       "      <td>0.098698</td>\n",
       "      <td>0.363787</td>\n",
       "      <td>...</td>\n",
       "      <td>-0.018307</td>\n",
       "      <td>0.277838</td>\n",
       "      <td>-0.110474</td>\n",
       "      <td>0.066928</td>\n",
       "      <td>0.128539</td>\n",
       "      <td>-0.189115</td>\n",
       "      <td>0.133558</td>\n",
       "      <td>-0.021053</td>\n",
       "      <td>149.62</td>\n",
       "      <td>0</td>\n",
       "    </tr>\n",
       "    <tr>\n",
       "      <th>1</th>\n",
       "      <td>0.0</td>\n",
       "      <td>1.191857</td>\n",
       "      <td>0.266151</td>\n",
       "      <td>0.166480</td>\n",
       "      <td>0.448154</td>\n",
       "      <td>0.060018</td>\n",
       "      <td>-0.082361</td>\n",
       "      <td>-0.078803</td>\n",
       "      <td>0.085102</td>\n",
       "      <td>-0.255425</td>\n",
       "      <td>...</td>\n",
       "      <td>-0.225775</td>\n",
       "      <td>-0.638672</td>\n",
       "      <td>0.101288</td>\n",
       "      <td>-0.339846</td>\n",
       "      <td>0.167170</td>\n",
       "      <td>0.125895</td>\n",
       "      <td>-0.008983</td>\n",
       "      <td>0.014724</td>\n",
       "      <td>2.69</td>\n",
       "      <td>0</td>\n",
       "    </tr>\n",
       "    <tr>\n",
       "      <th>2</th>\n",
       "      <td>1.0</td>\n",
       "      <td>-1.358354</td>\n",
       "      <td>-1.340163</td>\n",
       "      <td>1.773209</td>\n",
       "      <td>0.379780</td>\n",
       "      <td>-0.503198</td>\n",
       "      <td>1.800499</td>\n",
       "      <td>0.791461</td>\n",
       "      <td>0.247676</td>\n",
       "      <td>-1.514654</td>\n",
       "      <td>...</td>\n",
       "      <td>0.247998</td>\n",
       "      <td>0.771679</td>\n",
       "      <td>0.909412</td>\n",
       "      <td>-0.689281</td>\n",
       "      <td>-0.327642</td>\n",
       "      <td>-0.139097</td>\n",
       "      <td>-0.055353</td>\n",
       "      <td>-0.059752</td>\n",
       "      <td>378.66</td>\n",
       "      <td>0</td>\n",
       "    </tr>\n",
       "    <tr>\n",
       "      <th>3</th>\n",
       "      <td>1.0</td>\n",
       "      <td>-0.966272</td>\n",
       "      <td>-0.185226</td>\n",
       "      <td>1.792993</td>\n",
       "      <td>-0.863291</td>\n",
       "      <td>-0.010309</td>\n",
       "      <td>1.247203</td>\n",
       "      <td>0.237609</td>\n",
       "      <td>0.377436</td>\n",
       "      <td>-1.387024</td>\n",
       "      <td>...</td>\n",
       "      <td>-0.108300</td>\n",
       "      <td>0.005274</td>\n",
       "      <td>-0.190321</td>\n",
       "      <td>-1.175575</td>\n",
       "      <td>0.647376</td>\n",
       "      <td>-0.221929</td>\n",
       "      <td>0.062723</td>\n",
       "      <td>0.061458</td>\n",
       "      <td>123.50</td>\n",
       "      <td>0</td>\n",
       "    </tr>\n",
       "    <tr>\n",
       "      <th>4</th>\n",
       "      <td>2.0</td>\n",
       "      <td>-1.158233</td>\n",
       "      <td>0.877737</td>\n",
       "      <td>1.548718</td>\n",
       "      <td>0.403034</td>\n",
       "      <td>-0.407193</td>\n",
       "      <td>0.095921</td>\n",
       "      <td>0.592941</td>\n",
       "      <td>-0.270533</td>\n",
       "      <td>0.817739</td>\n",
       "      <td>...</td>\n",
       "      <td>-0.009431</td>\n",
       "      <td>0.798278</td>\n",
       "      <td>-0.137458</td>\n",
       "      <td>0.141267</td>\n",
       "      <td>-0.206010</td>\n",
       "      <td>0.502292</td>\n",
       "      <td>0.219422</td>\n",
       "      <td>0.215153</td>\n",
       "      <td>69.99</td>\n",
       "      <td>0</td>\n",
       "    </tr>\n",
       "  </tbody>\n",
       "</table>\n",
       "<p>5 rows × 31 columns</p>\n",
       "</div>"
      ],
      "text/plain": [
       "   Time        V1        V2        V3        V4        V5        V6        V7  \\\n",
       "0   0.0 -1.359807 -0.072781  2.536347  1.378155 -0.338321  0.462388  0.239599   \n",
       "1   0.0  1.191857  0.266151  0.166480  0.448154  0.060018 -0.082361 -0.078803   \n",
       "2   1.0 -1.358354 -1.340163  1.773209  0.379780 -0.503198  1.800499  0.791461   \n",
       "3   1.0 -0.966272 -0.185226  1.792993 -0.863291 -0.010309  1.247203  0.237609   \n",
       "4   2.0 -1.158233  0.877737  1.548718  0.403034 -0.407193  0.095921  0.592941   \n",
       "\n",
       "         V8        V9  ...       V21       V22       V23       V24       V25  \\\n",
       "0  0.098698  0.363787  ... -0.018307  0.277838 -0.110474  0.066928  0.128539   \n",
       "1  0.085102 -0.255425  ... -0.225775 -0.638672  0.101288 -0.339846  0.167170   \n",
       "2  0.247676 -1.514654  ...  0.247998  0.771679  0.909412 -0.689281 -0.327642   \n",
       "3  0.377436 -1.387024  ... -0.108300  0.005274 -0.190321 -1.175575  0.647376   \n",
       "4 -0.270533  0.817739  ... -0.009431  0.798278 -0.137458  0.141267 -0.206010   \n",
       "\n",
       "        V26       V27       V28  Amount  Class  \n",
       "0 -0.189115  0.133558 -0.021053  149.62      0  \n",
       "1  0.125895 -0.008983  0.014724    2.69      0  \n",
       "2 -0.139097 -0.055353 -0.059752  378.66      0  \n",
       "3 -0.221929  0.062723  0.061458  123.50      0  \n",
       "4  0.502292  0.219422  0.215153   69.99      0  \n",
       "\n",
       "[5 rows x 31 columns]"
      ]
     },
     "execution_count": 3,
     "metadata": {},
     "output_type": "execute_result"
    }
   ],
   "source": [
    "# Kaggle Credit Card Fraud data set\n",
    "\n",
    "file = tf.keras.utils\n",
    "raw_df = pd.read_csv('https://storage.googleapis.com/download.tensorflow.org/data/creditcard.csv')\n",
    "raw_df.head()"
   ]
  },
  {
   "cell_type": "code",
   "execution_count": 4,
   "metadata": {},
   "outputs": [
    {
     "data": {
      "text/html": [
       "<div>\n",
       "<style scoped>\n",
       "    .dataframe tbody tr th:only-of-type {\n",
       "        vertical-align: middle;\n",
       "    }\n",
       "\n",
       "    .dataframe tbody tr th {\n",
       "        vertical-align: top;\n",
       "    }\n",
       "\n",
       "    .dataframe thead th {\n",
       "        text-align: right;\n",
       "    }\n",
       "</style>\n",
       "<table border=\"1\" class=\"dataframe\">\n",
       "  <thead>\n",
       "    <tr style=\"text-align: right;\">\n",
       "      <th></th>\n",
       "      <th>Time</th>\n",
       "      <th>V1</th>\n",
       "      <th>V2</th>\n",
       "      <th>V3</th>\n",
       "      <th>V4</th>\n",
       "      <th>V5</th>\n",
       "      <th>V26</th>\n",
       "      <th>V27</th>\n",
       "      <th>V28</th>\n",
       "      <th>Amount</th>\n",
       "      <th>Class</th>\n",
       "    </tr>\n",
       "  </thead>\n",
       "  <tbody>\n",
       "    <tr>\n",
       "      <th>count</th>\n",
       "      <td>284807.000000</td>\n",
       "      <td>2.848070e+05</td>\n",
       "      <td>2.848070e+05</td>\n",
       "      <td>2.848070e+05</td>\n",
       "      <td>2.848070e+05</td>\n",
       "      <td>2.848070e+05</td>\n",
       "      <td>2.848070e+05</td>\n",
       "      <td>2.848070e+05</td>\n",
       "      <td>2.848070e+05</td>\n",
       "      <td>284807.000000</td>\n",
       "      <td>284807.000000</td>\n",
       "    </tr>\n",
       "    <tr>\n",
       "      <th>mean</th>\n",
       "      <td>94813.859575</td>\n",
       "      <td>3.919560e-15</td>\n",
       "      <td>5.688174e-16</td>\n",
       "      <td>-8.769071e-15</td>\n",
       "      <td>2.782312e-15</td>\n",
       "      <td>-1.552563e-15</td>\n",
       "      <td>1.699104e-15</td>\n",
       "      <td>-3.660161e-16</td>\n",
       "      <td>-1.206049e-16</td>\n",
       "      <td>88.349619</td>\n",
       "      <td>0.001727</td>\n",
       "    </tr>\n",
       "    <tr>\n",
       "      <th>std</th>\n",
       "      <td>47488.145955</td>\n",
       "      <td>1.958696e+00</td>\n",
       "      <td>1.651309e+00</td>\n",
       "      <td>1.516255e+00</td>\n",
       "      <td>1.415869e+00</td>\n",
       "      <td>1.380247e+00</td>\n",
       "      <td>4.822270e-01</td>\n",
       "      <td>4.036325e-01</td>\n",
       "      <td>3.300833e-01</td>\n",
       "      <td>250.120109</td>\n",
       "      <td>0.041527</td>\n",
       "    </tr>\n",
       "    <tr>\n",
       "      <th>min</th>\n",
       "      <td>0.000000</td>\n",
       "      <td>-5.640751e+01</td>\n",
       "      <td>-7.271573e+01</td>\n",
       "      <td>-4.832559e+01</td>\n",
       "      <td>-5.683171e+00</td>\n",
       "      <td>-1.137433e+02</td>\n",
       "      <td>-2.604551e+00</td>\n",
       "      <td>-2.256568e+01</td>\n",
       "      <td>-1.543008e+01</td>\n",
       "      <td>0.000000</td>\n",
       "      <td>0.000000</td>\n",
       "    </tr>\n",
       "    <tr>\n",
       "      <th>25%</th>\n",
       "      <td>54201.500000</td>\n",
       "      <td>-9.203734e-01</td>\n",
       "      <td>-5.985499e-01</td>\n",
       "      <td>-8.903648e-01</td>\n",
       "      <td>-8.486401e-01</td>\n",
       "      <td>-6.915971e-01</td>\n",
       "      <td>-3.269839e-01</td>\n",
       "      <td>-7.083953e-02</td>\n",
       "      <td>-5.295979e-02</td>\n",
       "      <td>5.600000</td>\n",
       "      <td>0.000000</td>\n",
       "    </tr>\n",
       "    <tr>\n",
       "      <th>50%</th>\n",
       "      <td>84692.000000</td>\n",
       "      <td>1.810880e-02</td>\n",
       "      <td>6.548556e-02</td>\n",
       "      <td>1.798463e-01</td>\n",
       "      <td>-1.984653e-02</td>\n",
       "      <td>-5.433583e-02</td>\n",
       "      <td>-5.213911e-02</td>\n",
       "      <td>1.342146e-03</td>\n",
       "      <td>1.124383e-02</td>\n",
       "      <td>22.000000</td>\n",
       "      <td>0.000000</td>\n",
       "    </tr>\n",
       "    <tr>\n",
       "      <th>75%</th>\n",
       "      <td>139320.500000</td>\n",
       "      <td>1.315642e+00</td>\n",
       "      <td>8.037239e-01</td>\n",
       "      <td>1.027196e+00</td>\n",
       "      <td>7.433413e-01</td>\n",
       "      <td>6.119264e-01</td>\n",
       "      <td>2.409522e-01</td>\n",
       "      <td>9.104512e-02</td>\n",
       "      <td>7.827995e-02</td>\n",
       "      <td>77.165000</td>\n",
       "      <td>0.000000</td>\n",
       "    </tr>\n",
       "    <tr>\n",
       "      <th>max</th>\n",
       "      <td>172792.000000</td>\n",
       "      <td>2.454930e+00</td>\n",
       "      <td>2.205773e+01</td>\n",
       "      <td>9.382558e+00</td>\n",
       "      <td>1.687534e+01</td>\n",
       "      <td>3.480167e+01</td>\n",
       "      <td>3.517346e+00</td>\n",
       "      <td>3.161220e+01</td>\n",
       "      <td>3.384781e+01</td>\n",
       "      <td>25691.160000</td>\n",
       "      <td>1.000000</td>\n",
       "    </tr>\n",
       "  </tbody>\n",
       "</table>\n",
       "</div>"
      ],
      "text/plain": [
       "                Time            V1            V2            V3            V4  \\\n",
       "count  284807.000000  2.848070e+05  2.848070e+05  2.848070e+05  2.848070e+05   \n",
       "mean    94813.859575  3.919560e-15  5.688174e-16 -8.769071e-15  2.782312e-15   \n",
       "std     47488.145955  1.958696e+00  1.651309e+00  1.516255e+00  1.415869e+00   \n",
       "min         0.000000 -5.640751e+01 -7.271573e+01 -4.832559e+01 -5.683171e+00   \n",
       "25%     54201.500000 -9.203734e-01 -5.985499e-01 -8.903648e-01 -8.486401e-01   \n",
       "50%     84692.000000  1.810880e-02  6.548556e-02  1.798463e-01 -1.984653e-02   \n",
       "75%    139320.500000  1.315642e+00  8.037239e-01  1.027196e+00  7.433413e-01   \n",
       "max    172792.000000  2.454930e+00  2.205773e+01  9.382558e+00  1.687534e+01   \n",
       "\n",
       "                 V5           V26           V27           V28         Amount  \\\n",
       "count  2.848070e+05  2.848070e+05  2.848070e+05  2.848070e+05  284807.000000   \n",
       "mean  -1.552563e-15  1.699104e-15 -3.660161e-16 -1.206049e-16      88.349619   \n",
       "std    1.380247e+00  4.822270e-01  4.036325e-01  3.300833e-01     250.120109   \n",
       "min   -1.137433e+02 -2.604551e+00 -2.256568e+01 -1.543008e+01       0.000000   \n",
       "25%   -6.915971e-01 -3.269839e-01 -7.083953e-02 -5.295979e-02       5.600000   \n",
       "50%   -5.433583e-02 -5.213911e-02  1.342146e-03  1.124383e-02      22.000000   \n",
       "75%    6.119264e-01  2.409522e-01  9.104512e-02  7.827995e-02      77.165000   \n",
       "max    3.480167e+01  3.517346e+00  3.161220e+01  3.384781e+01   25691.160000   \n",
       "\n",
       "               Class  \n",
       "count  284807.000000  \n",
       "mean        0.001727  \n",
       "std         0.041527  \n",
       "min         0.000000  \n",
       "25%         0.000000  \n",
       "50%         0.000000  \n",
       "75%         0.000000  \n",
       "max         1.000000  "
      ]
     },
     "execution_count": 4,
     "metadata": {},
     "output_type": "execute_result"
    }
   ],
   "source": [
    "raw_df[['Time', 'V1', 'V2', 'V3', 'V4', 'V5', 'V26', 'V27', 'V28', 'Amount', 'Class']].describe()"
   ]
  },
  {
   "cell_type": "code",
   "execution_count": 5,
   "metadata": {},
   "outputs": [
    {
     "name": "stdout",
     "output_type": "stream",
     "text": [
      "Examples:\n",
      "    Total: 284807\n",
      "    Positive: 492 (0.17% of total)\n",
      "\n"
     ]
    }
   ],
   "source": [
    "# Examine the class label imbalance\n",
    "\n",
    "neg, pos = np.bincount(raw_df['Class'])\n",
    "total = neg + pos\n",
    "print('Examples:\\n    Total: {}\\n    Positive: {} ({:.2f}% of total)\\n'.format(\n",
    "    total, pos, 100 * pos / total))"
   ]
  },
  {
   "cell_type": "code",
   "execution_count": 6,
   "metadata": {},
   "outputs": [],
   "source": [
    "# Clean, split and normalize the data\n",
    "\n",
    "cleaned_df = raw_df.copy()\n",
    "\n",
    "cleaned_df.pop('Time')\n",
    "\n",
    "eps = 0.001 \n",
    "cleaned_df['Log Ammount'] = np.log(cleaned_df.pop('Amount') + eps)"
   ]
  },
  {
   "cell_type": "code",
   "execution_count": 7,
   "metadata": {},
   "outputs": [],
   "source": [
    "train_df, test_df = train_test_split(cleaned_df, test_size = 0.2)\n",
    "train_df, val_df = train_test_split(train_df, test_size = 0.2)\n",
    "\n",
    "train_labels = np.array(train_df.pop('Class'))\n",
    "bool_train_labels = train_labels != 0\n",
    "val_labels = np.array(val_df.pop('Class'))\n",
    "test_labels = np.array(test_df.pop('Class'))\n",
    "\n",
    "train_features = np.array(train_df)\n",
    "val_features = np.array(val_df)\n",
    "test_features = np.array(test_df)"
   ]
  },
  {
   "cell_type": "code",
   "execution_count": 8,
   "metadata": {},
   "outputs": [
    {
     "name": "stdout",
     "output_type": "stream",
     "text": [
      "Training labels shape: (182276,)\n",
      "Validation labels shape: (45569,)\n",
      "Test labels shape: (56962,)\n",
      "Training features shape: (182276, 29)\n",
      "Validation features shape: (45569, 29)\n",
      "Test features shape: (56962, 29)\n"
     ]
    }
   ],
   "source": [
    "scaler = StandardScaler()\n",
    "train_features = scaler.fit_transform(train_features)\n",
    "\n",
    "val_features = scaler.transform(val_features)\n",
    "test_features = scaler.transform(test_features)\n",
    "\n",
    "train_features = np.clip(train_features, -5, 5)\n",
    "val_features = np.clip(val_features, -5, 5)\n",
    "test_features = np.clip(test_features, -5, 5)\n",
    "\n",
    "\n",
    "print('Training labels shape:', train_labels.shape)\n",
    "print('Validation labels shape:', val_labels.shape)\n",
    "print('Test labels shape:', test_labels.shape)\n",
    "\n",
    "print('Training features shape:', train_features.shape)\n",
    "print('Validation features shape:', val_features.shape)\n",
    "print('Test features shape:', test_features.shape)"
   ]
  },
  {
   "cell_type": "code",
   "execution_count": 9,
   "metadata": {},
   "outputs": [
    {
     "data": {
      "image/png": "[encoded data removed]",
      "text/plain": [
       "<Figure size 432x432 with 3 Axes>"
      ]
     },
     "metadata": {
      "needs_background": "light"
     },
     "output_type": "display_data"
    },
    {
     "data": {
      "image/png": "[encoded data removed]",
      "text/plain": [
       "<Figure size 432x432 with 3 Axes>"
      ]
     },
     "metadata": {
      "needs_background": "light"
     },
     "output_type": "display_data"
    }
   ],
   "source": [
    "# Look at the data distribution\n",
    "\n",
    "pos_df = pd.DataFrame(train_features[ bool_train_labels], columns = train_df.columns)\n",
    "neg_df = pd.DataFrame(train_features[~bool_train_labels], columns = train_df.columns)\n",
    "\n",
    "sns.jointplot(pos_df['V5'], pos_df['V6'],\n",
    "              kind='hex', xlim = (-5,5), ylim = (-5,5))\n",
    "plt.suptitle(\"Positive distribution\")\n",
    "\n",
    "sns.jointplot(neg_df['V5'], neg_df['V6'],\n",
    "              kind='hex', xlim = (-5,5), ylim = (-5,5))\n",
    "_ = plt.suptitle(\"Negative distribution\")"
   ]
  },
  {
   "cell_type": "code",
   "execution_count": 10,
   "metadata": {},
   "outputs": [],
   "source": [
    "# Define Model and Metrics\n",
    "\n",
    "METRICS = [\n",
    "      keras.metrics.TruePositives(name = 'tp'),\n",
    "      keras.metrics.FalsePositives(name = 'fp'),\n",
    "      keras.metrics.TrueNegatives(name = 'tn'),\n",
    "      keras.metrics.FalseNegatives(name = 'fn'), \n",
    "      keras.metrics.BinaryAccuracy(name = 'accuracy'),\n",
    "      keras.metrics.Precision(name = 'precision'),\n",
    "      keras.metrics.Recall(name = 'recall'),\n",
    "      keras.metrics.AUC(name = 'auc'),\n",
    "]\n",
    "\n",
    "def make_model(metrics = METRICS, output_bias = None):\n",
    "  if output_bias is not None:\n",
    "    output_bias = tf.keras.initializers.Constant(output_bias)\n",
    "  model = keras.Sequential([\n",
    "      keras.layers.Dense(\n",
    "          16, activation = 'relu',\n",
    "          input_shape = (train_features.shape[-1],)),\n",
    "      keras.layers.Dropout(0.5),\n",
    "      keras.layers.Dense(1, activation = 'sigmoid',\n",
    "                         bias_initializer = output_bias),\n",
    "  ])\n",
    "\n",
    "  model.compile(\n",
    "      optimizer = keras.optimizers.Adam(lr = 1e-3),\n",
    "      loss = keras.losses.BinaryCrossentropy(),\n",
    "      metrics = metrics)\n",
    "\n",
    "  return model"
   ]
  },
  {
   "cell_type": "code",
   "execution_count": 11,
   "metadata": {},
   "outputs": [],
   "source": [
    "EPOCHS = 100\n",
    "BATCH_SIZE = 2048\n",
    "\n",
    "early_stopping = tf.keras.callbacks.EarlyStopping(\n",
    "    monitor = 'val_auc', \n",
    "    verbose = 1,\n",
    "    patience = 10,\n",
    "    mode = 'max',\n",
    "    restore_best_weights = True)"
   ]
  },
  {
   "cell_type": "code",
   "execution_count": 12,
   "metadata": {},
   "outputs": [
    {
     "name": "stdout",
     "output_type": "stream",
     "text": [
      "Model: \"sequential\"\n",
      "_________________________________________________________________\n",
      "Layer (type)                 Output Shape              Param #   \n",
      "=================================================================\n",
      "dense (Dense)                (None, 16)                480       \n",
      "_________________________________________________________________\n",
      "dropout (Dropout)            (None, 16)                0         \n",
      "_________________________________________________________________\n",
      "dense_1 (Dense)              (None, 1)                 17        \n",
      "=================================================================\n",
      "Total params: 497\n",
      "Trainable params: 497\n",
      "Non-trainable params: 0\n",
      "_________________________________________________________________\n"
     ]
    }
   ],
   "source": [
    "model = make_model()\n",
    "model.summary()"
   ]
  },
  {
   "cell_type": "code",
   "execution_count": 13,
   "metadata": {},
   "outputs": [
    {
     "name": "stdout",
     "output_type": "stream",
     "text": [
      "Loss: 1.0298\n"
     ]
    }
   ],
   "source": [
    "# See initial bias\n",
    "\n",
    "results = model.evaluate(train_features, train_labels, batch_size = BATCH_SIZE, verbose = 0)\n",
    "print(\"Loss: {:0.4f}\".format(results[0]))"
   ]
  },
  {
   "cell_type": "code",
   "execution_count": 14,
   "metadata": {},
   "outputs": [
    {
     "data": {
      "text/plain": [
       "array([-6.35935934])"
      ]
     },
     "execution_count": 14,
     "metadata": {},
     "output_type": "execute_result"
    }
   ],
   "source": [
    "initial_bias = np.log([pos/neg])\n",
    "initial_bias"
   ]
  },
  {
   "cell_type": "code",
   "execution_count": 15,
   "metadata": {},
   "outputs": [
    {
     "data": {
      "text/plain": [
       "array([[0.00069092],\n",
       "       [0.00271642],\n",
       "       [0.00053418],\n",
       "       [0.00381093],\n",
       "       [0.00286679],\n",
       "       [0.00095032],\n",
       "       [0.00141693],\n",
       "       [0.00147439],\n",
       "       [0.00109427],\n",
       "       [0.00207754]], dtype=float32)"
      ]
     },
     "execution_count": 15,
     "metadata": {},
     "output_type": "execute_result"
    }
   ],
   "source": [
    "model = make_model(output_bias = initial_bias)\n",
    "model.predict(train_features[:10])"
   ]
  },
  {
   "cell_type": "code",
   "execution_count": 16,
   "metadata": {},
   "outputs": [
    {
     "name": "stdout",
     "output_type": "stream",
     "text": [
      "Loss: 0.0120\n"
     ]
    }
   ],
   "source": [
    "results = model.evaluate(train_features, train_labels, batch_size = BATCH_SIZE, verbose = 0)\n",
    "print(\"Loss: {:0.4f}\".format(results[0]))"
   ]
  },
  {
   "cell_type": "code",
   "execution_count": 17,
   "metadata": {},
   "outputs": [],
   "source": [
    "# Checkpoint weights\n",
    "\n",
    "initial_weights = os.path.join(tempfile.mkdtemp(),'initial_weights')\n",
    "model.save_weights(initial_weights)"
   ]
  },
  {
   "cell_type": "code",
   "execution_count": 18,
   "metadata": {},
   "outputs": [],
   "source": [
    "model = make_model()\n",
    "model.load_weights(initial_weights)\n",
    "model.layers[-1].bias.assign([0.0])\n",
    "zero_bias_history = model.fit(\n",
    "    train_features,\n",
    "    train_labels,\n",
    "    batch_size = BATCH_SIZE,\n",
    "    epochs = 20,\n",
    "    validation_data = (val_features, val_labels), \n",
    "    verbose = 0)"
   ]
  },
  {
   "cell_type": "code",
   "execution_count": 19,
   "metadata": {},
   "outputs": [],
   "source": [
    "model = make_model()\n",
    "model.load_weights(initial_weights)\n",
    "careful_bias_history = model.fit(\n",
    "    train_features,\n",
    "    train_labels,\n",
    "    batch_size = BATCH_SIZE,\n",
    "    epochs = 20,\n",
    "    validation_data = (val_features, val_labels), \n",
    "    verbose = 0)"
   ]
  },
  {
   "cell_type": "code",
   "execution_count": 20,
   "metadata": {},
   "outputs": [],
   "source": [
    "def plot_loss(history, label, n):\n",
    "  # Use a log scale to show the wide range of values.\n",
    "  plt.semilogy(history.epoch,  history.history['loss'],\n",
    "               color = colors[n], label = 'Train '+label)\n",
    "  plt.semilogy(history.epoch,  history.history['val_loss'],\n",
    "          color = colors[n], label = 'Val '+label,\n",
    "          linestyle = \"--\")\n",
    "  plt.xlabel('Epoch')\n",
    "  plt.ylabel('Loss')\n",
    "  \n",
    "  plt.legend()"
   ]
  },
  {
   "cell_type": "code",
   "execution_count": 21,
   "metadata": {},
   "outputs": [
    {
     "data": {
      "image/png": "[encoded data removed]",
      "text/plain": [
       "<Figure size 864x720 with 1 Axes>"
      ]
     },
     "metadata": {
      "needs_background": "light"
     },
     "output_type": "display_data"
    }
   ],
   "source": [
    "plot_loss(zero_bias_history, \"Zero Bias\", 0)\n",
    "plot_loss(careful_bias_history, \"Careful Bias\", 1)"
   ]
  },
  {
   "cell_type": "code",
   "execution_count": 22,
   "metadata": {},
   "outputs": [
    {
     "name": "stdout",
     "output_type": "stream",
     "text": [
      "Train on 182276 samples, validate on 45569 samples\n",
      "Epoch 1/100\n",
      "182276/182276 [==============================] - 3s 15us/sample - loss: 0.0106 - tp: 45.0000 - fp: 55.0000 - tn: 181889.0000 - fn: 287.0000 - accuracy: 0.9981 - precision: 0.4500 - recall: 0.1355 - auc: 0.7798 - val_loss: 0.0058 - val_tp: 8.0000 - val_fp: 0.0000e+00 - val_tn: 45497.0000 - val_fn: 64.0000 - val_accuracy: 0.9986 - val_precision: 1.0000 - val_recall: 0.1111 - val_auc: 0.9299\n",
      "Epoch 2/100\n",
      "182276/182276 [==============================] - 1s 4us/sample - loss: 0.0077 - tp: 105.0000 - fp: 25.0000 - tn: 181919.0000 - fn: 227.0000 - accuracy: 0.9986 - precision: 0.8077 - recall: 0.3163 - auc: 0.8538 - val_loss: 0.0042 - val_tp: 28.0000 - val_fp: 5.0000 - val_tn: 45492.0000 - val_fn: 44.0000 - val_accuracy: 0.9989 - val_precision: 0.8485 - val_recall: 0.3889 - val_auc: 0.9233\n",
      "Epoch 3/100\n",
      "182276/182276 [==============================] - 1s 4us/sample - loss: 0.0066 - tp: 139.0000 - fp: 20.0000 - tn: 181924.0000 - fn: 193.0000 - accuracy: 0.9988 - precision: 0.8742 - recall: 0.4187 - auc: 0.8686 - val_loss: 0.0037 - val_tp: 35.0000 - val_fp: 5.0000 - val_tn: 45492.0000 - val_fn: 37.0000 - val_accuracy: 0.9991 - val_precision: 0.8750 - val_recall: 0.4861 - val_auc: 0.9233\n",
      "Epoch 4/100\n",
      "182276/182276 [==============================] - 1s 4us/sample - loss: 0.0065 - tp: 149.0000 - fp: 26.0000 - tn: 181918.0000 - fn: 183.0000 - accuracy: 0.9989 - precision: 0.8514 - recall: 0.4488 - auc: 0.8481 - val_loss: 0.0034 - val_tp: 41.0000 - val_fp: 5.0000 - val_tn: 45492.0000 - val_fn: 31.0000 - val_accuracy: 0.9992 - val_precision: 0.8913 - val_recall: 0.5694 - val_auc: 0.9304\n",
      "Epoch 5/100\n",
      "182276/182276 [==============================] - 1s 4us/sample - loss: 0.0055 - tp: 187.0000 - fp: 22.0000 - tn: 181922.0000 - fn: 145.0000 - accuracy: 0.9991 - precision: 0.8947 - recall: 0.5633 - auc: 0.8762 - val_loss: 0.0032 - val_tp: 50.0000 - val_fp: 5.0000 - val_tn: 45492.0000 - val_fn: 22.0000 - val_accuracy: 0.9994 - val_precision: 0.9091 - val_recall: 0.6944 - val_auc: 0.9303\n",
      "Epoch 6/100\n",
      "182276/182276 [==============================] - 1s 4us/sample - loss: 0.0058 - tp: 163.0000 - fp: 25.0000 - tn: 181919.0000 - fn: 169.0000 - accuracy: 0.9989 - precision: 0.8670 - recall: 0.4910 - auc: 0.8915 - val_loss: 0.0031 - val_tp: 54.0000 - val_fp: 7.0000 - val_tn: 45490.0000 - val_fn: 18.0000 - val_accuracy: 0.9995 - val_precision: 0.8852 - val_recall: 0.7500 - val_auc: 0.9304\n",
      "Epoch 7/100\n",
      "182276/182276 [==============================] - 1s 4us/sample - loss: 0.0056 - tp: 175.0000 - fp: 28.0000 - tn: 181916.0000 - fn: 157.0000 - accuracy: 0.9990 - precision: 0.8621 - recall: 0.5271 - auc: 0.8932 - val_loss: 0.0030 - val_tp: 56.0000 - val_fp: 7.0000 - val_tn: 45490.0000 - val_fn: 16.0000 - val_accuracy: 0.9995 - val_precision: 0.8889 - val_recall: 0.7778 - val_auc: 0.9304\n",
      "Epoch 8/100\n",
      "182276/182276 [==============================] - 1s 4us/sample - loss: 0.0052 - tp: 188.0000 - fp: 28.0000 - tn: 181916.0000 - fn: 144.0000 - accuracy: 0.9991 - precision: 0.8704 - recall: 0.5663 - auc: 0.8965 - val_loss: 0.0029 - val_tp: 56.0000 - val_fp: 7.0000 - val_tn: 45490.0000 - val_fn: 16.0000 - val_accuracy: 0.9995 - val_precision: 0.8889 - val_recall: 0.7778 - val_auc: 0.9304\n",
      "Epoch 9/100\n",
      "182276/182276 [==============================] - 1s 4us/sample - loss: 0.0054 - tp: 162.0000 - fp: 27.0000 - tn: 181917.0000 - fn: 170.0000 - accuracy: 0.9989 - precision: 0.8571 - recall: 0.4880 - auc: 0.9010 - val_loss: 0.0029 - val_tp: 56.0000 - val_fp: 7.0000 - val_tn: 45490.0000 - val_fn: 16.0000 - val_accuracy: 0.9995 - val_precision: 0.8889 - val_recall: 0.7778 - val_auc: 0.9304\n",
      "Epoch 10/100\n",
      "182276/182276 [==============================] - 1s 6us/sample - loss: 0.0051 - tp: 169.0000 - fp: 29.0000 - tn: 181915.0000 - fn: 163.0000 - accuracy: 0.9989 - precision: 0.8535 - recall: 0.5090 - auc: 0.8980 - val_loss: 0.0028 - val_tp: 57.0000 - val_fp: 7.0000 - val_tn: 45490.0000 - val_fn: 15.0000 - val_accuracy: 0.9995 - val_precision: 0.8906 - val_recall: 0.7917 - val_auc: 0.9304\n",
      "Epoch 11/100\n",
      "182276/182276 [==============================] - 1s 5us/sample - loss: 0.0050 - tp: 179.0000 - fp: 33.0000 - tn: 181911.0000 - fn: 153.0000 - accuracy: 0.9990 - precision: 0.8443 - recall: 0.5392 - auc: 0.9010 - val_loss: 0.0028 - val_tp: 57.0000 - val_fp: 7.0000 - val_tn: 45490.0000 - val_fn: 15.0000 - val_accuracy: 0.9995 - val_precision: 0.8906 - val_recall: 0.7917 - val_auc: 0.9304\n",
      "Epoch 12/100\n",
      "182276/182276 [==============================] - 1s 5us/sample - loss: 0.0050 - tp: 183.0000 - fp: 28.0000 - tn: 181916.0000 - fn: 149.0000 - accuracy: 0.9990 - precision: 0.8673 - recall: 0.5512 - auc: 0.9040 - val_loss: 0.0027 - val_tp: 57.0000 - val_fp: 7.0000 - val_tn: 45490.0000 - val_fn: 15.0000 - val_accuracy: 0.9995 - val_precision: 0.8906 - val_recall: 0.7917 - val_auc: 0.9373\n",
      "Epoch 13/100\n",
      "182276/182276 [==============================] - 1s 5us/sample - loss: 0.0050 - tp: 173.0000 - fp: 26.0000 - tn: 181918.0000 - fn: 159.0000 - accuracy: 0.9990 - precision: 0.8693 - recall: 0.5211 - auc: 0.8934 - val_loss: 0.0027 - val_tp: 57.0000 - val_fp: 8.0000 - val_tn: 45489.0000 - val_fn: 15.0000 - val_accuracy: 0.9995 - val_precision: 0.8769 - val_recall: 0.7917 - val_auc: 0.9373\n",
      "Epoch 14/100\n",
      "182276/182276 [==============================] - 1s 4us/sample - loss: 0.0053 - tp: 170.0000 - fp: 34.0000 - tn: 181910.0000 - fn: 162.0000 - accuracy: 0.9989 - precision: 0.8333 - recall: 0.5120 - auc: 0.8949 - val_loss: 0.0026 - val_tp: 57.0000 - val_fp: 8.0000 - val_tn: 45489.0000 - val_fn: 15.0000 - val_accuracy: 0.9995 - val_precision: 0.8769 - val_recall: 0.7917 - val_auc: 0.9373\n",
      "Epoch 15/100\n",
      "182276/182276 [==============================] - 1s 4us/sample - loss: 0.0048 - tp: 181.0000 - fp: 33.0000 - tn: 181911.0000 - fn: 151.0000 - accuracy: 0.9990 - precision: 0.8458 - recall: 0.5452 - auc: 0.9072 - val_loss: 0.0026 - val_tp: 56.0000 - val_fp: 7.0000 - val_tn: 45490.0000 - val_fn: 16.0000 - val_accuracy: 0.9995 - val_precision: 0.8889 - val_recall: 0.7778 - val_auc: 0.9303\n",
      "Epoch 16/100\n",
      "182276/182276 [==============================] - 1s 5us/sample - loss: 0.0044 - tp: 183.0000 - fp: 23.0000 - tn: 181921.0000 - fn: 149.0000 - accuracy: 0.9991 - precision: 0.8883 - recall: 0.5512 - auc: 0.9132 - val_loss: 0.0026 - val_tp: 57.0000 - val_fp: 8.0000 - val_tn: 45489.0000 - val_fn: 15.0000 - val_accuracy: 0.9995 - val_precision: 0.8769 - val_recall: 0.7917 - val_auc: 0.9373\n",
      "Epoch 17/100\n",
      "182276/182276 [==============================] - 1s 4us/sample - loss: 0.0049 - tp: 177.0000 - fp: 28.0000 - tn: 181916.0000 - fn: 155.0000 - accuracy: 0.9990 - precision: 0.8634 - recall: 0.5331 - auc: 0.9011 - val_loss: 0.0025 - val_tp: 57.0000 - val_fp: 8.0000 - val_tn: 45489.0000 - val_fn: 15.0000 - val_accuracy: 0.9995 - val_precision: 0.8769 - val_recall: 0.7917 - val_auc: 0.9372\n",
      "Epoch 18/100\n",
      "182276/182276 [==============================] - 1s 4us/sample - loss: 0.0044 - tp: 187.0000 - fp: 26.0000 - tn: 181918.0000 - fn: 145.0000 - accuracy: 0.9991 - precision: 0.8779 - recall: 0.5633 - auc: 0.9192 - val_loss: 0.0025 - val_tp: 57.0000 - val_fp: 8.0000 - val_tn: 45489.0000 - val_fn: 15.0000 - val_accuracy: 0.9995 - val_precision: 0.8769 - val_recall: 0.7917 - val_auc: 0.9303\n",
      "Epoch 19/100\n",
      "182276/182276 [==============================] - 1s 4us/sample - loss: 0.0045 - tp: 181.0000 - fp: 30.0000 - tn: 181914.0000 - fn: 151.0000 - accuracy: 0.9990 - precision: 0.8578 - recall: 0.5452 - auc: 0.9115 - val_loss: 0.0025 - val_tp: 57.0000 - val_fp: 8.0000 - val_tn: 45489.0000 - val_fn: 15.0000 - val_accuracy: 0.9995 - val_precision: 0.8769 - val_recall: 0.7917 - val_auc: 0.9373\n",
      "Epoch 20/100\n",
      "182276/182276 [==============================] - 1s 4us/sample - loss: 0.0047 - tp: 181.0000 - fp: 30.0000 - tn: 181914.0000 - fn: 151.0000 - accuracy: 0.9990 - precision: 0.8578 - recall: 0.5452 - auc: 0.9069 - val_loss: 0.0025 - val_tp: 57.0000 - val_fp: 8.0000 - val_tn: 45489.0000 - val_fn: 15.0000 - val_accuracy: 0.9995 - val_precision: 0.8769 - val_recall: 0.7917 - val_auc: 0.9373\n",
      "Epoch 21/100\n"
     ]
    },
    {
     "name": "stdout",
     "output_type": "stream",
     "text": [
      "182276/182276 [==============================] - 1s 4us/sample - loss: 0.0044 - tp: 199.0000 - fp: 28.0000 - tn: 181916.0000 - fn: 133.0000 - accuracy: 0.9991 - precision: 0.8767 - recall: 0.5994 - auc: 0.9207 - val_loss: 0.0025 - val_tp: 57.0000 - val_fp: 8.0000 - val_tn: 45489.0000 - val_fn: 15.0000 - val_accuracy: 0.9995 - val_precision: 0.8769 - val_recall: 0.7917 - val_auc: 0.9373\n",
      "Epoch 22/100\n",
      "182276/182276 [==============================] - 1s 4us/sample - loss: 0.0046 - tp: 181.0000 - fp: 26.0000 - tn: 181918.0000 - fn: 151.0000 - accuracy: 0.9990 - precision: 0.8744 - recall: 0.5452 - auc: 0.9147 - val_loss: 0.0025 - val_tp: 57.0000 - val_fp: 7.0000 - val_tn: 45490.0000 - val_fn: 15.0000 - val_accuracy: 0.9995 - val_precision: 0.8906 - val_recall: 0.7917 - val_auc: 0.9373\n",
      "Epoch 23/100\n",
      "182276/182276 [==============================] - 1s 4us/sample - loss: 0.0044 - tp: 190.0000 - fp: 33.0000 - tn: 181911.0000 - fn: 142.0000 - accuracy: 0.9990 - precision: 0.8520 - recall: 0.5723 - auc: 0.9071 - val_loss: 0.0025 - val_tp: 57.0000 - val_fp: 7.0000 - val_tn: 45490.0000 - val_fn: 15.0000 - val_accuracy: 0.9995 - val_precision: 0.8906 - val_recall: 0.7917 - val_auc: 0.9373\n",
      "Epoch 24/100\n",
      "169984/182276 [==========================>...] - ETA: 0s - loss: 0.0045 - tp: 177.0000 - fp: 33.0000 - tn: 169635.0000 - fn: 139.0000 - accuracy: 0.9990 - precision: 0.8429 - recall: 0.5601 - auc: 0.9153Restoring model weights from the end of the best epoch.\n",
      "182276/182276 [==============================] - 1s 4us/sample - loss: 0.0044 - tp: 185.0000 - fp: 34.0000 - tn: 181910.0000 - fn: 147.0000 - accuracy: 0.9990 - precision: 0.8447 - recall: 0.5572 - auc: 0.9133 - val_loss: 0.0025 - val_tp: 57.0000 - val_fp: 7.0000 - val_tn: 45490.0000 - val_fn: 15.0000 - val_accuracy: 0.9995 - val_precision: 0.8906 - val_recall: 0.7917 - val_auc: 0.9303\n",
      "Epoch 00024: early stopping\n"
     ]
    }
   ],
   "source": [
    "# Train\n",
    "\n",
    "model = make_model()\n",
    "model.load_weights(initial_weights)\n",
    "baseline_history = model.fit(\n",
    "    train_features,\n",
    "    train_labels,\n",
    "    batch_size = BATCH_SIZE,\n",
    "    epochs = EPOCHS,\n",
    "    callbacks = [early_stopping],\n",
    "    validation_data = (val_features, val_labels))"
   ]
  },
  {
   "cell_type": "code",
   "execution_count": null,
   "metadata": {},
   "outputs": [],
   "source": []
  }
 ],
 "metadata": {
  "kernelspec": {
   "display_name": "Python 3",
   "language": "python",
   "name": "python3"
  },
  "language_info": {
   "codemirror_mode": {
    "name": "ipython",
    "version": 3
   },
   "file_extension": ".py",
   "mimetype": "text/x-python",
   "name": "python",
   "nbconvert_exporter": "python",
   "pygments_lexer": "ipython3",
   "version": "3.7.7"
  }
 },
 "nbformat": 4,
 "nbformat_minor": 4
}
