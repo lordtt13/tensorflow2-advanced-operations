{
 "cells": [
  {
   "cell_type": "markdown",
   "metadata": {},
   "source": [
    "The core idea behind the Transformer model is self-attention—the ability to attend to different positions of the input sequence to compute a representation of that sequence. Transformer creates stacks of self-attention layers and is explained below in the sections Scaled dot product attention and Multi-head attention.\n",
    "\n",
    "A transformer model handles variable-sized input using stacks of self-attention layers instead of RNNs or CNNs. This general architecture has a number of advantages:\n",
    "\n",
    "- It make no assumptions about the temporal/spatial relationships across the data. This is ideal for processing a set of objects (for example, StarCraft units).\n",
    "- Layer outputs can be calculated in parallel, instead of a series like an RNN.\n",
    "- Distant items can affect each other's output without passing through many RNN-steps, or convolution layers (see Scene Memory Transformer for example).\n",
    "- It can learn long-range dependencies. This is a challenge in many sequence tasks.\n",
    "\n",
    "The downsides of this architecture are:\n",
    "\n",
    "- For a time-series, the output for a time-step is calculated from the entire history instead of only the inputs and current hidden-state. This may be less efficient.\n",
    "- If the input does have a temporal/spatial relationship, like text, some positional encoding must be added or the model will effectively see a bag of words."
   ]
  },
  {
   "cell_type": "code",
   "execution_count": 1,
   "metadata": {},
   "outputs": [],
   "source": [
    "import time\n",
    "\n",
    "import numpy as np\n",
    "import tensorflow as tf\n",
    "import matplotlib.pyplot as plt\n",
    "import tensorflow_datasets as tfds"
   ]
  },
  {
   "cell_type": "code",
   "execution_count": 2,
   "metadata": {},
   "outputs": [
    {
     "name": "stdout",
     "output_type": "stream",
     "text": [
      "\u001b[1mDownloading and preparing dataset ted_hrlr_translate/pt_to_en/1.0.0 (download: 124.94 MiB, generated: Unknown size, total: 124.94 MiB) to /home/tanmay/tensorflow_datasets/ted_hrlr_translate/pt_to_en/1.0.0...\u001b[0m\n"
     ]
    },
    {
     "data": {
      "application/vnd.jupyter.widget-view+json": {
       "model_id": "c5f3e2e68dc74399884afff1009dbf74",
       "version_major": 2,
       "version_minor": 0
      },
      "text/plain": [
       "HBox(children=(FloatProgress(value=1.0, bar_style='info', description='Dl Completed...', max=1.0, style=Progre…"
      ]
     },
     "metadata": {},
     "output_type": "display_data"
    },
    {
     "data": {
      "application/vnd.jupyter.widget-view+json": {
       "model_id": "d683521eb94c424383bd1be8a9fa7974",
       "version_major": 2,
       "version_minor": 0
      },
      "text/plain": [
       "HBox(children=(FloatProgress(value=1.0, bar_style='info', description='Dl Size...', max=1.0, style=ProgressSty…"
      ]
     },
     "metadata": {},
     "output_type": "display_data"
    },
    {
     "data": {
      "application/vnd.jupyter.widget-view+json": {
       "model_id": "8ab145edf4f74f0d9c0f11c0a80c6572",
       "version_major": 2,
       "version_minor": 0
      },
      "text/plain": [
       "HBox(children=(FloatProgress(value=1.0, bar_style='info', description='Extraction completed...', max=1.0, styl…"
      ]
     },
     "metadata": {},
     "output_type": "display_data"
    },
    {
     "name": "stdout",
     "output_type": "stream",
     "text": [
      "\n",
      "\n",
      "\n",
      "\n",
      "\n",
      "\n"
     ]
    },
    {
     "data": {
      "application/vnd.jupyter.widget-view+json": {
       "model_id": "",
       "version_major": 2,
       "version_minor": 0
      },
      "text/plain": [
       "HBox(children=(FloatProgress(value=1.0, bar_style='info', max=1.0), HTML(value='')))"
      ]
     },
     "metadata": {},
     "output_type": "display_data"
    },
    {
     "name": "stdout",
     "output_type": "stream",
     "text": [
      "Shuffling and writing examples to /home/tanmay/tensorflow_datasets/ted_hrlr_translate/pt_to_en/1.0.0.incompleteRMZ4SD/ted_hrlr_translate-train.tfrecord\n"
     ]
    },
    {
     "data": {
      "application/vnd.jupyter.widget-view+json": {
       "model_id": "da28717d900c4f13ac731f19256e9210",
       "version_major": 2,
       "version_minor": 0
      },
      "text/plain": [
       "HBox(children=(FloatProgress(value=0.0, max=51785.0), HTML(value='')))"
      ]
     },
     "metadata": {},
     "output_type": "display_data"
    },
    {
     "data": {
      "application/vnd.jupyter.widget-view+json": {
       "model_id": "",
       "version_major": 2,
       "version_minor": 0
      },
      "text/plain": [
       "HBox(children=(FloatProgress(value=1.0, bar_style='info', max=1.0), HTML(value='')))"
      ]
     },
     "metadata": {},
     "output_type": "display_data"
    },
    {
     "name": "stdout",
     "output_type": "stream",
     "text": [
      "Shuffling and writing examples to /home/tanmay/tensorflow_datasets/ted_hrlr_translate/pt_to_en/1.0.0.incompleteRMZ4SD/ted_hrlr_translate-validation.tfrecord\n"
     ]
    },
    {
     "data": {
      "application/vnd.jupyter.widget-view+json": {
       "model_id": "66345892ed51445da932f255a1ed502e",
       "version_major": 2,
       "version_minor": 0
      },
      "text/plain": [
       "HBox(children=(FloatProgress(value=0.0, max=1193.0), HTML(value='')))"
      ]
     },
     "metadata": {},
     "output_type": "display_data"
    },
    {
     "data": {
      "application/vnd.jupyter.widget-view+json": {
       "model_id": "",
       "version_major": 2,
       "version_minor": 0
      },
      "text/plain": [
       "HBox(children=(FloatProgress(value=1.0, bar_style='info', max=1.0), HTML(value='')))"
      ]
     },
     "metadata": {},
     "output_type": "display_data"
    },
    {
     "name": "stdout",
     "output_type": "stream",
     "text": [
      "Shuffling and writing examples to /home/tanmay/tensorflow_datasets/ted_hrlr_translate/pt_to_en/1.0.0.incompleteRMZ4SD/ted_hrlr_translate-test.tfrecord\n"
     ]
    },
    {
     "data": {
      "application/vnd.jupyter.widget-view+json": {
       "model_id": "28aade50f76b4bbcb2e2e0276922fe32",
       "version_major": 2,
       "version_minor": 0
      },
      "text/plain": [
       "HBox(children=(FloatProgress(value=0.0, max=1803.0), HTML(value='')))"
      ]
     },
     "metadata": {},
     "output_type": "display_data"
    },
    {
     "name": "stdout",
     "output_type": "stream",
     "text": [
      "\u001b[1mDataset ted_hrlr_translate downloaded and prepared to /home/tanmay/tensorflow_datasets/ted_hrlr_translate/pt_to_en/1.0.0. Subsequent calls will reuse this data.\u001b[0m\n"
     ]
    }
   ],
   "source": [
    "# Setup Input Pipeline\n",
    "\n",
    "examples, metadata = tfds.load('ted_hrlr_translate/pt_to_en', with_info = True,\n",
    "                               as_supervised = True)\n",
    "train_examples, val_examples = examples['train'], examples['validation']"
   ]
  },
  {
   "cell_type": "code",
   "execution_count": 4,
   "metadata": {},
   "outputs": [],
   "source": [
    "# Create a custom subwords tokenizer from the training dataset.\n",
    "\n",
    "tokenizer_en = tfds.features.text.SubwordTextEncoder.build_from_corpus(\n",
    "    (en.numpy() for pt, en in train_examples), target_vocab_size = 2**13)\n",
    "\n",
    "tokenizer_pt = tfds.features.text.SubwordTextEncoder.build_from_corpus(\n",
    "    (pt.numpy() for pt, en in train_examples), target_vocab_size = 2**13)"
   ]
  },
  {
   "cell_type": "code",
   "execution_count": 5,
   "metadata": {},
   "outputs": [
    {
     "name": "stdout",
     "output_type": "stream",
     "text": [
      "Tokenized string is [7915, 1248, 7946, 7194, 13, 2799, 7877]\n",
      "The original string: Transformer is awesome.\n"
     ]
    }
   ],
   "source": [
    "sample_string = 'Transformer is awesome.'\n",
    "\n",
    "tokenized_string = tokenizer_en.encode(sample_string)\n",
    "print ('Tokenized string is {}'.format(tokenized_string))\n",
    "\n",
    "original_string = tokenizer_en.decode(tokenized_string)\n",
    "print ('The original string: {}'.format(original_string))\n",
    "\n",
    "assert original_string == sample_string"
   ]
  },
  {
   "cell_type": "code",
   "execution_count": 6,
   "metadata": {},
   "outputs": [
    {
     "name": "stdout",
     "output_type": "stream",
     "text": [
      "7915 ----> T\n",
      "1248 ----> ran\n",
      "7946 ----> s\n",
      "7194 ----> former \n",
      "13 ----> is \n",
      "2799 ----> awesome\n",
      "7877 ----> .\n"
     ]
    }
   ],
   "source": [
    "for ts in tokenized_string:\n",
    "  print ('{} ----> {}'.format(ts, tokenizer_en.decode([ts])))"
   ]
  },
  {
   "cell_type": "code",
   "execution_count": 7,
   "metadata": {},
   "outputs": [],
   "source": [
    "BUFFER_SIZE = 20000\n",
    "BATCH_SIZE = 64"
   ]
  },
  {
   "cell_type": "code",
   "execution_count": 8,
   "metadata": {},
   "outputs": [],
   "source": [
    "# Add a start and end token to the input and target.\n",
    "\n",
    "def encode(lang1, lang2):\n",
    "  lang1 = [tokenizer_pt.vocab_size] + tokenizer_pt.encode(\n",
    "      lang1.numpy()) + [tokenizer_pt.vocab_size+1]\n",
    "\n",
    "  lang2 = [tokenizer_en.vocab_size] + tokenizer_en.encode(\n",
    "      lang2.numpy()) + [tokenizer_en.vocab_size+1]\n",
    "  \n",
    "  return lang1, lang2"
   ]
  },
  {
   "cell_type": "code",
   "execution_count": 9,
   "metadata": {},
   "outputs": [],
   "source": [
    "# use Dataset.map to apply this function to each element of the dataset\n",
    "\n",
    "def tf_encode(pt, en):\n",
    "  result_pt, result_en = tf.py_function(encode, [pt, en], [tf.int64, tf.int64])\n",
    "  result_pt.set_shape([None])\n",
    "  result_en.set_shape([None])\n",
    "\n",
    "  return result_pt, result_en"
   ]
  },
  {
   "cell_type": "code",
   "execution_count": 10,
   "metadata": {},
   "outputs": [],
   "source": [
    "MAX_LENGTH = 40"
   ]
  },
  {
   "cell_type": "code",
   "execution_count": 11,
   "metadata": {},
   "outputs": [],
   "source": [
    "def filter_max_length(x, y, max_length = MAX_LENGTH):\n",
    "  return tf.logical_and(tf.size(x) <= max_length,\n",
    "                        tf.size(y) <= max_length)"
   ]
  },
  {
   "cell_type": "code",
   "execution_count": 55,
   "metadata": {},
   "outputs": [],
   "source": [
    "train_preprocessed = (\n",
    "    train_examples\n",
    "    .map(tf_encode) \n",
    "    .filter(filter_max_length)\n",
    "    # cache the dataset to memory to get a speedup while reading from it.\n",
    "    .cache()\n",
    "    .shuffle(BUFFER_SIZE))\n",
    "\n",
    "val_preprocessed = (\n",
    "    val_examples\n",
    "    .map(tf_encode)\n",
    "    .filter(filter_max_length))        "
   ]
  },
  {
   "cell_type": "code",
   "execution_count": 13,
   "metadata": {},
   "outputs": [],
   "source": [
    "train_dataset = (train_preprocessed\n",
    "                 .padded_batch(BATCH_SIZE, padded_shapes = ([None], [None]))\n",
    "                 .prefetch(tf.data.experimental.AUTOTUNE))\n",
    "\n",
    "\n",
    "val_dataset = (val_preprocessed\n",
    "               .padded_batch(BATCH_SIZE,  padded_shapes = ([None], [None])))"
   ]
  },
  {
   "cell_type": "code",
   "execution_count": 14,
   "metadata": {},
   "outputs": [
    {
     "data": {
      "text/plain": [
       "(<tf.Tensor: shape=(64, 38), dtype=int64, numpy=\n",
       " array([[8214,  342, 3032, ...,    0,    0,    0],\n",
       "        [8214,   95,  198, ...,    0,    0,    0],\n",
       "        [8214, 4479, 7990, ...,    0,    0,    0],\n",
       "        ...,\n",
       "        [8214,  584,   12, ...,    0,    0,    0],\n",
       "        [8214,   59, 1548, ...,    0,    0,    0],\n",
       "        [8214,  118,   34, ...,    0,    0,    0]])>,\n",
       " <tf.Tensor: shape=(64, 40), dtype=int64, numpy=\n",
       " array([[8087,   98,   25, ...,    0,    0,    0],\n",
       "        [8087,   12,   20, ...,    0,    0,    0],\n",
       "        [8087,   12, 5453, ...,    0,    0,    0],\n",
       "        ...,\n",
       "        [8087,   18, 2059, ...,    0,    0,    0],\n",
       "        [8087,   16, 1436, ...,    0,    0,    0],\n",
       "        [8087,   15,   57, ...,    0,    0,    0]])>)"
      ]
     },
     "execution_count": 14,
     "metadata": {},
     "output_type": "execute_result"
    }
   ],
   "source": [
    "pt_batch, en_batch = next(iter(val_dataset))\n",
    "pt_batch, en_batch"
   ]
  },
  {
   "cell_type": "markdown",
   "metadata": {},
   "source": [
    "## Positional encoding\n",
    "\n",
    "Since this model doesn't contain any recurrence or convolution, positional encoding is added to give the model some information about the relative position of the words in the sentence.\n",
    "\n",
    "The positional encoding vector is added to the embedding vector. Embeddings represent a token in a d-dimensional space where tokens with similar meaning will be closer to each other. But the embeddings do not encode the relative position of words in a sentence. So after adding the positional encoding, words will be closer to each other based on the similarity of their meaning and their position in the sentence, in the d-dimensional space."
   ]
  },
  {
   "cell_type": "code",
   "execution_count": 15,
   "metadata": {},
   "outputs": [],
   "source": [
    "def get_angles(pos, i, d_model):\n",
    "  angle_rates = 1 / np.power(10000, (2 * (i//2)) / np.float32(d_model))\n",
    "  return pos * angle_rates"
   ]
  },
  {
   "cell_type": "code",
   "execution_count": 16,
   "metadata": {},
   "outputs": [],
   "source": [
    "def positional_encoding(position, d_model):\n",
    "  angle_rads = get_angles(np.arange(position)[:, np.newaxis],\n",
    "                          np.arange(d_model)[np.newaxis, :],\n",
    "                          d_model)\n",
    "  \n",
    "  # apply sin to even indices in the array; 2i\n",
    "  angle_rads[:, 0::2] = np.sin(angle_rads[:, 0::2])\n",
    "  \n",
    "  # apply cos to odd indices in the array; 2i+1\n",
    "  angle_rads[:, 1::2] = np.cos(angle_rads[:, 1::2])\n",
    "    \n",
    "  pos_encoding = angle_rads[np.newaxis, ...]\n",
    "    \n",
    "  return tf.cast(pos_encoding, dtype = tf.float32)"
   ]
  },
  {
   "cell_type": "code",
   "execution_count": 17,
   "metadata": {},
   "outputs": [
    {
     "name": "stdout",
     "output_type": "stream",
     "text": [
      "(1, 50, 512)\n"
     ]
    },
    {
     "data": {
      "image/png": "[encoded data removed]",
      "text/plain": [
       "<Figure size 432x288 with 2 Axes>"
      ]
     },
     "metadata": {
      "needs_background": "light"
     },
     "output_type": "display_data"
    }
   ],
   "source": [
    "pos_encoding = positional_encoding(50, 512)\n",
    "print (pos_encoding.shape)\n",
    "\n",
    "plt.pcolormesh(pos_encoding[0], cmap = 'RdBu')\n",
    "plt.xlabel('Depth')\n",
    "plt.xlim((0, 512))\n",
    "plt.ylabel('Position')\n",
    "plt.colorbar()\n",
    "plt.show()"
   ]
  },
  {
   "cell_type": "markdown",
   "metadata": {},
   "source": [
    "## Masking\n",
    "\n",
    "Mask all the pad tokens in the batch of sequence. It ensures that the model does not treat padding as the input. The mask indicates where pad value 0 is present: it outputs a 1 at those locations, and a 0 otherwise."
   ]
  },
  {
   "cell_type": "code",
   "execution_count": 18,
   "metadata": {},
   "outputs": [],
   "source": [
    "def create_padding_mask(seq):\n",
    "  seq = tf.cast(tf.math.equal(seq, 0), tf.float32)\n",
    "  \n",
    "  # add extra dimensions to add the padding\n",
    "  # to the attention logits.\n",
    "  return seq[:, tf.newaxis, tf.newaxis, :]  # (batch_size, 1, 1, seq_len)"
   ]
  },
  {
   "cell_type": "code",
   "execution_count": 19,
   "metadata": {},
   "outputs": [
    {
     "data": {
      "text/plain": [
       "<tf.Tensor: shape=(3, 1, 1, 5), dtype=float32, numpy=\n",
       "array([[[[0., 0., 1., 1., 0.]]],\n",
       "\n",
       "\n",
       "       [[[0., 0., 0., 1., 1.]]],\n",
       "\n",
       "\n",
       "       [[[1., 1., 1., 0., 0.]]]], dtype=float32)>"
      ]
     },
     "execution_count": 19,
     "metadata": {},
     "output_type": "execute_result"
    }
   ],
   "source": [
    "x = tf.constant([[7, 6, 0, 0, 1], [1, 2, 3, 0, 0], [0, 0, 0, 4, 5]])\n",
    "create_padding_mask(x)"
   ]
  },
  {
   "cell_type": "markdown",
   "metadata": {},
   "source": [
    "The look-ahead mask is used to mask the future tokens in a sequence. In other words, the mask indicates which entries should not be used.\n",
    "\n",
    "This means that to predict the third word, only the first and second word will be used. Similarly to predict the fourth word, only the first, second and the third word will be used and so on."
   ]
  },
  {
   "cell_type": "code",
   "execution_count": 20,
   "metadata": {},
   "outputs": [],
   "source": [
    "def create_look_ahead_mask(size):\n",
    "  mask = 1 - tf.linalg.band_part(tf.ones((size, size)), -1, 0)\n",
    "  return mask  # (seq_len, seq_len)"
   ]
  },
  {
   "cell_type": "code",
   "execution_count": 21,
   "metadata": {},
   "outputs": [
    {
     "data": {
      "text/plain": [
       "<tf.Tensor: shape=(3, 3), dtype=float32, numpy=\n",
       "array([[0., 1., 1.],\n",
       "       [0., 0., 1.],\n",
       "       [0., 0., 0.]], dtype=float32)>"
      ]
     },
     "execution_count": 21,
     "metadata": {},
     "output_type": "execute_result"
    }
   ],
   "source": [
    "x = tf.random.uniform((1, 3))\n",
    "temp = create_look_ahead_mask(x.shape[1])\n",
    "temp"
   ]
  },
  {
   "cell_type": "markdown",
   "metadata": {},
   "source": [
    "## Scaled dot product attention\n",
    "\n",
    "The attention function used by the transformer takes three inputs: Q (query), K (key), V (value).\n",
    "\n",
    "The dot-product attention is scaled by a factor of square root of the depth. This is done because for large values of depth, the dot product grows large in magnitude pushing the softmax function where it has small gradients resulting in a very hard softmax.\n",
    "\n",
    "For example, consider that Q and K have a mean of 0 and variance of 1. Their matrix multiplication will have a mean of 0 and variance of dk. Hence, square root of dk is used for scaling (and not any other number) because the matmul of Q and K should have a mean of 0 and variance of 1, and you get a gentler softmax.\n",
    "\n",
    "The mask is multiplied with -1e9 (close to negative infinity). This is done because the mask is summed with the scaled matrix multiplication of Q and K and is applied immediately before a softmax. The goal is to zero out these cells, and large negative inputs to softmax are near zero in the output."
   ]
  },
  {
   "cell_type": "code",
   "execution_count": 22,
   "metadata": {},
   "outputs": [],
   "source": [
    "def scaled_dot_product_attention(q, k, v, mask):\n",
    "  \"\"\"Calculate the attention weights.\n",
    "  q, k, v must have matching leading dimensions.\n",
    "  k, v must have matching penultimate dimension, i.e.: seq_len_k = seq_len_v.\n",
    "  The mask has different shapes depending on its type(padding or look ahead) \n",
    "  but it must be broadcastable for addition.\n",
    "  \n",
    "  Args:\n",
    "    q: query shape == (..., seq_len_q, depth)\n",
    "    k: key shape == (..., seq_len_k, depth)\n",
    "    v: value shape == (..., seq_len_v, depth_v)\n",
    "    mask: Float tensor with shape broadcastable \n",
    "          to (..., seq_len_q, seq_len_k). Defaults to None.\n",
    "    \n",
    "  Returns:\n",
    "    output, attention_weights\n",
    "  \"\"\"\n",
    "\n",
    "  matmul_qk = tf.matmul(q, k, transpose_b = True)  # (..., seq_len_q, seq_len_k)\n",
    "  \n",
    "  # scale matmul_qk\n",
    "  dk = tf.cast(tf.shape(k)[-1], tf.float32)\n",
    "  scaled_attention_logits = matmul_qk / tf.math.sqrt(dk)\n",
    "\n",
    "  # add the mask to the scaled tensor.\n",
    "  if mask is not None:\n",
    "    scaled_attention_logits += (mask * -1e9)  \n",
    "\n",
    "  # softmax is normalized on the last axis (seq_len_k) so that the scores\n",
    "  # add up to 1.\n",
    "  attention_weights = tf.nn.softmax(scaled_attention_logits, axis = -1)  # (..., seq_len_q, seq_len_k)\n",
    "\n",
    "  output = tf.matmul(attention_weights, v)  # (..., seq_len_q, depth_v)\n",
    "\n",
    "  return output, attention_weights"
   ]
  },
  {
   "cell_type": "markdown",
   "metadata": {},
   "source": [
    "As the softmax normalization is done on K, its values decide the amount of importance given to Q.\n",
    "\n",
    "The output represents the multiplication of the attention weights and the V (value) vector. This ensures that the words you want to focus on are kept as-is and the irrelevant words are flushed out."
   ]
  },
  {
   "cell_type": "code",
   "execution_count": 23,
   "metadata": {},
   "outputs": [],
   "source": [
    "def print_out(q, k, v):\n",
    "  temp_out, temp_attn = scaled_dot_product_attention(\n",
    "      q, k, v, None)\n",
    "  print ('Attention weights are:')\n",
    "  print (temp_attn)\n",
    "  print ('Output is:')\n",
    "  print (temp_out)"
   ]
  },
  {
   "cell_type": "code",
   "execution_count": 24,
   "metadata": {},
   "outputs": [
    {
     "name": "stdout",
     "output_type": "stream",
     "text": [
      "Attention weights are:\n",
      "tf.Tensor([[0. 1. 0. 0.]], shape=(1, 4), dtype=float32)\n",
      "Output is:\n",
      "tf.Tensor([[10.  0.]], shape=(1, 2), dtype=float32)\n"
     ]
    }
   ],
   "source": [
    "np.set_printoptions(suppress = True)\n",
    "\n",
    "temp_k = tf.constant([[10,0,0],\n",
    "                      [0,10,0],\n",
    "                      [0,0,10],\n",
    "                      [0,0,10]], dtype = tf.float32)  # (4, 3)\n",
    "\n",
    "temp_v = tf.constant([[   1,0],\n",
    "                      [  10,0],\n",
    "                      [ 100,5],\n",
    "                      [1000,6]], dtype = tf.float32)  # (4, 2)\n",
    "\n",
    "# This `query` aligns with the second `key`,\n",
    "# so the second `value` is returned.\n",
    "temp_q = tf.constant([[0, 10, 0]], dtype = tf.float32)  # (1, 3)\n",
    "print_out(temp_q, temp_k, temp_v)"
   ]
  },
  {
   "cell_type": "code",
   "execution_count": 25,
   "metadata": {},
   "outputs": [
    {
     "name": "stdout",
     "output_type": "stream",
     "text": [
      "Attention weights are:\n",
      "tf.Tensor([[0.  0.  0.5 0.5]], shape=(1, 4), dtype=float32)\n",
      "Output is:\n",
      "tf.Tensor([[550.    5.5]], shape=(1, 2), dtype=float32)\n"
     ]
    }
   ],
   "source": [
    "# This query aligns with a repeated key (third and fourth), \n",
    "# so all associated values get averaged.\n",
    "temp_q = tf.constant([[0, 0, 10]], dtype = tf.float32)  # (1, 3)\n",
    "print_out(temp_q, temp_k, temp_v)"
   ]
  },
  {
   "cell_type": "code",
   "execution_count": 26,
   "metadata": {},
   "outputs": [
    {
     "name": "stdout",
     "output_type": "stream",
     "text": [
      "Attention weights are:\n",
      "tf.Tensor([[0.5 0.5 0.  0. ]], shape=(1, 4), dtype=float32)\n",
      "Output is:\n",
      "tf.Tensor([[5.5 0. ]], shape=(1, 2), dtype=float32)\n"
     ]
    }
   ],
   "source": [
    "# This query aligns equally with the first and second key, \n",
    "# so their values get averaged.\n",
    "temp_q = tf.constant([[10, 10, 0]], dtype = tf.float32)  # (1, 3)\n",
    "print_out(temp_q, temp_k, temp_v)"
   ]
  },
  {
   "cell_type": "code",
   "execution_count": 27,
   "metadata": {},
   "outputs": [
    {
     "name": "stdout",
     "output_type": "stream",
     "text": [
      "Attention weights are:\n",
      "tf.Tensor(\n",
      "[[0.  0.  0.5 0.5]\n",
      " [0.  1.  0.  0. ]\n",
      " [0.5 0.5 0.  0. ]], shape=(3, 4), dtype=float32)\n",
      "Output is:\n",
      "tf.Tensor(\n",
      "[[550.    5.5]\n",
      " [ 10.    0. ]\n",
      " [  5.5   0. ]], shape=(3, 2), dtype=float32)\n"
     ]
    }
   ],
   "source": [
    "# Pass all the queries together.\n",
    "\n",
    "temp_q = tf.constant([[0, 0, 10], [0, 10, 0], [10, 10, 0]], dtype = tf.float32)  # (3, 3)\n",
    "print_out(temp_q, temp_k, temp_v)"
   ]
  },
  {
   "cell_type": "markdown",
   "metadata": {},
   "source": [
    "## Multi-head attention\n",
    "\n",
    "Multi-head attention consists of four parts:\n",
    "\n",
    "- Linear layers and split into heads.\n",
    "- Scaled dot-product attention.\n",
    "- Concatenation of heads.\n",
    "- Final linear layer.\n",
    "\n",
    "Each multi-head attention block gets three inputs; Q (query), K (key), V (value). These are put through linear (Dense) layers and split up into multiple heads.\n",
    "\n",
    "The scaled_dot_product_attention defined above is applied to each head (broadcasted for efficiency). An appropriate mask must be used in the attention step. The attention output for each head is then concatenated (using tf.transpose, and tf.reshape) and put through a final Dense layer.\n",
    "\n",
    "Instead of one single attention head, Q, K, and V are split into multiple heads because it allows the model to jointly attend to information at different positions from different representational spaces. After the split each head has a reduced dimensionality, so the total computation cost is the same as a single head attention with full dimensionality."
   ]
  },
  {
   "cell_type": "code",
   "execution_count": 28,
   "metadata": {},
   "outputs": [],
   "source": [
    "class MultiHeadAttention(tf.keras.layers.Layer):\n",
    "  def __init__(self, d_model, num_heads):\n",
    "    super(MultiHeadAttention, self).__init__()\n",
    "    self.num_heads = num_heads\n",
    "    self.d_model = d_model\n",
    "    \n",
    "    assert d_model % self.num_heads == 0\n",
    "    \n",
    "    self.depth = d_model // self.num_heads\n",
    "    \n",
    "    self.wq = tf.keras.layers.Dense(d_model)\n",
    "    self.wk = tf.keras.layers.Dense(d_model)\n",
    "    self.wv = tf.keras.layers.Dense(d_model)\n",
    "    \n",
    "    self.dense = tf.keras.layers.Dense(d_model)\n",
    "        \n",
    "  def split_heads(self, x, batch_size):\n",
    "    \"\"\"Split the last dimension into (num_heads, depth).\n",
    "    Transpose the result such that the shape is (batch_size, num_heads, seq_len, depth)\n",
    "    \"\"\"\n",
    "    x = tf.reshape(x, (batch_size, -1, self.num_heads, self.depth))\n",
    "    return tf.transpose(x, perm = [0, 2, 1, 3])\n",
    "    \n",
    "  def call(self, v, k, q, mask):\n",
    "    batch_size = tf.shape(q)[0]\n",
    "    \n",
    "    q = self.wq(q)  # (batch_size, seq_len, d_model)\n",
    "    k = self.wk(k)  # (batch_size, seq_len, d_model)\n",
    "    v = self.wv(v)  # (batch_size, seq_len, d_model)\n",
    "    \n",
    "    q = self.split_heads(q, batch_size)  # (batch_size, num_heads, seq_len_q, depth)\n",
    "    k = self.split_heads(k, batch_size)  # (batch_size, num_heads, seq_len_k, depth)\n",
    "    v = self.split_heads(v, batch_size)  # (batch_size, num_heads, seq_len_v, depth)\n",
    "    \n",
    "    # scaled_attention.shape == (batch_size, num_heads, seq_len_q, depth)\n",
    "    # attention_weights.shape == (batch_size, num_heads, seq_len_q, seq_len_k)\n",
    "    scaled_attention, attention_weights = scaled_dot_product_attention(\n",
    "        q, k, v, mask)\n",
    "    \n",
    "    scaled_attention = tf.transpose(scaled_attention, perm = [0, 2, 1, 3])  # (batch_size, seq_len_q, num_heads, depth)\n",
    "\n",
    "    concat_attention = tf.reshape(scaled_attention, \n",
    "                                  (batch_size, -1, self.d_model))  # (batch_size, seq_len_q, d_model)\n",
    "\n",
    "    output = self.dense(concat_attention)  # (batch_size, seq_len_q, d_model)\n",
    "        \n",
    "    return output, attention_weights"
   ]
  },
  {
   "cell_type": "code",
   "execution_count": 29,
   "metadata": {},
   "outputs": [
    {
     "data": {
      "text/plain": [
       "(TensorShape([1, 60, 512]), TensorShape([1, 8, 60, 60]))"
      ]
     },
     "execution_count": 29,
     "metadata": {},
     "output_type": "execute_result"
    }
   ],
   "source": [
    "# Create a MultiHeadAttention layer to try out. At each location in the sequence, y\n",
    "# The MultiHeadAttention runs all 8 attention heads across all other locations in the sequence, returning a new vector of the same length at each location.\n",
    "\n",
    "temp_mha = MultiHeadAttention(d_model = 512, num_heads = 8)\n",
    "y = tf.random.uniform((1, 60, 512))  # (batch_size, encoder_sequence, d_model)\n",
    "out, attn = temp_mha(y, k = y, q = y, mask = None)\n",
    "out.shape, attn.shape"
   ]
  },
  {
   "cell_type": "code",
   "execution_count": 30,
   "metadata": {},
   "outputs": [],
   "source": [
    "# Point wise feed forward network\n",
    "\n",
    "def point_wise_feed_forward_network(d_model, dff):\n",
    "  return tf.keras.Sequential([\n",
    "      tf.keras.layers.Dense(dff, activation = 'relu'),  # (batch_size, seq_len, dff)\n",
    "      tf.keras.layers.Dense(d_model)  # (batch_size, seq_len, d_model)\n",
    "  ])"
   ]
  },
  {
   "cell_type": "code",
   "execution_count": 31,
   "metadata": {},
   "outputs": [
    {
     "data": {
      "text/plain": [
       "TensorShape([64, 50, 512])"
      ]
     },
     "execution_count": 31,
     "metadata": {},
     "output_type": "execute_result"
    }
   ],
   "source": [
    "sample_ffn = point_wise_feed_forward_network(512, 2048)\n",
    "sample_ffn(tf.random.uniform((64, 50, 512))).shape"
   ]
  },
  {
   "cell_type": "markdown",
   "metadata": {},
   "source": [
    "## Encoder and decoder\n",
    "\n",
    "The transformer model follows the same general pattern as a standard sequence to sequence with attention model.\n",
    "\n",
    "- The input sentence is passed through N encoder layers that generates an output for each word/token in the sequence.\n",
    "- The decoder attends on the encoder's output and its own input (self-attention) to predict the next word.\n",
    "\n",
    "## Encoder layer\n",
    "Each encoder layer consists of sublayers:\n",
    "\n",
    "- Multi-head attention (with padding mask)\n",
    "- Point wise feed forward networks.\n",
    "- Each of these sublayers has a residual connection around it followed by a layer normalization. Residual connections help in avoiding the vanishing gradient problem in deep networks.\n",
    "\n",
    "The output of each sublayer is LayerNorm(x + Sublayer(x)). The normalization is done on the d_model (last) axis. There are N encoder layers in the transformer."
   ]
  },
  {
   "cell_type": "code",
   "execution_count": 32,
   "metadata": {},
   "outputs": [],
   "source": [
    "class EncoderLayer(tf.keras.layers.Layer):\n",
    "  def __init__(self, d_model, num_heads, dff, rate = 0.1):\n",
    "    super(EncoderLayer, self).__init__()\n",
    "\n",
    "    self.mha = MultiHeadAttention(d_model, num_heads)\n",
    "    self.ffn = point_wise_feed_forward_network(d_model, dff)\n",
    "\n",
    "    self.layernorm1 = tf.keras.layers.LayerNormalization(epsilon = 1e-6)\n",
    "    self.layernorm2 = tf.keras.layers.LayerNormalization(epsilon = 1e-6)\n",
    "    \n",
    "    self.dropout1 = tf.keras.layers.Dropout(rate)\n",
    "    self.dropout2 = tf.keras.layers.Dropout(rate)\n",
    "    \n",
    "  def call(self, x, training, mask):\n",
    "\n",
    "    attn_output, _ = self.mha(x, x, x, mask)  # (batch_size, input_seq_len, d_model)\n",
    "    attn_output = self.dropout1(attn_output, training = training)\n",
    "    out1 = self.layernorm1(x + attn_output)  # (batch_size, input_seq_len, d_model)\n",
    "    \n",
    "    ffn_output = self.ffn(out1)  # (batch_size, input_seq_len, d_model)\n",
    "    ffn_output = self.dropout2(ffn_output, training = training)\n",
    "    out2 = self.layernorm2(out1 + ffn_output)  # (batch_size, input_seq_len, d_model)\n",
    "    \n",
    "    return out2"
   ]
  },
  {
   "cell_type": "code",
   "execution_count": 33,
   "metadata": {},
   "outputs": [
    {
     "data": {
      "text/plain": [
       "TensorShape([64, 43, 512])"
      ]
     },
     "execution_count": 33,
     "metadata": {},
     "output_type": "execute_result"
    }
   ],
   "source": [
    "sample_encoder_layer = EncoderLayer(512, 8, 2048)\n",
    "\n",
    "sample_encoder_layer_output = sample_encoder_layer(\n",
    "    tf.random.uniform((64, 43, 512)), False, None)\n",
    "\n",
    "sample_encoder_layer_output.shape  # (batch_size, input_seq_len, d_model)"
   ]
  },
  {
   "cell_type": "markdown",
   "metadata": {},
   "source": [
    "## Decoder layer\n",
    "\n",
    "Each decoder layer consists of sublayers:\n",
    "\n",
    "- Masked multi-head attention (with look ahead mask and padding mask)\n",
    "- Multi-head attention (with padding mask). V (value) and K (key) receive the encoder output as inputs. Q (query) receives the output from the masked multi-head attention sublayer.\n",
    "- Point wise feed forward networks\n",
    "- Each of these sublayers has a residual connection around it followed by a layer normalization. The output of each sublayer is LayerNorm(x + Sublayer(x)). The normalization is done on the d_model (last) axis.\n",
    "\n",
    "There are N decoder layers in the transformer.\n",
    "\n",
    "As Q receives the output from decoder's first attention block, and K receives the encoder output, the attention weights represent the importance given to the decoder's input based on the encoder's output. In other words, the decoder predicts the next word by looking at the encoder output and self-attending to its own output. See the demonstration above in the scaled dot product attention section."
   ]
  },
  {
   "cell_type": "code",
   "execution_count": 34,
   "metadata": {},
   "outputs": [],
   "source": [
    "class DecoderLayer(tf.keras.layers.Layer):\n",
    "  def __init__(self, d_model, num_heads, dff, rate = 0.1):\n",
    "    super(DecoderLayer, self).__init__()\n",
    "\n",
    "    self.mha1 = MultiHeadAttention(d_model, num_heads)\n",
    "    self.mha2 = MultiHeadAttention(d_model, num_heads)\n",
    "\n",
    "    self.ffn = point_wise_feed_forward_network(d_model, dff)\n",
    " \n",
    "    self.layernorm1 = tf.keras.layers.LayerNormalization(epsilon = 1e-6)\n",
    "    self.layernorm2 = tf.keras.layers.LayerNormalization(epsilon = 1e-6)\n",
    "    self.layernorm3 = tf.keras.layers.LayerNormalization(epsilon = 1e-6)\n",
    "    \n",
    "    self.dropout1 = tf.keras.layers.Dropout(rate)\n",
    "    self.dropout2 = tf.keras.layers.Dropout(rate)\n",
    "    self.dropout3 = tf.keras.layers.Dropout(rate)\n",
    "    \n",
    "    \n",
    "  def call(self, x, enc_output, training, \n",
    "           look_ahead_mask, padding_mask):\n",
    "    # enc_output.shape == (batch_size, input_seq_len, d_model)\n",
    "\n",
    "    attn1, attn_weights_block1 = self.mha1(x, x, x, look_ahead_mask)  # (batch_size, target_seq_len, d_model)\n",
    "    attn1 = self.dropout1(attn1, training = training)\n",
    "    out1 = self.layernorm1(attn1 + x)\n",
    "    \n",
    "    attn2, attn_weights_block2 = self.mha2(\n",
    "        enc_output, enc_output, out1, padding_mask)  # (batch_size, target_seq_len, d_model)\n",
    "    attn2 = self.dropout2(attn2, training = training)\n",
    "    out2 = self.layernorm2(attn2 + out1)  # (batch_size, target_seq_len, d_model)\n",
    "    \n",
    "    ffn_output = self.ffn(out2)  # (batch_size, target_seq_len, d_model)\n",
    "    ffn_output = self.dropout3(ffn_output, training = training)\n",
    "    out3 = self.layernorm3(ffn_output + out2)  # (batch_size, target_seq_len, d_model)\n",
    "    \n",
    "    return out3, attn_weights_block1, attn_weights_block2"
   ]
  },
  {
   "cell_type": "code",
   "execution_count": 36,
   "metadata": {},
   "outputs": [
    {
     "data": {
      "text/plain": [
       "TensorShape([64, 50, 512])"
      ]
     },
     "execution_count": 36,
     "metadata": {},
     "output_type": "execute_result"
    }
   ],
   "source": [
    "sample_decoder_layer = DecoderLayer(512, 8, 2048)\n",
    "\n",
    "sample_decoder_layer_output, _, _ = sample_decoder_layer(\n",
    "    tf.random.uniform((64, 50, 512)), sample_encoder_layer_output, \n",
    "    False, None, None)\n",
    "\n",
    "sample_decoder_layer_output.shape  # (batch_size, target_seq_len, d_model)"
   ]
  },
  {
   "cell_type": "markdown",
   "metadata": {},
   "source": [
    "## Encoder\n",
    "\n",
    "The Encoder consists of:\n",
    "\n",
    "- Input Embedding\n",
    "- Positional Encoding\n",
    "- N encoder layers\n",
    "\n",
    "The input is put through an embedding which is summed with the positional encoding. The output of this summation is the input to the encoder layers. The output of the encoder is the input to the decoder."
   ]
  },
  {
   "cell_type": "code",
   "execution_count": 37,
   "metadata": {},
   "outputs": [],
   "source": [
    "class Encoder(tf.keras.layers.Layer):\n",
    "  def __init__(self, num_layers, d_model, num_heads, dff, input_vocab_size,\n",
    "               maximum_position_encoding, rate = 0.1):\n",
    "    super(Encoder, self).__init__()\n",
    "\n",
    "    self.d_model = d_model\n",
    "    self.num_layers = num_layers\n",
    "    \n",
    "    self.embedding = tf.keras.layers.Embedding(input_vocab_size, d_model)\n",
    "    self.pos_encoding = positional_encoding(maximum_position_encoding, \n",
    "                                            self.d_model)\n",
    "    \n",
    "    \n",
    "    self.enc_layers = [EncoderLayer(d_model, num_heads, dff, rate) \n",
    "                       for _ in range(num_layers)]\n",
    "  \n",
    "    self.dropout = tf.keras.layers.Dropout(rate)\n",
    "        \n",
    "  def call(self, x, training, mask):\n",
    "\n",
    "    seq_len = tf.shape(x)[1]\n",
    "    \n",
    "    # adding embedding and position encoding.\n",
    "    x = self.embedding(x)  # (batch_size, input_seq_len, d_model)\n",
    "    x *= tf.math.sqrt(tf.cast(self.d_model, tf.float32))\n",
    "    x += self.pos_encoding[:, :seq_len, :]\n",
    "\n",
    "    x = self.dropout(x, training = training)\n",
    "    \n",
    "    for i in range(self.num_layers):\n",
    "      x = self.enc_layers[i](x, training, mask)\n",
    "    \n",
    "    return x  # (batch_size, input_seq_len, d_model)"
   ]
  },
  {
   "cell_type": "code",
   "execution_count": 38,
   "metadata": {},
   "outputs": [
    {
     "name": "stdout",
     "output_type": "stream",
     "text": [
      "(64, 62, 512)\n"
     ]
    }
   ],
   "source": [
    "sample_encoder = Encoder(num_layers = 2, d_model = 512, num_heads = 8, \n",
    "                         dff = 2048, input_vocab_size = 8500,\n",
    "                         maximum_position_encoding = 10000)\n",
    "\n",
    "temp_input = tf.random.uniform((64, 62), dtype = tf.int64, minval = 0, maxval = 200)\n",
    "\n",
    "sample_encoder_output = sample_encoder(temp_input, training = False, mask = None)\n",
    "\n",
    "print (sample_encoder_output.shape)  # (batch_size, input_seq_len, d_model)"
   ]
  },
  {
   "cell_type": "markdown",
   "metadata": {},
   "source": [
    "## Decoder\n",
    "\n",
    "The Decoder consists of:\n",
    "\n",
    "- Output Embedding\n",
    "- Positional Encoding\n",
    "- N decoder layers\n",
    "\n",
    "The target is put through an embedding which is summed with the positional encoding. The output of this summation is the input to the decoder layers. The output of the decoder is the input to the final linear layer."
   ]
  },
  {
   "cell_type": "code",
   "execution_count": 39,
   "metadata": {},
   "outputs": [],
   "source": [
    "class Decoder(tf.keras.layers.Layer):\n",
    "  def __init__(self, num_layers, d_model, num_heads, dff, target_vocab_size,\n",
    "               maximum_position_encoding, rate = 0.1):\n",
    "    super(Decoder, self).__init__()\n",
    "\n",
    "    self.d_model = d_model\n",
    "    self.num_layers = num_layers\n",
    "    \n",
    "    self.embedding = tf.keras.layers.Embedding(target_vocab_size, d_model)\n",
    "    self.pos_encoding = positional_encoding(maximum_position_encoding, d_model)\n",
    "    \n",
    "    self.dec_layers = [DecoderLayer(d_model, num_heads, dff, rate) \n",
    "                       for _ in range(num_layers)]\n",
    "    self.dropout = tf.keras.layers.Dropout(rate)\n",
    "    \n",
    "  def call(self, x, enc_output, training, \n",
    "           look_ahead_mask, padding_mask):\n",
    "\n",
    "    seq_len = tf.shape(x)[1]\n",
    "    attention_weights = {}\n",
    "    \n",
    "    x = self.embedding(x)  # (batch_size, target_seq_len, d_model)\n",
    "    x *= tf.math.sqrt(tf.cast(self.d_model, tf.float32))\n",
    "    x += self.pos_encoding[:, :seq_len, :]\n",
    "    \n",
    "    x = self.dropout(x, training = training)\n",
    "\n",
    "    for i in range(self.num_layers):\n",
    "      x, block1, block2 = self.dec_layers[i](x, enc_output, training,\n",
    "                                             look_ahead_mask, padding_mask)\n",
    "      \n",
    "      attention_weights['decoder_layer{}_block1'.format(i+1)] = block1\n",
    "      attention_weights['decoder_layer{}_block2'.format(i+1)] = block2\n",
    "    \n",
    "    # x.shape == (batch_size, target_seq_len, d_model)\n",
    "    return x, attention_weights"
   ]
  },
  {
   "cell_type": "code",
   "execution_count": 40,
   "metadata": {},
   "outputs": [
    {
     "data": {
      "text/plain": [
       "(TensorShape([64, 26, 512]), TensorShape([64, 8, 26, 62]))"
      ]
     },
     "execution_count": 40,
     "metadata": {},
     "output_type": "execute_result"
    }
   ],
   "source": [
    "sample_decoder = Decoder(num_layers = 2, d_model = 512, num_heads = 8, \n",
    "                         dff = 2048, target_vocab_size = 8000,\n",
    "                         maximum_position_encoding = 5000)\n",
    "\n",
    "temp_input = tf.random.uniform((64, 26), dtype = tf.int64, minval = 0, maxval = 200)\n",
    "\n",
    "output, attn = sample_decoder(temp_input, \n",
    "                              enc_output = sample_encoder_output, \n",
    "                              training = False,\n",
    "                              look_ahead_mask = None, \n",
    "                              padding_mask = None)\n",
    "\n",
    "output.shape, attn['decoder_layer2_block2'].shape"
   ]
  },
  {
   "cell_type": "markdown",
   "metadata": {},
   "source": [
    "## Create the Transformer\n",
    "\n",
    "Transformer consists of the encoder, decoder and a final linear layer. The output of the decoder is the input to the linear layer and its output is returned."
   ]
  },
  {
   "cell_type": "code",
   "execution_count": 41,
   "metadata": {},
   "outputs": [],
   "source": [
    "class Transformer(tf.keras.Model):\n",
    "  def __init__(self, num_layers, d_model, num_heads, dff, input_vocab_size, \n",
    "               target_vocab_size, pe_input, pe_target, rate = 0.1):\n",
    "    super(Transformer, self).__init__()\n",
    "\n",
    "    self.encoder = Encoder(num_layers, d_model, num_heads, dff, \n",
    "                           input_vocab_size, pe_input, rate)\n",
    "\n",
    "    self.decoder = Decoder(num_layers, d_model, num_heads, dff, \n",
    "                           target_vocab_size, pe_target, rate)\n",
    "\n",
    "    self.final_layer = tf.keras.layers.Dense(target_vocab_size)\n",
    "    \n",
    "  def call(self, inp, tar, training, enc_padding_mask, \n",
    "           look_ahead_mask, dec_padding_mask):\n",
    "\n",
    "    enc_output = self.encoder(inp, training, enc_padding_mask)  # (batch_size, inp_seq_len, d_model)\n",
    "    \n",
    "    # dec_output.shape == (batch_size, tar_seq_len, d_model)\n",
    "    dec_output, attention_weights = self.decoder(\n",
    "        tar, enc_output, training, look_ahead_mask, dec_padding_mask)\n",
    "    \n",
    "    final_output = self.final_layer(dec_output)  # (batch_size, tar_seq_len, target_vocab_size)\n",
    "    \n",
    "    return final_output, attention_weights"
   ]
  },
  {
   "cell_type": "code",
   "execution_count": 42,
   "metadata": {},
   "outputs": [
    {
     "data": {
      "text/plain": [
       "TensorShape([64, 36, 8000])"
      ]
     },
     "execution_count": 42,
     "metadata": {},
     "output_type": "execute_result"
    }
   ],
   "source": [
    "sample_transformer = Transformer(\n",
    "    num_layers = 2, d_model = 512, num_heads = 8, dff = 2048, \n",
    "    input_vocab_size = 8500, target_vocab_size = 8000, \n",
    "    pe_input = 10000, pe_target = 6000)\n",
    "\n",
    "temp_input = tf.random.uniform((64, 38), dtype = tf.int64, minval = 0, maxval = 200)\n",
    "temp_target = tf.random.uniform((64, 36), dtype = tf.int64, minval = 0, maxval = 200)\n",
    "\n",
    "fn_out, _ = sample_transformer(temp_input, temp_target, training = False, \n",
    "                               enc_padding_mask = None, \n",
    "                               look_ahead_mask = None,\n",
    "                               dec_padding_mask = None)\n",
    "\n",
    "fn_out.shape  # (batch_size, tar_seq_len, target_vocab_size)"
   ]
  },
  {
   "cell_type": "code",
   "execution_count": 43,
   "metadata": {},
   "outputs": [],
   "source": [
    "num_layers = 4\n",
    "d_model = 128\n",
    "dff = 512\n",
    "num_heads = 8\n",
    "\n",
    "input_vocab_size = tokenizer_pt.vocab_size + 2\n",
    "target_vocab_size = tokenizer_en.vocab_size + 2\n",
    "dropout_rate = 0.1"
   ]
  },
  {
   "cell_type": "markdown",
   "metadata": {},
   "source": [
    "The values used in the base model of transformer were; num_layers=6, d_model = 512, dff = 2048."
   ]
  },
  {
   "cell_type": "code",
   "execution_count": 44,
   "metadata": {},
   "outputs": [],
   "source": [
    "# Use the Adam optimizer with a custom learning rate scheduler according to the formula in the paper.\n",
    "\n",
    "class CustomSchedule(tf.keras.optimizers.schedules.LearningRateSchedule):\n",
    "  def __init__(self, d_model, warmup_steps = 4000):\n",
    "    super(CustomSchedule, self).__init__()\n",
    "    \n",
    "    self.d_model = d_model\n",
    "    self.d_model = tf.cast(self.d_model, tf.float32)\n",
    "\n",
    "    self.warmup_steps = warmup_steps\n",
    "    \n",
    "  def __call__(self, step):\n",
    "    arg1 = tf.math.rsqrt(step)\n",
    "    arg2 = step * (self.warmup_steps ** -1.5)\n",
    "    \n",
    "    return tf.math.rsqrt(self.d_model) * tf.math.minimum(arg1, arg2)"
   ]
  },
  {
   "cell_type": "code",
   "execution_count": 45,
   "metadata": {},
   "outputs": [],
   "source": [
    "learning_rate = CustomSchedule(d_model)\n",
    "\n",
    "optimizer = tf.keras.optimizers.Adam(learning_rate, beta_1 = 0.9, beta_2 = 0.98, \n",
    "                                     epsilon = 1e-9)"
   ]
  },
  {
   "cell_type": "code",
   "execution_count": 46,
   "metadata": {},
   "outputs": [
    {
     "data": {
      "text/plain": [
       "Text(0.5, 0, 'Train Step')"
      ]
     },
     "execution_count": 46,
     "metadata": {},
     "output_type": "execute_result"
    },
    {
     "data": {
      "image/png": "[encoded data removed]",
      "text/plain": [
       "<Figure size 432x288 with 1 Axes>"
      ]
     },
     "metadata": {
      "needs_background": "light"
     },
     "output_type": "display_data"
    }
   ],
   "source": [
    "temp_learning_rate_schedule = CustomSchedule(d_model)\n",
    "\n",
    "plt.plot(temp_learning_rate_schedule(tf.range(40000, dtype = tf.float32)))\n",
    "plt.ylabel(\"Learning Rate\")\n",
    "plt.xlabel(\"Train Step\")"
   ]
  },
  {
   "cell_type": "markdown",
   "metadata": {},
   "source": [
    "Since the target sequences are padded, it is important to apply a padding mask when calculating the loss."
   ]
  },
  {
   "cell_type": "code",
   "execution_count": 47,
   "metadata": {},
   "outputs": [],
   "source": [
    "loss_object = tf.keras.losses.SparseCategoricalCrossentropy(\n",
    "    from_logits = True, reduction = 'none')"
   ]
  },
  {
   "cell_type": "code",
   "execution_count": 48,
   "metadata": {},
   "outputs": [],
   "source": [
    "def loss_function(real, pred):\n",
    "  mask = tf.math.logical_not(tf.math.equal(real, 0))\n",
    "  loss_ = loss_object(real, pred)\n",
    "\n",
    "  mask = tf.cast(mask, dtype = loss_.dtype)\n",
    "  loss_ *= mask\n",
    "  \n",
    "  return tf.reduce_sum(loss_)/tf.reduce_sum(mask)"
   ]
  },
  {
   "cell_type": "code",
   "execution_count": 49,
   "metadata": {},
   "outputs": [],
   "source": [
    "train_loss = tf.keras.metrics.Mean(name = 'train_loss')\n",
    "train_accuracy = tf.keras.metrics.SparseCategoricalAccuracy(\n",
    "    name = 'train_accuracy')"
   ]
  },
  {
   "cell_type": "code",
   "execution_count": 50,
   "metadata": {},
   "outputs": [],
   "source": [
    "# Model Add\n",
    "\n",
    "transformer = Transformer(num_layers, d_model, num_heads, dff,\n",
    "                          input_vocab_size, target_vocab_size, \n",
    "                          pe_input = input_vocab_size, \n",
    "                          pe_target = target_vocab_size,\n",
    "                          rate = dropout_rate)"
   ]
  },
  {
   "cell_type": "code",
   "execution_count": 51,
   "metadata": {},
   "outputs": [],
   "source": [
    "def create_masks(inp, tar):\n",
    "  # Encoder padding mask\n",
    "  enc_padding_mask = create_padding_mask(inp)\n",
    "  \n",
    "  # Used in the 2nd attention block in the decoder.\n",
    "  # This padding mask is used to mask the encoder outputs.\n",
    "  dec_padding_mask = create_padding_mask(inp)\n",
    "  \n",
    "  # Used in the 1st attention block in the decoder.\n",
    "  # It is used to pad and mask future tokens in the input received by \n",
    "  # the decoder.\n",
    "  look_ahead_mask = create_look_ahead_mask(tf.shape(tar)[1])\n",
    "  dec_target_padding_mask = create_padding_mask(tar)\n",
    "  combined_mask = tf.maximum(dec_target_padding_mask, look_ahead_mask)\n",
    "  \n",
    "  return enc_padding_mask, combined_mask, dec_padding_mask"
   ]
  },
  {
   "cell_type": "code",
   "execution_count": 52,
   "metadata": {},
   "outputs": [],
   "source": [
    "checkpoint_path = \"./checkpoints/train\"\n",
    "\n",
    "ckpt = tf.train.Checkpoint(transformer = transformer,\n",
    "                           optimizer = optimizer)\n",
    "\n",
    "ckpt_manager = tf.train.CheckpointManager(ckpt, checkpoint_path, max_to_keep = 5)\n",
    "\n",
    "# if a checkpoint exists, restore the latest checkpoint.\n",
    "if ckpt_manager.latest_checkpoint:\n",
    "  ckpt.restore(ckpt_manager.latest_checkpoint)\n",
    "  print ('Latest checkpoint restored!!')"
   ]
  },
  {
   "cell_type": "markdown",
   "metadata": {},
   "source": [
    "The target is divided into tar_inp and tar_real. tar_inp is passed as an input to the decoder. tar_real is that same input shifted by 1: At each location in tar_input, tar_real contains the next token that should be predicted.\n",
    "\n",
    "For example, sentence = \"SOS A lion in the jungle is sleeping EOS\"\n",
    "\n",
    "tar_inp = \"SOS A lion in the jungle is sleeping\"\n",
    "\n",
    "tar_real = \"A lion in the jungle is sleeping EOS\"\n",
    "\n",
    "The transformer is an auto-regressive model: it makes predictions one part at a time, and uses its output so far to decide what to do next.\n",
    "\n",
    "During training this example uses teacher-forcing. Teacher forcing is passing the true output to the next time step regardless of what the model predicts at the current time step.\n",
    "\n",
    "As the transformer predicts each word, self-attention allows it to look at the previous words in the input sequence to better predict the next word.\n",
    "\n",
    "To prevent the model from peaking at the expected output the model uses a look-ahead mask."
   ]
  },
  {
   "cell_type": "code",
   "execution_count": 53,
   "metadata": {},
   "outputs": [],
   "source": [
    "EPOCHS = 20"
   ]
  },
  {
   "cell_type": "code",
   "execution_count": 54,
   "metadata": {},
   "outputs": [],
   "source": [
    "# The @tf.function trace-compiles train_step into a TF graph for faster\n",
    "# execution. The function specializes to the precise shape of the argument\n",
    "# tensors. To avoid re-tracing due to the variable sequence lengths or variable\n",
    "# batch sizes (the last batch is smaller), use input_signature to specify\n",
    "# more generic shapes.\n",
    "\n",
    "train_step_signature = [\n",
    "    tf.TensorSpec(shape = (None, None), dtype = tf.int64),\n",
    "    tf.TensorSpec(shape = (None, None), dtype = tf.int64),\n",
    "]\n",
    "\n",
    "@tf.function(input_signature = train_step_signature)\n",
    "def train_step(inp, tar):\n",
    "  tar_inp = tar[:, :-1]\n",
    "  tar_real = tar[:, 1:]\n",
    "  \n",
    "  enc_padding_mask, combined_mask, dec_padding_mask = create_masks(inp, tar_inp)\n",
    "  \n",
    "  with tf.GradientTape() as tape:\n",
    "    predictions, _ = transformer(inp, tar_inp, \n",
    "                                 True, \n",
    "                                 enc_padding_mask, \n",
    "                                 combined_mask, \n",
    "                                 dec_padding_mask)\n",
    "    loss = loss_function(tar_real, predictions)\n",
    "\n",
    "  gradients = tape.gradient(loss, transformer.trainable_variables)    \n",
    "  optimizer.apply_gradients(zip(gradients, transformer.trainable_variables))\n",
    "  \n",
    "  train_loss(loss)\n",
    "  train_accuracy(tar_real, predictions)"
   ]
  },
  {
   "cell_type": "code",
   "execution_count": 56,
   "metadata": {},
   "outputs": [
    {
     "name": "stdout",
     "output_type": "stream",
     "text": [
      "Epoch 1 Batch 0 Loss 9.0079 Accuracy 0.0008\n",
      "Epoch 1 Batch 50 Loss 8.9415 Accuracy 0.0046\n",
      "Epoch 1 Batch 100 Loss 8.8553 Accuracy 0.0149\n",
      "Epoch 1 Batch 150 Loss 8.7570 Accuracy 0.0187\n",
      "Epoch 1 Batch 200 Loss 8.6321 Accuracy 0.0209\n",
      "Epoch 1 Batch 250 Loss 8.4793 Accuracy 0.0238\n",
      "Epoch 1 Batch 300 Loss 8.3035 Accuracy 0.0275\n",
      "Epoch 1 Batch 350 Loss 8.1176 Accuracy 0.0309\n",
      "Epoch 1 Batch 400 Loss 7.9354 Accuracy 0.0337\n",
      "Epoch 1 Batch 450 Loss 7.7709 Accuracy 0.0367\n",
      "Epoch 1 Batch 500 Loss 7.6277 Accuracy 0.0395\n",
      "Epoch 1 Batch 550 Loss 7.4968 Accuracy 0.0424\n",
      "Epoch 1 Batch 600 Loss 7.3727 Accuracy 0.0459\n",
      "Epoch 1 Batch 650 Loss 7.2533 Accuracy 0.0493\n",
      "Epoch 1 Batch 700 Loss 7.1407 Accuracy 0.0527\n",
      "Epoch 1 Loss 7.1362 Accuracy 0.0528\n",
      "Time taken for 1 epoch: 85.24928212165833 secs\n",
      "\n",
      "Epoch 2 Batch 0 Loss 5.6232 Accuracy 0.1098\n",
      "Epoch 2 Batch 50 Loss 5.5010 Accuracy 0.1043\n",
      "Epoch 2 Batch 100 Loss 5.4364 Accuracy 0.1063\n",
      "Epoch 2 Batch 150 Loss 5.3804 Accuracy 0.1083\n",
      "Epoch 2 Batch 200 Loss 5.3325 Accuracy 0.1101\n",
      "Epoch 2 Batch 250 Loss 5.2858 Accuracy 0.1121\n",
      "Epoch 2 Batch 300 Loss 5.2473 Accuracy 0.1139\n",
      "Epoch 2 Batch 350 Loss 5.2093 Accuracy 0.1155\n",
      "Epoch 2 Batch 400 Loss 5.1758 Accuracy 0.1172\n",
      "Epoch 2 Batch 450 Loss 5.1463 Accuracy 0.1185\n",
      "Epoch 2 Batch 500 Loss 5.1139 Accuracy 0.1200\n",
      "Epoch 2 Batch 550 Loss 5.0875 Accuracy 0.1213\n",
      "Epoch 2 Batch 600 Loss 5.0616 Accuracy 0.1228\n",
      "Epoch 2 Batch 650 Loss 5.0346 Accuracy 0.1242\n",
      "Epoch 2 Batch 700 Loss 5.0087 Accuracy 0.1254\n",
      "Epoch 2 Loss 5.0073 Accuracy 0.1254\n",
      "Time taken for 1 epoch: 49.72459578514099 secs\n",
      "\n",
      "Epoch 3 Batch 0 Loss 4.6714 Accuracy 0.1461\n",
      "Epoch 3 Batch 50 Loss 4.5955 Accuracy 0.1429\n",
      "Epoch 3 Batch 100 Loss 4.6004 Accuracy 0.1445\n",
      "Epoch 3 Batch 150 Loss 4.5886 Accuracy 0.1452\n",
      "Epoch 3 Batch 200 Loss 4.5677 Accuracy 0.1458\n",
      "Epoch 3 Batch 250 Loss 4.5617 Accuracy 0.1462\n",
      "Epoch 3 Batch 300 Loss 4.5470 Accuracy 0.1467\n",
      "Epoch 3 Batch 350 Loss 4.5357 Accuracy 0.1471\n",
      "Epoch 3 Batch 400 Loss 4.5205 Accuracy 0.1482\n",
      "Epoch 3 Batch 450 Loss 4.5064 Accuracy 0.1490\n",
      "Epoch 3 Batch 500 Loss 4.4920 Accuracy 0.1500\n",
      "Epoch 3 Batch 550 Loss 4.4774 Accuracy 0.1506\n",
      "Epoch 3 Batch 600 Loss 4.4609 Accuracy 0.1515\n",
      "Epoch 3 Batch 650 Loss 4.4428 Accuracy 0.1522\n",
      "Epoch 3 Batch 700 Loss 4.4270 Accuracy 0.1531\n",
      "Epoch 3 Loss 4.4265 Accuracy 0.1532\n",
      "Time taken for 1 epoch: 51.27500367164612 secs\n",
      "\n",
      "Epoch 4 Batch 0 Loss 4.0711 Accuracy 0.1727\n",
      "Epoch 4 Batch 50 Loss 4.1052 Accuracy 0.1700\n",
      "Epoch 4 Batch 100 Loss 4.0797 Accuracy 0.1704\n",
      "Epoch 4 Batch 150 Loss 4.0724 Accuracy 0.1712\n",
      "Epoch 4 Batch 200 Loss 4.0581 Accuracy 0.1723\n",
      "Epoch 4 Batch 250 Loss 4.0421 Accuracy 0.1741\n",
      "Epoch 4 Batch 300 Loss 4.0283 Accuracy 0.1751\n",
      "Epoch 4 Batch 350 Loss 4.0107 Accuracy 0.1761\n",
      "Epoch 4 Batch 400 Loss 3.9966 Accuracy 0.1766\n",
      "Epoch 4 Batch 450 Loss 3.9815 Accuracy 0.1780\n",
      "Epoch 4 Batch 500 Loss 3.9645 Accuracy 0.1791\n",
      "Epoch 4 Batch 550 Loss 3.9461 Accuracy 0.1802\n",
      "Epoch 4 Batch 600 Loss 3.9308 Accuracy 0.1814\n",
      "Epoch 4 Batch 650 Loss 3.9168 Accuracy 0.1825\n",
      "Epoch 4 Batch 700 Loss 3.9037 Accuracy 0.1831\n",
      "Epoch 4 Loss 3.9032 Accuracy 0.1831\n",
      "Time taken for 1 epoch: 52.83180570602417 secs\n",
      "\n",
      "Epoch 5 Batch 0 Loss 3.4299 Accuracy 0.2211\n",
      "Epoch 5 Batch 50 Loss 3.5416 Accuracy 0.2036\n",
      "Epoch 5 Batch 100 Loss 3.5405 Accuracy 0.2013\n",
      "Epoch 5 Batch 150 Loss 3.5346 Accuracy 0.2020\n",
      "Epoch 5 Batch 200 Loss 3.5244 Accuracy 0.2023\n",
      "Epoch 5 Batch 250 Loss 3.5184 Accuracy 0.2026\n",
      "Epoch 5 Batch 300 Loss 3.5141 Accuracy 0.2033\n",
      "Epoch 5 Batch 350 Loss 3.5054 Accuracy 0.2042\n",
      "Epoch 5 Batch 400 Loss 3.5006 Accuracy 0.2045\n",
      "Epoch 5 Batch 450 Loss 3.4909 Accuracy 0.2050\n",
      "Epoch 5 Batch 500 Loss 3.4799 Accuracy 0.2060\n",
      "Epoch 5 Batch 550 Loss 3.4722 Accuracy 0.2066\n",
      "Epoch 5 Batch 600 Loss 3.4631 Accuracy 0.2075\n",
      "Epoch 5 Batch 650 Loss 3.4552 Accuracy 0.2079\n",
      "Epoch 5 Batch 700 Loss 3.4479 Accuracy 0.2082\n",
      "Saving checkpoint for epoch 5 at ./checkpoints/train/ckpt-1\n",
      "Epoch 5 Loss 3.4479 Accuracy 0.2082\n",
      "Time taken for 1 epoch: 52.74487328529358 secs\n",
      "\n",
      "Epoch 6 Batch 0 Loss 3.2291 Accuracy 0.1955\n",
      "Epoch 6 Batch 50 Loss 3.1570 Accuracy 0.2194\n",
      "Epoch 6 Batch 100 Loss 3.1261 Accuracy 0.2213\n",
      "Epoch 6 Batch 150 Loss 3.1277 Accuracy 0.2223\n",
      "Epoch 6 Batch 200 Loss 3.1263 Accuracy 0.2231\n",
      "Epoch 6 Batch 250 Loss 3.1242 Accuracy 0.2237\n",
      "Epoch 6 Batch 300 Loss 3.1121 Accuracy 0.2241\n",
      "Epoch 6 Batch 350 Loss 3.1018 Accuracy 0.2250\n",
      "Epoch 6 Batch 400 Loss 3.0934 Accuracy 0.2257\n",
      "Epoch 6 Batch 450 Loss 3.0873 Accuracy 0.2265\n",
      "Epoch 6 Batch 500 Loss 3.0837 Accuracy 0.2270\n",
      "Epoch 6 Batch 550 Loss 3.0782 Accuracy 0.2274\n",
      "Epoch 6 Batch 600 Loss 3.0703 Accuracy 0.2277\n",
      "Epoch 6 Batch 650 Loss 3.0616 Accuracy 0.2285\n",
      "Epoch 6 Batch 700 Loss 3.0561 Accuracy 0.2289\n",
      "Epoch 6 Loss 3.0558 Accuracy 0.2289\n",
      "Time taken for 1 epoch: 51.90452790260315 secs\n",
      "\n",
      "Epoch 7 Batch 0 Loss 2.8241 Accuracy 0.2437\n",
      "Epoch 7 Batch 50 Loss 2.7410 Accuracy 0.2460\n",
      "Epoch 7 Batch 100 Loss 2.7424 Accuracy 0.2446\n",
      "Epoch 7 Batch 150 Loss 2.7386 Accuracy 0.2465\n",
      "Epoch 7 Batch 200 Loss 2.7307 Accuracy 0.2465\n",
      "Epoch 7 Batch 250 Loss 2.7280 Accuracy 0.2458\n",
      "Epoch 7 Batch 300 Loss 2.7227 Accuracy 0.2459\n",
      "Epoch 7 Batch 350 Loss 2.7155 Accuracy 0.2463\n",
      "Epoch 7 Batch 400 Loss 2.7082 Accuracy 0.2469\n",
      "Epoch 7 Batch 450 Loss 2.7043 Accuracy 0.2474\n",
      "Epoch 7 Batch 500 Loss 2.6978 Accuracy 0.2480\n",
      "Epoch 7 Batch 550 Loss 2.6938 Accuracy 0.2478\n",
      "Epoch 7 Batch 600 Loss 2.6867 Accuracy 0.2484\n",
      "Epoch 7 Batch 650 Loss 2.6837 Accuracy 0.2486\n",
      "Epoch 7 Batch 700 Loss 2.6783 Accuracy 0.2489\n",
      "Epoch 7 Loss 2.6777 Accuracy 0.2489\n",
      "Time taken for 1 epoch: 52.36709809303284 secs\n",
      "\n",
      "Epoch 8 Batch 0 Loss 2.2338 Accuracy 0.2640\n",
      "Epoch 8 Batch 50 Loss 2.3921 Accuracy 0.2617\n",
      "Epoch 8 Batch 100 Loss 2.3755 Accuracy 0.2652\n",
      "Epoch 8 Batch 150 Loss 2.3814 Accuracy 0.2642\n",
      "Epoch 8 Batch 200 Loss 2.3894 Accuracy 0.2639\n",
      "Epoch 8 Batch 250 Loss 2.3866 Accuracy 0.2645\n",
      "Epoch 8 Batch 300 Loss 2.3838 Accuracy 0.2647\n",
      "Epoch 8 Batch 350 Loss 2.3800 Accuracy 0.2652\n",
      "Epoch 8 Batch 400 Loss 2.3778 Accuracy 0.2655\n",
      "Epoch 8 Batch 450 Loss 2.3772 Accuracy 0.2656\n",
      "Epoch 8 Batch 500 Loss 2.3756 Accuracy 0.2661\n",
      "Epoch 8 Batch 550 Loss 2.3726 Accuracy 0.2666\n",
      "Epoch 8 Batch 600 Loss 2.3697 Accuracy 0.2668\n",
      "Epoch 8 Batch 650 Loss 2.3696 Accuracy 0.2670\n",
      "Epoch 8 Batch 700 Loss 2.3698 Accuracy 0.2671\n",
      "Epoch 8 Loss 2.3696 Accuracy 0.2671\n",
      "Time taken for 1 epoch: 54.169055223464966 secs\n",
      "\n",
      "Epoch 9 Batch 0 Loss 2.0219 Accuracy 0.3014\n",
      "Epoch 9 Batch 50 Loss 2.1232 Accuracy 0.2751\n",
      "Epoch 9 Batch 100 Loss 2.1149 Accuracy 0.2774\n",
      "Epoch 9 Batch 150 Loss 2.1210 Accuracy 0.2788\n",
      "Epoch 9 Batch 200 Loss 2.1245 Accuracy 0.2794\n",
      "Epoch 9 Batch 250 Loss 2.1258 Accuracy 0.2803\n",
      "Epoch 9 Batch 300 Loss 2.1267 Accuracy 0.2809\n",
      "Epoch 9 Batch 350 Loss 2.1283 Accuracy 0.2813\n",
      "Epoch 9 Batch 400 Loss 2.1328 Accuracy 0.2809\n",
      "Epoch 9 Batch 450 Loss 2.1373 Accuracy 0.2811\n",
      "Epoch 9 Batch 500 Loss 2.1393 Accuracy 0.2808\n",
      "Epoch 9 Batch 550 Loss 2.1424 Accuracy 0.2809\n",
      "Epoch 9 Batch 600 Loss 2.1418 Accuracy 0.2810\n",
      "Epoch 9 Batch 650 Loss 2.1449 Accuracy 0.2806\n",
      "Epoch 9 Batch 700 Loss 2.1472 Accuracy 0.2805\n",
      "Epoch 9 Loss 2.1475 Accuracy 0.2805\n",
      "Time taken for 1 epoch: 59.13502478599548 secs\n",
      "\n",
      "Epoch 10 Batch 0 Loss 1.8808 Accuracy 0.2800\n",
      "Epoch 10 Batch 50 Loss 1.9183 Accuracy 0.2901\n",
      "Epoch 10 Batch 100 Loss 1.9330 Accuracy 0.2905\n",
      "Epoch 10 Batch 150 Loss 1.9443 Accuracy 0.2919\n",
      "Epoch 10 Batch 200 Loss 1.9520 Accuracy 0.2911\n",
      "Epoch 10 Batch 250 Loss 1.9539 Accuracy 0.2912\n",
      "Epoch 10 Batch 300 Loss 1.9538 Accuracy 0.2911\n",
      "Epoch 10 Batch 350 Loss 1.9561 Accuracy 0.2907\n",
      "Epoch 10 Batch 400 Loss 1.9586 Accuracy 0.2906\n",
      "Epoch 10 Batch 450 Loss 1.9599 Accuracy 0.2912\n",
      "Epoch 10 Batch 500 Loss 1.9638 Accuracy 0.2911\n",
      "Epoch 10 Batch 550 Loss 1.9655 Accuracy 0.2911\n",
      "Epoch 10 Batch 600 Loss 1.9694 Accuracy 0.2908\n",
      "Epoch 10 Batch 650 Loss 1.9714 Accuracy 0.2906\n",
      "Epoch 10 Batch 700 Loss 1.9767 Accuracy 0.2901\n",
      "Saving checkpoint for epoch 10 at ./checkpoints/train/ckpt-2\n",
      "Epoch 10 Loss 1.9768 Accuracy 0.2901\n",
      "Time taken for 1 epoch: 52.83444428443909 secs\n",
      "\n",
      "Epoch 11 Batch 0 Loss 1.8352 Accuracy 0.3057\n",
      "Epoch 11 Batch 50 Loss 1.7919 Accuracy 0.3002\n",
      "Epoch 11 Batch 100 Loss 1.7901 Accuracy 0.3013\n",
      "Epoch 11 Batch 150 Loss 1.8014 Accuracy 0.3014\n",
      "Epoch 11 Batch 200 Loss 1.7984 Accuracy 0.3008\n",
      "Epoch 11 Batch 250 Loss 1.8007 Accuracy 0.3007\n",
      "Epoch 11 Batch 300 Loss 1.8089 Accuracy 0.3007\n",
      "Epoch 11 Batch 350 Loss 1.8109 Accuracy 0.3007\n"
     ]
    },
    {
     "name": "stdout",
     "output_type": "stream",
     "text": [
      "Epoch 11 Batch 400 Loss 1.8149 Accuracy 0.2999\n",
      "Epoch 11 Batch 450 Loss 1.8183 Accuracy 0.3003\n",
      "Epoch 11 Batch 500 Loss 1.8214 Accuracy 0.3003\n",
      "Epoch 11 Batch 550 Loss 1.8256 Accuracy 0.2999\n",
      "Epoch 11 Batch 600 Loss 1.8273 Accuracy 0.3000\n",
      "Epoch 11 Batch 650 Loss 1.8320 Accuracy 0.2994\n",
      "Epoch 11 Batch 700 Loss 1.8367 Accuracy 0.2990\n",
      "Epoch 11 Loss 1.8364 Accuracy 0.2990\n",
      "Time taken for 1 epoch: 53.511075258255005 secs\n",
      "\n",
      "Epoch 12 Batch 0 Loss 1.4985 Accuracy 0.2993\n",
      "Epoch 12 Batch 50 Loss 1.6545 Accuracy 0.3094\n",
      "Epoch 12 Batch 100 Loss 1.6613 Accuracy 0.3098\n",
      "Epoch 12 Batch 150 Loss 1.6629 Accuracy 0.3086\n",
      "Epoch 12 Batch 200 Loss 1.6773 Accuracy 0.3074\n",
      "Epoch 12 Batch 250 Loss 1.6873 Accuracy 0.3075\n",
      "Epoch 12 Batch 300 Loss 1.6914 Accuracy 0.3081\n",
      "Epoch 12 Batch 350 Loss 1.6956 Accuracy 0.3073\n",
      "Epoch 12 Batch 400 Loss 1.6954 Accuracy 0.3070\n",
      "Epoch 12 Batch 450 Loss 1.6990 Accuracy 0.3068\n",
      "Epoch 12 Batch 500 Loss 1.7035 Accuracy 0.3064\n",
      "Epoch 12 Batch 550 Loss 1.7101 Accuracy 0.3065\n",
      "Epoch 12 Batch 600 Loss 1.7138 Accuracy 0.3063\n",
      "Epoch 12 Batch 650 Loss 1.7184 Accuracy 0.3061\n",
      "Epoch 12 Batch 700 Loss 1.7230 Accuracy 0.3061\n",
      "Epoch 12 Loss 1.7237 Accuracy 0.3061\n",
      "Time taken for 1 epoch: 53.05849623680115 secs\n",
      "\n",
      "Epoch 13 Batch 0 Loss 1.6014 Accuracy 0.3438\n",
      "Epoch 13 Batch 50 Loss 1.5636 Accuracy 0.3191\n",
      "Epoch 13 Batch 100 Loss 1.5732 Accuracy 0.3180\n",
      "Epoch 13 Batch 150 Loss 1.5784 Accuracy 0.3157\n",
      "Epoch 13 Batch 200 Loss 1.5844 Accuracy 0.3150\n",
      "Epoch 13 Batch 250 Loss 1.5854 Accuracy 0.3143\n",
      "Epoch 13 Batch 300 Loss 1.5863 Accuracy 0.3142\n",
      "Epoch 13 Batch 350 Loss 1.5906 Accuracy 0.3143\n",
      "Epoch 13 Batch 400 Loss 1.5953 Accuracy 0.3139\n",
      "Epoch 13 Batch 450 Loss 1.6001 Accuracy 0.3131\n",
      "Epoch 13 Batch 500 Loss 1.6058 Accuracy 0.3129\n",
      "Epoch 13 Batch 550 Loss 1.6118 Accuracy 0.3131\n",
      "Epoch 13 Batch 600 Loss 1.6168 Accuracy 0.3128\n",
      "Epoch 13 Batch 650 Loss 1.6212 Accuracy 0.3124\n",
      "Epoch 13 Batch 700 Loss 1.6259 Accuracy 0.3122\n",
      "Epoch 13 Loss 1.6259 Accuracy 0.3122\n",
      "Time taken for 1 epoch: 52.76702618598938 secs\n",
      "\n",
      "Epoch 14 Batch 0 Loss 1.4624 Accuracy 0.3419\n",
      "Epoch 14 Batch 50 Loss 1.4597 Accuracy 0.3217\n",
      "Epoch 14 Batch 100 Loss 1.4697 Accuracy 0.3199\n",
      "Epoch 14 Batch 150 Loss 1.4790 Accuracy 0.3207\n",
      "Epoch 14 Batch 200 Loss 1.4863 Accuracy 0.3212\n",
      "Epoch 14 Batch 250 Loss 1.4935 Accuracy 0.3206\n",
      "Epoch 14 Batch 300 Loss 1.5034 Accuracy 0.3193\n",
      "Epoch 14 Batch 350 Loss 1.5074 Accuracy 0.3191\n",
      "Epoch 14 Batch 400 Loss 1.5126 Accuracy 0.3191\n",
      "Epoch 14 Batch 450 Loss 1.5159 Accuracy 0.3191\n",
      "Epoch 14 Batch 500 Loss 1.5202 Accuracy 0.3192\n",
      "Epoch 14 Batch 550 Loss 1.5251 Accuracy 0.3188\n",
      "Epoch 14 Batch 600 Loss 1.5331 Accuracy 0.3184\n",
      "Epoch 14 Batch 650 Loss 1.5360 Accuracy 0.3181\n",
      "Epoch 14 Batch 700 Loss 1.5405 Accuracy 0.3178\n",
      "Epoch 14 Loss 1.5406 Accuracy 0.3178\n",
      "Time taken for 1 epoch: 60.07309865951538 secs\n",
      "\n",
      "Epoch 15 Batch 0 Loss 1.4959 Accuracy 0.3085\n",
      "Epoch 15 Batch 50 Loss 1.3923 Accuracy 0.3223\n",
      "Epoch 15 Batch 100 Loss 1.3979 Accuracy 0.3265\n",
      "Epoch 15 Batch 150 Loss 1.4023 Accuracy 0.3271\n",
      "Epoch 15 Batch 200 Loss 1.4099 Accuracy 0.3262\n",
      "Epoch 15 Batch 250 Loss 1.4173 Accuracy 0.3266\n",
      "Epoch 15 Batch 300 Loss 1.4236 Accuracy 0.3269\n",
      "Epoch 15 Batch 350 Loss 1.4276 Accuracy 0.3258\n",
      "Epoch 15 Batch 400 Loss 1.4312 Accuracy 0.3254\n",
      "Epoch 15 Batch 450 Loss 1.4409 Accuracy 0.3247\n",
      "Epoch 15 Batch 500 Loss 1.4453 Accuracy 0.3245\n",
      "Epoch 15 Batch 550 Loss 1.4489 Accuracy 0.3240\n",
      "Epoch 15 Batch 600 Loss 1.4536 Accuracy 0.3235\n",
      "Epoch 15 Batch 650 Loss 1.4599 Accuracy 0.3233\n",
      "Epoch 15 Batch 700 Loss 1.4657 Accuracy 0.3227\n",
      "Saving checkpoint for epoch 15 at ./checkpoints/train/ckpt-3\n",
      "Epoch 15 Loss 1.4659 Accuracy 0.3227\n",
      "Time taken for 1 epoch: 53.74470782279968 secs\n",
      "\n",
      "Epoch 16 Batch 0 Loss 1.3589 Accuracy 0.3725\n",
      "Epoch 16 Batch 50 Loss 1.3136 Accuracy 0.3316\n",
      "Epoch 16 Batch 100 Loss 1.3246 Accuracy 0.3335\n",
      "Epoch 16 Batch 150 Loss 1.3315 Accuracy 0.3318\n",
      "Epoch 16 Batch 200 Loss 1.3409 Accuracy 0.3310\n",
      "Epoch 16 Batch 250 Loss 1.3462 Accuracy 0.3307\n",
      "Epoch 16 Batch 300 Loss 1.3509 Accuracy 0.3310\n",
      "Epoch 16 Batch 350 Loss 1.3570 Accuracy 0.3304\n",
      "Epoch 16 Batch 400 Loss 1.3652 Accuracy 0.3300\n",
      "Epoch 16 Batch 450 Loss 1.3696 Accuracy 0.3299\n",
      "Epoch 16 Batch 500 Loss 1.3732 Accuracy 0.3293\n",
      "Epoch 16 Batch 550 Loss 1.3813 Accuracy 0.3287\n",
      "Epoch 16 Batch 600 Loss 1.3864 Accuracy 0.3282\n",
      "Epoch 16 Batch 650 Loss 1.3925 Accuracy 0.3281\n",
      "Epoch 16 Batch 700 Loss 1.4004 Accuracy 0.3277\n",
      "Epoch 16 Loss 1.4007 Accuracy 0.3278\n",
      "Time taken for 1 epoch: 53.72412467002869 secs\n",
      "\n",
      "Epoch 17 Batch 0 Loss 1.2128 Accuracy 0.3137\n",
      "Epoch 17 Batch 50 Loss 1.2493 Accuracy 0.3337\n",
      "Epoch 17 Batch 100 Loss 1.2559 Accuracy 0.3380\n",
      "Epoch 17 Batch 150 Loss 1.2623 Accuracy 0.3373\n",
      "Epoch 17 Batch 200 Loss 1.2724 Accuracy 0.3364\n",
      "Epoch 17 Batch 250 Loss 1.2821 Accuracy 0.3359\n",
      "Epoch 17 Batch 300 Loss 1.2880 Accuracy 0.3349\n",
      "Epoch 17 Batch 350 Loss 1.2939 Accuracy 0.3348\n",
      "Epoch 17 Batch 400 Loss 1.3034 Accuracy 0.3342\n",
      "Epoch 17 Batch 450 Loss 1.3082 Accuracy 0.3343\n",
      "Epoch 17 Batch 500 Loss 1.3149 Accuracy 0.3343\n",
      "Epoch 17 Batch 550 Loss 1.3206 Accuracy 0.3340\n",
      "Epoch 17 Batch 600 Loss 1.3272 Accuracy 0.3334\n",
      "Epoch 17 Batch 650 Loss 1.3334 Accuracy 0.3330\n",
      "Epoch 17 Batch 700 Loss 1.3394 Accuracy 0.3324\n",
      "Epoch 17 Loss 1.3395 Accuracy 0.3324\n",
      "Time taken for 1 epoch: 52.67658233642578 secs\n",
      "\n",
      "Epoch 18 Batch 0 Loss 1.1544 Accuracy 0.3177\n",
      "Epoch 18 Batch 50 Loss 1.2076 Accuracy 0.3434\n",
      "Epoch 18 Batch 100 Loss 1.2138 Accuracy 0.3394\n",
      "Epoch 18 Batch 150 Loss 1.2255 Accuracy 0.3397\n",
      "Epoch 18 Batch 200 Loss 1.2338 Accuracy 0.3383\n",
      "Epoch 18 Batch 250 Loss 1.2375 Accuracy 0.3372\n",
      "Epoch 18 Batch 300 Loss 1.2434 Accuracy 0.3367\n",
      "Epoch 18 Batch 350 Loss 1.2492 Accuracy 0.3372\n",
      "Epoch 18 Batch 400 Loss 1.2559 Accuracy 0.3368\n",
      "Epoch 18 Batch 450 Loss 1.2597 Accuracy 0.3366\n",
      "Epoch 18 Batch 500 Loss 1.2651 Accuracy 0.3366\n",
      "Epoch 18 Batch 550 Loss 1.2709 Accuracy 0.3369\n",
      "Epoch 18 Batch 600 Loss 1.2773 Accuracy 0.3364\n",
      "Epoch 18 Batch 650 Loss 1.2814 Accuracy 0.3357\n",
      "Epoch 18 Batch 700 Loss 1.2865 Accuracy 0.3358\n",
      "Epoch 18 Loss 1.2866 Accuracy 0.3358\n",
      "Time taken for 1 epoch: 52.16602349281311 secs\n",
      "\n",
      "Epoch 19 Batch 0 Loss 1.1563 Accuracy 0.3811\n",
      "Epoch 19 Batch 50 Loss 1.1538 Accuracy 0.3418\n",
      "Epoch 19 Batch 100 Loss 1.1676 Accuracy 0.3411\n",
      "Epoch 19 Batch 150 Loss 1.1738 Accuracy 0.3409\n",
      "Epoch 19 Batch 200 Loss 1.1859 Accuracy 0.3405\n",
      "Epoch 19 Batch 250 Loss 1.1887 Accuracy 0.3419\n",
      "Epoch 19 Batch 300 Loss 1.1915 Accuracy 0.3418\n",
      "Epoch 19 Batch 350 Loss 1.1997 Accuracy 0.3419\n",
      "Epoch 19 Batch 400 Loss 1.2061 Accuracy 0.3414\n",
      "Epoch 19 Batch 450 Loss 1.2105 Accuracy 0.3411\n",
      "Epoch 19 Batch 500 Loss 1.2172 Accuracy 0.3406\n",
      "Epoch 19 Batch 550 Loss 1.2229 Accuracy 0.3399\n",
      "Epoch 19 Batch 600 Loss 1.2283 Accuracy 0.3395\n",
      "Epoch 19 Batch 650 Loss 1.2332 Accuracy 0.3393\n",
      "Epoch 19 Batch 700 Loss 1.2382 Accuracy 0.3388\n",
      "Epoch 19 Loss 1.2383 Accuracy 0.3389\n",
      "Time taken for 1 epoch: 52.29342603683472 secs\n",
      "\n",
      "Epoch 20 Batch 0 Loss 1.0950 Accuracy 0.3455\n",
      "Epoch 20 Batch 50 Loss 1.0913 Accuracy 0.3460\n",
      "Epoch 20 Batch 100 Loss 1.1160 Accuracy 0.3446\n",
      "Epoch 20 Batch 150 Loss 1.1223 Accuracy 0.3449\n",
      "Epoch 20 Batch 200 Loss 1.1285 Accuracy 0.3456\n",
      "Epoch 20 Batch 250 Loss 1.1365 Accuracy 0.3454\n",
      "Epoch 20 Batch 300 Loss 1.1470 Accuracy 0.3447\n",
      "Epoch 20 Batch 350 Loss 1.1568 Accuracy 0.3445\n",
      "Epoch 20 Batch 400 Loss 1.1593 Accuracy 0.3442\n",
      "Epoch 20 Batch 450 Loss 1.1653 Accuracy 0.3443\n",
      "Epoch 20 Batch 500 Loss 1.1712 Accuracy 0.3439\n",
      "Epoch 20 Batch 550 Loss 1.1778 Accuracy 0.3433\n",
      "Epoch 20 Batch 600 Loss 1.1833 Accuracy 0.3429\n",
      "Epoch 20 Batch 650 Loss 1.1888 Accuracy 0.3427\n",
      "Epoch 20 Batch 700 Loss 1.1937 Accuracy 0.3425\n",
      "Saving checkpoint for epoch 20 at ./checkpoints/train/ckpt-4\n",
      "Epoch 20 Loss 1.1942 Accuracy 0.3425\n",
      "Time taken for 1 epoch: 52.43977952003479 secs\n",
      "\n"
     ]
    }
   ],
   "source": [
    "for epoch in range(EPOCHS):\n",
    "  start = time.time()\n",
    "  \n",
    "  train_loss.reset_states()\n",
    "  train_accuracy.reset_states()\n",
    "  \n",
    "  # inp -> portuguese, tar -> english\n",
    "  for (batch, (inp, tar)) in enumerate(train_dataset):\n",
    "    train_step(inp, tar)\n",
    "    \n",
    "    if batch % 50 == 0:\n",
    "      print ('Epoch {} Batch {} Loss {:.4f} Accuracy {:.4f}'.format(\n",
    "          epoch + 1, batch, train_loss.result(), train_accuracy.result()))\n",
    "      \n",
    "  if (epoch + 1) % 5 == 0:\n",
    "    ckpt_save_path = ckpt_manager.save()\n",
    "    print ('Saving checkpoint for epoch {} at {}'.format(epoch+1,\n",
    "                                                         ckpt_save_path))\n",
    "    \n",
    "  print ('Epoch {} Loss {:.4f} Accuracy {:.4f}'.format(epoch + 1, \n",
    "                                                train_loss.result(), \n",
    "                                                train_accuracy.result()))\n",
    "\n",
    "  print ('Time taken for 1 epoch: {} secs\\n'.format(time.time() - start))"
   ]
  },
  {
   "cell_type": "markdown",
   "metadata": {},
   "source": [
    "## Evaluate\n",
    "The following steps are used for evaluation:\n",
    "\n",
    "- Encode the input sentence using the Portuguese tokenizer (tokenizer_pt). Moreover, add the start and end token so the input is equivalent to what the model is trained with. This is the encoder input.\n",
    "- The decoder input is the start token == tokenizer_en.vocab_size.\n",
    "- Calculate the padding masks and the look ahead masks.\n",
    "- The decoder then outputs the predictions by looking at the encoder output and its own output (self-attention).\n",
    "- Select the last word and calculate the argmax of that.\n",
    "- Concatentate the predicted word to the decoder input as pass it to the decoder.\n",
    "- In this approach, the decoder predicts the next word based on the previous words it predicted."
   ]
  },
  {
   "cell_type": "code",
   "execution_count": 57,
   "metadata": {},
   "outputs": [],
   "source": [
    "def evaluate(inp_sentence):\n",
    "  start_token = [tokenizer_pt.vocab_size]\n",
    "  end_token = [tokenizer_pt.vocab_size + 1]\n",
    "  \n",
    "  # inp sentence is portuguese, hence adding the start and end token\n",
    "  inp_sentence = start_token + tokenizer_pt.encode(inp_sentence) + end_token\n",
    "  encoder_input = tf.expand_dims(inp_sentence, 0)\n",
    "  \n",
    "  # as the target is english, the first word to the transformer should be the\n",
    "  # english start token.\n",
    "  decoder_input = [tokenizer_en.vocab_size]\n",
    "  output = tf.expand_dims(decoder_input, 0)\n",
    "    \n",
    "  for i in range(MAX_LENGTH):\n",
    "    enc_padding_mask, combined_mask, dec_padding_mask = create_masks(\n",
    "        encoder_input, output)\n",
    "  \n",
    "    # predictions.shape == (batch_size, seq_len, vocab_size)\n",
    "    predictions, attention_weights = transformer(encoder_input, \n",
    "                                                 output,\n",
    "                                                 False,\n",
    "                                                 enc_padding_mask,\n",
    "                                                 combined_mask,\n",
    "                                                 dec_padding_mask)\n",
    "    \n",
    "    # select the last word from the seq_len dimension\n",
    "    predictions = predictions[: ,-1:, :]  # (batch_size, 1, vocab_size)\n",
    "\n",
    "    predicted_id = tf.cast(tf.argmax(predictions, axis = -1), tf.int32)\n",
    "    \n",
    "    # return the result if the predicted_id is equal to the end token\n",
    "    if predicted_id == tokenizer_en.vocab_size+1:\n",
    "      return tf.squeeze(output, axis = 0), attention_weights\n",
    "    \n",
    "    # concatentate the predicted_id to the output which is given to the decoder\n",
    "    # as its input.\n",
    "    output = tf.concat([output, predicted_id], axis = -1)\n",
    "\n",
    "  return tf.squeeze(output, axis = 0), attention_weights"
   ]
  },
  {
   "cell_type": "code",
   "execution_count": 58,
   "metadata": {},
   "outputs": [],
   "source": [
    "def plot_attention_weights(attention, sentence, result, layer):\n",
    "  fig = plt.figure(figsize = (16, 8))\n",
    "  \n",
    "  sentence = tokenizer_pt.encode(sentence)\n",
    "  \n",
    "  attention = tf.squeeze(attention[layer], axis = 0)\n",
    "  \n",
    "  for head in range(attention.shape[0]):\n",
    "    ax = fig.add_subplot(2, 4, head+1)\n",
    "    \n",
    "    # plot the attention weights\n",
    "    ax.matshow(attention[head][:-1, :], cmap = 'viridis')\n",
    "\n",
    "    fontdict = {'fontsize': 10}\n",
    "    \n",
    "    ax.set_xticks(range(len(sentence)+2))\n",
    "    ax.set_yticks(range(len(result)))\n",
    "    \n",
    "    ax.set_ylim(len(result)-1.5, -0.5)\n",
    "        \n",
    "    ax.set_xticklabels(\n",
    "        ['<start>']+[tokenizer_pt.decode([i]) for i in sentence]+['<end>'], \n",
    "        fontdict = fontdict, rotation = 90)\n",
    "    \n",
    "    ax.set_yticklabels([tokenizer_en.decode([i]) for i in result \n",
    "                        if i < tokenizer_en.vocab_size], \n",
    "                       fontdict = fontdict)\n",
    "    \n",
    "    ax.set_xlabel('Head {}'.format(head+1))\n",
    "  \n",
    "  plt.tight_layout()\n",
    "  plt.show()"
   ]
  },
  {
   "cell_type": "code",
   "execution_count": 59,
   "metadata": {},
   "outputs": [],
   "source": [
    "def translate(sentence, plot = ''):\n",
    "  result, attention_weights = evaluate(sentence)\n",
    "  \n",
    "  predicted_sentence = tokenizer_en.decode([i for i in result \n",
    "                                            if i < tokenizer_en.vocab_size])  \n",
    "\n",
    "  print('Input: {}'.format(sentence))\n",
    "  print('Predicted translation: {}'.format(predicted_sentence))\n",
    "  \n",
    "  if plot:\n",
    "    plot_attention_weights(attention_weights, sentence, result, plot)"
   ]
  },
  {
   "cell_type": "code",
   "execution_count": 60,
   "metadata": {},
   "outputs": [
    {
     "name": "stdout",
     "output_type": "stream",
     "text": [
      "Input: este é um problema que temos que resolver.\n",
      "Predicted translation: this is a problem that we have to solve the problem of there .\n",
      "Real translation: this is a problem we have to solve .\n"
     ]
    }
   ],
   "source": [
    "translate(\"este é um problema que temos que resolver.\")\n",
    "print (\"Real translation: this is a problem we have to solve .\")"
   ]
  },
  {
   "cell_type": "code",
   "execution_count": 61,
   "metadata": {},
   "outputs": [
    {
     "name": "stdout",
     "output_type": "stream",
     "text": [
      "Input: os meus vizinhos ouviram sobre esta ideia.\n",
      "Predicted translation: my neighbors heard about this idea .\n",
      "Real translation: and my neighboring homes heard about this idea .\n"
     ]
    }
   ],
   "source": [
    "translate(\"os meus vizinhos ouviram sobre esta ideia.\")\n",
    "print (\"Real translation: and my neighboring homes heard about this idea .\")"
   ]
  },
  {
   "cell_type": "code",
   "execution_count": 62,
   "metadata": {},
   "outputs": [
    {
     "name": "stdout",
     "output_type": "stream",
     "text": [
      "Input: vou então muito rapidamente partilhar convosco algumas histórias de algumas coisas mágicas que aconteceram.\n",
      "Predicted translation: so i 'm going to share very quickly share with you some bad stories that happened .\n",
      "Real translation: so i 'll just share with you some stories very quickly of some magical things that have happened .\n"
     ]
    }
   ],
   "source": [
    "translate(\"vou então muito rapidamente partilhar convosco algumas histórias de algumas coisas mágicas que aconteceram.\")\n",
    "print (\"Real translation: so i 'll just share with you some stories very quickly of some magical things that have happened .\")"
   ]
  },
  {
   "cell_type": "code",
   "execution_count": 63,
   "metadata": {},
   "outputs": [
    {
     "name": "stdout",
     "output_type": "stream",
     "text": [
      "Input: este é o primeiro livro que eu fiz.\n",
      "Predicted translation: this is the first book i did .\n"
     ]
    },
    {
     "data": {
      "image/png": "[encoded data removed]",
      "text/plain": [
       "<Figure size 1152x576 with 8 Axes>"
      ]
     },
     "metadata": {
      "needs_background": "light"
     },
     "output_type": "display_data"
    },
    {
     "name": "stdout",
     "output_type": "stream",
     "text": [
      "Real translation: this is the first book i've ever done.\n"
     ]
    }
   ],
   "source": [
    "translate(\"este é o primeiro livro que eu fiz.\", plot = 'decoder_layer4_block2')\n",
    "print (\"Real translation: this is the first book i've ever done.\")"
   ]
  },
  {
   "cell_type": "code",
   "execution_count": null,
   "metadata": {},
   "outputs": [],
   "source": []
  }
 ],
 "metadata": {
  "kernelspec": {
   "display_name": "Python 3",
   "language": "python",
   "name": "python3"
  },
  "language_info": {
   "codemirror_mode": {
    "name": "ipython",
    "version": 3
   },
   "file_extension": ".py",
   "mimetype": "text/x-python",
   "name": "python",
   "nbconvert_exporter": "python",
   "pygments_lexer": "ipython3",
   "version": "3.7.7"
  }
 },
 "nbformat": 4,
 "nbformat_minor": 4
}
