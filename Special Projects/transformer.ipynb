{
 "cells": [
  {
   "cell_type": "markdown",
   "metadata": {},
   "source": [
    "The core idea behind the Transformer model is self-attention—the ability to attend to different positions of the input sequence to compute a representation of that sequence. Transformer creates stacks of self-attention layers and is explained below in the sections Scaled dot product attention and Multi-head attention.\n",
    "\n",
    "A transformer model handles variable-sized input using stacks of self-attention layers instead of RNNs or CNNs. This general architecture has a number of advantages:\n",
    "\n",
    "- It make no assumptions about the temporal/spatial relationships across the data. This is ideal for processing a set of objects (for example, StarCraft units).\n",
    "- Layer outputs can be calculated in parallel, instead of a series like an RNN.\n",
    "- Distant items can affect each other's output without passing through many RNN-steps, or convolution layers (see Scene Memory Transformer for example).\n",
    "- It can learn long-range dependencies. This is a challenge in many sequence tasks.\n",
    "\n",
    "The downsides of this architecture are:\n",
    "\n",
    "- For a time-series, the output for a time-step is calculated from the entire history instead of only the inputs and current hidden-state. This may be less efficient.\n",
    "- If the input does have a temporal/spatial relationship, like text, some positional encoding must be added or the model will effectively see a bag of words."
   ]
  },
  {
   "cell_type": "code",
   "execution_count": 1,
   "metadata": {},
   "outputs": [],
   "source": [
    "import time\n",
    "\n",
    "import numpy as np\n",
    "import tensorflow as tf\n",
    "import matplotlib.pyplot as plt\n",
    "import tensorflow_datasets as tfds"
   ]
  },
  {
   "cell_type": "code",
   "execution_count": 2,
   "metadata": {},
   "outputs": [],
   "source": [
    "# Setup Input Pipeline\n",
    "\n",
    "examples, metadata = tfds.load('ted_hrlr_translate/pt_to_en', with_info = True,\n",
    "                               as_supervised = True)\n",
    "train_examples, val_examples = examples['train'], examples['validation']"
   ]
  },
  {
   "cell_type": "code",
   "execution_count": 3,
   "metadata": {},
   "outputs": [],
   "source": [
    "# Create a custom subwords tokenizer from the training dataset.\n",
    "\n",
    "tokenizer_en = tfds.features.text.SubwordTextEncoder.build_from_corpus(\n",
    "    (en.numpy() for pt, en in train_examples), target_vocab_size = 2**13)\n",
    "\n",
    "tokenizer_pt = tfds.features.text.SubwordTextEncoder.build_from_corpus(\n",
    "    (pt.numpy() for pt, en in train_examples), target_vocab_size = 2**13)"
   ]
  },
  {
   "cell_type": "code",
   "execution_count": 4,
   "metadata": {},
   "outputs": [
    {
     "name": "stdout",
     "output_type": "stream",
     "text": [
      "Tokenized string is [7915, 1248, 7946, 7194, 13, 2799, 7877]\n",
      "The original string: Transformer is awesome.\n"
     ]
    }
   ],
   "source": [
    "sample_string = 'Transformer is awesome.'\n",
    "\n",
    "tokenized_string = tokenizer_en.encode(sample_string)\n",
    "print ('Tokenized string is {}'.format(tokenized_string))\n",
    "\n",
    "original_string = tokenizer_en.decode(tokenized_string)\n",
    "print ('The original string: {}'.format(original_string))\n",
    "\n",
    "assert original_string == sample_string"
   ]
  },
  {
   "cell_type": "code",
   "execution_count": 5,
   "metadata": {},
   "outputs": [
    {
     "name": "stdout",
     "output_type": "stream",
     "text": [
      "7915 ----> T\n",
      "1248 ----> ran\n",
      "7946 ----> s\n",
      "7194 ----> former \n",
      "13 ----> is \n",
      "2799 ----> awesome\n",
      "7877 ----> .\n"
     ]
    }
   ],
   "source": [
    "for ts in tokenized_string:\n",
    "  print ('{} ----> {}'.format(ts, tokenizer_en.decode([ts])))"
   ]
  },
  {
   "cell_type": "code",
   "execution_count": 6,
   "metadata": {},
   "outputs": [],
   "source": [
    "BUFFER_SIZE = 20000\n",
    "BATCH_SIZE = 64"
   ]
  },
  {
   "cell_type": "code",
   "execution_count": 7,
   "metadata": {},
   "outputs": [],
   "source": [
    "# Add a start and end token to the input and target.\n",
    "\n",
    "def encode(lang1, lang2):\n",
    "  lang1 = [tokenizer_pt.vocab_size] + tokenizer_pt.encode(\n",
    "      lang1.numpy()) + [tokenizer_pt.vocab_size+1]\n",
    "\n",
    "  lang2 = [tokenizer_en.vocab_size] + tokenizer_en.encode(\n",
    "      lang2.numpy()) + [tokenizer_en.vocab_size+1]\n",
    "  \n",
    "  return lang1, lang2"
   ]
  },
  {
   "cell_type": "code",
   "execution_count": 8,
   "metadata": {},
   "outputs": [],
   "source": [
    "# use Dataset.map to apply this function to each element of the dataset\n",
    "\n",
    "def tf_encode(pt, en):\n",
    "  result_pt, result_en = tf.py_function(encode, [pt, en], [tf.int64, tf.int64])\n",
    "  result_pt.set_shape([None])\n",
    "  result_en.set_shape([None])\n",
    "\n",
    "  return result_pt, result_en"
   ]
  },
  {
   "cell_type": "code",
   "execution_count": 9,
   "metadata": {},
   "outputs": [],
   "source": [
    "MAX_LENGTH = 40"
   ]
  },
  {
   "cell_type": "code",
   "execution_count": 10,
   "metadata": {},
   "outputs": [],
   "source": [
    "def filter_max_length(x, y, max_length = MAX_LENGTH):\n",
    "  return tf.logical_and(tf.size(x) <= max_length,\n",
    "                        tf.size(y) <= max_length)"
   ]
  },
  {
   "cell_type": "code",
   "execution_count": 11,
   "metadata": {},
   "outputs": [],
   "source": [
    "train_preprocessed = (\n",
    "    train_examples\n",
    "    .map(tf_encode) \n",
    "    .filter(filter_max_length)\n",
    "    # cache the dataset to memory to get a speedup while reading from it.\n",
    "    .cache()\n",
    "    .shuffle(BUFFER_SIZE))\n",
    "\n",
    "val_preprocessed = (\n",
    "    val_examples\n",
    "    .map(tf_encode)\n",
    "    .filter(filter_max_length))        "
   ]
  },
  {
   "cell_type": "code",
   "execution_count": 12,
   "metadata": {},
   "outputs": [],
   "source": [
    "train_dataset = (train_preprocessed\n",
    "                 .padded_batch(BATCH_SIZE, padded_shapes = ([None], [None]))\n",
    "                 .prefetch(tf.data.experimental.AUTOTUNE))\n",
    "\n",
    "\n",
    "val_dataset = (val_preprocessed\n",
    "               .padded_batch(BATCH_SIZE,  padded_shapes = ([None], [None])))"
   ]
  },
  {
   "cell_type": "code",
   "execution_count": 13,
   "metadata": {},
   "outputs": [
    {
     "data": {
      "text/plain": [
       "(<tf.Tensor: shape=(64, 38), dtype=int64, numpy=\n",
       " array([[8214,  342, 3032, ...,    0,    0,    0],\n",
       "        [8214,   95,  198, ...,    0,    0,    0],\n",
       "        [8214, 4479, 7990, ...,    0,    0,    0],\n",
       "        ...,\n",
       "        [8214,  584,   12, ...,    0,    0,    0],\n",
       "        [8214,   59, 1548, ...,    0,    0,    0],\n",
       "        [8214,  118,   34, ...,    0,    0,    0]])>,\n",
       " <tf.Tensor: shape=(64, 40), dtype=int64, numpy=\n",
       " array([[8087,   98,   25, ...,    0,    0,    0],\n",
       "        [8087,   12,   20, ...,    0,    0,    0],\n",
       "        [8087,   12, 5453, ...,    0,    0,    0],\n",
       "        ...,\n",
       "        [8087,   18, 2059, ...,    0,    0,    0],\n",
       "        [8087,   16, 1436, ...,    0,    0,    0],\n",
       "        [8087,   15,   57, ...,    0,    0,    0]])>)"
      ]
     },
     "execution_count": 13,
     "metadata": {},
     "output_type": "execute_result"
    }
   ],
   "source": [
    "pt_batch, en_batch = next(iter(val_dataset))\n",
    "pt_batch, en_batch"
   ]
  },
  {
   "cell_type": "markdown",
   "metadata": {},
   "source": [
    "## Positional encoding\n",
    "\n",
    "Since this model doesn't contain any recurrence or convolution, positional encoding is added to give the model some information about the relative position of the words in the sentence.\n",
    "\n",
    "The positional encoding vector is added to the embedding vector. Embeddings represent a token in a d-dimensional space where tokens with similar meaning will be closer to each other. But the embeddings do not encode the relative position of words in a sentence. So after adding the positional encoding, words will be closer to each other based on the similarity of their meaning and their position in the sentence, in the d-dimensional space."
   ]
  },
  {
   "cell_type": "code",
   "execution_count": 14,
   "metadata": {},
   "outputs": [],
   "source": [
    "def get_angles(pos, i, d_model):\n",
    "  angle_rates = 1 / np.power(10000, (2 * (i//2)) / np.float32(d_model))\n",
    "  return pos * angle_rates"
   ]
  },
  {
   "cell_type": "code",
   "execution_count": 15,
   "metadata": {},
   "outputs": [],
   "source": [
    "def positional_encoding(position, d_model):\n",
    "  angle_rads = get_angles(np.arange(position)[:, np.newaxis],\n",
    "                          np.arange(d_model)[np.newaxis, :],\n",
    "                          d_model)\n",
    "  \n",
    "  # apply sin to even indices in the array; 2i\n",
    "  angle_rads[:, 0::2] = np.sin(angle_rads[:, 0::2])\n",
    "  \n",
    "  # apply cos to odd indices in the array; 2i+1\n",
    "  angle_rads[:, 1::2] = np.cos(angle_rads[:, 1::2])\n",
    "    \n",
    "  pos_encoding = angle_rads[np.newaxis, ...]\n",
    "    \n",
    "  return tf.cast(pos_encoding, dtype = tf.float32)"
   ]
  },
  {
   "cell_type": "code",
   "execution_count": 16,
   "metadata": {},
   "outputs": [
    {
     "name": "stdout",
     "output_type": "stream",
     "text": [
      "(1, 50, 512)\n"
     ]
    },
    {
     "data": {
      "image/png": "[encoded data removed]",
      "text/plain": [
       "<Figure size 432x288 with 2 Axes>"
      ]
     },
     "metadata": {
      "needs_background": "light"
     },
     "output_type": "display_data"
    }
   ],
   "source": [
    "pos_encoding = positional_encoding(50, 512)\n",
    "print (pos_encoding.shape)\n",
    "\n",
    "plt.pcolormesh(pos_encoding[0], cmap = 'RdBu')\n",
    "plt.xlabel('Depth')\n",
    "plt.xlim((0, 512))\n",
    "plt.ylabel('Position')\n",
    "plt.colorbar()\n",
    "plt.show()"
   ]
  },
  {
   "cell_type": "markdown",
   "metadata": {},
   "source": [
    "## Masking\n",
    "\n",
    "Mask all the pad tokens in the batch of sequence. It ensures that the model does not treat padding as the input. The mask indicates where pad value 0 is present: it outputs a 1 at those locations, and a 0 otherwise."
   ]
  },
  {
   "cell_type": "code",
   "execution_count": 17,
   "metadata": {},
   "outputs": [],
   "source": [
    "def create_padding_mask(seq):\n",
    "  seq = tf.cast(tf.math.equal(seq, 0), tf.float32)\n",
    "  \n",
    "  # add extra dimensions to add the padding\n",
    "  # to the attention logits.\n",
    "  return seq[:, tf.newaxis, tf.newaxis, :]  # (batch_size, 1, 1, seq_len)"
   ]
  },
  {
   "cell_type": "code",
   "execution_count": 18,
   "metadata": {},
   "outputs": [
    {
     "data": {
      "text/plain": [
       "<tf.Tensor: shape=(3, 1, 1, 5), dtype=float32, numpy=\n",
       "array([[[[0., 0., 1., 1., 0.]]],\n",
       "\n",
       "\n",
       "       [[[0., 0., 0., 1., 1.]]],\n",
       "\n",
       "\n",
       "       [[[1., 1., 1., 0., 0.]]]], dtype=float32)>"
      ]
     },
     "execution_count": 18,
     "metadata": {},
     "output_type": "execute_result"
    }
   ],
   "source": [
    "x = tf.constant([[7, 6, 0, 0, 1], [1, 2, 3, 0, 0], [0, 0, 0, 4, 5]])\n",
    "create_padding_mask(x)"
   ]
  },
  {
   "cell_type": "markdown",
   "metadata": {},
   "source": [
    "The look-ahead mask is used to mask the future tokens in a sequence. In other words, the mask indicates which entries should not be used.\n",
    "\n",
    "This means that to predict the third word, only the first and second word will be used. Similarly to predict the fourth word, only the first, second and the third word will be used and so on."
   ]
  },
  {
   "cell_type": "code",
   "execution_count": 19,
   "metadata": {},
   "outputs": [],
   "source": [
    "def create_look_ahead_mask(size):\n",
    "  mask = 1 - tf.linalg.band_part(tf.ones((size, size)), -1, 0)\n",
    "  return mask  # (seq_len, seq_len)"
   ]
  },
  {
   "cell_type": "code",
   "execution_count": 20,
   "metadata": {},
   "outputs": [
    {
     "data": {
      "text/plain": [
       "<tf.Tensor: shape=(3, 3), dtype=float32, numpy=\n",
       "array([[0., 1., 1.],\n",
       "       [0., 0., 1.],\n",
       "       [0., 0., 0.]], dtype=float32)>"
      ]
     },
     "execution_count": 20,
     "metadata": {},
     "output_type": "execute_result"
    }
   ],
   "source": [
    "x = tf.random.uniform((1, 3))\n",
    "temp = create_look_ahead_mask(x.shape[1])\n",
    "temp"
   ]
  },
  {
   "cell_type": "markdown",
   "metadata": {},
   "source": [
    "## Scaled dot product attention\n",
    "\n",
    "The attention function used by the transformer takes three inputs: Q (query), K (key), V (value).\n",
    "\n",
    "The dot-product attention is scaled by a factor of square root of the depth. This is done because for large values of depth, the dot product grows large in magnitude pushing the softmax function where it has small gradients resulting in a very hard softmax.\n",
    "\n",
    "For example, consider that Q and K have a mean of 0 and variance of 1. Their matrix multiplication will have a mean of 0 and variance of dk. Hence, square root of dk is used for scaling (and not any other number) because the matmul of Q and K should have a mean of 0 and variance of 1, and you get a gentler softmax.\n",
    "\n",
    "The mask is multiplied with -1e9 (close to negative infinity). This is done because the mask is summed with the scaled matrix multiplication of Q and K and is applied immediately before a softmax. The goal is to zero out these cells, and large negative inputs to softmax are near zero in the output."
   ]
  },
  {
   "cell_type": "code",
   "execution_count": 21,
   "metadata": {},
   "outputs": [],
   "source": [
    "def scaled_dot_product_attention(q, k, v, mask):\n",
    "  \"\"\"Calculate the attention weights.\n",
    "  q, k, v must have matching leading dimensions.\n",
    "  k, v must have matching penultimate dimension, i.e.: seq_len_k = seq_len_v.\n",
    "  The mask has different shapes depending on its type(padding or look ahead) \n",
    "  but it must be broadcastable for addition.\n",
    "  \n",
    "  Args:\n",
    "    q: query shape == (..., seq_len_q, depth)\n",
    "    k: key shape == (..., seq_len_k, depth)\n",
    "    v: value shape == (..., seq_len_v, depth_v)\n",
    "    mask: Float tensor with shape broadcastable \n",
    "          to (..., seq_len_q, seq_len_k). Defaults to None.\n",
    "    \n",
    "  Returns:\n",
    "    output, attention_weights\n",
    "  \"\"\"\n",
    "\n",
    "  matmul_qk = tf.matmul(q, k, transpose_b = True)  # (..., seq_len_q, seq_len_k)\n",
    "  \n",
    "  # scale matmul_qk\n",
    "  dk = tf.cast(tf.shape(k)[-1], tf.float32)\n",
    "  scaled_attention_logits = matmul_qk / tf.math.sqrt(dk)\n",
    "\n",
    "  # add the mask to the scaled tensor.\n",
    "  if mask is not None:\n",
    "    scaled_attention_logits += (mask * -1e9)  \n",
    "\n",
    "  # softmax is normalized on the last axis (seq_len_k) so that the scores\n",
    "  # add up to 1.\n",
    "  attention_weights = tf.nn.softmax(scaled_attention_logits, axis = -1)  # (..., seq_len_q, seq_len_k)\n",
    "\n",
    "  output = tf.matmul(attention_weights, v)  # (..., seq_len_q, depth_v)\n",
    "\n",
    "  return output, attention_weights"
   ]
  },
  {
   "cell_type": "markdown",
   "metadata": {},
   "source": [
    "As the softmax normalization is done on K, its values decide the amount of importance given to Q.\n",
    "\n",
    "The output represents the multiplication of the attention weights and the V (value) vector. This ensures that the words you want to focus on are kept as-is and the irrelevant words are flushed out."
   ]
  },
  {
   "cell_type": "code",
   "execution_count": 22,
   "metadata": {},
   "outputs": [],
   "source": [
    "def print_out(q, k, v):\n",
    "  temp_out, temp_attn = scaled_dot_product_attention(\n",
    "      q, k, v, None)\n",
    "  print ('Attention weights are:')\n",
    "  print (temp_attn)\n",
    "  print ('Output is:')\n",
    "  print (temp_out)"
   ]
  },
  {
   "cell_type": "code",
   "execution_count": 23,
   "metadata": {},
   "outputs": [
    {
     "name": "stdout",
     "output_type": "stream",
     "text": [
      "Attention weights are:\n",
      "tf.Tensor([[0. 1. 0. 0.]], shape=(1, 4), dtype=float32)\n",
      "Output is:\n",
      "tf.Tensor([[10.  0.]], shape=(1, 2), dtype=float32)\n"
     ]
    }
   ],
   "source": [
    "np.set_printoptions(suppress = True)\n",
    "\n",
    "temp_k = tf.constant([[10,0,0],\n",
    "                      [0,10,0],\n",
    "                      [0,0,10],\n",
    "                      [0,0,10]], dtype = tf.float32)  # (4, 3)\n",
    "\n",
    "temp_v = tf.constant([[   1,0],\n",
    "                      [  10,0],\n",
    "                      [ 100,5],\n",
    "                      [1000,6]], dtype = tf.float32)  # (4, 2)\n",
    "\n",
    "# This `query` aligns with the second `key`,\n",
    "# so the second `value` is returned.\n",
    "temp_q = tf.constant([[0, 10, 0]], dtype = tf.float32)  # (1, 3)\n",
    "print_out(temp_q, temp_k, temp_v)"
   ]
  },
  {
   "cell_type": "code",
   "execution_count": 24,
   "metadata": {},
   "outputs": [
    {
     "name": "stdout",
     "output_type": "stream",
     "text": [
      "Attention weights are:\n",
      "tf.Tensor([[0.  0.  0.5 0.5]], shape=(1, 4), dtype=float32)\n",
      "Output is:\n",
      "tf.Tensor([[550.    5.5]], shape=(1, 2), dtype=float32)\n"
     ]
    }
   ],
   "source": [
    "# This query aligns with a repeated key (third and fourth), \n",
    "# so all associated values get averaged.\n",
    "temp_q = tf.constant([[0, 0, 10]], dtype = tf.float32)  # (1, 3)\n",
    "print_out(temp_q, temp_k, temp_v)"
   ]
  },
  {
   "cell_type": "code",
   "execution_count": 25,
   "metadata": {},
   "outputs": [
    {
     "name": "stdout",
     "output_type": "stream",
     "text": [
      "Attention weights are:\n",
      "tf.Tensor([[0.5 0.5 0.  0. ]], shape=(1, 4), dtype=float32)\n",
      "Output is:\n",
      "tf.Tensor([[5.5 0. ]], shape=(1, 2), dtype=float32)\n"
     ]
    }
   ],
   "source": [
    "# This query aligns equally with the first and second key, \n",
    "# so their values get averaged.\n",
    "temp_q = tf.constant([[10, 10, 0]], dtype = tf.float32)  # (1, 3)\n",
    "print_out(temp_q, temp_k, temp_v)"
   ]
  },
  {
   "cell_type": "code",
   "execution_count": 26,
   "metadata": {},
   "outputs": [
    {
     "name": "stdout",
     "output_type": "stream",
     "text": [
      "Attention weights are:\n",
      "tf.Tensor(\n",
      "[[0.  0.  0.5 0.5]\n",
      " [0.  1.  0.  0. ]\n",
      " [0.5 0.5 0.  0. ]], shape=(3, 4), dtype=float32)\n",
      "Output is:\n",
      "tf.Tensor(\n",
      "[[550.    5.5]\n",
      " [ 10.    0. ]\n",
      " [  5.5   0. ]], shape=(3, 2), dtype=float32)\n"
     ]
    }
   ],
   "source": [
    "# Pass all the queries together.\n",
    "\n",
    "temp_q = tf.constant([[0, 0, 10], [0, 10, 0], [10, 10, 0]], dtype = tf.float32)  # (3, 3)\n",
    "print_out(temp_q, temp_k, temp_v)"
   ]
  },
  {
   "cell_type": "markdown",
   "metadata": {},
   "source": [
    "## Multi-head attention\n",
    "\n",
    "Multi-head attention consists of four parts:\n",
    "\n",
    "- Linear layers and split into heads.\n",
    "- Scaled dot-product attention.\n",
    "- Concatenation of heads.\n",
    "- Final linear layer.\n",
    "\n",
    "Each multi-head attention block gets three inputs; Q (query), K (key), V (value). These are put through linear (Dense) layers and split up into multiple heads.\n",
    "\n",
    "The scaled_dot_product_attention defined above is applied to each head (broadcasted for efficiency). An appropriate mask must be used in the attention step. The attention output for each head is then concatenated (using tf.transpose, and tf.reshape) and put through a final Dense layer.\n",
    "\n",
    "Instead of one single attention head, Q, K, and V are split into multiple heads because it allows the model to jointly attend to information at different positions from different representational spaces. After the split each head has a reduced dimensionality, so the total computation cost is the same as a single head attention with full dimensionality."
   ]
  },
  {
   "cell_type": "code",
   "execution_count": 27,
   "metadata": {},
   "outputs": [],
   "source": [
    "class MultiHeadAttention(tf.keras.layers.Layer):\n",
    "  def __init__(self, d_model, num_heads):\n",
    "    super(MultiHeadAttention, self).__init__()\n",
    "    self.num_heads = num_heads\n",
    "    self.d_model = d_model\n",
    "    \n",
    "    assert d_model % self.num_heads == 0\n",
    "    \n",
    "    self.depth = d_model // self.num_heads\n",
    "    \n",
    "    self.wq = tf.keras.layers.Dense(d_model)\n",
    "    self.wk = tf.keras.layers.Dense(d_model)\n",
    "    self.wv = tf.keras.layers.Dense(d_model)\n",
    "    \n",
    "    self.dense = tf.keras.layers.Dense(d_model)\n",
    "        \n",
    "  def split_heads(self, x, batch_size):\n",
    "    \"\"\"Split the last dimension into (num_heads, depth).\n",
    "    Transpose the result such that the shape is (batch_size, num_heads, seq_len, depth)\n",
    "    \"\"\"\n",
    "    x = tf.reshape(x, (batch_size, -1, self.num_heads, self.depth))\n",
    "    return tf.transpose(x, perm = [0, 2, 1, 3])\n",
    "    \n",
    "  def call(self, v, k, q, mask):\n",
    "    batch_size = tf.shape(q)[0]\n",
    "    \n",
    "    q = self.wq(q)  # (batch_size, seq_len, d_model)\n",
    "    k = self.wk(k)  # (batch_size, seq_len, d_model)\n",
    "    v = self.wv(v)  # (batch_size, seq_len, d_model)\n",
    "    \n",
    "    q = self.split_heads(q, batch_size)  # (batch_size, num_heads, seq_len_q, depth)\n",
    "    k = self.split_heads(k, batch_size)  # (batch_size, num_heads, seq_len_k, depth)\n",
    "    v = self.split_heads(v, batch_size)  # (batch_size, num_heads, seq_len_v, depth)\n",
    "    \n",
    "    # scaled_attention.shape == (batch_size, num_heads, seq_len_q, depth)\n",
    "    # attention_weights.shape == (batch_size, num_heads, seq_len_q, seq_len_k)\n",
    "    scaled_attention, attention_weights = scaled_dot_product_attention(\n",
    "        q, k, v, mask)\n",
    "    \n",
    "    scaled_attention = tf.transpose(scaled_attention, perm = [0, 2, 1, 3])  # (batch_size, seq_len_q, num_heads, depth)\n",
    "\n",
    "    concat_attention = tf.reshape(scaled_attention, \n",
    "                                  (batch_size, -1, self.d_model))  # (batch_size, seq_len_q, d_model)\n",
    "\n",
    "    output = self.dense(concat_attention)  # (batch_size, seq_len_q, d_model)\n",
    "        \n",
    "    return output, attention_weights"
   ]
  },
  {
   "cell_type": "code",
   "execution_count": 28,
   "metadata": {},
   "outputs": [
    {
     "data": {
      "text/plain": [
       "(TensorShape([1, 60, 512]), TensorShape([1, 8, 60, 60]))"
      ]
     },
     "execution_count": 28,
     "metadata": {},
     "output_type": "execute_result"
    }
   ],
   "source": [
    "# Create a MultiHeadAttention layer to try out. At each location in the sequence, y\n",
    "# The MultiHeadAttention runs all 8 attention heads across all other locations in the sequence, returning a new vector of the same length at each location.\n",
    "\n",
    "temp_mha = MultiHeadAttention(d_model = 512, num_heads = 8)\n",
    "y = tf.random.uniform((1, 60, 512))  # (batch_size, encoder_sequence, d_model)\n",
    "out, attn = temp_mha(y, k = y, q = y, mask = None)\n",
    "out.shape, attn.shape"
   ]
  },
  {
   "cell_type": "code",
   "execution_count": 29,
   "metadata": {},
   "outputs": [],
   "source": [
    "# Point wise feed forward network\n",
    "\n",
    "def point_wise_feed_forward_network(d_model, dff):\n",
    "  return tf.keras.Sequential([\n",
    "      tf.keras.layers.Dense(dff, activation = 'relu'),  # (batch_size, seq_len, dff)\n",
    "      tf.keras.layers.Dense(d_model)  # (batch_size, seq_len, d_model)\n",
    "  ])"
   ]
  },
  {
   "cell_type": "code",
   "execution_count": 30,
   "metadata": {},
   "outputs": [
    {
     "data": {
      "text/plain": [
       "TensorShape([64, 50, 512])"
      ]
     },
     "execution_count": 30,
     "metadata": {},
     "output_type": "execute_result"
    }
   ],
   "source": [
    "sample_ffn = point_wise_feed_forward_network(512, 2048)\n",
    "sample_ffn(tf.random.uniform((64, 50, 512))).shape"
   ]
  },
  {
   "cell_type": "markdown",
   "metadata": {},
   "source": [
    "## Encoder and decoder\n",
    "\n",
    "The transformer model follows the same general pattern as a standard sequence to sequence with attention model.\n",
    "\n",
    "- The input sentence is passed through N encoder layers that generates an output for each word/token in the sequence.\n",
    "- The decoder attends on the encoder's output and its own input (self-attention) to predict the next word.\n",
    "\n",
    "## Encoder layer\n",
    "Each encoder layer consists of sublayers:\n",
    "\n",
    "- Multi-head attention (with padding mask)\n",
    "- Point wise feed forward networks.\n",
    "- Each of these sublayers has a residual connection around it followed by a layer normalization. Residual connections help in avoiding the vanishing gradient problem in deep networks.\n",
    "\n",
    "The output of each sublayer is LayerNorm(x + Sublayer(x)). The normalization is done on the d_model (last) axis. There are N encoder layers in the transformer."
   ]
  },
  {
   "cell_type": "code",
   "execution_count": 31,
   "metadata": {},
   "outputs": [],
   "source": [
    "class EncoderLayer(tf.keras.layers.Layer):\n",
    "  def __init__(self, d_model, num_heads, dff, rate = 0.1):\n",
    "    super(EncoderLayer, self).__init__()\n",
    "\n",
    "    self.mha = MultiHeadAttention(d_model, num_heads)\n",
    "    self.ffn = point_wise_feed_forward_network(d_model, dff)\n",
    "\n",
    "    self.layernorm1 = tf.keras.layers.LayerNormalization(epsilon = 1e-6)\n",
    "    self.layernorm2 = tf.keras.layers.LayerNormalization(epsilon = 1e-6)\n",
    "    \n",
    "    self.dropout1 = tf.keras.layers.Dropout(rate)\n",
    "    self.dropout2 = tf.keras.layers.Dropout(rate)\n",
    "    \n",
    "  def call(self, x, training, mask):\n",
    "\n",
    "    attn_output, _ = self.mha(x, x, x, mask)  # (batch_size, input_seq_len, d_model)\n",
    "    attn_output = self.dropout1(attn_output, training = training)\n",
    "    out1 = self.layernorm1(x + attn_output)  # (batch_size, input_seq_len, d_model)\n",
    "    \n",
    "    ffn_output = self.ffn(out1)  # (batch_size, input_seq_len, d_model)\n",
    "    ffn_output = self.dropout2(ffn_output, training = training)\n",
    "    out2 = self.layernorm2(out1 + ffn_output)  # (batch_size, input_seq_len, d_model)\n",
    "    \n",
    "    return out2"
   ]
  },
  {
   "cell_type": "code",
   "execution_count": 32,
   "metadata": {},
   "outputs": [
    {
     "data": {
      "text/plain": [
       "TensorShape([64, 43, 512])"
      ]
     },
     "execution_count": 32,
     "metadata": {},
     "output_type": "execute_result"
    }
   ],
   "source": [
    "sample_encoder_layer = EncoderLayer(512, 8, 2048)\n",
    "\n",
    "sample_encoder_layer_output = sample_encoder_layer(\n",
    "    tf.random.uniform((64, 43, 512)), False, None)\n",
    "\n",
    "sample_encoder_layer_output.shape  # (batch_size, input_seq_len, d_model)"
   ]
  },
  {
   "cell_type": "markdown",
   "metadata": {},
   "source": [
    "## Decoder layer\n",
    "\n",
    "Each decoder layer consists of sublayers:\n",
    "\n",
    "- Masked multi-head attention (with look ahead mask and padding mask)\n",
    "- Multi-head attention (with padding mask). V (value) and K (key) receive the encoder output as inputs. Q (query) receives the output from the masked multi-head attention sublayer.\n",
    "- Point wise feed forward networks\n",
    "- Each of these sublayers has a residual connection around it followed by a layer normalization. The output of each sublayer is LayerNorm(x + Sublayer(x)). The normalization is done on the d_model (last) axis.\n",
    "\n",
    "There are N decoder layers in the transformer.\n",
    "\n",
    "As Q receives the output from decoder's first attention block, and K receives the encoder output, the attention weights represent the importance given to the decoder's input based on the encoder's output. In other words, the decoder predicts the next word by looking at the encoder output and self-attending to its own output. See the demonstration above in the scaled dot product attention section."
   ]
  },
  {
   "cell_type": "code",
   "execution_count": 33,
   "metadata": {},
   "outputs": [],
   "source": [
    "class DecoderLayer(tf.keras.layers.Layer):\n",
    "  def __init__(self, d_model, num_heads, dff, rate = 0.1):\n",
    "    super(DecoderLayer, self).__init__()\n",
    "\n",
    "    self.mha1 = MultiHeadAttention(d_model, num_heads)\n",
    "    self.mha2 = MultiHeadAttention(d_model, num_heads)\n",
    "\n",
    "    self.ffn = point_wise_feed_forward_network(d_model, dff)\n",
    " \n",
    "    self.layernorm1 = tf.keras.layers.LayerNormalization(epsilon = 1e-6)\n",
    "    self.layernorm2 = tf.keras.layers.LayerNormalization(epsilon = 1e-6)\n",
    "    self.layernorm3 = tf.keras.layers.LayerNormalization(epsilon = 1e-6)\n",
    "    \n",
    "    self.dropout1 = tf.keras.layers.Dropout(rate)\n",
    "    self.dropout2 = tf.keras.layers.Dropout(rate)\n",
    "    self.dropout3 = tf.keras.layers.Dropout(rate)\n",
    "    \n",
    "    \n",
    "  def call(self, x, enc_output, training, \n",
    "           look_ahead_mask, padding_mask):\n",
    "    # enc_output.shape == (batch_size, input_seq_len, d_model)\n",
    "\n",
    "    attn1, attn_weights_block1 = self.mha1(x, x, x, look_ahead_mask)  # (batch_size, target_seq_len, d_model)\n",
    "    attn1 = self.dropout1(attn1, training = training)\n",
    "    out1 = self.layernorm1(attn1 + x)\n",
    "    \n",
    "    attn2, attn_weights_block2 = self.mha2(\n",
    "        enc_output, enc_output, out1, padding_mask)  # (batch_size, target_seq_len, d_model)\n",
    "    attn2 = self.dropout2(attn2, training = training)\n",
    "    out2 = self.layernorm2(attn2 + out1)  # (batch_size, target_seq_len, d_model)\n",
    "    \n",
    "    ffn_output = self.ffn(out2)  # (batch_size, target_seq_len, d_model)\n",
    "    ffn_output = self.dropout3(ffn_output, training = training)\n",
    "    out3 = self.layernorm3(ffn_output + out2)  # (batch_size, target_seq_len, d_model)\n",
    "    \n",
    "    return out3, attn_weights_block1, attn_weights_block2"
   ]
  },
  {
   "cell_type": "code",
   "execution_count": 34,
   "metadata": {},
   "outputs": [
    {
     "data": {
      "text/plain": [
       "TensorShape([64, 50, 512])"
      ]
     },
     "execution_count": 34,
     "metadata": {},
     "output_type": "execute_result"
    }
   ],
   "source": [
    "sample_decoder_layer = DecoderLayer(512, 8, 2048)\n",
    "\n",
    "sample_decoder_layer_output, _, _ = sample_decoder_layer(\n",
    "    tf.random.uniform((64, 50, 512)), sample_encoder_layer_output, \n",
    "    False, None, None)\n",
    "\n",
    "sample_decoder_layer_output.shape  # (batch_size, target_seq_len, d_model)"
   ]
  },
  {
   "cell_type": "markdown",
   "metadata": {},
   "source": [
    "## Encoder\n",
    "\n",
    "The Encoder consists of:\n",
    "\n",
    "- Input Embedding\n",
    "- Positional Encoding\n",
    "- N encoder layers\n",
    "\n",
    "The input is put through an embedding which is summed with the positional encoding. The output of this summation is the input to the encoder layers. The output of the encoder is the input to the decoder."
   ]
  },
  {
   "cell_type": "code",
   "execution_count": 35,
   "metadata": {},
   "outputs": [],
   "source": [
    "class Encoder(tf.keras.layers.Layer):\n",
    "  def __init__(self, num_layers, d_model, num_heads, dff, input_vocab_size,\n",
    "               maximum_position_encoding, rate = 0.1):\n",
    "    super(Encoder, self).__init__()\n",
    "\n",
    "    self.d_model = d_model\n",
    "    self.num_layers = num_layers\n",
    "    \n",
    "    self.embedding = tf.keras.layers.Embedding(input_vocab_size, d_model)\n",
    "    self.pos_encoding = positional_encoding(maximum_position_encoding, \n",
    "                                            self.d_model)\n",
    "    \n",
    "    \n",
    "    self.enc_layers = [EncoderLayer(d_model, num_heads, dff, rate) \n",
    "                       for _ in range(num_layers)]\n",
    "  \n",
    "    self.dropout = tf.keras.layers.Dropout(rate)\n",
    "        \n",
    "  def call(self, x, training, mask):\n",
    "\n",
    "    seq_len = tf.shape(x)[1]\n",
    "    \n",
    "    # adding embedding and position encoding.\n",
    "    x = self.embedding(x)  # (batch_size, input_seq_len, d_model)\n",
    "    x *= tf.math.sqrt(tf.cast(self.d_model, tf.float32))\n",
    "    x += self.pos_encoding[:, :seq_len, :]\n",
    "\n",
    "    x = self.dropout(x, training = training)\n",
    "    \n",
    "    for i in range(self.num_layers):\n",
    "      x = self.enc_layers[i](x, training, mask)\n",
    "    \n",
    "    return x  # (batch_size, input_seq_len, d_model)"
   ]
  },
  {
   "cell_type": "code",
   "execution_count": 36,
   "metadata": {},
   "outputs": [
    {
     "name": "stdout",
     "output_type": "stream",
     "text": [
      "(64, 62, 512)\n"
     ]
    }
   ],
   "source": [
    "sample_encoder = Encoder(num_layers = 2, d_model = 512, num_heads = 8, \n",
    "                         dff = 2048, input_vocab_size = 8500,\n",
    "                         maximum_position_encoding = 10000)\n",
    "\n",
    "temp_input = tf.random.uniform((64, 62), dtype = tf.int64, minval = 0, maxval = 200)\n",
    "\n",
    "sample_encoder_output = sample_encoder(temp_input, training = False, mask = None)\n",
    "\n",
    "print (sample_encoder_output.shape)  # (batch_size, input_seq_len, d_model)"
   ]
  },
  {
   "cell_type": "markdown",
   "metadata": {},
   "source": [
    "## Decoder\n",
    "\n",
    "The Decoder consists of:\n",
    "\n",
    "- Output Embedding\n",
    "- Positional Encoding\n",
    "- N decoder layers\n",
    "\n",
    "The target is put through an embedding which is summed with the positional encoding. The output of this summation is the input to the decoder layers. The output of the decoder is the input to the final linear layer."
   ]
  },
  {
   "cell_type": "code",
   "execution_count": 37,
   "metadata": {},
   "outputs": [],
   "source": [
    "class Decoder(tf.keras.layers.Layer):\n",
    "  def __init__(self, num_layers, d_model, num_heads, dff, target_vocab_size,\n",
    "               maximum_position_encoding, rate = 0.1):\n",
    "    super(Decoder, self).__init__()\n",
    "\n",
    "    self.d_model = d_model\n",
    "    self.num_layers = num_layers\n",
    "    \n",
    "    self.embedding = tf.keras.layers.Embedding(target_vocab_size, d_model)\n",
    "    self.pos_encoding = positional_encoding(maximum_position_encoding, d_model)\n",
    "    \n",
    "    self.dec_layers = [DecoderLayer(d_model, num_heads, dff, rate) \n",
    "                       for _ in range(num_layers)]\n",
    "    self.dropout = tf.keras.layers.Dropout(rate)\n",
    "    \n",
    "  def call(self, x, enc_output, training, \n",
    "           look_ahead_mask, padding_mask):\n",
    "\n",
    "    seq_len = tf.shape(x)[1]\n",
    "    attention_weights = {}\n",
    "    \n",
    "    x = self.embedding(x)  # (batch_size, target_seq_len, d_model)\n",
    "    x *= tf.math.sqrt(tf.cast(self.d_model, tf.float32))\n",
    "    x += self.pos_encoding[:, :seq_len, :]\n",
    "    \n",
    "    x = self.dropout(x, training = training)\n",
    "\n",
    "    for i in range(self.num_layers):\n",
    "      x, block1, block2 = self.dec_layers[i](x, enc_output, training,\n",
    "                                             look_ahead_mask, padding_mask)\n",
    "      \n",
    "      attention_weights['decoder_layer{}_block1'.format(i+1)] = block1\n",
    "      attention_weights['decoder_layer{}_block2'.format(i+1)] = block2\n",
    "    \n",
    "    # x.shape == (batch_size, target_seq_len, d_model)\n",
    "    return x, attention_weights"
   ]
  },
  {
   "cell_type": "code",
   "execution_count": 38,
   "metadata": {},
   "outputs": [
    {
     "data": {
      "text/plain": [
       "(TensorShape([64, 26, 512]), TensorShape([64, 8, 26, 62]))"
      ]
     },
     "execution_count": 38,
     "metadata": {},
     "output_type": "execute_result"
    }
   ],
   "source": [
    "sample_decoder = Decoder(num_layers = 2, d_model = 512, num_heads = 8, \n",
    "                         dff = 2048, target_vocab_size = 8000,\n",
    "                         maximum_position_encoding = 5000)\n",
    "\n",
    "temp_input = tf.random.uniform((64, 26), dtype = tf.int64, minval = 0, maxval = 200)\n",
    "\n",
    "output, attn = sample_decoder(temp_input, \n",
    "                              enc_output = sample_encoder_output, \n",
    "                              training = False,\n",
    "                              look_ahead_mask = None, \n",
    "                              padding_mask = None)\n",
    "\n",
    "output.shape, attn['decoder_layer2_block2'].shape"
   ]
  },
  {
   "cell_type": "markdown",
   "metadata": {},
   "source": [
    "## Create the Transformer\n",
    "\n",
    "Transformer consists of the encoder, decoder and a final linear layer. The output of the decoder is the input to the linear layer and its output is returned."
   ]
  },
  {
   "cell_type": "code",
   "execution_count": 39,
   "metadata": {},
   "outputs": [],
   "source": [
    "class Transformer(tf.keras.Model):\n",
    "  def __init__(self, num_layers, d_model, num_heads, dff, input_vocab_size, \n",
    "               target_vocab_size, pe_input, pe_target, rate = 0.1):\n",
    "    super(Transformer, self).__init__()\n",
    "\n",
    "    self.encoder = Encoder(num_layers, d_model, num_heads, dff, \n",
    "                           input_vocab_size, pe_input, rate)\n",
    "\n",
    "    self.decoder = Decoder(num_layers, d_model, num_heads, dff, \n",
    "                           target_vocab_size, pe_target, rate)\n",
    "\n",
    "    self.final_layer = tf.keras.layers.Dense(target_vocab_size)\n",
    "    \n",
    "  def call(self, inp, tar, training, enc_padding_mask, \n",
    "           look_ahead_mask, dec_padding_mask):\n",
    "\n",
    "    enc_output = self.encoder(inp, training, enc_padding_mask)  # (batch_size, inp_seq_len, d_model)\n",
    "    \n",
    "    # dec_output.shape == (batch_size, tar_seq_len, d_model)\n",
    "    dec_output, attention_weights = self.decoder(\n",
    "        tar, enc_output, training, look_ahead_mask, dec_padding_mask)\n",
    "    \n",
    "    final_output = self.final_layer(dec_output)  # (batch_size, tar_seq_len, target_vocab_size)\n",
    "    \n",
    "    return final_output, attention_weights"
   ]
  },
  {
   "cell_type": "code",
   "execution_count": 40,
   "metadata": {},
   "outputs": [
    {
     "data": {
      "text/plain": [
       "TensorShape([64, 36, 8000])"
      ]
     },
     "execution_count": 40,
     "metadata": {},
     "output_type": "execute_result"
    }
   ],
   "source": [
    "sample_transformer = Transformer(\n",
    "    num_layers = 2, d_model = 512, num_heads = 8, dff = 2048, \n",
    "    input_vocab_size = 8500, target_vocab_size = 8000, \n",
    "    pe_input = 10000, pe_target = 6000)\n",
    "\n",
    "temp_input = tf.random.uniform((64, 38), dtype = tf.int64, minval = 0, maxval = 200)\n",
    "temp_target = tf.random.uniform((64, 36), dtype = tf.int64, minval = 0, maxval = 200)\n",
    "\n",
    "fn_out, _ = sample_transformer(temp_input, temp_target, training = False, \n",
    "                               enc_padding_mask = None, \n",
    "                               look_ahead_mask = None,\n",
    "                               dec_padding_mask = None)\n",
    "\n",
    "fn_out.shape  # (batch_size, tar_seq_len, target_vocab_size)"
   ]
  },
  {
   "cell_type": "code",
   "execution_count": 41,
   "metadata": {},
   "outputs": [],
   "source": [
    "num_layers = 4\n",
    "d_model = 128\n",
    "dff = 512\n",
    "num_heads = 8\n",
    "\n",
    "input_vocab_size = tokenizer_pt.vocab_size + 2\n",
    "target_vocab_size = tokenizer_en.vocab_size + 2\n",
    "dropout_rate = 0.1"
   ]
  },
  {
   "cell_type": "markdown",
   "metadata": {},
   "source": [
    "The values used in the base model of transformer were; num_layers=6, d_model = 512, dff = 2048."
   ]
  },
  {
   "cell_type": "code",
   "execution_count": 42,
   "metadata": {},
   "outputs": [],
   "source": [
    "# Use the Adam optimizer with a custom learning rate scheduler according to the formula in the paper.\n",
    "\n",
    "class CustomSchedule(tf.keras.optimizers.schedules.LearningRateSchedule):\n",
    "  def __init__(self, d_model, warmup_steps = 4000):\n",
    "    super(CustomSchedule, self).__init__()\n",
    "    \n",
    "    self.d_model = d_model\n",
    "    self.d_model = tf.cast(self.d_model, tf.float32)\n",
    "\n",
    "    self.warmup_steps = warmup_steps\n",
    "    \n",
    "  def __call__(self, step):\n",
    "    arg1 = tf.math.rsqrt(step)\n",
    "    arg2 = step * (self.warmup_steps ** -1.5)\n",
    "    \n",
    "    return tf.math.rsqrt(self.d_model) * tf.math.minimum(arg1, arg2)"
   ]
  },
  {
   "cell_type": "code",
   "execution_count": 43,
   "metadata": {},
   "outputs": [],
   "source": [
    "learning_rate = CustomSchedule(d_model)\n",
    "\n",
    "optimizer = tf.keras.optimizers.Adam(learning_rate, beta_1 = 0.9, beta_2 = 0.98, \n",
    "                                     epsilon = 1e-9)"
   ]
  },
  {
   "cell_type": "code",
   "execution_count": 44,
   "metadata": {},
   "outputs": [
    {
     "data": {
      "text/plain": [
       "Text(0.5, 0, 'Train Step')"
      ]
     },
     "execution_count": 44,
     "metadata": {},
     "output_type": "execute_result"
    },
    {
     "data": {
      "image/png": "[encoded data removed]",
      "text/plain": [
       "<Figure size 432x288 with 1 Axes>"
      ]
     },
     "metadata": {
      "needs_background": "light"
     },
     "output_type": "display_data"
    }
   ],
   "source": [
    "temp_learning_rate_schedule = CustomSchedule(d_model)\n",
    "\n",
    "plt.plot(temp_learning_rate_schedule(tf.range(40000, dtype = tf.float32)))\n",
    "plt.ylabel(\"Learning Rate\")\n",
    "plt.xlabel(\"Train Step\")"
   ]
  },
  {
   "cell_type": "markdown",
   "metadata": {},
   "source": [
    "Since the target sequences are padded, it is important to apply a padding mask when calculating the loss."
   ]
  },
  {
   "cell_type": "code",
   "execution_count": 45,
   "metadata": {},
   "outputs": [],
   "source": [
    "loss_object = tf.keras.losses.SparseCategoricalCrossentropy(\n",
    "    from_logits = True, reduction = 'none')"
   ]
  },
  {
   "cell_type": "code",
   "execution_count": 46,
   "metadata": {},
   "outputs": [],
   "source": [
    "def loss_function(real, pred):\n",
    "  mask = tf.math.logical_not(tf.math.equal(real, 0))\n",
    "  loss_ = loss_object(real, pred)\n",
    "\n",
    "  mask = tf.cast(mask, dtype = loss_.dtype)\n",
    "  loss_ *= mask\n",
    "  \n",
    "  return tf.reduce_sum(loss_)/tf.reduce_sum(mask)"
   ]
  },
  {
   "cell_type": "code",
   "execution_count": 47,
   "metadata": {},
   "outputs": [],
   "source": [
    "train_loss = tf.keras.metrics.Mean(name = 'train_loss')\n",
    "train_accuracy = tf.keras.metrics.SparseCategoricalAccuracy(\n",
    "    name = 'train_accuracy')"
   ]
  },
  {
   "cell_type": "code",
   "execution_count": 48,
   "metadata": {},
   "outputs": [],
   "source": [
    "# Model Add\n",
    "\n",
    "transformer = Transformer(num_layers, d_model, num_heads, dff,\n",
    "                          input_vocab_size, target_vocab_size, \n",
    "                          pe_input = input_vocab_size, \n",
    "                          pe_target = target_vocab_size,\n",
    "                          rate = dropout_rate)"
   ]
  },
  {
   "cell_type": "code",
   "execution_count": 49,
   "metadata": {},
   "outputs": [],
   "source": [
    "def create_masks(inp, tar):\n",
    "  # Encoder padding mask\n",
    "  enc_padding_mask = create_padding_mask(inp)\n",
    "  \n",
    "  # Used in the 2nd attention block in the decoder.\n",
    "  # This padding mask is used to mask the encoder outputs.\n",
    "  dec_padding_mask = create_padding_mask(inp)\n",
    "  \n",
    "  # Used in the 1st attention block in the decoder.\n",
    "  # It is used to pad and mask future tokens in the input received by \n",
    "  # the decoder.\n",
    "  look_ahead_mask = create_look_ahead_mask(tf.shape(tar)[1])\n",
    "  dec_target_padding_mask = create_padding_mask(tar)\n",
    "  combined_mask = tf.maximum(dec_target_padding_mask, look_ahead_mask)\n",
    "  \n",
    "  return enc_padding_mask, combined_mask, dec_padding_mask"
   ]
  },
  {
   "cell_type": "code",
   "execution_count": 50,
   "metadata": {},
   "outputs": [],
   "source": [
    "checkpoint_path = \"./checkpoints/train\"\n",
    "\n",
    "ckpt = tf.train.Checkpoint(transformer = transformer,\n",
    "                           optimizer = optimizer)\n",
    "\n",
    "ckpt_manager = tf.train.CheckpointManager(ckpt, checkpoint_path, max_to_keep = 1)\n",
    "\n",
    "# if a checkpoint exists, restore the latest checkpoint.\n",
    "if ckpt_manager.latest_checkpoint:\n",
    "  ckpt.restore(ckpt_manager.latest_checkpoint)\n",
    "  print ('Latest checkpoint restored!!')"
   ]
  },
  {
   "cell_type": "markdown",
   "metadata": {},
   "source": [
    "The target is divided into tar_inp and tar_real. tar_inp is passed as an input to the decoder. tar_real is that same input shifted by 1: At each location in tar_input, tar_real contains the next token that should be predicted.\n",
    "\n",
    "For example, sentence = \"SOS A lion in the jungle is sleeping EOS\"\n",
    "\n",
    "tar_inp = \"SOS A lion in the jungle is sleeping\"\n",
    "\n",
    "tar_real = \"A lion in the jungle is sleeping EOS\"\n",
    "\n",
    "The transformer is an auto-regressive model: it makes predictions one part at a time, and uses its output so far to decide what to do next.\n",
    "\n",
    "During training this example uses teacher-forcing. Teacher forcing is passing the true output to the next time step regardless of what the model predicts at the current time step.\n",
    "\n",
    "As the transformer predicts each word, self-attention allows it to look at the previous words in the input sequence to better predict the next word.\n",
    "\n",
    "To prevent the model from peaking at the expected output the model uses a look-ahead mask."
   ]
  },
  {
   "cell_type": "code",
   "execution_count": 51,
   "metadata": {},
   "outputs": [],
   "source": [
    "EPOCHS = 20"
   ]
  },
  {
   "cell_type": "code",
   "execution_count": 52,
   "metadata": {},
   "outputs": [],
   "source": [
    "# The @tf.function trace-compiles train_step into a TF graph for faster\n",
    "# execution. The function specializes to the precise shape of the argument\n",
    "# tensors. To avoid re-tracing due to the variable sequence lengths or variable\n",
    "# batch sizes (the last batch is smaller), use input_signature to specify\n",
    "# more generic shapes.\n",
    "\n",
    "train_step_signature = [\n",
    "    tf.TensorSpec(shape = (None, None), dtype = tf.int64),\n",
    "    tf.TensorSpec(shape = (None, None), dtype = tf.int64),\n",
    "]\n",
    "\n",
    "@tf.function(input_signature = train_step_signature)\n",
    "def train_step(inp, tar):\n",
    "  tar_inp = tar[:, :-1]\n",
    "  tar_real = tar[:, 1:]\n",
    "  \n",
    "  enc_padding_mask, combined_mask, dec_padding_mask = create_masks(inp, tar_inp)\n",
    "  \n",
    "  with tf.GradientTape() as tape:\n",
    "    predictions, _ = transformer(inp, tar_inp, \n",
    "                                 True, \n",
    "                                 enc_padding_mask, \n",
    "                                 combined_mask, \n",
    "                                 dec_padding_mask)\n",
    "    loss = loss_function(tar_real, predictions)\n",
    "\n",
    "  gradients = tape.gradient(loss, transformer.trainable_variables)    \n",
    "  optimizer.apply_gradients(zip(gradients, transformer.trainable_variables))\n",
    "  \n",
    "  train_loss(loss)\n",
    "  train_accuracy(tar_real, predictions)"
   ]
  },
  {
   "cell_type": "code",
   "execution_count": 53,
   "metadata": {},
   "outputs": [
    {
     "name": "stdout",
     "output_type": "stream",
     "text": [
      "Epoch 1 Batch 0 Loss 9.0081 Accuracy 0.0000\n",
      "Epoch 1 Batch 50 Loss 8.9517 Accuracy 0.0021\n",
      "Epoch 1 Batch 100 Loss 8.8575 Accuracy 0.0126\n",
      "Epoch 1 Batch 150 Loss 8.7532 Accuracy 0.0164\n",
      "Epoch 1 Batch 200 Loss 8.6249 Accuracy 0.0186\n",
      "Epoch 1 Batch 250 Loss 8.4691 Accuracy 0.0222\n",
      "Epoch 1 Batch 300 Loss 8.2932 Accuracy 0.0264\n",
      "Epoch 1 Batch 350 Loss 8.1054 Accuracy 0.0297\n",
      "Epoch 1 Batch 400 Loss 7.9240 Accuracy 0.0323\n",
      "Epoch 1 Batch 450 Loss 7.7600 Accuracy 0.0347\n",
      "Epoch 1 Batch 500 Loss 7.6159 Accuracy 0.0378\n",
      "Epoch 1 Batch 550 Loss 7.4815 Accuracy 0.0411\n",
      "Epoch 1 Batch 600 Loss 7.3553 Accuracy 0.0447\n",
      "Epoch 1 Batch 650 Loss 7.2379 Accuracy 0.0482\n",
      "Epoch 1 Batch 700 Loss 7.1251 Accuracy 0.0515\n",
      "Epoch 1 Loss 7.1208 Accuracy 0.0516\n",
      "Time taken for 1 epoch: 79.46862602233887 secs\n",
      "\n",
      "Epoch 2 Batch 0 Loss 5.4904 Accuracy 0.0917\n",
      "Epoch 2 Batch 50 Loss 5.4958 Accuracy 0.1020\n",
      "Epoch 2 Batch 100 Loss 5.4482 Accuracy 0.1037\n",
      "Epoch 2 Batch 150 Loss 5.3957 Accuracy 0.1059\n",
      "Epoch 2 Batch 200 Loss 5.3386 Accuracy 0.1083\n",
      "Epoch 2 Batch 250 Loss 5.2942 Accuracy 0.1102\n",
      "Epoch 2 Batch 300 Loss 5.2514 Accuracy 0.1122\n",
      "Epoch 2 Batch 350 Loss 5.2180 Accuracy 0.1136\n",
      "Epoch 2 Batch 400 Loss 5.1839 Accuracy 0.1155\n",
      "Epoch 2 Batch 450 Loss 5.1526 Accuracy 0.1170\n",
      "Epoch 2 Batch 500 Loss 5.1229 Accuracy 0.1183\n",
      "Epoch 2 Batch 550 Loss 5.0947 Accuracy 0.1198\n",
      "Epoch 2 Batch 600 Loss 5.0699 Accuracy 0.1211\n",
      "Epoch 2 Batch 650 Loss 5.0466 Accuracy 0.1223\n",
      "Epoch 2 Batch 700 Loss 5.0243 Accuracy 0.1235\n",
      "Epoch 2 Loss 5.0231 Accuracy 0.1235\n",
      "Time taken for 1 epoch: 49.89436340332031 secs\n",
      "\n",
      "Epoch 3 Batch 0 Loss 4.4494 Accuracy 0.1543\n",
      "Epoch 3 Batch 50 Loss 4.6246 Accuracy 0.1417\n",
      "Epoch 3 Batch 100 Loss 4.6100 Accuracy 0.1423\n",
      "Epoch 3 Batch 150 Loss 4.6001 Accuracy 0.1428\n",
      "Epoch 3 Batch 200 Loss 4.5918 Accuracy 0.1426\n",
      "Epoch 3 Batch 250 Loss 4.5821 Accuracy 0.1434\n",
      "Epoch 3 Batch 300 Loss 4.5654 Accuracy 0.1440\n",
      "Epoch 3 Batch 350 Loss 4.5530 Accuracy 0.1446\n",
      "Epoch 3 Batch 400 Loss 4.5380 Accuracy 0.1456\n",
      "Epoch 3 Batch 450 Loss 4.5258 Accuracy 0.1464\n",
      "Epoch 3 Batch 500 Loss 4.5166 Accuracy 0.1472\n",
      "Epoch 3 Batch 550 Loss 4.5050 Accuracy 0.1481\n",
      "Epoch 3 Batch 600 Loss 4.4918 Accuracy 0.1486\n",
      "Epoch 3 Batch 650 Loss 4.4795 Accuracy 0.1493\n",
      "Epoch 3 Batch 700 Loss 4.4645 Accuracy 0.1500\n",
      "Epoch 3 Loss 4.4635 Accuracy 0.1501\n",
      "Time taken for 1 epoch: 49.81345558166504 secs\n",
      "\n",
      "Epoch 4 Batch 0 Loss 4.3743 Accuracy 0.1630\n",
      "Epoch 4 Batch 50 Loss 4.1690 Accuracy 0.1626\n",
      "Epoch 4 Batch 100 Loss 4.1741 Accuracy 0.1634\n",
      "Epoch 4 Batch 150 Loss 4.1620 Accuracy 0.1637\n",
      "Epoch 4 Batch 200 Loss 4.1497 Accuracy 0.1647\n",
      "Epoch 4 Batch 250 Loss 4.1344 Accuracy 0.1654\n",
      "Epoch 4 Batch 300 Loss 4.1219 Accuracy 0.1664\n",
      "Epoch 4 Batch 350 Loss 4.1020 Accuracy 0.1677\n",
      "Epoch 4 Batch 400 Loss 4.0882 Accuracy 0.1690\n",
      "Epoch 4 Batch 450 Loss 4.0748 Accuracy 0.1699\n",
      "Epoch 4 Batch 500 Loss 4.0635 Accuracy 0.1708\n",
      "Epoch 4 Batch 550 Loss 4.0486 Accuracy 0.1718\n",
      "Epoch 4 Batch 600 Loss 4.0357 Accuracy 0.1727\n",
      "Epoch 4 Batch 650 Loss 4.0208 Accuracy 0.1737\n",
      "Epoch 4 Batch 700 Loss 4.0057 Accuracy 0.1747\n",
      "Epoch 4 Loss 4.0051 Accuracy 0.1747\n",
      "Time taken for 1 epoch: 49.717864990234375 secs\n",
      "\n",
      "Epoch 5 Batch 0 Loss 3.6319 Accuracy 0.1892\n",
      "Epoch 5 Batch 50 Loss 3.6386 Accuracy 0.1925\n",
      "Epoch 5 Batch 100 Loss 3.6522 Accuracy 0.1931\n",
      "Epoch 5 Batch 150 Loss 3.6455 Accuracy 0.1945\n",
      "Epoch 5 Batch 200 Loss 3.6264 Accuracy 0.1955\n",
      "Epoch 5 Batch 250 Loss 3.6274 Accuracy 0.1954\n",
      "Epoch 5 Batch 300 Loss 3.6216 Accuracy 0.1957\n",
      "Epoch 5 Batch 350 Loss 3.6082 Accuracy 0.1965\n",
      "Epoch 5 Batch 400 Loss 3.5956 Accuracy 0.1976\n",
      "Epoch 5 Batch 450 Loss 3.5852 Accuracy 0.1985\n",
      "Epoch 5 Batch 500 Loss 3.5767 Accuracy 0.1989\n",
      "Epoch 5 Batch 550 Loss 3.5685 Accuracy 0.1999\n",
      "Epoch 5 Batch 600 Loss 3.5594 Accuracy 0.2005\n",
      "Epoch 5 Batch 650 Loss 3.5483 Accuracy 0.2012\n",
      "Epoch 5 Batch 700 Loss 3.5387 Accuracy 0.2019\n",
      "Saving checkpoint for epoch 5 at ./checkpoints/train/ckpt-1\n",
      "Epoch 5 Loss 3.5387 Accuracy 0.2019\n",
      "Time taken for 1 epoch: 51.600435733795166 secs\n",
      "\n",
      "Epoch 6 Batch 0 Loss 3.1292 Accuracy 0.2348\n",
      "Epoch 6 Batch 50 Loss 3.1799 Accuracy 0.2160\n",
      "Epoch 6 Batch 100 Loss 3.2045 Accuracy 0.2156\n",
      "Epoch 6 Batch 150 Loss 3.2112 Accuracy 0.2162\n",
      "Epoch 6 Batch 200 Loss 3.2029 Accuracy 0.2174\n",
      "Epoch 6 Batch 250 Loss 3.1969 Accuracy 0.2182\n",
      "Epoch 6 Batch 300 Loss 3.1965 Accuracy 0.2183\n",
      "Epoch 6 Batch 350 Loss 3.1916 Accuracy 0.2192\n",
      "Epoch 6 Batch 400 Loss 3.1886 Accuracy 0.2198\n",
      "Epoch 6 Batch 450 Loss 3.1829 Accuracy 0.2202\n",
      "Epoch 6 Batch 500 Loss 3.1777 Accuracy 0.2203\n",
      "Epoch 6 Batch 550 Loss 3.1705 Accuracy 0.2208\n",
      "Epoch 6 Batch 600 Loss 3.1639 Accuracy 0.2212\n",
      "Epoch 6 Batch 650 Loss 3.1576 Accuracy 0.2217\n",
      "Epoch 6 Batch 700 Loss 3.1477 Accuracy 0.2223\n",
      "Epoch 6 Loss 3.1478 Accuracy 0.2222\n",
      "Time taken for 1 epoch: 51.3216757774353 secs\n",
      "\n",
      "Epoch 7 Batch 0 Loss 2.9656 Accuracy 0.2434\n",
      "Epoch 7 Batch 50 Loss 2.8128 Accuracy 0.2362\n",
      "Epoch 7 Batch 100 Loss 2.8070 Accuracy 0.2383\n",
      "Epoch 7 Batch 150 Loss 2.8061 Accuracy 0.2388\n",
      "Epoch 7 Batch 200 Loss 2.8098 Accuracy 0.2386\n",
      "Epoch 7 Batch 250 Loss 2.8111 Accuracy 0.2381\n",
      "Epoch 7 Batch 300 Loss 2.8036 Accuracy 0.2389\n",
      "Epoch 7 Batch 350 Loss 2.8024 Accuracy 0.2392\n",
      "Epoch 7 Batch 400 Loss 2.7930 Accuracy 0.2399\n",
      "Epoch 7 Batch 450 Loss 2.7872 Accuracy 0.2405\n",
      "Epoch 7 Batch 500 Loss 2.7817 Accuracy 0.2414\n",
      "Epoch 7 Batch 550 Loss 2.7753 Accuracy 0.2419\n",
      "Epoch 7 Batch 600 Loss 2.7684 Accuracy 0.2425\n",
      "Epoch 7 Batch 650 Loss 2.7624 Accuracy 0.2433\n",
      "Epoch 7 Batch 700 Loss 2.7575 Accuracy 0.2436\n",
      "Epoch 7 Loss 2.7572 Accuracy 0.2436\n",
      "Time taken for 1 epoch: 52.16409134864807 secs\n",
      "\n",
      "Epoch 8 Batch 0 Loss 2.4177 Accuracy 0.2817\n",
      "Epoch 8 Batch 50 Loss 2.4452 Accuracy 0.2605\n",
      "Epoch 8 Batch 100 Loss 2.4450 Accuracy 0.2605\n",
      "Epoch 8 Batch 150 Loss 2.4507 Accuracy 0.2589\n",
      "Epoch 8 Batch 200 Loss 2.4522 Accuracy 0.2593\n",
      "Epoch 8 Batch 250 Loss 2.4569 Accuracy 0.2592\n",
      "Epoch 8 Batch 300 Loss 2.4459 Accuracy 0.2594\n",
      "Epoch 8 Batch 350 Loss 2.4398 Accuracy 0.2601\n",
      "Epoch 8 Batch 400 Loss 2.4377 Accuracy 0.2600\n",
      "Epoch 8 Batch 450 Loss 2.4348 Accuracy 0.2610\n",
      "Epoch 8 Batch 500 Loss 2.4341 Accuracy 0.2610\n",
      "Epoch 8 Batch 550 Loss 2.4329 Accuracy 0.2615\n",
      "Epoch 8 Batch 600 Loss 2.4312 Accuracy 0.2615\n",
      "Epoch 8 Batch 650 Loss 2.4294 Accuracy 0.2617\n",
      "Epoch 8 Batch 700 Loss 2.4285 Accuracy 0.2618\n",
      "Epoch 8 Loss 2.4286 Accuracy 0.2618\n",
      "Time taken for 1 epoch: 51.113707304000854 secs\n",
      "\n",
      "Epoch 9 Batch 0 Loss 2.1791 Accuracy 0.3063\n",
      "Epoch 9 Batch 50 Loss 2.1912 Accuracy 0.2734\n",
      "Epoch 9 Batch 100 Loss 2.1734 Accuracy 0.2753\n",
      "Epoch 9 Batch 150 Loss 2.1728 Accuracy 0.2758\n",
      "Epoch 9 Batch 200 Loss 2.1829 Accuracy 0.2752\n",
      "Epoch 9 Batch 250 Loss 2.1861 Accuracy 0.2757\n",
      "Epoch 9 Batch 300 Loss 2.1815 Accuracy 0.2758\n",
      "Epoch 9 Batch 350 Loss 2.1826 Accuracy 0.2761\n",
      "Epoch 9 Batch 400 Loss 2.1821 Accuracy 0.2763\n",
      "Epoch 9 Batch 450 Loss 2.1800 Accuracy 0.2760\n",
      "Epoch 9 Batch 500 Loss 2.1818 Accuracy 0.2757\n",
      "Epoch 9 Batch 550 Loss 2.1849 Accuracy 0.2757\n",
      "Epoch 9 Batch 600 Loss 2.1866 Accuracy 0.2761\n",
      "Epoch 9 Batch 650 Loss 2.1885 Accuracy 0.2763\n",
      "Epoch 9 Batch 700 Loss 2.1906 Accuracy 0.2761\n",
      "Epoch 9 Loss 2.1908 Accuracy 0.2762\n",
      "Time taken for 1 epoch: 59.72204613685608 secs\n",
      "\n",
      "Epoch 10 Batch 0 Loss 2.1100 Accuracy 0.2921\n",
      "Epoch 10 Batch 50 Loss 1.9413 Accuracy 0.2933\n",
      "Epoch 10 Batch 100 Loss 1.9449 Accuracy 0.2914\n",
      "Epoch 10 Batch 150 Loss 1.9671 Accuracy 0.2894\n",
      "Epoch 10 Batch 200 Loss 1.9710 Accuracy 0.2892\n",
      "Epoch 10 Batch 250 Loss 1.9753 Accuracy 0.2895\n",
      "Epoch 10 Batch 300 Loss 1.9780 Accuracy 0.2893\n",
      "Epoch 10 Batch 350 Loss 1.9820 Accuracy 0.2888\n",
      "Epoch 10 Batch 400 Loss 1.9871 Accuracy 0.2886\n",
      "Epoch 10 Batch 450 Loss 1.9899 Accuracy 0.2883\n",
      "Epoch 10 Batch 500 Loss 1.9907 Accuracy 0.2881\n",
      "Epoch 10 Batch 550 Loss 1.9960 Accuracy 0.2882\n",
      "Epoch 10 Batch 600 Loss 1.9978 Accuracy 0.2879\n",
      "Epoch 10 Batch 650 Loss 2.0010 Accuracy 0.2880\n",
      "Epoch 10 Batch 700 Loss 2.0037 Accuracy 0.2878\n",
      "Saving checkpoint for epoch 10 at ./checkpoints/train/ckpt-2\n",
      "Epoch 10 Loss 2.0039 Accuracy 0.2878\n",
      "Time taken for 1 epoch: 52.41199088096619 secs\n",
      "\n",
      "Epoch 11 Batch 0 Loss 2.0564 Accuracy 0.3001\n",
      "Epoch 11 Batch 50 Loss 1.7806 Accuracy 0.3009\n",
      "Epoch 11 Batch 100 Loss 1.7911 Accuracy 0.3000\n",
      "Epoch 11 Batch 150 Loss 1.8031 Accuracy 0.3007\n",
      "Epoch 11 Batch 200 Loss 1.8166 Accuracy 0.3003\n",
      "Epoch 11 Batch 250 Loss 1.8228 Accuracy 0.2995\n",
      "Epoch 11 Batch 300 Loss 1.8284 Accuracy 0.2986\n",
      "Epoch 11 Batch 350 Loss 1.8297 Accuracy 0.2980\n"
     ]
    },
    {
     "name": "stdout",
     "output_type": "stream",
     "text": [
      "Epoch 11 Batch 400 Loss 1.8342 Accuracy 0.2983\n",
      "Epoch 11 Batch 450 Loss 1.8362 Accuracy 0.2980\n",
      "Epoch 11 Batch 500 Loss 1.8432 Accuracy 0.2976\n",
      "Epoch 11 Batch 550 Loss 1.8489 Accuracy 0.2975\n",
      "Epoch 11 Batch 600 Loss 1.8543 Accuracy 0.2971\n",
      "Epoch 11 Batch 650 Loss 1.8571 Accuracy 0.2972\n",
      "Epoch 11 Batch 700 Loss 1.8587 Accuracy 0.2972\n",
      "Epoch 11 Loss 1.8588 Accuracy 0.2972\n",
      "Time taken for 1 epoch: 51.336798429489136 secs\n",
      "\n",
      "Epoch 12 Batch 0 Loss 1.5304 Accuracy 0.3217\n",
      "Epoch 12 Batch 50 Loss 1.6747 Accuracy 0.3092\n",
      "Epoch 12 Batch 100 Loss 1.6691 Accuracy 0.3088\n",
      "Epoch 12 Batch 150 Loss 1.6802 Accuracy 0.3085\n",
      "Epoch 12 Batch 200 Loss 1.6874 Accuracy 0.3087\n",
      "Epoch 12 Batch 250 Loss 1.6954 Accuracy 0.3078\n",
      "Epoch 12 Batch 300 Loss 1.7014 Accuracy 0.3073\n",
      "Epoch 12 Batch 350 Loss 1.7046 Accuracy 0.3076\n",
      "Epoch 12 Batch 400 Loss 1.7107 Accuracy 0.3069\n",
      "Epoch 12 Batch 450 Loss 1.7164 Accuracy 0.3067\n",
      "Epoch 12 Batch 500 Loss 1.7212 Accuracy 0.3063\n",
      "Epoch 12 Batch 550 Loss 1.7270 Accuracy 0.3062\n",
      "Epoch 12 Batch 600 Loss 1.7300 Accuracy 0.3057\n",
      "Epoch 12 Batch 650 Loss 1.7343 Accuracy 0.3052\n",
      "Epoch 12 Batch 700 Loss 1.7390 Accuracy 0.3049\n",
      "Epoch 12 Loss 1.7389 Accuracy 0.3049\n",
      "Time taken for 1 epoch: 50.93651294708252 secs\n",
      "\n",
      "Epoch 13 Batch 0 Loss 1.4535 Accuracy 0.3357\n",
      "Epoch 13 Batch 50 Loss 1.5369 Accuracy 0.3107\n",
      "Epoch 13 Batch 100 Loss 1.5571 Accuracy 0.3129\n",
      "Epoch 13 Batch 150 Loss 1.5578 Accuracy 0.3155\n",
      "Epoch 13 Batch 200 Loss 1.5696 Accuracy 0.3149\n",
      "Epoch 13 Batch 250 Loss 1.5831 Accuracy 0.3143\n",
      "Epoch 13 Batch 300 Loss 1.5900 Accuracy 0.3143\n",
      "Epoch 13 Batch 350 Loss 1.5988 Accuracy 0.3141\n",
      "Epoch 13 Batch 400 Loss 1.6039 Accuracy 0.3129\n",
      "Epoch 13 Batch 450 Loss 1.6071 Accuracy 0.3124\n",
      "Epoch 13 Batch 500 Loss 1.6132 Accuracy 0.3120\n",
      "Epoch 13 Batch 550 Loss 1.6188 Accuracy 0.3119\n",
      "Epoch 13 Batch 600 Loss 1.6244 Accuracy 0.3119\n",
      "Epoch 13 Batch 650 Loss 1.6311 Accuracy 0.3114\n",
      "Epoch 13 Batch 700 Loss 1.6375 Accuracy 0.3107\n",
      "Epoch 13 Loss 1.6378 Accuracy 0.3107\n",
      "Time taken for 1 epoch: 51.73247170448303 secs\n",
      "\n",
      "Epoch 14 Batch 0 Loss 1.4271 Accuracy 0.3373\n",
      "Epoch 14 Batch 50 Loss 1.4534 Accuracy 0.3237\n",
      "Epoch 14 Batch 100 Loss 1.4717 Accuracy 0.3217\n",
      "Epoch 14 Batch 150 Loss 1.4865 Accuracy 0.3199\n",
      "Epoch 14 Batch 200 Loss 1.4931 Accuracy 0.3199\n",
      "Epoch 14 Batch 250 Loss 1.5018 Accuracy 0.3185\n",
      "Epoch 14 Batch 300 Loss 1.5098 Accuracy 0.3191\n",
      "Epoch 14 Batch 350 Loss 1.5150 Accuracy 0.3183\n",
      "Epoch 14 Batch 400 Loss 1.5191 Accuracy 0.3183\n",
      "Epoch 14 Batch 450 Loss 1.5264 Accuracy 0.3180\n",
      "Epoch 14 Batch 500 Loss 1.5311 Accuracy 0.3180\n",
      "Epoch 14 Batch 550 Loss 1.5345 Accuracy 0.3176\n",
      "Epoch 14 Batch 600 Loss 1.5396 Accuracy 0.3176\n",
      "Epoch 14 Batch 650 Loss 1.5446 Accuracy 0.3177\n",
      "Epoch 14 Batch 700 Loss 1.5497 Accuracy 0.3173\n",
      "Epoch 14 Loss 1.5497 Accuracy 0.3174\n",
      "Time taken for 1 epoch: 60.39555907249451 secs\n",
      "\n",
      "Epoch 15 Batch 0 Loss 1.3740 Accuracy 0.3321\n",
      "Epoch 15 Batch 50 Loss 1.3770 Accuracy 0.3292\n",
      "Epoch 15 Batch 100 Loss 1.4031 Accuracy 0.3296\n",
      "Epoch 15 Batch 150 Loss 1.4146 Accuracy 0.3272\n",
      "Epoch 15 Batch 200 Loss 1.4173 Accuracy 0.3256\n",
      "Epoch 15 Batch 250 Loss 1.4269 Accuracy 0.3255\n",
      "Epoch 15 Batch 300 Loss 1.4340 Accuracy 0.3245\n",
      "Epoch 15 Batch 350 Loss 1.4363 Accuracy 0.3244\n",
      "Epoch 15 Batch 400 Loss 1.4434 Accuracy 0.3240\n",
      "Epoch 15 Batch 450 Loss 1.4486 Accuracy 0.3236\n",
      "Epoch 15 Batch 500 Loss 1.4553 Accuracy 0.3226\n",
      "Epoch 15 Batch 550 Loss 1.4588 Accuracy 0.3229\n",
      "Epoch 15 Batch 600 Loss 1.4644 Accuracy 0.3227\n",
      "Epoch 15 Batch 650 Loss 1.4689 Accuracy 0.3226\n",
      "Epoch 15 Batch 700 Loss 1.4738 Accuracy 0.3220\n",
      "Saving checkpoint for epoch 15 at ./checkpoints/train/ckpt-3\n",
      "Epoch 15 Loss 1.4736 Accuracy 0.3220\n",
      "Time taken for 1 epoch: 61.622331857681274 secs\n",
      "\n",
      "Epoch 16 Batch 0 Loss 1.2906 Accuracy 0.3141\n",
      "Epoch 16 Batch 50 Loss 1.3082 Accuracy 0.3326\n",
      "Epoch 16 Batch 100 Loss 1.3299 Accuracy 0.3331\n",
      "Epoch 16 Batch 150 Loss 1.3383 Accuracy 0.3324\n",
      "Epoch 16 Batch 200 Loss 1.3469 Accuracy 0.3315\n",
      "Epoch 16 Batch 250 Loss 1.3564 Accuracy 0.3312\n",
      "Epoch 16 Batch 300 Loss 1.3649 Accuracy 0.3304\n",
      "Epoch 16 Batch 350 Loss 1.3687 Accuracy 0.3298\n",
      "Epoch 16 Batch 400 Loss 1.3733 Accuracy 0.3303\n",
      "Epoch 16 Batch 450 Loss 1.3777 Accuracy 0.3293\n",
      "Epoch 16 Batch 500 Loss 1.3841 Accuracy 0.3288\n",
      "Epoch 16 Batch 550 Loss 1.3889 Accuracy 0.3286\n",
      "Epoch 16 Batch 600 Loss 1.3941 Accuracy 0.3279\n",
      "Epoch 16 Batch 650 Loss 1.3999 Accuracy 0.3274\n",
      "Epoch 16 Batch 700 Loss 1.4047 Accuracy 0.3273\n",
      "Epoch 16 Loss 1.4048 Accuracy 0.3273\n",
      "Time taken for 1 epoch: 52.406516551971436 secs\n",
      "\n",
      "Epoch 17 Batch 0 Loss 1.1873 Accuracy 0.3438\n",
      "Epoch 17 Batch 50 Loss 1.2597 Accuracy 0.3338\n",
      "Epoch 17 Batch 100 Loss 1.2733 Accuracy 0.3350\n",
      "Epoch 17 Batch 150 Loss 1.2744 Accuracy 0.3364\n",
      "Epoch 17 Batch 200 Loss 1.2827 Accuracy 0.3367\n",
      "Epoch 17 Batch 250 Loss 1.2913 Accuracy 0.3359\n",
      "Epoch 17 Batch 300 Loss 1.2981 Accuracy 0.3353\n",
      "Epoch 17 Batch 350 Loss 1.3034 Accuracy 0.3344\n",
      "Epoch 17 Batch 400 Loss 1.3095 Accuracy 0.3337\n",
      "Epoch 17 Batch 450 Loss 1.3154 Accuracy 0.3329\n",
      "Epoch 17 Batch 500 Loss 1.3229 Accuracy 0.3323\n",
      "Epoch 17 Batch 550 Loss 1.3312 Accuracy 0.3323\n",
      "Epoch 17 Batch 600 Loss 1.3372 Accuracy 0.3321\n",
      "Epoch 17 Batch 650 Loss 1.3428 Accuracy 0.3312\n",
      "Epoch 17 Batch 700 Loss 1.3482 Accuracy 0.3311\n",
      "Epoch 17 Loss 1.3488 Accuracy 0.3310\n",
      "Time taken for 1 epoch: 51.5679235458374 secs\n",
      "\n",
      "Epoch 18 Batch 0 Loss 1.1724 Accuracy 0.3417\n",
      "Epoch 18 Batch 50 Loss 1.1955 Accuracy 0.3454\n",
      "Epoch 18 Batch 100 Loss 1.2174 Accuracy 0.3435\n",
      "Epoch 18 Batch 150 Loss 1.2218 Accuracy 0.3420\n",
      "Epoch 18 Batch 200 Loss 1.2317 Accuracy 0.3402\n",
      "Epoch 18 Batch 250 Loss 1.2366 Accuracy 0.3385\n",
      "Epoch 18 Batch 300 Loss 1.2457 Accuracy 0.3385\n",
      "Epoch 18 Batch 350 Loss 1.2526 Accuracy 0.3377\n",
      "Epoch 18 Batch 400 Loss 1.2572 Accuracy 0.3372\n",
      "Epoch 18 Batch 450 Loss 1.2622 Accuracy 0.3371\n",
      "Epoch 18 Batch 500 Loss 1.2676 Accuracy 0.3365\n",
      "Epoch 18 Batch 550 Loss 1.2754 Accuracy 0.3361\n",
      "Epoch 18 Batch 600 Loss 1.2811 Accuracy 0.3361\n",
      "Epoch 18 Batch 650 Loss 1.2877 Accuracy 0.3356\n",
      "Epoch 18 Batch 700 Loss 1.2924 Accuracy 0.3351\n",
      "Epoch 18 Loss 1.2926 Accuracy 0.3351\n",
      "Time taken for 1 epoch: 51.48407483100891 secs\n",
      "\n",
      "Epoch 19 Batch 0 Loss 1.0496 Accuracy 0.3938\n",
      "Epoch 19 Batch 50 Loss 1.1427 Accuracy 0.3404\n",
      "Epoch 19 Batch 100 Loss 1.1646 Accuracy 0.3418\n",
      "Epoch 19 Batch 150 Loss 1.1764 Accuracy 0.3440\n",
      "Epoch 19 Batch 200 Loss 1.1883 Accuracy 0.3427\n",
      "Epoch 19 Batch 250 Loss 1.1923 Accuracy 0.3419\n",
      "Epoch 19 Batch 300 Loss 1.1999 Accuracy 0.3417\n",
      "Epoch 19 Batch 350 Loss 1.2027 Accuracy 0.3410\n",
      "Epoch 19 Batch 400 Loss 1.2068 Accuracy 0.3410\n",
      "Epoch 19 Batch 450 Loss 1.2129 Accuracy 0.3403\n",
      "Epoch 19 Batch 500 Loss 1.2191 Accuracy 0.3395\n",
      "Epoch 19 Batch 550 Loss 1.2252 Accuracy 0.3390\n",
      "Epoch 19 Batch 600 Loss 1.2311 Accuracy 0.3386\n",
      "Epoch 19 Batch 650 Loss 1.2364 Accuracy 0.3382\n",
      "Epoch 19 Batch 700 Loss 1.2417 Accuracy 0.3382\n",
      "Epoch 19 Loss 1.2418 Accuracy 0.3382\n",
      "Time taken for 1 epoch: 57.08430361747742 secs\n",
      "\n",
      "Epoch 20 Batch 0 Loss 1.2046 Accuracy 0.3385\n",
      "Epoch 20 Batch 50 Loss 1.1185 Accuracy 0.3527\n",
      "Epoch 20 Batch 100 Loss 1.1245 Accuracy 0.3489\n",
      "Epoch 20 Batch 150 Loss 1.1361 Accuracy 0.3488\n",
      "Epoch 20 Batch 200 Loss 1.1427 Accuracy 0.3472\n",
      "Epoch 20 Batch 250 Loss 1.1490 Accuracy 0.3459\n",
      "Epoch 20 Batch 300 Loss 1.1546 Accuracy 0.3461\n",
      "Epoch 20 Batch 350 Loss 1.1605 Accuracy 0.3453\n",
      "Epoch 20 Batch 400 Loss 1.1666 Accuracy 0.3445\n",
      "Epoch 20 Batch 450 Loss 1.1703 Accuracy 0.3437\n",
      "Epoch 20 Batch 500 Loss 1.1741 Accuracy 0.3437\n",
      "Epoch 20 Batch 550 Loss 1.1808 Accuracy 0.3428\n",
      "Epoch 20 Batch 600 Loss 1.1844 Accuracy 0.3427\n",
      "Epoch 20 Batch 650 Loss 1.1918 Accuracy 0.3423\n",
      "Epoch 20 Batch 700 Loss 1.1976 Accuracy 0.3424\n",
      "Saving checkpoint for epoch 20 at ./checkpoints/train/ckpt-4\n",
      "Epoch 20 Loss 1.1979 Accuracy 0.3424\n",
      "Time taken for 1 epoch: 50.97780990600586 secs\n",
      "\n"
     ]
    }
   ],
   "source": [
    "for epoch in range(EPOCHS):\n",
    "  start = time.time()\n",
    "  \n",
    "  train_loss.reset_states()\n",
    "  train_accuracy.reset_states()\n",
    "  \n",
    "  # inp -> portuguese, tar -> english\n",
    "  for (batch, (inp, tar)) in enumerate(train_dataset):\n",
    "    train_step(inp, tar)\n",
    "    \n",
    "    if batch % 50 == 0:\n",
    "      print ('Epoch {} Batch {} Loss {:.4f} Accuracy {:.4f}'.format(\n",
    "          epoch + 1, batch, train_loss.result(), train_accuracy.result()))\n",
    "      \n",
    "  if (epoch + 1) % 5 == 0:\n",
    "    ckpt_save_path = ckpt_manager.save()\n",
    "    print ('Saving checkpoint for epoch {} at {}'.format(epoch+1,\n",
    "                                                         ckpt_save_path))\n",
    "    \n",
    "  print ('Epoch {} Loss {:.4f} Accuracy {:.4f}'.format(epoch + 1, \n",
    "                                                train_loss.result(), \n",
    "                                                train_accuracy.result()))\n",
    "\n",
    "  print ('Time taken for 1 epoch: {} secs\\n'.format(time.time() - start))"
   ]
  },
  {
   "cell_type": "markdown",
   "metadata": {},
   "source": [
    "## Evaluate\n",
    "The following steps are used for evaluation:\n",
    "\n",
    "- Encode the input sentence using the Portuguese tokenizer (tokenizer_pt). Moreover, add the start and end token so the input is equivalent to what the model is trained with. This is the encoder input.\n",
    "- The decoder input is the start token == tokenizer_en.vocab_size.\n",
    "- Calculate the padding masks and the look ahead masks.\n",
    "- The decoder then outputs the predictions by looking at the encoder output and its own output (self-attention).\n",
    "- Select the last word and calculate the argmax of that.\n",
    "- Concatentate the predicted word to the decoder input as pass it to the decoder.\n",
    "- In this approach, the decoder predicts the next word based on the previous words it predicted."
   ]
  },
  {
   "cell_type": "code",
   "execution_count": 54,
   "metadata": {},
   "outputs": [],
   "source": [
    "def evaluate(inp_sentence):\n",
    "  start_token = [tokenizer_pt.vocab_size]\n",
    "  end_token = [tokenizer_pt.vocab_size + 1]\n",
    "  \n",
    "  # inp sentence is portuguese, hence adding the start and end token\n",
    "  inp_sentence = start_token + tokenizer_pt.encode(inp_sentence) + end_token\n",
    "  encoder_input = tf.expand_dims(inp_sentence, 0)\n",
    "  \n",
    "  # as the target is english, the first word to the transformer should be the\n",
    "  # english start token.\n",
    "  decoder_input = [tokenizer_en.vocab_size]\n",
    "  output = tf.expand_dims(decoder_input, 0)\n",
    "    \n",
    "  for i in range(MAX_LENGTH):\n",
    "    enc_padding_mask, combined_mask, dec_padding_mask = create_masks(\n",
    "        encoder_input, output)\n",
    "  \n",
    "    # predictions.shape == (batch_size, seq_len, vocab_size)\n",
    "    predictions, attention_weights = transformer(encoder_input, \n",
    "                                                 output,\n",
    "                                                 False,\n",
    "                                                 enc_padding_mask,\n",
    "                                                 combined_mask,\n",
    "                                                 dec_padding_mask)\n",
    "    \n",
    "    # select the last word from the seq_len dimension\n",
    "    predictions = predictions[: ,-1:, :]  # (batch_size, 1, vocab_size)\n",
    "\n",
    "    predicted_id = tf.cast(tf.argmax(predictions, axis = -1), tf.int32)\n",
    "    \n",
    "    # return the result if the predicted_id is equal to the end token\n",
    "    if predicted_id == tokenizer_en.vocab_size+1:\n",
    "      return tf.squeeze(output, axis = 0), attention_weights\n",
    "    \n",
    "    # concatentate the predicted_id to the output which is given to the decoder\n",
    "    # as its input.\n",
    "    output = tf.concat([output, predicted_id], axis = -1)\n",
    "\n",
    "  return tf.squeeze(output, axis = 0), attention_weights"
   ]
  },
  {
   "cell_type": "code",
   "execution_count": 55,
   "metadata": {},
   "outputs": [],
   "source": [
    "def plot_attention_weights(attention, sentence, result, layer):\n",
    "  fig = plt.figure(figsize = (16, 8))\n",
    "  \n",
    "  sentence = tokenizer_pt.encode(sentence)\n",
    "  \n",
    "  attention = tf.squeeze(attention[layer], axis = 0)\n",
    "  \n",
    "  for head in range(attention.shape[0]):\n",
    "    ax = fig.add_subplot(2, 4, head+1)\n",
    "    \n",
    "    # plot the attention weights\n",
    "    ax.matshow(attention[head][:-1, :], cmap = 'viridis')\n",
    "\n",
    "    fontdict = {'fontsize': 10}\n",
    "    \n",
    "    ax.set_xticks(range(len(sentence)+2))\n",
    "    ax.set_yticks(range(len(result)))\n",
    "    \n",
    "    ax.set_ylim(len(result)-1.5, -0.5)\n",
    "        \n",
    "    ax.set_xticklabels(\n",
    "        ['<start>']+[tokenizer_pt.decode([i]) for i in sentence]+['<end>'], \n",
    "        fontdict = fontdict, rotation = 90)\n",
    "    \n",
    "    ax.set_yticklabels([tokenizer_en.decode([i]) for i in result \n",
    "                        if i < tokenizer_en.vocab_size], \n",
    "                       fontdict = fontdict)\n",
    "    \n",
    "    ax.set_xlabel('Head {}'.format(head+1))\n",
    "  \n",
    "  plt.tight_layout()\n",
    "  plt.show()"
   ]
  },
  {
   "cell_type": "code",
   "execution_count": 56,
   "metadata": {},
   "outputs": [],
   "source": [
    "def translate(sentence, plot = ''):\n",
    "  result, attention_weights = evaluate(sentence)\n",
    "  \n",
    "  predicted_sentence = tokenizer_en.decode([i for i in result \n",
    "                                            if i < tokenizer_en.vocab_size])  \n",
    "\n",
    "  print('Input: {}'.format(sentence))\n",
    "  print('Predicted translation: {}'.format(predicted_sentence))\n",
    "  \n",
    "  if plot:\n",
    "    plot_attention_weights(attention_weights, sentence, result, plot)"
   ]
  },
  {
   "cell_type": "code",
   "execution_count": 57,
   "metadata": {},
   "outputs": [
    {
     "name": "stdout",
     "output_type": "stream",
     "text": [
      "Input: este é um problema que temos que resolver.\n",
      "Predicted translation: this is a problem that we have to deal with .... .. .\n",
      "Real translation: this is a problem we have to solve .\n"
     ]
    }
   ],
   "source": [
    "translate(\"este é um problema que temos que resolver.\")\n",
    "print (\"Real translation: this is a problem we have to solve .\")"
   ]
  },
  {
   "cell_type": "code",
   "execution_count": 58,
   "metadata": {},
   "outputs": [
    {
     "name": "stdout",
     "output_type": "stream",
     "text": [
      "Input: os meus vizinhos ouviram sobre esta ideia.\n",
      "Predicted translation: my neighbors heard about this idea of this one .\n",
      "Real translation: and my neighboring homes heard about this idea .\n"
     ]
    }
   ],
   "source": [
    "translate(\"os meus vizinhos ouviram sobre esta ideia.\")\n",
    "print (\"Real translation: and my neighboring homes heard about this idea .\")"
   ]
  },
  {
   "cell_type": "code",
   "execution_count": 59,
   "metadata": {},
   "outputs": [
    {
     "name": "stdout",
     "output_type": "stream",
     "text": [
      "Input: vou então muito rapidamente partilhar convosco algumas histórias de algumas coisas mágicas que aconteceram.\n",
      "Predicted translation: so i 'm very quickly to share with you some stories of some magic things that have happened .\n",
      "Real translation: so i 'll just share with you some stories very quickly of some magical things that have happened .\n"
     ]
    }
   ],
   "source": [
    "translate(\"vou então muito rapidamente partilhar convosco algumas histórias de algumas coisas mágicas que aconteceram.\")\n",
    "print (\"Real translation: so i 'll just share with you some stories very quickly of some magical things that have happened .\")"
   ]
  },
  {
   "cell_type": "code",
   "execution_count": 60,
   "metadata": {},
   "outputs": [
    {
     "name": "stdout",
     "output_type": "stream",
     "text": [
      "Input: este é o primeiro livro que eu fiz.\n",
      "Predicted translation: this is the first book i did it .\n"
     ]
    },
    {
     "data": {
      "image/png": "[encoded data removed]",
      "text/plain": [
       "<Figure size 1152x576 with 8 Axes>"
      ]
     },
     "metadata": {
      "needs_background": "light"
     },
     "output_type": "display_data"
    },
    {
     "name": "stdout",
     "output_type": "stream",
     "text": [
      "Real translation: this is the first book i've ever done.\n"
     ]
    }
   ],
   "source": [
    "translate(\"este é o primeiro livro que eu fiz.\", plot = 'decoder_layer4_block2')\n",
    "print (\"Real translation: this is the first book i've ever done.\")"
   ]
  },
  {
   "cell_type": "code",
   "execution_count": null,
   "metadata": {},
   "outputs": [],
   "source": []
  }
 ],
 "metadata": {
  "kernelspec": {
   "display_name": "Python 3",
   "language": "python",
   "name": "python3"
  },
  "language_info": {
   "codemirror_mode": {
    "name": "ipython",
    "version": 3
   },
   "file_extension": ".py",
   "mimetype": "text/x-python",
   "name": "python",
   "nbconvert_exporter": "python",
   "pygments_lexer": "ipython3",
   "version": "3.7.7"
  }
 },
 "nbformat": 4,
 "nbformat_minor": 4
}
