{
 "metadata": {
  "language_info": {
   "codemirror_mode": {
    "name": "ipython",
    "version": 3
   },
   "file_extension": ".py",
   "mimetype": "text/x-python",
   "name": "python",
   "nbconvert_exporter": "python",
   "pygments_lexer": "ipython3",
   "version": "3.7.7-final"
  },
  "orig_nbformat": 2,
  "kernelspec": {
   "name": "python37764bitbase9c3b6b6d85ee4f56aaff37be826f2a3d",
   "display_name": "Python 3.7.7 64-bit ('base')"
  }
 },
 "nbformat": 4,
 "nbformat_minor": 2,
 "cells": [
  {
   "source": [
    "### Moving Averaging\n",
    "\n",
    "The advantage of Moving Averaging is that they are less prone to rampant loss shifts or irregular data representation in the latest batch. It gives a smooothened and a more genral idea of the model training until some point.\n",
    "\n",
    "### Stocastic Averaging\n",
    "\n",
    "Stocastic Weight Averaging converges to wider optimas. By doing so, it resembles geometric ensembeling. SWA is a simple method to improve model performance when used as a wrapper around other optimizers and averaging results from different points of trajectory of the inner optimizer."
   ],
   "cell_type": "markdown",
   "metadata": {}
  },
  {
   "cell_type": "code",
   "execution_count": 1,
   "metadata": {},
   "outputs": [],
   "source": [
    "import os\n",
    "\n",
    "import numpy as np\n",
    "import tensorflow as tf\n",
    "import tensorflow_addons as tfa"
   ]
  },
  {
   "source": [
    "### Build Model"
   ],
   "cell_type": "markdown",
   "metadata": {}
  },
  {
   "cell_type": "code",
   "execution_count": 2,
   "metadata": {},
   "outputs": [],
   "source": [
    "def create_model(opt):\n",
    "    model = tf.keras.models.Sequential([\n",
    "        tf.keras.layers.Flatten(),                         \n",
    "        tf.keras.layers.Dense(64, activation='relu'),\n",
    "        tf.keras.layers.Dense(64, activation='relu'),\n",
    "        tf.keras.layers.Dense(10, activation='softmax')\n",
    "    ])\n",
    "\n",
    "    model.compile(optimizer=opt,\n",
    "                    loss='sparse_categorical_crossentropy',\n",
    "                    metrics=['accuracy'])\n",
    "\n",
    "    return model"
   ]
  },
  {
   "cell_type": "code",
   "execution_count": 3,
   "metadata": {},
   "outputs": [
    {
     "output_type": "stream",
     "name": "stdout",
     "text": [
      "Downloading data from https://storage.googleapis.com/tensorflow/tf-keras-datasets/train-labels-idx1-ubyte.gz\n",
      "32768/29515 [=================================] - 0s 1us/step\n",
      "Downloading data from https://storage.googleapis.com/tensorflow/tf-keras-datasets/train-images-idx3-ubyte.gz\n",
      "26427392/26421880 [==============================] - 2s 0us/step\n",
      "Downloading data from https://storage.googleapis.com/tensorflow/tf-keras-datasets/t10k-labels-idx1-ubyte.gz\n",
      "8192/5148 [===============================================] - 0s 0us/step\n",
      "Downloading data from https://storage.googleapis.com/tensorflow/tf-keras-datasets/t10k-images-idx3-ubyte.gz\n",
      "4423680/4422102 [==============================] - 0s 0us/step\n"
     ]
    }
   ],
   "source": [
    "train, test = tf.keras.datasets.fashion_mnist.load_data()\n",
    "\n",
    "images, labels = train\n",
    "images = images/255.0\n",
    "labels = labels.astype(np.int32)\n",
    "\n",
    "fmnist_train_ds = tf.data.Dataset.from_tensor_slices((images, labels))\n",
    "fmnist_train_ds = fmnist_train_ds.shuffle(5000).batch(32)\n",
    "\n",
    "test_images, test_labels = test"
   ]
  },
  {
   "cell_type": "code",
   "execution_count": 4,
   "metadata": {},
   "outputs": [],
   "source": [
    "# We'll be comparing Optimizers \n",
    "sgd = tf.keras.optimizers.SGD(0.01)\n",
    "moving_avg_sgd = tfa.optimizers.MovingAverage(sgd)\n",
    "stocastic_avg_sgd = tfa.optimizers.SWA(sgd)"
   ]
  },
  {
   "cell_type": "code",
   "execution_count": 5,
   "metadata": {},
   "outputs": [],
   "source": [
    "# Both MovingAverage and StocasticAverage optimers use ModelAverageCheckpoint.\n",
    "\n",
    "checkpoint_path = \"./training/cp-{epoch:04d}.ckpt\"\n",
    "checkpoint_dir = os.path.dirname(checkpoint_path)\n",
    "\n",
    "cp_callback = tf.keras.callbacks.ModelCheckpoint(filepath=checkpoint_dir,\n",
    "                                                 save_weights_only=True,\n",
    "                                                 verbose=1)\n",
    "avg_callback = tfa.callbacks.AverageModelCheckpoint(filepath=checkpoint_dir, \n",
    "                                                    update_weights=True)"
   ]
  },
  {
   "source": [
    "### Train and Compare"
   ],
   "cell_type": "markdown",
   "metadata": {}
  },
  {
   "cell_type": "code",
   "execution_count": 6,
   "metadata": {},
   "outputs": [
    {
     "output_type": "stream",
     "name": "stdout",
     "text": [
      "Epoch 1/5\n",
      "WARNING:tensorflow:Layer flatten is casting an input tensor from dtype float64 to the layer's dtype of float32, which is new behavior in TensorFlow 2.  The layer has dtype float32 because its dtype defaults to floatx.\n",
      "\n",
      "If you intended to run this layer in float32, you can safely ignore this warning. If in doubt, this warning is likely only an issue if you are porting a TensorFlow 1.X model to TensorFlow 2.\n",
      "\n",
      "To change all layers to have dtype float64 by default, call `tf.keras.backend.set_floatx('float64')`. To change just this layer, pass dtype='float64' to the layer constructor. If you are the author of this layer, you can disable autocasting by passing autocast=False to the base Layer constructor.\n",
      "\n",
      "1874/1875 [============================>.] - ETA: 0s - loss: 0.7842 - accuracy: 0.7354\n",
      "Epoch 00001: saving model to ./training\n",
      "1875/1875 [==============================] - 6s 3ms/step - loss: 0.7842 - accuracy: 0.7354\n",
      "Epoch 2/5\n",
      "1864/1875 [============================>.] - ETA: 0s - loss: 0.5065 - accuracy: 0.8250\n",
      "Epoch 00002: saving model to ./training\n",
      "1875/1875 [==============================] - 6s 3ms/step - loss: 0.5060 - accuracy: 0.8250\n",
      "Epoch 3/5\n",
      "1863/1875 [============================>.] - ETA: 0s - loss: 0.4557 - accuracy: 0.8377\n",
      "Epoch 00003: saving model to ./training\n",
      "1875/1875 [==============================] - 6s 3ms/step - loss: 0.4554 - accuracy: 0.8379\n",
      "Epoch 4/5\n",
      "1864/1875 [============================>.] - ETA: 0s - loss: 0.4273 - accuracy: 0.8498\n",
      "Epoch 00004: saving model to ./training\n",
      "1875/1875 [==============================] - 6s 3ms/step - loss: 0.4276 - accuracy: 0.8497\n",
      "Epoch 5/5\n",
      "1863/1875 [============================>.] - ETA: 0s - loss: 0.4076 - accuracy: 0.8548\n",
      "Epoch 00005: saving model to ./training\n",
      "1875/1875 [==============================] - 6s 3ms/step - loss: 0.4077 - accuracy: 0.8548\n"
     ]
    },
    {
     "output_type": "execute_result",
     "data": {
      "text/plain": [
       "<tensorflow.python.keras.callbacks.History at 0x7fc93dbcab90>"
      ]
     },
     "metadata": {},
     "execution_count": 6
    }
   ],
   "source": [
    "# Build Model\n",
    "model = create_model(sgd)\n",
    "\n",
    "# Train the network\n",
    "model.fit(fmnist_train_ds, epochs=5, callbacks=[cp_callback])"
   ]
  },
  {
   "cell_type": "code",
   "execution_count": 7,
   "metadata": {},
   "outputs": [
    {
     "output_type": "stream",
     "name": "stdout",
     "text": [
      "313/313 - 1s - loss: 76.1345 - accuracy: 0.8134\n",
      "Loss : 76.134521484375\n",
      "Accuracy : 0.8133999705314636\n"
     ]
    }
   ],
   "source": [
    "# Evalute results\n",
    "model.load_weights(checkpoint_dir)\n",
    "loss, accuracy = model.evaluate(test_images, test_labels, batch_size=32, verbose=2)\n",
    "print(\"Loss :\", loss)\n",
    "print(\"Accuracy :\", accuracy)"
   ]
  },
  {
   "cell_type": "code",
   "execution_count": 8,
   "metadata": {},
   "outputs": [
    {
     "output_type": "stream",
     "name": "stdout",
     "text": [
      "Epoch 1/5\n",
      "WARNING:tensorflow:Layer flatten_1 is casting an input tensor from dtype float64 to the layer's dtype of float32, which is new behavior in TensorFlow 2.  The layer has dtype float32 because its dtype defaults to floatx.\n",
      "\n",
      "If you intended to run this layer in float32, you can safely ignore this warning. If in doubt, this warning is likely only an issue if you are porting a TensorFlow 1.X model to TensorFlow 2.\n",
      "\n",
      "To change all layers to have dtype float64 by default, call `tf.keras.backend.set_floatx('float64')`. To change just this layer, pass dtype='float64' to the layer constructor. If you are the author of this layer, you can disable autocasting by passing autocast=False to the base Layer constructor.\n",
      "\n",
      "1863/1875 [============================>.] - ETA: 0s - loss: 0.7611 - accuracy: 0.7480WARNING:tensorflow:From /home/tanmay/anaconda3/lib/python3.7/site-packages/tensorflow/python/training/tracking/tracking.py:111: Model.state_updates (from tensorflow.python.keras.engine.training) is deprecated and will be removed in a future version.\n",
      "Instructions for updating:\n",
      "This property should not be used in TensorFlow 2.0, as updates are applied automatically.\n",
      "WARNING:tensorflow:From /home/tanmay/anaconda3/lib/python3.7/site-packages/tensorflow/python/training/tracking/tracking.py:111: Layer.updates (from tensorflow.python.keras.engine.base_layer) is deprecated and will be removed in a future version.\n",
      "Instructions for updating:\n",
      "This property should not be used in TensorFlow 2.0, as updates are applied automatically.\n",
      "INFO:tensorflow:Assets written to: ./training/assets\n",
      "1875/1875 [==============================] - 8s 4ms/step - loss: 0.7597 - accuracy: 0.7483\n",
      "Epoch 2/5\n",
      "1870/1875 [============================>.] - ETA: 0s - loss: 0.5053 - accuracy: 0.8226INFO:tensorflow:Assets written to: ./training/assets\n",
      "1875/1875 [==============================] - 8s 4ms/step - loss: 0.5052 - accuracy: 0.8225\n",
      "Epoch 3/5\n",
      "1873/1875 [============================>.] - ETA: 0s - loss: 0.4607 - accuracy: 0.8382INFO:tensorflow:Assets written to: ./training/assets\n",
      "1875/1875 [==============================] - 7s 4ms/step - loss: 0.4606 - accuracy: 0.8382\n",
      "Epoch 4/5\n",
      "1865/1875 [============================>.] - ETA: 0s - loss: 0.4345 - accuracy: 0.8471INFO:tensorflow:Assets written to: ./training/assets\n",
      "1875/1875 [==============================] - 7s 4ms/step - loss: 0.4345 - accuracy: 0.8472\n",
      "Epoch 5/5\n",
      "1862/1875 [============================>.] - ETA: 0s - loss: 0.4174 - accuracy: 0.8530INFO:tensorflow:Assets written to: ./training/assets\n",
      "1875/1875 [==============================] - 7s 4ms/step - loss: 0.4171 - accuracy: 0.8531\n"
     ]
    },
    {
     "output_type": "execute_result",
     "data": {
      "text/plain": [
       "<tensorflow.python.keras.callbacks.History at 0x7fc91071c610>"
      ]
     },
     "metadata": {},
     "execution_count": 8
    }
   ],
   "source": [
    "# Build Model\n",
    "model = create_model(moving_avg_sgd)\n",
    "\n",
    "# Train the network\n",
    "model.fit(fmnist_train_ds, epochs=5, callbacks=[avg_callback])"
   ]
  },
  {
   "cell_type": "code",
   "execution_count": 9,
   "metadata": {},
   "outputs": [
    {
     "output_type": "stream",
     "name": "stdout",
     "text": [
      "313/313 - 1s - loss: 76.1345 - accuracy: 0.8134\n",
      "Loss : 76.134521484375\n",
      "Accuracy : 0.8133999705314636\n"
     ]
    }
   ],
   "source": [
    "# Evalute results\n",
    "model.load_weights(checkpoint_dir)\n",
    "loss, accuracy = model.evaluate(test_images, test_labels, batch_size=32, verbose=2)\n",
    "print(\"Loss :\", loss)\n",
    "print(\"Accuracy :\", accuracy)"
   ]
  },
  {
   "cell_type": "code",
   "execution_count": 10,
   "metadata": {},
   "outputs": [
    {
     "output_type": "stream",
     "name": "stdout",
     "text": [
      "Epoch 1/5\n",
      "WARNING:tensorflow:Layer flatten_2 is casting an input tensor from dtype float64 to the layer's dtype of float32, which is new behavior in TensorFlow 2.  The layer has dtype float32 because its dtype defaults to floatx.\n",
      "\n",
      "If you intended to run this layer in float32, you can safely ignore this warning. If in doubt, this warning is likely only an issue if you are porting a TensorFlow 1.X model to TensorFlow 2.\n",
      "\n",
      "To change all layers to have dtype float64 by default, call `tf.keras.backend.set_floatx('float64')`. To change just this layer, pass dtype='float64' to the layer constructor. If you are the author of this layer, you can disable autocasting by passing autocast=False to the base Layer constructor.\n",
      "\n",
      "1871/1875 [============================>.] - ETA: 0s - loss: 0.7910 - accuracy: 0.7412INFO:tensorflow:Assets written to: ./training/assets\n",
      "1875/1875 [==============================] - 9s 5ms/step - loss: 0.7905 - accuracy: 0.7414\n",
      "Epoch 2/5\n",
      "1868/1875 [============================>.] - ETA: 0s - loss: 0.5612 - accuracy: 0.8085INFO:tensorflow:Assets written to: ./training/assets\n",
      "1875/1875 [==============================] - 9s 5ms/step - loss: 0.5609 - accuracy: 0.8084\n",
      "Epoch 3/5\n",
      "1873/1875 [============================>.] - ETA: 0s - loss: 0.5310 - accuracy: 0.8176INFO:tensorflow:Assets written to: ./training/assets\n",
      "1875/1875 [==============================] - 9s 5ms/step - loss: 0.5309 - accuracy: 0.8176\n",
      "Epoch 4/5\n",
      "1864/1875 [============================>.] - ETA: 0s - loss: 0.5145 - accuracy: 0.8225INFO:tensorflow:Assets written to: ./training/assets\n",
      "1875/1875 [==============================] - 9s 5ms/step - loss: 0.5144 - accuracy: 0.8225\n",
      "Epoch 5/5\n",
      "1874/1875 [============================>.] - ETA: 0s - loss: 0.5060 - accuracy: 0.8251INFO:tensorflow:Assets written to: ./training/assets\n",
      "1875/1875 [==============================] - 9s 5ms/step - loss: 0.5060 - accuracy: 0.8251\n"
     ]
    },
    {
     "output_type": "execute_result",
     "data": {
      "text/plain": [
       "<tensorflow.python.keras.callbacks.History at 0x7fc9101fa450>"
      ]
     },
     "metadata": {},
     "execution_count": 10
    }
   ],
   "source": [
    "# Build Model\n",
    "model = create_model(stocastic_avg_sgd)\n",
    "\n",
    "# Train the network\n",
    "model.fit(fmnist_train_ds, epochs=5, callbacks=[avg_callback])"
   ]
  },
  {
   "cell_type": "code",
   "execution_count": 11,
   "metadata": {},
   "outputs": [
    {
     "output_type": "stream",
     "name": "stdout",
     "text": [
      "313/313 - 1s - loss: 76.1345 - accuracy: 0.8134\n",
      "Loss : 76.134521484375\n",
      "Accuracy : 0.8133999705314636\n"
     ]
    }
   ],
   "source": [
    "# Evalute results\n",
    "model.load_weights(checkpoint_dir)\n",
    "loss, accuracy = model.evaluate(test_images, test_labels, batch_size=32, verbose=2)\n",
    "print(\"Loss :\", loss)\n",
    "print(\"Accuracy :\", accuracy)"
   ]
  }
 ]
}