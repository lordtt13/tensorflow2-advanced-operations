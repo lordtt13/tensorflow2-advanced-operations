{
  "nbformat": 4,
  "nbformat_minor": 0,
  "metadata": {
    "colab": {
      "name": "Timeseries anomaly detection using an Autoencoder.ipynb",
      "provenance": []
    },
    "kernelspec": {
      "name": "python3",
      "display_name": "Python 3"
    },
    "accelerator": "GPU"
  },
  "cells": [
    {
      "cell_type": "code",
      "metadata": {
        "id": "eThtMXf1qF4q"
      },
      "source": [
        "import numpy as np\n",
        "import pandas as pd\n",
        "\n",
        "from tensorflow import keras\n",
        "from tensorflow.keras import layers\n",
        "from matplotlib import pyplot as plt"
      ],
      "execution_count": 1,
      "outputs": []
    },
    {
      "cell_type": "markdown",
      "metadata": {
        "id": "iEpcMcMl8cP2"
      },
      "source": [
        "### Load Data"
      ]
    },
    {
      "cell_type": "code",
      "metadata": {
        "id": "NO6yMUd88d2u"
      },
      "source": [
        "# Numenta Anomaly Benchmark(NAB) dataset\n",
        "\n",
        "master_url_root = \"https://raw.githubusercontent.com/numenta/NAB/master/data/\"\n",
        "\n",
        "df_small_noise_url_suffix = \"artificialNoAnomaly/art_daily_small_noise.csv\"\n",
        "df_small_noise_url = master_url_root + df_small_noise_url_suffix\n",
        "df_small_noise = pd.read_csv(\n",
        "    df_small_noise_url, parse_dates = True, index_col = \"timestamp\"\n",
        ")\n",
        "\n",
        "df_daily_jumpsup_url_suffix = \"artificialWithAnomaly/art_daily_jumpsup.csv\"\n",
        "df_daily_jumpsup_url = master_url_root + df_daily_jumpsup_url_suffix\n",
        "df_daily_jumpsup = pd.read_csv(\n",
        "    df_daily_jumpsup_url, parse_dates = True, index_col = \"timestamp\"\n",
        ")"
      ],
      "execution_count": 2,
      "outputs": []
    },
    {
      "cell_type": "markdown",
      "metadata": {
        "id": "ZbrviQt08_8N"
      },
      "source": [
        "### Visualize the Data"
      ]
    },
    {
      "cell_type": "code",
      "metadata": {
        "id": "CA5F8LTA8uI2",
        "outputId": "d146bbc4-22ae-4d45-a403-1b3188ddcab6",
        "colab": {
          "base_uri": "https://localhost:8080/",
          "height": 235
        }
      },
      "source": [
        "df_small_noise.head()"
      ],
      "execution_count": 3,
      "outputs": [
        {
          "output_type": "execute_result",
          "data": {
            "text/html": [
              "<div>\n",
              "<style scoped>\n",
              "    .dataframe tbody tr th:only-of-type {\n",
              "        vertical-align: middle;\n",
              "    }\n",
              "\n",
              "    .dataframe tbody tr th {\n",
              "        vertical-align: top;\n",
              "    }\n",
              "\n",
              "    .dataframe thead th {\n",
              "        text-align: right;\n",
              "    }\n",
              "</style>\n",
              "<table border=\"1\" class=\"dataframe\">\n",
              "  <thead>\n",
              "    <tr style=\"text-align: right;\">\n",
              "      <th></th>\n",
              "      <th>value</th>\n",
              "    </tr>\n",
              "    <tr>\n",
              "      <th>timestamp</th>\n",
              "      <th></th>\n",
              "    </tr>\n",
              "  </thead>\n",
              "  <tbody>\n",
              "    <tr>\n",
              "      <th>2014-04-01 00:00:00</th>\n",
              "      <td>18.324919</td>\n",
              "    </tr>\n",
              "    <tr>\n",
              "      <th>2014-04-01 00:05:00</th>\n",
              "      <td>21.970327</td>\n",
              "    </tr>\n",
              "    <tr>\n",
              "      <th>2014-04-01 00:10:00</th>\n",
              "      <td>18.624806</td>\n",
              "    </tr>\n",
              "    <tr>\n",
              "      <th>2014-04-01 00:15:00</th>\n",
              "      <td>21.953684</td>\n",
              "    </tr>\n",
              "    <tr>\n",
              "      <th>2014-04-01 00:20:00</th>\n",
              "      <td>21.909120</td>\n",
              "    </tr>\n",
              "  </tbody>\n",
              "</table>\n",
              "</div>"
            ],
            "text/plain": [
              "                         value\n",
              "timestamp                     \n",
              "2014-04-01 00:00:00  18.324919\n",
              "2014-04-01 00:05:00  21.970327\n",
              "2014-04-01 00:10:00  18.624806\n",
              "2014-04-01 00:15:00  21.953684\n",
              "2014-04-01 00:20:00  21.909120"
            ]
          },
          "metadata": {
            "tags": []
          },
          "execution_count": 3
        }
      ]
    },
    {
      "cell_type": "code",
      "metadata": {
        "id": "WhIaE3ut8xxd",
        "outputId": "ec1818c7-fcf2-48b5-8181-c5f28b3283d1",
        "colab": {
          "base_uri": "https://localhost:8080/",
          "height": 235
        }
      },
      "source": [
        "df_daily_jumpsup.head()"
      ],
      "execution_count": 4,
      "outputs": [
        {
          "output_type": "execute_result",
          "data": {
            "text/html": [
              "<div>\n",
              "<style scoped>\n",
              "    .dataframe tbody tr th:only-of-type {\n",
              "        vertical-align: middle;\n",
              "    }\n",
              "\n",
              "    .dataframe tbody tr th {\n",
              "        vertical-align: top;\n",
              "    }\n",
              "\n",
              "    .dataframe thead th {\n",
              "        text-align: right;\n",
              "    }\n",
              "</style>\n",
              "<table border=\"1\" class=\"dataframe\">\n",
              "  <thead>\n",
              "    <tr style=\"text-align: right;\">\n",
              "      <th></th>\n",
              "      <th>value</th>\n",
              "    </tr>\n",
              "    <tr>\n",
              "      <th>timestamp</th>\n",
              "      <th></th>\n",
              "    </tr>\n",
              "  </thead>\n",
              "  <tbody>\n",
              "    <tr>\n",
              "      <th>2014-04-01 00:00:00</th>\n",
              "      <td>19.761252</td>\n",
              "    </tr>\n",
              "    <tr>\n",
              "      <th>2014-04-01 00:05:00</th>\n",
              "      <td>20.500833</td>\n",
              "    </tr>\n",
              "    <tr>\n",
              "      <th>2014-04-01 00:10:00</th>\n",
              "      <td>19.961641</td>\n",
              "    </tr>\n",
              "    <tr>\n",
              "      <th>2014-04-01 00:15:00</th>\n",
              "      <td>21.490266</td>\n",
              "    </tr>\n",
              "    <tr>\n",
              "      <th>2014-04-01 00:20:00</th>\n",
              "      <td>20.187739</td>\n",
              "    </tr>\n",
              "  </tbody>\n",
              "</table>\n",
              "</div>"
            ],
            "text/plain": [
              "                         value\n",
              "timestamp                     \n",
              "2014-04-01 00:00:00  19.761252\n",
              "2014-04-01 00:05:00  20.500833\n",
              "2014-04-01 00:10:00  19.961641\n",
              "2014-04-01 00:15:00  21.490266\n",
              "2014-04-01 00:20:00  20.187739"
            ]
          },
          "metadata": {
            "tags": []
          },
          "execution_count": 4
        }
      ]
    },
    {
      "cell_type": "code",
      "metadata": {
        "id": "tQLtxfRd80Lg",
        "outputId": "7cea3e14-c9f8-447a-b1e4-56e08e6d2d16",
        "colab": {
          "base_uri": "https://localhost:8080/",
          "height": 303
        }
      },
      "source": [
        "# Timeseries data without anomalies\n",
        "\n",
        "fig, ax = plt.subplots()\n",
        "df_small_noise.plot(legend = False, ax = ax)\n",
        "plt.show()"
      ],
      "execution_count": 5,
      "outputs": [
        {
          "output_type": "display_data",
          "data": {
            "image/png": "[encoded data removed]",
            "text/plain": [
              "<Figure size 432x288 with 1 Axes>"
            ]
          },
          "metadata": {
            "tags": [],
            "needs_background": "light"
          }
        }
      ]
    },
    {
      "cell_type": "code",
      "metadata": {
        "id": "3hivO62e9KaU",
        "outputId": "c0fa2be3-a773-4bd9-95a1-02a113cee676",
        "colab": {
          "base_uri": "https://localhost:8080/",
          "height": 303
        }
      },
      "source": [
        "# Timeseries data with anomalies\n",
        "\n",
        "fig, ax = plt.subplots()\n",
        "df_daily_jumpsup.plot(legend = False, ax = ax)\n",
        "plt.show()"
      ],
      "execution_count": 6,
      "outputs": [
        {
          "output_type": "display_data",
          "data": {
            "image/png": "[encoded data removed]",
            "text/plain": [
              "<Figure size 432x288 with 1 Axes>"
            ]
          },
          "metadata": {
            "tags": [],
            "needs_background": "light"
          }
        }
      ]
    },
    {
      "cell_type": "markdown",
      "metadata": {
        "id": "gDseRJ4P9fNp"
      },
      "source": [
        "### Prep Data"
      ]
    },
    {
      "cell_type": "code",
      "metadata": {
        "id": "bGwSFSNh9geU",
        "outputId": "647d4781-5fad-4a03-b144-7d9a750c0ef0",
        "colab": {
          "base_uri": "https://localhost:8080/",
          "height": 34
        }
      },
      "source": [
        "training_mean = df_small_noise.mean()\n",
        "training_std = df_small_noise.std()\n",
        "df_training_value = (df_small_noise - training_mean) / training_std\n",
        "print(\"Number of training samples:\", len(df_training_value))"
      ],
      "execution_count": 7,
      "outputs": [
        {
          "output_type": "stream",
          "text": [
            "Number of training samples: 4032\n"
          ],
          "name": "stdout"
        }
      ]
    },
    {
      "cell_type": "code",
      "metadata": {
        "id": "0kMmQZ0c9iaj",
        "outputId": "fda45d1f-deaa-4aee-9654-996e4eb8536f",
        "colab": {
          "base_uri": "https://localhost:8080/",
          "height": 34
        }
      },
      "source": [
        "# We have a value for every 5 mins for 14 days\n",
        "\n",
        "TIME_STEPS = 288\n",
        "\n",
        "# Generate training sequences for use in the model\n",
        "\n",
        "def create_sequences(values, time_steps = TIME_STEPS):\n",
        "    output = []\n",
        "    for i in range(len(values) - time_steps):\n",
        "        output.append(values[i : (i + time_steps)])\n",
        "    return np.stack(output)\n",
        "\n",
        "\n",
        "x_train = create_sequences(df_training_value.values)\n",
        "print(\"Training input shape: \", x_train.shape)"
      ],
      "execution_count": 8,
      "outputs": [
        {
          "output_type": "stream",
          "text": [
            "Training input shape:  (3744, 288, 1)\n"
          ],
          "name": "stdout"
        }
      ]
    },
    {
      "cell_type": "markdown",
      "metadata": {
        "id": "xCfuLYtw9-Dt"
      },
      "source": [
        "### Build Model\n",
        "\n",
        "We will build a convolutional reconstruction autoencoder model. The model will take input of shape (batch_size, sequence_length, num_features) and return output of the same shape."
      ]
    },
    {
      "cell_type": "code",
      "metadata": {
        "id": "YU6Bgwhc9--8",
        "outputId": "37dbe1b2-d685-46f6-95d1-7746674b0410",
        "colab": {
          "base_uri": "https://localhost:8080/",
          "height": 391
        }
      },
      "source": [
        "model = keras.Sequential(\n",
        "    [\n",
        "        layers.Input(shape = (x_train.shape[1], x_train.shape[2])),\n",
        "        layers.Conv1D(\n",
        "            filters = 32, kernel_size = 7, padding = \"same\", strides = 2, activation = \"relu\"\n",
        "        ),\n",
        "        layers.Dropout(rate = 0.2),\n",
        "        layers.Conv1D(\n",
        "            filters = 16, kernel_size = 7, padding = \"same\", strides = 2, activation = \"relu\"\n",
        "        ),\n",
        "        layers.Conv1DTranspose(\n",
        "            filters = 16, kernel_size = 7, padding = \"same\", strides = 2, activation = \"relu\"\n",
        "        ),\n",
        "        layers.Dropout(rate = 0.2),\n",
        "        layers.Conv1DTranspose(\n",
        "            filters = 32, kernel_size = 7, padding = \"same\", strides = 2, activation = \"relu\"\n",
        "        ),\n",
        "        layers.Conv1DTranspose(filters = 1, kernel_size = 7, padding = \"same\"),\n",
        "    ]\n",
        ")\n",
        "\n",
        "model.compile(optimizer = keras.optimizers.Adam(learning_rate = 0.001), loss = \"mse\")\n",
        "model.summary()"
      ],
      "execution_count": 9,
      "outputs": [
        {
          "output_type": "stream",
          "text": [
            "Model: \"sequential\"\n",
            "_________________________________________________________________\n",
            "Layer (type)                 Output Shape              Param #   \n",
            "=================================================================\n",
            "conv1d (Conv1D)              (None, 144, 32)           256       \n",
            "_________________________________________________________________\n",
            "dropout (Dropout)            (None, 144, 32)           0         \n",
            "_________________________________________________________________\n",
            "conv1d_1 (Conv1D)            (None, 72, 16)            3600      \n",
            "_________________________________________________________________\n",
            "conv1d_transpose (Conv1DTran (None, 144, 16)           1808      \n",
            "_________________________________________________________________\n",
            "dropout_1 (Dropout)          (None, 144, 16)           0         \n",
            "_________________________________________________________________\n",
            "conv1d_transpose_1 (Conv1DTr (None, 288, 32)           3616      \n",
            "_________________________________________________________________\n",
            "conv1d_transpose_2 (Conv1DTr (None, 288, 1)            225       \n",
            "=================================================================\n",
            "Total params: 9,505\n",
            "Trainable params: 9,505\n",
            "Non-trainable params: 0\n",
            "_________________________________________________________________\n"
          ],
          "name": "stdout"
        }
      ]
    },
    {
      "cell_type": "markdown",
      "metadata": {
        "id": "npa7PwiL-iUl"
      },
      "source": [
        "### Train"
      ]
    },
    {
      "cell_type": "code",
      "metadata": {
        "id": "UJIKBP_J-jLw",
        "outputId": "e46c6672-5d1d-4ba7-babb-a4e61a3fe9d6",
        "colab": {
          "base_uri": "https://localhost:8080/",
          "height": 833
        }
      },
      "source": [
        "history = model.fit(\n",
        "    x_train,\n",
        "    x_train,\n",
        "    epochs = 50,\n",
        "    batch_size = 128,\n",
        "    validation_split = 0.1,\n",
        "    callbacks = [\n",
        "        keras.callbacks.EarlyStopping(monitor = \"val_loss\", patience = 5, mode = \"min\")\n",
        "    ],\n",
        ")"
      ],
      "execution_count": 10,
      "outputs": [
        {
          "output_type": "stream",
          "text": [
            "Epoch 1/50\n",
            "27/27 [==============================] - 0s 15ms/step - loss: 0.5463 - val_loss: 0.1034\n",
            "Epoch 2/50\n",
            "27/27 [==============================] - 0s 4ms/step - loss: 0.0827 - val_loss: 0.0400\n",
            "Epoch 3/50\n",
            "27/27 [==============================] - 0s 4ms/step - loss: 0.0584 - val_loss: 0.0341\n",
            "Epoch 4/50\n",
            "27/27 [==============================] - 0s 4ms/step - loss: 0.0496 - val_loss: 0.0299\n",
            "Epoch 5/50\n",
            "27/27 [==============================] - 0s 4ms/step - loss: 0.0430 - val_loss: 0.0277\n",
            "Epoch 6/50\n",
            "27/27 [==============================] - 0s 5ms/step - loss: 0.0385 - val_loss: 0.0258\n",
            "Epoch 7/50\n",
            "27/27 [==============================] - 0s 4ms/step - loss: 0.0348 - val_loss: 0.0258\n",
            "Epoch 8/50\n",
            "27/27 [==============================] - 0s 4ms/step - loss: 0.0323 - val_loss: 0.0235\n",
            "Epoch 9/50\n",
            "27/27 [==============================] - 0s 4ms/step - loss: 0.0300 - val_loss: 0.0235\n",
            "Epoch 10/50\n",
            "27/27 [==============================] - 0s 4ms/step - loss: 0.0281 - val_loss: 0.0237\n",
            "Epoch 11/50\n",
            "27/27 [==============================] - 0s 4ms/step - loss: 0.0264 - val_loss: 0.0235\n",
            "Epoch 12/50\n",
            "27/27 [==============================] - 0s 4ms/step - loss: 0.0250 - val_loss: 0.0228\n",
            "Epoch 13/50\n",
            "27/27 [==============================] - 0s 4ms/step - loss: 0.0235 - val_loss: 0.0252\n",
            "Epoch 14/50\n",
            "27/27 [==============================] - 0s 5ms/step - loss: 0.0223 - val_loss: 0.0233\n",
            "Epoch 15/50\n",
            "27/27 [==============================] - 0s 4ms/step - loss: 0.0211 - val_loss: 0.0223\n",
            "Epoch 16/50\n",
            "27/27 [==============================] - 0s 4ms/step - loss: 0.0200 - val_loss: 0.0229\n",
            "Epoch 17/50\n",
            "27/27 [==============================] - 0s 4ms/step - loss: 0.0190 - val_loss: 0.0214\n",
            "Epoch 18/50\n",
            "27/27 [==============================] - 0s 4ms/step - loss: 0.0181 - val_loss: 0.0219\n",
            "Epoch 19/50\n",
            "27/27 [==============================] - 0s 4ms/step - loss: 0.0174 - val_loss: 0.0211\n",
            "Epoch 20/50\n",
            "27/27 [==============================] - 0s 4ms/step - loss: 0.0166 - val_loss: 0.0232\n",
            "Epoch 21/50\n",
            "27/27 [==============================] - 0s 5ms/step - loss: 0.0158 - val_loss: 0.0223\n",
            "Epoch 22/50\n",
            "27/27 [==============================] - 0s 4ms/step - loss: 0.0151 - val_loss: 0.0222\n",
            "Epoch 23/50\n",
            "27/27 [==============================] - 0s 4ms/step - loss: 0.0144 - val_loss: 0.0230\n",
            "Epoch 24/50\n",
            "27/27 [==============================] - 0s 4ms/step - loss: 0.0138 - val_loss: 0.0227\n"
          ],
          "name": "stdout"
        }
      ]
    },
    {
      "cell_type": "code",
      "metadata": {
        "id": "VxZ6p2i_-pUW",
        "outputId": "ad01ce1e-737f-4a65-986a-33f606c46ec1",
        "colab": {
          "base_uri": "https://localhost:8080/",
          "height": 265
        }
      },
      "source": [
        "plt.plot(history.history[\"loss\"], label = \"Training Loss\")\n",
        "plt.plot(history.history[\"val_loss\"], label = \"Validation Loss\")\n",
        "plt.legend()\n",
        "plt.show()"
      ],
      "execution_count": 11,
      "outputs": [
        {
          "output_type": "display_data",
          "data": {
            "image/png": "[encoded data removed]",
            "text/plain": [
              "<Figure size 432x288 with 1 Axes>"
            ]
          },
          "metadata": {
            "tags": [],
            "needs_background": "light"
          }
        }
      ]
    },
    {
      "cell_type": "markdown",
      "metadata": {
        "id": "_7TE6l8I-1Q9"
      },
      "source": [
        "### Detecting anomalies\n",
        "\n",
        "We will detect anomalies by determining how well our model can reconstruct the input data.\n",
        "\n",
        "- Find MAE loss on training samples.\n",
        "- Find max MAE loss value. This is the worst our model has performed trying to reconstruct a sample. We will make this the threshold for anomaly detection.\n",
        "- If the reconstruction loss for a sample is greater than this threshold value then we can infer that the model is seeing a pattern that it isn't familiar with. We will label this sample as an anomaly."
      ]
    },
    {
      "cell_type": "code",
      "metadata": {
        "id": "LP4UeUT-_nrN",
        "outputId": "0c2ec48b-8b57-46ee-b3e7-87876a21ce5c",
        "colab": {
          "base_uri": "https://localhost:8080/",
          "height": 296
        }
      },
      "source": [
        "x_train_pred = model.predict(x_train)\n",
        "train_mae_loss = np.mean(np.abs(x_train_pred - x_train), axis = 1)\n",
        "\n",
        "plt.hist(train_mae_loss, bins = 50)\n",
        "plt.xlabel(\"Train MAE loss\")\n",
        "plt.ylabel(\"No of samples\")\n",
        "plt.show()\n",
        "\n",
        "threshold = np.max(train_mae_loss)\n",
        "print(\"Reconstruction error threshold: \", threshold)"
      ],
      "execution_count": 12,
      "outputs": [
        {
          "output_type": "display_data",
          "data": {
            "image/png": "[encoded data removed]",
            "text/plain": [
              "<Figure size 432x288 with 1 Axes>"
            ]
          },
          "metadata": {
            "tags": [],
            "needs_background": "light"
          }
        },
        {
          "output_type": "stream",
          "text": [
            "Reconstruction error threshold:  0.137715420373161\n"
          ],
          "name": "stdout"
        }
      ]
    },
    {
      "cell_type": "code",
      "metadata": {
        "id": "sHhpmKuO_szS",
        "outputId": "feca6eef-69f3-47ea-f508-d6dfdbff6db9",
        "colab": {
          "base_uri": "https://localhost:8080/",
          "height": 265
        }
      },
      "source": [
        "# Reconstruct\n",
        "\n",
        "plt.plot(x_train[0])\n",
        "plt.plot(x_train_pred[0])\n",
        "plt.show()"
      ],
      "execution_count": 13,
      "outputs": [
        {
          "output_type": "display_data",
          "data": {
            "image/png": "[encoded data removed]",
            "text/plain": [
              "<Figure size 432x288 with 1 Axes>"
            ]
          },
          "metadata": {
            "tags": [],
            "needs_background": "light"
          }
        }
      ]
    }
  ]
}