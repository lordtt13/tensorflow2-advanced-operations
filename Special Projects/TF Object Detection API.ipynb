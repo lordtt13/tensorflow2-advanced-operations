{
 "cells": [
  {
   "cell_type": "code",
   "execution_count": 1,
   "metadata": {},
   "outputs": [
    {
     "name": "stdout",
     "output_type": "stream",
     "text": [
      "Cloning into 'models'...\n",
      "remote: Enumerating objects: 2591, done.\u001b[K\n",
      "remote: Counting objects: 100% (2591/2591), done.\u001b[K\n",
      "remote: Compressing objects: 100% (2259/2259), done.\u001b[K\n",
      "remote: Total 2591 (delta 504), reused 1441 (delta 295), pack-reused 0\u001b[K\n",
      "Receiving objects: 100% (2591/2591), 124.11 MiB | 4.76 MiB/s, done.\n",
      "Resolving deltas: 100% (504/504), done.\n"
     ]
    }
   ],
   "source": [
    "# Download the models\n",
    "\n",
    "import os\n",
    "import pathlib\n",
    "\n",
    "\n",
    "if \"models\" in pathlib.Path.cwd().parts:\n",
    "  while \"models\" in pathlib.Path.cwd().parts:\n",
    "    os.chdir('..')\n",
    "elif not pathlib.Path('models').exists():\n",
    "  !git clone --depth 1 https://github.com/tensorflow/models"
   ]
  },
  {
   "cell_type": "code",
   "execution_count": 2,
   "metadata": {},
   "outputs": [],
   "source": [
    "# Compile protobufs and install the object_detection package"
   ]
  },
  {
   "cell_type": "code",
   "execution_count": 3,
   "metadata": {},
   "outputs": [],
   "source": [
    "%%bash\n",
    "cd models/research/\n",
    "protoc object_detection/protos/*.proto --python_out=."
   ]
  },
  {
   "cell_type": "code",
   "execution_count": 4,
   "metadata": {},
   "outputs": [
    {
     "name": "stdout",
     "output_type": "stream",
     "text": [
      "Processing /home/tanmay/Github/tf2_adv_ops/Special Projects/models/research\n",
      "Requirement already satisfied: Pillow>=1.0 in /home/tanmay/anaconda3/lib/python3.7/site-packages (from object-detection==0.1) (7.0.0)\n",
      "Requirement already satisfied: Matplotlib>=2.1 in /home/tanmay/anaconda3/lib/python3.7/site-packages (from object-detection==0.1) (3.1.3)\n",
      "Requirement already satisfied: Cython>=0.28.1 in /home/tanmay/anaconda3/lib/python3.7/site-packages (from object-detection==0.1) (0.29.15)\n",
      "Requirement already satisfied: numpy>=1.11 in /home/tanmay/anaconda3/lib/python3.7/site-packages (from Matplotlib>=2.1->object-detection==0.1) (1.18.1)\n",
      "Requirement already satisfied: pyparsing!=2.0.4,!=2.1.2,!=2.1.6,>=2.0.1 in /home/tanmay/anaconda3/lib/python3.7/site-packages (from Matplotlib>=2.1->object-detection==0.1) (2.4.6)\n",
      "Requirement already satisfied: cycler>=0.10 in /home/tanmay/anaconda3/lib/python3.7/site-packages (from Matplotlib>=2.1->object-detection==0.1) (0.10.0)\n",
      "Requirement already satisfied: kiwisolver>=1.0.1 in /home/tanmay/anaconda3/lib/python3.7/site-packages (from Matplotlib>=2.1->object-detection==0.1) (1.1.0)\n",
      "Requirement already satisfied: python-dateutil>=2.1 in /home/tanmay/anaconda3/lib/python3.7/site-packages (from Matplotlib>=2.1->object-detection==0.1) (2.8.1)\n",
      "Requirement already satisfied: six in /home/tanmay/anaconda3/lib/python3.7/site-packages (from cycler>=0.10->Matplotlib>=2.1->object-detection==0.1) (1.14.0)\n",
      "Requirement already satisfied: setuptools in /home/tanmay/anaconda3/lib/python3.7/site-packages (from kiwisolver>=1.0.1->Matplotlib>=2.1->object-detection==0.1) (45.2.0.post20200210)\n",
      "Building wheels for collected packages: object-detection\n",
      "  Building wheel for object-detection (setup.py): started\n",
      "  Building wheel for object-detection (setup.py): finished with status 'done'\n",
      "  Created wheel for object-detection: filename=object_detection-0.1-py3-none-any.whl size=1016586 sha256=6ee11520e65cc1f4d27685ba4c51f7dcab03ae4dd131b0bae584a9b8f5efce20\n",
      "  Stored in directory: /tmp/pip-ephem-wheel-cache-g2h50xdi/wheels/31/86/35/c824b10ce8d3b7e4b2da57ac1b62066de6b88084e13b9711c4\n",
      "Successfully built object-detection\n",
      "Installing collected packages: object-detection\n",
      "Successfully installed object-detection-0.1\n"
     ]
    }
   ],
   "source": [
    "%%bash \n",
    "cd models/research\n",
    "pip install ."
   ]
  },
  {
   "cell_type": "code",
   "execution_count": null,
   "metadata": {},
   "outputs": [],
   "source": [
    "import os\n",
    "import sys\n",
    "import tarfile\n",
    "import zipfile\n",
    "\n",
    "import numpy as np\n",
    "import tensorflow as tf\n",
    "import six.moves.urllib as urllib\n",
    "\n",
    "\n",
    "from PIL import Image\n",
    "from io import StringIO\n",
    "from IPython.display import display\n",
    "from collections import defaultdict\n",
    "from matplotlib import pyplot as plt"
   ]
  },
  {
   "cell_type": "code",
   "execution_count": null,
   "metadata": {},
   "outputs": [],
   "source": [
    "# Get helper funcs from object_detection module\n",
    "\n",
    "from object_detection.utils import label_map_util\n",
    "from object_detection.utils import ops as utils_ops\n",
    "from object_detection.utils import visualization_utils as vis_util"
   ]
  },
  {
   "cell_type": "code",
   "execution_count": null,
   "metadata": {},
   "outputs": [],
   "source": [
    "# Patches\n",
    "\n",
    "# patch tf1 into `utils.ops`\n",
    "utils_ops.tf = tf.compat.v1\n",
    "\n",
    "# Patch the location of gfile\n",
    "tf.gfile = tf.io.gfile"
   ]
  }
 ],
 "metadata": {
  "kernelspec": {
   "display_name": "Python 3",
   "language": "python",
   "name": "python3"
  },
  "language_info": {
   "codemirror_mode": {
    "name": "ipython",
    "version": 3
   },
   "file_extension": ".py",
   "mimetype": "text/x-python",
   "name": "python",
   "nbconvert_exporter": "python",
   "pygments_lexer": "ipython3",
   "version": "3.7.6"
  }
 },
 "nbformat": 4,
 "nbformat_minor": 4
}
