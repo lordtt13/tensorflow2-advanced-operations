{
  "nbformat": 4,
  "nbformat_minor": 0,
  "metadata": {
    "colab": {
      "name": "Custom Progress Bar.ipynb",
      "provenance": []
    },
    "kernelspec": {
      "name": "python3",
      "display_name": "Python 3"
    },
    "accelerator": "GPU"
  },
  "cells": [
    {
      "cell_type": "code",
      "metadata": {
        "id": "0ygzV0xeydkA",
        "colab_type": "code",
        "colab": {
          "base_uri": "https://localhost:8080/",
          "height": 68
        },
        "outputId": "96de560f-b703-4985-c328-2ab02e71f7d6"
      },
      "source": [
        "!pip install -U tensorflow-addons \"tqdm>=4.36.1\""
      ],
      "execution_count": 1,
      "outputs": [
        {
          "output_type": "stream",
          "text": [
            "Requirement already up-to-date: tensorflow-addons in /usr/local/lib/python3.6/dist-packages (0.11.2)\n",
            "Requirement already up-to-date: tqdm>=4.36.1 in /usr/local/lib/python3.6/dist-packages (4.49.0)\n",
            "Requirement already satisfied, skipping upgrade: typeguard>=2.7 in /usr/local/lib/python3.6/dist-packages (from tensorflow-addons) (2.7.1)\n"
          ],
          "name": "stdout"
        }
      ]
    },
    {
      "cell_type": "code",
      "metadata": {
        "id": "1EjNzQwmyk86",
        "colab_type": "code",
        "colab": {}
      },
      "source": [
        "import sys\n",
        "import tqdm\n",
        "\n",
        "import tensorflow as tf\n",
        "import tensorflow_addons as tfa\n",
        "\n",
        "from IPython.lib import deepreload \n",
        "from tensorflow.keras.datasets import mnist\n",
        "from tensorflow.keras.models import Sequential\n",
        "from tensorflow.keras.layers import Dense, Dropout, Flatten"
      ],
      "execution_count": 2,
      "outputs": []
    },
    {
      "cell_type": "code",
      "metadata": {
        "id": "_VMYfOCDylYY",
        "colab_type": "code",
        "colab": {
          "base_uri": "https://localhost:8080/",
          "height": 35
        },
        "outputId": "4d65ed18-91aa-4d5e-beff-797fb922c95d"
      },
      "source": [
        "stdout = sys.stdout\n",
        "sys.stdout = open('junk','w')\n",
        "deepreload.reload(tqdm)\n",
        "sys.stdout = stdout\n",
        "\n",
        "tqdm.__version__"
      ],
      "execution_count": 3,
      "outputs": [
        {
          "output_type": "execute_result",
          "data": {
            "application/vnd.google.colaboratory.intrinsic+json": {
              "type": "string"
            },
            "text/plain": [
              "'4.49.0'"
            ]
          },
          "metadata": {
            "tags": []
          },
          "execution_count": 3
        }
      ]
    }
  ]
}