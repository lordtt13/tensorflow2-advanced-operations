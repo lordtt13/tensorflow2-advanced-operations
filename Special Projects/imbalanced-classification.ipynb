{
 "metadata": {
  "language_info": {
   "codemirror_mode": {
    "name": "ipython",
    "version": 3
   },
   "file_extension": ".py",
   "mimetype": "text/x-python",
   "name": "python",
   "nbconvert_exporter": "python",
   "pygments_lexer": "ipython3",
   "version": "3.7.7-final"
  },
  "orig_nbformat": 2,
  "kernelspec": {
   "name": "python37764bitbase9c3b6b6d85ee4f56aaff37be826f2a3d",
   "display_name": "Python 3.7.7 64-bit ('base')"
  }
 },
 "nbformat": 4,
 "nbformat_minor": 2,
 "cells": [
  {
   "cell_type": "code",
   "execution_count": 1,
   "metadata": {},
   "outputs": [],
   "source": [
    "import csv\n",
    "import numpy as np\n",
    "from tensorflow import keras"
   ]
  },
  {
   "cell_type": "code",
   "execution_count": 2,
   "metadata": {},
   "outputs": [
    {
     "output_type": "stream",
     "name": "stdout",
     "text": [
      "HEADER: \"Time\",\"V1\",\"V2\",\"V3\",\"V4\",\"V5\",\"V6\",\"V7\",\"V8\",\"V9\",\"V10\",\"V11\",\"V12\",\"V13\",\"V14\",\"V15\",\"V16\",\"V17\",\"V18\",\"V19\",\"V20\",\"V21\",\"V22\",\"V23\",\"V24\",\"V25\",\"V26\",\"V27\",\"V28\",\"Amount\",\"Class\"\nEXAMPLE FEATURES: [0.0, -1.3598071336738, -0.0727811733098497, 2.53634673796914, 1.37815522427443, -0.338320769942518, 0.462387777762292, 0.239598554061257, 0.0986979012610507, 0.363786969611213, 0.0907941719789316, -0.551599533260813, -0.617800855762348, -0.991389847235408, -0.311169353699879, 1.46817697209427, -0.470400525259478, 0.207971241929242, 0.0257905801985591, 0.403992960255733, 0.251412098239705, -0.018306777944153, 0.277837575558899, -0.110473910188767, 0.0669280749146731, 0.128539358273528, -0.189114843888824, 0.133558376740387, -0.0210530534538215, 149.62]\n"
     ]
    }
   ],
   "source": [
    "fname = \"creditcard.csv\"\n",
    "\n",
    "all_features = []\n",
    "all_targets = []\n",
    "with open(fname) as f:\n",
    "    for i, line in enumerate(f):\n",
    "        if i == 0:\n",
    "            print(\"HEADER:\", line.strip())\n",
    "            continue  # Skip header\n",
    "        fields = line.strip().split(\",\")\n",
    "        all_features.append([float(v.replace('\"', \"\")) for v in fields[:-1]])\n",
    "        all_targets.append([int(fields[-1].replace('\"', \"\"))])\n",
    "        if i == 1:\n",
    "            print(\"EXAMPLE FEATURES:\", all_features[-1])\n",
    "\n",
    "features = np.array(all_features, dtype=\"float32\")\n",
    "targets = np.array(all_targets, dtype=\"uint8\")"
   ]
  },
  {
   "source": [
    "### Prepare Validation DS"
   ],
   "cell_type": "markdown",
   "metadata": {}
  },
  {
   "cell_type": "code",
   "execution_count": 3,
   "metadata": {},
   "outputs": [],
   "source": [
    "num_val_samples = int(len(features) * 0.2)\n",
    "train_features = features[:-num_val_samples]\n",
    "train_targets = targets[:-num_val_samples]\n",
    "val_features = features[-num_val_samples:]\n",
    "val_targets = targets[-num_val_samples:]"
   ]
  },
  {
   "source": [
    "### Analyze class imbalance in the targets"
   ],
   "cell_type": "markdown",
   "metadata": {}
  },
  {
   "cell_type": "code",
   "execution_count": 4,
   "metadata": {},
   "outputs": [
    {
     "output_type": "stream",
     "name": "stdout",
     "text": [
      "Number of positive samples in training data: 417 (0.18% of total)\n"
     ]
    }
   ],
   "source": [
    "counts = np.bincount(train_targets[:, 0])\n",
    "print(\n",
    "    \"Number of positive samples in training data: {} ({:.2f}% of total)\".format(\n",
    "        counts[1], 100 * float(counts[1]) / len(train_targets)\n",
    "    )\n",
    ")\n",
    "\n",
    "weight_for_0 = 1.0 / counts[0]\n",
    "weight_for_1 = 1.0 / counts[1]"
   ]
  },
  {
   "source": [
    "### Normalize"
   ],
   "cell_type": "markdown",
   "metadata": {}
  },
  {
   "cell_type": "code",
   "execution_count": 5,
   "metadata": {},
   "outputs": [],
   "source": [
    "mean = np.mean(train_features, axis=0)\n",
    "train_features -= mean\n",
    "val_features -= mean\n",
    "std = np.std(train_features, axis=0)\n",
    "train_features /= std\n",
    "val_features /= std"
   ]
  },
  {
   "source": [
    "### Build Model"
   ],
   "cell_type": "markdown",
   "metadata": {}
  },
  {
   "cell_type": "code",
   "execution_count": 6,
   "metadata": {},
   "outputs": [
    {
     "output_type": "stream",
     "name": "stdout",
     "text": [
      "Model: \"sequential\"\n_________________________________________________________________\nLayer (type)                 Output Shape              Param #   \n=================================================================\ndense (Dense)                (None, 256)               7936      \n_________________________________________________________________\ndense_1 (Dense)              (None, 256)               65792     \n_________________________________________________________________\ndropout (Dropout)            (None, 256)               0         \n_________________________________________________________________\ndense_2 (Dense)              (None, 256)               65792     \n_________________________________________________________________\ndropout_1 (Dropout)          (None, 256)               0         \n_________________________________________________________________\ndense_3 (Dense)              (None, 1)                 257       \n=================================================================\nTotal params: 139,777\nTrainable params: 139,777\nNon-trainable params: 0\n_________________________________________________________________\n"
     ]
    }
   ],
   "source": [
    "model = keras.Sequential(\n",
    "    [\n",
    "        keras.layers.Dense(\n",
    "            256, activation=\"relu\", input_shape=(train_features.shape[-1],)\n",
    "        ),\n",
    "        keras.layers.Dense(256, activation=\"relu\"),\n",
    "        keras.layers.Dropout(0.3),\n",
    "        keras.layers.Dense(256, activation=\"relu\"),\n",
    "        keras.layers.Dropout(0.3),\n",
    "        keras.layers.Dense(1, activation=\"sigmoid\"),\n",
    "    ]\n",
    ")\n",
    "model.summary()"
   ]
  },
  {
   "source": [
    "### Train with class weight argument"
   ],
   "cell_type": "markdown",
   "metadata": {}
  },
  {
   "cell_type": "code",
   "execution_count": 7,
   "metadata": {},
   "outputs": [
    {
     "output_type": "stream",
     "name": "stdout",
     "text": [
      "Epoch 1/30\n",
      "112/112 - 2s - loss: 2.4847e-06 - fn: 44.0000 - fp: 26895.0000 - tn: 200534.0000 - tp: 373.0000 - precision: 0.0137 - recall: 0.8945 - val_loss: 0.1050 - val_fn: 10.0000 - val_fp: 944.0000 - val_tn: 55942.0000 - val_tp: 65.0000 - val_precision: 0.0644 - val_recall: 0.8667\n",
      "Epoch 2/30\n",
      "112/112 - 1s - loss: 1.5604e-06 - fn: 34.0000 - fp: 7265.0000 - tn: 220164.0000 - tp: 383.0000 - precision: 0.0501 - recall: 0.9185 - val_loss: 0.0534 - val_fn: 10.0000 - val_fp: 434.0000 - val_tn: 56452.0000 - val_tp: 65.0000 - val_precision: 0.1303 - val_recall: 0.8667\n",
      "Epoch 3/30\n",
      "112/112 - 1s - loss: 1.2090e-06 - fn: 33.0000 - fp: 5748.0000 - tn: 221681.0000 - tp: 384.0000 - precision: 0.0626 - recall: 0.9209 - val_loss: 0.0922 - val_fn: 9.0000 - val_fp: 1036.0000 - val_tn: 55850.0000 - val_tp: 66.0000 - val_precision: 0.0599 - val_recall: 0.8800\n",
      "Epoch 4/30\n",
      "112/112 - 1s - loss: 9.9624e-07 - fn: 25.0000 - fp: 6695.0000 - tn: 220734.0000 - tp: 392.0000 - precision: 0.0553 - recall: 0.9400 - val_loss: 0.1756 - val_fn: 7.0000 - val_fp: 2705.0000 - val_tn: 54181.0000 - val_tp: 68.0000 - val_precision: 0.0245 - val_recall: 0.9067\n",
      "Epoch 5/30\n",
      "112/112 - 1s - loss: 1.1081e-06 - fn: 30.0000 - fp: 7648.0000 - tn: 219781.0000 - tp: 387.0000 - precision: 0.0482 - recall: 0.9281 - val_loss: 0.1751 - val_fn: 6.0000 - val_fp: 4451.0000 - val_tn: 52435.0000 - val_tp: 69.0000 - val_precision: 0.0153 - val_recall: 0.9200\n",
      "Epoch 6/30\n",
      "112/112 - 1s - loss: 7.8337e-07 - fn: 17.0000 - fp: 6181.0000 - tn: 221248.0000 - tp: 400.0000 - precision: 0.0608 - recall: 0.9592 - val_loss: 0.0467 - val_fn: 7.0000 - val_fp: 999.0000 - val_tn: 55887.0000 - val_tp: 68.0000 - val_precision: 0.0637 - val_recall: 0.9067\n",
      "Epoch 7/30\n",
      "112/112 - 1s - loss: 8.0942e-07 - fn: 13.0000 - fp: 7170.0000 - tn: 220259.0000 - tp: 404.0000 - precision: 0.0533 - recall: 0.9688 - val_loss: 0.0606 - val_fn: 6.0000 - val_fp: 1452.0000 - val_tn: 55434.0000 - val_tp: 69.0000 - val_precision: 0.0454 - val_recall: 0.9200\n",
      "Epoch 8/30\n",
      "112/112 - 1s - loss: 6.8946e-07 - fn: 14.0000 - fp: 6871.0000 - tn: 220558.0000 - tp: 403.0000 - precision: 0.0554 - recall: 0.9664 - val_loss: 0.0617 - val_fn: 8.0000 - val_fp: 1350.0000 - val_tn: 55536.0000 - val_tp: 67.0000 - val_precision: 0.0473 - val_recall: 0.8933\n",
      "Epoch 9/30\n",
      "112/112 - 1s - loss: 6.4159e-07 - fn: 12.0000 - fp: 7672.0000 - tn: 219757.0000 - tp: 405.0000 - precision: 0.0501 - recall: 0.9712 - val_loss: 0.0847 - val_fn: 7.0000 - val_fp: 1588.0000 - val_tn: 55298.0000 - val_tp: 68.0000 - val_precision: 0.0411 - val_recall: 0.9067\n",
      "Epoch 10/30\n",
      "112/112 - 1s - loss: 6.7809e-07 - fn: 14.0000 - fp: 6511.0000 - tn: 220918.0000 - tp: 403.0000 - precision: 0.0583 - recall: 0.9664 - val_loss: 0.0420 - val_fn: 8.0000 - val_fp: 1071.0000 - val_tn: 55815.0000 - val_tp: 67.0000 - val_precision: 0.0589 - val_recall: 0.8933\n",
      "Epoch 11/30\n",
      "112/112 - 1s - loss: 8.6182e-07 - fn: 11.0000 - fp: 9136.0000 - tn: 218293.0000 - tp: 406.0000 - precision: 0.0425 - recall: 0.9736 - val_loss: 0.1035 - val_fn: 7.0000 - val_fp: 2828.0000 - val_tn: 54058.0000 - val_tp: 68.0000 - val_precision: 0.0235 - val_recall: 0.9067\n",
      "Epoch 12/30\n",
      "112/112 - 1s - loss: 6.7227e-07 - fn: 14.0000 - fp: 7202.0000 - tn: 220227.0000 - tp: 403.0000 - precision: 0.0530 - recall: 0.9664 - val_loss: 0.2597 - val_fn: 4.0000 - val_fp: 4822.0000 - val_tn: 52064.0000 - val_tp: 71.0000 - val_precision: 0.0145 - val_recall: 0.9467\n",
      "Epoch 13/30\n",
      "112/112 - 1s - loss: 7.9522e-07 - fn: 9.0000 - fp: 6912.0000 - tn: 220517.0000 - tp: 408.0000 - precision: 0.0557 - recall: 0.9784 - val_loss: 0.1037 - val_fn: 7.0000 - val_fp: 1520.0000 - val_tn: 55366.0000 - val_tp: 68.0000 - val_precision: 0.0428 - val_recall: 0.9067\n",
      "Epoch 14/30\n",
      "112/112 - 1s - loss: 5.7603e-06 - fn: 30.0000 - fp: 11282.0000 - tn: 216147.0000 - tp: 387.0000 - precision: 0.0332 - recall: 0.9281 - val_loss: 0.0582 - val_fn: 11.0000 - val_fp: 554.0000 - val_tn: 56332.0000 - val_tp: 64.0000 - val_precision: 0.1036 - val_recall: 0.8533\n",
      "Epoch 15/30\n",
      "112/112 - 1s - loss: 8.4700e-07 - fn: 21.0000 - fp: 4999.0000 - tn: 222430.0000 - tp: 396.0000 - precision: 0.0734 - recall: 0.9496 - val_loss: 0.0557 - val_fn: 8.0000 - val_fp: 1214.0000 - val_tn: 55672.0000 - val_tp: 67.0000 - val_precision: 0.0523 - val_recall: 0.8933\n",
      "Epoch 16/30\n",
      "112/112 - 1s - loss: 6.1198e-07 - fn: 12.0000 - fp: 5469.0000 - tn: 221960.0000 - tp: 405.0000 - precision: 0.0689 - recall: 0.9712 - val_loss: 0.0400 - val_fn: 6.0000 - val_fp: 731.0000 - val_tn: 56155.0000 - val_tp: 69.0000 - val_precision: 0.0862 - val_recall: 0.9200\n",
      "Epoch 17/30\n",
      "112/112 - 1s - loss: 9.0604e-07 - fn: 6.0000 - fp: 4702.0000 - tn: 222727.0000 - tp: 411.0000 - precision: 0.0804 - recall: 0.9856 - val_loss: 0.0294 - val_fn: 8.0000 - val_fp: 552.0000 - val_tn: 56334.0000 - val_tp: 67.0000 - val_precision: 0.1082 - val_recall: 0.8933\n",
      "Epoch 18/30\n",
      "112/112 - 1s - loss: 6.2168e-07 - fn: 9.0000 - fp: 5297.0000 - tn: 222132.0000 - tp: 408.0000 - precision: 0.0715 - recall: 0.9784 - val_loss: 0.0383 - val_fn: 9.0000 - val_fp: 911.0000 - val_tn: 55975.0000 - val_tp: 66.0000 - val_precision: 0.0676 - val_recall: 0.8800\n",
      "Epoch 19/30\n",
      "112/112 - 1s - loss: 6.3422e-07 - fn: 7.0000 - fp: 3756.0000 - tn: 223673.0000 - tp: 410.0000 - precision: 0.0984 - recall: 0.9832 - val_loss: 0.0231 - val_fn: 11.0000 - val_fp: 228.0000 - val_tn: 56658.0000 - val_tp: 64.0000 - val_precision: 0.2192 - val_recall: 0.8533\n",
      "Epoch 20/30\n",
      "112/112 - 1s - loss: 4.8763e-07 - fn: 6.0000 - fp: 3872.0000 - tn: 223557.0000 - tp: 411.0000 - precision: 0.0960 - recall: 0.9856 - val_loss: 0.0273 - val_fn: 9.0000 - val_fp: 563.0000 - val_tn: 56323.0000 - val_tp: 66.0000 - val_precision: 0.1049 - val_recall: 0.8800\n",
      "Epoch 21/30\n",
      "112/112 - 1s - loss: 3.5967e-07 - fn: 4.0000 - fp: 3617.0000 - tn: 223812.0000 - tp: 413.0000 - precision: 0.1025 - recall: 0.9904 - val_loss: 0.0721 - val_fn: 8.0000 - val_fp: 1117.0000 - val_tn: 55769.0000 - val_tp: 67.0000 - val_precision: 0.0566 - val_recall: 0.8933\n",
      "Epoch 22/30\n",
      "112/112 - 1s - loss: 3.8584e-07 - fn: 5.0000 - fp: 3756.0000 - tn: 223673.0000 - tp: 412.0000 - precision: 0.0988 - recall: 0.9880 - val_loss: 0.0202 - val_fn: 10.0000 - val_fp: 226.0000 - val_tn: 56660.0000 - val_tp: 65.0000 - val_precision: 0.2234 - val_recall: 0.8667\n",
      "Epoch 23/30\n",
      "112/112 - 1s - loss: 3.3948e-07 - fn: 4.0000 - fp: 3626.0000 - tn: 223803.0000 - tp: 413.0000 - precision: 0.1023 - recall: 0.9904 - val_loss: 0.0223 - val_fn: 9.0000 - val_fp: 446.0000 - val_tn: 56440.0000 - val_tp: 66.0000 - val_precision: 0.1289 - val_recall: 0.8800\n",
      "Epoch 24/30\n",
      "112/112 - 1s - loss: 2.6273e-07 - fn: 3.0000 - fp: 2963.0000 - tn: 224466.0000 - tp: 414.0000 - precision: 0.1226 - recall: 0.9928 - val_loss: 0.0321 - val_fn: 7.0000 - val_fp: 614.0000 - val_tn: 56272.0000 - val_tp: 68.0000 - val_precision: 0.0997 - val_recall: 0.9067\n",
      "Epoch 25/30\n",
      "112/112 - 1s - loss: 3.1949e-07 - fn: 3.0000 - fp: 3616.0000 - tn: 223813.0000 - tp: 414.0000 - precision: 0.1027 - recall: 0.9928 - val_loss: 0.0768 - val_fn: 5.0000 - val_fp: 2121.0000 - val_tn: 54765.0000 - val_tp: 70.0000 - val_precision: 0.0319 - val_recall: 0.9333\n",
      "Epoch 26/30\n",
      "112/112 - 1s - loss: 2.1921e-07 - fn: 3.0000 - fp: 2464.0000 - tn: 224965.0000 - tp: 414.0000 - precision: 0.1438 - recall: 0.9928 - val_loss: 0.0279 - val_fn: 10.0000 - val_fp: 538.0000 - val_tn: 56348.0000 - val_tp: 65.0000 - val_precision: 0.1078 - val_recall: 0.8667\n",
      "Epoch 27/30\n",
      "112/112 - 1s - loss: 2.9486e-07 - fn: 1.0000 - fp: 4303.0000 - tn: 223126.0000 - tp: 416.0000 - precision: 0.0882 - recall: 0.9976 - val_loss: 0.0140 - val_fn: 10.0000 - val_fp: 312.0000 - val_tn: 56574.0000 - val_tp: 65.0000 - val_precision: 0.1724 - val_recall: 0.8667\n",
      "Epoch 28/30\n",
      "112/112 - 1s - loss: 2.3816e-07 - fn: 2.0000 - fp: 2844.0000 - tn: 224585.0000 - tp: 415.0000 - precision: 0.1273 - recall: 0.9952 - val_loss: 0.0334 - val_fn: 10.0000 - val_fp: 814.0000 - val_tn: 56072.0000 - val_tp: 65.0000 - val_precision: 0.0739 - val_recall: 0.8667\n",
      "Epoch 29/30\n",
      "112/112 - 1s - loss: 1.9282e-07 - fn: 1.0000 - fp: 2467.0000 - tn: 224962.0000 - tp: 416.0000 - precision: 0.1443 - recall: 0.9976 - val_loss: 0.0139 - val_fn: 10.0000 - val_fp: 242.0000 - val_tn: 56644.0000 - val_tp: 65.0000 - val_precision: 0.2117 - val_recall: 0.8667\n",
      "Epoch 30/30\n",
      "112/112 - 1s - loss: 1.4498e-07 - fn: 1.0000 - fp: 1763.0000 - tn: 225666.0000 - tp: 416.0000 - precision: 0.1909 - recall: 0.9976 - val_loss: 0.0203 - val_fn: 9.0000 - val_fp: 377.0000 - val_tn: 56509.0000 - val_tp: 66.0000 - val_precision: 0.1490 - val_recall: 0.8800\n"
     ]
    },
    {
     "output_type": "execute_result",
     "data": {
      "text/plain": [
       "<tensorflow.python.keras.callbacks.History at 0x7fe69c0aa890>"
      ]
     },
     "metadata": {},
     "execution_count": 7
    }
   ],
   "source": [
    "metrics = [\n",
    "    keras.metrics.FalseNegatives(name=\"fn\"),\n",
    "    keras.metrics.FalsePositives(name=\"fp\"),\n",
    "    keras.metrics.TrueNegatives(name=\"tn\"),\n",
    "    keras.metrics.TruePositives(name=\"tp\"),\n",
    "    keras.metrics.Precision(name=\"precision\"),\n",
    "    keras.metrics.Recall(name=\"recall\"),\n",
    "]\n",
    "\n",
    "model.compile(\n",
    "    optimizer=keras.optimizers.Adam(1e-2), loss=\"binary_crossentropy\", metrics=metrics\n",
    ")\n",
    "\n",
    "callbacks = [keras.callbacks.ModelCheckpoint(\"fraud_model_at_epoch_{epoch}.h5\")]\n",
    "class_weight = {0: weight_for_0, 1: weight_for_1}\n",
    "\n",
    "model.fit(\n",
    "    train_features,\n",
    "    train_targets,\n",
    "    batch_size=2048,\n",
    "    epochs=30,\n",
    "    verbose=2,\n",
    "    callbacks=callbacks,\n",
    "    validation_data=(val_features, val_targets),\n",
    "    class_weight=class_weight,\n",
    ")"
   ]
  }
 ]
}