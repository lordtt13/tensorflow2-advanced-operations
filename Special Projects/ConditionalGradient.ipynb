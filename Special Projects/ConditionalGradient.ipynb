{
  "nbformat": 4,
  "nbformat_minor": 0,
  "metadata": {
    "colab": {
      "name": "ConditionalGradient.ipynb",
      "provenance": []
    },
    "kernelspec": {
      "name": "python3",
      "display_name": "Python 3"
    },
    "accelerator": "GPU"
  },
  "cells": [
    {
      "cell_type": "markdown",
      "metadata": {
        "id": "LaZSYkI_vavS",
        "colab_type": "text"
      },
      "source": [
        "### ConditionalGradient\n",
        "\n",
        "Constraining the parameters of a neural network has been shown to be beneficial in training because of the underlying regularization effects. Often, parameters are constrained via a soft penalty (which never guarantees the constraint satisfaction) or via a projection operation (which is computationally expensive). Conditional gradient (CG) optimizer, on the other hand, enforces the constraints strictly without the need for an expensive projection step. It works by minimizing a linear approximation of the objective within the constraint set. "
      ]
    },
    {
      "cell_type": "code",
      "metadata": {
        "id": "pfUe41gWveq_",
        "colab_type": "code",
        "colab": {
          "base_uri": "https://localhost:8080/",
          "height": 34
        },
        "outputId": "2f6d9ab2-450c-425b-b95e-b061ffbdae58"
      },
      "source": [
        "!pip install -q -U tensorflow-addons"
      ],
      "execution_count": 1,
      "outputs": [
        {
          "output_type": "stream",
          "text": [
            "\u001b[?25l\r\u001b[K     |▎                               | 10kB 19.0MB/s eta 0:00:01\r\u001b[K     |▋                               | 20kB 1.6MB/s eta 0:00:01\r\u001b[K     |█                               | 30kB 2.0MB/s eta 0:00:01\r\u001b[K     |█▏                              | 40kB 1.6MB/s eta 0:00:01\r\u001b[K     |█▌                              | 51kB 1.9MB/s eta 0:00:01\r\u001b[K     |█▉                              | 61kB 2.1MB/s eta 0:00:01\r\u001b[K     |██                              | 71kB 2.4MB/s eta 0:00:01\r\u001b[K     |██▍                             | 81kB 2.6MB/s eta 0:00:01\r\u001b[K     |██▊                             | 92kB 2.8MB/s eta 0:00:01\r\u001b[K     |███                             | 102kB 2.7MB/s eta 0:00:01\r\u001b[K     |███▎                            | 112kB 2.7MB/s eta 0:00:01\r\u001b[K     |███▋                            | 122kB 2.7MB/s eta 0:00:01\r\u001b[K     |███▉                            | 133kB 2.7MB/s eta 0:00:01\r\u001b[K     |████▏                           | 143kB 2.7MB/s eta 0:00:01\r\u001b[K     |████▌                           | 153kB 2.7MB/s eta 0:00:01\r\u001b[K     |████▊                           | 163kB 2.7MB/s eta 0:00:01\r\u001b[K     |█████                           | 174kB 2.7MB/s eta 0:00:01\r\u001b[K     |█████▍                          | 184kB 2.7MB/s eta 0:00:01\r\u001b[K     |█████▋                          | 194kB 2.7MB/s eta 0:00:01\r\u001b[K     |██████                          | 204kB 2.7MB/s eta 0:00:01\r\u001b[K     |██████▎                         | 215kB 2.7MB/s eta 0:00:01\r\u001b[K     |██████▌                         | 225kB 2.7MB/s eta 0:00:01\r\u001b[K     |██████▉                         | 235kB 2.7MB/s eta 0:00:01\r\u001b[K     |███████▏                        | 245kB 2.7MB/s eta 0:00:01\r\u001b[K     |███████▌                        | 256kB 2.7MB/s eta 0:00:01\r\u001b[K     |███████▊                        | 266kB 2.7MB/s eta 0:00:01\r\u001b[K     |████████                        | 276kB 2.7MB/s eta 0:00:01\r\u001b[K     |████████▍                       | 286kB 2.7MB/s eta 0:00:01\r\u001b[K     |████████▋                       | 296kB 2.7MB/s eta 0:00:01\r\u001b[K     |█████████                       | 307kB 2.7MB/s eta 0:00:01\r\u001b[K     |█████████▎                      | 317kB 2.7MB/s eta 0:00:01\r\u001b[K     |█████████▌                      | 327kB 2.7MB/s eta 0:00:01\r\u001b[K     |█████████▉                      | 337kB 2.7MB/s eta 0:00:01\r\u001b[K     |██████████▏                     | 348kB 2.7MB/s eta 0:00:01\r\u001b[K     |██████████▍                     | 358kB 2.7MB/s eta 0:00:01\r\u001b[K     |██████████▊                     | 368kB 2.7MB/s eta 0:00:01\r\u001b[K     |███████████                     | 378kB 2.7MB/s eta 0:00:01\r\u001b[K     |███████████▎                    | 389kB 2.7MB/s eta 0:00:01\r\u001b[K     |███████████▋                    | 399kB 2.7MB/s eta 0:00:01\r\u001b[K     |████████████                    | 409kB 2.7MB/s eta 0:00:01\r\u001b[K     |████████████▏                   | 419kB 2.7MB/s eta 0:00:01\r\u001b[K     |████████████▌                   | 430kB 2.7MB/s eta 0:00:01\r\u001b[K     |████████████▉                   | 440kB 2.7MB/s eta 0:00:01\r\u001b[K     |█████████████                   | 450kB 2.7MB/s eta 0:00:01\r\u001b[K     |█████████████▍                  | 460kB 2.7MB/s eta 0:00:01\r\u001b[K     |█████████████▊                  | 471kB 2.7MB/s eta 0:00:01\r\u001b[K     |██████████████                  | 481kB 2.7MB/s eta 0:00:01\r\u001b[K     |██████████████▎                 | 491kB 2.7MB/s eta 0:00:01\r\u001b[K     |██████████████▋                 | 501kB 2.7MB/s eta 0:00:01\r\u001b[K     |███████████████                 | 512kB 2.7MB/s eta 0:00:01\r\u001b[K     |███████████████▏                | 522kB 2.7MB/s eta 0:00:01\r\u001b[K     |███████████████▌                | 532kB 2.7MB/s eta 0:00:01\r\u001b[K     |███████████████▉                | 542kB 2.7MB/s eta 0:00:01\r\u001b[K     |████████████████                | 552kB 2.7MB/s eta 0:00:01\r\u001b[K     |████████████████▍               | 563kB 2.7MB/s eta 0:00:01\r\u001b[K     |████████████████▊               | 573kB 2.7MB/s eta 0:00:01\r\u001b[K     |█████████████████               | 583kB 2.7MB/s eta 0:00:01\r\u001b[K     |█████████████████▎              | 593kB 2.7MB/s eta 0:00:01\r\u001b[K     |█████████████████▋              | 604kB 2.7MB/s eta 0:00:01\r\u001b[K     |█████████████████▉              | 614kB 2.7MB/s eta 0:00:01\r\u001b[K     |██████████████████▏             | 624kB 2.7MB/s eta 0:00:01\r\u001b[K     |██████████████████▌             | 634kB 2.7MB/s eta 0:00:01\r\u001b[K     |██████████████████▊             | 645kB 2.7MB/s eta 0:00:01\r\u001b[K     |███████████████████             | 655kB 2.7MB/s eta 0:00:01\r\u001b[K     |███████████████████▍            | 665kB 2.7MB/s eta 0:00:01\r\u001b[K     |███████████████████▋            | 675kB 2.7MB/s eta 0:00:01\r\u001b[K     |████████████████████            | 686kB 2.7MB/s eta 0:00:01\r\u001b[K     |████████████████████▎           | 696kB 2.7MB/s eta 0:00:01\r\u001b[K     |████████████████████▌           | 706kB 2.7MB/s eta 0:00:01\r\u001b[K     |████████████████████▉           | 716kB 2.7MB/s eta 0:00:01\r\u001b[K     |█████████████████████▏          | 727kB 2.7MB/s eta 0:00:01\r\u001b[K     |█████████████████████▍          | 737kB 2.7MB/s eta 0:00:01\r\u001b[K     |█████████████████████▊          | 747kB 2.7MB/s eta 0:00:01\r\u001b[K     |██████████████████████          | 757kB 2.7MB/s eta 0:00:01\r\u001b[K     |██████████████████████▍         | 768kB 2.7MB/s eta 0:00:01\r\u001b[K     |██████████████████████▋         | 778kB 2.7MB/s eta 0:00:01\r\u001b[K     |███████████████████████         | 788kB 2.7MB/s eta 0:00:01\r\u001b[K     |███████████████████████▎        | 798kB 2.7MB/s eta 0:00:01\r\u001b[K     |███████████████████████▌        | 808kB 2.7MB/s eta 0:00:01\r\u001b[K     |███████████████████████▉        | 819kB 2.7MB/s eta 0:00:01\r\u001b[K     |████████████████████████▏       | 829kB 2.7MB/s eta 0:00:01\r\u001b[K     |████████████████████████▍       | 839kB 2.7MB/s eta 0:00:01\r\u001b[K     |████████████████████████▊       | 849kB 2.7MB/s eta 0:00:01\r\u001b[K     |█████████████████████████       | 860kB 2.7MB/s eta 0:00:01\r\u001b[K     |█████████████████████████▎      | 870kB 2.7MB/s eta 0:00:01\r\u001b[K     |█████████████████████████▋      | 880kB 2.7MB/s eta 0:00:01\r\u001b[K     |██████████████████████████      | 890kB 2.7MB/s eta 0:00:01\r\u001b[K     |██████████████████████████▏     | 901kB 2.7MB/s eta 0:00:01\r\u001b[K     |██████████████████████████▌     | 911kB 2.7MB/s eta 0:00:01\r\u001b[K     |██████████████████████████▉     | 921kB 2.7MB/s eta 0:00:01\r\u001b[K     |███████████████████████████     | 931kB 2.7MB/s eta 0:00:01\r\u001b[K     |███████████████████████████▍    | 942kB 2.7MB/s eta 0:00:01\r\u001b[K     |███████████████████████████▊    | 952kB 2.7MB/s eta 0:00:01\r\u001b[K     |████████████████████████████    | 962kB 2.7MB/s eta 0:00:01\r\u001b[K     |████████████████████████████▎   | 972kB 2.7MB/s eta 0:00:01\r\u001b[K     |████████████████████████████▋   | 983kB 2.7MB/s eta 0:00:01\r\u001b[K     |████████████████████████████▉   | 993kB 2.7MB/s eta 0:00:01\r\u001b[K     |█████████████████████████████▏  | 1.0MB 2.7MB/s eta 0:00:01\r\u001b[K     |█████████████████████████████▌  | 1.0MB 2.7MB/s eta 0:00:01\r\u001b[K     |█████████████████████████████▉  | 1.0MB 2.7MB/s eta 0:00:01\r\u001b[K     |██████████████████████████████  | 1.0MB 2.7MB/s eta 0:00:01\r\u001b[K     |██████████████████████████████▍ | 1.0MB 2.7MB/s eta 0:00:01\r\u001b[K     |██████████████████████████████▊ | 1.1MB 2.7MB/s eta 0:00:01\r\u001b[K     |███████████████████████████████ | 1.1MB 2.7MB/s eta 0:00:01\r\u001b[K     |███████████████████████████████▎| 1.1MB 2.7MB/s eta 0:00:01\r\u001b[K     |███████████████████████████████▋| 1.1MB 2.7MB/s eta 0:00:01\r\u001b[K     |███████████████████████████████▉| 1.1MB 2.7MB/s eta 0:00:01\r\u001b[K     |████████████████████████████████| 1.1MB 2.7MB/s \n",
            "\u001b[?25h"
          ],
          "name": "stdout"
        }
      ]
    },
    {
      "cell_type": "code",
      "metadata": {
        "id": "9vW1Lnv3vhnV",
        "colab_type": "code",
        "colab": {}
      },
      "source": [
        "import tensorflow as tf\n",
        "import tensorflow_addons as tfa\n",
        "\n",
        "from matplotlib import pyplot as plt"
      ],
      "execution_count": 2,
      "outputs": []
    },
    {
      "cell_type": "code",
      "metadata": {
        "id": "ZIfAbViPvkcx",
        "colab_type": "code",
        "colab": {}
      },
      "source": [
        "batch_size = 64\n",
        "epochs = 10"
      ],
      "execution_count": 3,
      "outputs": []
    },
    {
      "cell_type": "code",
      "metadata": {
        "id": "WmswGOuIvnx-",
        "colab_type": "code",
        "colab": {}
      },
      "source": [
        "model_1 = tf.keras.Sequential([\n",
        "    tf.keras.layers.Dense(64, input_shape=(784,), activation = 'relu', name = 'dense_1'),\n",
        "    tf.keras.layers.Dense(64, activation = 'relu', name = 'dense_2'),\n",
        "    tf.keras.layers.Dense(10, activation = 'softmax', name = 'predictions'),\n",
        "])"
      ],
      "execution_count": 4,
      "outputs": []
    },
    {
      "cell_type": "code",
      "metadata": {
        "id": "EanbS9mYvssy",
        "colab_type": "code",
        "colab": {
          "base_uri": "https://localhost:8080/",
          "height": 51
        },
        "outputId": "52d4ce20-7b0b-400c-fdc8-63cb1d51f3ac"
      },
      "source": [
        "# Prep MNIST Data\n",
        "\n",
        "dataset = {}\n",
        "num_validation = 10000\n",
        "(x_train, y_train), (x_test, y_test) = tf.keras.datasets.mnist.load_data()\n",
        "\n",
        "x_train = x_train.reshape(-1, 784).astype('float32') / 255\n",
        "x_test = x_test.reshape(-1, 784).astype('float32') / 255"
      ],
      "execution_count": 5,
      "outputs": [
        {
          "output_type": "stream",
          "text": [
            "Downloading data from https://storage.googleapis.com/tensorflow/tf-keras-datasets/mnist.npz\n",
            "11493376/11490434 [==============================] - 0s 0us/step\n"
          ],
          "name": "stdout"
        }
      ]
    },
    {
      "cell_type": "markdown",
      "metadata": {
        "id": "Umpguyuvv23B",
        "colab_type": "text"
      },
      "source": [
        "### Define a Frobenius Norm Callback Function"
      ]
    },
    {
      "cell_type": "code",
      "metadata": {
        "id": "YQKE1SnJv6Wr",
        "colab_type": "code",
        "colab": {}
      },
      "source": [
        "def frobenius_norm(m):\n",
        "    \"\"\"This function is to calculate the frobenius norm of the matrix of all\n",
        "    layer's weight.\n",
        "  \n",
        "    Args:\n",
        "        m: is a list of weights param for each layers.\n",
        "    \"\"\"\n",
        "    total_reduce_sum = 0\n",
        "    for i in range(len(m)):\n",
        "        total_reduce_sum = total_reduce_sum + tf.math.reduce_sum(m[i]**2)\n",
        "    norm = total_reduce_sum**0.5\n",
        "    return norm"
      ],
      "execution_count": 6,
      "outputs": []
    },
    {
      "cell_type": "code",
      "metadata": {
        "id": "kOA1-yudwBlQ",
        "colab_type": "code",
        "colab": {}
      },
      "source": [
        "CG_frobenius_norm_of_weight = []\n",
        "CG_get_weight_norm = tf.keras.callbacks.LambdaCallback(\n",
        "    on_epoch_end = lambda batch, logs: CG_frobenius_norm_of_weight.append(\n",
        "        frobenius_norm(model_1.trainable_weights).numpy()))"
      ],
      "execution_count": 7,
      "outputs": []
    },
    {
      "cell_type": "markdown",
      "metadata": {
        "id": "XzCefy8owNqV",
        "colab_type": "text"
      },
      "source": [
        "### Train and Evaluate using CG Optimizer"
      ]
    },
    {
      "cell_type": "code",
      "metadata": {
        "id": "KbJ92PcjwRCz",
        "colab_type": "code",
        "colab": {
          "base_uri": "https://localhost:8080/",
          "height": 357
        },
        "outputId": "3e302d97-d1ea-4270-a037-9603bf5f4987"
      },
      "source": [
        "model_1.compile(\n",
        "    optimizer = tfa.optimizers.ConditionalGradient(\n",
        "        learning_rate = 0.99949, lambda_ = 203),\n",
        "    loss = tf.keras.losses.SparseCategoricalCrossentropy(),\n",
        "    metrics = ['accuracy'])\n",
        "\n",
        "history_cg = model_1.fit(\n",
        "    x_train,\n",
        "    y_train,\n",
        "    batch_size = batch_size,\n",
        "    validation_data = (x_test, y_test),\n",
        "    epochs = epochs,\n",
        "    callbacks = [CG_get_weight_norm])"
      ],
      "execution_count": 9,
      "outputs": [
        {
          "output_type": "stream",
          "text": [
            "Epoch 1/10\n",
            "938/938 [==============================] - 4s 4ms/step - loss: 0.3848 - accuracy: 0.8826 - val_loss: 0.2105 - val_accuracy: 0.9357\n",
            "Epoch 2/10\n",
            "938/938 [==============================] - 3s 4ms/step - loss: 0.1921 - accuracy: 0.9422 - val_loss: 0.1664 - val_accuracy: 0.9485\n",
            "Epoch 3/10\n",
            "938/938 [==============================] - 4s 4ms/step - loss: 0.1514 - accuracy: 0.9538 - val_loss: 0.1308 - val_accuracy: 0.9600\n",
            "Epoch 4/10\n",
            "938/938 [==============================] - 4s 4ms/step - loss: 0.1348 - accuracy: 0.9593 - val_loss: 0.1366 - val_accuracy: 0.9590\n",
            "Epoch 5/10\n",
            "938/938 [==============================] - 3s 4ms/step - loss: 0.1249 - accuracy: 0.9619 - val_loss: 0.1461 - val_accuracy: 0.9523\n",
            "Epoch 6/10\n",
            "938/938 [==============================] - 3s 4ms/step - loss: 0.1194 - accuracy: 0.9636 - val_loss: 0.1241 - val_accuracy: 0.9634\n",
            "Epoch 7/10\n",
            "938/938 [==============================] - 3s 4ms/step - loss: 0.1142 - accuracy: 0.9653 - val_loss: 0.1253 - val_accuracy: 0.9622\n",
            "Epoch 8/10\n",
            "938/938 [==============================] - 4s 4ms/step - loss: 0.1117 - accuracy: 0.9663 - val_loss: 0.1177 - val_accuracy: 0.9655\n",
            "Epoch 9/10\n",
            "938/938 [==============================] - 3s 4ms/step - loss: 0.1109 - accuracy: 0.9670 - val_loss: 0.1237 - val_accuracy: 0.9599\n",
            "Epoch 10/10\n",
            "938/938 [==============================] - 4s 4ms/step - loss: 0.1080 - accuracy: 0.9669 - val_loss: 0.1034 - val_accuracy: 0.9679\n"
          ],
          "name": "stdout"
        }
      ]
    },
    {
      "cell_type": "markdown",
      "metadata": {
        "id": "xK39_D1bwvCJ",
        "colab_type": "text"
      },
      "source": [
        "### Train and Evaluate using SGD Optimizer"
      ]
    },
    {
      "cell_type": "code",
      "metadata": {
        "id": "5e2DqP5iwwqV",
        "colab_type": "code",
        "colab": {}
      },
      "source": [
        "model_2 = tf.keras.Sequential([\n",
        "    tf.keras.layers.Dense(64, input_shape=(784,), activation = 'relu', name = 'dense_1'),\n",
        "    tf.keras.layers.Dense(64, activation = 'relu', name = 'dense_2'),\n",
        "    tf.keras.layers.Dense(10, activation = 'softmax', name = 'predictions'),\n",
        "])"
      ],
      "execution_count": 10,
      "outputs": []
    },
    {
      "cell_type": "code",
      "metadata": {
        "id": "nvT1dO5Gw20j",
        "colab_type": "code",
        "colab": {}
      },
      "source": [
        "SGD_frobenius_norm_of_weight = []\n",
        "SGD_get_weight_norm = tf.keras.callbacks.LambdaCallback(\n",
        "    on_epoch_end = lambda batch, logs: SGD_frobenius_norm_of_weight.append(\n",
        "        frobenius_norm(model_2.trainable_weights).numpy()))"
      ],
      "execution_count": 11,
      "outputs": []
    },
    {
      "cell_type": "code",
      "metadata": {
        "id": "TBvUhWAPw7td",
        "colab_type": "code",
        "colab": {
          "base_uri": "https://localhost:8080/",
          "height": 357
        },
        "outputId": "e526bc61-cfa8-4497-bd2d-5ea56666cfd1"
      },
      "source": [
        "model_2.compile(\n",
        "    optimizer = tf.keras.optimizers.SGD(0.01), \n",
        "    loss = tf.keras.losses.SparseCategoricalCrossentropy(),\n",
        "    metrics = ['accuracy'])\n",
        "\n",
        "history_sgd = model_2.fit(\n",
        "    x_train,\n",
        "    y_train,\n",
        "    batch_size = batch_size,\n",
        "    validation_data = (x_test, y_test),\n",
        "    epochs = epochs,\n",
        "    callbacks = [SGD_get_weight_norm])"
      ],
      "execution_count": 12,
      "outputs": [
        {
          "output_type": "stream",
          "text": [
            "Epoch 1/10\n",
            "938/938 [==============================] - 3s 3ms/step - loss: 0.9817 - accuracy: 0.7379 - val_loss: 0.4295 - val_accuracy: 0.8871\n",
            "Epoch 2/10\n",
            "938/938 [==============================] - 3s 3ms/step - loss: 0.3868 - accuracy: 0.8926 - val_loss: 0.3284 - val_accuracy: 0.9065\n",
            "Epoch 3/10\n",
            "938/938 [==============================] - 3s 3ms/step - loss: 0.3216 - accuracy: 0.9087 - val_loss: 0.2889 - val_accuracy: 0.9186\n",
            "Epoch 4/10\n",
            "938/938 [==============================] - 3s 3ms/step - loss: 0.2880 - accuracy: 0.9173 - val_loss: 0.2636 - val_accuracy: 0.9245\n",
            "Epoch 5/10\n",
            "938/938 [==============================] - 3s 3ms/step - loss: 0.2638 - accuracy: 0.9255 - val_loss: 0.2467 - val_accuracy: 0.9291\n",
            "Epoch 6/10\n",
            "938/938 [==============================] - 3s 3ms/step - loss: 0.2450 - accuracy: 0.9308 - val_loss: 0.2305 - val_accuracy: 0.9336\n",
            "Epoch 7/10\n",
            "938/938 [==============================] - 3s 3ms/step - loss: 0.2295 - accuracy: 0.9348 - val_loss: 0.2175 - val_accuracy: 0.9359\n",
            "Epoch 8/10\n",
            "938/938 [==============================] - 3s 3ms/step - loss: 0.2159 - accuracy: 0.9385 - val_loss: 0.2064 - val_accuracy: 0.9398\n",
            "Epoch 9/10\n",
            "938/938 [==============================] - 3s 3ms/step - loss: 0.2043 - accuracy: 0.9419 - val_loss: 0.1989 - val_accuracy: 0.9412\n",
            "Epoch 10/10\n",
            "938/938 [==============================] - 3s 3ms/step - loss: 0.1935 - accuracy: 0.9447 - val_loss: 0.1875 - val_accuracy: 0.9439\n"
          ],
          "name": "stdout"
        }
      ]
    },
    {
      "cell_type": "markdown",
      "metadata": {
        "id": "Bk504tYMxYug",
        "colab_type": "text"
      },
      "source": [
        "### Frobenius Norm of Weights: CG vs SGD\n",
        "\n",
        "The current implementation of CG optimizer is based on Frobenius Norm, with considering Frobenius Norm as regularizer in the target function. Therefore, we compare CG’s regularized effect with SGD optimizer, which has not imposed Frobenius Norm regularizer."
      ]
    },
    {
      "cell_type": "code",
      "metadata": {
        "id": "NHN-9hI9xaIZ",
        "colab_type": "code",
        "colab": {
          "base_uri": "https://localhost:8080/",
          "height": 296
        },
        "outputId": "33c58b45-5775-4e6c-89c1-61b05049b6e8"
      },
      "source": [
        "plt.plot(\n",
        "    CG_frobenius_norm_of_weight,\n",
        "    color = 'r',\n",
        "    label = 'CG_frobenius_norm_of_weights')\n",
        "plt.plot(\n",
        "    SGD_frobenius_norm_of_weight,\n",
        "    color = 'b',\n",
        "    label = 'SGD_frobenius_norm_of_weights')\n",
        "plt.xlabel('Epoch')\n",
        "plt.ylabel('Frobenius norm of weights')\n",
        "plt.legend(loc = 1)"
      ],
      "execution_count": 13,
      "outputs": [
        {
          "output_type": "execute_result",
          "data": {
            "text/plain": [
              "<matplotlib.legend.Legend at 0x7fdc7597b320>"
            ]
          },
          "metadata": {
            "tags": []
          },
          "execution_count": 13
        },
        {
          "output_type": "display_data",
          "data": {
            "image/png": "[encoded data removed]",
            "text/plain": [
              "<Figure size 432x288 with 1 Axes>"
            ]
          },
          "metadata": {
            "tags": [],
            "needs_background": "light"
          }
        }
      ]
    },
    {
      "cell_type": "code",
      "metadata": {
        "id": "dhxJc8MMxfte",
        "colab_type": "code",
        "colab": {}
      },
      "source": [
        ""
      ],
      "execution_count": null,
      "outputs": []
    }
  ]
}