{
 "cells": [
  {
   "cell_type": "code",
   "execution_count": 1,
   "metadata": {},
   "outputs": [],
   "source": [
    "import re\n",
    "\n",
    "import numpy as np\n",
    "import pandas as pd\n",
    "import tensorflow as tf\n",
    "import matplotlib.pyplot as plt\n",
    "\n",
    "from tqdm import tqdm"
   ]
  },
  {
   "cell_type": "code",
   "execution_count": 2,
   "metadata": {},
   "outputs": [
    {
     "data": {
      "text/plain": [
       "'2.3.0'"
      ]
     },
     "execution_count": 2,
     "metadata": {},
     "output_type": "execute_result"
    }
   ],
   "source": [
    "tf.__version__"
   ]
  },
  {
   "cell_type": "code",
   "execution_count": 3,
   "metadata": {},
   "outputs": [],
   "source": [
    "physical_devices = tf.config.list_physical_devices('GPU')\n",
    "try:\n",
    "  tf.config.experimental.set_memory_growth(physical_devices[0], True)\n",
    "except:\n",
    "  print(\"Invalid device or cannot modify virtual devices once initialized.\")\n",
    "  pass"
   ]
  },
  {
   "cell_type": "code",
   "execution_count": 4,
   "metadata": {},
   "outputs": [],
   "source": [
    "def preprocess(string):\n",
    "    string = string.lower()\n",
    "    return re.sub(r\"[\\W_]+\", \" \", string)"
   ]
  },
  {
   "cell_type": "code",
   "execution_count": 5,
   "metadata": {},
   "outputs": [
    {
     "data": {
      "text/html": [
       "<div>\n",
       "<style scoped>\n",
       "    .dataframe tbody tr th:only-of-type {\n",
       "        vertical-align: middle;\n",
       "    }\n",
       "\n",
       "    .dataframe tbody tr th {\n",
       "        vertical-align: top;\n",
       "    }\n",
       "\n",
       "    .dataframe thead th {\n",
       "        text-align: right;\n",
       "    }\n",
       "</style>\n",
       "<table border=\"1\" class=\"dataframe\">\n",
       "  <thead>\n",
       "    <tr style=\"text-align: right;\">\n",
       "      <th></th>\n",
       "      <th>id</th>\n",
       "      <th>img</th>\n",
       "      <th>label</th>\n",
       "      <th>text</th>\n",
       "    </tr>\n",
       "  </thead>\n",
       "  <tbody>\n",
       "    <tr>\n",
       "      <th>0</th>\n",
       "      <td>42953</td>\n",
       "      <td>data/img/42953.png</td>\n",
       "      <td>0</td>\n",
       "      <td>its their character not their color that matters</td>\n",
       "    </tr>\n",
       "    <tr>\n",
       "      <th>1</th>\n",
       "      <td>23058</td>\n",
       "      <td>data/img/23058.png</td>\n",
       "      <td>0</td>\n",
       "      <td>don t be afraid to love again everyone is not ...</td>\n",
       "    </tr>\n",
       "    <tr>\n",
       "      <th>2</th>\n",
       "      <td>13894</td>\n",
       "      <td>data/img/13894.png</td>\n",
       "      <td>0</td>\n",
       "      <td>putting bows on your pet</td>\n",
       "    </tr>\n",
       "    <tr>\n",
       "      <th>3</th>\n",
       "      <td>37408</td>\n",
       "      <td>data/img/37408.png</td>\n",
       "      <td>0</td>\n",
       "      <td>i love everything and everybody except for squ...</td>\n",
       "    </tr>\n",
       "    <tr>\n",
       "      <th>4</th>\n",
       "      <td>82403</td>\n",
       "      <td>data/img/82403.png</td>\n",
       "      <td>0</td>\n",
       "      <td>everybody loves chocolate chip cookies even hi...</td>\n",
       "    </tr>\n",
       "    <tr>\n",
       "      <th>...</th>\n",
       "      <td>...</td>\n",
       "      <td>...</td>\n",
       "      <td>...</td>\n",
       "      <td>...</td>\n",
       "    </tr>\n",
       "    <tr>\n",
       "      <th>8495</th>\n",
       "      <td>10423</td>\n",
       "      <td>data/img/10423.png</td>\n",
       "      <td>1</td>\n",
       "      <td>nobody wants to hang auschwitz me</td>\n",
       "    </tr>\n",
       "    <tr>\n",
       "      <th>8496</th>\n",
       "      <td>98203</td>\n",
       "      <td>data/img/98203.png</td>\n",
       "      <td>1</td>\n",
       "      <td>when god grants you a child after 20 years of ...</td>\n",
       "    </tr>\n",
       "    <tr>\n",
       "      <th>8497</th>\n",
       "      <td>36947</td>\n",
       "      <td>data/img/36947.png</td>\n",
       "      <td>1</td>\n",
       "      <td>gays on social media equality body positivity ...</td>\n",
       "    </tr>\n",
       "    <tr>\n",
       "      <th>8498</th>\n",
       "      <td>16492</td>\n",
       "      <td>data/img/16492.png</td>\n",
       "      <td>1</td>\n",
       "      <td>having a bad day you could be a siamese twin a...</td>\n",
       "    </tr>\n",
       "    <tr>\n",
       "      <th>8499</th>\n",
       "      <td>15937</td>\n",
       "      <td>data/img/15937.png</td>\n",
       "      <td>1</td>\n",
       "      <td>i hate muslims too they take their religion to...</td>\n",
       "    </tr>\n",
       "  </tbody>\n",
       "</table>\n",
       "<p>8500 rows × 4 columns</p>\n",
       "</div>"
      ],
      "text/plain": [
       "         id                 img  label  \\\n",
       "0     42953  data/img/42953.png      0   \n",
       "1     23058  data/img/23058.png      0   \n",
       "2     13894  data/img/13894.png      0   \n",
       "3     37408  data/img/37408.png      0   \n",
       "4     82403  data/img/82403.png      0   \n",
       "...     ...                 ...    ...   \n",
       "8495  10423  data/img/10423.png      1   \n",
       "8496  98203  data/img/98203.png      1   \n",
       "8497  36947  data/img/36947.png      1   \n",
       "8498  16492  data/img/16492.png      1   \n",
       "8499  15937  data/img/15937.png      1   \n",
       "\n",
       "                                                   text  \n",
       "0      its their character not their color that matters  \n",
       "1     don t be afraid to love again everyone is not ...  \n",
       "2                              putting bows on your pet  \n",
       "3     i love everything and everybody except for squ...  \n",
       "4     everybody loves chocolate chip cookies even hi...  \n",
       "...                                                 ...  \n",
       "8495                  nobody wants to hang auschwitz me  \n",
       "8496  when god grants you a child after 20 years of ...  \n",
       "8497  gays on social media equality body positivity ...  \n",
       "8498  having a bad day you could be a siamese twin a...  \n",
       "8499  i hate muslims too they take their religion to...  \n",
       "\n",
       "[8500 rows x 4 columns]"
      ]
     },
     "execution_count": 5,
     "metadata": {},
     "output_type": "execute_result"
    }
   ],
   "source": [
    "train_df = pd.read_json('data/train.jsonl', lines = True)\n",
    "train_df[\"text\"] = train_df[\"text\"].apply(preprocess)\n",
    "train_df[\"img\"] = \"data/\" + train_df[\"img\"]\n",
    "train_df"
   ]
  },
  {
   "cell_type": "code",
   "execution_count": 6,
   "metadata": {},
   "outputs": [],
   "source": [
    "val_df = pd.read_json('data/dev.jsonl', lines = True)"
   ]
  },
  {
   "cell_type": "code",
   "execution_count": 7,
   "metadata": {},
   "outputs": [],
   "source": [
    "val_df[\"img\"] = \"data/\" + val_df[\"img\"]\n",
    "val_df[\"text\"] = val_df[\"text\"].apply(preprocess)"
   ]
  },
  {
   "cell_type": "code",
   "execution_count": 8,
   "metadata": {},
   "outputs": [
    {
     "data": {
      "text/html": [
       "<div>\n",
       "<style scoped>\n",
       "    .dataframe tbody tr th:only-of-type {\n",
       "        vertical-align: middle;\n",
       "    }\n",
       "\n",
       "    .dataframe tbody tr th {\n",
       "        vertical-align: top;\n",
       "    }\n",
       "\n",
       "    .dataframe thead th {\n",
       "        text-align: right;\n",
       "    }\n",
       "</style>\n",
       "<table border=\"1\" class=\"dataframe\">\n",
       "  <thead>\n",
       "    <tr style=\"text-align: right;\">\n",
       "      <th></th>\n",
       "      <th>id</th>\n",
       "      <th>img</th>\n",
       "      <th>label</th>\n",
       "      <th>text</th>\n",
       "    </tr>\n",
       "  </thead>\n",
       "  <tbody>\n",
       "    <tr>\n",
       "      <th>0</th>\n",
       "      <td>8291</td>\n",
       "      <td>data/img/08291.png</td>\n",
       "      <td>1</td>\n",
       "      <td>white people is this a shooting range</td>\n",
       "    </tr>\n",
       "    <tr>\n",
       "      <th>1</th>\n",
       "      <td>46971</td>\n",
       "      <td>data/img/46971.png</td>\n",
       "      <td>1</td>\n",
       "      <td>bravery at its finest</td>\n",
       "    </tr>\n",
       "    <tr>\n",
       "      <th>2</th>\n",
       "      <td>3745</td>\n",
       "      <td>data/img/03745.png</td>\n",
       "      <td>1</td>\n",
       "      <td>your order comes to 37 50 and your white privi...</td>\n",
       "    </tr>\n",
       "    <tr>\n",
       "      <th>3</th>\n",
       "      <td>83745</td>\n",
       "      <td>data/img/83745.png</td>\n",
       "      <td>1</td>\n",
       "      <td>it is time to send these parasites back to the...</td>\n",
       "    </tr>\n",
       "    <tr>\n",
       "      <th>4</th>\n",
       "      <td>80243</td>\n",
       "      <td>data/img/80243.png</td>\n",
       "      <td>1</td>\n",
       "      <td>mississippi wind chime</td>\n",
       "    </tr>\n",
       "    <tr>\n",
       "      <th>...</th>\n",
       "      <td>...</td>\n",
       "      <td>...</td>\n",
       "      <td>...</td>\n",
       "      <td>...</td>\n",
       "    </tr>\n",
       "    <tr>\n",
       "      <th>495</th>\n",
       "      <td>83675</td>\n",
       "      <td>data/img/83675.png</td>\n",
       "      <td>0</td>\n",
       "      <td>i m gonna be like phelps one day</td>\n",
       "    </tr>\n",
       "    <tr>\n",
       "      <th>496</th>\n",
       "      <td>37198</td>\n",
       "      <td>data/img/37198.png</td>\n",
       "      <td>0</td>\n",
       "      <td>when you re so relaxed you can feel yourself g...</td>\n",
       "    </tr>\n",
       "    <tr>\n",
       "      <th>497</th>\n",
       "      <td>48670</td>\n",
       "      <td>data/img/48670.png</td>\n",
       "      <td>0</td>\n",
       "      <td>look at this sandwich maker club i found on wi...</td>\n",
       "    </tr>\n",
       "    <tr>\n",
       "      <th>498</th>\n",
       "      <td>9863</td>\n",
       "      <td>data/img/09863.png</td>\n",
       "      <td>0</td>\n",
       "      <td>diverse group of women</td>\n",
       "    </tr>\n",
       "    <tr>\n",
       "      <th>499</th>\n",
       "      <td>97320</td>\n",
       "      <td>data/img/97320.png</td>\n",
       "      <td>0</td>\n",
       "      <td>when your dishwasher is broken so you take it...</td>\n",
       "    </tr>\n",
       "  </tbody>\n",
       "</table>\n",
       "<p>500 rows × 4 columns</p>\n",
       "</div>"
      ],
      "text/plain": [
       "        id                 img  label  \\\n",
       "0     8291  data/img/08291.png      1   \n",
       "1    46971  data/img/46971.png      1   \n",
       "2     3745  data/img/03745.png      1   \n",
       "3    83745  data/img/83745.png      1   \n",
       "4    80243  data/img/80243.png      1   \n",
       "..     ...                 ...    ...   \n",
       "495  83675  data/img/83675.png      0   \n",
       "496  37198  data/img/37198.png      0   \n",
       "497  48670  data/img/48670.png      0   \n",
       "498   9863  data/img/09863.png      0   \n",
       "499  97320  data/img/97320.png      0   \n",
       "\n",
       "                                                  text  \n",
       "0                white people is this a shooting range  \n",
       "1                                bravery at its finest  \n",
       "2    your order comes to 37 50 and your white privi...  \n",
       "3    it is time to send these parasites back to the...  \n",
       "4                               mississippi wind chime  \n",
       "..                                                 ...  \n",
       "495                   i m gonna be like phelps one day  \n",
       "496  when you re so relaxed you can feel yourself g...  \n",
       "497  look at this sandwich maker club i found on wi...  \n",
       "498                             diverse group of women  \n",
       "499   when your dishwasher is broken so you take it...  \n",
       "\n",
       "[500 rows x 4 columns]"
      ]
     },
     "execution_count": 8,
     "metadata": {},
     "output_type": "execute_result"
    }
   ],
   "source": [
    "val_df"
   ]
  },
  {
   "cell_type": "code",
   "execution_count": 9,
   "metadata": {},
   "outputs": [],
   "source": [
    "chars = set(char for label in train_df[\"text\"] for char in label)"
   ]
  },
  {
   "cell_type": "code",
   "execution_count": 10,
   "metadata": {},
   "outputs": [],
   "source": [
    "img_width = 64\n",
    "img_height = 64"
   ]
  },
  {
   "cell_type": "code",
   "execution_count": 11,
   "metadata": {},
   "outputs": [
    {
     "data": {
      "text/plain": [
       "432"
      ]
     },
     "execution_count": 11,
     "metadata": {},
     "output_type": "execute_result"
    }
   ],
   "source": [
    "max_len = max([len(label) for label in train_df[\"text\"]])\n",
    "max_len"
   ]
  },
  {
   "cell_type": "code",
   "execution_count": 12,
   "metadata": {},
   "outputs": [],
   "source": [
    "count = 1\n",
    "char_map = {}\n",
    "for i in chars:\n",
    "    if i not in char_map.keys():\n",
    "        char_map[i] = count\n",
    "        count += 1\n",
    "    else:\n",
    "        continue\n",
    "char_map_reverse = {v:k for k,v in char_map.items()}"
   ]
  },
  {
   "cell_type": "code",
   "execution_count": 13,
   "metadata": {},
   "outputs": [],
   "source": [
    "def build_model():\n",
    "    # Inputs to the model\n",
    "    input_img = tf.keras.layers.Input(\n",
    "        shape = (img_width, img_height, 3), name = \"image\"\n",
    "    )\n",
    "    \n",
    "    text = tf.keras.layers.Input(name = \"text\", shape = (None,))\n",
    "\n",
    "    x = tf.keras.layers.SeparableConv2D(\n",
    "        32,\n",
    "        (3, 3),\n",
    "        activation = \"relu\",\n",
    "        kernel_initializer = \"he_normal\",\n",
    "        padding = \"same\"\n",
    "    )(input_img)\n",
    "    \n",
    "    x = tf.keras.layers.MaxPooling2D((2, 2))(x)\n",
    "\n",
    "    x = tf.keras.layers.GlobalMaxPooling2D()(x)\n",
    "\n",
    "    y = tf.keras.layers.Embedding(41, 32)(text)\n",
    "    y = tf.keras.layers.Bidirectional(tf.keras.layers.LSTM(16, return_sequences = True))(y)\n",
    "    y = tf.keras.layers.GlobalMaxPool1D()(y)\n",
    "    \n",
    "    x = tf.keras.layers.concatenate([x,y])\n",
    "    \n",
    "    x = tf.keras.layers.Dropout(0.2)(x)\n",
    "    \n",
    "    x = tf.keras.layers.Dense(128)(x)\n",
    "    \n",
    "    x = tf.keras.layers.Dropout(0.2)(x)\n",
    "    \n",
    "    out = tf.keras.layers.Dense(1, activation = 'sigmoid', name = \"label\")(x)\n",
    "\n",
    "    model = tf.keras.models.Model([input_img, text], out)\n",
    "\n",
    "    model.compile(optimizer = \"rmsprop\", loss = \"binary_crossentropy\", metrics = [\"accuracy\"])\n",
    "    return model"
   ]
  },
  {
   "cell_type": "code",
   "execution_count": 14,
   "metadata": {},
   "outputs": [
    {
     "name": "stdout",
     "output_type": "stream",
     "text": [
      "Model: \"functional_1\"\n",
      "__________________________________________________________________________________________________\n",
      "Layer (type)                    Output Shape         Param #     Connected to                     \n",
      "==================================================================================================\n",
      "image (InputLayer)              [(None, 128, 128, 3) 0                                            \n",
      "__________________________________________________________________________________________________\n",
      "text (InputLayer)               [(None, None)]       0                                            \n",
      "__________________________________________________________________________________________________\n",
      "separable_conv2d (SeparableConv (None, 128, 128, 32) 155         image[0][0]                      \n",
      "__________________________________________________________________________________________________\n",
      "embedding (Embedding)           (None, None, 32)     1312        text[0][0]                       \n",
      "__________________________________________________________________________________________________\n",
      "max_pooling2d (MaxPooling2D)    (None, 64, 64, 32)   0           separable_conv2d[0][0]           \n",
      "__________________________________________________________________________________________________\n",
      "bidirectional (Bidirectional)   (None, None, 32)     6272        embedding[0][0]                  \n",
      "__________________________________________________________________________________________________\n",
      "global_max_pooling2d (GlobalMax (None, 32)           0           max_pooling2d[0][0]              \n",
      "__________________________________________________________________________________________________\n",
      "global_max_pooling1d (GlobalMax (None, 32)           0           bidirectional[0][0]              \n",
      "__________________________________________________________________________________________________\n",
      "concatenate (Concatenate)       (None, 64)           0           global_max_pooling2d[0][0]       \n",
      "                                                                 global_max_pooling1d[0][0]       \n",
      "__________________________________________________________________________________________________\n",
      "dropout (Dropout)               (None, 64)           0           concatenate[0][0]                \n",
      "__________________________________________________________________________________________________\n",
      "dense (Dense)                   (None, 128)          8320        dropout[0][0]                    \n",
      "__________________________________________________________________________________________________\n",
      "dropout_1 (Dropout)             (None, 128)          0           dense[0][0]                      \n",
      "__________________________________________________________________________________________________\n",
      "label (Dense)                   (None, 1)            129         dropout_1[0][0]                  \n",
      "==================================================================================================\n",
      "Total params: 16,188\n",
      "Trainable params: 16,188\n",
      "Non-trainable params: 0\n",
      "__________________________________________________________________________________________________\n"
     ]
    }
   ],
   "source": [
    "model = build_model()\n",
    "model.summary()"
   ]
  },
  {
   "cell_type": "code",
   "execution_count": 15,
   "metadata": {},
   "outputs": [
    {
     "data": {
      "image/png": "[encoded data removed]",
      "text/plain": [
       "<IPython.core.display.Image object>"
      ]
     },
     "execution_count": 15,
     "metadata": {},
     "output_type": "execute_result"
    }
   ],
   "source": [
    "tf.keras.utils.plot_model(model, show_shapes = True)"
   ]
  },
  {
   "cell_type": "code",
   "execution_count": 16,
   "metadata": {},
   "outputs": [],
   "source": [
    "def encode_single_sample(img_path, label, text):\n",
    "    img = tf.io.read_file(img_path)\n",
    "    img = tf.io.decode_png(img, channels = 3)\n",
    "    img = tf.image.convert_image_dtype(img, tf.float32)\n",
    "    img = tf.image.resize(img, [img_height, img_width])\n",
    "    text = [char_map[i] for i in text]\n",
    "    for i in range(max_len - len(text)):\n",
    "        text.append(0)\n",
    "    return {\"image\": img, \"label\": label, \"text\": text}"
   ]
  },
  {
   "cell_type": "code",
   "execution_count": 17,
   "metadata": {},
   "outputs": [],
   "source": [
    "class HatefulMemes(tf.keras.utils.Sequence):\n",
    "    \"\"\"Helper to iterate over the data (as Numpy arrays).\"\"\"\n",
    "\n",
    "    def __init__(self, batch_size, input_img_paths, label, text):\n",
    "        self.batch_size = batch_size\n",
    "        self.input_img_paths = input_img_paths\n",
    "        self.text = text\n",
    "        self.label = label\n",
    "\n",
    "    def __len__(self):\n",
    "        return len(self.input_img_paths) // self.batch_size\n",
    "\n",
    "    def __getitem__(self, idx):\n",
    "        \"\"\"Returns tuple (input, target) correspond to batch #idx.\"\"\"\n",
    "        i = idx * self.batch_size\n",
    "        batch_input_img_paths = self.input_img_paths[i : i + self.batch_size]\n",
    "        batch_label = self.label[i : i + self.batch_size]\n",
    "        batch_text = self.text[i : i + self.batch_size]\n",
    "        x = np.zeros((self.batch_size,) + (img_height, img_width) + (3,), dtype = \"float32\")\n",
    "        y = np.zeros((self.batch_size,) + (max_len,), dtype = \"uint8\")\n",
    "        z = np.zeros((self.batch_size,), dtype = \"uint8\")\n",
    "        \n",
    "        for i,j,k,l in zip(range(self.batch_size), batch_input_img_paths, batch_label, batch_text):\n",
    "            sample = encode_single_sample(j,k,l)\n",
    "            x[i] = sample[\"image\"].numpy().tolist()\n",
    "            y[i] = sample[\"text\"]\n",
    "            z[i] = sample[\"label\"]\n",
    "        \n",
    "        return [x,y], z"
   ]
  },
  {
   "cell_type": "code",
   "execution_count": 18,
   "metadata": {},
   "outputs": [],
   "source": [
    "train_gen = HatefulMemes(16, train_df[\"img\"].values.tolist(), train_df[\"label\"].values.tolist(), train_df[\"text\"].values.tolist())\n",
    "val_gen = HatefulMemes(16, val_df[\"img\"].values.tolist(), val_df[\"label\"].values.tolist(), val_df[\"text\"].values.tolist())"
   ]
  },
  {
   "cell_type": "code",
   "execution_count": null,
   "metadata": {},
   "outputs": [
    {
     "name": "stdout",
     "output_type": "stream",
     "text": [
      "Epoch 1/100\n",
      "531/531 [==============================] - -86118s -162180752us/step - loss: 0.6489 - accuracy: 0.6407 - val_loss: 0.7421 - val_accuracy: 0.5020\n",
      "Epoch 2/100\n",
      " 95/531 [====>.........................] - ETA: 3:45 - loss: 0.6441 - accuracy: 0.6414"
     ]
    }
   ],
   "source": [
    "epochs = 100\n",
    "early_stopping_patience = 3\n",
    "\n",
    "early_stopping = tf.keras.callbacks.EarlyStopping(\n",
    "    monitor = \"val_accuracy\", patience = early_stopping_patience, restore_best_weights = True\n",
    ")\n",
    "\n",
    "# Train the model\n",
    "history = model.fit(\n",
    "    train_gen,\n",
    "    validation_data = val_gen, \n",
    "    epochs = epochs,\n",
    "    callbacks = [early_stopping],\n",
    ")"
   ]
  }
 ],
 "metadata": {
  "kernelspec": {
   "display_name": "Python 3",
   "language": "python",
   "name": "python3"
  },
  "language_info": {
   "codemirror_mode": {
    "name": "ipython",
    "version": 3
   },
   "file_extension": ".py",
   "mimetype": "text/x-python",
   "name": "python",
   "nbconvert_exporter": "python",
   "pygments_lexer": "ipython3",
   "version": "3.7.7"
  }
 },
 "nbformat": 4,
 "nbformat_minor": 4
}
