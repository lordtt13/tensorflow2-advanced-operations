{
 "cells": [
  {
   "cell_type": "code",
   "execution_count": 1,
   "metadata": {},
   "outputs": [],
   "source": [
    "import transformers\n",
    "\n",
    "import numpy as np\n",
    "import pandas as pd\n",
    "import tensorflow as tf\n",
    "import tensorflow_addons as tfa"
   ]
  },
  {
   "cell_type": "code",
   "execution_count": 2,
   "metadata": {},
   "outputs": [],
   "source": [
    "physical_devices = tf.config.list_physical_devices('GPU')\n",
    "try:\n",
    "    tf.config.experimental.set_memory_growth(physical_devices[0], True)\n",
    "except:\n",
    "    print(\"Invalid device or cannot modify virtual devices once initialized.\")\n",
    "    pass"
   ]
  },
  {
   "cell_type": "code",
   "execution_count": 3,
   "metadata": {
    "colab": {
     "base_uri": "https://localhost:8080/",
     "height": 35
    },
    "colab_type": "code",
    "id": "oAZWZEGMBKDX",
    "outputId": "f9f0f6aa-d4f2-4819-e133-555fa1e06021"
   },
   "outputs": [
    {
     "output_type": "execute_result",
     "data": {
      "text/plain": "&#39;2.3.0&#39;"
     },
     "metadata": {},
     "execution_count": 3
    }
   ],
   "source": [
    "tf.__version__"
   ]
  },
  {
   "cell_type": "code",
   "execution_count": 4,
   "metadata": {
    "colab": {},
    "colab_type": "code",
    "id": "MYhEcPnABKDi"
   },
   "outputs": [],
   "source": [
    "train_df = pd.read_json('data/train.jsonl', lines = True)\n",
    "train_df[\"img\"] = \"data/\" + train_df[\"img\"]"
   ]
  },
  {
   "cell_type": "code",
   "execution_count": 5,
   "metadata": {
    "colab": {},
    "colab_type": "code",
    "id": "E79-TtK3BKDl"
   },
   "outputs": [],
   "source": [
    "val1_df = pd.read_json('data/dev_seen.jsonl', lines = True)\n",
    "val2_df = pd.read_json('data/dev_unseen.jsonl', lines = True)\n",
    "val_df = pd.concat([val1_df, val2_df])\n",
    "val_df[\"img\"] = \"data/\" + val_df[\"img\"]"
   ]
  },
  {
   "cell_type": "code",
   "execution_count": 6,
   "metadata": {
    "colab": {},
    "colab_type": "code",
    "id": "7ZrSpzkcBKDp"
   },
   "outputs": [],
   "source": [
    "img_width = 224\n",
    "img_height = 224"
   ]
  },
  {
   "cell_type": "code",
   "execution_count": 7,
   "metadata": {
    "colab": {
     "base_uri": "https://localhost:8080/",
     "height": 66,
     "referenced_widgets": [
      "4cbac9d9192c4ce8aafb543e4d145194",
      "9b5f957d79e94d9cbcabb2221a76f958",
      "79605bd07b40425682a0baa9b921e4ea",
      "18b65e4678bc4e7ba56bbe1d9044cf8b",
      "8d64bd14fdc3484db91bea1ea53e7edc",
      "352ce4339a2c4972a281e7d073096b41",
      "292872ed1d79401d9dd89992df7c1268",
      "c41c22d0d342413ba29218292c4fade0"
     ]
    },
    "colab_type": "code",
    "id": "4Nwbc_1WETb-",
    "outputId": "9116a980-5885-42bd-fb06-2b321d82523a",
    "tags": []
   },
   "outputs": [],
   "source": [
    "tokenizer = transformers.DistilBertTokenizerFast.from_pretrained('distilbert-base-uncased')"
   ]
  },
  {
   "cell_type": "code",
   "execution_count": 8,
   "metadata": {},
   "outputs": [],
   "source": [
    "max_len = 128"
   ]
  },
  {
   "cell_type": "markdown",
   "metadata": {},
   "source": [
    "### Train"
   ]
  },
  {
   "cell_type": "code",
   "execution_count": 9,
   "metadata": {
    "colab": {},
    "colab_type": "code",
    "id": "Btr1sDNGBKDx"
   },
   "outputs": [],
   "source": [
    "def build_model():\n",
    "    \n",
    "    encoder = transformers.TFDistilBertModel.from_pretrained(\"distilbert-base-uncased\")\n",
    "    encoder.trainable = False\n",
    "\n",
    "    input_img = tf.keras.layers.Input(\n",
    "        shape = (img_width, img_height, 3), name = \"image\"\n",
    "    )\n",
    "    \n",
    "    input_ids = tf.keras.layers.Input(name = \"input_ids\", shape = (max_len,), dtype = tf.int32)\n",
    "\n",
    "    attention_mask = tf.keras.layers.Input(name = \"attention_mask\", shape = (max_len,), dtype = tf.int32)\n",
    "\n",
    "    y = encoder(input_ids, attention_mask = attention_mask)[0]\n",
    "    y = tf.keras.layers.BatchNormalization()(y)\n",
    "    \n",
    "    y = tf.keras.layers.Bidirectional(tf.keras.layers.LSTM(128, return_sequences = True))(y)\n",
    "    y = tf.keras.layers.BatchNormalization()(y)\n",
    "\n",
    "    extractor = tf.keras.applications.EfficientNetB0(include_top = False, input_tensor = input_img, weights = None)\n",
    "    \n",
    "    extractor.trainable = True\n",
    "    \n",
    "    x = tf.keras.layers.BatchNormalization()(extractor.output)\n",
    "    x = tf.keras.layers.GlobalMaxPooling2D()(x)\n",
    "    x = tf.keras.layers.BatchNormalization()(x)\n",
    "    \n",
    "    y = tf.keras.layers.GlobalMaxPooling1D()(y)\n",
    "    y = tf.keras.layers.BatchNormalization()(y)\n",
    "    \n",
    "    x = tf.keras.layers.concatenate([x, y])\n",
    "    x = tf.keras.layers.BatchNormalization()(x)\n",
    "    x = tf.keras.layers.Flatten()(x)\n",
    "    \n",
    "    x = tfa.layers.WeightNormalization(tf.keras.layers.Dense(1024, activation = \"relu\"))(x)\n",
    "    \n",
    "    x = tf.keras.layers.Dropout(0.25)(x)\n",
    "    x = tf.keras.layers.BatchNormalization()(x)\n",
    "\n",
    "    x = tfa.layers.WeightNormalization(tf.keras.layers.Dense(256, activation = \"relu\"))(x)\n",
    "    \n",
    "    x = tf.keras.layers.Dropout(0.25)(x)\n",
    "    x = tf.keras.layers.BatchNormalization()(x)\n",
    "    \n",
    "    out = tfa.layers.WeightNormalization(tf.keras.layers.Dense(1, activation = 'sigmoid'))(x)\n",
    "\n",
    "    model = tf.keras.models.Model([input_img, input_ids, attention_mask], out)\n",
    "\n",
    "    return model"
   ]
  },
  {
   "cell_type": "code",
   "execution_count": 10,
   "metadata": {
    "colab": {
     "base_uri": "https://localhost:8080/",
     "height": 1000,
     "referenced_widgets": [
      "de5b02ef61b44dfe88229ec1f97071cb",
      "725e4c5b30064f8b975cc25c89f2f16f",
      "18aad438e4204cf6953481e70034cc40",
      "0c9cfe58d81742c7b4b36132572fab98",
      "4accbe176e384ecb924149071bc0407d",
      "558798cb00e4428981fd05a752fdd359",
      "fc89a278094e45e78ccdc0a4eb048945",
      "023f7c40db584c2084b8947c49e678d2",
      "4a405e4db7994dd3aabdf79ced55a9d0",
      "3497b6f5dfd84b70901ccd61db81439c",
      "4fb6905e069743b28925b8b733a138d9",
      "1a5558f841934ea2a86aec466ba894e2",
      "ad8a312549964733bef31bada5917c6f",
      "66d5aecd2d6c4932bae6d77edef2892f",
      "38a5de04f8054692b2b2fafb6899b489",
      "686edb2bdc9444c590f2950445545a0c"
     ]
    },
    "colab_type": "code",
    "id": "U0_MTBqtBKD0",
    "outputId": "0350e009-0471-4355-dc68-84842c12b38a",
    "tags": [
     "outputPrepend"
    ]
   },
   "outputs": [
    {
     "output_type": "stream",
     "name": "stderr",
     "text": "______________\nblock6a_expand_bn (BatchNormali (None, 14, 14, 672)  2688        block6a_expand_conv[0][0]        \n__________________________________________________________________________________________________\nblock6a_expand_activation (Acti (None, 14, 14, 672)  0           block6a_expand_bn[0][0]          \n__________________________________________________________________________________________________\nblock6a_dwconv_pad (ZeroPadding (None, 17, 17, 672)  0           block6a_expand_activation[0][0]  \n__________________________________________________________________________________________________\nblock6a_dwconv (DepthwiseConv2D (None, 7, 7, 672)    16800       block6a_dwconv_pad[0][0]         \n__________________________________________________________________________________________________\nblock6a_bn (BatchNormalization) (None, 7, 7, 672)    2688        block6a_dwconv[0][0]             \n__________________________________________________________________________________________________\nblock6a_activation (Activation) (None, 7, 7, 672)    0           block6a_bn[0][0]                 \n__________________________________________________________________________________________________\nblock6a_se_squeeze (GlobalAvera (None, 672)          0           block6a_activation[0][0]         \n__________________________________________________________________________________________________\nblock6a_se_reshape (Reshape)    (None, 1, 1, 672)    0           block6a_se_squeeze[0][0]         \n__________________________________________________________________________________________________\nblock6a_se_reduce (Conv2D)      (None, 1, 1, 28)     18844       block6a_se_reshape[0][0]         \n__________________________________________________________________________________________________\nblock6a_se_expand (Conv2D)      (None, 1, 1, 672)    19488       block6a_se_reduce[0][0]          \n__________________________________________________________________________________________________\nblock6a_se_excite (Multiply)    (None, 7, 7, 672)    0           block6a_activation[0][0]         \n                                                                 block6a_se_expand[0][0]          \n__________________________________________________________________________________________________\nblock6a_project_conv (Conv2D)   (None, 7, 7, 192)    129024      block6a_se_excite[0][0]          \n__________________________________________________________________________________________________\nblock6a_project_bn (BatchNormal (None, 7, 7, 192)    768         block6a_project_conv[0][0]       \n__________________________________________________________________________________________________\nblock6b_expand_conv (Conv2D)    (None, 7, 7, 1152)   221184      block6a_project_bn[0][0]         \n__________________________________________________________________________________________________\nblock6b_expand_bn (BatchNormali (None, 7, 7, 1152)   4608        block6b_expand_conv[0][0]        \n__________________________________________________________________________________________________\nblock6b_expand_activation (Acti (None, 7, 7, 1152)   0           block6b_expand_bn[0][0]          \n__________________________________________________________________________________________________\nblock6b_dwconv (DepthwiseConv2D (None, 7, 7, 1152)   28800       block6b_expand_activation[0][0]  \n__________________________________________________________________________________________________\nblock6b_bn (BatchNormalization) (None, 7, 7, 1152)   4608        block6b_dwconv[0][0]             \n__________________________________________________________________________________________________\nblock6b_activation (Activation) (None, 7, 7, 1152)   0           block6b_bn[0][0]                 \n__________________________________________________________________________________________________\nblock6b_se_squeeze (GlobalAvera (None, 1152)         0           block6b_activation[0][0]         \n__________________________________________________________________________________________________\nblock6b_se_reshape (Reshape)    (None, 1, 1, 1152)   0           block6b_se_squeeze[0][0]         \n__________________________________________________________________________________________________\nblock6b_se_reduce (Conv2D)      (None, 1, 1, 48)     55344       block6b_se_reshape[0][0]         \n__________________________________________________________________________________________________\nblock6b_se_expand (Conv2D)      (None, 1, 1, 1152)   56448       block6b_se_reduce[0][0]          \n__________________________________________________________________________________________________\nblock6b_se_excite (Multiply)    (None, 7, 7, 1152)   0           block6b_activation[0][0]         \n                                                                 block6b_se_expand[0][0]          \n__________________________________________________________________________________________________\nblock6b_project_conv (Conv2D)   (None, 7, 7, 192)    221184      block6b_se_excite[0][0]          \n__________________________________________________________________________________________________\nblock6b_project_bn (BatchNormal (None, 7, 7, 192)    768         block6b_project_conv[0][0]       \n__________________________________________________________________________________________________\nblock6b_drop (Dropout)          (None, 7, 7, 192)    0           block6b_project_bn[0][0]         \n__________________________________________________________________________________________________\nblock6b_add (Add)               (None, 7, 7, 192)    0           block6b_drop[0][0]               \n                                                                 block6a_project_bn[0][0]         \n__________________________________________________________________________________________________\nblock6c_expand_conv (Conv2D)    (None, 7, 7, 1152)   221184      block6b_add[0][0]                \n__________________________________________________________________________________________________\nblock6c_expand_bn (BatchNormali (None, 7, 7, 1152)   4608        block6c_expand_conv[0][0]        \n__________________________________________________________________________________________________\nblock6c_expand_activation (Acti (None, 7, 7, 1152)   0           block6c_expand_bn[0][0]          \n__________________________________________________________________________________________________\nblock6c_dwconv (DepthwiseConv2D (None, 7, 7, 1152)   28800       block6c_expand_activation[0][0]  \n__________________________________________________________________________________________________\nblock6c_bn (BatchNormalization) (None, 7, 7, 1152)   4608        block6c_dwconv[0][0]             \n__________________________________________________________________________________________________\nblock6c_activation (Activation) (None, 7, 7, 1152)   0           block6c_bn[0][0]                 \n__________________________________________________________________________________________________\nblock6c_se_squeeze (GlobalAvera (None, 1152)         0           block6c_activation[0][0]         \n__________________________________________________________________________________________________\nblock6c_se_reshape (Reshape)    (None, 1, 1, 1152)   0           block6c_se_squeeze[0][0]         \n__________________________________________________________________________________________________\nblock6c_se_reduce (Conv2D)      (None, 1, 1, 48)     55344       block6c_se_reshape[0][0]         \n__________________________________________________________________________________________________\nblock6c_se_expand (Conv2D)      (None, 1, 1, 1152)   56448       block6c_se_reduce[0][0]          \n__________________________________________________________________________________________________\nblock6c_se_excite (Multiply)    (None, 7, 7, 1152)   0           block6c_activation[0][0]         \n                                                                 block6c_se_expand[0][0]          \n__________________________________________________________________________________________________\nblock6c_project_conv (Conv2D)   (None, 7, 7, 192)    221184      block6c_se_excite[0][0]          \n__________________________________________________________________________________________________\nblock6c_project_bn (BatchNormal (None, 7, 7, 192)    768         block6c_project_conv[0][0]       \n__________________________________________________________________________________________________\nblock6c_drop (Dropout)          (None, 7, 7, 192)    0           block6c_project_bn[0][0]         \n__________________________________________________________________________________________________\nblock6c_add (Add)               (None, 7, 7, 192)    0           block6c_drop[0][0]               \n                                                                 block6b_add[0][0]                \n__________________________________________________________________________________________________\nblock6d_expand_conv (Conv2D)    (None, 7, 7, 1152)   221184      block6c_add[0][0]                \n__________________________________________________________________________________________________\nblock6d_expand_bn (BatchNormali (None, 7, 7, 1152)   4608        block6d_expand_conv[0][0]        \n__________________________________________________________________________________________________\nblock6d_expand_activation (Acti (None, 7, 7, 1152)   0           block6d_expand_bn[0][0]          \n__________________________________________________________________________________________________\nblock6d_dwconv (DepthwiseConv2D (None, 7, 7, 1152)   28800       block6d_expand_activation[0][0]  \n__________________________________________________________________________________________________\nblock6d_bn (BatchNormalization) (None, 7, 7, 1152)   4608        block6d_dwconv[0][0]             \n__________________________________________________________________________________________________\nblock6d_activation (Activation) (None, 7, 7, 1152)   0           block6d_bn[0][0]                 \n__________________________________________________________________________________________________\nblock6d_se_squeeze (GlobalAvera (None, 1152)         0           block6d_activation[0][0]         \n__________________________________________________________________________________________________\nblock6d_se_reshape (Reshape)    (None, 1, 1, 1152)   0           block6d_se_squeeze[0][0]         \n__________________________________________________________________________________________________\nblock6d_se_reduce (Conv2D)      (None, 1, 1, 48)     55344       block6d_se_reshape[0][0]         \n__________________________________________________________________________________________________\nblock6d_se_expand (Conv2D)      (None, 1, 1, 1152)   56448       block6d_se_reduce[0][0]          \n__________________________________________________________________________________________________\nblock6d_se_excite (Multiply)    (None, 7, 7, 1152)   0           block6d_activation[0][0]         \n                                                                 block6d_se_expand[0][0]          \n__________________________________________________________________________________________________\nblock6d_project_conv (Conv2D)   (None, 7, 7, 192)    221184      block6d_se_excite[0][0]          \n__________________________________________________________________________________________________\nblock6d_project_bn (BatchNormal (None, 7, 7, 192)    768         block6d_project_conv[0][0]       \n__________________________________________________________________________________________________\nblock6d_drop (Dropout)          (None, 7, 7, 192)    0           block6d_project_bn[0][0]         \n__________________________________________________________________________________________________\nblock6d_add (Add)               (None, 7, 7, 192)    0           block6d_drop[0][0]               \n                                                                 block6c_add[0][0]                \n__________________________________________________________________________________________________\nblock7a_expand_conv (Conv2D)    (None, 7, 7, 1152)   221184      block6d_add[0][0]                \n__________________________________________________________________________________________________\nblock7a_expand_bn (BatchNormali (None, 7, 7, 1152)   4608        block7a_expand_conv[0][0]        \n__________________________________________________________________________________________________\nblock7a_expand_activation (Acti (None, 7, 7, 1152)   0           block7a_expand_bn[0][0]          \n__________________________________________________________________________________________________\nblock7a_dwconv (DepthwiseConv2D (None, 7, 7, 1152)   10368       block7a_expand_activation[0][0]  \n__________________________________________________________________________________________________\nblock7a_bn (BatchNormalization) (None, 7, 7, 1152)   4608        block7a_dwconv[0][0]             \n__________________________________________________________________________________________________\nblock7a_activation (Activation) (None, 7, 7, 1152)   0           block7a_bn[0][0]                 \n__________________________________________________________________________________________________\nblock7a_se_squeeze (GlobalAvera (None, 1152)         0           block7a_activation[0][0]         \n__________________________________________________________________________________________________\nblock7a_se_reshape (Reshape)    (None, 1, 1, 1152)   0           block7a_se_squeeze[0][0]         \n__________________________________________________________________________________________________\nblock7a_se_reduce (Conv2D)      (None, 1, 1, 48)     55344       block7a_se_reshape[0][0]         \n__________________________________________________________________________________________________\nblock7a_se_expand (Conv2D)      (None, 1, 1, 1152)   56448       block7a_se_reduce[0][0]          \n__________________________________________________________________________________________________\nblock7a_se_excite (Multiply)    (None, 7, 7, 1152)   0           block7a_activation[0][0]         \n                                                                 block7a_se_expand[0][0]          \n__________________________________________________________________________________________________\nblock7a_project_conv (Conv2D)   (None, 7, 7, 320)    368640      block7a_se_excite[0][0]          \n__________________________________________________________________________________________________\nblock7a_project_bn (BatchNormal (None, 7, 7, 320)    1280        block7a_project_conv[0][0]       \n__________________________________________________________________________________________________\ninput_ids (InputLayer)          [(None, 128)]        0                                            \n__________________________________________________________________________________________________\nattention_mask (InputLayer)     [(None, 128)]        0                                            \n__________________________________________________________________________________________________\ntop_conv (Conv2D)               (None, 7, 7, 1280)   409600      block7a_project_bn[0][0]         \n__________________________________________________________________________________________________\ntf_distil_bert_model (TFDistilB ((None, 128, 768),)  66362880    input_ids[0][0]                  \n                                                                 attention_mask[0][0]             \n__________________________________________________________________________________________________\ntop_bn (BatchNormalization)     (None, 7, 7, 1280)   5120        top_conv[0][0]                   \n__________________________________________________________________________________________________\nbatch_normalization (BatchNorma (None, 128, 768)     3072        tf_distil_bert_model[0][0]       \n__________________________________________________________________________________________________\ntop_activation (Activation)     (None, 7, 7, 1280)   0           top_bn[0][0]                     \n__________________________________________________________________________________________________\nbidirectional (Bidirectional)   (None, 128, 256)     918528      batch_normalization[0][0]        \n__________________________________________________________________________________________________\nbatch_normalization_2 (BatchNor (None, 7, 7, 1280)   5120        top_activation[0][0]             \n__________________________________________________________________________________________________\nbatch_normalization_1 (BatchNor (None, 128, 256)     1024        bidirectional[0][0]              \n__________________________________________________________________________________________________\nglobal_max_pooling2d (GlobalMax (None, 1280)         0           batch_normalization_2[0][0]      \n__________________________________________________________________________________________________\nglobal_max_pooling1d (GlobalMax (None, 256)          0           batch_normalization_1[0][0]      \n__________________________________________________________________________________________________\nbatch_normalization_3 (BatchNor (None, 1280)         5120        global_max_pooling2d[0][0]       \n__________________________________________________________________________________________________\nbatch_normalization_4 (BatchNor (None, 256)          1024        global_max_pooling1d[0][0]       \n__________________________________________________________________________________________________\nconcatenate (Concatenate)       (None, 1536)         0           batch_normalization_3[0][0]      \n                                                                 batch_normalization_4[0][0]      \n__________________________________________________________________________________________________\nbatch_normalization_5 (BatchNor (None, 1536)         6144        concatenate[0][0]                \n__________________________________________________________________________________________________\nflatten (Flatten)               (None, 1536)         0           batch_normalization_5[0][0]      \n__________________________________________________________________________________________________\nweight_normalization (WeightNor (None, 1024)         3148801     flatten[0][0]                    \n__________________________________________________________________________________________________\ndropout_19 (Dropout)            (None, 1024)         0           weight_normalization[0][0]       \n__________________________________________________________________________________________________\nbatch_normalization_6 (BatchNor (None, 1024)         4096        dropout_19[0][0]                 \n__________________________________________________________________________________________________\nweight_normalization_1 (WeightN (None, 256)          525057      batch_normalization_6[0][0]      \n__________________________________________________________________________________________________\ndropout_20 (Dropout)            (None, 256)          0           weight_normalization_1[0][0]     \n__________________________________________________________________________________________________\nbatch_normalization_7 (BatchNor (None, 256)          1024        dropout_20[0][0]                 \n__________________________________________________________________________________________________\nweight_normalization_2 (WeightN (None, 1)            516         batch_normalization_7[0][0]      \n==================================================================================================\nTotal params: 75,031,977\nTrainable params: 6,777,214\nNon-trainable params: 68,254,763\n__________________________________________________________________________________________________\n"
    }
   ],
   "source": [
    "model = build_model()\n",
    "model.compile(optimizer = tfa.optimizers.LazyAdam(0.001), loss = \"binary_crossentropy\", metrics = [\"accuracy\", tf.keras.metrics.AUC(name = 'auc')])\n",
    "model.summary()"
   ]
  },
  {
   "cell_type": "code",
   "execution_count": 11,
   "metadata": {
    "colab": {},
    "colab_type": "code",
    "id": "0OuRWTDYBKD3"
   },
   "outputs": [],
   "source": [
    "def encode_single_sample(img_path, label, text):\n",
    "    img = tf.io.read_file(img_path)\n",
    "    img = tf.io.decode_png(img, channels = 3)\n",
    "    img = tf.image.convert_image_dtype(img, tf.int32)\n",
    "    img = tf.image.resize(img, [img_height, img_width])\n",
    "    text = tokenizer(text, return_tensors = 'tf', max_length = 128, padding = 'max_length')\n",
    "    return {\"image\": img, \"label\": label, \"text\": text}"
   ]
  },
  {
   "cell_type": "code",
   "execution_count": 12,
   "metadata": {
    "colab": {},
    "colab_type": "code",
    "id": "W50Gl6Y2BKD6"
   },
   "outputs": [],
   "source": [
    "class HatefulMemes(tf.keras.utils.Sequence):\n",
    "    \"\"\"Helper to iterate over the data (as Numpy arrays).\"\"\"\n",
    "\n",
    "    def __init__(self, batch_size, input_img_paths, label, text):\n",
    "        self.batch_size = batch_size\n",
    "        self.input_img_paths = input_img_paths\n",
    "        self.text = text\n",
    "        self.label = label\n",
    "\n",
    "    def __len__(self):\n",
    "        return len(self.input_img_paths) // self.batch_size\n",
    "\n",
    "    def __getitem__(self, idx):\n",
    "        \"\"\"Returns tuple (input, target) correspond to batch #idx.\"\"\"\n",
    "        i = idx * self.batch_size\n",
    "        batch_input_img_paths = self.input_img_paths[i : i + self.batch_size]\n",
    "        batch_label = self.label[i : i + self.batch_size]\n",
    "        batch_text = self.text[i : i + self.batch_size]\n",
    "        w = np.zeros((self.batch_size,) + (img_height, img_width) + (3,), dtype = \"float32\")\n",
    "        x = np.zeros((self.batch_size,max_len,), dtype = \"int32\")\n",
    "        y = np.zeros((self.batch_size,max_len,), dtype = \"int32\")\n",
    "        z = np.zeros((self.batch_size), dtype = \"float32\")\n",
    "        \n",
    "        for i,j,k,l in zip(range(self.batch_size), batch_input_img_paths, batch_label, batch_text):\n",
    "            sample = encode_single_sample(j,k,l)\n",
    "            w[i] = sample[\"image\"].numpy().tolist()\n",
    "            x[i] = sample[\"text\"]['input_ids'].numpy().tolist()[0]\n",
    "            y[i] = sample[\"text\"]['attention_mask'].numpy().tolist()[0]\n",
    "            z[i] = sample[\"label\"]\n",
    "        \n",
    "        return [w,x,y], z"
   ]
  },
  {
   "cell_type": "code",
   "execution_count": 13,
   "metadata": {
    "colab": {},
    "colab_type": "code",
    "id": "rsNKwyamBKD9"
   },
   "outputs": [],
   "source": [
    "train_gen = HatefulMemes(8, train_df[\"img\"].values.tolist(), train_df[\"label\"].values.tolist(), \\\n",
    "                         train_df[\"text\"].values.tolist())\n",
    "val_gen = HatefulMemes(8, val_df[\"img\"].values.tolist(), val_df[\"label\"].values.tolist(), \\\n",
    "                         val_df[\"text\"].values.tolist())"
   ]
  },
  {
   "cell_type": "code",
   "execution_count": 14,
   "metadata": {
    "colab": {
     "base_uri": "https://localhost:8080/",
     "height": 360
    },
    "colab_type": "code",
    "id": "otJYNWNcBKEA",
    "outputId": "08cb37fe-baa8-4c28-fe51-bbc02c6fdf5b",
    "tags": []
   },
   "outputs": [
    {
     "output_type": "stream",
     "name": "stdout",
     "text": "Epoch 1/50\n1062/1062 [==============================] - 1430s 1s/step - loss: 0.6884 - accuracy: 0.6249 - auc: 0.5996 - val_loss: 1.4405 - val_accuracy: 0.5837 - val_auc: 0.5775\nEpoch 2/50\n1062/1062 [==============================] - 1147s 1s/step - loss: 0.6095 - accuracy: 0.6810 - auc: 0.6777 - val_loss: 0.9954 - val_accuracy: 0.5625 - val_auc: 0.5690\nEpoch 3/50\n1062/1062 [==============================] - 1183s 1s/step - loss: 0.5695 - accuracy: 0.7120 - auc: 0.7321 - val_loss: 0.9360 - val_accuracy: 0.5702 - val_auc: 0.5874\nEpoch 4/50\n1062/1062 [==============================] - 1185s 1s/step - loss: 0.5452 - accuracy: 0.7365 - auc: 0.7636 - val_loss: 0.7975 - val_accuracy: 0.5798 - val_auc: 0.6111\nEpoch 5/50\n1062/1062 [==============================] - 1223s 1s/step - loss: 0.5312 - accuracy: 0.7439 - auc: 0.7786 - val_loss: 0.9543 - val_accuracy: 0.5788 - val_auc: 0.6028\nEpoch 6/50\n1062/1062 [==============================] - 1163s 1s/step - loss: 0.5007 - accuracy: 0.7635 - auc: 0.8096 - val_loss: 1.0493 - val_accuracy: 0.5548 - val_auc: 0.5732\nEpoch 7/50\n1062/1062 [==============================] - 1212s 1s/step - loss: 0.4762 - accuracy: 0.7754 - auc: 0.8316 - val_loss: 0.8480 - val_accuracy: 0.5856 - val_auc: 0.6012\nEpoch 8/50\n1062/1062 [==============================] - 1201s 1s/step - loss: 0.4062 - accuracy: 0.8216 - auc: 0.8829 - val_loss: 1.0361 - val_accuracy: 0.5933 - val_auc: 0.6016\nEpoch 9/50\n1062/1062 [==============================] - 1250s 1s/step - loss: 0.3611 - accuracy: 0.8485 - auc: 0.9086 - val_loss: 1.0530 - val_accuracy: 0.5837 - val_auc: 0.6018\nEpoch 10/50\n1062/1062 [==============================] - 1173s 1s/step - loss: 0.3313 - accuracy: 0.8618 - auc: 0.9236 - val_loss: 1.1614 - val_accuracy: 0.5923 - val_auc: 0.5832\nEpoch 11/50\n1062/1062 [==============================] - 1259s 1s/step - loss: 0.3031 - accuracy: 0.8743 - auc: 0.9367 - val_loss: 1.1990 - val_accuracy: 0.5712 - val_auc: 0.5820\nEpoch 12/50\n1062/1062 [==============================] - 1299s 1s/step - loss: 0.2801 - accuracy: 0.8861 - auc: 0.9451 - val_loss: 1.2226 - val_accuracy: 0.5788 - val_auc: 0.5771\n"
    }
   ],
   "source": [
    "epochs = 50\n",
    "early_stopping_patience = 10\n",
    "\n",
    "early_stopping = tf.keras.callbacks.EarlyStopping(\n",
    "    monitor = \"val_auc\", patience = early_stopping_patience, restore_best_weights = True\n",
    ")\n",
    "\n",
    "reduce_lr = tf.keras.callbacks.ReduceLROnPlateau(monitor = 'val_auc', factor = 0.2,\n",
    "                                                 patience = 5, min_lr = 0.0001)\n",
    "\n",
    "history = model.fit(train_gen, validation_data = val_gen, epochs = epochs, callbacks = [early_stopping,                                        reduce_lr])"
   ]
  },
  {
   "cell_type": "markdown",
   "metadata": {},
   "source": [
    "### Predict"
   ]
  },
  {
   "cell_type": "code",
   "execution_count": 15,
   "metadata": {},
   "outputs": [],
   "source": [
    "train_df = pd.read_json('data/test_unseen.jsonl', lines = True)\n",
    "train_df[\"img\"] = \"data/\" + train_df[\"img\"]"
   ]
  },
  {
   "cell_type": "code",
   "execution_count": 16,
   "metadata": {},
   "outputs": [],
   "source": [
    "def val_encode_single_sample(img_path, text):\n",
    "    img = tf.io.read_file(img_path)\n",
    "    img = tf.io.decode_png(img, channels = 3)\n",
    "    img = tf.image.convert_image_dtype(img, tf.int32)\n",
    "    img = tf.image.resize(img, [img_height, img_width])\n",
    "    text = tokenizer(text, return_tensors = 'tf', max_length = 128, padding = 'max_length')\n",
    "    return {\"image\": img, \"text\": text}"
   ]
  },
  {
   "cell_type": "code",
   "execution_count": 17,
   "metadata": {},
   "outputs": [],
   "source": [
    "class ValHatefulMemes(tf.keras.utils.Sequence):\n",
    "    \"\"\"Helper to iterate over the data (as Numpy arrays).\"\"\"\n",
    "\n",
    "    def __init__(self, batch_size, input_img_paths, text):\n",
    "        self.batch_size = batch_size\n",
    "        self.input_img_paths = input_img_paths\n",
    "        self.text = text\n",
    "\n",
    "    def __len__(self):\n",
    "        return len(self.input_img_paths) // self.batch_size\n",
    "\n",
    "    def __getitem__(self, idx):\n",
    "        \"\"\"Returns tuple (input, target) correspond to batch #idx.\"\"\"\n",
    "        i = idx * self.batch_size\n",
    "        batch_input_img_paths = self.input_img_paths[i : i + self.batch_size]\n",
    "        batch_text = self.text[i : i + self.batch_size]\n",
    "        w = np.zeros((self.batch_size,) + (img_height, img_width) + (3,), dtype = \"float32\")\n",
    "        x = np.zeros((self.batch_size,max_len,), dtype = \"int32\")\n",
    "        y = np.zeros((self.batch_size,max_len,), dtype = \"int32\")\n",
    "        \n",
    "        for i,j,k in zip(range(self.batch_size), batch_input_img_paths, batch_text):\n",
    "            sample = val_encode_single_sample(j,k)\n",
    "            w[i] = sample[\"image\"].numpy().tolist()\n",
    "            x[i] = sample[\"text\"]['input_ids'].numpy().tolist()[0]\n",
    "            y[i] = sample[\"text\"]['attention_mask'].numpy().tolist()[0]\n",
    "        \n",
    "        return [w,x,y]"
   ]
  },
  {
   "cell_type": "code",
   "execution_count": 18,
   "metadata": {},
   "outputs": [],
   "source": [
    "pred_gen = ValHatefulMemes(1, train_df[\"img\"].values.tolist(), train_df[\"text\"].values.tolist())"
   ]
  },
  {
   "cell_type": "code",
   "execution_count": 19,
   "metadata": {
    "tags": []
   },
   "outputs": [
    {
     "output_type": "stream",
     "name": "stdout",
     "text": "2000/2000 [==============================] - 288s 144ms/step\n"
    }
   ],
   "source": [
    "preds = model.predict(pred_gen, verbose = 1)"
   ]
  },
  {
   "cell_type": "code",
   "execution_count": 20,
   "metadata": {},
   "outputs": [],
   "source": [
    "def prob2pred(x):\n",
    "    if x > 0.5:\n",
    "        return 1\n",
    "    else:\n",
    "        return 0"
   ]
  },
  {
   "cell_type": "code",
   "execution_count": 21,
   "metadata": {},
   "outputs": [],
   "source": [
    "train_df[\"proba\"] = [i[0] for i in preds.tolist()]\n",
    "train_df[\"label\"] = train_df[\"proba\"].apply(prob2pred)"
   ]
  },
  {
   "cell_type": "code",
   "execution_count": 22,
   "metadata": {},
   "outputs": [
    {
     "output_type": "execute_result",
     "data": {
      "text/plain": "         id     proba  label\n0     15740  0.165844      0\n1     38794  0.808912      1\n2     60792  0.127603      0\n3     71824  0.341913      0\n4      4796  0.063573      0\n...     ...       ...    ...\n1995  71352  0.941351      1\n1996   2164  0.094855      0\n1997   3587  0.106884      0\n1998  47839  0.231437      0\n1999  34281  0.273309      0\n\n[2000 rows x 3 columns]",
      "text/html": "<div>\n<style scoped>\n    .dataframe tbody tr th:only-of-type {\n        vertical-align: middle;\n    }\n\n    .dataframe tbody tr th {\n        vertical-align: top;\n    }\n\n    .dataframe thead th {\n        text-align: right;\n    }\n</style>\n<table border=\"1\" class=\"dataframe\">\n  <thead>\n    <tr style=\"text-align: right;\">\n      <th></th>\n      <th>id</th>\n      <th>proba</th>\n      <th>label</th>\n    </tr>\n  </thead>\n  <tbody>\n    <tr>\n      <th>0</th>\n      <td>15740</td>\n      <td>0.165844</td>\n      <td>0</td>\n    </tr>\n    <tr>\n      <th>1</th>\n      <td>38794</td>\n      <td>0.808912</td>\n      <td>1</td>\n    </tr>\n    <tr>\n      <th>2</th>\n      <td>60792</td>\n      <td>0.127603</td>\n      <td>0</td>\n    </tr>\n    <tr>\n      <th>3</th>\n      <td>71824</td>\n      <td>0.341913</td>\n      <td>0</td>\n    </tr>\n    <tr>\n      <th>4</th>\n      <td>4796</td>\n      <td>0.063573</td>\n      <td>0</td>\n    </tr>\n    <tr>\n      <th>...</th>\n      <td>...</td>\n      <td>...</td>\n      <td>...</td>\n    </tr>\n    <tr>\n      <th>1995</th>\n      <td>71352</td>\n      <td>0.941351</td>\n      <td>1</td>\n    </tr>\n    <tr>\n      <th>1996</th>\n      <td>2164</td>\n      <td>0.094855</td>\n      <td>0</td>\n    </tr>\n    <tr>\n      <th>1997</th>\n      <td>3587</td>\n      <td>0.106884</td>\n      <td>0</td>\n    </tr>\n    <tr>\n      <th>1998</th>\n      <td>47839</td>\n      <td>0.231437</td>\n      <td>0</td>\n    </tr>\n    <tr>\n      <th>1999</th>\n      <td>34281</td>\n      <td>0.273309</td>\n      <td>0</td>\n    </tr>\n  </tbody>\n</table>\n<p>2000 rows × 3 columns</p>\n</div>"
     },
     "metadata": {},
     "execution_count": 22
    }
   ],
   "source": [
    "train_df = train_df.drop([\"img\",\"text\"], axis = 1)\n",
    "train_df"
   ]
  },
  {
   "cell_type": "code",
   "execution_count": 23,
   "metadata": {},
   "outputs": [],
   "source": [
    "train_df.to_csv(\"submission_new.csv\", index = False)"
   ]
  }
 ],
 "metadata": {
  "accelerator": "GPU",
  "colab": {
   "name": "hateful_memes.ipynb",
   "provenance": []
  },
  "kernelspec": {
   "display_name": "Python 3",
   "language": "python",
   "name": "python3"
  },
  "language_info": {
   "codemirror_mode": {
    "name": "ipython",
    "version": 3
   },
   "file_extension": ".py",
   "mimetype": "text/x-python",
   "name": "python",
   "nbconvert_exporter": "python",
   "pygments_lexer": "ipython3",
   "version": "3.7.7-final"
  },
  "widgets": {
   "application/vnd.jupyter.widget-state+json": {
    "023f7c40db584c2084b8947c49e678d2": {
     "model_module": "@jupyter-widgets/base",
     "model_name": "LayoutModel",
     "state": {
      "_model_module": "@jupyter-widgets/base",
      "_model_module_version": "1.2.0",
      "_model_name": "LayoutModel",
      "_view_count": null,
      "_view_module": "@jupyter-widgets/base",
      "_view_module_version": "1.2.0",
      "_view_name": "LayoutView",
      "align_content": null,
      "align_items": null,
      "align_self": null,
      "border": null,
      "bottom": null,
      "display": null,
      "flex": null,
      "flex_flow": null,
      "grid_area": null,
      "grid_auto_columns": null,
      "grid_auto_flow": null,
      "grid_auto_rows": null,
      "grid_column": null,
      "grid_gap": null,
      "grid_row": null,
      "grid_template_areas": null,
      "grid_template_columns": null,
      "grid_template_rows": null,
      "height": null,
      "justify_content": null,
      "justify_items": null,
      "left": null,
      "margin": null,
      "max_height": null,
      "max_width": null,
      "min_height": null,
      "min_width": null,
      "object_fit": null,
      "object_position": null,
      "order": null,
      "overflow": null,
      "overflow_x": null,
      "overflow_y": null,
      "padding": null,
      "right": null,
      "top": null,
      "visibility": null,
      "width": null
     }
    },
    "0c9cfe58d81742c7b4b36132572fab98": {
     "model_module": "@jupyter-widgets/controls",
     "model_name": "HTMLModel",
     "state": {
      "_dom_classes": [],
      "_model_module": "@jupyter-widgets/controls",
      "_model_module_version": "1.5.0",
      "_model_name": "HTMLModel",
      "_view_count": null,
      "_view_module": "@jupyter-widgets/controls",
      "_view_module_version": "1.5.0",
      "_view_name": "HTMLView",
      "description": "",
      "description_tooltip": null,
      "layout": "IPY_MODEL_023f7c40db584c2084b8947c49e678d2",
      "placeholder": "​",
      "style": "IPY_MODEL_fc89a278094e45e78ccdc0a4eb048945",
      "value": " 442/442 [00:50&lt;00:00, 8.68B/s]"
     }
    },
    "18aad438e4204cf6953481e70034cc40": {
     "model_module": "@jupyter-widgets/controls",
     "model_name": "FloatProgressModel",
     "state": {
      "_dom_classes": [],
      "_model_module": "@jupyter-widgets/controls",
      "_model_module_version": "1.5.0",
      "_model_name": "FloatProgressModel",
      "_view_count": null,
      "_view_module": "@jupyter-widgets/controls",
      "_view_module_version": "1.5.0",
      "_view_name": "ProgressView",
      "bar_style": "success",
      "description": "Downloading: 100%",
      "description_tooltip": null,
      "layout": "IPY_MODEL_558798cb00e4428981fd05a752fdd359",
      "max": 442,
      "min": 0,
      "orientation": "horizontal",
      "style": "IPY_MODEL_4accbe176e384ecb924149071bc0407d",
      "value": 442
     }
    },
    "18b65e4678bc4e7ba56bbe1d9044cf8b": {
     "model_module": "@jupyter-widgets/controls",
     "model_name": "HTMLModel",
     "state": {
      "_dom_classes": [],
      "_model_module": "@jupyter-widgets/controls",
      "_model_module_version": "1.5.0",
      "_model_name": "HTMLModel",
      "_view_count": null,
      "_view_module": "@jupyter-widgets/controls",
      "_view_module_version": "1.5.0",
      "_view_name": "HTMLView",
      "description": "",
      "description_tooltip": null,
      "layout": "IPY_MODEL_c41c22d0d342413ba29218292c4fade0",
      "placeholder": "​",
      "style": "IPY_MODEL_292872ed1d79401d9dd89992df7c1268",
      "value": " 232k/232k [00:00&lt;00:00, 259kB/s]"
     }
    },
    "1a5558f841934ea2a86aec466ba894e2": {
     "model_module": "@jupyter-widgets/controls",
     "model_name": "HTMLModel",
     "state": {
      "_dom_classes": [],
      "_model_module": "@jupyter-widgets/controls",
      "_model_module_version": "1.5.0",
      "_model_name": "HTMLModel",
      "_view_count": null,
      "_view_module": "@jupyter-widgets/controls",
      "_view_module_version": "1.5.0",
      "_view_name": "HTMLView",
      "description": "",
      "description_tooltip": null,
      "layout": "IPY_MODEL_686edb2bdc9444c590f2950445545a0c",
      "placeholder": "​",
      "style": "IPY_MODEL_38a5de04f8054692b2b2fafb6899b489",
      "value": " 363M/363M [00:49&lt;00:00, 7.35MB/s]"
     }
    },
    "292872ed1d79401d9dd89992df7c1268": {
     "model_module": "@jupyter-widgets/controls",
     "model_name": "DescriptionStyleModel",
     "state": {
      "_model_module": "@jupyter-widgets/controls",
      "_model_module_version": "1.5.0",
      "_model_name": "DescriptionStyleModel",
      "_view_count": null,
      "_view_module": "@jupyter-widgets/base",
      "_view_module_version": "1.2.0",
      "_view_name": "StyleView",
      "description_width": ""
     }
    },
    "3497b6f5dfd84b70901ccd61db81439c": {
     "model_module": "@jupyter-widgets/base",
     "model_name": "LayoutModel",
     "state": {
      "_model_module": "@jupyter-widgets/base",
      "_model_module_version": "1.2.0",
      "_model_name": "LayoutModel",
      "_view_count": null,
      "_view_module": "@jupyter-widgets/base",
      "_view_module_version": "1.2.0",
      "_view_name": "LayoutView",
      "align_content": null,
      "align_items": null,
      "align_self": null,
      "border": null,
      "bottom": null,
      "display": null,
      "flex": null,
      "flex_flow": null,
      "grid_area": null,
      "grid_auto_columns": null,
      "grid_auto_flow": null,
      "grid_auto_rows": null,
      "grid_column": null,
      "grid_gap": null,
      "grid_row": null,
      "grid_template_areas": null,
      "grid_template_columns": null,
      "grid_template_rows": null,
      "height": null,
      "justify_content": null,
      "justify_items": null,
      "left": null,
      "margin": null,
      "max_height": null,
      "max_width": null,
      "min_height": null,
      "min_width": null,
      "object_fit": null,
      "object_position": null,
      "order": null,
      "overflow": null,
      "overflow_x": null,
      "overflow_y": null,
      "padding": null,
      "right": null,
      "top": null,
      "visibility": null,
      "width": null
     }
    },
    "352ce4339a2c4972a281e7d073096b41": {
     "model_module": "@jupyter-widgets/base",
     "model_name": "LayoutModel",
     "state": {
      "_model_module": "@jupyter-widgets/base",
      "_model_module_version": "1.2.0",
      "_model_name": "LayoutModel",
      "_view_count": null,
      "_view_module": "@jupyter-widgets/base",
      "_view_module_version": "1.2.0",
      "_view_name": "LayoutView",
      "align_content": null,
      "align_items": null,
      "align_self": null,
      "border": null,
      "bottom": null,
      "display": null,
      "flex": null,
      "flex_flow": null,
      "grid_area": null,
      "grid_auto_columns": null,
      "grid_auto_flow": null,
      "grid_auto_rows": null,
      "grid_column": null,
      "grid_gap": null,
      "grid_row": null,
      "grid_template_areas": null,
      "grid_template_columns": null,
      "grid_template_rows": null,
      "height": null,
      "justify_content": null,
      "justify_items": null,
      "left": null,
      "margin": null,
      "max_height": null,
      "max_width": null,
      "min_height": null,
      "min_width": null,
      "object_fit": null,
      "object_position": null,
      "order": null,
      "overflow": null,
      "overflow_x": null,
      "overflow_y": null,
      "padding": null,
      "right": null,
      "top": null,
      "visibility": null,
      "width": null
     }
    },
    "38a5de04f8054692b2b2fafb6899b489": {
     "model_module": "@jupyter-widgets/controls",
     "model_name": "DescriptionStyleModel",
     "state": {
      "_model_module": "@jupyter-widgets/controls",
      "_model_module_version": "1.5.0",
      "_model_name": "DescriptionStyleModel",
      "_view_count": null,
      "_view_module": "@jupyter-widgets/base",
      "_view_module_version": "1.2.0",
      "_view_name": "StyleView",
      "description_width": ""
     }
    },
    "4a405e4db7994dd3aabdf79ced55a9d0": {
     "model_module": "@jupyter-widgets/controls",
     "model_name": "HBoxModel",
     "state": {
      "_dom_classes": [],
      "_model_module": "@jupyter-widgets/controls",
      "_model_module_version": "1.5.0",
      "_model_name": "HBoxModel",
      "_view_count": null,
      "_view_module": "@jupyter-widgets/controls",
      "_view_module_version": "1.5.0",
      "_view_name": "HBoxView",
      "box_style": "",
      "children": [
       "IPY_MODEL_4fb6905e069743b28925b8b733a138d9",
       "IPY_MODEL_1a5558f841934ea2a86aec466ba894e2"
      ],
      "layout": "IPY_MODEL_3497b6f5dfd84b70901ccd61db81439c"
     }
    },
    "4accbe176e384ecb924149071bc0407d": {
     "model_module": "@jupyter-widgets/controls",
     "model_name": "ProgressStyleModel",
     "state": {
      "_model_module": "@jupyter-widgets/controls",
      "_model_module_version": "1.5.0",
      "_model_name": "ProgressStyleModel",
      "_view_count": null,
      "_view_module": "@jupyter-widgets/base",
      "_view_module_version": "1.2.0",
      "_view_name": "StyleView",
      "bar_color": null,
      "description_width": "initial"
     }
    },
    "4cbac9d9192c4ce8aafb543e4d145194": {
     "model_module": "@jupyter-widgets/controls",
     "model_name": "HBoxModel",
     "state": {
      "_dom_classes": [],
      "_model_module": "@jupyter-widgets/controls",
      "_model_module_version": "1.5.0",
      "_model_name": "HBoxModel",
      "_view_count": null,
      "_view_module": "@jupyter-widgets/controls",
      "_view_module_version": "1.5.0",
      "_view_name": "HBoxView",
      "box_style": "",
      "children": [
       "IPY_MODEL_79605bd07b40425682a0baa9b921e4ea",
       "IPY_MODEL_18b65e4678bc4e7ba56bbe1d9044cf8b"
      ],
      "layout": "IPY_MODEL_9b5f957d79e94d9cbcabb2221a76f958"
     }
    },
    "4fb6905e069743b28925b8b733a138d9": {
     "model_module": "@jupyter-widgets/controls",
     "model_name": "FloatProgressModel",
     "state": {
      "_dom_classes": [],
      "_model_module": "@jupyter-widgets/controls",
      "_model_module_version": "1.5.0",
      "_model_name": "FloatProgressModel",
      "_view_count": null,
      "_view_module": "@jupyter-widgets/controls",
      "_view_module_version": "1.5.0",
      "_view_name": "ProgressView",
      "bar_style": "success",
      "description": "Downloading: 100%",
      "description_tooltip": null,
      "layout": "IPY_MODEL_66d5aecd2d6c4932bae6d77edef2892f",
      "max": 363423424,
      "min": 0,
      "orientation": "horizontal",
      "style": "IPY_MODEL_ad8a312549964733bef31bada5917c6f",
      "value": 363423424
     }
    },
    "558798cb00e4428981fd05a752fdd359": {
     "model_module": "@jupyter-widgets/base",
     "model_name": "LayoutModel",
     "state": {
      "_model_module": "@jupyter-widgets/base",
      "_model_module_version": "1.2.0",
      "_model_name": "LayoutModel",
      "_view_count": null,
      "_view_module": "@jupyter-widgets/base",
      "_view_module_version": "1.2.0",
      "_view_name": "LayoutView",
      "align_content": null,
      "align_items": null,
      "align_self": null,
      "border": null,
      "bottom": null,
      "display": null,
      "flex": null,
      "flex_flow": null,
      "grid_area": null,
      "grid_auto_columns": null,
      "grid_auto_flow": null,
      "grid_auto_rows": null,
      "grid_column": null,
      "grid_gap": null,
      "grid_row": null,
      "grid_template_areas": null,
      "grid_template_columns": null,
      "grid_template_rows": null,
      "height": null,
      "justify_content": null,
      "justify_items": null,
      "left": null,
      "margin": null,
      "max_height": null,
      "max_width": null,
      "min_height": null,
      "min_width": null,
      "object_fit": null,
      "object_position": null,
      "order": null,
      "overflow": null,
      "overflow_x": null,
      "overflow_y": null,
      "padding": null,
      "right": null,
      "top": null,
      "visibility": null,
      "width": null
     }
    },
    "66d5aecd2d6c4932bae6d77edef2892f": {
     "model_module": "@jupyter-widgets/base",
     "model_name": "LayoutModel",
     "state": {
      "_model_module": "@jupyter-widgets/base",
      "_model_module_version": "1.2.0",
      "_model_name": "LayoutModel",
      "_view_count": null,
      "_view_module": "@jupyter-widgets/base",
      "_view_module_version": "1.2.0",
      "_view_name": "LayoutView",
      "align_content": null,
      "align_items": null,
      "align_self": null,
      "border": null,
      "bottom": null,
      "display": null,
      "flex": null,
      "flex_flow": null,
      "grid_area": null,
      "grid_auto_columns": null,
      "grid_auto_flow": null,
      "grid_auto_rows": null,
      "grid_column": null,
      "grid_gap": null,
      "grid_row": null,
      "grid_template_areas": null,
      "grid_template_columns": null,
      "grid_template_rows": null,
      "height": null,
      "justify_content": null,
      "justify_items": null,
      "left": null,
      "margin": null,
      "max_height": null,
      "max_width": null,
      "min_height": null,
      "min_width": null,
      "object_fit": null,
      "object_position": null,
      "order": null,
      "overflow": null,
      "overflow_x": null,
      "overflow_y": null,
      "padding": null,
      "right": null,
      "top": null,
      "visibility": null,
      "width": null
     }
    },
    "686edb2bdc9444c590f2950445545a0c": {
     "model_module": "@jupyter-widgets/base",
     "model_name": "LayoutModel",
     "state": {
      "_model_module": "@jupyter-widgets/base",
      "_model_module_version": "1.2.0",
      "_model_name": "LayoutModel",
      "_view_count": null,
      "_view_module": "@jupyter-widgets/base",
      "_view_module_version": "1.2.0",
      "_view_name": "LayoutView",
      "align_content": null,
      "align_items": null,
      "align_self": null,
      "border": null,
      "bottom": null,
      "display": null,
      "flex": null,
      "flex_flow": null,
      "grid_area": null,
      "grid_auto_columns": null,
      "grid_auto_flow": null,
      "grid_auto_rows": null,
      "grid_column": null,
      "grid_gap": null,
      "grid_row": null,
      "grid_template_areas": null,
      "grid_template_columns": null,
      "grid_template_rows": null,
      "height": null,
      "justify_content": null,
      "justify_items": null,
      "left": null,
      "margin": null,
      "max_height": null,
      "max_width": null,
      "min_height": null,
      "min_width": null,
      "object_fit": null,
      "object_position": null,
      "order": null,
      "overflow": null,
      "overflow_x": null,
      "overflow_y": null,
      "padding": null,
      "right": null,
      "top": null,
      "visibility": null,
      "width": null
     }
    },
    "725e4c5b30064f8b975cc25c89f2f16f": {
     "model_module": "@jupyter-widgets/base",
     "model_name": "LayoutModel",
     "state": {
      "_model_module": "@jupyter-widgets/base",
      "_model_module_version": "1.2.0",
      "_model_name": "LayoutModel",
      "_view_count": null,
      "_view_module": "@jupyter-widgets/base",
      "_view_module_version": "1.2.0",
      "_view_name": "LayoutView",
      "align_content": null,
      "align_items": null,
      "align_self": null,
      "border": null,
      "bottom": null,
      "display": null,
      "flex": null,
      "flex_flow": null,
      "grid_area": null,
      "grid_auto_columns": null,
      "grid_auto_flow": null,
      "grid_auto_rows": null,
      "grid_column": null,
      "grid_gap": null,
      "grid_row": null,
      "grid_template_areas": null,
      "grid_template_columns": null,
      "grid_template_rows": null,
      "height": null,
      "justify_content": null,
      "justify_items": null,
      "left": null,
      "margin": null,
      "max_height": null,
      "max_width": null,
      "min_height": null,
      "min_width": null,
      "object_fit": null,
      "object_position": null,
      "order": null,
      "overflow": null,
      "overflow_x": null,
      "overflow_y": null,
      "padding": null,
      "right": null,
      "top": null,
      "visibility": null,
      "width": null
     }
    },
    "79605bd07b40425682a0baa9b921e4ea": {
     "model_module": "@jupyter-widgets/controls",
     "model_name": "FloatProgressModel",
     "state": {
      "_dom_classes": [],
      "_model_module": "@jupyter-widgets/controls",
      "_model_module_version": "1.5.0",
      "_model_name": "FloatProgressModel",
      "_view_count": null,
      "_view_module": "@jupyter-widgets/controls",
      "_view_module_version": "1.5.0",
      "_view_name": "ProgressView",
      "bar_style": "success",
      "description": "Downloading: 100%",
      "description_tooltip": null,
      "layout": "IPY_MODEL_352ce4339a2c4972a281e7d073096b41",
      "max": 231508,
      "min": 0,
      "orientation": "horizontal",
      "style": "IPY_MODEL_8d64bd14fdc3484db91bea1ea53e7edc",
      "value": 231508
     }
    },
    "8d64bd14fdc3484db91bea1ea53e7edc": {
     "model_module": "@jupyter-widgets/controls",
     "model_name": "ProgressStyleModel",
     "state": {
      "_model_module": "@jupyter-widgets/controls",
      "_model_module_version": "1.5.0",
      "_model_name": "ProgressStyleModel",
      "_view_count": null,
      "_view_module": "@jupyter-widgets/base",
      "_view_module_version": "1.2.0",
      "_view_name": "StyleView",
      "bar_color": null,
      "description_width": "initial"
     }
    },
    "9b5f957d79e94d9cbcabb2221a76f958": {
     "model_module": "@jupyter-widgets/base",
     "model_name": "LayoutModel",
     "state": {
      "_model_module": "@jupyter-widgets/base",
      "_model_module_version": "1.2.0",
      "_model_name": "LayoutModel",
      "_view_count": null,
      "_view_module": "@jupyter-widgets/base",
      "_view_module_version": "1.2.0",
      "_view_name": "LayoutView",
      "align_content": null,
      "align_items": null,
      "align_self": null,
      "border": null,
      "bottom": null,
      "display": null,
      "flex": null,
      "flex_flow": null,
      "grid_area": null,
      "grid_auto_columns": null,
      "grid_auto_flow": null,
      "grid_auto_rows": null,
      "grid_column": null,
      "grid_gap": null,
      "grid_row": null,
      "grid_template_areas": null,
      "grid_template_columns": null,
      "grid_template_rows": null,
      "height": null,
      "justify_content": null,
      "justify_items": null,
      "left": null,
      "margin": null,
      "max_height": null,
      "max_width": null,
      "min_height": null,
      "min_width": null,
      "object_fit": null,
      "object_position": null,
      "order": null,
      "overflow": null,
      "overflow_x": null,
      "overflow_y": null,
      "padding": null,
      "right": null,
      "top": null,
      "visibility": null,
      "width": null
     }
    },
    "ad8a312549964733bef31bada5917c6f": {
     "model_module": "@jupyter-widgets/controls",
     "model_name": "ProgressStyleModel",
     "state": {
      "_model_module": "@jupyter-widgets/controls",
      "_model_module_version": "1.5.0",
      "_model_name": "ProgressStyleModel",
      "_view_count": null,
      "_view_module": "@jupyter-widgets/base",
      "_view_module_version": "1.2.0",
      "_view_name": "StyleView",
      "bar_color": null,
      "description_width": "initial"
     }
    },
    "c41c22d0d342413ba29218292c4fade0": {
     "model_module": "@jupyter-widgets/base",
     "model_name": "LayoutModel",
     "state": {
      "_model_module": "@jupyter-widgets/base",
      "_model_module_version": "1.2.0",
      "_model_name": "LayoutModel",
      "_view_count": null,
      "_view_module": "@jupyter-widgets/base",
      "_view_module_version": "1.2.0",
      "_view_name": "LayoutView",
      "align_content": null,
      "align_items": null,
      "align_self": null,
      "border": null,
      "bottom": null,
      "display": null,
      "flex": null,
      "flex_flow": null,
      "grid_area": null,
      "grid_auto_columns": null,
      "grid_auto_flow": null,
      "grid_auto_rows": null,
      "grid_column": null,
      "grid_gap": null,
      "grid_row": null,
      "grid_template_areas": null,
      "grid_template_columns": null,
      "grid_template_rows": null,
      "height": null,
      "justify_content": null,
      "justify_items": null,
      "left": null,
      "margin": null,
      "max_height": null,
      "max_width": null,
      "min_height": null,
      "min_width": null,
      "object_fit": null,
      "object_position": null,
      "order": null,
      "overflow": null,
      "overflow_x": null,
      "overflow_y": null,
      "padding": null,
      "right": null,
      "top": null,
      "visibility": null,
      "width": null
     }
    },
    "de5b02ef61b44dfe88229ec1f97071cb": {
     "model_module": "@jupyter-widgets/controls",
     "model_name": "HBoxModel",
     "state": {
      "_dom_classes": [],
      "_model_module": "@jupyter-widgets/controls",
      "_model_module_version": "1.5.0",
      "_model_name": "HBoxModel",
      "_view_count": null,
      "_view_module": "@jupyter-widgets/controls",
      "_view_module_version": "1.5.0",
      "_view_name": "HBoxView",
      "box_style": "",
      "children": [
       "IPY_MODEL_18aad438e4204cf6953481e70034cc40",
       "IPY_MODEL_0c9cfe58d81742c7b4b36132572fab98"
      ],
      "layout": "IPY_MODEL_725e4c5b30064f8b975cc25c89f2f16f"
     }
    },
    "fc89a278094e45e78ccdc0a4eb048945": {
     "model_module": "@jupyter-widgets/controls",
     "model_name": "DescriptionStyleModel",
     "state": {
      "_model_module": "@jupyter-widgets/controls",
      "_model_module_version": "1.5.0",
      "_model_name": "DescriptionStyleModel",
      "_view_count": null,
      "_view_module": "@jupyter-widgets/base",
      "_view_module_version": "1.2.0",
      "_view_name": "StyleView",
      "description_width": ""
     }
    }
   }
  }
 },
 "nbformat": 4,
 "nbformat_minor": 4
}