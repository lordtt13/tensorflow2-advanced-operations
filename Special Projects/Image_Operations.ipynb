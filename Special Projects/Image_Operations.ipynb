{
  "nbformat": 4,
  "nbformat_minor": 0,
  "metadata": {
    "colab": {
      "name": "Image: Operations.ipynb",
      "provenance": []
    },
    "kernelspec": {
      "name": "python3",
      "display_name": "Python 3"
    },
    "accelerator": "GPU"
  },
  "cells": [
    {
      "cell_type": "code",
      "metadata": {
        "id": "H7oOAwzrddVb",
        "colab_type": "code",
        "colab": {
          "base_uri": "https://localhost:8080/",
          "height": 34
        },
        "outputId": "055ff2b2-6cdc-4413-c40f-662de1a1099c"
      },
      "source": [
        "pip install -q -U tensorflow-addons"
      ],
      "execution_count": 1,
      "outputs": [
        {
          "output_type": "stream",
          "text": [
            "\u001b[?25l\r\u001b[K     |▎                               | 10kB 21.2MB/s eta 0:00:01\r\u001b[K     |▋                               | 20kB 1.7MB/s eta 0:00:01\r\u001b[K     |█                               | 30kB 2.2MB/s eta 0:00:01\r\u001b[K     |█▏                              | 40kB 2.5MB/s eta 0:00:01\r\u001b[K     |█▌                              | 51kB 2.0MB/s eta 0:00:01\r\u001b[K     |█▉                              | 61kB 2.2MB/s eta 0:00:01\r\u001b[K     |██                              | 71kB 2.5MB/s eta 0:00:01\r\u001b[K     |██▍                             | 81kB 2.7MB/s eta 0:00:01\r\u001b[K     |██▊                             | 92kB 2.9MB/s eta 0:00:01\r\u001b[K     |███                             | 102kB 2.7MB/s eta 0:00:01\r\u001b[K     |███▎                            | 112kB 2.7MB/s eta 0:00:01\r\u001b[K     |███▋                            | 122kB 2.7MB/s eta 0:00:01\r\u001b[K     |███▉                            | 133kB 2.7MB/s eta 0:00:01\r\u001b[K     |████▏                           | 143kB 2.7MB/s eta 0:00:01\r\u001b[K     |████▌                           | 153kB 2.7MB/s eta 0:00:01\r\u001b[K     |████▊                           | 163kB 2.7MB/s eta 0:00:01\r\u001b[K     |█████                           | 174kB 2.7MB/s eta 0:00:01\r\u001b[K     |█████▍                          | 184kB 2.7MB/s eta 0:00:01\r\u001b[K     |█████▋                          | 194kB 2.7MB/s eta 0:00:01\r\u001b[K     |██████                          | 204kB 2.7MB/s eta 0:00:01\r\u001b[K     |██████▎                         | 215kB 2.7MB/s eta 0:00:01\r\u001b[K     |██████▌                         | 225kB 2.7MB/s eta 0:00:01\r\u001b[K     |██████▉                         | 235kB 2.7MB/s eta 0:00:01\r\u001b[K     |███████▏                        | 245kB 2.7MB/s eta 0:00:01\r\u001b[K     |███████▌                        | 256kB 2.7MB/s eta 0:00:01\r\u001b[K     |███████▊                        | 266kB 2.7MB/s eta 0:00:01\r\u001b[K     |████████                        | 276kB 2.7MB/s eta 0:00:01\r\u001b[K     |████████▍                       | 286kB 2.7MB/s eta 0:00:01\r\u001b[K     |████████▋                       | 296kB 2.7MB/s eta 0:00:01\r\u001b[K     |█████████                       | 307kB 2.7MB/s eta 0:00:01\r\u001b[K     |█████████▎                      | 317kB 2.7MB/s eta 0:00:01\r\u001b[K     |█████████▌                      | 327kB 2.7MB/s eta 0:00:01\r\u001b[K     |█████████▉                      | 337kB 2.7MB/s eta 0:00:01\r\u001b[K     |██████████▏                     | 348kB 2.7MB/s eta 0:00:01\r\u001b[K     |██████████▍                     | 358kB 2.7MB/s eta 0:00:01\r\u001b[K     |██████████▊                     | 368kB 2.7MB/s eta 0:00:01\r\u001b[K     |███████████                     | 378kB 2.7MB/s eta 0:00:01\r\u001b[K     |███████████▎                    | 389kB 2.7MB/s eta 0:00:01\r\u001b[K     |███████████▋                    | 399kB 2.7MB/s eta 0:00:01\r\u001b[K     |████████████                    | 409kB 2.7MB/s eta 0:00:01\r\u001b[K     |████████████▏                   | 419kB 2.7MB/s eta 0:00:01\r\u001b[K     |████████████▌                   | 430kB 2.7MB/s eta 0:00:01\r\u001b[K     |████████████▉                   | 440kB 2.7MB/s eta 0:00:01\r\u001b[K     |█████████████                   | 450kB 2.7MB/s eta 0:00:01\r\u001b[K     |█████████████▍                  | 460kB 2.7MB/s eta 0:00:01\r\u001b[K     |█████████████▊                  | 471kB 2.7MB/s eta 0:00:01\r\u001b[K     |██████████████                  | 481kB 2.7MB/s eta 0:00:01\r\u001b[K     |██████████████▎                 | 491kB 2.7MB/s eta 0:00:01\r\u001b[K     |██████████████▋                 | 501kB 2.7MB/s eta 0:00:01\r\u001b[K     |███████████████                 | 512kB 2.7MB/s eta 0:00:01\r\u001b[K     |███████████████▏                | 522kB 2.7MB/s eta 0:00:01\r\u001b[K     |███████████████▌                | 532kB 2.7MB/s eta 0:00:01\r\u001b[K     |███████████████▉                | 542kB 2.7MB/s eta 0:00:01\r\u001b[K     |████████████████                | 552kB 2.7MB/s eta 0:00:01\r\u001b[K     |████████████████▍               | 563kB 2.7MB/s eta 0:00:01\r\u001b[K     |████████████████▊               | 573kB 2.7MB/s eta 0:00:01\r\u001b[K     |█████████████████               | 583kB 2.7MB/s eta 0:00:01\r\u001b[K     |█████████████████▎              | 593kB 2.7MB/s eta 0:00:01\r\u001b[K     |█████████████████▋              | 604kB 2.7MB/s eta 0:00:01\r\u001b[K     |█████████████████▉              | 614kB 2.7MB/s eta 0:00:01\r\u001b[K     |██████████████████▏             | 624kB 2.7MB/s eta 0:00:01\r\u001b[K     |██████████████████▌             | 634kB 2.7MB/s eta 0:00:01\r\u001b[K     |██████████████████▊             | 645kB 2.7MB/s eta 0:00:01\r\u001b[K     |███████████████████             | 655kB 2.7MB/s eta 0:00:01\r\u001b[K     |███████████████████▍            | 665kB 2.7MB/s eta 0:00:01\r\u001b[K     |███████████████████▋            | 675kB 2.7MB/s eta 0:00:01\r\u001b[K     |████████████████████            | 686kB 2.7MB/s eta 0:00:01\r\u001b[K     |████████████████████▎           | 696kB 2.7MB/s eta 0:00:01\r\u001b[K     |████████████████████▌           | 706kB 2.7MB/s eta 0:00:01\r\u001b[K     |████████████████████▉           | 716kB 2.7MB/s eta 0:00:01\r\u001b[K     |█████████████████████▏          | 727kB 2.7MB/s eta 0:00:01\r\u001b[K     |█████████████████████▍          | 737kB 2.7MB/s eta 0:00:01\r\u001b[K     |█████████████████████▊          | 747kB 2.7MB/s eta 0:00:01\r\u001b[K     |██████████████████████          | 757kB 2.7MB/s eta 0:00:01\r\u001b[K     |██████████████████████▍         | 768kB 2.7MB/s eta 0:00:01\r\u001b[K     |██████████████████████▋         | 778kB 2.7MB/s eta 0:00:01\r\u001b[K     |███████████████████████         | 788kB 2.7MB/s eta 0:00:01\r\u001b[K     |███████████████████████▎        | 798kB 2.7MB/s eta 0:00:01\r\u001b[K     |███████████████████████▌        | 808kB 2.7MB/s eta 0:00:01\r\u001b[K     |███████████████████████▉        | 819kB 2.7MB/s eta 0:00:01\r\u001b[K     |████████████████████████▏       | 829kB 2.7MB/s eta 0:00:01\r\u001b[K     |████████████████████████▍       | 839kB 2.7MB/s eta 0:00:01\r\u001b[K     |████████████████████████▊       | 849kB 2.7MB/s eta 0:00:01\r\u001b[K     |█████████████████████████       | 860kB 2.7MB/s eta 0:00:01\r\u001b[K     |█████████████████████████▎      | 870kB 2.7MB/s eta 0:00:01\r\u001b[K     |█████████████████████████▋      | 880kB 2.7MB/s eta 0:00:01\r\u001b[K     |██████████████████████████      | 890kB 2.7MB/s eta 0:00:01\r\u001b[K     |██████████████████████████▏     | 901kB 2.7MB/s eta 0:00:01\r\u001b[K     |██████████████████████████▌     | 911kB 2.7MB/s eta 0:00:01\r\u001b[K     |██████████████████████████▉     | 921kB 2.7MB/s eta 0:00:01\r\u001b[K     |███████████████████████████     | 931kB 2.7MB/s eta 0:00:01\r\u001b[K     |███████████████████████████▍    | 942kB 2.7MB/s eta 0:00:01\r\u001b[K     |███████████████████████████▊    | 952kB 2.7MB/s eta 0:00:01\r\u001b[K     |████████████████████████████    | 962kB 2.7MB/s eta 0:00:01\r\u001b[K     |████████████████████████████▎   | 972kB 2.7MB/s eta 0:00:01\r\u001b[K     |████████████████████████████▋   | 983kB 2.7MB/s eta 0:00:01\r\u001b[K     |████████████████████████████▉   | 993kB 2.7MB/s eta 0:00:01\r\u001b[K     |█████████████████████████████▏  | 1.0MB 2.7MB/s eta 0:00:01\r\u001b[K     |█████████████████████████████▌  | 1.0MB 2.7MB/s eta 0:00:01\r\u001b[K     |█████████████████████████████▉  | 1.0MB 2.7MB/s eta 0:00:01\r\u001b[K     |██████████████████████████████  | 1.0MB 2.7MB/s eta 0:00:01\r\u001b[K     |██████████████████████████████▍ | 1.0MB 2.7MB/s eta 0:00:01\r\u001b[K     |██████████████████████████████▊ | 1.1MB 2.7MB/s eta 0:00:01\r\u001b[K     |███████████████████████████████ | 1.1MB 2.7MB/s eta 0:00:01\r\u001b[K     |███████████████████████████████▎| 1.1MB 2.7MB/s eta 0:00:01\r\u001b[K     |███████████████████████████████▋| 1.1MB 2.7MB/s eta 0:00:01\r\u001b[K     |███████████████████████████████▉| 1.1MB 2.7MB/s eta 0:00:01\r\u001b[K     |████████████████████████████████| 1.1MB 2.7MB/s \n",
            "\u001b[?25h"
          ],
          "name": "stdout"
        }
      ]
    },
    {
      "cell_type": "code",
      "metadata": {
        "id": "1BjjDHh4dmaO",
        "colab_type": "code",
        "colab": {}
      },
      "source": [
        "import numpy as np\n",
        "import tensorflow as tf\n",
        "import tensorflow_addons as tfa\n",
        "import matplotlib.pyplot as plt"
      ],
      "execution_count": 2,
      "outputs": []
    },
    {
      "cell_type": "code",
      "metadata": {
        "id": "lXmRV9rTdq3e",
        "colab_type": "code",
        "colab": {
          "base_uri": "https://localhost:8080/",
          "height": 51
        },
        "outputId": "c483b735-3ce0-412d-fc5f-ae38696c09e8"
      },
      "source": [
        "# Image\n",
        "img_path = tf.keras.utils.get_file('tensorflow.png','https://tensorflow.org/images/tf_logo.png')"
      ],
      "execution_count": 3,
      "outputs": [
        {
          "output_type": "stream",
          "text": [
            "Downloading data from https://tensorflow.org/images/tf_logo.png\n",
            "40960/39781 [==============================] - 0s 3us/step\n"
          ],
          "name": "stdout"
        }
      ]
    },
    {
      "cell_type": "code",
      "metadata": {
        "id": "SK2eCl8Zd2J_",
        "colab_type": "code",
        "colab": {
          "base_uri": "https://localhost:8080/",
          "height": 281
        },
        "outputId": "f0a47199-33ca-4e2f-ca7f-1d4f648f4378"
      },
      "source": [
        "# Display Image\n",
        "img_raw = tf.io.read_file(img_path)\n",
        "img = tf.io.decode_image(img_raw)\n",
        "img = tf.image.convert_image_dtype(img, tf.float32)\n",
        "img = tf.image.resize(img, [500,500])\n",
        "\n",
        "plt.title(\"TensorFlow Logo with shape {}\".format(img.shape))\n",
        "_ = plt.imshow(img)"
      ],
      "execution_count": 4,
      "outputs": [
        {
          "output_type": "display_data",
          "data": {
            "image/png": "[encoded data removed]",
            "text/plain": [
              "<Figure size 432x288 with 1 Axes>"
            ]
          },
          "metadata": {
            "tags": [],
            "needs_background": "light"
          }
        }
      ]
    },
    {
      "cell_type": "code",
      "metadata": {
        "id": "JNZ0PLH1eAZO",
        "colab_type": "code",
        "colab": {}
      },
      "source": [
        ""
      ],
      "execution_count": null,
      "outputs": []
    }
  ]
}