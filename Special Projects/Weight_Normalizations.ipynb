{
  "nbformat": 4,
  "nbformat_minor": 0,
  "metadata": {
    "colab": {
      "name": "Weight Normalizations.ipynb",
      "provenance": []
    },
    "kernelspec": {
      "name": "python3",
      "display_name": "Python 3"
    },
    "accelerator": "GPU"
  },
  "cells": [
    {
      "cell_type": "markdown",
      "metadata": {
        "id": "P2d9b4MiF3kF",
        "colab_type": "text"
      },
      "source": [
        "### WeightNormalization\n",
        "\n",
        "A Simple Reparameterization to Accelerate Training of Deep Neural Networks"
      ]
    },
    {
      "cell_type": "code",
      "metadata": {
        "id": "HDstL_xEF8BC",
        "colab_type": "code",
        "colab": {
          "base_uri": "https://localhost:8080/",
          "height": 34
        },
        "outputId": "bf610317-476d-43d6-d3de-b0945103af35"
      },
      "source": [
        "!pip install -q -U tensorflow-addons"
      ],
      "execution_count": 1,
      "outputs": [
        {
          "output_type": "stream",
          "text": [
            "\u001b[?25l\r\u001b[K     |▎                               | 10kB 29.4MB/s eta 0:00:01\r\u001b[K     |▋                               | 20kB 3.0MB/s eta 0:00:01\r\u001b[K     |█                               | 30kB 3.9MB/s eta 0:00:01\r\u001b[K     |█▏                              | 40kB 4.2MB/s eta 0:00:01\r\u001b[K     |█▌                              | 51kB 3.5MB/s eta 0:00:01\r\u001b[K     |█▉                              | 61kB 3.9MB/s eta 0:00:01\r\u001b[K     |██                              | 71kB 4.1MB/s eta 0:00:01\r\u001b[K     |██▍                             | 81kB 4.5MB/s eta 0:00:01\r\u001b[K     |██▊                             | 92kB 4.9MB/s eta 0:00:01\r\u001b[K     |███                             | 102kB 4.6MB/s eta 0:00:01\r\u001b[K     |███▎                            | 112kB 4.6MB/s eta 0:00:01\r\u001b[K     |███▋                            | 122kB 4.6MB/s eta 0:00:01\r\u001b[K     |███▉                            | 133kB 4.6MB/s eta 0:00:01\r\u001b[K     |████▏                           | 143kB 4.6MB/s eta 0:00:01\r\u001b[K     |████▌                           | 153kB 4.6MB/s eta 0:00:01\r\u001b[K     |████▊                           | 163kB 4.6MB/s eta 0:00:01\r\u001b[K     |█████                           | 174kB 4.6MB/s eta 0:00:01\r\u001b[K     |█████▍                          | 184kB 4.6MB/s eta 0:00:01\r\u001b[K     |█████▋                          | 194kB 4.6MB/s eta 0:00:01\r\u001b[K     |██████                          | 204kB 4.6MB/s eta 0:00:01\r\u001b[K     |██████▎                         | 215kB 4.6MB/s eta 0:00:01\r\u001b[K     |██████▌                         | 225kB 4.6MB/s eta 0:00:01\r\u001b[K     |██████▉                         | 235kB 4.6MB/s eta 0:00:01\r\u001b[K     |███████▏                        | 245kB 4.6MB/s eta 0:00:01\r\u001b[K     |███████▌                        | 256kB 4.6MB/s eta 0:00:01\r\u001b[K     |███████▊                        | 266kB 4.6MB/s eta 0:00:01\r\u001b[K     |████████                        | 276kB 4.6MB/s eta 0:00:01\r\u001b[K     |████████▍                       | 286kB 4.6MB/s eta 0:00:01\r\u001b[K     |████████▋                       | 296kB 4.6MB/s eta 0:00:01\r\u001b[K     |█████████                       | 307kB 4.6MB/s eta 0:00:01\r\u001b[K     |█████████▎                      | 317kB 4.6MB/s eta 0:00:01\r\u001b[K     |█████████▌                      | 327kB 4.6MB/s eta 0:00:01\r\u001b[K     |█████████▉                      | 337kB 4.6MB/s eta 0:00:01\r\u001b[K     |██████████▏                     | 348kB 4.6MB/s eta 0:00:01\r\u001b[K     |██████████▍                     | 358kB 4.6MB/s eta 0:00:01\r\u001b[K     |██████████▊                     | 368kB 4.6MB/s eta 0:00:01\r\u001b[K     |███████████                     | 378kB 4.6MB/s eta 0:00:01\r\u001b[K     |███████████▎                    | 389kB 4.6MB/s eta 0:00:01\r\u001b[K     |███████████▋                    | 399kB 4.6MB/s eta 0:00:01\r\u001b[K     |████████████                    | 409kB 4.6MB/s eta 0:00:01\r\u001b[K     |████████████▏                   | 419kB 4.6MB/s eta 0:00:01\r\u001b[K     |████████████▌                   | 430kB 4.6MB/s eta 0:00:01\r\u001b[K     |████████████▉                   | 440kB 4.6MB/s eta 0:00:01\r\u001b[K     |█████████████                   | 450kB 4.6MB/s eta 0:00:01\r\u001b[K     |█████████████▍                  | 460kB 4.6MB/s eta 0:00:01\r\u001b[K     |█████████████▊                  | 471kB 4.6MB/s eta 0:00:01\r\u001b[K     |██████████████                  | 481kB 4.6MB/s eta 0:00:01\r\u001b[K     |██████████████▎                 | 491kB 4.6MB/s eta 0:00:01\r\u001b[K     |██████████████▋                 | 501kB 4.6MB/s eta 0:00:01\r\u001b[K     |███████████████                 | 512kB 4.6MB/s eta 0:00:01\r\u001b[K     |███████████████▏                | 522kB 4.6MB/s eta 0:00:01\r\u001b[K     |███████████████▌                | 532kB 4.6MB/s eta 0:00:01\r\u001b[K     |███████████████▉                | 542kB 4.6MB/s eta 0:00:01\r\u001b[K     |████████████████                | 552kB 4.6MB/s eta 0:00:01\r\u001b[K     |████████████████▍               | 563kB 4.6MB/s eta 0:00:01\r\u001b[K     |████████████████▊               | 573kB 4.6MB/s eta 0:00:01\r\u001b[K     |█████████████████               | 583kB 4.6MB/s eta 0:00:01\r\u001b[K     |█████████████████▎              | 593kB 4.6MB/s eta 0:00:01\r\u001b[K     |█████████████████▋              | 604kB 4.6MB/s eta 0:00:01\r\u001b[K     |█████████████████▉              | 614kB 4.6MB/s eta 0:00:01\r\u001b[K     |██████████████████▏             | 624kB 4.6MB/s eta 0:00:01\r\u001b[K     |██████████████████▌             | 634kB 4.6MB/s eta 0:00:01\r\u001b[K     |██████████████████▊             | 645kB 4.6MB/s eta 0:00:01\r\u001b[K     |███████████████████             | 655kB 4.6MB/s eta 0:00:01\r\u001b[K     |███████████████████▍            | 665kB 4.6MB/s eta 0:00:01\r\u001b[K     |███████████████████▋            | 675kB 4.6MB/s eta 0:00:01\r\u001b[K     |████████████████████            | 686kB 4.6MB/s eta 0:00:01\r\u001b[K     |████████████████████▎           | 696kB 4.6MB/s eta 0:00:01\r\u001b[K     |████████████████████▌           | 706kB 4.6MB/s eta 0:00:01\r\u001b[K     |████████████████████▉           | 716kB 4.6MB/s eta 0:00:01\r\u001b[K     |█████████████████████▏          | 727kB 4.6MB/s eta 0:00:01\r\u001b[K     |█████████████████████▍          | 737kB 4.6MB/s eta 0:00:01\r\u001b[K     |█████████████████████▊          | 747kB 4.6MB/s eta 0:00:01\r\u001b[K     |██████████████████████          | 757kB 4.6MB/s eta 0:00:01\r\u001b[K     |██████████████████████▍         | 768kB 4.6MB/s eta 0:00:01\r\u001b[K     |██████████████████████▋         | 778kB 4.6MB/s eta 0:00:01\r\u001b[K     |███████████████████████         | 788kB 4.6MB/s eta 0:00:01\r\u001b[K     |███████████████████████▎        | 798kB 4.6MB/s eta 0:00:01\r\u001b[K     |███████████████████████▌        | 808kB 4.6MB/s eta 0:00:01\r\u001b[K     |███████████████████████▉        | 819kB 4.6MB/s eta 0:00:01\r\u001b[K     |████████████████████████▏       | 829kB 4.6MB/s eta 0:00:01\r\u001b[K     |████████████████████████▍       | 839kB 4.6MB/s eta 0:00:01\r\u001b[K     |████████████████████████▊       | 849kB 4.6MB/s eta 0:00:01\r\u001b[K     |█████████████████████████       | 860kB 4.6MB/s eta 0:00:01\r\u001b[K     |█████████████████████████▎      | 870kB 4.6MB/s eta 0:00:01\r\u001b[K     |█████████████████████████▋      | 880kB 4.6MB/s eta 0:00:01\r\u001b[K     |██████████████████████████      | 890kB 4.6MB/s eta 0:00:01\r\u001b[K     |██████████████████████████▏     | 901kB 4.6MB/s eta 0:00:01\r\u001b[K     |██████████████████████████▌     | 911kB 4.6MB/s eta 0:00:01\r\u001b[K     |██████████████████████████▉     | 921kB 4.6MB/s eta 0:00:01\r\u001b[K     |███████████████████████████     | 931kB 4.6MB/s eta 0:00:01\r\u001b[K     |███████████████████████████▍    | 942kB 4.6MB/s eta 0:00:01\r\u001b[K     |███████████████████████████▊    | 952kB 4.6MB/s eta 0:00:01\r\u001b[K     |████████████████████████████    | 962kB 4.6MB/s eta 0:00:01\r\u001b[K     |████████████████████████████▎   | 972kB 4.6MB/s eta 0:00:01\r\u001b[K     |████████████████████████████▋   | 983kB 4.6MB/s eta 0:00:01\r\u001b[K     |████████████████████████████▉   | 993kB 4.6MB/s eta 0:00:01\r\u001b[K     |█████████████████████████████▏  | 1.0MB 4.6MB/s eta 0:00:01\r\u001b[K     |█████████████████████████████▌  | 1.0MB 4.6MB/s eta 0:00:01\r\u001b[K     |█████████████████████████████▉  | 1.0MB 4.6MB/s eta 0:00:01\r\u001b[K     |██████████████████████████████  | 1.0MB 4.6MB/s eta 0:00:01\r\u001b[K     |██████████████████████████████▍ | 1.0MB 4.6MB/s eta 0:00:01\r\u001b[K     |██████████████████████████████▊ | 1.1MB 4.6MB/s eta 0:00:01\r\u001b[K     |███████████████████████████████ | 1.1MB 4.6MB/s eta 0:00:01\r\u001b[K     |███████████████████████████████▎| 1.1MB 4.6MB/s eta 0:00:01\r\u001b[K     |███████████████████████████████▋| 1.1MB 4.6MB/s eta 0:00:01\r\u001b[K     |███████████████████████████████▉| 1.1MB 4.6MB/s eta 0:00:01\r\u001b[K     |████████████████████████████████| 1.1MB 4.6MB/s \n",
            "\u001b[?25h"
          ],
          "name": "stdout"
        }
      ]
    },
    {
      "cell_type": "code",
      "metadata": {
        "id": "e9U3hkDPF_kT",
        "colab_type": "code",
        "colab": {}
      },
      "source": [
        "import numpy as np\n",
        "import tensorflow as tf\n",
        "import tensorflow_addons as tfa\n",
        "from matplotlib import pyplot as plt"
      ],
      "execution_count": 2,
      "outputs": []
    },
    {
      "cell_type": "code",
      "metadata": {
        "id": "LTQmZIbfGHwr",
        "colab_type": "code",
        "colab": {}
      },
      "source": [
        "batch_size = 32\n",
        "epochs = 10\n",
        "num_classes = 10"
      ],
      "execution_count": 3,
      "outputs": []
    },
    {
      "cell_type": "code",
      "metadata": {
        "id": "yzGxTVZPGIfe",
        "colab_type": "code",
        "colab": {}
      },
      "source": [
        "# Standard ConvNet\n",
        "reg_model = tf.keras.Sequential([\n",
        "    tf.keras.layers.Conv2D(6, 5, activation = 'relu'),\n",
        "    tf.keras.layers.MaxPooling2D(2, 2),\n",
        "    tf.keras.layers.Conv2D(16, 5, activation = 'relu'),\n",
        "    tf.keras.layers.MaxPooling2D(2, 2),\n",
        "    tf.keras.layers.Flatten(),\n",
        "    tf.keras.layers.Dense(120, activation = 'relu'),\n",
        "    tf.keras.layers.Dense(84, activation = 'relu'),\n",
        "    tf.keras.layers.Dense(num_classes, activation = 'softmax'),\n",
        "])\n",
        "\n",
        "# WeightNorm ConvNet\n",
        "wn_model = tf.keras.Sequential([\n",
        "    tfa.layers.WeightNormalization(tf.keras.layers.Conv2D(6, 5, activation = 'relu')),\n",
        "    tf.keras.layers.MaxPooling2D(2, 2),\n",
        "    tfa.layers.WeightNormalization(tf.keras.layers.Conv2D(16, 5, activation = 'relu')),\n",
        "    tf.keras.layers.MaxPooling2D(2, 2),\n",
        "    tf.keras.layers.Flatten(),\n",
        "    tfa.layers.WeightNormalization(tf.keras.layers.Dense(120, activation = 'relu')),\n",
        "    tfa.layers.WeightNormalization(tf.keras.layers.Dense(84, activation = 'relu')),\n",
        "    tfa.layers.WeightNormalization(tf.keras.layers.Dense(num_classes, activation = 'softmax')),\n",
        "])"
      ],
      "execution_count": 4,
      "outputs": []
    },
    {
      "cell_type": "code",
      "metadata": {
        "id": "6KpM4dDOGhEW",
        "colab_type": "code",
        "colab": {
          "base_uri": "https://localhost:8080/",
          "height": 51
        },
        "outputId": "827d43ed-d7b9-468b-84c8-219a1f0ff0f8"
      },
      "source": [
        "# Load Data\n",
        "\n",
        "(x_train, y_train), (x_test, y_test) = tf.keras.datasets.cifar10.load_data()\n",
        "\n",
        "y_train = tf.keras.utils.to_categorical(y_train, num_classes)\n",
        "y_test = tf.keras.utils.to_categorical(y_test, num_classes)\n",
        "\n",
        "x_train = x_train.astype('float32')\n",
        "x_test = x_test.astype('float32')\n",
        "x_train /= 255\n",
        "x_test /= 255"
      ],
      "execution_count": 5,
      "outputs": [
        {
          "output_type": "stream",
          "text": [
            "Downloading data from https://www.cs.toronto.edu/~kriz/cifar-10-python.tar.gz\n",
            "170500096/170498071 [==============================] - 4s 0us/step\n"
          ],
          "name": "stdout"
        }
      ]
    },
    {
      "cell_type": "code",
      "metadata": {
        "id": "os9NxhuvGopD",
        "colab_type": "code",
        "colab": {
          "base_uri": "https://localhost:8080/",
          "height": 697
        },
        "outputId": "c35e21c4-6ac1-44f8-894b-ee9e1081440c"
      },
      "source": [
        "# Train Models\n",
        "\n",
        "reg_model.compile(optimizer = 'adam', \n",
        "                  loss = 'categorical_crossentropy',\n",
        "                  metrics = ['accuracy'])\n",
        "\n",
        "reg_history = reg_model.fit(x_train, y_train,\n",
        "                            batch_size = batch_size,\n",
        "                            epochs = epochs,\n",
        "                            validation_data = (x_test, y_test),\n",
        "                            shuffle = True)\n",
        "\n",
        "wn_model.compile(optimizer = 'adam', \n",
        "                 loss = 'categorical_crossentropy',\n",
        "                 metrics = ['accuracy'])\n",
        "\n",
        "wn_history = wn_model.fit(x_train, y_train,\n",
        "                          batch_size = batch_size,\n",
        "                          epochs = epochs,\n",
        "                          validation_data = (x_test, y_test),\n",
        "                          shuffle = True)"
      ],
      "execution_count": 6,
      "outputs": [
        {
          "output_type": "stream",
          "text": [
            "Epoch 1/10\n",
            "1563/1563 [==============================] - 6s 4ms/step - loss: 1.6224 - accuracy: 0.4075 - val_loss: 1.4023 - val_accuracy: 0.4970\n",
            "Epoch 2/10\n",
            "1563/1563 [==============================] - 6s 4ms/step - loss: 1.3497 - accuracy: 0.5145 - val_loss: 1.3382 - val_accuracy: 0.5145\n",
            "Epoch 3/10\n",
            "1563/1563 [==============================] - 6s 4ms/step - loss: 1.2430 - accuracy: 0.5569 - val_loss: 1.2170 - val_accuracy: 0.5679\n",
            "Epoch 4/10\n",
            "1563/1563 [==============================] - 6s 4ms/step - loss: 1.1727 - accuracy: 0.5812 - val_loss: 1.2186 - val_accuracy: 0.5654\n",
            "Epoch 5/10\n",
            "1563/1563 [==============================] - 6s 4ms/step - loss: 1.1154 - accuracy: 0.6028 - val_loss: 1.1758 - val_accuracy: 0.5831\n",
            "Epoch 6/10\n",
            "1563/1563 [==============================] - 5s 4ms/step - loss: 1.0664 - accuracy: 0.6204 - val_loss: 1.1396 - val_accuracy: 0.6008\n",
            "Epoch 7/10\n",
            "1563/1563 [==============================] - 6s 4ms/step - loss: 1.0241 - accuracy: 0.6372 - val_loss: 1.1190 - val_accuracy: 0.6048\n",
            "Epoch 8/10\n",
            "1563/1563 [==============================] - 6s 4ms/step - loss: 0.9797 - accuracy: 0.6524 - val_loss: 1.1427 - val_accuracy: 0.6044\n",
            "Epoch 9/10\n",
            "1563/1563 [==============================] - 6s 4ms/step - loss: 0.9422 - accuracy: 0.6653 - val_loss: 1.1606 - val_accuracy: 0.5977\n",
            "Epoch 10/10\n",
            "1563/1563 [==============================] - 5s 3ms/step - loss: 0.9127 - accuracy: 0.6740 - val_loss: 1.1715 - val_accuracy: 0.5910\n",
            "Epoch 1/10\n",
            "1563/1563 [==============================] - 9s 6ms/step - loss: 1.5841 - accuracy: 0.4217 - val_loss: 1.4249 - val_accuracy: 0.4870\n",
            "Epoch 2/10\n",
            "1563/1563 [==============================] - 10s 6ms/step - loss: 1.3336 - accuracy: 0.5202 - val_loss: 1.3805 - val_accuracy: 0.5100\n",
            "Epoch 3/10\n",
            "1563/1563 [==============================] - 9s 6ms/step - loss: 1.2227 - accuracy: 0.5645 - val_loss: 1.2213 - val_accuracy: 0.5670\n",
            "Epoch 4/10\n",
            "1563/1563 [==============================] - 10s 6ms/step - loss: 1.1546 - accuracy: 0.5878 - val_loss: 1.2236 - val_accuracy: 0.5670\n",
            "Epoch 5/10\n",
            "1563/1563 [==============================] - 9s 6ms/step - loss: 1.0874 - accuracy: 0.6121 - val_loss: 1.1601 - val_accuracy: 0.5911\n",
            "Epoch 6/10\n",
            "1563/1563 [==============================] - 9s 6ms/step - loss: 1.0405 - accuracy: 0.6286 - val_loss: 1.1399 - val_accuracy: 0.5988\n",
            "Epoch 7/10\n",
            "1563/1563 [==============================] - 9s 6ms/step - loss: 0.9891 - accuracy: 0.6496 - val_loss: 1.1361 - val_accuracy: 0.6002\n",
            "Epoch 8/10\n",
            "1563/1563 [==============================] - 9s 6ms/step - loss: 0.9519 - accuracy: 0.6619 - val_loss: 1.1480 - val_accuracy: 0.6025\n",
            "Epoch 9/10\n",
            "1563/1563 [==============================] - 9s 6ms/step - loss: 0.9154 - accuracy: 0.6756 - val_loss: 1.1122 - val_accuracy: 0.6075\n",
            "Epoch 10/10\n",
            "1563/1563 [==============================] - 9s 6ms/step - loss: 0.8771 - accuracy: 0.6886 - val_loss: 1.1417 - val_accuracy: 0.6085\n"
          ],
          "name": "stdout"
        }
      ]
    },
    {
      "cell_type": "code",
      "metadata": {
        "id": "KtV8wp2JHFhH",
        "colab_type": "code",
        "colab": {
          "base_uri": "https://localhost:8080/",
          "height": 281
        },
        "outputId": "1e055607-e6ef-4d68-e346-20ecd82e9c3c"
      },
      "source": [
        "reg_accuracy = reg_history.history['accuracy']\n",
        "wn_accuracy = wn_history.history['accuracy']\n",
        "\n",
        "plt.plot(np.linspace(0, epochs,  epochs), reg_accuracy,\n",
        "             color = 'red', label = 'Regular ConvNet')\n",
        "\n",
        "plt.plot(np.linspace(0, epochs, epochs), wn_accuracy,\n",
        "         color = 'blue', label = 'WeightNorm ConvNet')\n",
        "\n",
        "plt.title('WeightNorm Accuracy Comparison')\n",
        "plt.legend()\n",
        "plt.grid(True)\n",
        "plt.show()"
      ],
      "execution_count": 7,
      "outputs": [
        {
          "output_type": "display_data",
          "data": {
            "image/png": "[encoded data removed]",
            "text/plain": [
              "<Figure size 432x288 with 1 Axes>"
            ]
          },
          "metadata": {
            "tags": [],
            "needs_background": "light"
          }
        }
      ]
    }
  ]
}