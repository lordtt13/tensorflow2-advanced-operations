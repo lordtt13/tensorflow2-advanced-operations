{
  "nbformat": 4,
  "nbformat_minor": 0,
  "metadata": {
    "colab": {
      "name": "Multilingual Universal Sentence Encoder Q&A Retrieval.ipynb",
      "provenance": []
    },
    "kernelspec": {
      "name": "python3",
      "display_name": "Python 3"
    },
    "accelerator": "GPU"
  },
  "cells": [
    {
      "cell_type": "code",
      "metadata": {
        "id": "JZu7MrS01cH3",
        "colab_type": "code",
        "colab": {}
      },
      "source": [
        "import os\n",
        "import json\n",
        "import nltk\n",
        "import pprint\n",
        "import random\n",
        "import urllib\n",
        "import simpleneighbors\n",
        "\n",
        "import tensorflow_hub as hub\n",
        "import tensorflow.compat.v2 as tf\n",
        "\n",
        "from tqdm.notebook import tqdm\n",
        "from IPython.display import HTML, display\n",
        "from tensorflow_text import SentencepieceTokenizer"
      ],
      "execution_count": 1,
      "outputs": []
    },
    {
      "cell_type": "code",
      "metadata": {
        "id": "h6EBPru_2H-t",
        "colab_type": "code",
        "colab": {}
      },
      "source": [
        "def download_squad(url):\n",
        "  return json.load(urllib.request.urlopen(url))\n",
        "\n",
        "def extract_sentences_from_squad_json(squad):\n",
        "  all_sentences = []\n",
        "  for data in squad['data']:\n",
        "    for paragraph in data['paragraphs']:\n",
        "      sentences = nltk.tokenize.sent_tokenize(paragraph['context'])\n",
        "      all_sentences.extend(zip(sentences, [paragraph['context']] * len(sentences)))\n",
        "  return list(set(all_sentences)) # remove duplicates\n",
        "\n",
        "def extract_questions_from_squad_json(squad):\n",
        "  questions = []\n",
        "  for data in squad['data']:\n",
        "    for paragraph in data['paragraphs']:\n",
        "      for qas in paragraph['qas']:\n",
        "        if qas['answers']:\n",
        "          questions.append((qas['question'], qas['answers'][0]['text']))\n",
        "  return list(set(questions))\n",
        "\n",
        "def output_with_highlight(text, highlight):\n",
        "  output = \"<li> \"\n",
        "  i = text.find(highlight)\n",
        "  while True:\n",
        "    if i == -1:\n",
        "      output += text\n",
        "      break\n",
        "    output += text[0:i]\n",
        "    output += '<b>'+text[i:i+len(highlight)]+'</b>'\n",
        "    text = text[i+len(highlight):]\n",
        "    i = text.find(highlight)\n",
        "  return output + \"</li>\\n\"\n",
        "\n",
        "def display_nearest_neighbors(query_text, answer_text=None):\n",
        "  query_embedding = model.signatures['question_encoder'](tf.constant([query_text]))['outputs'][0]\n",
        "  search_results = index.nearest(query_embedding, n = num_results)\n",
        "\n",
        "  if answer_text:\n",
        "    result_md = '''\n",
        "    <p>Random Question from SQuAD:</p>\n",
        "    <p>&nbsp;&nbsp;<b>%s</b></p>\n",
        "    <p>Answer:</p>\n",
        "    <p>&nbsp;&nbsp;<b>%s</b></p>\n",
        "    ''' % (query_text , answer_text)\n",
        "  else:\n",
        "    result_md = '''\n",
        "    <p>Question:</p>\n",
        "    <p>&nbsp;&nbsp;<b>%s</b></p>\n",
        "    ''' % query_text\n",
        "\n",
        "  result_md += '''\n",
        "    <p>Retrieved sentences :\n",
        "    <ol>\n",
        "  '''\n",
        "\n",
        "  if answer_text:\n",
        "    for s in search_results:\n",
        "      result_md += output_with_highlight(s, answer_text)\n",
        "  else:\n",
        "    for s in search_results:\n",
        "      result_md += '<li>' + s + '</li>\\n'\n",
        "\n",
        "  result_md += \"</ol>\"\n",
        "  display(HTML(result_md))"
      ],
      "execution_count": 2,
      "outputs": []
    },
    {
      "cell_type": "code",
      "metadata": {
        "id": "O1tzSbHD2bhZ",
        "colab_type": "code",
        "colab": {}
      },
      "source": [
        ""
      ],
      "execution_count": null,
      "outputs": []
    }
  ]
}