{
  "nbformat": 4,
  "nbformat_minor": 0,
  "metadata": {
    "colab": {
      "name": "Multilingual Universal Sentence Encoder Q&A Retrieval.ipynb",
      "provenance": []
    },
    "kernelspec": {
      "name": "python3",
      "display_name": "Python 3"
    },
    "accelerator": "GPU",
    "widgets": {
      "application/vnd.jupyter.widget-state+json": {
        "316566deb8e34176b55cb5637d2d117a": {
          "model_module": "@jupyter-widgets/controls",
          "model_name": "HBoxModel",
          "state": {
            "_view_name": "HBoxView",
            "_dom_classes": [],
            "_model_name": "HBoxModel",
            "_view_module": "@jupyter-widgets/controls",
            "_model_module_version": "1.5.0",
            "_view_count": null,
            "_view_module_version": "1.5.0",
            "box_style": "",
            "layout": "IPY_MODEL_438775d330544447ba6fbfae23e78fa1",
            "_model_module": "@jupyter-widgets/controls",
            "children": [
              "IPY_MODEL_7c2916881c4641978afbdfc42d03d106",
              "IPY_MODEL_833c9cf27aa7467abd2070ac8b4b284f"
            ]
          }
        },
        "438775d330544447ba6fbfae23e78fa1": {
          "model_module": "@jupyter-widgets/base",
          "model_name": "LayoutModel",
          "state": {
            "_view_name": "LayoutView",
            "grid_template_rows": null,
            "right": null,
            "justify_content": null,
            "_view_module": "@jupyter-widgets/base",
            "overflow": null,
            "_model_module_version": "1.2.0",
            "_view_count": null,
            "flex_flow": null,
            "width": null,
            "min_width": null,
            "border": null,
            "align_items": null,
            "bottom": null,
            "_model_module": "@jupyter-widgets/base",
            "top": null,
            "grid_column": null,
            "overflow_y": null,
            "overflow_x": null,
            "grid_auto_flow": null,
            "grid_area": null,
            "grid_template_columns": null,
            "flex": null,
            "_model_name": "LayoutModel",
            "justify_items": null,
            "grid_row": null,
            "max_height": null,
            "align_content": null,
            "visibility": null,
            "align_self": null,
            "height": null,
            "min_height": null,
            "padding": null,
            "grid_auto_rows": null,
            "grid_gap": null,
            "max_width": null,
            "order": null,
            "_view_module_version": "1.2.0",
            "grid_template_areas": null,
            "object_position": null,
            "object_fit": null,
            "grid_auto_columns": null,
            "margin": null,
            "display": null,
            "left": null
          }
        },
        "7c2916881c4641978afbdfc42d03d106": {
          "model_module": "@jupyter-widgets/controls",
          "model_name": "FloatProgressModel",
          "state": {
            "_view_name": "ProgressView",
            "style": "IPY_MODEL_4b5ae8b8c6d2436d8b42574ba7fa2481",
            "_dom_classes": [],
            "description": "100%",
            "_model_name": "FloatProgressModel",
            "bar_style": "success",
            "max": 104,
            "_view_module": "@jupyter-widgets/controls",
            "_model_module_version": "1.5.0",
            "value": 104,
            "_view_count": null,
            "_view_module_version": "1.5.0",
            "orientation": "horizontal",
            "min": 0,
            "description_tooltip": null,
            "_model_module": "@jupyter-widgets/controls",
            "layout": "IPY_MODEL_cb00654c8caf46528c9542f1781d7582"
          }
        },
        "833c9cf27aa7467abd2070ac8b4b284f": {
          "model_module": "@jupyter-widgets/controls",
          "model_name": "HTMLModel",
          "state": {
            "_view_name": "HTMLView",
            "style": "IPY_MODEL_3281cd90a7f24dd8bde38d28d6d72c05",
            "_dom_classes": [],
            "description": "",
            "_model_name": "HTMLModel",
            "placeholder": "​",
            "_view_module": "@jupyter-widgets/controls",
            "_model_module_version": "1.5.0",
            "value": " 104/104 [23:15&lt;00:00, 13.42s/it]",
            "_view_count": null,
            "_view_module_version": "1.5.0",
            "description_tooltip": null,
            "_model_module": "@jupyter-widgets/controls",
            "layout": "IPY_MODEL_d08fda098f53499da70a9a1e13f27a9d"
          }
        },
        "4b5ae8b8c6d2436d8b42574ba7fa2481": {
          "model_module": "@jupyter-widgets/controls",
          "model_name": "ProgressStyleModel",
          "state": {
            "_view_name": "StyleView",
            "_model_name": "ProgressStyleModel",
            "description_width": "initial",
            "_view_module": "@jupyter-widgets/base",
            "_model_module_version": "1.5.0",
            "_view_count": null,
            "_view_module_version": "1.2.0",
            "bar_color": null,
            "_model_module": "@jupyter-widgets/controls"
          }
        },
        "cb00654c8caf46528c9542f1781d7582": {
          "model_module": "@jupyter-widgets/base",
          "model_name": "LayoutModel",
          "state": {
            "_view_name": "LayoutView",
            "grid_template_rows": null,
            "right": null,
            "justify_content": null,
            "_view_module": "@jupyter-widgets/base",
            "overflow": null,
            "_model_module_version": "1.2.0",
            "_view_count": null,
            "flex_flow": null,
            "width": null,
            "min_width": null,
            "border": null,
            "align_items": null,
            "bottom": null,
            "_model_module": "@jupyter-widgets/base",
            "top": null,
            "grid_column": null,
            "overflow_y": null,
            "overflow_x": null,
            "grid_auto_flow": null,
            "grid_area": null,
            "grid_template_columns": null,
            "flex": null,
            "_model_name": "LayoutModel",
            "justify_items": null,
            "grid_row": null,
            "max_height": null,
            "align_content": null,
            "visibility": null,
            "align_self": null,
            "height": null,
            "min_height": null,
            "padding": null,
            "grid_auto_rows": null,
            "grid_gap": null,
            "max_width": null,
            "order": null,
            "_view_module_version": "1.2.0",
            "grid_template_areas": null,
            "object_position": null,
            "object_fit": null,
            "grid_auto_columns": null,
            "margin": null,
            "display": null,
            "left": null
          }
        },
        "3281cd90a7f24dd8bde38d28d6d72c05": {
          "model_module": "@jupyter-widgets/controls",
          "model_name": "DescriptionStyleModel",
          "state": {
            "_view_name": "StyleView",
            "_model_name": "DescriptionStyleModel",
            "description_width": "",
            "_view_module": "@jupyter-widgets/base",
            "_model_module_version": "1.5.0",
            "_view_count": null,
            "_view_module_version": "1.2.0",
            "_model_module": "@jupyter-widgets/controls"
          }
        },
        "d08fda098f53499da70a9a1e13f27a9d": {
          "model_module": "@jupyter-widgets/base",
          "model_name": "LayoutModel",
          "state": {
            "_view_name": "LayoutView",
            "grid_template_rows": null,
            "right": null,
            "justify_content": null,
            "_view_module": "@jupyter-widgets/base",
            "overflow": null,
            "_model_module_version": "1.2.0",
            "_view_count": null,
            "flex_flow": null,
            "width": null,
            "min_width": null,
            "border": null,
            "align_items": null,
            "bottom": null,
            "_model_module": "@jupyter-widgets/base",
            "top": null,
            "grid_column": null,
            "overflow_y": null,
            "overflow_x": null,
            "grid_auto_flow": null,
            "grid_area": null,
            "grid_template_columns": null,
            "flex": null,
            "_model_name": "LayoutModel",
            "justify_items": null,
            "grid_row": null,
            "max_height": null,
            "align_content": null,
            "visibility": null,
            "align_self": null,
            "height": null,
            "min_height": null,
            "padding": null,
            "grid_auto_rows": null,
            "grid_gap": null,
            "max_width": null,
            "order": null,
            "_view_module_version": "1.2.0",
            "grid_template_areas": null,
            "object_position": null,
            "object_fit": null,
            "grid_auto_columns": null,
            "margin": null,
            "display": null,
            "left": null
          }
        }
      }
    }
  },
  "cells": [
    {
      "cell_type": "code",
      "metadata": {
        "id": "JZu7MrS01cH3",
        "colab_type": "code",
        "colab": {}
      },
      "source": [
        "import os\n",
        "import json\n",
        "import nltk\n",
        "import pprint\n",
        "import random\n",
        "import urllib\n",
        "import simpleneighbors\n",
        "\n",
        "import tensorflow_hub as hub\n",
        "import tensorflow.compat.v2 as tf\n",
        "\n",
        "from tqdm.notebook import tqdm\n",
        "from IPython.display import HTML, display\n",
        "from tensorflow_text import SentencepieceTokenizer"
      ],
      "execution_count": 1,
      "outputs": []
    },
    {
      "cell_type": "code",
      "metadata": {
        "id": "h6EBPru_2H-t",
        "colab_type": "code",
        "colab": {}
      },
      "source": [
        "def download_squad(url):\n",
        "  return json.load(urllib.request.urlopen(url))\n",
        "\n",
        "def extract_sentences_from_squad_json(squad):\n",
        "  all_sentences = []\n",
        "  for data in squad['data']:\n",
        "    for paragraph in data['paragraphs']:\n",
        "      sentences = nltk.tokenize.sent_tokenize(paragraph['context'])\n",
        "      all_sentences.extend(zip(sentences, [paragraph['context']] * len(sentences)))\n",
        "  return list(set(all_sentences)) # remove duplicates\n",
        "\n",
        "def extract_questions_from_squad_json(squad):\n",
        "  questions = []\n",
        "  for data in squad['data']:\n",
        "    for paragraph in data['paragraphs']:\n",
        "      for qas in paragraph['qas']:\n",
        "        if qas['answers']:\n",
        "          questions.append((qas['question'], qas['answers'][0]['text']))\n",
        "  return list(set(questions))\n",
        "\n",
        "def output_with_highlight(text, highlight):\n",
        "  output = \"<li> \"\n",
        "  i = text.find(highlight)\n",
        "  while True:\n",
        "    if i == -1:\n",
        "      output += text\n",
        "      break\n",
        "    output += text[0:i]\n",
        "    output += '<b>'+text[i:i+len(highlight)]+'</b>'\n",
        "    text = text[i+len(highlight):]\n",
        "    i = text.find(highlight)\n",
        "  return output + \"</li>\\n\"\n",
        "\n",
        "def display_nearest_neighbors(query_text, answer_text = None):\n",
        "  query_embedding = model.signatures['question_encoder'](tf.constant([query_text]))['outputs'][0]\n",
        "  search_results = index.nearest(query_embedding, n = num_results)\n",
        "\n",
        "  if answer_text:\n",
        "    result_md = '''\n",
        "    <p>Random Question from SQuAD:</p>\n",
        "    <p>&nbsp;&nbsp;<b>%s</b></p>\n",
        "    <p>Answer:</p>\n",
        "    <p>&nbsp;&nbsp;<b>%s</b></p>\n",
        "    ''' % (query_text , answer_text)\n",
        "  else:\n",
        "    result_md = '''\n",
        "    <p>Question:</p>\n",
        "    <p>&nbsp;&nbsp;<b>%s</b></p>\n",
        "    ''' % query_text\n",
        "\n",
        "  result_md += '''\n",
        "    <p>Retrieved sentences :\n",
        "    <ol>\n",
        "  '''\n",
        "\n",
        "  if answer_text:\n",
        "    for s in search_results:\n",
        "      result_md += output_with_highlight(s, answer_text)\n",
        "  else:\n",
        "    for s in search_results:\n",
        "      result_md += '<li>' + s + '</li>\\n'\n",
        "\n",
        "  result_md += \"</ol>\"\n",
        "  display(HTML(result_md))"
      ],
      "execution_count": 2,
      "outputs": []
    },
    {
      "cell_type": "markdown",
      "metadata": {
        "id": "RbRfsBHa3M5U",
        "colab_type": "text"
      },
      "source": [
        "sentences is a list of (text, context) tuples - each paragraph from the SQuAD dataset are splitted into sentences using nltk library and the sentence and paragraph text forms the (text, context) tuple.\n",
        "questions is a list of (question, answer) tuples."
      ]
    },
    {
      "cell_type": "code",
      "metadata": {
        "id": "O1tzSbHD2bhZ",
        "colab_type": "code",
        "colab": {
          "base_uri": "https://localhost:8080/",
          "height": 390
        },
        "outputId": "79362e0c-20f9-44eb-96f9-2840e59d1e49"
      },
      "source": [
        "\n",
        "squad_url = 'https://rajpurkar.github.io/SQuAD-explorer/dataset/dev-v1.1.json' \n",
        "\n",
        "squad_json = download_squad(squad_url)\n",
        "sentences = extract_sentences_from_squad_json(squad_json)\n",
        "questions = extract_questions_from_squad_json(squad_json)\n",
        "print(\"%s sentences, %s questions extracted from SQuAD %s\" % (len(sentences), len(questions), squad_url))\n",
        "\n",
        "print(\"\\nExample sentence and context:\\n\")\n",
        "sentence = random.choice(sentences)\n",
        "print(\"sentence:\\n\")\n",
        "pprint.pprint(sentence[0])\n",
        "print(\"\\ncontext:\\n\")\n",
        "pprint.pprint(sentence[1])\n",
        "print()"
      ],
      "execution_count": 3,
      "outputs": [
        {
          "output_type": "stream",
          "text": [
            "10455 sentences, 10552 questions extracted from SQuAD https://rajpurkar.github.io/SQuAD-explorer/dataset/dev-v1.1.json\n",
            "\n",
            "Example sentence and context:\n",
            "\n",
            "sentence:\n",
            "\n",
            "(\"Holden's announcement occurred in May 2013, followed by Ford's decision in \"\n",
            " \"December of the same year (Ford's Victorian plants—in Broadmeadows and \"\n",
            " 'Geelong—will close in October 2016).')\n",
            "\n",
            "context:\n",
            "\n",
            "('Historically, Victoria has been the base for the manufacturing plants of the '\n",
            " 'major car brands Ford, Toyota and Holden; however, closure announcements by '\n",
            " 'all three companies in the 21st century will mean that Australia will no '\n",
            " \"longer be a base for the global car industry, with Toyota's statement in \"\n",
            " \"February 2014 outlining a closure year of 2017. Holden's announcement \"\n",
            " \"occurred in May 2013, followed by Ford's decision in December of the same \"\n",
            " \"year (Ford's Victorian plants—in Broadmeadows and Geelong—will close in \"\n",
            " 'October 2016).')\n",
            "\n"
          ],
          "name": "stdout"
        }
      ]
    },
    {
      "cell_type": "code",
      "metadata": {
        "id": "FTLzvQdX2jiA",
        "colab_type": "code",
        "colab": {}
      },
      "source": [
        "# Load the hub module\n",
        "\n",
        "module_url = \"https://tfhub.dev/google/universal-sentence-encoder-multilingual-qa/3\" \n",
        "model = hub.load(module_url)"
      ],
      "execution_count": 4,
      "outputs": []
    },
    {
      "cell_type": "code",
      "metadata": {
        "id": "6Trshs9y3doA",
        "colab_type": "code",
        "colab": {
          "base_uri": "https://localhost:8080/",
          "height": 102,
          "referenced_widgets": [
            "316566deb8e34176b55cb5637d2d117a",
            "438775d330544447ba6fbfae23e78fa1",
            "7c2916881c4641978afbdfc42d03d106",
            "833c9cf27aa7467abd2070ac8b4b284f",
            "4b5ae8b8c6d2436d8b42574ba7fa2481",
            "cb00654c8caf46528c9542f1781d7582",
            "3281cd90a7f24dd8bde38d28d6d72c05",
            "d08fda098f53499da70a9a1e13f27a9d"
          ]
        },
        "outputId": "98637a2b-c750-4cd0-b263-6cd68ee2b7d5"
      },
      "source": [
        "batch_size = 100\n",
        "\n",
        "encodings = model.signatures['response_encoder'](\n",
        "  input = tf.constant([sentences[0][0]]),\n",
        "  context = tf.constant([sentences[0][1]]))\n",
        "\n",
        "index = simpleneighbors.SimpleNeighbors(\n",
        "    len(encodings['outputs'][0]), metric = 'angular')\n",
        "\n",
        "print('Computing embeddings for %s sentences' % len(sentences))\n",
        "\n",
        "slices = zip(*(iter(sentences),) * batch_size)\n",
        "num_batches = int(len(sentences) / batch_size)\n",
        "\n",
        "for s in tqdm(slices, total = num_batches):\n",
        "  response_batch = list([r for r, c in s])\n",
        "  context_batch = list([c for r, c in s])\n",
        "  encodings = model.signatures['response_encoder'](\n",
        "    input = tf.constant(response_batch),\n",
        "    context = tf.constant(context_batch)\n",
        "  )\n",
        "  for batch_index, batch in enumerate(response_batch):\n",
        "    index.add_one(batch, encodings['outputs'][batch_index])\n",
        "\n",
        "index.build()\n",
        "print('simpleneighbors index for %s sentences built.' % len(sentences))\n"
      ],
      "execution_count": 5,
      "outputs": [
        {
          "output_type": "stream",
          "text": [
            "Computing embeddings for 10455 sentences\n"
          ],
          "name": "stdout"
        },
        {
          "output_type": "display_data",
          "data": {
            "application/vnd.jupyter.widget-view+json": {
              "model_id": "316566deb8e34176b55cb5637d2d117a",
              "version_minor": 0,
              "version_major": 2
            },
            "text/plain": [
              "HBox(children=(FloatProgress(value=0.0, max=104.0), HTML(value='')))"
            ]
          },
          "metadata": {
            "tags": []
          }
        },
        {
          "output_type": "stream",
          "text": [
            "\n",
            "simpleneighbors index for 10455 sentences built.\n"
          ],
          "name": "stdout"
        }
      ]
    },
    {
      "cell_type": "code",
      "metadata": {
        "id": "sCo2hgMm34g9",
        "colab_type": "code",
        "colab": {
          "base_uri": "https://localhost:8080/",
          "height": 607
        },
        "outputId": "21d9060d-df43-4f1d-c442-365139832745"
      },
      "source": [
        "## On retrieval, the question is encoded using the question_encoder and the question embedding is used to query the simpleneighbors index.\n",
        "\n",
        "\n",
        "num_results = 25 \n",
        "\n",
        "query = random.choice(questions)\n",
        "display_nearest_neighbors(query[0], query[1])"
      ],
      "execution_count": 6,
      "outputs": [
        {
          "output_type": "display_data",
          "data": {
            "text/html": [
              "\n",
              "    <p>Random Question from SQuAD:</p>\n",
              "    <p>&nbsp;&nbsp;<b>Which Doctor Who show was the largest simulcast of a TV drama?</b></p>\n",
              "    <p>Answer:</p>\n",
              "    <p>&nbsp;&nbsp;<b>50th anniversary special</b></p>\n",
              "    \n",
              "    <p>Retrieved sentences :\n",
              "    <ol>\n",
              "  <li> Doctor Who has appeared on stage numerous times.</li>\n",
              "<li> Nation's script became the second Doctor Who serial – The Daleks (a.k.a.</li>\n",
              "<li> Twelve actors have headlined the series as the Doctor.</li>\n",
              "<li> Doctor Who finally returned with the episode \"Rose\" on BBC One on 26 March 2005.</li>\n",
              "<li> In the Channel 4 series Queer as Folk (created by later Doctor Who executive producer Russell T. Davies), the character of Vince was portrayed as an avid Doctor Who fan, with references appearing many times throughout in the form of clips from the programme.</li>\n",
              "<li> In 2000, Doctor Who was ranked third in a list of the 100 Greatest British Television Programmes of the 20th century, produced by the British Film Institute and voted on by industry professionals.</li>\n",
              "<li> In 1996, BBC television held the \"Auntie Awards\" as the culmination of their \"TV60\" series, celebrating 60 years of BBC television broadcasting, where Doctor Who was voted as the \"Best Popular Drama\" the corporation had ever produced, ahead of such ratings heavyweights as EastEnders and Casualty.</li>\n",
              "<li> Doctor Who has always appeared initially on the BBC's mainstream BBC One channel, where it is regarded as a family show, drawing audiences of many millions of viewers; episodes are now repeated on BBC Three.</li>\n",
              "<li> One episode of Doctor Who (The Infinite Quest) was released on VCD.</li>\n",
              "<li> Jon Culshaw frequently impersonates the Fourth Doctor in the BBC Dead Ringers series.</li>\n",
              "<li> 826 Doctor Who instalments have been televised since 1963, ranging between 25-minute episodes (the most common format), 45-minute episodes (for Resurrection of the Daleks in the 1984 series, a single season in 1985, and the revival), two feature-length productions (1983's The Five Doctors and the 1996 television film), eight Christmas specials (most of 60 minutes' duration, one of 72 minutes), and four additional specials ranging from 60 to 75 minutes in 2009, 2010 and 2013.</li>\n",
              "<li> This included many old episodes of Doctor Who, mostly stories featuring the first two Doctors: William Hartnell and Patrick Troughton.</li>\n",
              "<li> In the late 1980s, Jon Pertwee and Colin Baker both played the Doctor at different times during the run of a play titled Doctor Who – The Ultimate Adventure.</li>\n",
              "<li> Doctor Who originally ran for 26 seasons on BBC One, from 23 November 1963 until 6 December 1989.</li>\n",
              "<li> Doctor Who has been nominated for over 200 awards and has won over a hundred of them.</li>\n",
              "<li> In addition to those actors who have headlined the series, others have portrayed versions of the Doctor in guest roles.</li>\n",
              "<li> A third in 2009 featured a crossover appearance from the main show by David Tennant as the Tenth Doctor.</li>\n",
              "<li> Since the creation of the Doctor Who character by BBC Television in the early 1960s, a myriad of stories have been published about Doctor Who, in different media: apart from the actual television episodes that continue to be produced by the BBC, there have also been novels, comics, short stories, audio books, radio plays, interactive video games, game books, webcasts, DVD extras, and even stage performances.</li>\n",
              "<li> In 2009, Doctor Who was voted the 3rd greatest show of the 2000s by Channel 4, behind Top Gear and The Apprentice.</li>\n",
              "<li> The earliest Doctor Who-related audio release was a 21-minute narrated abridgement of the First Doctor television story The Chase released in 1966.</li>\n",
              "<li> Additionally, multiple Doctors have returned in new adventures together in audio dramas based on the series.</li>\n",
              "<li> Doctor Who first appeared on BBC TV at 17:16:20 GMT, eighty seconds after the scheduled programme time, 5:15 pm, on Saturday, 23 November 1963.</li>\n",
              "<li> A second series of Torchwood aired in 2008; for three episodes, the cast was joined by Freema Agyeman reprising her Doctor Who role of Martha Jones.</li>\n",
              "<li> Other original plays have been staged as amateur productions, with other actors playing the Doctor, while Terry Nation wrote The Curse of the Daleks, a stage play mounted in the late 1960s, but without the Doctor.</li>\n",
              "<li> The first of these was the \"Dalekmania\" period (circa 1964–1965), when the popularity of the Daleks regularly brought Doctor Who ratings of between 9 and 14 million, even for stories which did not feature them.</li>\n",
              "</ol>"
            ],
            "text/plain": [
              "<IPython.core.display.HTML object>"
            ]
          },
          "metadata": {
            "tags": []
          }
        }
      ]
    },
    {
      "cell_type": "code",
      "metadata": {
        "id": "cDSzOVFy-lGS",
        "colab_type": "code",
        "colab": {}
      },
      "source": [
        ""
      ],
      "execution_count": null,
      "outputs": []
    }
  ]
}