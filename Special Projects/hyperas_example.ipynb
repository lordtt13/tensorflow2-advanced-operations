{
 "cells": [
  {
   "cell_type": "code",
   "execution_count": 1,
   "metadata": {},
   "outputs": [
    {
     "name": "stderr",
     "output_type": "stream",
     "text": [
      "Using TensorFlow backend.\n"
     ]
    }
   ],
   "source": [
    "import itertools\n",
    "\n",
    "import numpy as np\n",
    "import tensorflow as tf\n",
    "import matplotlib.pyplot as plt\n",
    "\n",
    "from hyperas import optim\n",
    "from tensorflow.keras.models import Model\n",
    "from hyperopt import Trials, STATUS_OK, tpe\n",
    "from sklearn.metrics import confusion_matrix\n",
    "from hyperas.distributions import choice, uniform\n",
    "from tensorflow.keras.layers import Dense, Dropout, Activation\n",
    "from tensorflow.keras.layers import Input, Conv2D, Dense, Flatten, Dropout, GlobalMaxPooling2D"
   ]
  },
  {
   "cell_type": "code",
   "execution_count": 2,
   "metadata": {},
   "outputs": [],
   "source": [
    "def get_data():  \n",
    "  cifar10 = tf.keras.datasets.cifar10\n",
    "\n",
    "  (x_train, y_train), (x_test, y_test) = cifar10.load_data()\n",
    "  x_train, x_test = x_train / 255.0, x_test / 255.0\n",
    "  y_train, y_test = y_train.flatten(), y_test.flatten()\n",
    "  return x_train, y_train, x_test, y_test\n",
    "\n",
    "K = 10"
   ]
  },
  {
   "cell_type": "code",
   "execution_count": 3,
   "metadata": {},
   "outputs": [],
   "source": [
    "def create_model():\n",
    "  i = Input(shape = x_train[0].shape)\n",
    "\n",
    "  x = Conv2D(32, (3, 3), activation = 'relu', padding = 'same')(i)\n",
    "  x = BatchNormalization()(x)\n",
    "  x = Conv2D(32, (3, 3), activation = 'relu', padding = 'same')(x)\n",
    "  x = BatchNormalization()(x)\n",
    "  x = MaxPooling2D((2, 2))(x)\n",
    "  x = Dropout({{uniform(0, 1)}})(x)\n",
    "  x = Conv2D(64, (3, 3), activation = 'relu', padding = 'same')(x)\n",
    "  x = BatchNormalization()(x)\n",
    "  x = Conv2D(64, (3, 3), activation = 'relu', padding = 'same')(x)\n",
    "  x = BatchNormalization()(x)\n",
    "  x = MaxPooling2D((2, 2))(x)\n",
    "  x = Dropout({{uniform(0, 1)}})(x)\n",
    "  x = Conv2D(128, (3, 3), activation = 'relu', padding = 'same')(x)\n",
    "  x = BatchNormalization()(x)\n",
    "  x = Conv2D(128, (3, 3), activation = 'relu', padding = 'same')(x)\n",
    "  x = BatchNormalization()(x)\n",
    "  x = MaxPooling2D((2, 2))(x)\n",
    "  x = Dropout({{uniform(0, 1)}})(x)\n",
    "\n",
    "  if {{choice(['three', 'four'])}} == 'four':\n",
    "    x = Conv2D(128, (3, 3), activation = 'relu', padding = 'same')(x)\n",
    "    x = BatchNormalization()(x)\n",
    "    x = MaxPooling2D((2, 2))(x)\n",
    "    x = Dropout({{uniform(0, 1)}})(x)\n",
    "\n",
    "  x = GlobalMaxPooling2D()(x)\n",
    "\n",
    "  x = model.add({{choice([Dropout(0.5)(x), Activation('linear')(x)])}})\n",
    "  x = Dense(1024, activation = 'relu')(x)\n",
    "  x = Dropout({{uniform(0, 1)}})(x)\n",
    "  x = Dense(K, activation = 'softmax')(x)\n",
    "\n",
    "  model = Model(i, x)\n",
    "\n",
    "  model.compile(optimizer = {{choice(['rmsprop', 'adam', 'sgd'])}},\n",
    "              loss = 'sparse_categorical_crossentropy',\n",
    "              metrics = ['accuracy'])\n",
    "\n",
    "  r = model.fit(x_train, y_train, validation_data = (x_test, y_test), epochs = 50)\n",
    "\n",
    "  validation_acc = np.amax(result.history['val_accuracy'])\n",
    "  print('Best validation acc of epoch:', validation_acc)\n",
    "  return {'loss': -validation_acc, 'status': STATUS_OK, 'model': model} "
   ]
  },
  {
   "cell_type": "code",
   "execution_count": null,
   "metadata": {},
   "outputs": [],
   "source": []
  }
 ],
 "metadata": {
  "kernelspec": {
   "display_name": "Python 3",
   "language": "python",
   "name": "python3"
  },
  "language_info": {
   "codemirror_mode": {
    "name": "ipython",
    "version": 3
   },
   "file_extension": ".py",
   "mimetype": "text/x-python",
   "name": "python",
   "nbconvert_exporter": "python",
   "pygments_lexer": "ipython3",
   "version": "3.7.7"
  }
 },
 "nbformat": 4,
 "nbformat_minor": 4
}
