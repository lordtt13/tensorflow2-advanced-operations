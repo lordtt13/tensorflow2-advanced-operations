{
  "nbformat": 4,
  "nbformat_minor": 0,
  "metadata": {
    "colab": {
      "name": "GAN overriding Model.train_step.ipynb",
      "provenance": []
    },
    "kernelspec": {
      "name": "python3",
      "display_name": "Python 3"
    },
    "accelerator": "GPU"
  },
  "cells": [
    {
      "cell_type": "code",
      "metadata": {
        "id": "zXMzuu3YLXie"
      },
      "source": [
        "import numpy as np\n",
        "import tensorflow as tf\n",
        "\n",
        "from tensorflow import keras\n",
        "from tensorflow.keras import layers\n",
        "from IPython.display import Image, display"
      ],
      "execution_count": 1,
      "outputs": []
    },
    {
      "cell_type": "code",
      "metadata": {
        "id": "1YxoMtoLMX7j",
        "outputId": "579f10ed-da49-4390-8b77-3e87b6f98ff1",
        "colab": {
          "base_uri": "https://localhost:8080/",
          "height": 51
        }
      },
      "source": [
        "# Prepare MNIST dataset\n",
        "batch_size = 64\n",
        "(x_train, _), (x_test, _) = keras.datasets.mnist.load_data()\n",
        "all_digits = np.concatenate([x_train, x_test])\n",
        "all_digits = all_digits.astype(\"float32\") / 255\n",
        "all_digits = np.reshape(all_digits, (-1, 28, 28, 1))\n",
        "dataset = tf.data.Dataset.from_tensor_slices(all_digits)\n",
        "dataset = dataset.shuffle(buffer_size=1024).batch(batch_size).prefetch(32)"
      ],
      "execution_count": 2,
      "outputs": [
        {
          "output_type": "stream",
          "text": [
            "Downloading data from https://storage.googleapis.com/tensorflow/tf-keras-datasets/mnist.npz\n",
            "11493376/11490434 [==============================] - 0s 0us/step\n"
          ],
          "name": "stdout"
        }
      ]
    },
    {
      "cell_type": "code",
      "metadata": {
        "id": "qd-Riq03u_dV",
        "outputId": "79a5097e-55e2-47fb-d1e8-bb08f1e8fd6e",
        "colab": {
          "base_uri": "https://localhost:8080/",
          "height": 357
        }
      },
      "source": [
        "# Create discriminator\n",
        "discriminator = keras.Sequential(\n",
        "    [\n",
        "        keras.Input(shape=(28, 28, 1)),\n",
        "        layers.Conv2D(64, (3, 3), strides=(2, 2), padding=\"same\"),\n",
        "        layers.LeakyReLU(alpha=0.2),\n",
        "        layers.Conv2D(128, (3, 3), strides=(2, 2), padding=\"same\"),\n",
        "        layers.LeakyReLU(alpha=0.2),\n",
        "        layers.GlobalMaxPooling2D(),\n",
        "        layers.Dense(1),\n",
        "    ],\n",
        "    name=\"discriminator\",\n",
        ")\n",
        "\n",
        "discriminator.summary()"
      ],
      "execution_count": 3,
      "outputs": [
        {
          "output_type": "stream",
          "text": [
            "Model: \"discriminator\"\n",
            "_________________________________________________________________\n",
            "Layer (type)                 Output Shape              Param #   \n",
            "=================================================================\n",
            "conv2d (Conv2D)              (None, 14, 14, 64)        640       \n",
            "_________________________________________________________________\n",
            "leaky_re_lu (LeakyReLU)      (None, 14, 14, 64)        0         \n",
            "_________________________________________________________________\n",
            "conv2d_1 (Conv2D)            (None, 7, 7, 128)         73856     \n",
            "_________________________________________________________________\n",
            "leaky_re_lu_1 (LeakyReLU)    (None, 7, 7, 128)         0         \n",
            "_________________________________________________________________\n",
            "global_max_pooling2d (Global (None, 128)               0         \n",
            "_________________________________________________________________\n",
            "dense (Dense)                (None, 1)                 129       \n",
            "=================================================================\n",
            "Total params: 74,625\n",
            "Trainable params: 74,625\n",
            "Non-trainable params: 0\n",
            "_________________________________________________________________\n"
          ],
          "name": "stdout"
        }
      ]
    },
    {
      "cell_type": "code",
      "metadata": {
        "id": "VWw7TnmzvDu3",
        "outputId": "59fa7a73-b286-4f3a-bb3b-a0fa49d8d02a",
        "colab": {
          "base_uri": "https://localhost:8080/",
          "height": 425
        }
      },
      "source": [
        "# Create Generator\n",
        "latent_dim = 128\n",
        "\n",
        "generator = keras.Sequential(\n",
        "    [\n",
        "        keras.Input(shape=(latent_dim,)),\n",
        "        # We want to generate 128 coefficients to reshape into a 7x7x128 map\n",
        "        layers.Dense(7 * 7 * 128),\n",
        "        layers.LeakyReLU(alpha=0.2),\n",
        "        layers.Reshape((7, 7, 128)),\n",
        "        layers.Conv2DTranspose(128, (4, 4), strides=(2, 2), padding=\"same\"),\n",
        "        layers.LeakyReLU(alpha=0.2),\n",
        "        layers.Conv2DTranspose(128, (4, 4), strides=(2, 2), padding=\"same\"),\n",
        "        layers.LeakyReLU(alpha=0.2),\n",
        "        layers.Conv2D(1, (7, 7), padding=\"same\", activation=\"sigmoid\"),\n",
        "    ],\n",
        "    name=\"generator\",\n",
        ")\n",
        "\n",
        "generator.summary()"
      ],
      "execution_count": 4,
      "outputs": [
        {
          "output_type": "stream",
          "text": [
            "Model: \"generator\"\n",
            "_________________________________________________________________\n",
            "Layer (type)                 Output Shape              Param #   \n",
            "=================================================================\n",
            "dense_1 (Dense)              (None, 6272)              809088    \n",
            "_________________________________________________________________\n",
            "leaky_re_lu_2 (LeakyReLU)    (None, 6272)              0         \n",
            "_________________________________________________________________\n",
            "reshape (Reshape)            (None, 7, 7, 128)         0         \n",
            "_________________________________________________________________\n",
            "conv2d_transpose (Conv2DTran (None, 14, 14, 128)       262272    \n",
            "_________________________________________________________________\n",
            "leaky_re_lu_3 (LeakyReLU)    (None, 14, 14, 128)       0         \n",
            "_________________________________________________________________\n",
            "conv2d_transpose_1 (Conv2DTr (None, 28, 28, 128)       262272    \n",
            "_________________________________________________________________\n",
            "leaky_re_lu_4 (LeakyReLU)    (None, 28, 28, 128)       0         \n",
            "_________________________________________________________________\n",
            "conv2d_2 (Conv2D)            (None, 28, 28, 1)         6273      \n",
            "=================================================================\n",
            "Total params: 1,339,905\n",
            "Trainable params: 1,339,905\n",
            "Non-trainable params: 0\n",
            "_________________________________________________________________\n"
          ],
          "name": "stdout"
        }
      ]
    },
    {
      "cell_type": "code",
      "metadata": {
        "id": "2yiy9GPOvKqH"
      },
      "source": [
        "# Override train_step\n",
        "class GAN(keras.Model):\n",
        "    def __init__(self, discriminator, generator, latent_dim):\n",
        "        super(GAN, self).__init__()\n",
        "        self.discriminator = discriminator\n",
        "        self.generator = generator\n",
        "        self.latent_dim = latent_dim\n",
        "\n",
        "    def compile(self, d_optimizer, g_optimizer, loss_fn):\n",
        "        super(GAN, self).compile()\n",
        "        self.d_optimizer = d_optimizer\n",
        "        self.g_optimizer = g_optimizer\n",
        "        self.loss_fn = loss_fn\n",
        "\n",
        "    def train_step(self, real_images):\n",
        "        if isinstance(real_images, tuple):\n",
        "            real_images = real_images[0]\n",
        "        # Sample random points in the latent space\n",
        "        batch_size = tf.shape(real_images)[0]\n",
        "        random_latent_vectors = tf.random.normal(shape=(batch_size, self.latent_dim))\n",
        "\n",
        "        # Decode them to fake images\n",
        "        generated_images = self.generator(random_latent_vectors)\n",
        "\n",
        "        # Combine them with real images\n",
        "        combined_images = tf.concat([generated_images, real_images], axis=0)\n",
        "\n",
        "        # Assemble labels discriminating real from fake images\n",
        "        labels = tf.concat(\n",
        "            [tf.ones((batch_size, 1)), tf.zeros((batch_size, 1))], axis=0\n",
        "        )\n",
        "        # Add random noise to the labels - important trick!\n",
        "        labels += 0.05 * tf.random.uniform(tf.shape(labels))\n",
        "\n",
        "        # Train the discriminator\n",
        "        with tf.GradientTape() as tape:\n",
        "            predictions = self.discriminator(combined_images)\n",
        "            d_loss = self.loss_fn(labels, predictions)\n",
        "        grads = tape.gradient(d_loss, self.discriminator.trainable_weights)\n",
        "        self.d_optimizer.apply_gradients(\n",
        "            zip(grads, self.discriminator.trainable_weights)\n",
        "        )\n",
        "\n",
        "        # Sample random points in the latent space\n",
        "        random_latent_vectors = tf.random.normal(shape=(batch_size, self.latent_dim))\n",
        "\n",
        "        # Assemble labels that say \"all real images\"\n",
        "        misleading_labels = tf.zeros((batch_size, 1))\n",
        "\n",
        "        # Train the generator (note that we should *not* update the weights\n",
        "        # of the discriminator)!\n",
        "        with tf.GradientTape() as tape:\n",
        "            predictions = self.discriminator(self.generator(random_latent_vectors))\n",
        "            g_loss = self.loss_fn(misleading_labels, predictions)\n",
        "        grads = tape.gradient(g_loss, self.generator.trainable_weights)\n",
        "        self.g_optimizer.apply_gradients(zip(grads, self.generator.trainable_weights))\n",
        "        return {\"d_loss\": d_loss, \"g_loss\": g_loss}"
      ],
      "execution_count": 5,
      "outputs": []
    },
    {
      "cell_type": "code",
      "metadata": {
        "id": "_t6V5eWRvlee"
      },
      "source": [
        "# Create a callback that periodically saves generated images\n",
        "class GANMonitor(keras.callbacks.Callback):\n",
        "    def __init__(self, num_img=3, latent_dim=128):\n",
        "        self.num_img = num_img\n",
        "        self.latent_dim = latent_dim\n",
        "\n",
        "    def on_epoch_end(self, epoch, logs=None):\n",
        "        random_latent_vectors = tf.random.normal(shape=(self.num_img, self.latent_dim))\n",
        "        generated_images = self.model.generator(random_latent_vectors)\n",
        "        generated_images *= 255\n",
        "        generated_images.numpy()\n",
        "        for i in range(self.num_img):\n",
        "            img = keras.preprocessing.image.array_to_img(generated_images[i])\n",
        "            img.save(\"generated_img_{i}_{epoch}.png\".format(i=i, epoch=epoch))"
      ],
      "execution_count": 6,
      "outputs": []
    },
    {
      "cell_type": "code",
      "metadata": {
        "id": "2lK6nOhHvm0h",
        "outputId": "7304066c-2a9c-42d9-8605-213e50a5e120",
        "colab": {
          "base_uri": "https://localhost:8080/",
          "height": 1000
        }
      },
      "source": [
        "# Train the end-to-end model\n",
        "epochs = 30\n",
        "\n",
        "gan = GAN(discriminator=discriminator, generator=generator, latent_dim=latent_dim)\n",
        "gan.compile(\n",
        "    d_optimizer=keras.optimizers.Adam(learning_rate=0.0003),\n",
        "    g_optimizer=keras.optimizers.Adam(learning_rate=0.0003),\n",
        "    loss_fn=keras.losses.BinaryCrossentropy(from_logits=True),\n",
        ")\n",
        "\n",
        "gan.fit(\n",
        "    dataset, epochs=epochs, callbacks=[GANMonitor(num_img=3, latent_dim=latent_dim)]\n",
        ")"
      ],
      "execution_count": 7,
      "outputs": [
        {
          "output_type": "stream",
          "text": [
            "Epoch 1/30\n",
            "1094/1094 [==============================] - 29s 26ms/step - d_loss: 0.5000 - g_loss: 1.2601\n",
            "Epoch 2/30\n",
            "1094/1094 [==============================] - 29s 27ms/step - d_loss: 0.1837 - g_loss: 4.0412\n",
            "Epoch 3/30\n",
            "1094/1094 [==============================] - 30s 27ms/step - d_loss: 0.4225 - g_loss: 1.8596\n",
            "Epoch 4/30\n",
            "1094/1094 [==============================] - 30s 28ms/step - d_loss: 0.5893 - g_loss: 1.1319\n",
            "Epoch 5/30\n",
            "1094/1094 [==============================] - 30s 27ms/step - d_loss: 0.5949 - g_loss: 1.0781\n",
            "Epoch 6/30\n",
            "1094/1094 [==============================] - 30s 28ms/step - d_loss: 0.5769 - g_loss: 1.0924\n",
            "Epoch 7/30\n",
            "1094/1094 [==============================] - 30s 27ms/step - d_loss: 0.5494 - g_loss: 1.1570\n",
            "Epoch 8/30\n",
            "1094/1094 [==============================] - 30s 27ms/step - d_loss: 0.5393 - g_loss: 1.1731\n",
            "Epoch 9/30\n",
            "1094/1094 [==============================] - 30s 27ms/step - d_loss: 0.5434 - g_loss: 1.1657\n",
            "Epoch 10/30\n",
            "1094/1094 [==============================] - 30s 27ms/step - d_loss: 0.5530 - g_loss: 1.1434\n",
            "Epoch 11/30\n",
            "1094/1094 [==============================] - 30s 27ms/step - d_loss: 0.5612 - g_loss: 1.1318\n",
            "Epoch 12/30\n",
            "1094/1094 [==============================] - 30s 28ms/step - d_loss: 0.5674 - g_loss: 1.1083\n",
            "Epoch 13/30\n",
            "1094/1094 [==============================] - 30s 27ms/step - d_loss: 0.5623 - g_loss: 1.1176\n",
            "Epoch 14/30\n",
            "1094/1094 [==============================] - 30s 27ms/step - d_loss: 0.5673 - g_loss: 1.0882\n",
            "Epoch 15/30\n",
            "1094/1094 [==============================] - 30s 27ms/step - d_loss: 0.5747 - g_loss: 1.0731\n",
            "Epoch 16/30\n",
            "1094/1094 [==============================] - 30s 28ms/step - d_loss: 0.5828 - g_loss: 1.0410\n",
            "Epoch 17/30\n",
            "1094/1094 [==============================] - 30s 27ms/step - d_loss: 0.5905 - g_loss: 1.0391\n",
            "Epoch 18/30\n",
            "1094/1094 [==============================] - 30s 27ms/step - d_loss: 0.5973 - g_loss: 1.0092\n",
            "Epoch 19/30\n",
            "1094/1094 [==============================] - 30s 27ms/step - d_loss: 0.6052 - g_loss: 0.9974\n",
            "Epoch 20/30\n",
            "1094/1094 [==============================] - 30s 27ms/step - d_loss: 0.6115 - g_loss: 0.9883\n",
            "Epoch 21/30\n",
            "1094/1094 [==============================] - 30s 27ms/step - d_loss: 0.6141 - g_loss: 0.9818\n",
            "Epoch 22/30\n",
            "1094/1094 [==============================] - 30s 27ms/step - d_loss: 0.6156 - g_loss: 0.9686\n",
            "Epoch 23/30\n",
            "1094/1094 [==============================] - 30s 27ms/step - d_loss: 0.6190 - g_loss: 0.9630\n",
            "Epoch 24/30\n",
            "1094/1094 [==============================] - 30s 27ms/step - d_loss: 0.6208 - g_loss: 0.9545\n",
            "Epoch 25/30\n",
            "1094/1094 [==============================] - 30s 27ms/step - d_loss: 0.6226 - g_loss: 0.9524\n",
            "Epoch 26/30\n",
            "1094/1094 [==============================] - 30s 28ms/step - d_loss: 0.6224 - g_loss: 0.9490\n",
            "Epoch 27/30\n",
            "1094/1094 [==============================] - 30s 27ms/step - d_loss: 0.6237 - g_loss: 0.9479\n",
            "Epoch 28/30\n",
            "1094/1094 [==============================] - 30s 27ms/step - d_loss: 0.6248 - g_loss: 0.9444\n",
            "Epoch 29/30\n",
            "1094/1094 [==============================] - 30s 27ms/step - d_loss: 0.6254 - g_loss: 0.9415\n",
            "Epoch 30/30\n",
            "1094/1094 [==============================] - 30s 27ms/step - d_loss: 0.6257 - g_loss: 0.9406\n"
          ],
          "name": "stdout"
        },
        {
          "output_type": "execute_result",
          "data": {
            "text/plain": [
              "<tensorflow.python.keras.callbacks.History at 0x7f0b80043860>"
            ]
          },
          "metadata": {
            "tags": []
          },
          "execution_count": 7
        }
      ]
    },
    {
      "cell_type": "code",
      "metadata": {
        "id": "zq1aQ-Axvp9J",
        "outputId": "7b22e291-7a4c-4172-ba62-3a65e516673f",
        "colab": {
          "base_uri": "https://localhost:8080/",
          "height": 101
        }
      },
      "source": [
        "# Display the last generated images\n",
        "\n",
        "display(Image(\"generated_img_0_29.png\"))\n",
        "display(Image(\"generated_img_1_29.png\"))\n",
        "display(Image(\"generated_img_2_29.png\"))"
      ],
      "execution_count": 8,
      "outputs": [
        {
          "output_type": "display_data",
          "data": {
            "image/png": "[encoded data removed]",
            "text/plain": [
              "<IPython.core.display.Image object>"
            ]
          },
          "metadata": {
            "tags": []
          }
        },
        {
          "output_type": "display_data",
          "data": {
            "image/png": "[encoded data removed]",
            "text/plain": [
              "<IPython.core.display.Image object>"
            ]
          },
          "metadata": {
            "tags": []
          }
        },
        {
          "output_type": "display_data",
          "data": {
            "image/png": "[encoded data removed]",
            "text/plain": [
              "<IPython.core.display.Image object>"
            ]
          },
          "metadata": {
            "tags": []
          }
        }
      ]
    }
  ]
}