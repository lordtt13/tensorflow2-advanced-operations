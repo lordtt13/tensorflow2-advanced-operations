{
  "nbformat": 4,
  "nbformat_minor": 0,
  "metadata": {
    "colab": {
      "name": "GANSynth.ipynb",
      "provenance": []
    },
    "kernelspec": {
      "name": "python3",
      "display_name": "Python 3"
    },
    "accelerator": "GPU"
  },
  "cells": [
    {
      "cell_type": "markdown",
      "metadata": {
        "id": "gBbaxjgnmq7R",
        "colab_type": "text"
      },
      "source": [
        "### Setup Enviornment"
      ]
    },
    {
      "cell_type": "code",
      "metadata": {
        "id": "OoRLQjZCmepp",
        "colab_type": "code",
        "colab": {
          "base_uri": "https://localhost:8080/",
          "height": 1000
        },
        "outputId": "8d40956b-aba0-4e96-cc20-837c70fc5a65"
      },
      "source": [
        "# Install Magenta\n",
        "\n",
        "!rm -r /content/gansynth &>/dev/null\n",
        "!mkdir /content/gansynth\n",
        "!mkdir /content/gansynth/midi\n",
        "!mkdir /content/gansynth/samples\n",
        "!gsutil -q -m cp gs://magentadata/models/gansynth/acoustic_only.zip /content/gansynth/\n",
        "!unzip -o /content/gansynth/acoustic_only.zip -d /content/gansynth &>/dev/null\n",
        "\n",
        "# Get default MIDI (Bach Prelude)\n",
        "!curl -o /content/gansynth/midi/bach.mid http://www.jsbach.net/midi/cs1-1pre.mid\n",
        "MIDI_SONG_DEFAULT = '/content/gansynth/midi/bach.mid'\n",
        "!curl -o /content/gansynth/midi/riff-default.mid http://storage.googleapis.com/magentadata/papers/gansynth/midi/arp.mid\n",
        "MIDI_RIFF_DEFAULT = '/content/gansynth/midi/riff-default.mid'\n",
        "\n",
        "!pip install -q -U magenta"
      ],
      "execution_count": 1,
      "outputs": [
        {
          "output_type": "stream",
          "text": [
            "  % Total    % Received % Xferd  Average Speed   Time    Time     Time  Current\n",
            "                                 Dload  Upload   Total   Spent    Left  Speed\n",
            "100  4922  100  4922    0     0   8836      0 --:--:-- --:--:-- --:--:--  8820\n",
            "  % Total    % Received % Xferd  Average Speed   Time    Time     Time  Current\n",
            "                                 Dload  Upload   Total   Spent    Left  Speed\n",
            "100  1083  100  1083    0     0   5181      0 --:--:-- --:--:-- --:--:--  5181\n",
            "\u001b[K     |████████████████████████████████| 1.4MB 2.8MB/s \n",
            "\u001b[K     |████████████████████████████████| 5.6MB 15.4MB/s \n",
            "\u001b[K     |████████████████████████████████| 71kB 8.3MB/s \n",
            "\u001b[K     |████████████████████████████████| 358kB 40.8MB/s \n",
            "\u001b[K     |████████████████████████████████| 204kB 42.9MB/s \n",
            "\u001b[K     |████████████████████████████████| 92kB 10.1MB/s \n",
            "\u001b[K     |████████████████████████████████| 256kB 39.5MB/s \n",
            "\u001b[K     |████████████████████████████████| 8.3MB 27.8MB/s \n",
            "\u001b[K     |████████████████████████████████| 2.3MB 43.4MB/s \n",
            "\u001b[K     |████████████████████████████████| 215kB 41.3MB/s \n",
            "\u001b[K     |████████████████████████████████| 1.5MB 43.9MB/s \n",
            "\u001b[K     |████████████████████████████████| 1.4MB 41.8MB/s \n",
            "\u001b[K     |████████████████████████████████| 153kB 40.6MB/s \n",
            "\u001b[K     |████████████████████████████████| 61kB 7.6MB/s \n",
            "\u001b[33mWARNING: Retrying (Retry(total=4, connect=None, read=None, redirect=None, status=None)) after connection broken by 'ProtocolError('Connection aborted.', ConnectionResetError(104, 'Connection reset by peer'))': /simple/oauth2client/\u001b[0m\n",
            "\u001b[K     |████████████████████████████████| 81kB 9.4MB/s \n",
            "\u001b[K     |████████████████████████████████| 51kB 6.5MB/s \n",
            "\u001b[K     |████████████████████████████████| 63.8MB 44kB/s \n",
            "\u001b[K     |████████████████████████████████| 92kB 10.5MB/s \n",
            "\u001b[K     |████████████████████████████████| 122kB 43.0MB/s \n",
            "\u001b[K     |████████████████████████████████| 440kB 17.7MB/s \n",
            "\u001b[K     |████████████████████████████████| 92kB 11.2MB/s \n",
            "\u001b[K     |████████████████████████████████| 215kB 37.8MB/s \n",
            "\u001b[K     |████████████████████████████████| 184kB 41.0MB/s \n",
            "\u001b[K     |████████████████████████████████| 153kB 44.9MB/s \n",
            "\u001b[K     |████████████████████████████████| 235kB 36.0MB/s \n",
            "\u001b[K     |████████████████████████████████| 174kB 44.8MB/s \n",
            "\u001b[K     |████████████████████████████████| 655kB 25.5MB/s \n",
            "\u001b[K     |████████████████████████████████| 368kB 39.8MB/s \n",
            "\u001b[K     |████████████████████████████████| 81kB 8.4MB/s \n",
            "\u001b[K     |████████████████████████████████| 184kB 42.5MB/s \n",
            "\u001b[K     |████████████████████████████████| 5.3MB 43.6MB/s \n",
            "\u001b[K     |████████████████████████████████| 307kB 44.1MB/s \n",
            "\u001b[K     |████████████████████████████████| 112kB 42.7MB/s \n",
            "\u001b[K     |████████████████████████████████| 235kB 43.0MB/s \n",
            "\u001b[K     |████████████████████████████████| 51kB 6.0MB/s \n",
            "\u001b[?25h  Building wheel for pretty-midi (setup.py) ... \u001b[?25l\u001b[?25hdone\n",
            "  Building wheel for python-rtmidi (setup.py) ... \u001b[?25l\u001b[?25hdone\n",
            "  Building wheel for mir-eval (setup.py) ... \u001b[?25l\u001b[?25hdone\n",
            "  Building wheel for pygtrie (setup.py) ... \u001b[?25l\u001b[?25hdone\n",
            "  Building wheel for dill (setup.py) ... \u001b[?25l\u001b[?25hdone\n",
            "  Building wheel for avro-python3 (setup.py) ... \u001b[?25l\u001b[?25hdone\n",
            "  Building wheel for oauth2client (setup.py) ... \u001b[?25l\u001b[?25hdone\n",
            "  Building wheel for hdfs (setup.py) ... \u001b[?25l\u001b[?25hdone\n",
            "  Building wheel for google-apitools (setup.py) ... \u001b[?25l\u001b[?25hdone\n",
            "  Building wheel for pypng (setup.py) ... \u001b[?25l\u001b[?25hdone\n",
            "  Building wheel for bz2file (setup.py) ... \u001b[?25l\u001b[?25hdone\n",
            "  Building wheel for grpc-google-iam-v1 (setup.py) ... \u001b[?25l\u001b[?25hdone\n",
            "\u001b[31mERROR: pydrive 1.3.1 has requirement oauth2client>=4.0.0, but you'll have oauth2client 3.0.0 which is incompatible.\u001b[0m\n",
            "\u001b[31mERROR: multiprocess 0.70.10 has requirement dill>=0.3.2, but you'll have dill 0.3.1.1 which is incompatible.\u001b[0m\n",
            "\u001b[31mERROR: apache-beam 2.23.0 has requirement future<1.0.0,>=0.18.2, but you'll have future 0.16.0 which is incompatible.\u001b[0m\n",
            "\u001b[31mERROR: tensor2tensor 1.15.7 has requirement tensorflow-probability==0.7.0, but you'll have tensorflow-probability 0.11.0 which is incompatible.\u001b[0m\n"
          ],
          "name": "stdout"
        }
      ]
    },
    {
      "cell_type": "code",
      "metadata": {
        "id": "RZ2vsoZTmvwd",
        "colab_type": "code",
        "colab": {
          "base_uri": "https://localhost:8080/",
          "height": 72
        },
        "outputId": "74e888a4-8a31-4088-dc36-768654b170f7"
      },
      "source": [
        "import os\n",
        "import librosa\n",
        "import note_seq\n",
        "\n",
        "import numpy as np\n",
        "import matplotlib.pyplot as plt\n",
        "import tensorflow.compat.v1 as tf\n",
        "\n",
        "from google.colab import files\n",
        "from magenta.models.gansynth.lib import util\n",
        "from magenta.models.nsynth.utils import load_audio\n",
        "from note_seq.notebook_utils import colab_play as play\n",
        "from magenta.models.gansynth.lib import flags as lib_flags\n",
        "from magenta.models.gansynth.lib import model as lib_model\n",
        "from magenta.models.gansynth.lib import generate_util as gu"
      ],
      "execution_count": 2,
      "outputs": [
        {
          "output_type": "stream",
          "text": [
            "WARNING:tensorflow:From /usr/local/lib/python3.6/dist-packages/tensorflow_gan/python/estimator/tpu_gan_estimator.py:42: The name tf.estimator.tpu.TPUEstimator is deprecated. Please use tf.compat.v1.estimator.tpu.TPUEstimator instead.\n",
            "\n"
          ],
          "name": "stdout"
        }
      ]
    },
    {
      "cell_type": "code",
      "metadata": {
        "id": "3YV8zIJTnFTm",
        "colab_type": "code",
        "colab": {
          "base_uri": "https://localhost:8080/",
          "height": 70
        },
        "outputId": "911dfc87-eba8-4ce4-f2fd-27720089e8cf"
      },
      "source": [
        "tf.disable_v2_behavior()"
      ],
      "execution_count": 3,
      "outputs": [
        {
          "output_type": "stream",
          "text": [
            "WARNING:tensorflow:From /usr/local/lib/python3.6/dist-packages/tensorflow/python/compat/v2_compat.py:96: disable_resource_variables (from tensorflow.python.ops.variable_scope) is deprecated and will be removed in a future version.\n",
            "Instructions for updating:\n",
            "non-resource variables are not supported in the long term\n"
          ],
          "name": "stdout"
        }
      ]
    },
    {
      "cell_type": "code",
      "metadata": {
        "id": "w8LcyY6enHuA",
        "colab_type": "code",
        "colab": {}
      },
      "source": [
        "download = files.download\n",
        "\n",
        "def upload():\n",
        "  '''Upload a .wav file.'''\n",
        "  filemap = files.upload()\n",
        "  file_list = []\n",
        "  for key, value in filemap.iteritems():\n",
        "    fname = os.path.join('/content/gansynth/midi', key)\n",
        "    with open(fname, 'w') as f:\n",
        "      f.write(value)\n",
        "      print('Writing {}'.format(fname))\n",
        "    file_list.append(fname)\n",
        "  return file_list"
      ],
      "execution_count": 4,
      "outputs": []
    },
    {
      "cell_type": "code",
      "metadata": {
        "id": "wyuo8VTynLQM",
        "colab_type": "code",
        "colab": {}
      },
      "source": [
        "# GLOBAL PARAMS\n",
        "\n",
        "CKPT_DIR = '/content/gansynth/acoustic_only'\n",
        "output_dir = '/content/gansynth/samples'\n",
        "BATCH_SIZE = 16\n",
        "SR = 16000"
      ],
      "execution_count": 5,
      "outputs": []
    },
    {
      "cell_type": "code",
      "metadata": {
        "id": "vkJ2XlZvnUjH",
        "colab_type": "code",
        "colab": {}
      },
      "source": [
        "OUTPUT_DIR = util.expand_path(output_dir)\n",
        "if not tf.gfile.Exists(OUTPUT_DIR):\n",
        "  tf.gfile.MakeDirs(OUTPUT_DIR)"
      ],
      "execution_count": 6,
      "outputs": []
    },
    {
      "cell_type": "code",
      "metadata": {
        "id": "3ObsStMGnYp4",
        "colab_type": "code",
        "colab": {
          "base_uri": "https://localhost:8080/",
          "height": 1000
        },
        "outputId": "121c975b-4887-4b71-e973-e2db7309a8fa"
      },
      "source": [
        "tf.reset_default_graph()\n",
        "flags = lib_flags.Flags({'batch_size_schedule': [BATCH_SIZE]})\n",
        "model = lib_model.Model.load_from_path(CKPT_DIR, flags)"
      ],
      "execution_count": 7,
      "outputs": [
        {
          "output_type": "stream",
          "text": [
            "\tadam_beta1: 0.0\n",
            "\tadam_beta2: 0.99\n",
            "\taudio_length: 64000\n",
            "\tbatch_size_schedule: [8]\n",
            "\td_fn: specgram\n",
            "\tdata_normalizer: specgrams_prespecified_normalizer\n",
            "\tdata_type: mel\n",
            "\tdataset_name: nsynth_tfrecord\n",
            "\tdebug_hook: False\n",
            "\tdiscriminator_ac_loss_weight: 10.0\n",
            "\tdiscriminator_learning_rate: 0.0008\n",
            "\tfake_batch_size: 61\n",
            "\tfmap_base: 4096\n",
            "\tfmap_decay: 1.0\n",
            "\tfmap_max: 256\n",
            "\tg_fn: specgram\n",
            "\tgan:\n",
            "\tgen_gl_consistency_loss_weight: 0.0\n",
            "\tgenerator_ac_loss_weight: 10.0\n",
            "\tgenerator_learning_rate: 0.0008\n",
            "\tgradient_penalty_target: 1.0\n",
            "\tgradient_penalty_weight: 10.0\n",
            "\tkernel_size: 3\n",
            "\tlatent_vector_size: 256\n",
            "\tmag_normalizer_a: 0.0661371661726\n",
            "\tmag_normalizer_b: 0.113718730221\n",
            "\tmaster: \n",
            "\tnormalizer_margin: 0.8\n",
            "\tnormalizer_num_examples: 1000\n",
            "\tnum_resolutions: 7\n",
            "\tp_normalizer_a: 0.8\n",
            "\tp_normalizer_b: 0.0\n",
            "\tps_tasks: 0\n",
            "\treal_score_penalty_weight: 0.001\n",
            "\tsample_rate: 16000\n",
            "\tsave_summaries_num_images: 10000\n",
            "\tscale_base: 2\n",
            "\tscale_mode: ALL\n",
            "\tsimple_arch: False\n",
            "\tstable_stage_num_images: 800000\n",
            "\tstart_height: 2\n",
            "\tstart_width: 16\n",
            "\ttask: 0\n",
            "\tto_rgb_activation: tanh\n",
            "\ttotal_num_images: 11000000\n",
            "\ttrain_data_path: /tmp/gansynth/nsynth-train.tfrecord\n",
            "\ttrain_progressive: True\n",
            "\ttrain_root_dir: /content/gansynth/acoustic_only\n",
            "\ttrain_time_limit: None\n",
            "\ttrain_time_stage_multiplier: 1.0\n",
            "\ttransition_stage_num_images: 800000\n",
            "Load model from /content/gansynth/acoustic_only/stage_00012/./model.ckpt-11000000\n",
            "WARNING:tensorflow:From /usr/local/lib/python3.6/dist-packages/magenta/models/gansynth/lib/spectral_ops.py:260: to_float (from tensorflow.python.ops.math_ops) is deprecated and will be removed in a future version.\n",
            "Instructions for updating:\n",
            "Use `tf.cast` instead.\n",
            "WARNING:tensorflow:From /usr/local/lib/python3.6/dist-packages/magenta/models/gansynth/lib/spectral_ops.py:260: to_int32 (from tensorflow.python.ops.math_ops) is deprecated and will be removed in a future version.\n",
            "Instructions for updating:\n",
            "Use `tf.cast` instead.\n",
            "WARNING:tensorflow:From /usr/local/lib/python3.6/dist-packages/magenta/models/gansynth/lib/data_helpers.py:72: DatasetV1.make_initializable_iterator (from tensorflow.python.data.ops.dataset_ops) is deprecated and will be removed in a future version.\n",
            "Instructions for updating:\n",
            "This is a deprecated API that should only be used in TF 1 graph mode and legacy TF 2 graph mode available through `tf.compat.v1`. In all other situations -- namely, eager mode and inside `tf.function` -- you can consume dataset elements using `for elem in dataset: ...` or by explicitly creating iterator via `iterator = iter(dataset)` and fetching its elements via `values = next(iterator)`. Furthermore, this API is not available in TF 2. During the transition from TF 1 to TF 2 you can use `tf.compat.v1.data.make_initializable_iterator(dataset)` to create a TF 1 graph mode style iterator for a dataset created through TF 2 APIs. Note that this should be a transient state of your code base as there are in general no guarantees about the interoperability of TF 1 and TF 2 code.\n",
            "WARNING:tensorflow:From /usr/local/lib/python3.6/dist-packages/tensorflow/python/util/dispatch.py:201: multinomial (from tensorflow.python.ops.random_ops) is deprecated and will be removed in a future version.\n",
            "Instructions for updating:\n",
            "Use `tf.random.categorical` instead.\n",
            "WARNING:tensorflow:From /usr/local/lib/python3.6/dist-packages/tf_slim/layers/layers.py:1666: flatten (from tensorflow.python.keras.legacy_tf_layers.core) is deprecated and will be removed in a future version.\n",
            "Instructions for updating:\n",
            "Use keras.layers.Flatten instead.\n",
            "WARNING:tensorflow:From /usr/local/lib/python3.6/dist-packages/tensorflow/python/keras/legacy_tf_layers/core.py:332: Layer.apply (from tensorflow.python.keras.engine.base_layer_v1) is deprecated and will be removed in a future version.\n",
            "Instructions for updating:\n",
            "Please use `layer.__call__` method instead.\n",
            "WARNING:tensorflow:From /usr/local/lib/python3.6/dist-packages/magenta/models/gansynth/lib/layers.py:284: conv2d (from tensorflow.python.keras.legacy_tf_layers.convolutional) is deprecated and will be removed in a future version.\n",
            "Instructions for updating:\n",
            "Use `tf.keras.layers.Conv2D` instead.\n",
            "WARNING:tensorflow:From /usr/local/lib/python3.6/dist-packages/magenta/models/gansynth/lib/layers.py:330: dense (from tensorflow.python.keras.legacy_tf_layers.core) is deprecated and will be removed in a future version.\n",
            "Instructions for updating:\n",
            "Use keras.layers.Dense instead.\n",
            "WARNING:tensorflow:From /usr/local/lib/python3.6/dist-packages/tensorflow_gan/python/contrib_utils.py:56: _colocate_with (from tensorflow.python.framework.ops) is deprecated and will be removed in a future version.\n",
            "Instructions for updating:\n",
            "Colocations handled automatically by placer.\n",
            "WARNING:tensorflow:From /usr/local/lib/python3.6/dist-packages/tensorflow/python/training/moving_averages.py:458: Variable.initialized_value (from tensorflow.python.ops.variables) is deprecated and will be removed in a future version.\n",
            "Instructions for updating:\n",
            "Use Variable.read_value. Variables in 2.X are initialized automatically both in eager and graph (inside tf.defun) contexts.\n",
            "INFO:tensorflow:Restoring parameters from /content/gansynth/acoustic_only/stage_00012/./model.ckpt-11000000\n"
          ],
          "name": "stdout"
        }
      ]
    }
  ]
}