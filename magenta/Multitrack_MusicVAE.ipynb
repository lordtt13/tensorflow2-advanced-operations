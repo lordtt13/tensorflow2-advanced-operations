{
  "nbformat": 4,
  "nbformat_minor": 0,
  "metadata": {
    "colab": {
      "name": "Multitrack MusicVAE.ipynb",
      "provenance": []
    },
    "kernelspec": {
      "name": "python3",
      "display_name": "Python 3"
    },
    "accelerator": "GPU"
  },
  "cells": [
    {
      "cell_type": "markdown",
      "metadata": {
        "id": "MR4wuzQpaZIz",
        "colab_type": "text"
      },
      "source": [
        "### Learning a Latent Space of Multitrack Measures\n",
        "\n",
        "MusicVAE learns a latent space of musical sequences. We apply the MusicVAE framework to single measures of multi-instrument General MIDI, a symbolic music representation that uses a standard set of 128 instrument sounds.\n",
        "\n",
        "The models in this notebook are capable of encoding and decoding single measures of up to 8 tracks, optionally conditioned on an underlying chord. Encoding transforms a single measure into a vector in a latent space, and decoding transforms a latent vector back into a measure. Both encoding and decoding are performed hierarchically, with one level operating on tracks and another operating on the notes (and choice of instrument) in each track."
      ]
    },
    {
      "cell_type": "markdown",
      "metadata": {
        "id": "a5QbStJHauEi",
        "colab_type": "text"
      },
      "source": [
        "#### Env Setup"
      ]
    },
    {
      "cell_type": "code",
      "metadata": {
        "id": "35i30w4Eap3w",
        "colab_type": "code",
        "colab": {
          "base_uri": "https://localhost:8080/",
          "height": 578
        },
        "outputId": "014e3c45-eb5f-4dca-f4a9-202875da5ed4"
      },
      "source": [
        "!gsutil -q -m cp gs://download.magenta.tensorflow.org/models/music_vae/multitrack/* /content/\n",
        "!gsutil -q -m cp gs://download.magenta.tensorflow.org/soundfonts/SGM-v2.01-Sal-Guit-Bass-V1.3.sf2 /content/\n",
        "\n",
        "!apt-get update -qq && apt-get install -qq libfluidsynth1 build-essential libasound2-dev libjack-dev\n",
        "!pip install -qU magenta pyfluidsynth pretty_midi"
      ],
      "execution_count": 1,
      "outputs": [
        {
          "output_type": "stream",
          "text": [
            "Selecting previously unselected package libfluidsynth1:amd64.\n",
            "(Reading database ... 144487 files and directories currently installed.)\n",
            "Preparing to unpack .../libfluidsynth1_1.1.9-1_amd64.deb ...\n",
            "Unpacking libfluidsynth1:amd64 (1.1.9-1) ...\n",
            "Setting up libfluidsynth1:amd64 (1.1.9-1) ...\n",
            "Processing triggers for libc-bin (2.27-3ubuntu1) ...\n",
            "/sbin/ldconfig.real: /usr/local/lib/python3.6/dist-packages/ideep4py/lib/libmkldnn.so.0 is not a symbolic link\n",
            "\n",
            "\u001b[K     |████████████████████████████████| 1.6MB 1.3MB/s \n",
            "\u001b[K     |████████████████████████████████| 5.6MB 7.3MB/s \n",
            "\u001b[K     |████████████████████████████████| 256kB 24.7MB/s \n",
            "\u001b[K     |████████████████████████████████| 215kB 20.8MB/s \n",
            "\u001b[K     |████████████████████████████████| 204kB 21.4MB/s \n",
            "\u001b[K     |████████████████████████████████| 2.3MB 23.9MB/s \n",
            "\u001b[K     |████████████████████████████████| 358kB 31.2MB/s \n",
            "\u001b[K     |████████████████████████████████| 1.5MB 28.8MB/s \n",
            "\u001b[K     |████████████████████████████████| 92kB 10.2MB/s \n",
            "\u001b[K     |████████████████████████████████| 71kB 7.3MB/s \n",
            "\u001b[K     |████████████████████████████████| 5.3MB 22.7MB/s \n",
            "\u001b[K     |████████████████████████████████| 368kB 41.7MB/s \n",
            "\u001b[K     |████████████████████████████████| 307kB 42.4MB/s \n",
            "\u001b[K     |████████████████████████████████| 184kB 21.0MB/s \n",
            "\u001b[K     |████████████████████████████████| 81kB 8.6MB/s \n",
            "\u001b[K     |████████████████████████████████| 655kB 41.6MB/s \n",
            "\u001b[K     |████████████████████████████████| 51kB 6.3MB/s \n",
            "\u001b[K     |████████████████████████████████| 235kB 27.9MB/s \n",
            "\u001b[?25h  Building wheel for pretty-midi (setup.py) ... \u001b[?25l\u001b[?25hdone\n",
            "  Building wheel for pygtrie (setup.py) ... \u001b[?25l\u001b[?25hdone\n",
            "  Building wheel for python-rtmidi (setup.py) ... \u001b[?25l\u001b[?25hdone\n",
            "  Building wheel for mir-eval (setup.py) ... \u001b[?25l\u001b[?25hdone\n",
            "  Building wheel for bz2file (setup.py) ... \u001b[?25l\u001b[?25hdone\n",
            "  Building wheel for pypng (setup.py) ... \u001b[?25l\u001b[?25hdone\n",
            "\u001b[31mERROR: tensor2tensor 1.15.7 has requirement tensorflow-probability==0.7.0, but you'll have tensorflow-probability 0.11.0 which is incompatible.\u001b[0m\n"
          ],
          "name": "stdout"
        }
      ]
    },
    {
      "cell_type": "code",
      "metadata": {
        "id": "9Nqa-1XVa024",
        "colab_type": "code",
        "colab": {}
      },
      "source": [
        "import ctypes.util\n",
        "def proxy_find_library(lib):\n",
        "  if lib == 'fluidsynth':\n",
        "    return 'libfluidsynth.so.1'\n",
        "  else:\n",
        "    return ctypes.util.find_library(lib)\n",
        "ctypes.util.find_library = proxy_find_library"
      ],
      "execution_count": 2,
      "outputs": []
    },
    {
      "cell_type": "code",
      "metadata": {
        "id": "ZRtn3upGbJHG",
        "colab_type": "code",
        "colab": {}
      },
      "source": [
        "import os\n",
        "\n",
        "import numpy as np\n",
        "import magenta.music as mm\n",
        "import tensorflow.compat.v1 as tf\n",
        "\n",
        "from google.colab import files\n",
        "from magenta.models.music_vae import configs\n",
        "from magenta.music.sequences_lib import concatenate_sequences\n",
        "from magenta.models.music_vae.trained_model import TrainedModel"
      ],
      "execution_count": 3,
      "outputs": []
    },
    {
      "cell_type": "code",
      "metadata": {
        "id": "cTmb_RXHbUM_",
        "colab_type": "code",
        "colab": {
          "base_uri": "https://localhost:8080/",
          "height": 88
        },
        "outputId": "edd68a1a-09a0-4d62-f3e2-d9ff8b709e36"
      },
      "source": [
        "tf.disable_v2_behavior()"
      ],
      "execution_count": 4,
      "outputs": [
        {
          "output_type": "stream",
          "text": [
            "WARNING:tensorflow:From /usr/local/lib/python3.6/dist-packages/tensorflow/python/compat/v2_compat.py:96: disable_resource_variables (from tensorflow.python.ops.variable_scope) is deprecated and will be removed in a future version.\n",
            "Instructions for updating:\n",
            "non-resource variables are not supported in the long term\n"
          ],
          "name": "stdout"
        }
      ]
    },
    {
      "cell_type": "code",
      "metadata": {
        "id": "mjGe0m3kbWNX",
        "colab_type": "code",
        "colab": {}
      },
      "source": [
        "BATCH_SIZE = 4\n",
        "Z_SIZE = 512\n",
        "TOTAL_STEPS = 512\n",
        "BAR_SECONDS = 2.0\n",
        "CHORD_DEPTH = 49\n",
        "\n",
        "SAMPLE_RATE = 44100\n",
        "SF2_PATH = '/content/SGM-v2.01-Sal-Guit-Bass-V1.3.sf2'"
      ],
      "execution_count": 5,
      "outputs": []
    },
    {
      "cell_type": "code",
      "metadata": {
        "id": "giZGbvNQbbk_",
        "colab_type": "code",
        "colab": {}
      },
      "source": [
        "# Play sequence using SoundFont.\n",
        "def play(note_sequences):\n",
        "  if not isinstance(note_sequences, list):\n",
        "    note_sequences = [note_sequences]\n",
        "  for ns in note_sequences:\n",
        "    mm.play_sequence(ns, synth = mm.fluidsynth, sf2_path = SF2_PATH)\n",
        "  \n",
        "# Spherical linear interpolation.\n",
        "def slerp(p0, p1, t):\n",
        "  \"\"\"Spherical linear interpolation.\"\"\"\n",
        "  omega = np.arccos(np.dot(np.squeeze(p0/np.linalg.norm(p0)), np.squeeze(p1/np.linalg.norm(p1))))\n",
        "  so = np.sin(omega)\n",
        "  return np.sin((1.0-t)*omega) / so * p0 + np.sin(t*omega)/so * p1\n",
        "\n",
        "# Download sequence.\n",
        "def download(note_sequence, filename):\n",
        "  mm.sequence_proto_to_midi_file(note_sequence, filename)\n",
        "  files.download(filename)\n",
        "\n",
        "# Chord encoding tensor.\n",
        "def chord_encoding(chord):\n",
        "  index = mm.TriadChordOneHotEncoding().encode_event(chord)\n",
        "  c = np.zeros([TOTAL_STEPS, CHORD_DEPTH])\n",
        "  c[0,0] = 1.0\n",
        "  c[1:,index] = 1.0\n",
        "  return c\n",
        "\n",
        "# Trim sequences to exactly one bar.\n",
        "def trim_sequences(seqs, num_seconds = BAR_SECONDS):\n",
        "  for i in range(len(seqs)):\n",
        "    seqs[i] = mm.extract_subsequence(seqs[i], 0.0, num_seconds)\n",
        "    seqs[i].total_time = num_seconds\n",
        "\n",
        "# Consolidate instrument numbers by MIDI program.\n",
        "def fix_instruments_for_concatenation(note_sequences):\n",
        "  instruments = {}\n",
        "  for i in range(len(note_sequences)):\n",
        "    for note in note_sequences[i].notes:\n",
        "      if not note.is_drum:\n",
        "        if note.program not in instruments:\n",
        "          if len(instruments) >= 8:\n",
        "            instruments[note.program] = len(instruments) + 2\n",
        "          else:\n",
        "            instruments[note.program] = len(instruments) + 1\n",
        "        note.instrument = instruments[note.program]\n",
        "      else:\n",
        "        note.instrument = 9"
      ],
      "execution_count": 6,
      "outputs": []
    },
    {
      "cell_type": "markdown",
      "metadata": {
        "id": "OC0QO6uqbsp2",
        "colab_type": "text"
      },
      "source": [
        "#### Chord-Conditioned Model"
      ]
    },
    {
      "cell_type": "code",
      "metadata": {
        "id": "iIGRq5ribuCf",
        "colab_type": "code",
        "colab": {
          "base_uri": "https://localhost:8080/",
          "height": 904
        },
        "outputId": "afdfca7a-d76f-44d0-c7c3-c3b639eb8c7b"
      },
      "source": [
        "config = configs.CONFIG_MAP['hier-multiperf_vel_1bar_med_chords']\n",
        "model = TrainedModel(\n",
        "    config, batch_size = BATCH_SIZE,\n",
        "    checkpoint_dir_or_path = '/content/model_chords_fb64.ckpt')"
      ],
      "execution_count": 7,
      "outputs": [
        {
          "output_type": "stream",
          "text": [
            "INFO:tensorflow:Building MusicVAE model with HierarchicalLstmEncoder, HierarchicalLstmDecoder, and hparams:\n",
            "{'max_seq_len': 512, 'z_size': 512, 'free_bits': 0.0, 'max_beta': 1.0, 'beta_rate': 0.0, 'batch_size': 4, 'grad_clip': 1.0, 'clip_mode': 'global_norm', 'grad_norm_clip_to_zero': 10000, 'learning_rate': 0.001, 'decay_rate': 0.9999, 'min_learning_rate': 1e-05, 'conditional': True, 'dec_rnn_size': [512, 512, 512], 'enc_rnn_size': [1024], 'dropout_keep_prob': 1.0, 'sampling_schedule': 'constant', 'sampling_rate': 0.0, 'use_cudnn': False, 'residual_encoder': False, 'residual_decoder': False, 'control_preprocessing_rnn_size': [256]}\n",
            "INFO:tensorflow:\n",
            "Hierarchical Encoder:\n",
            "  input length: 512\n",
            "  level lengths: [64, 8]\n",
            "\n",
            "INFO:tensorflow:Level 0 splits: 8\n",
            "INFO:tensorflow:\n",
            "Encoder Cells (bidirectional):\n",
            "  units: [1024]\n",
            "\n",
            "WARNING:tensorflow:From /usr/local/lib/python3.6/dist-packages/magenta/models/music_vae/lstm_utils.py:39: MultiRNNCell.__init__ (from tensorflow.python.keras.layers.legacy_rnn.rnn_cell_impl) is deprecated and will be removed in a future version.\n",
            "Instructions for updating:\n",
            "This class is equivalent as tf.keras.layers.StackedRNNCells, and will be replaced by that in Tensorflow 2.0.\n",
            "INFO:tensorflow:Level 1 splits: 1\n",
            "INFO:tensorflow:\n",
            "Encoder Cells (bidirectional):\n",
            "  units: [1024]\n",
            "\n",
            "INFO:tensorflow:\n",
            "Hierarchical Decoder:\n",
            "  input length: 512\n",
            "  level output lengths: [8, 64]\n",
            "\n",
            "INFO:tensorflow:\n",
            "Decoder Cells:\n",
            "  units: [512, 512, 512]\n",
            "\n",
            "WARNING:tensorflow:From /usr/local/lib/python3.6/dist-packages/magenta/models/music_vae/lstm_utils.py:99: dense (from tensorflow.python.keras.legacy_tf_layers.core) is deprecated and will be removed in a future version.\n",
            "Instructions for updating:\n",
            "Use keras.layers.Dense instead.\n",
            "WARNING:tensorflow:From /usr/local/lib/python3.6/dist-packages/tensorflow/python/keras/legacy_tf_layers/core.py:187: Layer.apply (from tensorflow.python.keras.engine.base_layer_v1) is deprecated and will be removed in a future version.\n",
            "Instructions for updating:\n",
            "Please use `layer.__call__` method instead.\n",
            "WARNING:tensorflow:From /usr/local/lib/python3.6/dist-packages/magenta/contrib/rnn.py:751: Layer.add_variable (from tensorflow.python.keras.engine.base_layer_v1) is deprecated and will be removed in a future version.\n",
            "Instructions for updating:\n",
            "Please use `layer.add_weight` method instead.\n",
            "WARNING:tensorflow:From /usr/local/lib/python3.6/dist-packages/magenta/models/music_vae/base_model.py:189: to_float (from tensorflow.python.ops.math_ops) is deprecated and will be removed in a future version.\n",
            "Instructions for updating:\n",
            "Use `tf.cast` instead.\n",
            "WARNING:tensorflow:From /usr/local/lib/python3.6/dist-packages/magenta/contrib/rnn.py:474: bidirectional_dynamic_rnn (from tensorflow.python.ops.rnn) is deprecated and will be removed in a future version.\n",
            "Instructions for updating:\n",
            "Please use `keras.layers.Bidirectional(keras.layers.RNN(cell))`, which is equivalent to this API\n",
            "WARNING:tensorflow:From /usr/local/lib/python3.6/dist-packages/tensorflow/python/ops/rnn.py:447: dynamic_rnn (from tensorflow.python.ops.rnn) is deprecated and will be removed in a future version.\n",
            "Instructions for updating:\n",
            "Please use `keras.layers.RNN(cell)`, which is equivalent to this API\n",
            "WARNING:tensorflow:From /usr/local/lib/python3.6/dist-packages/tensorflow/python/ops/linalg/linear_operator_diag.py:166: calling LinearOperator.__init__ (from tensorflow.python.ops.linalg.linear_operator) with graph_parents is deprecated and will be removed in a future version.\n",
            "Instructions for updating:\n",
            "Do not pass `graph_parents`.  They will  no longer be used.\n",
            "INFO:tensorflow:Restoring parameters from /content/model_chords_fb64.ckpt\n"
          ],
          "name": "stdout"
        }
      ]
    },
    {
      "cell_type": "code",
      "metadata": {
        "id": "0n-f4i_Tby7g",
        "colab_type": "code",
        "colab": {
          "base_uri": "https://localhost:8080/",
          "height": 249
        },
        "outputId": "27897d29-9a86-4dbf-b385-4d6887ccec62"
      },
      "source": [
        "### Same Chord, different styles\n",
        "\n",
        "chord = 'C' \n",
        "temperature = 0.2 \n",
        "seqs = model.sample(n = BATCH_SIZE, length = TOTAL_STEPS, temperature = temperature,\n",
        "                    c_input = chord_encoding(chord))\n",
        "\n",
        "trim_sequences(seqs)\n",
        "play(seqs)"
      ],
      "execution_count": 8,
      "outputs": [
        {
          "output_type": "display_data",
          "data": {
            "text/html": [
              "<div id=\"id_1\"> </div>"
            ],
            "text/plain": [
              "<IPython.core.display.HTML object>"
            ]
          },
          "metadata": {
            "tags": []
          }
        },
        {
          "output_type": "display_data",
          "data": {
            "text/html": [
              "<div id=\"id_2\"> </div>"
            ],
            "text/plain": [
              "<IPython.core.display.HTML object>"
            ]
          },
          "metadata": {
            "tags": []
          }
        },
        {
          "output_type": "display_data",
          "data": {
            "text/html": [
              "<div id=\"id_3\"> </div>"
            ],
            "text/plain": [
              "<IPython.core.display.HTML object>"
            ]
          },
          "metadata": {
            "tags": []
          }
        },
        {
          "output_type": "display_data",
          "data": {
            "text/html": [
              "<div id=\"id_4\"> </div>"
            ],
            "text/plain": [
              "<IPython.core.display.HTML object>"
            ]
          },
          "metadata": {
            "tags": []
          }
        }
      ]
    },
    {
      "cell_type": "code",
      "metadata": {
        "id": "P_DHz5pNcBxR",
        "colab_type": "code",
        "colab": {
          "base_uri": "https://localhost:8080/",
          "height": 275
        },
        "outputId": "ce3c7168-e68d-4a62-9f01-20169f7d2a27"
      },
      "source": [
        "### Same Style, Chord Progression\n",
        "\n",
        "chord_1 = 'C' \n",
        "chord_2 = 'Caug' \n",
        "chord_3 = 'Am'\n",
        "chord_4 = 'E' \n",
        "chords = [chord_1, chord_2, chord_3, chord_4]\n",
        "\n",
        "temperature = 0.2\n",
        "z = np.random.normal(size = [1, Z_SIZE])\n",
        "seqs = [\n",
        "    model.decode(length = TOTAL_STEPS, z = z, temperature = temperature,\n",
        "                 c_input = chord_encoding(c))[0]\n",
        "    for c in chords\n",
        "]\n",
        "\n",
        "trim_sequences(seqs)\n",
        "fix_instruments_for_concatenation(seqs)\n",
        "prog_ns = concatenate_sequences(seqs)\n",
        "\n",
        "play(prog_ns)\n",
        "mm.plot_sequence(prog_ns)"
      ],
      "execution_count": 9,
      "outputs": [
        {
          "output_type": "display_data",
          "data": {
            "text/html": [
              "<div id=\"id_5\"> </div>"
            ],
            "text/plain": [
              "<IPython.core.display.HTML object>"
            ]
          },
          "metadata": {
            "tags": []
          }
        },
        {
          "output_type": "display_data",
          "data": {
            "application/javascript": [
              "\n",
              "(function(root) {\n",
              "  function now() {\n",
              "    return new Date();\n",
              "  }\n",
              "\n",
              "  var force = true;\n",
              "\n",
              "  if (typeof root._bokeh_onload_callbacks === \"undefined\" || force === true) {\n",
              "    root._bokeh_onload_callbacks = [];\n",
              "    root._bokeh_is_loading = undefined;\n",
              "  }\n",
              "\n",
              "  var JS_MIME_TYPE = 'application/javascript';\n",
              "  var HTML_MIME_TYPE = 'text/html';\n",
              "  var EXEC_MIME_TYPE = 'application/vnd.bokehjs_exec.v0+json';\n",
              "  var CLASS_NAME = 'output_bokeh rendered_html';\n",
              "\n",
              "  /**\n",
              "   * Render data to the DOM node\n",
              "   */\n",
              "  function render(props, node) {\n",
              "    var script = document.createElement(\"script\");\n",
              "    node.appendChild(script);\n",
              "  }\n",
              "\n",
              "  /**\n",
              "   * Handle when an output is cleared or removed\n",
              "   */\n",
              "  function handleClearOutput(event, handle) {\n",
              "    var cell = handle.cell;\n",
              "\n",
              "    var id = cell.output_area._bokeh_element_id;\n",
              "    var server_id = cell.output_area._bokeh_server_id;\n",
              "    // Clean up Bokeh references\n",
              "    if (id != null && id in Bokeh.index) {\n",
              "      Bokeh.index[id].model.document.clear();\n",
              "      delete Bokeh.index[id];\n",
              "    }\n",
              "\n",
              "    if (server_id !== undefined) {\n",
              "      // Clean up Bokeh references\n",
              "      var cmd = \"from bokeh.io.state import curstate; print(curstate().uuid_to_server['\" + server_id + \"'].get_sessions()[0].document.roots[0]._id)\";\n",
              "      cell.notebook.kernel.execute(cmd, {\n",
              "        iopub: {\n",
              "          output: function(msg) {\n",
              "            var id = msg.content.text.trim();\n",
              "            if (id in Bokeh.index) {\n",
              "              Bokeh.index[id].model.document.clear();\n",
              "              delete Bokeh.index[id];\n",
              "            }\n",
              "          }\n",
              "        }\n",
              "      });\n",
              "      // Destroy server and session\n",
              "      var cmd = \"import bokeh.io.notebook as ion; ion.destroy_server('\" + server_id + \"')\";\n",
              "      cell.notebook.kernel.execute(cmd);\n",
              "    }\n",
              "  }\n",
              "\n",
              "  /**\n",
              "   * Handle when a new output is added\n",
              "   */\n",
              "  function handleAddOutput(event, handle) {\n",
              "    var output_area = handle.output_area;\n",
              "    var output = handle.output;\n",
              "\n",
              "    // limit handleAddOutput to display_data with EXEC_MIME_TYPE content only\n",
              "    if ((output.output_type != \"display_data\") || (!output.data.hasOwnProperty(EXEC_MIME_TYPE))) {\n",
              "      return\n",
              "    }\n",
              "\n",
              "    var toinsert = output_area.element.find(\".\" + CLASS_NAME.split(' ')[0]);\n",
              "\n",
              "    if (output.metadata[EXEC_MIME_TYPE][\"id\"] !== undefined) {\n",
              "      toinsert[toinsert.length - 1].firstChild.textContent = output.data[JS_MIME_TYPE];\n",
              "      // store reference to embed id on output_area\n",
              "      output_area._bokeh_element_id = output.metadata[EXEC_MIME_TYPE][\"id\"];\n",
              "    }\n",
              "    if (output.metadata[EXEC_MIME_TYPE][\"server_id\"] !== undefined) {\n",
              "      var bk_div = document.createElement(\"div\");\n",
              "      bk_div.innerHTML = output.data[HTML_MIME_TYPE];\n",
              "      var script_attrs = bk_div.children[0].attributes;\n",
              "      for (var i = 0; i < script_attrs.length; i++) {\n",
              "        toinsert[toinsert.length - 1].firstChild.setAttribute(script_attrs[i].name, script_attrs[i].value);\n",
              "        toinsert[toinsert.length - 1].firstChild.textContent = bk_div.children[0].textContent\n",
              "      }\n",
              "      // store reference to server id on output_area\n",
              "      output_area._bokeh_server_id = output.metadata[EXEC_MIME_TYPE][\"server_id\"];\n",
              "    }\n",
              "  }\n",
              "\n",
              "  function register_renderer(events, OutputArea) {\n",
              "\n",
              "    function append_mime(data, metadata, element) {\n",
              "      // create a DOM node to render to\n",
              "      var toinsert = this.create_output_subarea(\n",
              "        metadata,\n",
              "        CLASS_NAME,\n",
              "        EXEC_MIME_TYPE\n",
              "      );\n",
              "      this.keyboard_manager.register_events(toinsert);\n",
              "      // Render to node\n",
              "      var props = {data: data, metadata: metadata[EXEC_MIME_TYPE]};\n",
              "      render(props, toinsert[toinsert.length - 1]);\n",
              "      element.append(toinsert);\n",
              "      return toinsert\n",
              "    }\n",
              "\n",
              "    /* Handle when an output is cleared or removed */\n",
              "    events.on('clear_output.CodeCell', handleClearOutput);\n",
              "    events.on('delete.Cell', handleClearOutput);\n",
              "\n",
              "    /* Handle when a new output is added */\n",
              "    events.on('output_added.OutputArea', handleAddOutput);\n",
              "\n",
              "    /**\n",
              "     * Register the mime type and append_mime function with output_area\n",
              "     */\n",
              "    OutputArea.prototype.register_mime_type(EXEC_MIME_TYPE, append_mime, {\n",
              "      /* Is output safe? */\n",
              "      safe: true,\n",
              "      /* Index of renderer in `output_area.display_order` */\n",
              "      index: 0\n",
              "    });\n",
              "  }\n",
              "\n",
              "  // register the mime type if in Jupyter Notebook environment and previously unregistered\n",
              "  if (root.Jupyter !== undefined) {\n",
              "    var events = require('base/js/events');\n",
              "    var OutputArea = require('notebook/js/outputarea').OutputArea;\n",
              "\n",
              "    if (OutputArea.prototype.mime_types().indexOf(EXEC_MIME_TYPE) == -1) {\n",
              "      register_renderer(events, OutputArea);\n",
              "    }\n",
              "  }\n",
              "\n",
              "  \n",
              "  if (typeof (root._bokeh_timeout) === \"undefined\" || force === true) {\n",
              "    root._bokeh_timeout = Date.now() + 5000;\n",
              "    root._bokeh_failed_load = false;\n",
              "  }\n",
              "\n",
              "  var NB_LOAD_WARNING = {'data': {'text/html':\n",
              "     \"<div style='background-color: #fdd'>\\n\"+\n",
              "     \"<p>\\n\"+\n",
              "     \"BokehJS does not appear to have successfully loaded. If loading BokehJS from CDN, this \\n\"+\n",
              "     \"may be due to a slow or bad network connection. Possible fixes:\\n\"+\n",
              "     \"</p>\\n\"+\n",
              "     \"<ul>\\n\"+\n",
              "     \"<li>re-rerun `output_notebook()` to attempt to load from CDN again, or</li>\\n\"+\n",
              "     \"<li>use INLINE resources instead, as so:</li>\\n\"+\n",
              "     \"</ul>\\n\"+\n",
              "     \"<code>\\n\"+\n",
              "     \"from bokeh.resources import INLINE\\n\"+\n",
              "     \"output_notebook(resources=INLINE)\\n\"+\n",
              "     \"</code>\\n\"+\n",
              "     \"</div>\"}};\n",
              "\n",
              "  function display_loaded() {\n",
              "    var el = document.getElementById(null);\n",
              "    if (el != null) {\n",
              "      el.textContent = \"BokehJS is loading...\";\n",
              "    }\n",
              "    if (root.Bokeh !== undefined) {\n",
              "      if (el != null) {\n",
              "        el.textContent = \"BokehJS \" + root.Bokeh.version + \" successfully loaded.\";\n",
              "      }\n",
              "    } else if (Date.now() < root._bokeh_timeout) {\n",
              "      setTimeout(display_loaded, 100)\n",
              "    }\n",
              "  }\n",
              "\n",
              "\n",
              "  function run_callbacks() {\n",
              "    try {\n",
              "      root._bokeh_onload_callbacks.forEach(function(callback) {\n",
              "        if (callback != null)\n",
              "          callback();\n",
              "      });\n",
              "    } finally {\n",
              "      delete root._bokeh_onload_callbacks\n",
              "    }\n",
              "    console.debug(\"Bokeh: all callbacks have finished\");\n",
              "  }\n",
              "\n",
              "  function load_libs(css_urls, js_urls, callback) {\n",
              "    if (css_urls == null) css_urls = [];\n",
              "    if (js_urls == null) js_urls = [];\n",
              "\n",
              "    root._bokeh_onload_callbacks.push(callback);\n",
              "    if (root._bokeh_is_loading > 0) {\n",
              "      console.debug(\"Bokeh: BokehJS is being loaded, scheduling callback at\", now());\n",
              "      return null;\n",
              "    }\n",
              "    if (js_urls == null || js_urls.length === 0) {\n",
              "      run_callbacks();\n",
              "      return null;\n",
              "    }\n",
              "    console.debug(\"Bokeh: BokehJS not loaded, scheduling load and callback at\", now());\n",
              "    root._bokeh_is_loading = css_urls.length + js_urls.length;\n",
              "\n",
              "    function on_load() {\n",
              "      root._bokeh_is_loading--;\n",
              "      if (root._bokeh_is_loading === 0) {\n",
              "        console.debug(\"Bokeh: all BokehJS libraries/stylesheets loaded\");\n",
              "        run_callbacks()\n",
              "      }\n",
              "    }\n",
              "\n",
              "    function on_error() {\n",
              "      console.error(\"failed to load \" + url);\n",
              "    }\n",
              "\n",
              "    for (var i = 0; i < css_urls.length; i++) {\n",
              "      var url = css_urls[i];\n",
              "      const element = document.createElement(\"link\");\n",
              "      element.onload = on_load;\n",
              "      element.onerror = on_error;\n",
              "      element.rel = \"stylesheet\";\n",
              "      element.type = \"text/css\";\n",
              "      element.href = url;\n",
              "      console.debug(\"Bokeh: injecting link tag for BokehJS stylesheet: \", url);\n",
              "      document.body.appendChild(element);\n",
              "    }\n",
              "\n",
              "    const hashes = {\"https://cdn.bokeh.org/bokeh/release/bokeh-2.1.1.min.js\": \"kLr4fYcqcSpbuI95brIH3vnnYCquzzSxHPU6XGQCIkQRGJwhg0StNbj1eegrHs12\", \"https://cdn.bokeh.org/bokeh/release/bokeh-widgets-2.1.1.min.js\": \"xIGPmVtaOm+z0BqfSOMn4lOR6ciex448GIKG4eE61LsAvmGj48XcMQZtKcE/UXZe\", \"https://cdn.bokeh.org/bokeh/release/bokeh-tables-2.1.1.min.js\": \"Dc9u1wF/0zApGIWoBbH77iWEHtdmkuYWG839Uzmv8y8yBLXebjO9ZnERsde5Ln/P\", \"https://cdn.bokeh.org/bokeh/release/bokeh-gl-2.1.1.min.js\": \"cT9JaBz7GiRXdENrJLZNSC6eMNF3nh3fa5fTF51Svp+ukxPdwcU5kGXGPBgDCa2j\"};\n",
              "\n",
              "    for (var i = 0; i < js_urls.length; i++) {\n",
              "      var url = js_urls[i];\n",
              "      var element = document.createElement('script');\n",
              "      element.onload = on_load;\n",
              "      element.onerror = on_error;\n",
              "      element.async = false;\n",
              "      element.src = url;\n",
              "      if (url in hashes) {\n",
              "        element.crossOrigin = \"anonymous\";\n",
              "        element.integrity = \"sha384-\" + hashes[url];\n",
              "      }\n",
              "      console.debug(\"Bokeh: injecting script tag for BokehJS library: \", url);\n",
              "      document.head.appendChild(element);\n",
              "    }\n",
              "  };\n",
              "\n",
              "  function inject_raw_css(css) {\n",
              "    const element = document.createElement(\"style\");\n",
              "    element.appendChild(document.createTextNode(css));\n",
              "    document.body.appendChild(element);\n",
              "  }\n",
              "\n",
              "  \n",
              "  var js_urls = [\"https://cdn.bokeh.org/bokeh/release/bokeh-2.1.1.min.js\", \"https://cdn.bokeh.org/bokeh/release/bokeh-widgets-2.1.1.min.js\", \"https://cdn.bokeh.org/bokeh/release/bokeh-tables-2.1.1.min.js\", \"https://cdn.bokeh.org/bokeh/release/bokeh-gl-2.1.1.min.js\"];\n",
              "  var css_urls = [];\n",
              "  \n",
              "\n",
              "  var inline_js = [\n",
              "    function(Bokeh) {\n",
              "      Bokeh.set_log_level(\"info\");\n",
              "    },\n",
              "    function(Bokeh) {\n",
              "    \n",
              "    \n",
              "    }\n",
              "  ];\n",
              "\n",
              "  function run_inline_js() {\n",
              "    \n",
              "    if (root.Bokeh !== undefined || force === true) {\n",
              "      \n",
              "    for (var i = 0; i < inline_js.length; i++) {\n",
              "      inline_js[i].call(root, root.Bokeh);\n",
              "    }\n",
              "    } else if (Date.now() < root._bokeh_timeout) {\n",
              "      setTimeout(run_inline_js, 100);\n",
              "    } else if (!root._bokeh_failed_load) {\n",
              "      console.log(\"Bokeh: BokehJS failed to load within specified timeout.\");\n",
              "      root._bokeh_failed_load = true;\n",
              "    } else if (force !== true) {\n",
              "      var cell = $(document.getElementById(null)).parents('.cell').data().cell;\n",
              "      cell.output_area.append_execute_result(NB_LOAD_WARNING)\n",
              "    }\n",
              "\n",
              "  }\n",
              "\n",
              "  if (root._bokeh_is_loading === 0) {\n",
              "    console.debug(\"Bokeh: BokehJS loaded, going straight to plotting\");\n",
              "    run_inline_js();\n",
              "  } else {\n",
              "    load_libs(css_urls, js_urls, function() {\n",
              "      console.debug(\"Bokeh: BokehJS plotting callback run at\", now());\n",
              "      run_inline_js();\n",
              "    });\n",
              "  }\n",
              "}(window));"
            ],
            "application/vnd.bokehjs_load.v0+json": "\n(function(root) {\n  function now() {\n    return new Date();\n  }\n\n  var force = true;\n\n  if (typeof root._bokeh_onload_callbacks === \"undefined\" || force === true) {\n    root._bokeh_onload_callbacks = [];\n    root._bokeh_is_loading = undefined;\n  }\n\n  \n\n  \n  if (typeof (root._bokeh_timeout) === \"undefined\" || force === true) {\n    root._bokeh_timeout = Date.now() + 5000;\n    root._bokeh_failed_load = false;\n  }\n\n  var NB_LOAD_WARNING = {'data': {'text/html':\n     \"<div style='background-color: #fdd'>\\n\"+\n     \"<p>\\n\"+\n     \"BokehJS does not appear to have successfully loaded. If loading BokehJS from CDN, this \\n\"+\n     \"may be due to a slow or bad network connection. Possible fixes:\\n\"+\n     \"</p>\\n\"+\n     \"<ul>\\n\"+\n     \"<li>re-rerun `output_notebook()` to attempt to load from CDN again, or</li>\\n\"+\n     \"<li>use INLINE resources instead, as so:</li>\\n\"+\n     \"</ul>\\n\"+\n     \"<code>\\n\"+\n     \"from bokeh.resources import INLINE\\n\"+\n     \"output_notebook(resources=INLINE)\\n\"+\n     \"</code>\\n\"+\n     \"</div>\"}};\n\n  function display_loaded() {\n    var el = document.getElementById(null);\n    if (el != null) {\n      el.textContent = \"BokehJS is loading...\";\n    }\n    if (root.Bokeh !== undefined) {\n      if (el != null) {\n        el.textContent = \"BokehJS \" + root.Bokeh.version + \" successfully loaded.\";\n      }\n    } else if (Date.now() < root._bokeh_timeout) {\n      setTimeout(display_loaded, 100)\n    }\n  }\n\n\n  function run_callbacks() {\n    try {\n      root._bokeh_onload_callbacks.forEach(function(callback) {\n        if (callback != null)\n          callback();\n      });\n    } finally {\n      delete root._bokeh_onload_callbacks\n    }\n    console.debug(\"Bokeh: all callbacks have finished\");\n  }\n\n  function load_libs(css_urls, js_urls, callback) {\n    if (css_urls == null) css_urls = [];\n    if (js_urls == null) js_urls = [];\n\n    root._bokeh_onload_callbacks.push(callback);\n    if (root._bokeh_is_loading > 0) {\n      console.debug(\"Bokeh: BokehJS is being loaded, scheduling callback at\", now());\n      return null;\n    }\n    if (js_urls == null || js_urls.length === 0) {\n      run_callbacks();\n      return null;\n    }\n    console.debug(\"Bokeh: BokehJS not loaded, scheduling load and callback at\", now());\n    root._bokeh_is_loading = css_urls.length + js_urls.length;\n\n    function on_load() {\n      root._bokeh_is_loading--;\n      if (root._bokeh_is_loading === 0) {\n        console.debug(\"Bokeh: all BokehJS libraries/stylesheets loaded\");\n        run_callbacks()\n      }\n    }\n\n    function on_error() {\n      console.error(\"failed to load \" + url);\n    }\n\n    for (var i = 0; i < css_urls.length; i++) {\n      var url = css_urls[i];\n      const element = document.createElement(\"link\");\n      element.onload = on_load;\n      element.onerror = on_error;\n      element.rel = \"stylesheet\";\n      element.type = \"text/css\";\n      element.href = url;\n      console.debug(\"Bokeh: injecting link tag for BokehJS stylesheet: \", url);\n      document.body.appendChild(element);\n    }\n\n    const hashes = {\"https://cdn.bokeh.org/bokeh/release/bokeh-2.1.1.min.js\": \"kLr4fYcqcSpbuI95brIH3vnnYCquzzSxHPU6XGQCIkQRGJwhg0StNbj1eegrHs12\", \"https://cdn.bokeh.org/bokeh/release/bokeh-widgets-2.1.1.min.js\": \"xIGPmVtaOm+z0BqfSOMn4lOR6ciex448GIKG4eE61LsAvmGj48XcMQZtKcE/UXZe\", \"https://cdn.bokeh.org/bokeh/release/bokeh-tables-2.1.1.min.js\": \"Dc9u1wF/0zApGIWoBbH77iWEHtdmkuYWG839Uzmv8y8yBLXebjO9ZnERsde5Ln/P\", \"https://cdn.bokeh.org/bokeh/release/bokeh-gl-2.1.1.min.js\": \"cT9JaBz7GiRXdENrJLZNSC6eMNF3nh3fa5fTF51Svp+ukxPdwcU5kGXGPBgDCa2j\"};\n\n    for (var i = 0; i < js_urls.length; i++) {\n      var url = js_urls[i];\n      var element = document.createElement('script');\n      element.onload = on_load;\n      element.onerror = on_error;\n      element.async = false;\n      element.src = url;\n      if (url in hashes) {\n        element.crossOrigin = \"anonymous\";\n        element.integrity = \"sha384-\" + hashes[url];\n      }\n      console.debug(\"Bokeh: injecting script tag for BokehJS library: \", url);\n      document.head.appendChild(element);\n    }\n  };\n\n  function inject_raw_css(css) {\n    const element = document.createElement(\"style\");\n    element.appendChild(document.createTextNode(css));\n    document.body.appendChild(element);\n  }\n\n  \n  var js_urls = [\"https://cdn.bokeh.org/bokeh/release/bokeh-2.1.1.min.js\", \"https://cdn.bokeh.org/bokeh/release/bokeh-widgets-2.1.1.min.js\", \"https://cdn.bokeh.org/bokeh/release/bokeh-tables-2.1.1.min.js\", \"https://cdn.bokeh.org/bokeh/release/bokeh-gl-2.1.1.min.js\"];\n  var css_urls = [];\n  \n\n  var inline_js = [\n    function(Bokeh) {\n      Bokeh.set_log_level(\"info\");\n    },\n    function(Bokeh) {\n    \n    \n    }\n  ];\n\n  function run_inline_js() {\n    \n    if (root.Bokeh !== undefined || force === true) {\n      \n    for (var i = 0; i < inline_js.length; i++) {\n      inline_js[i].call(root, root.Bokeh);\n    }\n    } else if (Date.now() < root._bokeh_timeout) {\n      setTimeout(run_inline_js, 100);\n    } else if (!root._bokeh_failed_load) {\n      console.log(\"Bokeh: BokehJS failed to load within specified timeout.\");\n      root._bokeh_failed_load = true;\n    } else if (force !== true) {\n      var cell = $(document.getElementById(null)).parents('.cell').data().cell;\n      cell.output_area.append_execute_result(NB_LOAD_WARNING)\n    }\n\n  }\n\n  if (root._bokeh_is_loading === 0) {\n    console.debug(\"Bokeh: BokehJS loaded, going straight to plotting\");\n    run_inline_js();\n  } else {\n    load_libs(css_urls, js_urls, function() {\n      console.debug(\"Bokeh: BokehJS plotting callback run at\", now());\n      run_inline_js();\n    });\n  }\n}(window));"
          },
          "metadata": {
            "tags": []
          }
        },
        {
          "output_type": "display_data",
          "data": {
            "text/html": [
              "\n",
              "\n",
              "\n",
              "\n",
              "\n",
              "\n",
              "  <div class=\"bk-root\" id=\"2fe94659-b840-42e1-a076-c043d49c06d4\" data-root-id=\"1001\"></div>\n"
            ]
          },
          "metadata": {
            "tags": []
          }
        },
        {
          "output_type": "display_data",
          "data": {
            "application/javascript": [
              "(function(root) {\n",
              "  function embed_document(root) {\n",
              "    \n",
              "  var docs_json = {\"8c70bc63-9f7f-4674-9e67-e1a247c8d635\":{\"roots\":{\"references\":[{\"attributes\":{\"below\":[{\"id\":\"1010\"}],\"center\":[{\"id\":\"1013\"},{\"id\":\"1017\"}],\"left\":[{\"id\":\"1014\"}],\"plot_height\":200,\"plot_width\":500,\"renderers\":[{\"id\":\"1037\"},{\"id\":\"1043\"},{\"id\":\"1049\"},{\"id\":\"1055\"},{\"id\":\"1061\"}],\"title\":{\"id\":\"1063\"},\"toolbar\":{\"id\":\"1024\"},\"x_range\":{\"id\":\"1002\"},\"x_scale\":{\"id\":\"1006\"},\"y_range\":{\"id\":\"1004\"},\"y_scale\":{\"id\":\"1008\"}},\"id\":\"1001\",\"subtype\":\"Figure\",\"type\":\"Plot\"},{\"attributes\":{},\"id\":\"1074\",\"type\":\"UnionRenderers\"},{\"attributes\":{\"source\":{\"id\":\"1033\"}},\"id\":\"1038\",\"type\":\"CDSView\"},{\"attributes\":{},\"id\":\"1077\",\"type\":\"Selection\"},{\"attributes\":{},\"id\":\"1066\",\"type\":\"BasicTickFormatter\"},{\"attributes\":{},\"id\":\"1078\",\"type\":\"UnionRenderers\"},{\"attributes\":{},\"id\":\"1002\",\"type\":\"DataRange1d\"},{\"attributes\":{\"bottom\":{\"field\":\"bottom\"},\"fill_alpha\":{\"value\":0.1},\"fill_color\":{\"value\":\"#d53e4f\"},\"left\":{\"field\":\"start_time\"},\"line_alpha\":{\"value\":0.1},\"right\":{\"field\":\"end_time\"},\"top\":{\"field\":\"top\"}},\"id\":\"1036\",\"type\":\"Quad\"},{\"attributes\":{\"callback\":null,\"tooltips\":[[\"pitch\",\"@pitch\"],[\"program\",\"@program\"],[\"velo\",\"@velocity\"],[\"duration\",\"@duration\"],[\"start_time\",\"@start_time\"],[\"end_time\",\"@end_time\"],[\"velocity\",\"@velocity\"],[\"fill_alpha\",\"@fill_alpha\"]]},\"id\":\"1018\",\"type\":\"HoverTool\"},{\"attributes\":{},\"id\":\"1008\",\"type\":\"LinearScale\"},{\"attributes\":{},\"id\":\"1011\",\"type\":\"BasicTicker\"},{\"attributes\":{},\"id\":\"1004\",\"type\":\"DataRange1d\"},{\"attributes\":{},\"id\":\"1067\",\"type\":\"BasicTickFormatter\"},{\"attributes\":{\"data\":{\"bottom\":{\"__ndarray__\":\"zczMzMxMS0DNzMzMzExLQM3MzMzMTEtAzczMzMxMS0DNzMzMzExLQM3MzMzMzEtAzczMzMzMS0DNzMzMzExLQM3MzMzMzEtAzczMzMxMS0DNzMzMzMxLQM3MzMzMTExAzczMzMzMTUDNzMzMzExMQM3MzMzMTEtAzczMzMxMTEA=\",\"dtype\":\"float64\",\"order\":\"little\",\"shape\":[16]},\"duration\":{\"__ndarray__\":\"VVVVVVVV3T9UVVVVVVXdP1RVVVVVVd0/qKqqqqqqyj+oqqqqqqrKPwAAAAAAAOA/AAAAAAAA4D8AAAAAAADQPwAAAAAAANA/AAAAAAAA0D8AAAAAAADQP1BVVVVVVd0/UFVVVVVV3T9QVVVVVVXdP6Cqqqqqqso/oKqqqqqqyj8=\",\"dtype\":\"float64\",\"order\":\"little\",\"shape\":[16]},\"end_time\":{\"__ndarray__\":\"VVVVVVVV3T+qqqqqqqruP1VVVVVVVfc/VVVVVVVV+z9VVVVVVVX/PwAAAAAAAARAAAAAAAAACEAAAAAAAAAKQAAAAAAAAAxAAAAAAAAADkAAAAAAAAAQQFVVVVVV1RFAVVVVVVXVE0BVVVVVVdUVQFVVVVVV1RZAVVVVVVXVF0A=\",\"dtype\":\"float64\",\"order\":\"little\",\"shape\":[16]},\"fill_alpha\":{\"__ndarray__\":\"AAAAAABA5D8AAAAAAEDkPwAAAAAAQOQ/AAAAAABA5D8AAAAAAEDkPwAAAAAAQOQ/AAAAAABA5D8AAAAAAEDkPwAAAAAAQOQ/AAAAAABA5D8AAAAAAEDkPwAAAAAAQOQ/AAAAAABA5D8AAAAAAEDkPwAAAAAAQOQ/AAAAAABA5D8=\",\"dtype\":\"float64\",\"order\":\"little\",\"shape\":[16]},\"index\":[2,7,14,20,22,26,30,37,40,47,50,55,60,67,74,77],\"instrument\":[3,3,3,3,3,3,3,3,3,3,3,3,3,3,3,3],\"pitch\":[55,55,55,55,55,56,56,55,56,55,56,57,60,57,55,57],\"program\":[64,64,64,64,64,64,64,64,64,64,64,64,64,64,64,64],\"start_time\":{\"__ndarray__\":\"AAAAAAAAAAAAAAAAAADgPwAAAAAAAPA/AAAAAAAA+D8AAAAAAAD8PwAAAAAAAABAAAAAAAAABEAAAAAAAAAIQAAAAAAAAApAAAAAAAAADEAAAAAAAAAOQAAAAAAAABBAAAAAAAAAEkAAAAAAAAAUQAAAAAAAABZAAAAAAAAAF0A=\",\"dtype\":\"float64\",\"order\":\"little\",\"shape\":[16]},\"top\":{\"__ndarray__\":\"MzMzMzOzS0AzMzMzM7NLQDMzMzMzs0tAMzMzMzOzS0AzMzMzM7NLQDMzMzMzM0xAMzMzMzMzTEAzMzMzM7NLQDMzMzMzM0xAMzMzMzOzS0AzMzMzMzNMQDMzMzMzs0xAMzMzMzMzTkAzMzMzM7NMQDMzMzMzs0tAMzMzMzOzTEA=\",\"dtype\":\"float64\",\"order\":\"little\",\"shape\":[16]},\"velocity\":[81,81,81,81,81,81,81,81,81,81,81,81,81,81,81,81]},\"selected\":{\"id\":\"1073\"},\"selection_policy\":{\"id\":\"1074\"}},\"id\":\"1045\",\"type\":\"ColumnDataSource\"},{\"attributes\":{\"text\":\"\"},\"id\":\"1063\",\"type\":\"Title\"},{\"attributes\":{\"bottom\":{\"field\":\"bottom\"},\"fill_alpha\":{\"field\":\"fill_alpha\"},\"fill_color\":{\"value\":\"#fdae61\"},\"left\":{\"field\":\"start_time\"},\"right\":{\"field\":\"end_time\"},\"top\":{\"field\":\"top\"}},\"id\":\"1059\",\"type\":\"Quad\"},{\"attributes\":{\"data_source\":{\"id\":\"1057\"},\"glyph\":{\"id\":\"1059\"},\"hover_glyph\":null,\"muted_glyph\":null,\"nonselection_glyph\":{\"id\":\"1060\"},\"selection_glyph\":null,\"view\":{\"id\":\"1062\"}},\"id\":\"1061\",\"type\":\"GlyphRenderer\"},{\"attributes\":{},\"id\":\"1070\",\"type\":\"UnionRenderers\"},{\"attributes\":{\"bottom\":{\"field\":\"bottom\"},\"fill_alpha\":{\"field\":\"fill_alpha\"},\"fill_color\":{\"value\":\"#3288bd\"},\"left\":{\"field\":\"start_time\"},\"right\":{\"field\":\"end_time\"},\"top\":{\"field\":\"top\"}},\"id\":\"1041\",\"type\":\"Quad\"},{\"attributes\":{\"axis\":{\"id\":\"1010\"},\"ticker\":null},\"id\":\"1013\",\"type\":\"Grid\"},{\"attributes\":{\"data_source\":{\"id\":\"1039\"},\"glyph\":{\"id\":\"1041\"},\"hover_glyph\":null,\"muted_glyph\":null,\"nonselection_glyph\":{\"id\":\"1042\"},\"selection_glyph\":null,\"view\":{\"id\":\"1044\"}},\"id\":\"1043\",\"type\":\"GlyphRenderer\"},{\"attributes\":{\"data\":{\"bottom\":{\"__ndarray__\":\"zczMzMzMS0DNzMzMzMxLQM3MzMzMzEtAzczMzMzMS0DNzMzMzMxLQA==\",\"dtype\":\"float64\",\"order\":\"little\",\"shape\":[5]},\"duration\":{\"__ndarray__\":\"UFVVVVVV3T9QVVVVVVXdP1BVVVVVVd0/oKqqqqqqyj+gqqqqqqrKPw==\",\"dtype\":\"float64\",\"order\":\"little\",\"shape\":[5]},\"end_time\":{\"__ndarray__\":\"VVVVVVXVGUBVVVVVVdUbQFVVVVVV1R1AVVVVVVXVHkBVVVVVVdUfQA==\",\"dtype\":\"float64\",\"order\":\"little\",\"shape\":[5]},\"fill_alpha\":{\"__ndarray__\":\"AAAAAABA5D8AAAAAAEDkPwAAAAAAQOQ/AAAAAABA5D8AAAAAAEDkPw==\",\"dtype\":\"float64\",\"order\":\"little\",\"shape\":[5]},\"index\":[81,86,93,100,102],\"instrument\":[5,5,5,5,5],\"pitch\":[56,56,56,56,56],\"program\":[69,69,69,69,69],\"start_time\":{\"__ndarray__\":\"AAAAAAAAGEAAAAAAAAAaQAAAAAAAABxAAAAAAAAAHkAAAAAAAAAfQA==\",\"dtype\":\"float64\",\"order\":\"little\",\"shape\":[5]},\"top\":{\"__ndarray__\":\"MzMzMzMzTEAzMzMzMzNMQDMzMzMzM0xAMzMzMzMzTEAzMzMzMzNMQA==\",\"dtype\":\"float64\",\"order\":\"little\",\"shape\":[5]},\"velocity\":[81,81,81,81,81]},\"selected\":{\"id\":\"1077\"},\"selection_policy\":{\"id\":\"1078\"}},\"id\":\"1057\",\"type\":\"ColumnDataSource\"},{\"attributes\":{\"data\":{\"bottom\":{\"__ndarray__\":\"zczMzMzMT0BmZmZmZqZQQGZmZmZm5lFAzczMzMzMT0BmZmZmZqZQQGZmZmZm5lFAzczMzMzMT0BmZmZmZqZQQGZmZmZm5lFAzczMzMzMT0BmZmZmZuZQQGZmZmZm5lFAzczMzMzMT0BmZmZmZuZQQGZmZmZm5lFAzczMzMzMT0BmZmZmZuZQQGZmZmZm5lFAzczMzMzMT0BmZmZmZiZRQGZmZmZm5lFAzczMzMzMT0BmZmZmZiZRQGZmZmZm5lFAzczMzMzMT0BmZmZmZiZRQGZmZmZm5lFAzczMzMzMT0DNzMzMzMxPQGZmZmZm5lBAZmZmZmamUUDNzMzMzMxPQGZmZmZm5lBAZmZmZmamUUDNzMzMzMxPQGZmZmZm5lBAZmZmZmamUUA=\",\"dtype\":\"float64\",\"order\":\"little\",\"shape\":[37]},\"duration\":{\"__ndarray__\":\"qqqqqqqq5j+oqqqqqqrKP6iqqqqqqso/qKqqqqqqyj+oqqqqqqrKP6iqqqqqqso/qKqqqqqqyj+oqqqqqqrKP6iqqqqqqso/qKqqqqqq5j+gqqqqqqrKP6Cqqqqqqso/oKqqqqqqyj+gqqqqqqrKP6Cqqqqqqso/oKqqqqqqyj+gqqqqqqrKP6Cqqqqqqso/qKqqqqqq5j+gqqqqqqrKP6Cqqqqqqso/oKqqqqqqyj+gqqqqqqrKP6Cqqqqqqso/oKqqqqqqyj+gqqqqqqrKP6Cqqqqqqso/oKqqqqqqyj+oqqqqqqrmP6Cqqqqqqso/oKqqqqqqyj+gqqqqqqrKP6Cqqqqqqso/oKqqqqqqyj+gqqqqqqrKP6Cqqqqqqso/oKqqqqqqyj8=\",\"dtype\":\"float64\",\"order\":\"little\",\"shape\":[37]},\"end_time\":{\"__ndarray__\":\"qqqqqqqq5j+qqqqqqqrmP6qqqqqqquY/VVVVVVVV8z9VVVVVVVXzP1VVVVVVVfM/VVVVVVVV+z9VVVVVVVX7P1VVVVVVVfs/qqqqqqqqBUCqqqqqqqoFQKqqqqqqqgVAqqqqqqqqCUCqqqqqqqoJQKqqqqqqqglAqqqqqqqqDUCqqqqqqqoNQKqqqqqqqg1AVVVVVVXVEkBVVVVVVdUSQFVVVVVV1RJAVVVVVVXVE0BVVVVVVdUUQFVVVVVV1RRAVVVVVVXVFUBVVVVVVdUWQFVVVVVV1RZAVVVVVVXVF0BVVVVVVdUaQFVVVVVV1RpAVVVVVVXVGkBVVVVVVdUcQFVVVVVV1RxAVVVVVVXVHEBVVVVVVdUeQFVVVVVV1R5AVVVVVVXVHkA=\",\"dtype\":\"float64\",\"order\":\"little\",\"shape\":[37]},\"fill_alpha\":{\"__ndarray__\":\"AAAAAABA5D8AAAAAAEDkPwAAAAAAQOQ/AAAAAABA5D8AAAAAAEDkPwAAAAAAQOQ/AAAAAABA5D8AAAAAAEDkPwAAAAAAQOQ/AAAAAABA5D8AAAAAAEDkPwAAAAAAQOQ/AAAAAABA5D8AAAAAAEDkPwAAAAAAQOQ/AAAAAABA5D8AAAAAAEDkPwAAAAAAQOQ/AAAAAABA5D8AAAAAAEDkPwAAAAAAQOQ/AAAAAABA5D8AAAAAAEDkPwAAAAAAQOQ/AAAAAABA5D8AAAAAAEDkPwAAAAAAQOQ/AAAAAABA5D8AAAAAAEDkPwAAAAAAQOQ/AAAAAABA5D8AAAAAAEDkPwAAAAAAQOQ/AAAAAABA5D8AAAAAAEDkPwAAAAAAQOQ/AAAAAABA5D8=\",\"dtype\":\"float64\",\"order\":\"little\",\"shape\":[37]},\"index\":[0,4,5,10,11,12,16,17,18,24,28,29,33,34,35,43,44,45,53,57,58,62,64,65,69,71,72,76,79,83,84,89,90,91,96,97,98],\"instrument\":[1,1,1,1,1,1,1,1,1,1,1,1,1,1,1,1,1,1,1,1,1,1,1,1,1,1,1,1,1,1,1,1,1,1,1,1,1],\"pitch\":[64,67,72,64,67,72,64,67,72,64,68,72,64,68,72,64,68,72,64,69,72,64,69,72,64,69,72,64,64,68,71,64,68,71,64,68,71],\"program\":[24,24,24,24,24,24,24,24,24,24,24,24,24,24,24,24,24,24,24,24,24,24,24,24,24,24,24,24,24,24,24,24,24,24,24,24,24],\"start_time\":{\"__ndarray__\":\"AAAAAAAAAAAAAAAAAADgPwAAAAAAAOA/AAAAAAAA8D8AAAAAAADwPwAAAAAAAPA/AAAAAAAA+D8AAAAAAAD4PwAAAAAAAPg/AAAAAAAAAEAAAAAAAAAEQAAAAAAAAARAAAAAAAAACEAAAAAAAAAIQAAAAAAAAAhAAAAAAAAADEAAAAAAAAAMQAAAAAAAAAxAAAAAAAAAEEAAAAAAAAASQAAAAAAAABJAAAAAAAAAE0AAAAAAAAAUQAAAAAAAABRAAAAAAAAAFUAAAAAAAAAWQAAAAAAAABZAAAAAAAAAF0AAAAAAAAAYQAAAAAAAABpAAAAAAAAAGkAAAAAAAAAcQAAAAAAAABxAAAAAAAAAHEAAAAAAAAAeQAAAAAAAAB5AAAAAAAAAHkA=\",\"dtype\":\"float64\",\"order\":\"little\",\"shape\":[37]},\"top\":{\"__ndarray__\":\"mpmZmZkZUECamZmZmdlQQJqZmZmZGVJAmpmZmZkZUECamZmZmdlQQJqZmZmZGVJAmpmZmZkZUECamZmZmdlQQJqZmZmZGVJAmpmZmZkZUECamZmZmRlRQJqZmZmZGVJAmpmZmZkZUECamZmZmRlRQJqZmZmZGVJAmpmZmZkZUECamZmZmRlRQJqZmZmZGVJAmpmZmZkZUECamZmZmVlRQJqZmZmZGVJAmpmZmZkZUECamZmZmVlRQJqZmZmZGVJAmpmZmZkZUECamZmZmVlRQJqZmZmZGVJAmpmZmZkZUECamZmZmRlQQJqZmZmZGVFAmpmZmZnZUUCamZmZmRlQQJqZmZmZGVFAmpmZmZnZUUCamZmZmRlQQJqZmZmZGVFAmpmZmZnZUUA=\",\"dtype\":\"float64\",\"order\":\"little\",\"shape\":[37]},\"velocity\":[81,81,81,81,81,81,81,81,81,81,81,81,81,81,81,81,81,81,81,81,81,81,81,81,81,81,81,81,81,81,81,81,81,81,81,81,81]},\"selected\":{\"id\":\"1069\"},\"selection_policy\":{\"id\":\"1070\"}},\"id\":\"1033\",\"type\":\"ColumnDataSource\"},{\"attributes\":{},\"id\":\"1021\",\"type\":\"ResetTool\"},{\"attributes\":{\"axis\":{\"id\":\"1014\"},\"dimension\":1,\"ticker\":{\"id\":\"1032\"}},\"id\":\"1017\",\"type\":\"Grid\"},{\"attributes\":{\"bottom\":{\"field\":\"bottom\"},\"fill_alpha\":{\"value\":0.1},\"fill_color\":{\"value\":\"#3288bd\"},\"left\":{\"field\":\"start_time\"},\"line_alpha\":{\"value\":0.1},\"right\":{\"field\":\"end_time\"},\"top\":{\"field\":\"top\"}},\"id\":\"1042\",\"type\":\"Quad\"},{\"attributes\":{\"source\":{\"id\":\"1057\"}},\"id\":\"1062\",\"type\":\"CDSView\"},{\"attributes\":{\"bottom\":{\"field\":\"bottom\"},\"fill_alpha\":{\"field\":\"fill_alpha\"},\"fill_color\":{\"value\":\"#66c2a5\"},\"left\":{\"field\":\"start_time\"},\"right\":{\"field\":\"end_time\"},\"top\":{\"field\":\"top\"}},\"id\":\"1053\",\"type\":\"Quad\"},{\"attributes\":{\"data_source\":{\"id\":\"1051\"},\"glyph\":{\"id\":\"1053\"},\"hover_glyph\":null,\"muted_glyph\":null,\"nonselection_glyph\":{\"id\":\"1054\"},\"selection_glyph\":null,\"view\":{\"id\":\"1056\"}},\"id\":\"1055\",\"type\":\"GlyphRenderer\"},{\"attributes\":{\"bottom_units\":\"screen\",\"fill_alpha\":0.5,\"fill_color\":\"lightgrey\",\"left_units\":\"screen\",\"level\":\"overlay\",\"line_alpha\":1.0,\"line_color\":\"black\",\"line_dash\":[4,4],\"line_width\":2,\"right_units\":\"screen\",\"top_units\":\"screen\"},\"id\":\"1023\",\"type\":\"BoxAnnotation\"},{\"attributes\":{\"data\":{\"bottom\":{\"__ndarray__\":\"zczMzMzMR0DNzMzMzExFQM3MzMzMzEFAzczMzMzMQUDNzMzMzMxFQM3MzMzMzEVAzczMzMzMRUDNzMzMzExGQM3MzMzMzENAzczMzMxMRkDNzMzMzMxDQM3MzMzMzENAzczMzMzMQ0DNzMzMzMxDQM3MzMzMzENA\",\"dtype\":\"float64\",\"order\":\"little\",\"shape\":[15]},\"duration\":{\"__ndarray__\":\"VVVVVVVV3T9UVVVVVVXdP1RVVVVVVd0/VFVVVVVV3T9YVVVVVVXdP1BVVVVVVd0/UFVVVVVV3T9QVVVVVVXdP1BVVVVVVd0/UFVVVVVV3T9QVVVVVVXdP1BVVVVVVd0/UFVVVVVV3T9QVVVVVVXdP1BVVVVVVd0/\",\"dtype\":\"float64\",\"order\":\"little\",\"shape\":[15]},\"end_time\":{\"__ndarray__\":\"VVVVVVVV3T+qqqqqqqruP1VVVVVVVfc/VVVVVVVV/z+rqqqqqqoDQKqqqqqqqgtAqqqqqqqqD0BVVVVVVdURQFVVVVVV1RNAVVVVVVXVFUBVVVVVVdUXQFVVVVVV1RlAVVVVVVXVG0BVVVVVVdUdQFVVVVVV1R9A\",\"dtype\":\"float64\",\"order\":\"little\",\"shape\":[15]},\"fill_alpha\":{\"__ndarray__\":\"AAAAAABA4D8AAAAAAEDgPwAAAAAAQOA/AAAAAABA4D8AAAAAAEDgPwAAAAAAQOA/AAAAAABA4D8AAAAAAEDgPwAAAAAAQOA/AAAAAABA4D8AAAAAAEDgPwAAAAAAQOA/AAAAAABA4D8AAAAAAEDgPwAAAAAAQOA/\",\"dtype\":\"float64\",\"order\":\"little\",\"shape\":[15]},\"index\":[1,6,13,19,25,36,46,54,59,66,73,80,85,92,99],\"instrument\":[2,2,2,2,2,2,2,2,2,2,2,2,2,2,2],\"pitch\":[48,43,36,36,44,44,44,45,40,45,40,40,40,40,40],\"program\":[20,20,20,20,20,20,20,20,20,20,20,20,20,20,20],\"start_time\":{\"__ndarray__\":\"AAAAAAAAAAAAAAAAAADgPwAAAAAAAPA/AAAAAAAA+D8AAAAAAAAAQAAAAAAAAAhAAAAAAAAADEAAAAAAAAAQQAAAAAAAABJAAAAAAAAAFEAAAAAAAAAWQAAAAAAAABhAAAAAAAAAGkAAAAAAAAAcQAAAAAAAAB5A\",\"dtype\":\"float64\",\"order\":\"little\",\"shape\":[15]},\"top\":{\"__ndarray__\":\"MzMzMzMzSEAzMzMzM7NFQDMzMzMzM0JAMzMzMzMzQkAzMzMzMzNGQDMzMzMzM0ZAMzMzMzMzRkAzMzMzM7NGQDMzMzMzM0RAMzMzMzOzRkAzMzMzMzNEQDMzMzMzM0RAMzMzMzMzREAzMzMzMzNEQDMzMzMzM0RA\",\"dtype\":\"float64\",\"order\":\"little\",\"shape\":[15]},\"velocity\":[65,65,65,65,65,65,65,65,65,65,65,65,65,65,65]},\"selected\":{\"id\":\"1071\"},\"selection_policy\":{\"id\":\"1072\"}},\"id\":\"1039\",\"type\":\"ColumnDataSource\"},{\"attributes\":{},\"id\":\"1073\",\"type\":\"Selection\"},{\"attributes\":{\"source\":{\"id\":\"1039\"}},\"id\":\"1044\",\"type\":\"CDSView\"},{\"attributes\":{\"data_source\":{\"id\":\"1045\"},\"glyph\":{\"id\":\"1047\"},\"hover_glyph\":null,\"muted_glyph\":null,\"nonselection_glyph\":{\"id\":\"1048\"},\"selection_glyph\":null,\"view\":{\"id\":\"1050\"}},\"id\":\"1049\",\"type\":\"GlyphRenderer\"},{\"attributes\":{},\"id\":\"1072\",\"type\":\"UnionRenderers\"},{\"attributes\":{\"axis_label\":\"pitch (MIDI)\",\"formatter\":{\"id\":\"1067\"},\"ticker\":{\"id\":\"1030\"}},\"id\":\"1014\",\"type\":\"LinearAxis\"},{\"attributes\":{},\"id\":\"1022\",\"type\":\"SaveTool\"},{\"attributes\":{\"source\":{\"id\":\"1051\"}},\"id\":\"1056\",\"type\":\"CDSView\"},{\"attributes\":{\"bottom\":{\"field\":\"bottom\"},\"fill_alpha\":{\"value\":0.1},\"fill_color\":{\"value\":\"#fdae61\"},\"left\":{\"field\":\"start_time\"},\"line_alpha\":{\"value\":0.1},\"right\":{\"field\":\"end_time\"},\"top\":{\"field\":\"top\"}},\"id\":\"1060\",\"type\":\"Quad\"},{\"attributes\":{\"data\":{\"bottom\":{\"__ndarray__\":\"ZmZmZmbmUUBmZmZmZqZRQGZmZmZm5lFAZmZmZmZmUkBmZmZmZuZRQGZmZmZmplFAZmZmZmbmUEBmZmZmZuZQQGZmZmZm5lFAZmZmZmbmUEBmZmZmZuZRQGZmZmZm5lBAZmZmZmbmUUBmZmZmZuZQQGZmZmZm5lFAZmZmZmbmUEBmZmZmZuZRQGZmZmZmJlFAZmZmZmYmUUBmZmZmZiZRQGZmZmZmJlFAZmZmZmYmUUBmZmZmZiZRQGZmZmZmJlFAZmZmZmamUUBmZmZmZuZQQGZmZmZmplFAZmZmZmYmUkBmZmZmZqZRQGZmZmZm5lBAZmZmZmamUUA=\",\"dtype\":\"float64\",\"order\":\"little\",\"shape\":[31]},\"duration\":{\"__ndarray__\":\"VVVVVVVV4T+qqqqqqqrSPwAAAAAAANA/VFVVVVVV4T8AAAAAAADQPwAAAAAAANA/AAAAAAAA3D8AAAAAAADcPwAAAAAAANw/AAAAAAAAyD8AAAAAAADIPwAAAAAAAMg/AAAAAAAAyD8AAAAAAADIPwAAAAAAAMg/AAAAAAAAyD8AAAAAAADIPwAAAAAAANw/UFVVVVVV1T/Aqqqqqqq6P6Cqqqqqqso/oKqqqqqqyj+gqqqqqqrKP6Cqqqqqqso/qKqqqqqq4D9QVVVVVVXRPwAAAAAAANA/UFVVVVVV0T8AAAAAAADQP1BVVVVVVdE/AAAAAAAA0D8=\",\"dtype\":\"float64\",\"order\":\"little\",\"shape\":[31]},\"end_time\":{\"__ndarray__\":\"VVVVVVVV4T9VVVVVVVXpPwAAAAAAAPA/qqqqqqqq+D8AAAAAAAD8PwAAAAAAAABAAAAAAACAA0AAAAAAAIAHQAAAAAAAgAdAAAAAAACACUAAAAAAAIAJQAAAAAAAgAtAAAAAAACAC0AAAAAAAIANQAAAAAAAgA1AAAAAAACAD0AAAAAAAIAPQAAAAAAAwBFAVVVVVVVVE0CrqqqqquoTQFVVVVVV1RRAVVVVVVXVFUBVVVVVVdUWQFVVVVVV1RdAVVVVVVUVGkBVVVVVVRUbQAAAAAAAABxAVVVVVVUVHUAAAAAAAAAeQFVVVVVVFR9AAAAAAAAAIEA=\",\"dtype\":\"float64\",\"order\":\"little\",\"shape\":[31]},\"fill_alpha\":{\"__ndarray__\":\"AAAAAABA5D8AAAAAAEDkPwAAAAAAQOA/AAAAAABA5D8AAAAAAEDgPwAAAAAAQOQ/AAAAAABA5D8AAAAAAEDkPwAAAAAAQOQ/AAAAAABA4D8AAAAAAEDkPwAAAAAAQOA/AAAAAABA5D8AAAAAAEDgPwAAAAAAQOQ/AAAAAABA4D8AAAAAAEDkPwAAAAAAQOQ/AAAAAABA5D8AAAAAAEDkPwAAAAAAQOQ/AAAAAABA5D8AAAAAAEDkPwAAAAAAQOQ/AAAAAABA5D8AAAAAAEDkPwAAAAAAQOQ/AAAAAABA6D8AAAAAAEDoPwAAAAAAQOQ/AAAAAABA6D8=\",\"dtype\":\"float64\",\"order\":\"little\",\"shape\":[31]},\"index\":[3,8,9,15,21,23,27,31,32,38,39,41,42,48,49,51,52,56,61,63,68,70,75,78,82,87,88,94,95,101,103],\"instrument\":[4,4,4,4,4,4,4,4,4,4,4,4,4,4,4,4,4,4,4,4,4,4,4,4,4,4,4,4,4,4,4],\"pitch\":[72,71,72,74,72,71,68,68,72,68,72,68,72,68,72,68,72,69,69,69,69,69,69,69,71,68,71,73,71,68,71],\"program\":[73,73,73,73,73,73,73,73,73,73,73,73,73,73,73,73,73,73,73,73,73,73,73,73,73,73,73,73,73,73,73],\"start_time\":{\"__ndarray__\":\"AAAAAAAAAAAAAAAAAADgPwAAAAAAAOg/AAAAAAAA8D8AAAAAAAD4PwAAAAAAAPw/AAAAAAAAAEAAAAAAAAAEQAAAAAAAAARAAAAAAAAACEAAAAAAAAAIQAAAAAAAAApAAAAAAAAACkAAAAAAAAAMQAAAAAAAAAxAAAAAAAAADkAAAAAAAAAOQAAAAAAAABBAAAAAAAAAEkAAAAAAAIATQAAAAAAAABRAAAAAAAAAFUAAAAAAAAAWQAAAAAAAABdAAAAAAAAAGEAAAAAAAAAaQAAAAAAAABtAAAAAAAAAHEAAAAAAAAAdQAAAAAAAAB5AAAAAAAAAH0A=\",\"dtype\":\"float64\",\"order\":\"little\",\"shape\":[31]},\"top\":{\"__ndarray__\":\"mpmZmZkZUkCamZmZmdlRQJqZmZmZGVJAmpmZmZmZUkCamZmZmRlSQJqZmZmZ2VFAmpmZmZkZUUCamZmZmRlRQJqZmZmZGVJAmpmZmZkZUUCamZmZmRlSQJqZmZmZGVFAmpmZmZkZUkCamZmZmRlRQJqZmZmZGVJAmpmZmZkZUUCamZmZmRlSQJqZmZmZWVFAmpmZmZlZUUCamZmZmVlRQJqZmZmZWVFAmpmZmZlZUUCamZmZmVlRQJqZmZmZWVFAmpmZmZnZUUCamZmZmRlRQJqZmZmZ2VFAmpmZmZlZUkCamZmZmdlRQJqZmZmZGVFAmpmZmZnZUUA=\",\"dtype\":\"float64\",\"order\":\"little\",\"shape\":[31]},\"velocity\":[81,81,65,81,65,81,81,81,81,65,81,65,81,65,81,65,81,81,81,81,81,81,81,81,81,81,81,97,97,81,97]},\"selected\":{\"id\":\"1075\"},\"selection_policy\":{\"id\":\"1076\"}},\"id\":\"1051\",\"type\":\"ColumnDataSource\"},{\"attributes\":{},\"id\":\"1076\",\"type\":\"UnionRenderers\"},{\"attributes\":{\"bottom\":{\"field\":\"bottom\"},\"fill_alpha\":{\"value\":0.1},\"fill_color\":{\"value\":\"#66c2a5\"},\"left\":{\"field\":\"start_time\"},\"line_alpha\":{\"value\":0.1},\"right\":{\"field\":\"end_time\"},\"top\":{\"field\":\"top\"}},\"id\":\"1054\",\"type\":\"Quad\"},{\"attributes\":{\"bottom\":{\"field\":\"bottom\"},\"fill_alpha\":{\"field\":\"fill_alpha\"},\"fill_color\":{\"value\":\"#d53e4f\"},\"left\":{\"field\":\"start_time\"},\"right\":{\"field\":\"end_time\"},\"top\":{\"field\":\"top\"}},\"id\":\"1035\",\"type\":\"Quad\"},{\"attributes\":{},\"id\":\"1019\",\"type\":\"PanTool\"},{\"attributes\":{},\"id\":\"1071\",\"type\":\"Selection\"},{\"attributes\":{\"axis_label\":\"time (sec)\",\"formatter\":{\"id\":\"1066\"},\"ticker\":{\"id\":\"1011\"}},\"id\":\"1010\",\"type\":\"LinearAxis\"},{\"attributes\":{\"bottom\":{\"field\":\"bottom\"},\"fill_alpha\":{\"field\":\"fill_alpha\"},\"fill_color\":{\"value\":\"#f46d43\"},\"left\":{\"field\":\"start_time\"},\"right\":{\"field\":\"end_time\"},\"top\":{\"field\":\"top\"}},\"id\":\"1047\",\"type\":\"Quad\"},{\"attributes\":{\"data_source\":{\"id\":\"1033\"},\"glyph\":{\"id\":\"1035\"},\"hover_glyph\":null,\"muted_glyph\":null,\"nonselection_glyph\":{\"id\":\"1036\"},\"selection_glyph\":null,\"view\":{\"id\":\"1038\"}},\"id\":\"1037\",\"type\":\"GlyphRenderer\"},{\"attributes\":{},\"id\":\"1075\",\"type\":\"Selection\"},{\"attributes\":{},\"id\":\"1006\",\"type\":\"LinearScale\"},{\"attributes\":{\"source\":{\"id\":\"1045\"}},\"id\":\"1050\",\"type\":\"CDSView\"},{\"attributes\":{\"interval\":12},\"id\":\"1030\",\"type\":\"SingleIntervalTicker\"},{\"attributes\":{\"active_drag\":\"auto\",\"active_inspect\":\"auto\",\"active_multi\":null,\"active_scroll\":\"auto\",\"active_tap\":\"auto\",\"tools\":[{\"id\":\"1018\"},{\"id\":\"1019\"},{\"id\":\"1020\"},{\"id\":\"1021\"},{\"id\":\"1022\"}]},\"id\":\"1024\",\"type\":\"Toolbar\"},{\"attributes\":{\"bottom\":{\"field\":\"bottom\"},\"fill_alpha\":{\"value\":0.1},\"fill_color\":{\"value\":\"#f46d43\"},\"left\":{\"field\":\"start_time\"},\"line_alpha\":{\"value\":0.1},\"right\":{\"field\":\"end_time\"},\"top\":{\"field\":\"top\"}},\"id\":\"1048\",\"type\":\"Quad\"},{\"attributes\":{\"interval\":12},\"id\":\"1032\",\"type\":\"SingleIntervalTicker\"},{\"attributes\":{\"overlay\":{\"id\":\"1023\"}},\"id\":\"1020\",\"type\":\"BoxZoomTool\"},{\"attributes\":{},\"id\":\"1069\",\"type\":\"Selection\"}],\"root_ids\":[\"1001\"]},\"title\":\"Bokeh Application\",\"version\":\"2.1.1\"}};\n",
              "  var render_items = [{\"docid\":\"8c70bc63-9f7f-4674-9e67-e1a247c8d635\",\"root_ids\":[\"1001\"],\"roots\":{\"1001\":\"2fe94659-b840-42e1-a076-c043d49c06d4\"}}];\n",
              "  root.Bokeh.embed.embed_items_notebook(docs_json, render_items);\n",
              "\n",
              "  }\n",
              "  if (root.Bokeh !== undefined) {\n",
              "    embed_document(root);\n",
              "  } else {\n",
              "    var attempts = 0;\n",
              "    var timer = setInterval(function(root) {\n",
              "      if (root.Bokeh !== undefined) {\n",
              "        clearInterval(timer);\n",
              "        embed_document(root);\n",
              "      } else {\n",
              "        attempts++;\n",
              "        if (attempts > 100) {\n",
              "          clearInterval(timer);\n",
              "          console.log(\"Bokeh: ERROR: Unable to run BokehJS code because BokehJS library is missing\");\n",
              "        }\n",
              "      }\n",
              "    }, 10, root)\n",
              "  }\n",
              "})(window);"
            ],
            "application/vnd.bokehjs_exec.v0+json": ""
          },
          "metadata": {
            "tags": [],
            "application/vnd.bokehjs_exec.v0+json": {
              "id": "1001"
            }
          }
        }
      ]
    },
    {
      "cell_type": "code",
      "metadata": {
        "id": "vmawWcJbcWvK",
        "colab_type": "code",
        "colab": {}
      },
      "source": [
        ""
      ],
      "execution_count": null,
      "outputs": []
    }
  ]
}