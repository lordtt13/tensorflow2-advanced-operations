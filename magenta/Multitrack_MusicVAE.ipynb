{
  "nbformat": 4,
  "nbformat_minor": 0,
  "metadata": {
    "colab": {
      "name": "Multitrack MusicVAE.ipynb",
      "provenance": []
    },
    "kernelspec": {
      "name": "python3",
      "display_name": "Python 3"
    },
    "accelerator": "GPU"
  },
  "cells": [
    {
      "cell_type": "markdown",
      "metadata": {
        "id": "MR4wuzQpaZIz",
        "colab_type": "text"
      },
      "source": [
        "### Learning a Latent Space of Multitrack Measures\n",
        "\n",
        "MusicVAE learns a latent space of musical sequences. We apply the MusicVAE framework to single measures of multi-instrument General MIDI, a symbolic music representation that uses a standard set of 128 instrument sounds.\n",
        "\n",
        "The models in this notebook are capable of encoding and decoding single measures of up to 8 tracks, optionally conditioned on an underlying chord. Encoding transforms a single measure into a vector in a latent space, and decoding transforms a latent vector back into a measure. Both encoding and decoding are performed hierarchically, with one level operating on tracks and another operating on the notes (and choice of instrument) in each track."
      ]
    },
    {
      "cell_type": "markdown",
      "metadata": {
        "id": "a5QbStJHauEi",
        "colab_type": "text"
      },
      "source": [
        "#### Env Setup"
      ]
    },
    {
      "cell_type": "code",
      "metadata": {
        "id": "35i30w4Eap3w",
        "colab_type": "code",
        "colab": {
          "base_uri": "https://localhost:8080/",
          "height": 578
        },
        "outputId": "014e3c45-eb5f-4dca-f4a9-202875da5ed4"
      },
      "source": [
        "!gsutil -q -m cp gs://download.magenta.tensorflow.org/models/music_vae/multitrack/* /content/\n",
        "!gsutil -q -m cp gs://download.magenta.tensorflow.org/soundfonts/SGM-v2.01-Sal-Guit-Bass-V1.3.sf2 /content/\n",
        "\n",
        "!apt-get update -qq && apt-get install -qq libfluidsynth1 build-essential libasound2-dev libjack-dev\n",
        "!pip install -qU magenta pyfluidsynth pretty_midi"
      ],
      "execution_count": 1,
      "outputs": [
        {
          "output_type": "stream",
          "text": [
            "Selecting previously unselected package libfluidsynth1:amd64.\n",
            "(Reading database ... 144487 files and directories currently installed.)\n",
            "Preparing to unpack .../libfluidsynth1_1.1.9-1_amd64.deb ...\n",
            "Unpacking libfluidsynth1:amd64 (1.1.9-1) ...\n",
            "Setting up libfluidsynth1:amd64 (1.1.9-1) ...\n",
            "Processing triggers for libc-bin (2.27-3ubuntu1) ...\n",
            "/sbin/ldconfig.real: /usr/local/lib/python3.6/dist-packages/ideep4py/lib/libmkldnn.so.0 is not a symbolic link\n",
            "\n",
            "\u001b[K     |████████████████████████████████| 1.6MB 1.3MB/s \n",
            "\u001b[K     |████████████████████████████████| 5.6MB 7.3MB/s \n",
            "\u001b[K     |████████████████████████████████| 256kB 24.7MB/s \n",
            "\u001b[K     |████████████████████████████████| 215kB 20.8MB/s \n",
            "\u001b[K     |████████████████████████████████| 204kB 21.4MB/s \n",
            "\u001b[K     |████████████████████████████████| 2.3MB 23.9MB/s \n",
            "\u001b[K     |████████████████████████████████| 358kB 31.2MB/s \n",
            "\u001b[K     |████████████████████████████████| 1.5MB 28.8MB/s \n",
            "\u001b[K     |████████████████████████████████| 92kB 10.2MB/s \n",
            "\u001b[K     |████████████████████████████████| 71kB 7.3MB/s \n",
            "\u001b[K     |████████████████████████████████| 5.3MB 22.7MB/s \n",
            "\u001b[K     |████████████████████████████████| 368kB 41.7MB/s \n",
            "\u001b[K     |████████████████████████████████| 307kB 42.4MB/s \n",
            "\u001b[K     |████████████████████████████████| 184kB 21.0MB/s \n",
            "\u001b[K     |████████████████████████████████| 81kB 8.6MB/s \n",
            "\u001b[K     |████████████████████████████████| 655kB 41.6MB/s \n",
            "\u001b[K     |████████████████████████████████| 51kB 6.3MB/s \n",
            "\u001b[K     |████████████████████████████████| 235kB 27.9MB/s \n",
            "\u001b[?25h  Building wheel for pretty-midi (setup.py) ... \u001b[?25l\u001b[?25hdone\n",
            "  Building wheel for pygtrie (setup.py) ... \u001b[?25l\u001b[?25hdone\n",
            "  Building wheel for python-rtmidi (setup.py) ... \u001b[?25l\u001b[?25hdone\n",
            "  Building wheel for mir-eval (setup.py) ... \u001b[?25l\u001b[?25hdone\n",
            "  Building wheel for bz2file (setup.py) ... \u001b[?25l\u001b[?25hdone\n",
            "  Building wheel for pypng (setup.py) ... \u001b[?25l\u001b[?25hdone\n",
            "\u001b[31mERROR: tensor2tensor 1.15.7 has requirement tensorflow-probability==0.7.0, but you'll have tensorflow-probability 0.11.0 which is incompatible.\u001b[0m\n"
          ],
          "name": "stdout"
        }
      ]
    },
    {
      "cell_type": "code",
      "metadata": {
        "id": "9Nqa-1XVa024",
        "colab_type": "code",
        "colab": {}
      },
      "source": [
        "import ctypes.util\n",
        "def proxy_find_library(lib):\n",
        "  if lib == 'fluidsynth':\n",
        "    return 'libfluidsynth.so.1'\n",
        "  else:\n",
        "    return ctypes.util.find_library(lib)\n",
        "ctypes.util.find_library = proxy_find_library"
      ],
      "execution_count": 2,
      "outputs": []
    },
    {
      "cell_type": "code",
      "metadata": {
        "id": "ZRtn3upGbJHG",
        "colab_type": "code",
        "colab": {}
      },
      "source": [
        "import os\n",
        "\n",
        "import numpy as np\n",
        "import magenta.music as mm\n",
        "import tensorflow.compat.v1 as tf\n",
        "\n",
        "from google.colab import files\n",
        "from magenta.models.music_vae import configs\n",
        "from magenta.music.sequences_lib import concatenate_sequences\n",
        "from magenta.models.music_vae.trained_model import TrainedModel"
      ],
      "execution_count": 3,
      "outputs": []
    },
    {
      "cell_type": "code",
      "metadata": {
        "id": "cTmb_RXHbUM_",
        "colab_type": "code",
        "colab": {
          "base_uri": "https://localhost:8080/",
          "height": 88
        },
        "outputId": "edd68a1a-09a0-4d62-f3e2-d9ff8b709e36"
      },
      "source": [
        "tf.disable_v2_behavior()"
      ],
      "execution_count": 4,
      "outputs": [
        {
          "output_type": "stream",
          "text": [
            "WARNING:tensorflow:From /usr/local/lib/python3.6/dist-packages/tensorflow/python/compat/v2_compat.py:96: disable_resource_variables (from tensorflow.python.ops.variable_scope) is deprecated and will be removed in a future version.\n",
            "Instructions for updating:\n",
            "non-resource variables are not supported in the long term\n"
          ],
          "name": "stdout"
        }
      ]
    },
    {
      "cell_type": "code",
      "metadata": {
        "id": "mjGe0m3kbWNX",
        "colab_type": "code",
        "colab": {}
      },
      "source": [
        "BATCH_SIZE = 4\n",
        "Z_SIZE = 512\n",
        "TOTAL_STEPS = 512\n",
        "BAR_SECONDS = 2.0\n",
        "CHORD_DEPTH = 49\n",
        "\n",
        "SAMPLE_RATE = 44100\n",
        "SF2_PATH = '/content/SGM-v2.01-Sal-Guit-Bass-V1.3.sf2'"
      ],
      "execution_count": 5,
      "outputs": []
    },
    {
      "cell_type": "code",
      "metadata": {
        "id": "giZGbvNQbbk_",
        "colab_type": "code",
        "colab": {}
      },
      "source": [
        "# Play sequence using SoundFont.\n",
        "def play(note_sequences):\n",
        "  if not isinstance(note_sequences, list):\n",
        "    note_sequences = [note_sequences]\n",
        "  for ns in note_sequences:\n",
        "    mm.play_sequence(ns, synth = mm.fluidsynth, sf2_path = SF2_PATH)\n",
        "  \n",
        "# Spherical linear interpolation.\n",
        "def slerp(p0, p1, t):\n",
        "  \"\"\"Spherical linear interpolation.\"\"\"\n",
        "  omega = np.arccos(np.dot(np.squeeze(p0/np.linalg.norm(p0)), np.squeeze(p1/np.linalg.norm(p1))))\n",
        "  so = np.sin(omega)\n",
        "  return np.sin((1.0-t)*omega) / so * p0 + np.sin(t*omega)/so * p1\n",
        "\n",
        "# Download sequence.\n",
        "def download(note_sequence, filename):\n",
        "  mm.sequence_proto_to_midi_file(note_sequence, filename)\n",
        "  files.download(filename)\n",
        "\n",
        "# Chord encoding tensor.\n",
        "def chord_encoding(chord):\n",
        "  index = mm.TriadChordOneHotEncoding().encode_event(chord)\n",
        "  c = np.zeros([TOTAL_STEPS, CHORD_DEPTH])\n",
        "  c[0,0] = 1.0\n",
        "  c[1:,index] = 1.0\n",
        "  return c\n",
        "\n",
        "# Trim sequences to exactly one bar.\n",
        "def trim_sequences(seqs, num_seconds = BAR_SECONDS):\n",
        "  for i in range(len(seqs)):\n",
        "    seqs[i] = mm.extract_subsequence(seqs[i], 0.0, num_seconds)\n",
        "    seqs[i].total_time = num_seconds\n",
        "\n",
        "# Consolidate instrument numbers by MIDI program.\n",
        "def fix_instruments_for_concatenation(note_sequences):\n",
        "  instruments = {}\n",
        "  for i in range(len(note_sequences)):\n",
        "    for note in note_sequences[i].notes:\n",
        "      if not note.is_drum:\n",
        "        if note.program not in instruments:\n",
        "          if len(instruments) >= 8:\n",
        "            instruments[note.program] = len(instruments) + 2\n",
        "          else:\n",
        "            instruments[note.program] = len(instruments) + 1\n",
        "        note.instrument = instruments[note.program]\n",
        "      else:\n",
        "        note.instrument = 9"
      ],
      "execution_count": 6,
      "outputs": []
    },
    {
      "cell_type": "markdown",
      "metadata": {
        "id": "OC0QO6uqbsp2",
        "colab_type": "text"
      },
      "source": [
        "#### Chord-Conditioned Model"
      ]
    },
    {
      "cell_type": "code",
      "metadata": {
        "id": "iIGRq5ribuCf",
        "colab_type": "code",
        "colab": {
          "base_uri": "https://localhost:8080/",
          "height": 904
        },
        "outputId": "afdfca7a-d76f-44d0-c7c3-c3b639eb8c7b"
      },
      "source": [
        "config = configs.CONFIG_MAP['hier-multiperf_vel_1bar_med_chords']\n",
        "model = TrainedModel(\n",
        "    config, batch_size = BATCH_SIZE,\n",
        "    checkpoint_dir_or_path = '/content/model_chords_fb64.ckpt')"
      ],
      "execution_count": 7,
      "outputs": [
        {
          "output_type": "stream",
          "text": [
            "INFO:tensorflow:Building MusicVAE model with HierarchicalLstmEncoder, HierarchicalLstmDecoder, and hparams:\n",
            "{'max_seq_len': 512, 'z_size': 512, 'free_bits': 0.0, 'max_beta': 1.0, 'beta_rate': 0.0, 'batch_size': 4, 'grad_clip': 1.0, 'clip_mode': 'global_norm', 'grad_norm_clip_to_zero': 10000, 'learning_rate': 0.001, 'decay_rate': 0.9999, 'min_learning_rate': 1e-05, 'conditional': True, 'dec_rnn_size': [512, 512, 512], 'enc_rnn_size': [1024], 'dropout_keep_prob': 1.0, 'sampling_schedule': 'constant', 'sampling_rate': 0.0, 'use_cudnn': False, 'residual_encoder': False, 'residual_decoder': False, 'control_preprocessing_rnn_size': [256]}\n",
            "INFO:tensorflow:\n",
            "Hierarchical Encoder:\n",
            "  input length: 512\n",
            "  level lengths: [64, 8]\n",
            "\n",
            "INFO:tensorflow:Level 0 splits: 8\n",
            "INFO:tensorflow:\n",
            "Encoder Cells (bidirectional):\n",
            "  units: [1024]\n",
            "\n",
            "WARNING:tensorflow:From /usr/local/lib/python3.6/dist-packages/magenta/models/music_vae/lstm_utils.py:39: MultiRNNCell.__init__ (from tensorflow.python.keras.layers.legacy_rnn.rnn_cell_impl) is deprecated and will be removed in a future version.\n",
            "Instructions for updating:\n",
            "This class is equivalent as tf.keras.layers.StackedRNNCells, and will be replaced by that in Tensorflow 2.0.\n",
            "INFO:tensorflow:Level 1 splits: 1\n",
            "INFO:tensorflow:\n",
            "Encoder Cells (bidirectional):\n",
            "  units: [1024]\n",
            "\n",
            "INFO:tensorflow:\n",
            "Hierarchical Decoder:\n",
            "  input length: 512\n",
            "  level output lengths: [8, 64]\n",
            "\n",
            "INFO:tensorflow:\n",
            "Decoder Cells:\n",
            "  units: [512, 512, 512]\n",
            "\n",
            "WARNING:tensorflow:From /usr/local/lib/python3.6/dist-packages/magenta/models/music_vae/lstm_utils.py:99: dense (from tensorflow.python.keras.legacy_tf_layers.core) is deprecated and will be removed in a future version.\n",
            "Instructions for updating:\n",
            "Use keras.layers.Dense instead.\n",
            "WARNING:tensorflow:From /usr/local/lib/python3.6/dist-packages/tensorflow/python/keras/legacy_tf_layers/core.py:187: Layer.apply (from tensorflow.python.keras.engine.base_layer_v1) is deprecated and will be removed in a future version.\n",
            "Instructions for updating:\n",
            "Please use `layer.__call__` method instead.\n",
            "WARNING:tensorflow:From /usr/local/lib/python3.6/dist-packages/magenta/contrib/rnn.py:751: Layer.add_variable (from tensorflow.python.keras.engine.base_layer_v1) is deprecated and will be removed in a future version.\n",
            "Instructions for updating:\n",
            "Please use `layer.add_weight` method instead.\n",
            "WARNING:tensorflow:From /usr/local/lib/python3.6/dist-packages/magenta/models/music_vae/base_model.py:189: to_float (from tensorflow.python.ops.math_ops) is deprecated and will be removed in a future version.\n",
            "Instructions for updating:\n",
            "Use `tf.cast` instead.\n",
            "WARNING:tensorflow:From /usr/local/lib/python3.6/dist-packages/magenta/contrib/rnn.py:474: bidirectional_dynamic_rnn (from tensorflow.python.ops.rnn) is deprecated and will be removed in a future version.\n",
            "Instructions for updating:\n",
            "Please use `keras.layers.Bidirectional(keras.layers.RNN(cell))`, which is equivalent to this API\n",
            "WARNING:tensorflow:From /usr/local/lib/python3.6/dist-packages/tensorflow/python/ops/rnn.py:447: dynamic_rnn (from tensorflow.python.ops.rnn) is deprecated and will be removed in a future version.\n",
            "Instructions for updating:\n",
            "Please use `keras.layers.RNN(cell)`, which is equivalent to this API\n",
            "WARNING:tensorflow:From /usr/local/lib/python3.6/dist-packages/tensorflow/python/ops/linalg/linear_operator_diag.py:166: calling LinearOperator.__init__ (from tensorflow.python.ops.linalg.linear_operator) with graph_parents is deprecated and will be removed in a future version.\n",
            "Instructions for updating:\n",
            "Do not pass `graph_parents`.  They will  no longer be used.\n",
            "INFO:tensorflow:Restoring parameters from /content/model_chords_fb64.ckpt\n"
          ],
          "name": "stdout"
        }
      ]
    },
    {
      "cell_type": "code",
      "metadata": {
        "id": "0n-f4i_Tby7g",
        "colab_type": "code",
        "colab": {
          "base_uri": "https://localhost:8080/",
          "height": 249
        },
        "outputId": "27897d29-9a86-4dbf-b385-4d6887ccec62"
      },
      "source": [
        "### Same Chord, different styles\n",
        "\n",
        "chord = 'C' \n",
        "temperature = 0.2 \n",
        "seqs = model.sample(n = BATCH_SIZE, length = TOTAL_STEPS, temperature = temperature,\n",
        "                    c_input = chord_encoding(chord))\n",
        "\n",
        "trim_sequences(seqs)\n",
        "play(seqs)"
      ],
      "execution_count": 8,
      "outputs": [
        {
          "output_type": "display_data",
          "data": {
            "text/html": [
              "<div id=\"id_1\"> </div>"
            ],
            "text/plain": [
              "<IPython.core.display.HTML object>"
            ]
          },
          "metadata": {
            "tags": []
          }
        },
        {
          "output_type": "display_data",
          "data": {
            "text/html": [
              "<div id=\"id_2\"> </div>"
            ],
            "text/plain": [
              "<IPython.core.display.HTML object>"
            ]
          },
          "metadata": {
            "tags": []
          }
        },
        {
          "output_type": "display_data",
          "data": {
            "text/html": [
              "<div id=\"id_3\"> </div>"
            ],
            "text/plain": [
              "<IPython.core.display.HTML object>"
            ]
          },
          "metadata": {
            "tags": []
          }
        },
        {
          "output_type": "display_data",
          "data": {
            "text/html": [
              "<div id=\"id_4\"> </div>"
            ],
            "text/plain": [
              "<IPython.core.display.HTML object>"
            ]
          },
          "metadata": {
            "tags": []
          }
        }
      ]
    },
    {
      "cell_type": "code",
      "metadata": {
        "id": "P_DHz5pNcBxR",
        "colab_type": "code",
        "colab": {
          "base_uri": "https://localhost:8080/",
          "height": 275
        },
        "outputId": "ce3c7168-e68d-4a62-9f01-20169f7d2a27"
      },
      "source": [
        "### Same Style, Chord Progression\n",
        "\n",
        "chord_1 = 'C' \n",
        "chord_2 = 'Caug' \n",
        "chord_3 = 'Am'\n",
        "chord_4 = 'E' \n",
        "chords = [chord_1, chord_2, chord_3, chord_4]\n",
        "\n",
        "temperature = 0.2\n",
        "z = np.random.normal(size = [1, Z_SIZE])\n",
        "seqs = [\n",
        "    model.decode(length = TOTAL_STEPS, z = z, temperature = temperature,\n",
        "                 c_input = chord_encoding(c))[0]\n",
        "    for c in chords\n",
        "]\n",
        "\n",
        "trim_sequences(seqs)\n",
        "fix_instruments_for_concatenation(seqs)\n",
        "prog_ns = concatenate_sequences(seqs)\n",
        "\n",
        "play(prog_ns)\n",
        "mm.plot_sequence(prog_ns)"
      ],
      "execution_count": 9,
      "outputs": [
        {
          "output_type": "display_data",
          "data": {
            "text/html": [
              "<div id=\"id_5\"> </div>"
            ],
            "text/plain": [
              "<IPython.core.display.HTML object>"
            ]
          },
          "metadata": {
            "tags": []
          }
        },
        {
          "output_type": "display_data",
          "data": {
            "application/javascript": [
              "\n",
              "(function(root) {\n",
              "  function now() {\n",
              "    return new Date();\n",
              "  }\n",
              "\n",
              "  var force = true;\n",
              "\n",
              "  if (typeof root._bokeh_onload_callbacks === \"undefined\" || force === true) {\n",
              "    root._bokeh_onload_callbacks = [];\n",
              "    root._bokeh_is_loading = undefined;\n",
              "  }\n",
              "\n",
              "  var JS_MIME_TYPE = 'application/javascript';\n",
              "  var HTML_MIME_TYPE = 'text/html';\n",
              "  var EXEC_MIME_TYPE = 'application/vnd.bokehjs_exec.v0+json';\n",
              "  var CLASS_NAME = 'output_bokeh rendered_html';\n",
              "\n",
              "  /**\n",
              "   * Render data to the DOM node\n",
              "   */\n",
              "  function render(props, node) {\n",
              "    var script = document.createElement(\"script\");\n",
              "    node.appendChild(script);\n",
              "  }\n",
              "\n",
              "  /**\n",
              "   * Handle when an output is cleared or removed\n",
              "   */\n",
              "  function handleClearOutput(event, handle) {\n",
              "    var cell = handle.cell;\n",
              "\n",
              "    var id = cell.output_area._bokeh_element_id;\n",
              "    var server_id = cell.output_area._bokeh_server_id;\n",
              "    // Clean up Bokeh references\n",
              "    if (id != null && id in Bokeh.index) {\n",
              "      Bokeh.index[id].model.document.clear();\n",
              "      delete Bokeh.index[id];\n",
              "    }\n",
              "\n",
              "    if (server_id !== undefined) {\n",
              "      // Clean up Bokeh references\n",
              "      var cmd = \"from bokeh.io.state import curstate; print(curstate().uuid_to_server['\" + server_id + \"'].get_sessions()[0].document.roots[0]._id)\";\n",
              "      cell.notebook.kernel.execute(cmd, {\n",
              "        iopub: {\n",
              "          output: function(msg) {\n",
              "            var id = msg.content.text.trim();\n",
              "            if (id in Bokeh.index) {\n",
              "              Bokeh.index[id].model.document.clear();\n",
              "              delete Bokeh.index[id];\n",
              "            }\n",
              "          }\n",
              "        }\n",
              "      });\n",
              "      // Destroy server and session\n",
              "      var cmd = \"import bokeh.io.notebook as ion; ion.destroy_server('\" + server_id + \"')\";\n",
              "      cell.notebook.kernel.execute(cmd);\n",
              "    }\n",
              "  }\n",
              "\n",
              "  /**\n",
              "   * Handle when a new output is added\n",
              "   */\n",
              "  function handleAddOutput(event, handle) {\n",
              "    var output_area = handle.output_area;\n",
              "    var output = handle.output;\n",
              "\n",
              "    // limit handleAddOutput to display_data with EXEC_MIME_TYPE content only\n",
              "    if ((output.output_type != \"display_data\") || (!output.data.hasOwnProperty(EXEC_MIME_TYPE))) {\n",
              "      return\n",
              "    }\n",
              "\n",
              "    var toinsert = output_area.element.find(\".\" + CLASS_NAME.split(' ')[0]);\n",
              "\n",
              "    if (output.metadata[EXEC_MIME_TYPE][\"id\"] !== undefined) {\n",
              "      toinsert[toinsert.length - 1].firstChild.textContent = output.data[JS_MIME_TYPE];\n",
              "      // store reference to embed id on output_area\n",
              "      output_area._bokeh_element_id = output.metadata[EXEC_MIME_TYPE][\"id\"];\n",
              "    }\n",
              "    if (output.metadata[EXEC_MIME_TYPE][\"server_id\"] !== undefined) {\n",
              "      var bk_div = document.createElement(\"div\");\n",
              "      bk_div.innerHTML = output.data[HTML_MIME_TYPE];\n",
              "      var script_attrs = bk_div.children[0].attributes;\n",
              "      for (var i = 0; i < script_attrs.length; i++) {\n",
              "        toinsert[toinsert.length - 1].firstChild.setAttribute(script_attrs[i].name, script_attrs[i].value);\n",
              "        toinsert[toinsert.length - 1].firstChild.textContent = bk_div.children[0].textContent\n",
              "      }\n",
              "      // store reference to server id on output_area\n",
              "      output_area._bokeh_server_id = output.metadata[EXEC_MIME_TYPE][\"server_id\"];\n",
              "    }\n",
              "  }\n",
              "\n",
              "  function register_renderer(events, OutputArea) {\n",
              "\n",
              "    function append_mime(data, metadata, element) {\n",
              "      // create a DOM node to render to\n",
              "      var toinsert = this.create_output_subarea(\n",
              "        metadata,\n",
              "        CLASS_NAME,\n",
              "        EXEC_MIME_TYPE\n",
              "      );\n",
              "      this.keyboard_manager.register_events(toinsert);\n",
              "      // Render to node\n",
              "      var props = {data: data, metadata: metadata[EXEC_MIME_TYPE]};\n",
              "      render(props, toinsert[toinsert.length - 1]);\n",
              "      element.append(toinsert);\n",
              "      return toinsert\n",
              "    }\n",
              "\n",
              "    /* Handle when an output is cleared or removed */\n",
              "    events.on('clear_output.CodeCell', handleClearOutput);\n",
              "    events.on('delete.Cell', handleClearOutput);\n",
              "\n",
              "    /* Handle when a new output is added */\n",
              "    events.on('output_added.OutputArea', handleAddOutput);\n",
              "\n",
              "    /**\n",
              "     * Register the mime type and append_mime function with output_area\n",
              "     */\n",
              "    OutputArea.prototype.register_mime_type(EXEC_MIME_TYPE, append_mime, {\n",
              "      /* Is output safe? */\n",
              "      safe: true,\n",
              "      /* Index of renderer in `output_area.display_order` */\n",
              "      index: 0\n",
              "    });\n",
              "  }\n",
              "\n",
              "  // register the mime type if in Jupyter Notebook environment and previously unregistered\n",
              "  if (root.Jupyter !== undefined) {\n",
              "    var events = require('base/js/events');\n",
              "    var OutputArea = require('notebook/js/outputarea').OutputArea;\n",
              "\n",
              "    if (OutputArea.prototype.mime_types().indexOf(EXEC_MIME_TYPE) == -1) {\n",
              "      register_renderer(events, OutputArea);\n",
              "    }\n",
              "  }\n",
              "\n",
              "  \n",
              "  if (typeof (root._bokeh_timeout) === \"undefined\" || force === true) {\n",
              "    root._bokeh_timeout = Date.now() + 5000;\n",
              "    root._bokeh_failed_load = false;\n",
              "  }\n",
              "\n",
              "  var NB_LOAD_WARNING = {'data': {'text/html':\n",
              "     \"<div style='background-color: #fdd'>\\n\"+\n",
              "     \"<p>\\n\"+\n",
              "     \"BokehJS does not appear to have successfully loaded. If loading BokehJS from CDN, this \\n\"+\n",
              "     \"may be due to a slow or bad network connection. Possible fixes:\\n\"+\n",
              "     \"</p>\\n\"+\n",
              "     \"<ul>\\n\"+\n",
              "     \"<li>re-rerun `output_notebook()` to attempt to load from CDN again, or</li>\\n\"+\n",
              "     \"<li>use INLINE resources instead, as so:</li>\\n\"+\n",
              "     \"</ul>\\n\"+\n",
              "     \"<code>\\n\"+\n",
              "     \"from bokeh.resources import INLINE\\n\"+\n",
              "     \"output_notebook(resources=INLINE)\\n\"+\n",
              "     \"</code>\\n\"+\n",
              "     \"</div>\"}};\n",
              "\n",
              "  function display_loaded() {\n",
              "    var el = document.getElementById(null);\n",
              "    if (el != null) {\n",
              "      el.textContent = \"BokehJS is loading...\";\n",
              "    }\n",
              "    if (root.Bokeh !== undefined) {\n",
              "      if (el != null) {\n",
              "        el.textContent = \"BokehJS \" + root.Bokeh.version + \" successfully loaded.\";\n",
              "      }\n",
              "    } else if (Date.now() < root._bokeh_timeout) {\n",
              "      setTimeout(display_loaded, 100)\n",
              "    }\n",
              "  }\n",
              "\n",
              "\n",
              "  function run_callbacks() {\n",
              "    try {\n",
              "      root._bokeh_onload_callbacks.forEach(function(callback) {\n",
              "        if (callback != null)\n",
              "          callback();\n",
              "      });\n",
              "    } finally {\n",
              "      delete root._bokeh_onload_callbacks\n",
              "    }\n",
              "    console.debug(\"Bokeh: all callbacks have finished\");\n",
              "  }\n",
              "\n",
              "  function load_libs(css_urls, js_urls, callback) {\n",
              "    if (css_urls == null) css_urls = [];\n",
              "    if (js_urls == null) js_urls = [];\n",
              "\n",
              "    root._bokeh_onload_callbacks.push(callback);\n",
              "    if (root._bokeh_is_loading > 0) {\n",
              "      console.debug(\"Bokeh: BokehJS is being loaded, scheduling callback at\", now());\n",
              "      return null;\n",
              "    }\n",
              "    if (js_urls == null || js_urls.length === 0) {\n",
              "      run_callbacks();\n",
              "      return null;\n",
              "    }\n",
              "    console.debug(\"Bokeh: BokehJS not loaded, scheduling load and callback at\", now());\n",
              "    root._bokeh_is_loading = css_urls.length + js_urls.length;\n",
              "\n",
              "    function on_load() {\n",
              "      root._bokeh_is_loading--;\n",
              "      if (root._bokeh_is_loading === 0) {\n",
              "        console.debug(\"Bokeh: all BokehJS libraries/stylesheets loaded\");\n",
              "        run_callbacks()\n",
              "      }\n",
              "    }\n",
              "\n",
              "    function on_error() {\n",
              "      console.error(\"failed to load \" + url);\n",
              "    }\n",
              "\n",
              "    for (var i = 0; i < css_urls.length; i++) {\n",
              "      var url = css_urls[i];\n",
              "      const element = document.createElement(\"link\");\n",
              "      element.onload = on_load;\n",
              "      element.onerror = on_error;\n",
              "      element.rel = \"stylesheet\";\n",
              "      element.type = \"text/css\";\n",
              "      element.href = url;\n",
              "      console.debug(\"Bokeh: injecting link tag for BokehJS stylesheet: \", url);\n",
              "      document.body.appendChild(element);\n",
              "    }\n",
              "\n",
              "    const hashes = {\"https://cdn.bokeh.org/bokeh/release/bokeh-2.1.1.min.js\": \"kLr4fYcqcSpbuI95brIH3vnnYCquzzSxHPU6XGQCIkQRGJwhg0StNbj1eegrHs12\", \"https://cdn.bokeh.org/bokeh/release/bokeh-widgets-2.1.1.min.js\": \"xIGPmVtaOm+z0BqfSOMn4lOR6ciex448GIKG4eE61LsAvmGj48XcMQZtKcE/UXZe\", \"https://cdn.bokeh.org/bokeh/release/bokeh-tables-2.1.1.min.js\": \"Dc9u1wF/0zApGIWoBbH77iWEHtdmkuYWG839Uzmv8y8yBLXebjO9ZnERsde5Ln/P\", \"https://cdn.bokeh.org/bokeh/release/bokeh-gl-2.1.1.min.js\": \"cT9JaBz7GiRXdENrJLZNSC6eMNF3nh3fa5fTF51Svp+ukxPdwcU5kGXGPBgDCa2j\"};\n",
              "\n",
              "    for (var i = 0; i < js_urls.length; i++) {\n",
              "      var url = js_urls[i];\n",
              "      var element = document.createElement('script');\n",
              "      element.onload = on_load;\n",
              "      element.onerror = on_error;\n",
              "      element.async = false;\n",
              "      element.src = url;\n",
              "      if (url in hashes) {\n",
              "        element.crossOrigin = \"anonymous\";\n",
              "        element.integrity = \"sha384-\" + hashes[url];\n",
              "      }\n",
              "      console.debug(\"Bokeh: injecting script tag for BokehJS library: \", url);\n",
              "      document.head.appendChild(element);\n",
              "    }\n",
              "  };\n",
              "\n",
              "  function inject_raw_css(css) {\n",
              "    const element = document.createElement(\"style\");\n",
              "    element.appendChild(document.createTextNode(css));\n",
              "    document.body.appendChild(element);\n",
              "  }\n",
              "\n",
              "  \n",
              "  var js_urls = [\"https://cdn.bokeh.org/bokeh/release/bokeh-2.1.1.min.js\", \"https://cdn.bokeh.org/bokeh/release/bokeh-widgets-2.1.1.min.js\", \"https://cdn.bokeh.org/bokeh/release/bokeh-tables-2.1.1.min.js\", \"https://cdn.bokeh.org/bokeh/release/bokeh-gl-2.1.1.min.js\"];\n",
              "  var css_urls = [];\n",
              "  \n",
              "\n",
              "  var inline_js = [\n",
              "    function(Bokeh) {\n",
              "      Bokeh.set_log_level(\"info\");\n",
              "    },\n",
              "    function(Bokeh) {\n",
              "    \n",
              "    \n",
              "    }\n",
              "  ];\n",
              "\n",
              "  function run_inline_js() {\n",
              "    \n",
              "    if (root.Bokeh !== undefined || force === true) {\n",
              "      \n",
              "    for (var i = 0; i < inline_js.length; i++) {\n",
              "      inline_js[i].call(root, root.Bokeh);\n",
              "    }\n",
              "    } else if (Date.now() < root._bokeh_timeout) {\n",
              "      setTimeout(run_inline_js, 100);\n",
              "    } else if (!root._bokeh_failed_load) {\n",
              "      console.log(\"Bokeh: BokehJS failed to load within specified timeout.\");\n",
              "      root._bokeh_failed_load = true;\n",
              "    } else if (force !== true) {\n",
              "      var cell = $(document.getElementById(null)).parents('.cell').data().cell;\n",
              "      cell.output_area.append_execute_result(NB_LOAD_WARNING)\n",
              "    }\n",
              "\n",
              "  }\n",
              "\n",
              "  if (root._bokeh_is_loading === 0) {\n",
              "    console.debug(\"Bokeh: BokehJS loaded, going straight to plotting\");\n",
              "    run_inline_js();\n",
              "  } else {\n",
              "    load_libs(css_urls, js_urls, function() {\n",
              "      console.debug(\"Bokeh: BokehJS plotting callback run at\", now());\n",
              "      run_inline_js();\n",
              "    });\n",
              "  }\n",
              "}(window));"
            ],
            "application/vnd.bokehjs_load.v0+json": "\n(function(root) {\n  function now() {\n    return new Date();\n  }\n\n  var force = true;\n\n  if (typeof root._bokeh_onload_callbacks === \"undefined\" || force === true) {\n    root._bokeh_onload_callbacks = [];\n    root._bokeh_is_loading = undefined;\n  }\n\n  \n\n  \n  if (typeof (root._bokeh_timeout) === \"undefined\" || force === true) {\n    root._bokeh_timeout = Date.now() + 5000;\n    root._bokeh_failed_load = false;\n  }\n\n  var NB_LOAD_WARNING = {'data': {'text/html':\n     \"<div style='background-color: #fdd'>\\n\"+\n     \"<p>\\n\"+\n     \"BokehJS does not appear to have successfully loaded. If loading BokehJS from CDN, this \\n\"+\n     \"may be due to a slow or bad network connection. Possible fixes:\\n\"+\n     \"</p>\\n\"+\n     \"<ul>\\n\"+\n     \"<li>re-rerun `output_notebook()` to attempt to load from CDN again, or</li>\\n\"+\n     \"<li>use INLINE resources instead, as so:</li>\\n\"+\n     \"</ul>\\n\"+\n     \"<code>\\n\"+\n     \"from bokeh.resources import INLINE\\n\"+\n     \"output_notebook(resources=INLINE)\\n\"+\n     \"</code>\\n\"+\n     \"</div>\"}};\n\n  function display_loaded() {\n    var el = document.getElementById(null);\n    if (el != null) {\n      el.textContent = \"BokehJS is loading...\";\n    }\n    if (root.Bokeh !== undefined) {\n      if (el != null) {\n        el.textContent = \"BokehJS \" + root.Bokeh.version + \" successfully loaded.\";\n      }\n    } else if (Date.now() < root._bokeh_timeout) {\n      setTimeout(display_loaded, 100)\n    }\n  }\n\n\n  function run_callbacks() {\n    try {\n      root._bokeh_onload_callbacks.forEach(function(callback) {\n        if (callback != null)\n          callback();\n      });\n    } finally {\n      delete root._bokeh_onload_callbacks\n    }\n    console.debug(\"Bokeh: all callbacks have finished\");\n  }\n\n  function load_libs(css_urls, js_urls, callback) {\n    if (css_urls == null) css_urls = [];\n    if (js_urls == null) js_urls = [];\n\n    root._bokeh_onload_callbacks.push(callback);\n    if (root._bokeh_is_loading > 0) {\n      console.debug(\"Bokeh: BokehJS is being loaded, scheduling callback at\", now());\n      return null;\n    }\n    if (js_urls == null || js_urls.length === 0) {\n      run_callbacks();\n      return null;\n    }\n    console.debug(\"Bokeh: BokehJS not loaded, scheduling load and callback at\", now());\n    root._bokeh_is_loading = css_urls.length + js_urls.length;\n\n    function on_load() {\n      root._bokeh_is_loading--;\n      if (root._bokeh_is_loading === 0) {\n        console.debug(\"Bokeh: all BokehJS libraries/stylesheets loaded\");\n        run_callbacks()\n      }\n    }\n\n    function on_error() {\n      console.error(\"failed to load \" + url);\n    }\n\n    for (var i = 0; i < css_urls.length; i++) {\n      var url = css_urls[i];\n      const element = document.createElement(\"link\");\n      element.onload = on_load;\n      element.onerror = on_error;\n      element.rel = \"stylesheet\";\n      element.type = \"text/css\";\n      element.href = url;\n      console.debug(\"Bokeh: injecting link tag for BokehJS stylesheet: \", url);\n      document.body.appendChild(element);\n    }\n\n    const hashes = {\"https://cdn.bokeh.org/bokeh/release/bokeh-2.1.1.min.js\": \"kLr4fYcqcSpbuI95brIH3vnnYCquzzSxHPU6XGQCIkQRGJwhg0StNbj1eegrHs12\", \"https://cdn.bokeh.org/bokeh/release/bokeh-widgets-2.1.1.min.js\": \"xIGPmVtaOm+z0BqfSOMn4lOR6ciex448GIKG4eE61LsAvmGj48XcMQZtKcE/UXZe\", \"https://cdn.bokeh.org/bokeh/release/bokeh-tables-2.1.1.min.js\": \"Dc9u1wF/0zApGIWoBbH77iWEHtdmkuYWG839Uzmv8y8yBLXebjO9ZnERsde5Ln/P\", \"https://cdn.bokeh.org/bokeh/release/bokeh-gl-2.1.1.min.js\": \"cT9JaBz7GiRXdENrJLZNSC6eMNF3nh3fa5fTF51Svp+ukxPdwcU5kGXGPBgDCa2j\"};\n\n    for (var i = 0; i < js_urls.length; i++) {\n      var url = js_urls[i];\n      var element = document.createElement('script');\n      element.onload = on_load;\n      element.onerror = on_error;\n      element.async = false;\n      element.src = url;\n      if (url in hashes) {\n        element.crossOrigin = \"anonymous\";\n        element.integrity = \"sha384-\" + hashes[url];\n      }\n      console.debug(\"Bokeh: injecting script tag for BokehJS library: \", url);\n      document.head.appendChild(element);\n    }\n  };\n\n  function inject_raw_css(css) {\n    const element = document.createElement(\"style\");\n    element.appendChild(document.createTextNode(css));\n    document.body.appendChild(element);\n  }\n\n  \n  var js_urls = [\"https://cdn.bokeh.org/bokeh/release/bokeh-2.1.1.min.js\", \"https://cdn.bokeh.org/bokeh/release/bokeh-widgets-2.1.1.min.js\", \"https://cdn.bokeh.org/bokeh/release/bokeh-tables-2.1.1.min.js\", \"https://cdn.bokeh.org/bokeh/release/bokeh-gl-2.1.1.min.js\"];\n  var css_urls = [];\n  \n\n  var inline_js = [\n    function(Bokeh) {\n      Bokeh.set_log_level(\"info\");\n    },\n    function(Bokeh) {\n    \n    \n    }\n  ];\n\n  function run_inline_js() {\n    \n    if (root.Bokeh !== undefined || force === true) {\n      \n    for (var i = 0; i < inline_js.length; i++) {\n      inline_js[i].call(root, root.Bokeh);\n    }\n    } else if (Date.now() < root._bokeh_timeout) {\n      setTimeout(run_inline_js, 100);\n    } else if (!root._bokeh_failed_load) {\n      console.log(\"Bokeh: BokehJS failed to load within specified timeout.\");\n      root._bokeh_failed_load = true;\n    } else if (force !== true) {\n      var cell = $(document.getElementById(null)).parents('.cell').data().cell;\n      cell.output_area.append_execute_result(NB_LOAD_WARNING)\n    }\n\n  }\n\n  if (root._bokeh_is_loading === 0) {\n    console.debug(\"Bokeh: BokehJS loaded, going straight to plotting\");\n    run_inline_js();\n  } else {\n    load_libs(css_urls, js_urls, function() {\n      console.debug(\"Bokeh: BokehJS plotting callback run at\", now());\n      run_inline_js();\n    });\n  }\n}(window));"
          },
          "metadata": {
            "tags": []
          }
        },
        {
          "output_type": "display_data",
          "data": {
            "text/html": [
              "\n",
              "\n",
              "\n",
              "\n",
              "\n",
              "\n",
              "  <div class=\"bk-root\" id=\"2fe94659-b840-42e1-a076-c043d49c06d4\" data-root-id=\"1001\"></div>\n"
            ]
          },
          "metadata": {
            "tags": []
          }
        },
        {
          "output_type": "display_data",
          "data": {
            "application/javascript": [
              "(function(root) {\n",
              "  function embed_document(root) {\n",
              "    \n",
              "  var docs_json = {\"8c70bc63-9f7f-4674-9e67-e1a247c8d635\":{\"roots\":{\"references\":[{\"attributes\":{\"below\":[{\"id\":\"1010\"}],\"center\":[{\"id\":\"1013\"},{\"id\":\"1017\"}],\"left\":[{\"id\":\"1014\"}],\"plot_height\":200,\"plot_width\":500,\"renderers\":[{\"id\":\"1037\"},{\"id\":\"1043\"},{\"id\":\"1049\"},{\"id\":\"1055\"},{\"id\":\"1061\"}],\"title\":{\"id\":\"1063\"},\"toolbar\":{\"id\":\"1024\"},\"x_range\":{\"id\":\"1002\"},\"x_scale\":{\"id\":\"1006\"},\"y_range\":{\"id\":\"1004\"},\"y_scale\":{\"id\":\"1008\"}},\"id\":\"1001\",\"subtype\":\"Figure\",\"type\":\"Plot\"},{\"attributes\":{},\"id\":\"1074\",\"type\":\"UnionRenderers\"},{\"attributes\":{\"source\":{\"id\":\"1033\"}},\"id\":\"1038\",\"type\":\"CDSView\"},{\"attributes\":{},\"id\":\"1077\",\"type\":\"Selection\"},{\"attributes\":{},\"id\":\"1066\",\"type\":\"BasicTickFormatter\"},{\"attributes\":{},\"id\":\"1078\",\"type\":\"UnionRenderers\"},{\"attributes\":{},\"id\":\"1002\",\"type\":\"DataRange1d\"},{\"attributes\":{\"bottom\":{\"field\":\"bottom\"},\"fill_alpha\":{\"value\":0.1},\"fill_color\":{\"value\":\"#d53e4f\"},\"left\":{\"field\":\"start_time\"},\"line_alpha\":{\"value\":0.1},\"right\":{\"field\":\"end_time\"},\"top\":{\"field\":\"top\"}},\"id\":\"1036\",\"type\":\"Quad\"},{\"attributes\":{\"callback\":null,\"tooltips\":[[\"pitch\",\"@pitch\"],[\"program\",\"@program\"],[\"velo\",\"@velocity\"],[\"duration\",\"@duration\"],[\"start_time\",\"@start_time\"],[\"end_time\",\"@end_time\"],[\"velocity\",\"@velocity\"],[\"fill_alpha\",\"@fill_alpha\"]]},\"id\":\"1018\",\"type\":\"HoverTool\"},{\"attributes\":{},\"id\":\"1008\",\"type\":\"LinearScale\"},{\"attributes\":{},\"id\":\"1011\",\"type\":\"BasicTicker\"},{\"attributes\":{},\"id\":\"1004\",\"type\":\"DataRange1d\"},{\"attributes\":{},\"id\":\"1067\",\"type\":\"BasicTickFormatter\"},{\"attributes\":{\"data\":{\"bottom\":{\"__ndarray__\":\"zczMzMxMS0DNzMzMzExLQM3MzMzMTEtAzczMzMxMS0DNzMzMzExLQM3MzMzMzEtAzczMzMzMS0DNzMzMzExLQM3MzMzMzEtAzczMzMxMS0DNzMzMzMxLQM3MzMzMTExAzczMzMzMTUDNzMzMzExMQM3MzMzMTEtAzczMzMxMTEA=\",\"dtype\":\"float64\",\"order\":\"little\",\"shape\":[16]},\"duration\":{\"__ndarray__\":\"VVVVVVVV3T9UVVVVVVXdP1RVVVVVVd0/qKqqqqqqyj+oqqqqqqrKPwAAAAAAAOA/AAAAAAAA4D8AAAAAAADQPwAAAAAAANA/AAAAAAAA0D8AAAAAAADQP1BVVVVVVd0/UFVVVVVV3T9QVVVVVVXdP6Cqqqqqqso/oKqqqqqqyj8=\",\"dtype\":\"float64\",\"order\":\"little\",\"shape\":[16]},\"end_time\":{\"__ndarray__\":\"VVVVVVVV3T+qqqqqqqruP1VVVVVVVfc/VVVVVVVV+z9VVVVVVVX/PwAAAAAAAARAAAAAAAAACEAAAAAAAAAKQAAAAAAAAAxAAAAAAAAADkAAAAAAAAAQQFVVVVVV1RFAVVVVVVXVE0BVVVVVVdUVQFVVVVVV1RZAVVVVVVXVF0A=\",\"dtype\":\"float64\",\"order\":\"little\",\"shape\":[16]},\"fill_alpha\":{\"__ndarray__\":\"AAAAAABA5D8AAAAAAEDkPwAAAAAAQOQ/AAAAAABA5D8AAAAAAEDkPwAAAAAAQOQ/AAAAAABA5D8AAAAAAEDkPwAAAAAAQOQ/AAAAAABA5D8AAAAAAEDkPwAAAAAAQOQ/AAAAAABA5D8AAAAAAEDkPwAAAAAAQOQ/AAAAAABA5D8=\",\"dtype\":\"float64\",\"order\":\"little\",\"shape\":[16]},\"index\":[2,7,14,20,22,26,30,37,40,47,50,55,60,67,74,77],\"instrument\":[3,3,3,3,3,3,3,3,3,3,3,3,3,3,3,3],\"pitch\":[55,55,55,55,55,56,56,55,56,55,56,57,60,57,55,57],\"program\":[64,64,64,64,64,64,64,64,64,64,64,64,64,64,64,64],\"start_time\":{\"__ndarray__\":\"AAAAAAAAAAAAAAAAAADgPwAAAAAAAPA/AAAAAAAA+D8AAAAAAAD8PwAAAAAAAABAAAAAAAAABEAAAAAAAAAIQAAAAAAAAApAAAAAAAAADEAAAAAAAAAOQAAAAAAAABBAAAAAAAAAEkAAAAAAAAAUQAAAAAAAABZAAAAAAAAAF0A=\",\"dtype\":\"float64\",\"order\":\"little\",\"shape\":[16]},\"top\":{\"__ndarray__\":\"MzMzMzOzS0AzMzMzM7NLQDMzMzMzs0tAMzMzMzOzS0AzMzMzM7NLQDMzMzMzM0xAMzMzMzMzTEAzMzMzM7NLQDMzMzMzM0xAMzMzMzOzS0AzMzMzMzNMQDMzMzMzs0xAMzMzMzMzTkAzMzMzM7NMQDMzMzMzs0tAMzMzMzOzTEA=\",\"dtype\":\"float64\",\"order\":\"little\",\"shape\":[16]},\"velocity\":[81,81,81,81,81,81,81,81,81,81,81,81,81,81,81,81]},\"selected\":{\"id\":\"1073\"},\"selection_policy\":{\"id\":\"1074\"}},\"id\":\"1045\",\"type\":\"ColumnDataSource\"},{\"attributes\":{\"text\":\"\"},\"id\":\"1063\",\"type\":\"Title\"},{\"attributes\":{\"bottom\":{\"field\":\"bottom\"},\"fill_alpha\":{\"field\":\"fill_alpha\"},\"fill_color\":{\"value\":\"#fdae61\"},\"left\":{\"field\":\"start_time\"},\"right\":{\"field\":\"end_time\"},\"top\":{\"field\":\"top\"}},\"id\":\"1059\",\"type\":\"Quad\"},{\"attributes\":{\"data_source\":{\"id\":\"1057\"},\"glyph\":{\"id\":\"1059\"},\"hover_glyph\":null,\"muted_glyph\":null,\"nonselection_glyph\":{\"id\":\"1060\"},\"selection_glyph\":null,\"view\":{\"id\":\"1062\"}},\"id\":\"1061\",\"type\":\"GlyphRenderer\"},{\"attributes\":{},\"id\":\"1070\",\"type\":\"UnionRenderers\"},{\"attributes\":{\"bottom\":{\"field\":\"bottom\"},\"fill_alpha\":{\"field\":\"fill_alpha\"},\"fill_color\":{\"value\":\"#3288bd\"},\"left\":{\"field\":\"start_time\"},\"right\":{\"field\":\"end_time\"},\"top\":{\"field\":\"top\"}},\"id\":\"1041\",\"type\":\"Quad\"},{\"attributes\":{\"axis\":{\"id\":\"1010\"},\"ticker\":null},\"id\":\"1013\",\"type\":\"Grid\"},{\"attributes\":{\"data_source\":{\"id\":\"1039\"},\"glyph\":{\"id\":\"1041\"},\"hover_glyph\":null,\"muted_glyph\":null,\"nonselection_glyph\":{\"id\":\"1042\"},\"selection_glyph\":null,\"view\":{\"id\":\"1044\"}},\"id\":\"1043\",\"type\":\"GlyphRenderer\"},{\"attributes\":{\"data\":{\"bottom\":{\"__ndarray__\":\"zczMzMzMS0DNzMzMzMxLQM3MzMzMzEtAzczMzMzMS0DNzMzMzMxLQA==\",\"dtype\":\"float64\",\"order\":\"little\",\"shape\":[5]},\"duration\":{\"__ndarray__\":\"UFVVVVVV3T9QVVVVVVXdP1BVVVVVVd0/oKqqqqqqyj+gqqqqqqrKPw==\",\"dtype\":\"float64\",\"order\":\"little\",\"shape\":[5]},\"end_time\":{\"__ndarray__\":\"VVVVVVXVGUBVVVVVVdUbQFVVVVVV1R1AVVVVVVXVHkBVVVVVVdUfQA==\",\"dtype\":\"float64\",\"order\":\"little\",\"shape\":[5]},\"fill_alpha\":{\"__ndarray__\":\"AAAAAABA5D8AAAAAAEDkPwAAAAAAQOQ/AAAAAABA5D8AAAAAAEDkPw==\",\"dtype\":\"float64\",\"order\":\"little\",\"shape\":[5]},\"index\":[81,86,93,100,102],\"instrument\":[5,5,5,5,5],\"pitch\":[56,56,56,56,56],\"program\":[69,69,69,69,69],\"start_time\":{\"__ndarray__\":\"AAAAAAAAGEAAAAAAAAAaQAAAAAAAABxAAAAAAAAAHkAAAAAAAAAfQA==\",\"dtype\":\"float64\",\"order\":\"little\",\"shape\":[5]},\"top\":{\"__ndarray__\":\"MzMzMzMzTEAzMzMzMzNMQDMzMzMzM0xAMzMzMzMzTEAzMzMzMzNMQA==\",\"dtype\":\"float64\",\"order\":\"little\",\"shape\":[5]},\"velocity\":[81,81,81,81,81]},\"selected\":{\"id\":\"1077\"},\"selection_policy\":{\"id\":\"1078\"}},\"id\":\"1057\",\"type\":\"ColumnDataSource\"},{\"attributes\":{\"data\":{\"bottom\":{\"__ndarray__\":\"zczMzMzMT0BmZmZmZqZQQGZmZmZm5lFAzczMzMzMT0BmZmZmZqZQQGZmZmZm5lFAzczMzMzMT0BmZmZmZqZQQGZmZmZm5lFAzczMzMzMT0BmZmZmZuZQQGZmZmZm5lFAzczMzMzMT0BmZmZmZuZQQGZmZmZm5lFAzczMzMzMT0BmZmZmZuZQQGZmZmZm5lFAzczMzMzMT0BmZmZmZiZRQGZmZmZm5lFAzczMzMzMT0BmZmZmZiZRQGZmZmZm5lFAzczMzMzMT0BmZmZmZiZRQGZmZmZm5lFAzczMzMzMT0DNzMzMzMxPQGZmZmZm5lBAZmZmZmamUUDNzMzMzMxPQGZmZmZm5lBAZmZmZmamUUDNzMzMzMxPQGZmZmZm5lBAZmZmZmamUUA=\",\"dtype\":\"float64\",\"order\":\"little\",\"shape\":[37]},\"duration\":{\"__ndarray__\":\"qqqqqqqq5j+oqqqqqqrKP6iqqqqqqso/qKqqqqqqyj+oqqqqqqrKP6iqqqqqqso/qKqqqqqqyj+oqqqqqqrKP6iqqqqqqso/qKqqqqqq5j+gqqqqqqrKP6Cqqqqqqso/oKqqqqqqyj+gqqqqqqrKP6Cqqqqqqso/oKqqqqqqyj+gqqqqqqrKP6Cqqqqqqso/qKqqqqqq5j+gqqqqqqrKP6Cqqqqqqso/oKqqqqqqyj+gqqqqqqrKP6Cqqqqqqso/oKqqqqqqyj+gqqqqqqrKP6Cqqqqqqso/oKqqqqqqyj+oqqqqqqrmP6Cqqqqqqso/oKqqqqqqyj+gqqqqqqrKP6Cqqqqqqso/oKqqqqqqyj+gqqqqqqrKP6Cqqqqqqso/oKqqqqqqyj8=\",\"dtype\":\"float64\",\"order\":\"little\",\"shape\":[37]},\"end_time\":{\"__ndarray__\":\"qqqqqqqq5j+qqqqqqqrmP6qqqqqqquY/VVVVVVVV8z9VVVVVVVXzP1VVVVVVVfM/VVVVVVVV+z9VVVVVVVX7P1VVVVVVVfs/qqqqqqqqBUCqqqqqqqoFQKqqqqqqqgVAqqqqqqqqCUCqqqqqqqoJQKqqqqqqqglAqqqqqqqqDUCqqqqqqqoNQKqqqqqqqg1AVVVVVVXVEkBVVVVVVdUSQFVVVVVV1RJAVVVVVVXVE0BVVVVVVdUUQFVVVVVV1RRAVVVVVVXVFUBVVVVVVdUWQFVVVVVV1RZAVVVVVVXVF0BVVVVVVdUaQFVVVVVV1RpAVVVVVVXVGkBVVVVVVdUcQFVVVVVV1RxAVVVVVVXVHEBVVVVVVdUeQFVVVVVV1R5AVVVVVVXVHkA=\",\"dtype\":\"float64\",\"order\":\"little\",\"shape\":[37]},\"fill_alpha\":{\"__ndarray__\":\"AAAAAABA5D8AAAAAAEDkPwAAAAAAQOQ/AAAAAABA5D8AAAAAAEDkPwAAAAAAQOQ/AAAAAABA5D8AAAAAAEDkPwAAAAAAQOQ/AAAAAABA5D8AAAAAAEDkPwAAAAAAQOQ/AAAAAABA5D8AAAAAAEDkPwAAAAAAQOQ/AAAAAABA5D8AAAAAAEDkPwAAAAAAQOQ/AAAAAABA5D8AAAAAAEDkPwAAAAAAQOQ/AAAAAABA5D8AAAAAAEDkPwAAAAAAQOQ/AAAAAABA5D8AAAAAAEDkPwAAAAAAQOQ/AAAAAABA5D8AAAAAAEDkPwAAAAAAQOQ/AAAAAABA5D8AAAAAAEDkPwAAAAAAQOQ/AAAAAABA5D8AAAAAAEDkPwAAAAAAQOQ/AAAAAABA5D8=\",\"dtype\":\"float64\",\"order\":\"little\",\"shape\":[37]},\"index\":[0,4,5,10,11,12,16,17,18,24,28,29,33,34,35,43,44,45,53,57,58,62,64,65,69,71,72,76,79,83,84,89,90,91,96,97,98],\"instrument\":[1,1,1,1,1,1,1,1,1,1,1,1,1,1,1,1,1,1,1,1,1,1,1,1,1,1,1,1,1,1,1,1,1,1,1,1,1],\"pitch\":[64,67,72,64,67,72,64,67,72,64,68,72,64,68,72,64,68,72,64,69,72,64,69,72,64,69,72,64,64,68,71,64,68,71,64,68,71],\"program\":[24,24,24,24,24,24,24,24,24,24,24,24,24,24,24,24,24,24,24,24,24,24,24,24,24,24,24,24,24,24,24,24,24,24,24,24,24],\"start_time\":{\"__ndarray__\":\"AAAAAAAAAAAAAAAAAADgPwAAAAAAAOA/AAAAAAAA8D8AAAAAAADwPwAAAAAAAPA/AAAAAAAA+D8AAAAAAAD4PwAAAAAAAPg/AAAAAAAAAEAAAAAAAAAEQAAAAAAAAARAAAAAAAAACEAAAAAAAAAIQAAAAAAAAAhAAAAAAAAADEAAAAAAAAAMQAAAAAAAAAxAAAAAAAAAEEAAAAAAAAASQAAAAAAAABJAAAAAAAAAE0AAAAAAAAAUQAAAAAAAABRAAAAAAAAAFUAAAAAAAAAWQAAAAAAAABZAAAAAAAAAF0AAAAAAAAAYQAAAAAAAABpAAAAAAAAAGkAAAAAAAAAcQAAAAAAAABxAAAAAAAAAHEAAAAAAAAAeQAAAAAAAAB5AAAAAAAAAHkA=\",\"dtype\":\"float64\",\"order\":\"little\",\"shape\":[37]},\"top\":{\"__ndarray__\":\"mpmZmZkZUECamZmZmdlQQJqZmZmZGVJAmpmZmZkZUECamZmZmdlQQJqZmZmZGVJAmpmZmZkZUECamZmZmdlQQJqZmZmZGVJAmpmZmZkZUECamZmZmRlRQJqZmZmZGVJAmpmZmZkZUECamZmZmRlRQJqZmZmZGVJAmpmZmZkZUECamZmZmRlRQJqZmZmZGVJAmpmZmZkZUECamZmZmVlRQJqZmZmZGVJAmpmZmZkZUECamZmZmVlRQJqZmZmZGVJAmpmZmZkZUECamZmZmVlRQJqZmZmZGVJAmpmZmZkZUECamZmZmRlQQJqZmZmZGVFAmpmZmZnZUUCamZmZmRlQQJqZmZmZGVFAmpmZmZnZUUCamZmZmRlQQJqZmZmZGVFAmpmZmZnZUUA=\",\"dtype\":\"float64\",\"order\":\"little\",\"shape\":[37]},\"velocity\":[81,81,81,81,81,81,81,81,81,81,81,81,81,81,81,81,81,81,81,81,81,81,81,81,81,81,81,81,81,81,81,81,81,81,81,81,81]},\"selected\":{\"id\":\"1069\"},\"selection_policy\":{\"id\":\"1070\"}},\"id\":\"1033\",\"type\":\"ColumnDataSource\"},{\"attributes\":{},\"id\":\"1021\",\"type\":\"ResetTool\"},{\"attributes\":{\"axis\":{\"id\":\"1014\"},\"dimension\":1,\"ticker\":{\"id\":\"1032\"}},\"id\":\"1017\",\"type\":\"Grid\"},{\"attributes\":{\"bottom\":{\"field\":\"bottom\"},\"fill_alpha\":{\"value\":0.1},\"fill_color\":{\"value\":\"#3288bd\"},\"left\":{\"field\":\"start_time\"},\"line_alpha\":{\"value\":0.1},\"right\":{\"field\":\"end_time\"},\"top\":{\"field\":\"top\"}},\"id\":\"1042\",\"type\":\"Quad\"},{\"attributes\":{\"source\":{\"id\":\"1057\"}},\"id\":\"1062\",\"type\":\"CDSView\"},{\"attributes\":{\"bottom\":{\"field\":\"bottom\"},\"fill_alpha\":{\"field\":\"fill_alpha\"},\"fill_color\":{\"value\":\"#66c2a5\"},\"left\":{\"field\":\"start_time\"},\"right\":{\"field\":\"end_time\"},\"top\":{\"field\":\"top\"}},\"id\":\"1053\",\"type\":\"Quad\"},{\"attributes\":{\"data_source\":{\"id\":\"1051\"},\"glyph\":{\"id\":\"1053\"},\"hover_glyph\":null,\"muted_glyph\":null,\"nonselection_glyph\":{\"id\":\"1054\"},\"selection_glyph\":null,\"view\":{\"id\":\"1056\"}},\"id\":\"1055\",\"type\":\"GlyphRenderer\"},{\"attributes\":{\"bottom_units\":\"screen\",\"fill_alpha\":0.5,\"fill_color\":\"lightgrey\",\"left_units\":\"screen\",\"level\":\"overlay\",\"line_alpha\":1.0,\"line_color\":\"black\",\"line_dash\":[4,4],\"line_width\":2,\"right_units\":\"screen\",\"top_units\":\"screen\"},\"id\":\"1023\",\"type\":\"BoxAnnotation\"},{\"attributes\":{\"data\":{\"bottom\":{\"__ndarray__\":\"zczMzMzMR0DNzMzMzExFQM3MzMzMzEFAzczMzMzMQUDNzMzMzMxFQM3MzMzMzEVAzczMzMzMRUDNzMzMzExGQM3MzMzMzENAzczMzMxMRkDNzMzMzMxDQM3MzMzMzENAzczMzMzMQ0DNzMzMzMxDQM3MzMzMzENA\",\"dtype\":\"float64\",\"order\":\"little\",\"shape\":[15]},\"duration\":{\"__ndarray__\":\"VVVVVVVV3T9UVVVVVVXdP1RVVVVVVd0/VFVVVVVV3T9YVVVVVVXdP1BVVVVVVd0/UFVVVVVV3T9QVVVVVVXdP1BVVVVVVd0/UFVVVVVV3T9QVVVVVVXdP1BVVVVVVd0/UFVVVVVV3T9QVVVVVVXdP1BVVVVVVd0/\",\"dtype\":\"float64\",\"order\":\"little\",\"shape\":[15]},\"end_time\":{\"__ndarray__\":\"VVVVVVVV3T+qqqqqqqruP1VVVVVVVfc/VVVVVVVV/z+rqqqqqqoDQKqqqqqqqgtAqqqqqqqqD0BVVVVVVdURQFVVVVVV1RNAVVVVVVXVFUBVVVVVVdUXQFVVVVVV1RlAVVVVVVXVG0BVVVVVVdUdQFVVVVVV1R9A\",\"dtype\":\"float64\",\"order\":\"little\",\"shape\":[15]},\"fill_alpha\":{\"__ndarray__\":\"AAAAAABA4D8AAAAAAEDgPwAAAAAAQOA/AAAAAABA4D8AAAAAAEDgPwAAAAAAQOA/AAAAAABA4D8AAAAAAEDgPwAAAAAAQOA/AAAAAABA4D8AAAAAAEDgPwAAAAAAQOA/AAAAAABA4D8AAAAAAEDgPwAAAAAAQOA/\",\"dtype\":\"float64\",\"order\":\"little\",\"shape\":[15]},\"index\":[1,6,13,19,25,36,46,54,59,66,73,80,85,92,99],\"instrument\":[2,2,2,2,2,2,2,2,2,2,2,2,2,2,2],\"pitch\":[48,43,36,36,44,44,44,45,40,45,40,40,40,40,40],\"program\":[20,20,20,20,20,20,20,20,20,20,20,20,20,20,20],\"start_time\":{\"__ndarray__\":\"AAAAAAAAAAAAAAAAAADgPwAAAAAAAPA/AAAAAAAA+D8AAAAAAAAAQAAAAAAAAAhAAAAAAAAADEAAAAAAAAAQQAAAAAAAABJAAAAAAAAAFEAAAAAAAAAWQAAAAAAAABhAAAAAAAAAGkAAAAAAAAAcQAAAAAAAAB5A\",\"dtype\":\"float64\",\"order\":\"little\",\"shape\":[15]},\"top\":{\"__ndarray__\":\"MzMzMzMzSEAzMzMzM7NFQDMzMzMzM0JAMzMzMzMzQkAzMzMzMzNGQDMzMzMzM0ZAMzMzMzMzRkAzMzMzM7NGQDMzMzMzM0RAMzMzMzOzRkAzMzMzMzNEQDMzMzMzM0RAMzMzMzMzREAzMzMzMzNEQDMzMzMzM0RA\",\"dtype\":\"float64\",\"order\":\"little\",\"shape\":[15]},\"velocity\":[65,65,65,65,65,65,65,65,65,65,65,65,65,65,65]},\"selected\":{\"id\":\"1071\"},\"selection_policy\":{\"id\":\"1072\"}},\"id\":\"1039\",\"type\":\"ColumnDataSource\"},{\"attributes\":{},\"id\":\"1073\",\"type\":\"Selection\"},{\"attributes\":{\"source\":{\"id\":\"1039\"}},\"id\":\"1044\",\"type\":\"CDSView\"},{\"attributes\":{\"data_source\":{\"id\":\"1045\"},\"glyph\":{\"id\":\"1047\"},\"hover_glyph\":null,\"muted_glyph\":null,\"nonselection_glyph\":{\"id\":\"1048\"},\"selection_glyph\":null,\"view\":{\"id\":\"1050\"}},\"id\":\"1049\",\"type\":\"GlyphRenderer\"},{\"attributes\":{},\"id\":\"1072\",\"type\":\"UnionRenderers\"},{\"attributes\":{\"axis_label\":\"pitch (MIDI)\",\"formatter\":{\"id\":\"1067\"},\"ticker\":{\"id\":\"1030\"}},\"id\":\"1014\",\"type\":\"LinearAxis\"},{\"attributes\":{},\"id\":\"1022\",\"type\":\"SaveTool\"},{\"attributes\":{\"source\":{\"id\":\"1051\"}},\"id\":\"1056\",\"type\":\"CDSView\"},{\"attributes\":{\"bottom\":{\"field\":\"bottom\"},\"fill_alpha\":{\"value\":0.1},\"fill_color\":{\"value\":\"#fdae61\"},\"left\":{\"field\":\"start_time\"},\"line_alpha\":{\"value\":0.1},\"right\":{\"field\":\"end_time\"},\"top\":{\"field\":\"top\"}},\"id\":\"1060\",\"type\":\"Quad\"},{\"attributes\":{\"data\":{\"bottom\":{\"__ndarray__\":\"ZmZmZmbmUUBmZmZmZqZRQGZmZmZm5lFAZmZmZmZmUkBmZmZmZuZRQGZmZmZmplFAZmZmZmbmUEBmZmZmZuZQQGZmZmZm5lFAZmZmZmbmUEBmZmZmZuZRQGZmZmZm5lBAZmZmZmbmUUBmZmZmZuZQQGZmZmZm5lFAZmZmZmbmUEBmZmZmZuZRQGZmZmZmJlFAZmZmZmYmUUBmZmZmZiZRQGZmZmZmJlFAZmZmZmYmUUBmZmZmZiZRQGZmZmZmJlFAZmZmZmamUUBmZmZmZuZQQGZmZmZmplFAZmZmZmYmUkBmZmZmZqZRQGZmZmZm5lBAZmZmZmamUUA=\",\"dtype\":\"float64\",\"order\":\"little\",\"shape\":[31]},\"duration\":{\"__ndarray__\":\"VVVVVVVV4T+qqqqqqqrSPwAAAAAAANA/VFVVVVVV4T8AAAAAAADQPwAAAAAAANA/AAAAAAAA3D8AAAAAAADcPwAAAAAAANw/AAAAAAAAyD8AAAAAAADIPwAAAAAAAMg/AAAAAAAAyD8AAAAAAADIPwAAAAAAAMg/AAAAAAAAyD8AAAAAAADIPwAAAAAAANw/UFVVVVVV1T/Aqqqqqqq6P6Cqqqqqqso/oKqqqqqqyj+gqqqqqqrKP6Cqqqqqqso/qKqqqqqq4D9QVVVVVVXRPwAAAAAAANA/UFVVVVVV0T8AAAAAAADQP1BVVVVVVdE/AAAAAAAA0D8=\",\"dtype\":\"float64\",\"order\":\"little\",\"shape\":[31]},\"end_time\":{\"__ndarray__\":\"VVVVVVVV4T9VVVVVVVXpPwAAAAAAAPA/qqqqqqqq+D8AAAAAAAD8PwAAAAAAAABAAAAAAACAA0AAAAAAAIAHQAAAAAAAgAdAAAAAAACACUAAAAAAAIAJQAAAAAAAgAtAAAAAAACAC0AAAAAAAIANQAAAAAAAgA1AAAAAAACAD0AAAAAAAIAPQAAAAAAAwBFAVVVVVVVVE0CrqqqqquoTQFVVVVVV1RRAVVVVVVXVFUBVVVVVVdUWQFVVVVVV1RdAVVVVVVUVGkBVVVVVVRUbQAAAAAAAABxAVVVVVVUVHUAAAAAAAAAeQFVVVVVVFR9AAAAAAAAAIEA=\",\"dtype\":\"float64\",\"order\":\"little\",\"shape\":[31]},\"fill_alpha\":{\"__ndarray__\":\"AAAAAABA5D8AAAAAAEDkPwAAAAAAQOA/AAAAAABA5D8AAAAAAEDgPwAAAAAAQOQ/AAAAAABA5D8AAAAAAEDkPwAAAAAAQOQ/AAAAAABA4D8AAAAAAEDkPwAAAAAAQOA/AAAAAABA5D8AAAAAAEDgPwAAAAAAQOQ/AAAAAABA4D8AAAAAAEDkPwAAAAAAQOQ/AAAAAABA5D8AAAAAAEDkPwAAAAAAQOQ/AAAAAABA5D8AAAAAAEDkPwAAAAAAQOQ/AAAAAABA5D8AAAAAAEDkPwAAAAAAQOQ/AAAAAABA6D8AAAAAAEDoPwAAAAAAQOQ/AAAAAABA6D8=\",\"dtype\":\"float64\",\"order\":\"little\",\"shape\":[31]},\"index\":[3,8,9,15,21,23,27,31,32,38,39,41,42,48,49,51,52,56,61,63,68,70,75,78,82,87,88,94,95,101,103],\"instrument\":[4,4,4,4,4,4,4,4,4,4,4,4,4,4,4,4,4,4,4,4,4,4,4,4,4,4,4,4,4,4,4],\"pitch\":[72,71,72,74,72,71,68,68,72,68,72,68,72,68,72,68,72,69,69,69,69,69,69,69,71,68,71,73,71,68,71],\"program\":[73,73,73,73,73,73,73,73,73,73,73,73,73,73,73,73,73,73,73,73,73,73,73,73,73,73,73,73,73,73,73],\"start_time\":{\"__ndarray__\":\"AAAAAAAAAAAAAAAAAADgPwAAAAAAAOg/AAAAAAAA8D8AAAAAAAD4PwAAAAAAAPw/AAAAAAAAAEAAAAAAAAAEQAAAAAAAAARAAAAAAAAACEAAAAAAAAAIQAAAAAAAAApAAAAAAAAACkAAAAAAAAAMQAAAAAAAAAxAAAAAAAAADkAAAAAAAAAOQAAAAAAAABBAAAAAAAAAEkAAAAAAAIATQAAAAAAAABRAAAAAAAAAFUAAAAAAAAAWQAAAAAAAABdAAAAAAAAAGEAAAAAAAAAaQAAAAAAAABtAAAAAAAAAHEAAAAAAAAAdQAAAAAAAAB5AAAAAAAAAH0A=\",\"dtype\":\"float64\",\"order\":\"little\",\"shape\":[31]},\"top\":{\"__ndarray__\":\"mpmZmZkZUkCamZmZmdlRQJqZmZmZGVJAmpmZmZmZUkCamZmZmRlSQJqZmZmZ2VFAmpmZmZkZUUCamZmZmRlRQJqZmZmZGVJAmpmZmZkZUUCamZmZmRlSQJqZmZmZGVFAmpmZmZkZUkCamZmZmRlRQJqZmZmZGVJAmpmZmZkZUUCamZmZmRlSQJqZmZmZWVFAmpmZmZlZUUCamZmZmVlRQJqZmZmZWVFAmpmZmZlZUUCamZmZmVlRQJqZmZmZWVFAmpmZmZnZUUCamZmZmRlRQJqZmZmZ2VFAmpmZmZlZUkCamZmZmdlRQJqZmZmZGVFAmpmZmZnZUUA=\",\"dtype\":\"float64\",\"order\":\"little\",\"shape\":[31]},\"velocity\":[81,81,65,81,65,81,81,81,81,65,81,65,81,65,81,65,81,81,81,81,81,81,81,81,81,81,81,97,97,81,97]},\"selected\":{\"id\":\"1075\"},\"selection_policy\":{\"id\":\"1076\"}},\"id\":\"1051\",\"type\":\"ColumnDataSource\"},{\"attributes\":{},\"id\":\"1076\",\"type\":\"UnionRenderers\"},{\"attributes\":{\"bottom\":{\"field\":\"bottom\"},\"fill_alpha\":{\"value\":0.1},\"fill_color\":{\"value\":\"#66c2a5\"},\"left\":{\"field\":\"start_time\"},\"line_alpha\":{\"value\":0.1},\"right\":{\"field\":\"end_time\"},\"top\":{\"field\":\"top\"}},\"id\":\"1054\",\"type\":\"Quad\"},{\"attributes\":{\"bottom\":{\"field\":\"bottom\"},\"fill_alpha\":{\"field\":\"fill_alpha\"},\"fill_color\":{\"value\":\"#d53e4f\"},\"left\":{\"field\":\"start_time\"},\"right\":{\"field\":\"end_time\"},\"top\":{\"field\":\"top\"}},\"id\":\"1035\",\"type\":\"Quad\"},{\"attributes\":{},\"id\":\"1019\",\"type\":\"PanTool\"},{\"attributes\":{},\"id\":\"1071\",\"type\":\"Selection\"},{\"attributes\":{\"axis_label\":\"time (sec)\",\"formatter\":{\"id\":\"1066\"},\"ticker\":{\"id\":\"1011\"}},\"id\":\"1010\",\"type\":\"LinearAxis\"},{\"attributes\":{\"bottom\":{\"field\":\"bottom\"},\"fill_alpha\":{\"field\":\"fill_alpha\"},\"fill_color\":{\"value\":\"#f46d43\"},\"left\":{\"field\":\"start_time\"},\"right\":{\"field\":\"end_time\"},\"top\":{\"field\":\"top\"}},\"id\":\"1047\",\"type\":\"Quad\"},{\"attributes\":{\"data_source\":{\"id\":\"1033\"},\"glyph\":{\"id\":\"1035\"},\"hover_glyph\":null,\"muted_glyph\":null,\"nonselection_glyph\":{\"id\":\"1036\"},\"selection_glyph\":null,\"view\":{\"id\":\"1038\"}},\"id\":\"1037\",\"type\":\"GlyphRenderer\"},{\"attributes\":{},\"id\":\"1075\",\"type\":\"Selection\"},{\"attributes\":{},\"id\":\"1006\",\"type\":\"LinearScale\"},{\"attributes\":{\"source\":{\"id\":\"1045\"}},\"id\":\"1050\",\"type\":\"CDSView\"},{\"attributes\":{\"interval\":12},\"id\":\"1030\",\"type\":\"SingleIntervalTicker\"},{\"attributes\":{\"active_drag\":\"auto\",\"active_inspect\":\"auto\",\"active_multi\":null,\"active_scroll\":\"auto\",\"active_tap\":\"auto\",\"tools\":[{\"id\":\"1018\"},{\"id\":\"1019\"},{\"id\":\"1020\"},{\"id\":\"1021\"},{\"id\":\"1022\"}]},\"id\":\"1024\",\"type\":\"Toolbar\"},{\"attributes\":{\"bottom\":{\"field\":\"bottom\"},\"fill_alpha\":{\"value\":0.1},\"fill_color\":{\"value\":\"#f46d43\"},\"left\":{\"field\":\"start_time\"},\"line_alpha\":{\"value\":0.1},\"right\":{\"field\":\"end_time\"},\"top\":{\"field\":\"top\"}},\"id\":\"1048\",\"type\":\"Quad\"},{\"attributes\":{\"interval\":12},\"id\":\"1032\",\"type\":\"SingleIntervalTicker\"},{\"attributes\":{\"overlay\":{\"id\":\"1023\"}},\"id\":\"1020\",\"type\":\"BoxZoomTool\"},{\"attributes\":{},\"id\":\"1069\",\"type\":\"Selection\"}],\"root_ids\":[\"1001\"]},\"title\":\"Bokeh Application\",\"version\":\"2.1.1\"}};\n",
              "  var render_items = [{\"docid\":\"8c70bc63-9f7f-4674-9e67-e1a247c8d635\",\"root_ids\":[\"1001\"],\"roots\":{\"1001\":\"2fe94659-b840-42e1-a076-c043d49c06d4\"}}];\n",
              "  root.Bokeh.embed.embed_items_notebook(docs_json, render_items);\n",
              "\n",
              "  }\n",
              "  if (root.Bokeh !== undefined) {\n",
              "    embed_document(root);\n",
              "  } else {\n",
              "    var attempts = 0;\n",
              "    var timer = setInterval(function(root) {\n",
              "      if (root.Bokeh !== undefined) {\n",
              "        clearInterval(timer);\n",
              "        embed_document(root);\n",
              "      } else {\n",
              "        attempts++;\n",
              "        if (attempts > 100) {\n",
              "          clearInterval(timer);\n",
              "          console.log(\"Bokeh: ERROR: Unable to run BokehJS code because BokehJS library is missing\");\n",
              "        }\n",
              "      }\n",
              "    }, 10, root)\n",
              "  }\n",
              "})(window);"
            ],
            "application/vnd.bokehjs_exec.v0+json": ""
          },
          "metadata": {
            "tags": [],
            "application/vnd.bokehjs_exec.v0+json": {
              "id": "1001"
            }
          }
        }
      ]
    },
    {
      "cell_type": "code",
      "metadata": {
        "id": "vmawWcJbcWvK",
        "colab_type": "code",
        "colab": {
          "base_uri": "https://localhost:8080/",
          "height": 275
        },
        "outputId": "30b6046a-15f4-4da2-9d39-f2ad986ec9f7"
      },
      "source": [
        "### Style Interpolation, Repeating Chord Progression\n",
        "\n",
        "chord_1 = 'Dm' \n",
        "chord_2 = 'F' \n",
        "chord_3 = 'Am' \n",
        "chord_4 = 'G' \n",
        "chords = [chord_1, chord_2, chord_3, chord_4]\n",
        "\n",
        "num_bars = 32 \n",
        "temperature = 0.2 \n",
        "\n",
        "z1 = np.random.normal(size = [Z_SIZE])\n",
        "z2 = np.random.normal(size = [Z_SIZE])\n",
        "z = np.array([slerp(z1, z2, t)\n",
        "              for t in np.linspace(0, 1, num_bars)])\n",
        "\n",
        "seqs = [\n",
        "    model.decode(length = TOTAL_STEPS, z = z[i:i+1, :], temperature = temperature,\n",
        "                 c_input = chord_encoding(chords[i % 4]))[0]\n",
        "    for i in range(num_bars)\n",
        "]\n",
        "\n",
        "trim_sequences(seqs)\n",
        "fix_instruments_for_concatenation(seqs)\n",
        "prog_interp_ns = concatenate_sequences(seqs)\n",
        "\n",
        "play(prog_interp_ns)\n",
        "mm.plot_sequence(prog_interp_ns)"
      ],
      "execution_count": 10,
      "outputs": [
        {
          "output_type": "display_data",
          "data": {
            "text/html": [
              "<div id=\"id_6\"> </div>"
            ],
            "text/plain": [
              "<IPython.core.display.HTML object>"
            ]
          },
          "metadata": {
            "tags": []
          }
        },
        {
          "output_type": "display_data",
          "data": {
            "application/javascript": [
              "\n",
              "(function(root) {\n",
              "  function now() {\n",
              "    return new Date();\n",
              "  }\n",
              "\n",
              "  var force = true;\n",
              "\n",
              "  if (typeof root._bokeh_onload_callbacks === \"undefined\" || force === true) {\n",
              "    root._bokeh_onload_callbacks = [];\n",
              "    root._bokeh_is_loading = undefined;\n",
              "  }\n",
              "\n",
              "  var JS_MIME_TYPE = 'application/javascript';\n",
              "  var HTML_MIME_TYPE = 'text/html';\n",
              "  var EXEC_MIME_TYPE = 'application/vnd.bokehjs_exec.v0+json';\n",
              "  var CLASS_NAME = 'output_bokeh rendered_html';\n",
              "\n",
              "  /**\n",
              "   * Render data to the DOM node\n",
              "   */\n",
              "  function render(props, node) {\n",
              "    var script = document.createElement(\"script\");\n",
              "    node.appendChild(script);\n",
              "  }\n",
              "\n",
              "  /**\n",
              "   * Handle when an output is cleared or removed\n",
              "   */\n",
              "  function handleClearOutput(event, handle) {\n",
              "    var cell = handle.cell;\n",
              "\n",
              "    var id = cell.output_area._bokeh_element_id;\n",
              "    var server_id = cell.output_area._bokeh_server_id;\n",
              "    // Clean up Bokeh references\n",
              "    if (id != null && id in Bokeh.index) {\n",
              "      Bokeh.index[id].model.document.clear();\n",
              "      delete Bokeh.index[id];\n",
              "    }\n",
              "\n",
              "    if (server_id !== undefined) {\n",
              "      // Clean up Bokeh references\n",
              "      var cmd = \"from bokeh.io.state import curstate; print(curstate().uuid_to_server['\" + server_id + \"'].get_sessions()[0].document.roots[0]._id)\";\n",
              "      cell.notebook.kernel.execute(cmd, {\n",
              "        iopub: {\n",
              "          output: function(msg) {\n",
              "            var id = msg.content.text.trim();\n",
              "            if (id in Bokeh.index) {\n",
              "              Bokeh.index[id].model.document.clear();\n",
              "              delete Bokeh.index[id];\n",
              "            }\n",
              "          }\n",
              "        }\n",
              "      });\n",
              "      // Destroy server and session\n",
              "      var cmd = \"import bokeh.io.notebook as ion; ion.destroy_server('\" + server_id + \"')\";\n",
              "      cell.notebook.kernel.execute(cmd);\n",
              "    }\n",
              "  }\n",
              "\n",
              "  /**\n",
              "   * Handle when a new output is added\n",
              "   */\n",
              "  function handleAddOutput(event, handle) {\n",
              "    var output_area = handle.output_area;\n",
              "    var output = handle.output;\n",
              "\n",
              "    // limit handleAddOutput to display_data with EXEC_MIME_TYPE content only\n",
              "    if ((output.output_type != \"display_data\") || (!output.data.hasOwnProperty(EXEC_MIME_TYPE))) {\n",
              "      return\n",
              "    }\n",
              "\n",
              "    var toinsert = output_area.element.find(\".\" + CLASS_NAME.split(' ')[0]);\n",
              "\n",
              "    if (output.metadata[EXEC_MIME_TYPE][\"id\"] !== undefined) {\n",
              "      toinsert[toinsert.length - 1].firstChild.textContent = output.data[JS_MIME_TYPE];\n",
              "      // store reference to embed id on output_area\n",
              "      output_area._bokeh_element_id = output.metadata[EXEC_MIME_TYPE][\"id\"];\n",
              "    }\n",
              "    if (output.metadata[EXEC_MIME_TYPE][\"server_id\"] !== undefined) {\n",
              "      var bk_div = document.createElement(\"div\");\n",
              "      bk_div.innerHTML = output.data[HTML_MIME_TYPE];\n",
              "      var script_attrs = bk_div.children[0].attributes;\n",
              "      for (var i = 0; i < script_attrs.length; i++) {\n",
              "        toinsert[toinsert.length - 1].firstChild.setAttribute(script_attrs[i].name, script_attrs[i].value);\n",
              "        toinsert[toinsert.length - 1].firstChild.textContent = bk_div.children[0].textContent\n",
              "      }\n",
              "      // store reference to server id on output_area\n",
              "      output_area._bokeh_server_id = output.metadata[EXEC_MIME_TYPE][\"server_id\"];\n",
              "    }\n",
              "  }\n",
              "\n",
              "  function register_renderer(events, OutputArea) {\n",
              "\n",
              "    function append_mime(data, metadata, element) {\n",
              "      // create a DOM node to render to\n",
              "      var toinsert = this.create_output_subarea(\n",
              "        metadata,\n",
              "        CLASS_NAME,\n",
              "        EXEC_MIME_TYPE\n",
              "      );\n",
              "      this.keyboard_manager.register_events(toinsert);\n",
              "      // Render to node\n",
              "      var props = {data: data, metadata: metadata[EXEC_MIME_TYPE]};\n",
              "      render(props, toinsert[toinsert.length - 1]);\n",
              "      element.append(toinsert);\n",
              "      return toinsert\n",
              "    }\n",
              "\n",
              "    /* Handle when an output is cleared or removed */\n",
              "    events.on('clear_output.CodeCell', handleClearOutput);\n",
              "    events.on('delete.Cell', handleClearOutput);\n",
              "\n",
              "    /* Handle when a new output is added */\n",
              "    events.on('output_added.OutputArea', handleAddOutput);\n",
              "\n",
              "    /**\n",
              "     * Register the mime type and append_mime function with output_area\n",
              "     */\n",
              "    OutputArea.prototype.register_mime_type(EXEC_MIME_TYPE, append_mime, {\n",
              "      /* Is output safe? */\n",
              "      safe: true,\n",
              "      /* Index of renderer in `output_area.display_order` */\n",
              "      index: 0\n",
              "    });\n",
              "  }\n",
              "\n",
              "  // register the mime type if in Jupyter Notebook environment and previously unregistered\n",
              "  if (root.Jupyter !== undefined) {\n",
              "    var events = require('base/js/events');\n",
              "    var OutputArea = require('notebook/js/outputarea').OutputArea;\n",
              "\n",
              "    if (OutputArea.prototype.mime_types().indexOf(EXEC_MIME_TYPE) == -1) {\n",
              "      register_renderer(events, OutputArea);\n",
              "    }\n",
              "  }\n",
              "\n",
              "  \n",
              "  if (typeof (root._bokeh_timeout) === \"undefined\" || force === true) {\n",
              "    root._bokeh_timeout = Date.now() + 5000;\n",
              "    root._bokeh_failed_load = false;\n",
              "  }\n",
              "\n",
              "  var NB_LOAD_WARNING = {'data': {'text/html':\n",
              "     \"<div style='background-color: #fdd'>\\n\"+\n",
              "     \"<p>\\n\"+\n",
              "     \"BokehJS does not appear to have successfully loaded. If loading BokehJS from CDN, this \\n\"+\n",
              "     \"may be due to a slow or bad network connection. Possible fixes:\\n\"+\n",
              "     \"</p>\\n\"+\n",
              "     \"<ul>\\n\"+\n",
              "     \"<li>re-rerun `output_notebook()` to attempt to load from CDN again, or</li>\\n\"+\n",
              "     \"<li>use INLINE resources instead, as so:</li>\\n\"+\n",
              "     \"</ul>\\n\"+\n",
              "     \"<code>\\n\"+\n",
              "     \"from bokeh.resources import INLINE\\n\"+\n",
              "     \"output_notebook(resources=INLINE)\\n\"+\n",
              "     \"</code>\\n\"+\n",
              "     \"</div>\"}};\n",
              "\n",
              "  function display_loaded() {\n",
              "    var el = document.getElementById(null);\n",
              "    if (el != null) {\n",
              "      el.textContent = \"BokehJS is loading...\";\n",
              "    }\n",
              "    if (root.Bokeh !== undefined) {\n",
              "      if (el != null) {\n",
              "        el.textContent = \"BokehJS \" + root.Bokeh.version + \" successfully loaded.\";\n",
              "      }\n",
              "    } else if (Date.now() < root._bokeh_timeout) {\n",
              "      setTimeout(display_loaded, 100)\n",
              "    }\n",
              "  }\n",
              "\n",
              "\n",
              "  function run_callbacks() {\n",
              "    try {\n",
              "      root._bokeh_onload_callbacks.forEach(function(callback) {\n",
              "        if (callback != null)\n",
              "          callback();\n",
              "      });\n",
              "    } finally {\n",
              "      delete root._bokeh_onload_callbacks\n",
              "    }\n",
              "    console.debug(\"Bokeh: all callbacks have finished\");\n",
              "  }\n",
              "\n",
              "  function load_libs(css_urls, js_urls, callback) {\n",
              "    if (css_urls == null) css_urls = [];\n",
              "    if (js_urls == null) js_urls = [];\n",
              "\n",
              "    root._bokeh_onload_callbacks.push(callback);\n",
              "    if (root._bokeh_is_loading > 0) {\n",
              "      console.debug(\"Bokeh: BokehJS is being loaded, scheduling callback at\", now());\n",
              "      return null;\n",
              "    }\n",
              "    if (js_urls == null || js_urls.length === 0) {\n",
              "      run_callbacks();\n",
              "      return null;\n",
              "    }\n",
              "    console.debug(\"Bokeh: BokehJS not loaded, scheduling load and callback at\", now());\n",
              "    root._bokeh_is_loading = css_urls.length + js_urls.length;\n",
              "\n",
              "    function on_load() {\n",
              "      root._bokeh_is_loading--;\n",
              "      if (root._bokeh_is_loading === 0) {\n",
              "        console.debug(\"Bokeh: all BokehJS libraries/stylesheets loaded\");\n",
              "        run_callbacks()\n",
              "      }\n",
              "    }\n",
              "\n",
              "    function on_error() {\n",
              "      console.error(\"failed to load \" + url);\n",
              "    }\n",
              "\n",
              "    for (var i = 0; i < css_urls.length; i++) {\n",
              "      var url = css_urls[i];\n",
              "      const element = document.createElement(\"link\");\n",
              "      element.onload = on_load;\n",
              "      element.onerror = on_error;\n",
              "      element.rel = \"stylesheet\";\n",
              "      element.type = \"text/css\";\n",
              "      element.href = url;\n",
              "      console.debug(\"Bokeh: injecting link tag for BokehJS stylesheet: \", url);\n",
              "      document.body.appendChild(element);\n",
              "    }\n",
              "\n",
              "    const hashes = {\"https://cdn.bokeh.org/bokeh/release/bokeh-2.1.1.min.js\": \"kLr4fYcqcSpbuI95brIH3vnnYCquzzSxHPU6XGQCIkQRGJwhg0StNbj1eegrHs12\", \"https://cdn.bokeh.org/bokeh/release/bokeh-widgets-2.1.1.min.js\": \"xIGPmVtaOm+z0BqfSOMn4lOR6ciex448GIKG4eE61LsAvmGj48XcMQZtKcE/UXZe\", \"https://cdn.bokeh.org/bokeh/release/bokeh-tables-2.1.1.min.js\": \"Dc9u1wF/0zApGIWoBbH77iWEHtdmkuYWG839Uzmv8y8yBLXebjO9ZnERsde5Ln/P\", \"https://cdn.bokeh.org/bokeh/release/bokeh-gl-2.1.1.min.js\": \"cT9JaBz7GiRXdENrJLZNSC6eMNF3nh3fa5fTF51Svp+ukxPdwcU5kGXGPBgDCa2j\"};\n",
              "\n",
              "    for (var i = 0; i < js_urls.length; i++) {\n",
              "      var url = js_urls[i];\n",
              "      var element = document.createElement('script');\n",
              "      element.onload = on_load;\n",
              "      element.onerror = on_error;\n",
              "      element.async = false;\n",
              "      element.src = url;\n",
              "      if (url in hashes) {\n",
              "        element.crossOrigin = \"anonymous\";\n",
              "        element.integrity = \"sha384-\" + hashes[url];\n",
              "      }\n",
              "      console.debug(\"Bokeh: injecting script tag for BokehJS library: \", url);\n",
              "      document.head.appendChild(element);\n",
              "    }\n",
              "  };\n",
              "\n",
              "  function inject_raw_css(css) {\n",
              "    const element = document.createElement(\"style\");\n",
              "    element.appendChild(document.createTextNode(css));\n",
              "    document.body.appendChild(element);\n",
              "  }\n",
              "\n",
              "  \n",
              "  var js_urls = [\"https://cdn.bokeh.org/bokeh/release/bokeh-2.1.1.min.js\", \"https://cdn.bokeh.org/bokeh/release/bokeh-widgets-2.1.1.min.js\", \"https://cdn.bokeh.org/bokeh/release/bokeh-tables-2.1.1.min.js\", \"https://cdn.bokeh.org/bokeh/release/bokeh-gl-2.1.1.min.js\"];\n",
              "  var css_urls = [];\n",
              "  \n",
              "\n",
              "  var inline_js = [\n",
              "    function(Bokeh) {\n",
              "      Bokeh.set_log_level(\"info\");\n",
              "    },\n",
              "    function(Bokeh) {\n",
              "    \n",
              "    \n",
              "    }\n",
              "  ];\n",
              "\n",
              "  function run_inline_js() {\n",
              "    \n",
              "    if (root.Bokeh !== undefined || force === true) {\n",
              "      \n",
              "    for (var i = 0; i < inline_js.length; i++) {\n",
              "      inline_js[i].call(root, root.Bokeh);\n",
              "    }\n",
              "    } else if (Date.now() < root._bokeh_timeout) {\n",
              "      setTimeout(run_inline_js, 100);\n",
              "    } else if (!root._bokeh_failed_load) {\n",
              "      console.log(\"Bokeh: BokehJS failed to load within specified timeout.\");\n",
              "      root._bokeh_failed_load = true;\n",
              "    } else if (force !== true) {\n",
              "      var cell = $(document.getElementById(null)).parents('.cell').data().cell;\n",
              "      cell.output_area.append_execute_result(NB_LOAD_WARNING)\n",
              "    }\n",
              "\n",
              "  }\n",
              "\n",
              "  if (root._bokeh_is_loading === 0) {\n",
              "    console.debug(\"Bokeh: BokehJS loaded, going straight to plotting\");\n",
              "    run_inline_js();\n",
              "  } else {\n",
              "    load_libs(css_urls, js_urls, function() {\n",
              "      console.debug(\"Bokeh: BokehJS plotting callback run at\", now());\n",
              "      run_inline_js();\n",
              "    });\n",
              "  }\n",
              "}(window));"
            ],
            "application/vnd.bokehjs_load.v0+json": "\n(function(root) {\n  function now() {\n    return new Date();\n  }\n\n  var force = true;\n\n  if (typeof root._bokeh_onload_callbacks === \"undefined\" || force === true) {\n    root._bokeh_onload_callbacks = [];\n    root._bokeh_is_loading = undefined;\n  }\n\n  \n\n  \n  if (typeof (root._bokeh_timeout) === \"undefined\" || force === true) {\n    root._bokeh_timeout = Date.now() + 5000;\n    root._bokeh_failed_load = false;\n  }\n\n  var NB_LOAD_WARNING = {'data': {'text/html':\n     \"<div style='background-color: #fdd'>\\n\"+\n     \"<p>\\n\"+\n     \"BokehJS does not appear to have successfully loaded. If loading BokehJS from CDN, this \\n\"+\n     \"may be due to a slow or bad network connection. Possible fixes:\\n\"+\n     \"</p>\\n\"+\n     \"<ul>\\n\"+\n     \"<li>re-rerun `output_notebook()` to attempt to load from CDN again, or</li>\\n\"+\n     \"<li>use INLINE resources instead, as so:</li>\\n\"+\n     \"</ul>\\n\"+\n     \"<code>\\n\"+\n     \"from bokeh.resources import INLINE\\n\"+\n     \"output_notebook(resources=INLINE)\\n\"+\n     \"</code>\\n\"+\n     \"</div>\"}};\n\n  function display_loaded() {\n    var el = document.getElementById(null);\n    if (el != null) {\n      el.textContent = \"BokehJS is loading...\";\n    }\n    if (root.Bokeh !== undefined) {\n      if (el != null) {\n        el.textContent = \"BokehJS \" + root.Bokeh.version + \" successfully loaded.\";\n      }\n    } else if (Date.now() < root._bokeh_timeout) {\n      setTimeout(display_loaded, 100)\n    }\n  }\n\n\n  function run_callbacks() {\n    try {\n      root._bokeh_onload_callbacks.forEach(function(callback) {\n        if (callback != null)\n          callback();\n      });\n    } finally {\n      delete root._bokeh_onload_callbacks\n    }\n    console.debug(\"Bokeh: all callbacks have finished\");\n  }\n\n  function load_libs(css_urls, js_urls, callback) {\n    if (css_urls == null) css_urls = [];\n    if (js_urls == null) js_urls = [];\n\n    root._bokeh_onload_callbacks.push(callback);\n    if (root._bokeh_is_loading > 0) {\n      console.debug(\"Bokeh: BokehJS is being loaded, scheduling callback at\", now());\n      return null;\n    }\n    if (js_urls == null || js_urls.length === 0) {\n      run_callbacks();\n      return null;\n    }\n    console.debug(\"Bokeh: BokehJS not loaded, scheduling load and callback at\", now());\n    root._bokeh_is_loading = css_urls.length + js_urls.length;\n\n    function on_load() {\n      root._bokeh_is_loading--;\n      if (root._bokeh_is_loading === 0) {\n        console.debug(\"Bokeh: all BokehJS libraries/stylesheets loaded\");\n        run_callbacks()\n      }\n    }\n\n    function on_error() {\n      console.error(\"failed to load \" + url);\n    }\n\n    for (var i = 0; i < css_urls.length; i++) {\n      var url = css_urls[i];\n      const element = document.createElement(\"link\");\n      element.onload = on_load;\n      element.onerror = on_error;\n      element.rel = \"stylesheet\";\n      element.type = \"text/css\";\n      element.href = url;\n      console.debug(\"Bokeh: injecting link tag for BokehJS stylesheet: \", url);\n      document.body.appendChild(element);\n    }\n\n    const hashes = {\"https://cdn.bokeh.org/bokeh/release/bokeh-2.1.1.min.js\": \"kLr4fYcqcSpbuI95brIH3vnnYCquzzSxHPU6XGQCIkQRGJwhg0StNbj1eegrHs12\", \"https://cdn.bokeh.org/bokeh/release/bokeh-widgets-2.1.1.min.js\": \"xIGPmVtaOm+z0BqfSOMn4lOR6ciex448GIKG4eE61LsAvmGj48XcMQZtKcE/UXZe\", \"https://cdn.bokeh.org/bokeh/release/bokeh-tables-2.1.1.min.js\": \"Dc9u1wF/0zApGIWoBbH77iWEHtdmkuYWG839Uzmv8y8yBLXebjO9ZnERsde5Ln/P\", \"https://cdn.bokeh.org/bokeh/release/bokeh-gl-2.1.1.min.js\": \"cT9JaBz7GiRXdENrJLZNSC6eMNF3nh3fa5fTF51Svp+ukxPdwcU5kGXGPBgDCa2j\"};\n\n    for (var i = 0; i < js_urls.length; i++) {\n      var url = js_urls[i];\n      var element = document.createElement('script');\n      element.onload = on_load;\n      element.onerror = on_error;\n      element.async = false;\n      element.src = url;\n      if (url in hashes) {\n        element.crossOrigin = \"anonymous\";\n        element.integrity = \"sha384-\" + hashes[url];\n      }\n      console.debug(\"Bokeh: injecting script tag for BokehJS library: \", url);\n      document.head.appendChild(element);\n    }\n  };\n\n  function inject_raw_css(css) {\n    const element = document.createElement(\"style\");\n    element.appendChild(document.createTextNode(css));\n    document.body.appendChild(element);\n  }\n\n  \n  var js_urls = [\"https://cdn.bokeh.org/bokeh/release/bokeh-2.1.1.min.js\", \"https://cdn.bokeh.org/bokeh/release/bokeh-widgets-2.1.1.min.js\", \"https://cdn.bokeh.org/bokeh/release/bokeh-tables-2.1.1.min.js\", \"https://cdn.bokeh.org/bokeh/release/bokeh-gl-2.1.1.min.js\"];\n  var css_urls = [];\n  \n\n  var inline_js = [\n    function(Bokeh) {\n      Bokeh.set_log_level(\"info\");\n    },\n    function(Bokeh) {\n    \n    \n    }\n  ];\n\n  function run_inline_js() {\n    \n    if (root.Bokeh !== undefined || force === true) {\n      \n    for (var i = 0; i < inline_js.length; i++) {\n      inline_js[i].call(root, root.Bokeh);\n    }\n    } else if (Date.now() < root._bokeh_timeout) {\n      setTimeout(run_inline_js, 100);\n    } else if (!root._bokeh_failed_load) {\n      console.log(\"Bokeh: BokehJS failed to load within specified timeout.\");\n      root._bokeh_failed_load = true;\n    } else if (force !== true) {\n      var cell = $(document.getElementById(null)).parents('.cell').data().cell;\n      cell.output_area.append_execute_result(NB_LOAD_WARNING)\n    }\n\n  }\n\n  if (root._bokeh_is_loading === 0) {\n    console.debug(\"Bokeh: BokehJS loaded, going straight to plotting\");\n    run_inline_js();\n  } else {\n    load_libs(css_urls, js_urls, function() {\n      console.debug(\"Bokeh: BokehJS plotting callback run at\", now());\n      run_inline_js();\n    });\n  }\n}(window));"
          },
          "metadata": {
            "tags": []
          }
        },
        {
          "output_type": "display_data",
          "data": {
            "text/html": [
              "\n",
              "\n",
              "\n",
              "\n",
              "\n",
              "\n",
              "  <div class=\"bk-root\" id=\"5947b156-91ff-403a-8f3d-e4a50a4262ee\" data-root-id=\"1191\"></div>\n"
            ]
          },
          "metadata": {
            "tags": []
          }
        },
        {
          "output_type": "display_data",
          "data": {
            "application/javascript": [
              "(function(root) {\n",
              "  function embed_document(root) {\n",
              "    \n",
              "  var docs_json = {\"681db106-bc02-40d9-87b2-560d78c4aa46\":{\"roots\":{\"references\":[{\"attributes\":{\"below\":[{\"id\":\"1200\"}],\"center\":[{\"id\":\"1203\"},{\"id\":\"1207\"}],\"left\":[{\"id\":\"1204\"}],\"plot_height\":200,\"plot_width\":500,\"renderers\":[{\"id\":\"1227\"},{\"id\":\"1233\"},{\"id\":\"1239\"},{\"id\":\"1245\"},{\"id\":\"1251\"},{\"id\":\"1257\"},{\"id\":\"1263\"},{\"id\":\"1269\"},{\"id\":\"1275\"},{\"id\":\"1281\"},{\"id\":\"1287\"},{\"id\":\"1293\"},{\"id\":\"1299\"},{\"id\":\"1305\"},{\"id\":\"1311\"},{\"id\":\"1317\"},{\"id\":\"1323\"},{\"id\":\"1329\"},{\"id\":\"1335\"},{\"id\":\"1341\"},{\"id\":\"1347\"},{\"id\":\"1353\"},{\"id\":\"1359\"}],\"title\":{\"id\":\"1361\"},\"toolbar\":{\"id\":\"1214\"},\"x_range\":{\"id\":\"1192\"},\"x_scale\":{\"id\":\"1196\"},\"y_range\":{\"id\":\"1194\"},\"y_scale\":{\"id\":\"1198\"}},\"id\":\"1191\",\"subtype\":\"Figure\",\"type\":\"Plot\"},{\"attributes\":{\"data_source\":{\"id\":\"1313\"},\"glyph\":{\"id\":\"1315\"},\"hover_glyph\":null,\"muted_glyph\":null,\"nonselection_glyph\":{\"id\":\"1316\"},\"selection_glyph\":null,\"view\":{\"id\":\"1318\"}},\"id\":\"1317\",\"type\":\"GlyphRenderer\"},{\"attributes\":{\"data\":{\"bottom\":{\"__ndarray__\":\"ZmZmZmYmUUBmZmZmZqZRQGZmZmZmZlJAZmZmZmbmUUBmZmZmZuZSQA==\",\"dtype\":\"float64\",\"order\":\"little\",\"shape\":[5]},\"duration\":{\"__ndarray__\":\"AAAAAAAA8D9QVVVVVVXwPwAAAAAAAPA/UFVVVVVV8D9QVVVVVVXwPw==\",\"dtype\":\"float64\",\"order\":\"little\",\"shape\":[5]},\"end_time\":{\"__ndarray__\":\"AAAAAAAANkAAAAAAAAA4QKuqqqqq+jlAAAAAAAAAPEAAAAAAAABAQA==\",\"dtype\":\"float64\",\"order\":\"little\",\"shape\":[5]},\"fill_alpha\":{\"__ndarray__\":\"AAAAAABA5D8AAAAAAEDoPwAAAAAAQOg/AAAAAABA6D8AAAAAAEDoPw==\",\"dtype\":\"float64\",\"order\":\"little\",\"shape\":[5]},\"index\":[335,360,395,431,500],\"instrument\":[11,11,11,11,11],\"pitch\":[69,71,74,72,76],\"program\":[78,78,78,78,78],\"start_time\":{\"__ndarray__\":\"AAAAAAAANUCrqqqqqvo2QKuqqqqq+jhAq6qqqqr6OkCrqqqqqvo+QA==\",\"dtype\":\"float64\",\"order\":\"little\",\"shape\":[5]},\"top\":{\"__ndarray__\":\"mpmZmZlZUUCamZmZmdlRQJqZmZmZmVJAmpmZmZkZUkCamZmZmRlTQA==\",\"dtype\":\"float64\",\"order\":\"little\",\"shape\":[5]},\"velocity\":[81,97,97,97,97]},\"selected\":{\"id\":\"1387\"},\"selection_policy\":{\"id\":\"1388\"}},\"id\":\"1283\",\"type\":\"ColumnDataSource\"},{\"attributes\":{},\"id\":\"1370\",\"type\":\"UnionRenderers\"},{\"attributes\":{},\"id\":\"1412\",\"type\":\"UnionRenderers\"},{\"attributes\":{\"data\":{\"bottom\":{\"__ndarray__\":\"zczMzMzMTkBmZmZmZiZQQM3MzMzMzE5AZmZmZmYmUEDNzMzMzMxOQGZmZmZmJlBAzczMzMzMTkBmZmZmZiZQQM3MzMzMzE1AZmZmZmYmUEDNzMzMzMxNQGZmZmZmJlBAzczMzMzMTUBmZmZmZiZQQM3MzMzMzE1AZmZmZmYmUEDNzMzMzExMQM3MzMzMzE1AzczMzMxMTEDNzMzMzMxNQM3MzMzMTExAzczMzMzMTUDNzMzMzExMQM3MzMzMzE1AzczMzMxMTUDNzMzMzMxOQM3MzMzMTE1AzczMzMzMTkDNzMzMzExNQM3MzMzMzE5AzczMzMxMTUDNzMzMzMxOQM3MzMzMzE5AZmZmZmYmUEDNzMzMzMxOQGZmZmZmJlBAzczMzMzMTkBmZmZmZiZQQM3MzMzMzE5AZmZmZmYmUEDNzMzMzMxOQGZmZmZmJlBAzczMzMzMTkBmZmZmZiZQQM3MzMzMzE1AZmZmZmYmUEBmZmZmZiZRQM3MzMzMzE1AzczMzMxMTEDNzMzMzMxNQM3MzMzMTExAzczMzMzMTUDNzMzMzExMQA==\",\"dtype\":\"float64\",\"order\":\"little\",\"shape\":[53]},\"duration\":{\"__ndarray__\":\"AAAAAAAA4D8AAAAAAADgPwAAAAAAAOA/AAAAAAAA4D8AAAAAAADgPwAAAAAAAOA/AAAAAAAA4D8AAAAAAADgPwAAAAAAAOA/AAAAAAAA4D8AAAAAAADgPwAAAAAAAOA/AAAAAAAA4D8AAAAAAADgPwAAAAAAAOA/AAAAAAAA4D8AAAAAAADgPwAAAAAAAOA/AAAAAAAA4D8AAAAAAADgPwAAAAAAAOA/AAAAAAAA4D8AAAAAAADgPwAAAAAAAOA/AAAAAAAA4D8AAAAAAADgPwAAAAAAAOA/AAAAAAAA4D8AAAAAAADgPwAAAAAAAOA/AAAAAAAA4D8AAAAAAADgPwAAAAAAAOA/AAAAAAAA4D8AAAAAAADQPwAAAAAAANA/AAAAAAAA0D8AAAAAAADQPwAAAAAAAOA/AAAAAAAA4D8AAAAAAADQPwAAAAAAANA/AAAAAAAA0D8AAAAAAADQPwAAAAAAAP8/AAAAAAAA/z8AAAAAAAD/P8Cqqqqqqto/gFVVVVVVxT8AAAAAAADYP4BVVVVVVcU/AAAAAAAA4D8AAAAAAADgPw==\",\"dtype\":\"float64\",\"order\":\"little\",\"shape\":[53]},\"end_time\":{\"__ndarray__\":\"AAAAAAAAIUAAAAAAAAAhQAAAAAAAACJAAAAAAAAAIkAAAAAAAAAjQAAAAAAAACNAAAAAAAAAJEAAAAAAAAAkQAAAAAAAACVAAAAAAAAAJUAAAAAAAAAmQAAAAAAAACZAAAAAAAAAJ0AAAAAAAAAnQAAAAAAAAChAAAAAAAAAKEAAAAAAAAApQAAAAAAAAClAAAAAAAAAKkAAAAAAAAAqQAAAAAAAACtAAAAAAAAAK0AAAAAAAAAsQAAAAAAAACxAAAAAAAAALUAAAAAAAAAtQAAAAAAAAC5AAAAAAAAALkAAAAAAAAAvQAAAAAAAAC9AAAAAAAAAMEAAAAAAAAAwQAAAAAAAgDBAAAAAAACAMEAAAAAAAMAwQAAAAAAAwDBAAAAAAAAAMUAAAAAAAAAxQAAAAAAAgDFAAAAAAACAMUAAAAAAAMAxQAAAAAAAwDFAAAAAAAAAMkAAAAAAAAAyQFVVVVVV9TNAVVVVVVX1M0BVVVVVVfUzQKuqqqqqajRAq6qqqqqKNEAAAAAAAOA0QKuqqqqqCjVAAAAAAACANUAAAAAAAAA2QA==\",\"dtype\":\"float64\",\"order\":\"little\",\"shape\":[53]},\"fill_alpha\":{\"__ndarray__\":\"AAAAAABA4D8AAAAAAEDkPwAAAAAAQOA/AAAAAABA5D8AAAAAAEDgPwAAAAAAQOQ/AAAAAABA4D8AAAAAAEDkPwAAAAAAQOA/AAAAAABA5D8AAAAAAEDgPwAAAAAAQOQ/AAAAAABA4D8AAAAAAEDkPwAAAAAAQOA/AAAAAABA5D8AAAAAAEDgPwAAAAAAQOQ/AAAAAABA4D8AAAAAAEDkPwAAAAAAQOA/AAAAAABA5D8AAAAAAEDgPwAAAAAAQOQ/AAAAAABA5D8AAAAAAEDgPwAAAAAAQOQ/AAAAAABA4D8AAAAAAEDkPwAAAAAAQOA/AAAAAABA5D8AAAAAAEDgPwAAAAAAQOA/AAAAAABA5D8AAAAAAEDgPwAAAAAAQOQ/AAAAAABA4D8AAAAAAEDkPwAAAAAAQOA/AAAAAABA5D8AAAAAAEDgPwAAAAAAQOQ/AAAAAABA4D8AAAAAAEDkPwAAAAAAQOQ/AAAAAABA5D8AAAAAAEDkPwAAAAAAQOQ/AAAAAABA4D8AAAAAAEDkPwAAAAAAQOA/AAAAAABA5D8AAAAAAEDgPw==\",\"dtype\":\"float64\",\"order\":\"little\",\"shape\":[53]},\"index\":[123,124,129,130,139,140,147,148,157,158,165,166,176,177,185,186,196,197,203,204,213,214,221,222,231,232,237,238,246,247,253,254,262,263,268,269,274,275,278,279,285,286,291,292,295,296,297,319,324,326,332,334,341],\"instrument\":[6,6,6,6,6,6,6,6,6,6,6,6,6,6,6,6,6,6,6,6,6,6,6,6,6,6,6,6,6,6,6,6,6,6,6,6,6,6,6,6,6,6,6,6,6,6,6,6,6,6,6,6,6],\"pitch\":[62,65,62,65,62,65,62,65,60,65,60,65,60,65,60,65,57,60,57,60,57,60,57,60,59,62,59,62,59,62,59,62,62,65,62,65,62,65,62,65,62,65,62,65,60,65,69,60,57,60,57,60,57],\"program\":[48,48,48,48,48,48,48,48,48,48,48,48,48,48,48,48,48,48,48,48,48,48,48,48,48,48,48,48,48,48,48,48,48,48,48,48,48,48,48,48,48,48,48,48,48,48,48,48,48,48,48,48,48],\"start_time\":{\"__ndarray__\":\"AAAAAAAAIEAAAAAAAAAgQAAAAAAAACFAAAAAAAAAIUAAAAAAAAAiQAAAAAAAACJAAAAAAAAAI0AAAAAAAAAjQAAAAAAAACRAAAAAAAAAJEAAAAAAAAAlQAAAAAAAACVAAAAAAAAAJkAAAAAAAAAmQAAAAAAAACdAAAAAAAAAJ0AAAAAAAAAoQAAAAAAAAChAAAAAAAAAKUAAAAAAAAApQAAAAAAAACpAAAAAAAAAKkAAAAAAAAArQAAAAAAAACtAAAAAAAAALEAAAAAAAAAsQAAAAAAAAC1AAAAAAAAALUAAAAAAAAAuQAAAAAAAAC5AAAAAAAAAL0AAAAAAAAAvQAAAAAAAADBAAAAAAAAAMEAAAAAAAIAwQAAAAAAAgDBAAAAAAADAMEAAAAAAAMAwQAAAAAAAADFAAAAAAAAAMUAAAAAAAIAxQAAAAAAAgDFAAAAAAADAMUAAAAAAAMAxQFVVVVVVBTJAVVVVVVUFMkBVVVVVVQUyQAAAAAAAADRAAAAAAABgNEAAAAAAAIA0QAAAAAAA4DRAAAAAAAAANUAAAAAAAIA1QA==\",\"dtype\":\"float64\",\"order\":\"little\",\"shape\":[53]},\"top\":{\"__ndarray__\":\"MzMzMzMzT0CamZmZmVlQQDMzMzMzM09AmpmZmZlZUEAzMzMzMzNPQJqZmZmZWVBAMzMzMzMzT0CamZmZmVlQQDMzMzMzM05AmpmZmZlZUEAzMzMzMzNOQJqZmZmZWVBAMzMzMzMzTkCamZmZmVlQQDMzMzMzM05AmpmZmZlZUEAzMzMzM7NMQDMzMzMzM05AMzMzMzOzTEAzMzMzMzNOQDMzMzMzs0xAMzMzMzMzTkAzMzMzM7NMQDMzMzMzM05AMzMzMzOzTUAzMzMzMzNPQDMzMzMzs01AMzMzMzMzT0AzMzMzM7NNQDMzMzMzM09AMzMzMzOzTUAzMzMzMzNPQDMzMzMzM09AmpmZmZlZUEAzMzMzMzNPQJqZmZmZWVBAMzMzMzMzT0CamZmZmVlQQDMzMzMzM09AmpmZmZlZUEAzMzMzMzNPQJqZmZmZWVBAMzMzMzMzT0CamZmZmVlQQDMzMzMzM05AmpmZmZlZUECamZmZmVlRQDMzMzMzM05AMzMzMzOzTEAzMzMzMzNOQDMzMzMzs0xAMzMzMzMzTkAzMzMzM7NMQA==\",\"dtype\":\"float64\",\"order\":\"little\",\"shape\":[53]},\"velocity\":[65,81,65,81,65,81,65,81,65,81,65,81,65,81,65,81,65,81,65,81,65,81,65,81,81,65,81,65,81,65,81,65,65,81,65,81,65,81,65,81,65,81,65,81,81,81,81,81,65,81,65,81,65]},\"selected\":{\"id\":\"1377\"},\"selection_policy\":{\"id\":\"1378\"}},\"id\":\"1253\",\"type\":\"ColumnDataSource\"},{\"attributes\":{\"source\":{\"id\":\"1313\"}},\"id\":\"1318\",\"type\":\"CDSView\"},{\"attributes\":{\"source\":{\"id\":\"1247\"}},\"id\":\"1252\",\"type\":\"CDSView\"},{\"attributes\":{},\"id\":\"1371\",\"type\":\"Selection\"},{\"attributes\":{\"data\":{\"bottom\":{\"__ndarray__\":\"ZmZmZmYmUEBmZmZmZiZRQGZmZmZmplBAzczMzMxMQEDNzMzMzMxBQGZmZmZmJlBAzczMzMxMQEBmZmZmZqZQQGZmZmZmJlFAzczMzMxMQEDNzMzMzExAQM3MzMzMzEFAZmZmZmYmUUDNzMzMzExAQA==\",\"dtype\":\"float64\",\"order\":\"little\",\"shape\":[14]},\"duration\":{\"__ndarray__\":\"YFVVVVVV8D9gVVVVVVXwP2BVVVVVVfA/AAAAAAAA8D8AWFVVVVWVP2BVVVVVVfA/YFVVVVVV8D/AqqqqqqrgPwAAAAAAAOA/gFVVVVVV4T8AAAAAAADgPwBYVVVVVZU/AAAAAAAA4D8AVFVVVVWlPw==\",\"dtype\":\"float64\",\"order\":\"little\",\"shape\":[14]},\"end_time\":{\"__ndarray__\":\"AAAAAAAAQkAAAAAAAABDQAAAAAAAAERAVVVVVVX9REAAAAAAAABFQAAAAAAAAEZAAAAAAAAAR0AAAAAAAMBHQAAAAAAAAEhAq6qqqqrCSEBVVVVVVf1IQAAAAAAAAElAVVVVVVX9SUAAAAAAAABLQA==\",\"dtype\":\"float64\",\"order\":\"little\",\"shape\":[14]},\"fill_alpha\":{\"__ndarray__\":\"AAAAAABA5D8AAAAAAEDoPwAAAAAAQOg/AAAAAABA5D8AAAAAAEDoPwAAAAAAQOQ/AAAAAABA6D8AAAAAAEDoPwAAAAAAQOQ/AAAAAABA6D8AAAAAAEDkPwAAAAAAQOg/AAAAAABA6D8AAAAAAEDoPw==\",\"dtype\":\"float64\",\"order\":\"little\",\"shape\":[14]},\"index\":[559,586,614,645,661,677,711,747,759,778,785,792,807,836],\"instrument\":[18,18,18,18,18,18,18,18,18,18,18,18,18,18],\"pitch\":[65,69,67,33,36,65,33,67,69,33,33,36,69,33],\"program\":[89,89,89,89,89,89,89,89,89,89,89,89,89,89],\"start_time\":{\"__ndarray__\":\"VVVVVVV9QUBVVVVVVX1CQFVVVVVVfUNAVVVVVVV9REBVVVVVVf1EQFVVVVVVfUVAVVVVVVV9RkBVVVVVVX1HQAAAAAAAwEdAVVVVVVV9SEBVVVVVVb1IQFVVVVVV/UhAVVVVVVW9SUCrqqqqqvpKQA==\",\"dtype\":\"float64\",\"order\":\"little\",\"shape\":[14]},\"top\":{\"__ndarray__\":\"mpmZmZlZUECamZmZmVlRQJqZmZmZ2VBAMzMzMzOzQEAzMzMzMzNCQJqZmZmZWVBAMzMzMzOzQECamZmZmdlQQJqZmZmZWVFAMzMzMzOzQEAzMzMzM7NAQDMzMzMzM0JAmpmZmZlZUUAzMzMzM7NAQA==\",\"dtype\":\"float64\",\"order\":\"little\",\"shape\":[14]},\"velocity\":[81,97,97,81,97,81,97,97,81,97,81,97,97,97]},\"selected\":{\"id\":\"1401\"},\"selection_policy\":{\"id\":\"1402\"}},\"id\":\"1325\",\"type\":\"ColumnDataSource\"},{\"attributes\":{},\"id\":\"1372\",\"type\":\"UnionRenderers\"},{\"attributes\":{\"bottom\":{\"field\":\"bottom\"},\"fill_alpha\":{\"value\":0.1},\"fill_color\":{\"value\":\"#fdae61\"},\"left\":{\"field\":\"start_time\"},\"line_alpha\":{\"value\":0.1},\"right\":{\"field\":\"end_time\"},\"top\":{\"field\":\"top\"}},\"id\":\"1250\",\"type\":\"Quad\"},{\"attributes\":{},\"id\":\"1373\",\"type\":\"Selection\"},{\"attributes\":{},\"id\":\"1378\",\"type\":\"UnionRenderers\"},{\"attributes\":{\"source\":{\"id\":\"1259\"}},\"id\":\"1264\",\"type\":\"CDSView\"},{\"attributes\":{},\"id\":\"1374\",\"type\":\"UnionRenderers\"},{\"attributes\":{},\"id\":\"1381\",\"type\":\"Selection\"},{\"attributes\":{\"data_source\":{\"id\":\"1259\"},\"glyph\":{\"id\":\"1261\"},\"hover_glyph\":null,\"muted_glyph\":null,\"nonselection_glyph\":{\"id\":\"1262\"},\"selection_glyph\":null,\"view\":{\"id\":\"1264\"}},\"id\":\"1263\",\"type\":\"GlyphRenderer\"},{\"attributes\":{\"data_source\":{\"id\":\"1337\"},\"glyph\":{\"id\":\"1339\"},\"hover_glyph\":null,\"muted_glyph\":null,\"nonselection_glyph\":{\"id\":\"1340\"},\"selection_glyph\":null,\"view\":{\"id\":\"1342\"}},\"id\":\"1341\",\"type\":\"GlyphRenderer\"},{\"attributes\":{},\"id\":\"1382\",\"type\":\"UnionRenderers\"},{\"attributes\":{\"bottom\":{\"field\":\"bottom\"},\"fill_alpha\":{\"field\":\"fill_alpha\"},\"fill_color\":{\"value\":\"#f46d43\"},\"left\":{\"field\":\"start_time\"},\"right\":{\"field\":\"end_time\"},\"top\":{\"field\":\"top\"}},\"id\":\"1237\",\"type\":\"Quad\"},{\"attributes\":{\"data\":{\"bottom\":{\"__ndarray__\":\"zczMzMzMT0DNzMzMzMxPQM3MzMzMzE9AzczMzMzMT0DNzMzMzMxPQM3MzMzMzE9AzczMzMzMT0DNzMzMzMxPQGZmZmZmplBAZmZmZmYmUUBmZmZmZqZQQGZmZmZmJlFAZmZmZmamUEBmZmZmZiZRQGZmZmZmplBAZmZmZmYmUUBmZmZmZqZQQGZmZmZmJlFAZmZmZmYmUUBmZmZmZiZRQGZmZmZmJlFAZmZmZmYmUUBmZmZmZiZRQGZmZmZmJlFAZmZmZmYmUUBmZmZmZiZRQGZmZmZmJlFAZmZmZmYmUUBmZmZmZiZRQGZmZmZmJlFAZmZmZmYmUUBmZmZmZiZRQGZmZmZmJlFAZmZmZmbmUUBmZmZmZiZRQGZmZmZm5lFAZmZmZmYmUUBmZmZmZuZRQGZmZmZm5lFAZmZmZmbmUUBmZmZmZqZQQGZmZmZmplBAZmZmZmamUEBmZmZmZqZQQGZmZmZmplBAZmZmZmamUEBmZmZmZqZQQGZmZmZmplBA\",\"dtype\":\"float64\",\"order\":\"little\",\"shape\":[48]},\"duration\":{\"__ndarray__\":\"AAAAAAAA0D8AAAAAAADQPwAAAAAAANA/AAAAAAAA0D8AAAAAAADQPwAAAAAAANA/AAAAAAAA0D8AVVVVVVXNPwAAAAAAANA/AAAAAAAA0D8AAAAAAADQPwAAAAAAANA/AAAAAAAA0D8AAAAAAADQPwAAAAAAANA/AAAAAAAAwD8AAAAAAACwPwAAAAAAANA/AAAAAAAA0D8AAAAAAADQPwAAAAAAANA/AAAAAAAA0D8AAAAAAADQPwAAAAAAANA/AFVVVVVVzT8AAAAAAADYPwAAAAAAAMA/AAAAAAAAwD8AAAAAAADAPwAAAAAAAMA/AAAAAAAAwD8AAAAAAADAPwAAAAAAANA/AAAAAAAA0D8AAAAAAADQPwAAAAAAANA/AAAAAAAA0D8AAAAAAADQPwAAAAAAANA/AFVVVVVVzT8AAAAAAADQPwAAAAAAANA/AAAAAAAA0D8AAAAAAADQPwAAAAAAANA/AAAAAAAA0D8AAAAAAADQPwBVVVVVVc0/\",\"dtype\":\"float64\",\"order\":\"little\",\"shape\":[48]},\"end_time\":{\"__ndarray__\":\"q6qqqqoiSkCrqqqqqkJKQKuqqqqqYkpAq6qqqqqCSkCrqqqqqqJKQKuqqqqqwkpAq6qqqqriSkAAAAAAAABLQKuqqqqqIktAq6qqqqpCS0CrqqqqqmJLQKuqqqqqgktAq6qqqqqiS0CrqqqqqsJLQKuqqqqq4ktAq6qqqqryS0CrqqqqqvpLQKuqqqqqIkxAq6qqqqpCTECrqqqqqmJMQKuqqqqqgkxAq6qqqqqiTECrqqqqqsJMQKuqqqqq4kxAAAAAAAAATUCrqqqqqjJNQKuqqqqqUk1Aq6qqqqpyTUCrqqqqqpJNQKuqqqqqsk1Aq6qqqqrSTUCrqqqqqvJNQKuqqqqqIk5Aq6qqqqpCTkCrqqqqqmJOQKuqqqqqgk5Aq6qqqqqiTkCrqqqqqsJOQKuqqqqq4k5AAAAAAAAAT0CrqqqqqiJPQKuqqqqqQk9Aq6qqqqpiT0CrqqqqqoJPQKuqqqqqok9Aq6qqqqrCT0CrqqqqquJPQAAAAAAAAFBA\",\"dtype\":\"float64\",\"order\":\"little\",\"shape\":[48]},\"fill_alpha\":{\"__ndarray__\":\"AAAAAABA6D8AAAAAAEDkPwAAAAAAQOg/AAAAAABA5D8AAAAAAEDoPwAAAAAAQOQ/AAAAAABA6D8AAAAAAEDkPwAAAAAAQOg/AAAAAABA5D8AAAAAAEDoPwAAAAAAQOQ/AAAAAABA6D8AAAAAAEDkPwAAAAAAQOg/AAAAAABA5D8AAAAAAEDoPwAAAAAAQOg/AAAAAABA4D8AAAAAAEDoPwAAAAAAQOA/AAAAAABA6D8AAAAAAEDgPwAAAAAAQOg/AAAAAABA4D8AAAAAAEDoPwAAAAAAQOQ/AAAAAABA5D8AAAAAAEDkPwAAAAAAQOQ/AAAAAABA5D8AAAAAAEDkPwAAAAAAQOg/AAAAAABA5D8AAAAAAEDoPwAAAAAAQOQ/AAAAAABA6D8AAAAAAEDkPwAAAAAAQOg/AAAAAABA6D8AAAAAAEDsPwAAAAAAQOg/AAAAAABA7D8AAAAAAEDsPwAAAAAAQOw/AAAAAABA7D8AAAAAAEDsPwAAAAAAQOw/\",\"dtype\":\"float64\",\"order\":\"little\",\"shape\":[48]},\"index\":[813,816,820,823,826,829,832,835,837,840,844,848,852,856,860,864,867,869,872,875,878,881,884,887,890,893,899,902,906,909,912,915,918,921,924,927,930,933,936,939,943,946,949,952,955,958,961,964],\"instrument\":[22,22,22,22,22,22,22,22,22,22,22,22,22,22,22,22,22,22,22,22,22,22,22,22,22,22,22,22,22,22,22,22,22,22,22,22,22,22,22,22,22,22,22,22,22,22,22,22],\"pitch\":[64,64,64,64,64,64,64,64,67,69,67,69,67,69,67,69,67,69,69,69,69,69,69,69,69,69,69,69,69,69,69,69,69,72,69,72,69,72,72,72,67,67,67,67,67,67,67,67],\"program\":[81,81,81,81,81,81,81,81,81,81,81,81,81,81,81,81,81,81,81,81,81,81,81,81,81,81,81,81,81,81,81,81,81,81,81,81,81,81,81,81,81,81,81,81,81,81,81,81],\"start_time\":{\"__ndarray__\":\"q6qqqqoCSkCrqqqqqiJKQKuqqqqqQkpAq6qqqqpiSkCrqqqqqoJKQKuqqqqqokpAq6qqqqrCSkCrqqqqquJKQKuqqqqqAktAq6qqqqoiS0CrqqqqqkJLQKuqqqqqYktAq6qqqqqCS0CrqqqqqqJLQKuqqqqqwktAq6qqqqriS0CrqqqqqvJLQKuqqqqqAkxAq6qqqqoiTECrqqqqqkJMQKuqqqqqYkxAq6qqqqqCTECrqqqqqqJMQKuqqqqqwkxAq6qqqqriTECrqqqqqgJNQKuqqqqqQk1Aq6qqqqpiTUCrqqqqqoJNQKuqqqqqok1Aq6qqqqrCTUCrqqqqquJNQKuqqqqqAk5Aq6qqqqoiTkCrqqqqqkJOQKuqqqqqYk5Aq6qqqqqCTkCrqqqqqqJOQKuqqqqqwk5Aq6qqqqriTkCrqqqqqgJPQKuqqqqqIk9Aq6qqqqpCT0CrqqqqqmJPQKuqqqqqgk9Aq6qqqqqiT0CrqqqqqsJPQKuqqqqq4k9A\",\"dtype\":\"float64\",\"order\":\"little\",\"shape\":[48]},\"top\":{\"__ndarray__\":\"mpmZmZkZUECamZmZmRlQQJqZmZmZGVBAmpmZmZkZUECamZmZmRlQQJqZmZmZGVBAmpmZmZkZUECamZmZmRlQQJqZmZmZ2VBAmpmZmZlZUUCamZmZmdlQQJqZmZmZWVFAmpmZmZnZUECamZmZmVlRQJqZmZmZ2VBAmpmZmZlZUUCamZmZmdlQQJqZmZmZWVFAmpmZmZlZUUCamZmZmVlRQJqZmZmZWVFAmpmZmZlZUUCamZmZmVlRQJqZmZmZWVFAmpmZmZlZUUCamZmZmVlRQJqZmZmZWVFAmpmZmZlZUUCamZmZmVlRQJqZmZmZWVFAmpmZmZlZUUCamZmZmVlRQJqZmZmZWVFAmpmZmZkZUkCamZmZmVlRQJqZmZmZGVJAmpmZmZlZUUCamZmZmRlSQJqZmZmZGVJAmpmZmZkZUkCamZmZmdlQQJqZmZmZ2VBAmpmZmZnZUECamZmZmdlQQJqZmZmZ2VBAmpmZmZnZUECamZmZmdlQQJqZmZmZ2VBA\",\"dtype\":\"float64\",\"order\":\"little\",\"shape\":[48]},\"velocity\":[97,81,97,81,97,81,97,81,97,81,97,81,97,81,97,81,97,97,65,97,65,97,65,97,65,97,81,81,81,81,81,81,97,81,97,81,97,81,97,97,113,97,113,113,113,113,113,113]},\"selected\":{\"id\":\"1409\"},\"selection_policy\":{\"id\":\"1410\"}},\"id\":\"1349\",\"type\":\"ColumnDataSource\"},{\"attributes\":{\"data\":{\"bottom\":{\"__ndarray__\":\"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\",\"dtype\":\"float64\",\"order\":\"little\",\"shape\":[265]},\"duration\":{\"__ndarray__\":\"AAAAAAAAwD8AAAAAAADAPwAAAAAAAMA/AAAAAAAAwD8AAAAAAADAPwAAAAAAAMA/AAAAAAAAwD8AAAAAAADAPwAAAAAAAMA/AAAAAAAAwD8AAAAAAADAPwAAAAAAAMA/AAAAAAAAwD8AAAAAAADAPwAAAAAAAMA/AAAAAAAAwD8AAAAAAADAPwAAAAAAAMA/AAAAAAAAwD8AAAAAAADAPwAAAAAAAMA/AAAAAAAAwD8AAAAAAADAPwAAAAAAAMA/AAAAAAAAwD8AAAAAAADAPwAAAAAAAMA/AAAAAAAAwD8AAAAAAADAPwAAAAAAAMA/AAAAAAAAwD8AAAAAAADAPwAAAAAAAMA/AAAAAAAAwD8AAAAAAADAPwAAAAAAAMA/AAAAAAAAwD8AAAAAAADAPwAAAAAAAMA/AAAAAAAAwD8AAAAAAADAPwAAAAAAAMA/AAAAAAAAwD8AAAAAAADAPwAAAAAAAMA/AAAAAAAAwD8AAAAAAADAPwAAAAAAAMA/AAAAAAAAwD8AAAAAAADAPwAAAAAAAMA/AAAAAAAAwD8AAAAAAADAPwAAAAAAAMA/AAAAAAAAwD8AAAAAAADAPwBVVVVVVbU/AFVVVVVVtT8AAAAAAADAPwAAAAAAAMA/AFVVVVVVtT8AVVVVVVW1PwBVVVVVVbU/AFVVVVVVtT8AAAAAAADAPwAAAAAAAMA/AFVVVVVVtT8AVVVVVVW1PwAAAAAAAMA/AFVVVVVVtT8AVVVVVVW1PwAAAAAAAMA/AAAAAAAAwD8AVVVVVVW1PwBVVVVVVbU/AAAAAAAAwD8AVVVVVVW1PwBVVVVVVbU/AAAAAAAAwD8AAAAAAADAPwBVVVVVVbU/AFVVVVVVtT8AVVVVVVW1PwBVVVVVVbU/AAAAAAAAwD8AVVVVVVW1PwBVVVVVVbU/AAAAAAAAwD8AVVVVVVW1PwBVVVVVVbU/AAAAAAAAwD8AVVVVVVW1PwBVVVVVVbU/AAAAAAAAsD8AVVVVVVW1PwAAAAAAALA/AFVVVVVVtT8AAAAAAACwPwAAAAAAAMA/AFVVVVVVtT8AAAAAAACwPwBVVVVVVbU/AAAAAAAAsD8AVVVVVVW1PwAAAAAAALA/AFVVVVVVtT8AAAAAAACwPwAAAAAAAMA/AFVVVVVVtT8AAAAAAACwPwBVVVVVVbU/AAAAAAAAwD8AAAAAAADAPwAAAAAAAMA/AAAAAAAAwD8AAAAAAADAPwAAAAAAAMA/AAAAAAAAwD8AAAAAAADAPwAAAAAAAMA/AAAAAAAAwD8AVVVVVVW1PwAAAAAAAMA/AFVVVVVVtT8AAAAAAADAPwAAAAAAAMA/AFVVVVVVtT8AAAAAAADAPwBVVVVVVbU/AAAAAAAAwD8AAAAAAADAPwBVVVVVVbU/AAAAAAAAwD8AVVVVVVW1PwAAAAAAAMA/AAAAAAAAwD8AVVVVVVW1PwAAAAAAAMA/AFVVVVVVtT8AAAAAAACwPwAAAAAAAMA/AAAAAAAAsD8AAAAAAADAPwBVVVVVVbU/AAAAAAAAwD8AAAAAAACwPwAAAAAAAMA/AFVVVVVVtT8AAAAAAADAPwAAAAAAALA/AAAAAAAAwD8AVVVVVVW1PwAAAAAAAMA/AAAAAAAAsD8AVlVVVVW1PwBWVVVVVbU/AFZVVVVVtT8AVlVVVVW1PwBWVVVVVbU/AFZVVVVVtT8AVlVVVVW1PwBWVVVVVbU/AAAAAAAAsD8AAAAAAACwPwAAAAAAALA/AAAAAAAAsD8AAAAAAACwPwAAAAAAALA/AAAAAAAAsD8AAAAAAACwPwAAAAAAALA/AAAAAAAAsD8AAAAAAADAPwAAAAAAAMA/AFRVVVVVtT8AVFVVVVW1PwBUVVVVVbU/AFRVVVVVtT8AAAAAAADAPwBUVVVVVbU/AAAAAAAAwD8AVFVVVVW1PwAAAAAAAMA/AFRVVVVVtT8AAAAAAADAPwBUVVVVVbU/AAAAAAAAwD8AVFVVVVW1PwAAAAAAAMA/AFRVVVVVtT8AAAAAAADAPwBUVVVVVbU/AAAAAAAAwD8AVFVVVVW1PwAAAAAAAMA/AAAAAAAAsD8AAAAAAADAPwAAAAAAALA/AAAAAAAAwD8AAAAAAACwPwAAAAAAAMA/AAAAAAAAsD8AAAAAAADAPwAAAAAAALA/AAAAAAAAwD8AAAAAAACwPwAAAAAAAMA/AAAAAAAAsD8AAAAAAADAPwAAAAAAALA/AFRVVVVVtT8AVFVVVVW1PwBUVVVVVbU/AFRVVVVVtT8AVFVVVVW1PwBUVVVVVbU/AFRVVVVVtT8AVFVVVVW1PwAAAAAAAMA/AAAAAAAAwD8AAAAAAADAPwAAAAAAAMA/AAAAAAAAwD8AAAAAAADAPwAAAAAAAMA/AFRVVVVVtT8AVFVVVVW1PwBUVVVVVbU/AFRVVVVVtT8AVFVVVVW1PwBUVVVVVbU/AFRVVVVVtT8AVFVVVVW1PwBUVVVVVbU/AFRVVVVVtT8AVFVVVVW1PwBUVVVVVbU/AFRVVVVVtT8AVFVVVVW1PwBUVVVVVbU/AFRVVVVVtT8AVFVVVVW1PwBUVVVVVbU/AFRVVVVVtT8AVFVVVVW1PwBUVVVVVbU/AFRVVVVVtT8AVFVVVVW1PwBUVVVVVbU/AFRVVVVVtT8AVFVVVVW1PwBUVVVVVbU/AFRVVVVVtT8AVFVVVVW1PwBUVVVVVbU/AFRVVVVVtT8AVFVVVVW1PwBUVVVVVbU/AFRVVVVVtT8AVFVVVVW1PwBUVVVVVbU/AFRVVVVVtT8AVFVVVVW1PwBUVVVVVbU/AFRVVVVVtT8=\",\"dtype\":\"float64\",\"order\":\"little\",\"shape\":[265]},\"end_time\":{\"__ndarray__\":\"AAAAAAAA5D8AAAAAAADkPwAAAAAAAOQ/AAAAAAAA+j8AAAAAAAD6PwAAAAAAAPo/AAAAAAAABUAAAAAAAAAFQAAAAAAAAA1AAAAAAAAADUAAAAAAAIASQAAAAAAAgBJAAAAAAACAEkAAAAAAAIAWQAAAAAAAgBZAAAAAAACAFkAAAAAAAIAaQAAAAAAAgBpAAAAAAACAGkAAAAAAAIAeQAAAAAAAgB5AAAAAAACAHkAAAAAAAEAhQAAAAAAAQCFAAAAAAABAIUAAAAAAAEAjQAAAAAAAQCNAAAAAAABAI0AAAAAAAEAlQAAAAAAAQCVAAAAAAABAJUAAAAAAAEAnQAAAAAAAQCdAAAAAAABAJ0AAAAAAAEApQAAAAAAAQClAAAAAAABAKUAAAAAAAEArQAAAAAAAQCtAAAAAAABAK0AAAAAAAEAtQAAAAAAAQC1AAAAAAABAL0AAAAAAAEAvQAAAAAAAIDBAAAAAAABgMEAAAAAAAKAwQAAAAAAAoDBAAAAAAACgMEAAAAAAAOAwQAAAAAAAIDFAAAAAAABgMUAAAAAAAKAxQAAAAAAAoDFAAAAAAACgMUAAAAAAAOAxQAAAAAAAIDJAAAAAAABgMkAAAAAAAKAyQAAAAAAAoDJAAAAAAACgMkAAAAAAAOAyQAAAAAAAIDNAAAAAAABgM0AAAAAAAKAzQAAAAAAAoDNAAAAAAACgM0AAAAAAAOAzQAAAAAAAIDRAAAAAAAAgNEAAAAAAAGA0QAAAAAAAoDRAAAAAAACgNEAAAAAAAKA0QAAAAAAA4DRAAAAAAAAgNUAAAAAAACA1QAAAAAAAYDVAAAAAAACgNUAAAAAAAKA1QAAAAAAAoDVAAAAAAADgNUAAAAAAACA2QAAAAAAAYDZAAAAAAACgNkAAAAAAAKA2QAAAAAAA4DZAAAAAAAAgN0AAAAAAACA3QAAAAAAAYDdAAAAAAACgN0AAAAAAAKA3QAAAAAAA4DdAAAAAAAAQOEAAAAAAACA4QAAAAAAAUDhAAAAAAABgOEAAAAAAAJA4QAAAAAAAoDhAAAAAAACgOEAAAAAAANA4QAAAAAAA4DhAAAAAAAAQOUAAAAAAACA5QAAAAAAAUDlAAAAAAABgOUAAAAAAAJA5QAAAAAAAoDlAAAAAAACgOUAAAAAAANA5QAAAAAAA4DlAAAAAAABgOkAAAAAAAKA6QAAAAAAAoDpAAAAAAADgOkAAAAAAACA7QAAAAAAAYDtAAAAAAACgO0AAAAAAAKA7QAAAAAAA4DtAAAAAAAAgPEAAAAAAACA8QAAAAAAAYDxAAAAAAABgPEAAAAAAAKA8QAAAAAAAoDxAAAAAAACgPEAAAAAAAOA8QAAAAAAA4DxAAAAAAAAgPUAAAAAAACA9QAAAAAAAID1AAAAAAABgPUAAAAAAAGA9QAAAAAAAoD1AAAAAAACgPUAAAAAAAKA9QAAAAAAA4D1AAAAAAADgPUCrqqqqqho+QAAAAAAAYD5Aq6qqqqpaPkAAAAAAAKA+QAAAAAAAoD5AAAAAAADgPkCrqqqqqto+QAAAAAAAID9AAAAAAAAgP0AAAAAAAGA/QKuqqqqqWj9AAAAAAACgP0AAAAAAAKA/QAAAAAAA4D9Aq6qqqqraP0AAAAAAABBAQAAAAAAAMEBAAAAAAABQQEAAAAAAAHBAQAAAAAAAkEBAAAAAAACwQEAAAAAAANBAQAAAAAAA8EBAVVVVVVUNQUBVVVVVVS1BQAAAAAAASEFAVVVVVVVNQUBVVVVVVW1BQFVVVVVVjUFAVVVVVVWtQUAAAAAAAMhBQFVVVVVVzUFAVVVVVVXtQUAAAAAAAFBCQAAAAAAA0EJAVVVVVVUNQ0BVVVVVVU1DQFVVVVVVjUNAVVVVVVXNQ0AAAAAAABBEQFVVVVVVDURAAAAAAAAwREBVVVVVVS1EQAAAAAAAUERAVVVVVVVNREAAAAAAAHBEQFVVVVVVbURAAAAAAACQREBVVVVVVY1EQAAAAAAAsERAVVVVVVWtREAAAAAAANBEQFVVVVVVzURAAAAAAADwREBVVVVVVe1EQAAAAAAAEEVAq6qqqqoKRUAAAAAAADBFQKuqqqqqKkVAAAAAAABQRUCrqqqqqkpFQAAAAAAAcEVAq6qqqqpqRUAAAAAAAJBFQKuqqqqqikVAAAAAAACwRUCrqqqqqqpFQAAAAAAA0EVAq6qqqqrKRUAAAAAAAPBFQKuqqqqq6kVAVVVVVVUNRkBVVVVVVS1GQFVVVVVVTUZAVVVVVVVtRkBVVVVVVY1GQFVVVVVVrUZAVVVVVVXNRkBVVVVVVe1GQAAAAAAAMEdAAAAAAABQR0AAAAAAAHBHQAAAAAAAkEdAAAAAAACwR0AAAAAAANBHQAAAAAAA8EdAVVVVVVUNS0BVVVVVVS1LQFVVVVVVTUtAVVVVVVVtS0BVVVVVVY1LQFVVVVVVrUtAVVVVVVXNS0BVVVVVVe1LQFVVVVVVDUxAVVVVVVUtTEBVVVVVVU1MQFVVVVVVbUxAVVVVVVWNTEBVVVVVVa1MQFVVVVVVzUxAVVVVVVXtTEBVVVVVVQ1NQFVVVVVVLU1AVVVVVVVNTUBVVVVVVW1NQFVVVVVVjU1AVVVVVVWtTUBVVVVVVc1NQFVVVVVV7U1AVVVVVVUNTkBVVVVVVS1OQFVVVVVVTU5AVVVVVVVtTkBVVVVVVY1OQFVVVVVVrU5AVVVVVVXNTkBVVVVVVe1OQFVVVVVVDU9AVVVVVVUtT0BVVVVVVU1PQFVVVVVVbU9AVVVVVVWNT0BVVVVVVa1PQFVVVVVVzU9AVVVVVVXtT0A=\",\"dtype\":\"float64\",\"order\":\"little\",\"shape\":[265]},\"fill_alpha\":{\"__ndarray__\":\"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\",\"dtype\":\"float64\",\"order\":\"little\",\"shape\":[265]},\"index\":[8,9,10,24,25,26,39,40,57,58,70,71,72,85,86,87,98,99,100,115,116,117,132,133,134,150,151,152,167,168,169,187,188,189,205,206,207,223,224,225,240,241,255,256,264,266,270,271,272,276,281,283,287,288,289,293,298,300,302,303,304,306,309,311,313,314,315,317,320,321,323,327,328,329,331,336,337,339,342,343,344,346,349,351,356,357,359,365,366,368,373,374,376,379,380,382,383,387,388,389,392,393,397,398,401,402,406,407,408,412,413,419,424,425,429,434,438,442,443,447,450,451,453,454,456,457,458,461,462,465,466,467,469,470,473,474,475,477,478,485,488,489,493,495,498,499,503,505,508,509,512,514,517,518,522,524,528,531,536,539,543,546,549,551,554,555,558,562,565,567,569,572,581,594,603,610,618,625,629,632,633,635,637,639,641,643,646,648,650,652,654,656,658,660,662,665,667,668,671,672,675,676,680,681,684,685,688,689,692,693,695,699,704,709,715,720,725,730,734,739,743,749,754,760,765,838,841,845,849,853,857,861,865,870,873,876,879,882,885,888,891,894,896,900,903,907,910,913,916,919,922,925,928,931,934,937,940,944,947,950,953,956,959,962,965],\"instrument\":[9,9,9,9,9,9,9,9,9,9,9,9,9,9,9,9,9,9,9,9,9,9,9,9,9,9,9,9,9,9,9,9,9,9,9,9,9,9,9,9,9,9,9,9,9,9,9,9,9,9,9,9,9,9,9,9,9,9,9,9,9,9,9,9,9,9,9,9,9,9,9,9,9,9,9,9,9,9,9,9,9,9,9,9,9,9,9,9,9,9,9,9,9,9,9,9,9,9,9,9,9,9,9,9,9,9,9,9,9,9,9,9,9,9,9,9,9,9,9,9,9,9,9,9,9,9,9,9,9,9,9,9,9,9,9,9,9,9,9,9,9,9,9,9,9,9,9,9,9,9,9,9,9,9,9,9,9,9,9,9,9,9,9,9,9,9,9,9,9,9,9,9,9,9,9,9,9,9,9,9,9,9,9,9,9,9,9,9,9,9,9,9,9,9,9,9,9,9,9,9,9,9,9,9,9,9,9,9,9,9,9,9,9,9,9,9,9,9,9,9,9,9,9,9,9,9,9,9,9,9,9,9,9,9,9,9,9,9,9,9,9,9,9,9,9,9,9,9,9,9,9,9,9,9,9,9,9,9,9,9,9,9,9,9,9],\"pitch\":[42,40,44,42,40,44,40,44,40,44,42,38,44,42,38,44,40,40,54,40,40,54,40,40,42,40,40,42,54,40,42,54,40,42,42,40,42,42,40,42,40,40,40,40,42,42,42,54,38,42,42,42,42,54,38,42,42,42,40,38,42,42,42,42,40,38,42,42,35,42,42,35,40,42,42,35,42,42,35,40,42,42,42,42,40,42,42,38,42,42,40,42,42,42,42,42,42,42,54,42,42,42,42,42,42,42,42,54,42,42,42,70,42,70,70,70,70,42,70,70,35,42,82,42,35,82,42,82,42,35,82,42,82,42,35,82,42,82,42,42,42,42,42,42,42,42,42,42,42,42,42,42,42,42,42,42,42,42,42,42,42,42,42,42,40,42,42,42,42,40,42,42,40,40,36,36,36,36,36,44,42,44,40,44,42,44,36,44,42,44,40,44,42,44,36,44,36,44,38,44,36,44,36,44,36,44,38,44,36,44,42,42,42,42,42,42,42,42,42,42,42,42,42,42,42,36,36,40,36,36,36,40,36,36,38,36,36,38,36,36,38,36,44,40,44,36,44,40,44,36,44,44,44,44,44,44,44,44,44,44,44,44,44,44,44],\"program\":[0,0,0,0,0,0,0,0,0,0,0,0,0,0,0,0,0,0,0,0,0,0,0,0,0,0,0,0,0,0,0,0,0,0,0,0,0,0,0,0,0,0,0,0,0,0,0,0,0,0,0,0,0,0,0,0,0,0,0,0,0,0,0,0,0,0,0,0,0,0,0,0,0,0,0,0,0,0,0,0,0,0,0,0,0,0,0,0,0,0,0,0,0,0,0,0,0,0,0,0,0,0,0,0,0,0,0,0,0,0,0,0,0,0,0,0,0,0,0,0,0,0,0,0,0,0,0,0,0,0,0,0,0,0,0,0,0,0,0,0,0,0,0,0,0,0,0,0,0,0,0,0,0,0,0,0,0,0,0,0,0,0,0,0,0,0,0,0,0,0,0,0,0,0,0,0,0,0,0,0,0,0,0,0,0,0,0,0,0,0,0,0,0,0,0,0,0,0,0,0,0,0,0,0,0,0,0,0,0,0,0,0,0,0,0,0,0,0,0,0,0,0,0,0,0,0,0,0,0,0,0,0,0,0,0,0,0,0,0,0,0,0,0,0,0,0,0,0,0,0,0,0,0,0,0,0,0,0,0,0,0,0,0,0,0],\"start_time\":{\"__ndarray__\":\"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\",\"dtype\":\"float64\",\"order\":\"little\",\"shape\":[265]},\"top\":{\"__ndarray__\":\"MzMzMzMzRUAzMzMzMzNEQDMzMzMzM0ZAMzMzMzMzRUAzMzMzMzNEQDMzMzMzM0ZAMzMzMzMzREAzMzMzMzNGQDMzMzMzM0RAMzMzMzMzRkAzMzMzMzNFQDMzMzMzM0NAMzMzMzMzRkAzMzMzMzNFQDMzMzMzM0NAMzMzMzMzRkAzMzMzMzNEQDMzMzMzM0RAMzMzMzMzS0AzMzMzMzNEQDMzMzMzM0RAMzMzMzMzS0AzMzMzMzNEQDMzMzMzM0RAMzMzMzMzRUAzMzMzMzNEQDMzMzMzM0RAMzMzMzMzRUAzMzMzMzNLQDMzMzMzM0RAMzMzMzMzRUAzMzMzMzNLQDMzMzMzM0RAMzMzMzMzRUAzMzMzMzNFQDMzMzMzM0RAMzMzMzMzRUAzMzMzMzNFQDMzMzMzM0RAMzMzMzMzRUAzMzMzMzNEQDMzMzMzM0RAMzMzMzMzREAzMzMzMzNEQDMzMzMzM0VAMzMzMzMzRUAzMzMzMzNFQDMzMzMzM0tAMzMzMzMzQ0AzMzMzMzNFQDMzMzMzM0VAMzMzMzMzRUAzMzMzMzNFQDMzMzMzM0tAMzMzMzMzQ0AzMzMzMzNFQDMzMzMzM0VAMzMzMzMzRUAzMzMzMzNEQDMzMzMzM0NAMzMzMzMzRUAzMzMzMzNFQDMzMzMzM0VAMzMzMzMzRUAzMzMzMzNEQDMzMzMzM0NAMzMzMzMzRUAzMzMzMzNFQDMzMzMzs0FAMzMzMzMzRUAzMzMzMzNFQDMzMzMzs0FAMzMzMzMzREAzMzMzMzNFQDMzMzMzM0VAMzMzMzOzQUAzMzMzMzNFQDMzMzMzM0VAMzMzMzOzQUAzMzMzMzNEQDMzMzMzM0VAMzMzMzMzRUAzMzMzMzNFQDMzMzMzM0VAMzMzMzMzREAzMzMzMzNFQDMzMzMzM0VAMzMzMzMzQ0AzMzMzMzNFQDMzMzMzM0VAMzMzMzMzREAzMzMzMzNFQDMzMzMzM0VAMzMzMzMzRUAzMzMzMzNFQDMzMzMzM0VAMzMzMzMzRUAzMzMzMzNFQDMzMzMzM0tAMzMzMzMzRUAzMzMzMzNFQDMzMzMzM0VAMzMzMzMzRUAzMzMzMzNFQDMzMzMzM0VAMzMzMzMzRUAzMzMzMzNFQDMzMzMzM0tAMzMzMzMzRUAzMzMzMzNFQDMzMzMzM0VAmpmZmZmZUUAzMzMzMzNFQJqZmZmZmVFAmpmZmZmZUUCamZmZmZlRQJqZmZmZmVFAMzMzMzMzRUCamZmZmZlRQJqZmZmZmVFAMzMzMzOzQUAzMzMzMzNFQJqZmZmZmVRAMzMzMzMzRUAzMzMzM7NBQJqZmZmZmVRAMzMzMzMzRUCamZmZmZlUQDMzMzMzM0VAMzMzMzOzQUCamZmZmZlUQDMzMzMzM0VAmpmZmZmZVEAzMzMzMzNFQDMzMzMzs0FAmpmZmZmZVEAzMzMzMzNFQJqZmZmZmVRAMzMzMzMzRUAzMzMzMzNFQDMzMzMzM0VAMzMzMzMzRUAzMzMzMzNFQDMzMzMzM0VAMzMzMzMzRUAzMzMzMzNFQDMzMzMzM0VAMzMzMzMzRUAzMzMzMzNFQDMzMzMzM0VAMzMzMzMzRUAzMzMzMzNFQDMzMzMzM0VAMzMzMzMzRUAzMzMzMzNFQDMzMzMzM0VAMzMzMzMzRUAzMzMzMzNFQDMzMzMzM0VAMzMzMzMzRUAzMzMzMzNFQDMzMzMzM0VAMzMzMzMzRUAzMzMzMzNFQDMzMzMzM0RAMzMzMzMzRUAzMzMzMzNFQDMzMzMzM0VAMzMzMzMzRUAzMzMzMzNEQDMzMzMzM0VAMzMzMzMzRUAzMzMzMzNEQDMzMzMzM0RAMzMzMzMzQkAzMzMzMzNCQDMzMzMzM0JAMzMzMzMzQkAzMzMzMzNCQDMzMzMzM0ZAMzMzMzMzRUAzMzMzMzNGQDMzMzMzM0RAMzMzMzMzRkAzMzMzMzNFQDMzMzMzM0ZAMzMzMzMzQkAzMzMzMzNGQDMzMzMzM0VAMzMzMzMzRkAzMzMzMzNEQDMzMzMzM0ZAMzMzMzMzRUAzMzMzMzNGQDMzMzMzM0JAMzMzMzMzRkAzMzMzMzNCQDMzMzMzM0ZAMzMzMzMzQ0AzMzMzMzNGQDMzMzMzM0JAMzMzMzMzRkAzMzMzMzNCQDMzMzMzM0ZAMzMzMzMzQkAzMzMzMzNGQDMzMzMzM0NAMzMzMzMzRkAzMzMzMzNCQDMzMzMzM0ZAMzMzMzMzRUAzMzMzMzNFQDMzMzMzM0VAMzMzMzMzRUAzMzMzMzNFQDMzMzMzM0VAMzMzMzMzRUAzMzMzMzNFQDMzMzMzM0VAMzMzMzMzRUAzMzMzMzNFQDMzMzMzM0VAMzMzMzMzRUAzMzMzMzNFQDMzMzMzM0VAMzMzMzMzQkAzMzMzMzNCQDMzMzMzM0RAMzMzMzMzQkAzMzMzMzNCQDMzMzMzM0JAMzMzMzMzREAzMzMzMzNCQDMzMzMzM0JAMzMzMzMzQ0AzMzMzMzNCQDMzMzMzM0JAMzMzMzMzQ0AzMzMzMzNCQDMzMzMzM0JAMzMzMzMzQ0AzMzMzMzNCQDMzMzMzM0ZAMzMzMzMzREAzMzMzMzNGQDMzMzMzM0JAMzMzMzMzRkAzMzMzMzNEQDMzMzMzM0ZAMzMzMzMzQkAzMzMzMzNGQDMzMzMzM0ZAMzMzMzMzRkAzMzMzMzNGQDMzMzMzM0ZAMzMzMzMzRkAzMzMzMzNGQDMzMzMzM0ZAMzMzMzMzRkAzMzMzMzNGQDMzMzMzM0ZAMzMzMzMzRkAzMzMzMzNGQDMzMzMzM0ZAMzMzMzMzRkA=\",\"dtype\":\"float64\",\"order\":\"little\",\"shape\":[265]},\"velocity\":[81,81,81,81,81,81,81,97,81,97,81,97,81,81,97,81,81,81,97,81,81,97,65,81,81,65,81,81,65,65,81,65,65,81,81,81,81,81,81,81,65,81,65,81,81,65,81,65,65,65,81,65,81,65,65,65,81,65,65,97,81,65,65,81,65,97,65,81,65,81,65,65,97,81,65,65,81,65,65,97,81,65,97,97,65,97,97,65,97,97,65,97,97,65,81,49,65,65,81,97,49,65,65,97,49,65,65,81,97,49,65,65,65,65,65,65,65,65,65,65,81,97,65,65,97,65,97,65,65,81,65,97,65,65,97,65,97,65,65,97,65,65,65,97,65,65,65,97,65,65,65,97,65,65,97,65,97,65,97,65,97,65,97,65,65,97,65,97,65,65,97,65,65,65,97,97,97,97,97,81,81,81,97,81,81,81,97,81,81,81,97,81,81,81,97,65,65,65,97,65,65,65,97,65,65,65,97,65,65,65,65,49,65,49,65,49,65,49,65,65,65,65,65,65,65,113,97,113,113,113,113,113,113,113,97,113,113,113,113,113,113,113,97,113,113,97,113,113,113,113,97,113,113,113,113,113,113,113,97,113,97,97,97,113,97]},\"selected\":{\"id\":\"1383\"},\"selection_policy\":{\"id\":\"1384\"}},\"id\":\"1271\",\"type\":\"ColumnDataSource\"},{\"attributes\":{\"bottom\":{\"field\":\"bottom\"},\"fill_alpha\":{\"field\":\"fill_alpha\"},\"fill_color\":{\"value\":\"#f46d43\"},\"left\":{\"field\":\"start_time\"},\"right\":{\"field\":\"end_time\"},\"top\":{\"field\":\"top\"}},\"id\":\"1321\",\"type\":\"Quad\"},{\"attributes\":{},\"id\":\"1383\",\"type\":\"Selection\"},{\"attributes\":{\"data_source\":{\"id\":\"1319\"},\"glyph\":{\"id\":\"1321\"},\"hover_glyph\":null,\"muted_glyph\":null,\"nonselection_glyph\":{\"id\":\"1322\"},\"selection_glyph\":null,\"view\":{\"id\":\"1324\"}},\"id\":\"1323\",\"type\":\"GlyphRenderer\"},{\"attributes\":{\"data_source\":{\"id\":\"1235\"},\"glyph\":{\"id\":\"1237\"},\"hover_glyph\":null,\"muted_glyph\":null,\"nonselection_glyph\":{\"id\":\"1238\"},\"selection_glyph\":null,\"view\":{\"id\":\"1240\"}},\"id\":\"1239\",\"type\":\"GlyphRenderer\"},{\"attributes\":{},\"id\":\"1384\",\"type\":\"UnionRenderers\"},{\"attributes\":{\"bottom\":{\"field\":\"bottom\"},\"fill_alpha\":{\"field\":\"fill_alpha\"},\"fill_color\":{\"value\":\"#e6f598\"},\"left\":{\"field\":\"start_time\"},\"right\":{\"field\":\"end_time\"},\"top\":{\"field\":\"top\"}},\"id\":\"1261\",\"type\":\"Quad\"},{\"attributes\":{\"source\":{\"id\":\"1319\"}},\"id\":\"1324\",\"type\":\"CDSView\"},{\"attributes\":{\"bottom\":{\"field\":\"bottom\"},\"fill_alpha\":{\"value\":0.1},\"fill_color\":{\"value\":\"#f46d43\"},\"left\":{\"field\":\"start_time\"},\"line_alpha\":{\"value\":0.1},\"right\":{\"field\":\"end_time\"},\"top\":{\"field\":\"top\"}},\"id\":\"1322\",\"type\":\"Quad\"},{\"attributes\":{},\"id\":\"1385\",\"type\":\"Selection\"},{\"attributes\":{},\"id\":\"1376\",\"type\":\"UnionRenderers\"},{\"attributes\":{\"bottom\":{\"field\":\"bottom\"},\"fill_alpha\":{\"value\":0.1},\"fill_color\":{\"value\":\"#abdda4\"},\"left\":{\"field\":\"start_time\"},\"line_alpha\":{\"value\":0.1},\"right\":{\"field\":\"end_time\"},\"top\":{\"field\":\"top\"}},\"id\":\"1340\",\"type\":\"Quad\"},{\"attributes\":{},\"id\":\"1386\",\"type\":\"UnionRenderers\"},{\"attributes\":{\"bottom\":{\"field\":\"bottom\"},\"fill_alpha\":{\"field\":\"fill_alpha\"},\"fill_color\":{\"value\":\"#66c2a5\"},\"left\":{\"field\":\"start_time\"},\"right\":{\"field\":\"end_time\"},\"top\":{\"field\":\"top\"}},\"id\":\"1243\",\"type\":\"Quad\"},{\"attributes\":{\"data\":{\"bottom\":{\"__ndarray__\":\"ZmZmZmYmUUBmZmZmZiZRQGZmZmZmJlFAZmZmZmYmUUBmZmZmZiZRQGZmZmZmJlFAZmZmZmYmUUBmZmZmZiZRQGZmZmZmZlJAZmZmZmbmUUBmZmZmZqZRQA==\",\"dtype\":\"float64\",\"order\":\"little\",\"shape\":[11]},\"duration\":{\"__ndarray__\":\"AFZVVVVVtT8Aqqqqqqq6PwBWVVVVVbU/AFZVVVVVtT8AVlVVVVW1PwBWVVVVVbU/AFZVVVVVtT8AVFVVVVWlPwBUVVVVVaU/AFRVVVVVpT8AVFVVVVWlPw==\",\"dtype\":\"float64\",\"order\":\"little\",\"shape\":[11]},\"end_time\":{\"__ndarray__\":\"q6qqqqoqSEBVVVVVVU1IQKuqqqqqakhAq6qqqqqKSECrqqqqqqpIQKuqqqqqykhAq6qqqqrqSEAAAAAAAABMQAAAAAAAAE1AAAAAAAAATkAAAAAAAABPQA==\",\"dtype\":\"float64\",\"order\":\"little\",\"shape\":[11]},\"fill_alpha\":{\"__ndarray__\":\"AAAAAABA6D8AAAAAAEDsPwAAAAAAQOg/AAAAAABA7D8AAAAAAEDoPwAAAAAAQOw/AAAAAABA6D8AAAAAAEDoPwAAAAAAQOg/AAAAAABA6D8AAAAAAEDoPw==\",\"dtype\":\"float64\",\"order\":\"little\",\"shape\":[11]},\"index\":[770,772,775,779,782,786,789,868,892,917,941],\"instrument\":[21,21,21,21,21,21,21,21,21,21,21],\"pitch\":[69,69,69,69,69,69,69,69,74,72,71],\"program\":[88,88,88,88,88,88,88,88,88,88,88],\"start_time\":{\"__ndarray__\":\"AAAAAAAgSEAAAAAAAEBIQAAAAAAAYEhAAAAAAACASEAAAAAAAKBIQAAAAAAAwEhAAAAAAADgSECrqqqqqvpLQKuqqqqq+kxAq6qqqqr6TUCrqqqqqvpOQA==\",\"dtype\":\"float64\",\"order\":\"little\",\"shape\":[11]},\"top\":{\"__ndarray__\":\"mpmZmZlZUUCamZmZmVlRQJqZmZmZWVFAmpmZmZlZUUCamZmZmVlRQJqZmZmZWVFAmpmZmZlZUUCamZmZmVlRQJqZmZmZmVJAmpmZmZkZUkCamZmZmdlRQA==\",\"dtype\":\"float64\",\"order\":\"little\",\"shape\":[11]},\"velocity\":[97,113,97,113,97,113,97,97,97,97,97]},\"selected\":{\"id\":\"1407\"},\"selection_policy\":{\"id\":\"1408\"}},\"id\":\"1343\",\"type\":\"ColumnDataSource\"},{\"attributes\":{\"bottom\":{\"field\":\"bottom\"},\"fill_alpha\":{\"value\":0.1},\"fill_color\":{\"value\":\"#e6f598\"},\"left\":{\"field\":\"start_time\"},\"line_alpha\":{\"value\":0.1},\"right\":{\"field\":\"end_time\"},\"top\":{\"field\":\"top\"}},\"id\":\"1262\",\"type\":\"Quad\"},{\"attributes\":{\"source\":{\"id\":\"1337\"}},\"id\":\"1342\",\"type\":\"CDSView\"},{\"attributes\":{},\"id\":\"1387\",\"type\":\"Selection\"},{\"attributes\":{\"bottom\":{\"field\":\"bottom\"},\"fill_alpha\":{\"field\":\"fill_alpha\"},\"fill_color\":{\"value\":\"#abdda4\"},\"left\":{\"field\":\"start_time\"},\"right\":{\"field\":\"end_time\"},\"top\":{\"field\":\"top\"}},\"id\":\"1339\",\"type\":\"Quad\"},{\"attributes\":{\"data\":{\"bottom\":{\"__ndarray__\":\"zczMzMzMT0BmZmZmZqZQQGZmZmZmJlBAZmZmZmYmUEDNzMzMzMxPQGZmZmZmplBA\",\"dtype\":\"float64\",\"order\":\"little\",\"shape\":[6]},\"duration\":{\"__ndarray__\":\"AAAAAAAA8D8AAAAAAADwPwAAAAAAAPA/AAAAAAAA8D8AAAAAAADwPwAAAAAAAPA/\",\"dtype\":\"float64\",\"order\":\"little\",\"shape\":[6]},\"end_time\":{\"__ndarray__\":\"AAAAAAAAGEAAAAAAAAAgQAAAAAAAACRAAAAAAAAAKEAAAAAAAAAsQAAAAAAAADBA\",\"dtype\":\"float64\",\"order\":\"little\",\"shape\":[6]},\"fill_alpha\":{\"__ndarray__\":\"AAAAAABA5D8AAAAAAEDkPwAAAAAAQOQ/AAAAAABA5D8AAAAAAEDkPwAAAAAAQOQ/\",\"dtype\":\"float64\",\"order\":\"little\",\"shape\":[6]},\"index\":[78,106,141,178,215,248],\"instrument\":[5,5,5,5,5,5],\"pitch\":[64,67,65,65,64,67],\"program\":[68,68,68,68,68,68],\"start_time\":{\"__ndarray__\":\"AAAAAAAAFEAAAAAAAAAcQAAAAAAAACJAAAAAAAAAJkAAAAAAAAAqQAAAAAAAAC5A\",\"dtype\":\"float64\",\"order\":\"little\",\"shape\":[6]},\"top\":{\"__ndarray__\":\"mpmZmZkZUECamZmZmdlQQJqZmZmZWVBAmpmZmZlZUECamZmZmRlQQJqZmZmZ2VBA\",\"dtype\":\"float64\",\"order\":\"little\",\"shape\":[6]},\"velocity\":[81,81,81,81,81,81]},\"selected\":{\"id\":\"1375\"},\"selection_policy\":{\"id\":\"1376\"}},\"id\":\"1247\",\"type\":\"ColumnDataSource\"},{\"attributes\":{},\"id\":\"1388\",\"type\":\"UnionRenderers\"},{\"attributes\":{\"data\":{\"bottom\":{\"__ndarray__\":\"zczMzMzMTkBmZmZmZiZQQA==\",\"dtype\":\"float64\",\"order\":\"little\",\"shape\":[2]},\"duration\":{\"__ndarray__\":\"AAAAAAAA8D8AAAAAAADwPw==\",\"dtype\":\"float64\",\"order\":\"little\",\"shape\":[2]},\"end_time\":{\"__ndarray__\":\"AAAAAAAAAEAAAAAAAAAQQA==\",\"dtype\":\"float64\",\"order\":\"little\",\"shape\":[2]},\"fill_alpha\":{\"__ndarray__\":\"AAAAAABA5D8AAAAAAEDkPw==\",\"dtype\":\"float64\",\"order\":\"little\",\"shape\":[2]},\"index\":[16,47],\"instrument\":[4,4],\"pitch\":[62,65],\"program\":[56,56],\"start_time\":{\"__ndarray__\":\"AAAAAAAA8D8AAAAAAAAIQA==\",\"dtype\":\"float64\",\"order\":\"little\",\"shape\":[2]},\"top\":{\"__ndarray__\":\"MzMzMzMzT0CamZmZmVlQQA==\",\"dtype\":\"float64\",\"order\":\"little\",\"shape\":[2]},\"velocity\":[81,81]},\"selected\":{\"id\":\"1373\"},\"selection_policy\":{\"id\":\"1374\"}},\"id\":\"1241\",\"type\":\"ColumnDataSource\"},{\"attributes\":{},\"id\":\"1389\",\"type\":\"Selection\"},{\"attributes\":{\"data\":{\"bottom\":{\"__ndarray__\":\"mpmZmZmZOUA=\",\"dtype\":\"float64\",\"order\":\"little\",\"shape\":[1]},\"duration\":{\"__ndarray__\":\"AAAAAAAAsD8=\",\"dtype\":\"float64\",\"order\":\"little\",\"shape\":[1]},\"end_time\":{\"__ndarray__\":\"AAAAAAAAUEA=\",\"dtype\":\"float64\",\"order\":\"little\",\"shape\":[1]},\"fill_alpha\":{\"__ndarray__\":\"AAAAAABA6D8=\",\"dtype\":\"float64\",\"order\":\"little\",\"shape\":[1]},\"index\":[966],\"instrument\":[23],\"pitch\":[26],\"program\":[99],\"start_time\":{\"__ndarray__\":\"AAAAAAD4T0A=\",\"dtype\":\"float64\",\"order\":\"little\",\"shape\":[1]},\"top\":{\"__ndarray__\":\"ZmZmZmZmOkA=\",\"dtype\":\"float64\",\"order\":\"little\",\"shape\":[1]},\"velocity\":[97]},\"selected\":{\"id\":\"1411\"},\"selection_policy\":{\"id\":\"1412\"}},\"id\":\"1355\",\"type\":\"ColumnDataSource\"},{\"attributes\":{},\"id\":\"1390\",\"type\":\"UnionRenderers\"},{\"attributes\":{},\"id\":\"1377\",\"type\":\"Selection\"},{\"attributes\":{\"source\":{\"id\":\"1235\"}},\"id\":\"1240\",\"type\":\"CDSView\"},{\"attributes\":{},\"id\":\"1391\",\"type\":\"Selection\"},{\"attributes\":{\"bottom\":{\"field\":\"bottom\"},\"fill_alpha\":{\"value\":0.1},\"fill_color\":{\"value\":\"#f46d43\"},\"left\":{\"field\":\"start_time\"},\"line_alpha\":{\"value\":0.1},\"right\":{\"field\":\"end_time\"},\"top\":{\"field\":\"top\"}},\"id\":\"1238\",\"type\":\"Quad\"},{\"attributes\":{\"data_source\":{\"id\":\"1241\"},\"glyph\":{\"id\":\"1243\"},\"hover_glyph\":null,\"muted_glyph\":null,\"nonselection_glyph\":{\"id\":\"1244\"},\"selection_glyph\":null,\"view\":{\"id\":\"1246\"}},\"id\":\"1245\",\"type\":\"GlyphRenderer\"},{\"attributes\":{},\"id\":\"1392\",\"type\":\"UnionRenderers\"},{\"attributes\":{\"source\":{\"id\":\"1241\"}},\"id\":\"1246\",\"type\":\"CDSView\"},{\"attributes\":{},\"id\":\"1393\",\"type\":\"Selection\"},{\"attributes\":{\"bottom\":{\"field\":\"bottom\"},\"fill_alpha\":{\"value\":0.1},\"fill_color\":{\"value\":\"#66c2a5\"},\"left\":{\"field\":\"start_time\"},\"line_alpha\":{\"value\":0.1},\"right\":{\"field\":\"end_time\"},\"top\":{\"field\":\"top\"}},\"id\":\"1244\",\"type\":\"Quad\"},{\"attributes\":{\"source\":{\"id\":\"1331\"}},\"id\":\"1336\",\"type\":\"CDSView\"},{\"attributes\":{\"bottom\":{\"field\":\"bottom\"},\"fill_alpha\":{\"field\":\"fill_alpha\"},\"fill_color\":{\"value\":\"#e6f598\"},\"left\":{\"field\":\"start_time\"},\"right\":{\"field\":\"end_time\"},\"top\":{\"field\":\"top\"}},\"id\":\"1345\",\"type\":\"Quad\"},{\"attributes\":{},\"id\":\"1394\",\"type\":\"UnionRenderers\"},{\"attributes\":{\"data_source\":{\"id\":\"1343\"},\"glyph\":{\"id\":\"1345\"},\"hover_glyph\":null,\"muted_glyph\":null,\"nonselection_glyph\":{\"id\":\"1346\"},\"selection_glyph\":null,\"view\":{\"id\":\"1348\"}},\"id\":\"1347\",\"type\":\"GlyphRenderer\"},{\"attributes\":{},\"id\":\"1395\",\"type\":\"Selection\"},{\"attributes\":{\"source\":{\"id\":\"1343\"}},\"id\":\"1348\",\"type\":\"CDSView\"},{\"attributes\":{\"bottom\":{\"field\":\"bottom\"},\"fill_alpha\":{\"value\":0.1},\"fill_color\":{\"value\":\"#e6f598\"},\"left\":{\"field\":\"start_time\"},\"line_alpha\":{\"value\":0.1},\"right\":{\"field\":\"end_time\"},\"top\":{\"field\":\"top\"}},\"id\":\"1346\",\"type\":\"Quad\"},{\"attributes\":{},\"id\":\"1396\",\"type\":\"UnionRenderers\"},{\"attributes\":{},\"id\":\"1375\",\"type\":\"Selection\"},{\"attributes\":{},\"id\":\"1397\",\"type\":\"Selection\"},{\"attributes\":{\"bottom\":{\"field\":\"bottom\"},\"fill_alpha\":{\"field\":\"fill_alpha\"},\"fill_color\":{\"value\":\"#fdae61\"},\"left\":{\"field\":\"start_time\"},\"right\":{\"field\":\"end_time\"},\"top\":{\"field\":\"top\"}},\"id\":\"1249\",\"type\":\"Quad\"},{\"attributes\":{\"data_source\":{\"id\":\"1247\"},\"glyph\":{\"id\":\"1249\"},\"hover_glyph\":null,\"muted_glyph\":null,\"nonselection_glyph\":{\"id\":\"1250\"},\"selection_glyph\":null,\"view\":{\"id\":\"1252\"}},\"id\":\"1251\",\"type\":\"GlyphRenderer\"},{\"attributes\":{},\"id\":\"1364\",\"type\":\"BasicTickFormatter\"},{\"attributes\":{},\"id\":\"1398\",\"type\":\"UnionRenderers\"},{\"attributes\":{\"data_source\":{\"id\":\"1331\"},\"glyph\":{\"id\":\"1333\"},\"hover_glyph\":null,\"muted_glyph\":null,\"nonselection_glyph\":{\"id\":\"1334\"},\"selection_glyph\":null,\"view\":{\"id\":\"1336\"}},\"id\":\"1335\",\"type\":\"GlyphRenderer\"},{\"attributes\":{\"data\":{\"bottom\":{\"__ndarray__\":\"zczMzMxMRkDNzMzMzExGQM3MzMzMTEZAzczMzMxMRkDNzMzMzExGQM3MzMzMTEZAzczMzMxMRkDNzMzMzExGQM3MzMzMTEVAzczMzMxMRUDNzMzMzExFQM3MzMzMTEVAzczMzMxMRUDNzMzMzExFQM3MzMzMTEVAzczMzMxMRUDNzMzMzExEQM3MzMzMTERAzczMzMxMREDNzMzMzExEQM3MzMzMTERAzczMzMxMREDNzMzMzExEQM3MzMzMTERAzczMzMxMREDNzMzMzExEQM3MzMzMTERAzczMzMxMREDNzMzMzExEQM3MzMzMTERAzczMzMxMREDNzMzMzExEQM3MzMzMTEZAzczMzMxMRkDNzMzMzExGQM3MzMzMTEZAzczMzMxMRkDNzMzMzExGQM3MzMzMTEZAzczMzMxMRkDNzMzMzExFQM3MzMzMTEVAzczMzMxMRUDNzMzMzExFQM3MzMzMTEVAzczMzMxMRUDNzMzMzExFQM3MzMzMTEVAzczMzMzMQkDNzMzMzMxCQM3MzMzMzEJAzczMzMzMQkDNzMzMzMxCQM3MzMzMzEJAzczMzMzMQkDNzMzMzMxCQA==\",\"dtype\":\"float64\",\"order\":\"little\",\"shape\":[56]},\"duration\":{\"__ndarray__\":\"wKqqqqqqwj8AAAAAAADAP8CqqqqqqsI/wKqqqqqqwj/AqqqqqqrCPwAAAAAAAMA/wKqqqqqqwj8AAAAAAADAPwAAAAAAAMA/AAAAAAAAwD8AAAAAAADAPwAAAAAAAMA/AAAAAAAAwD8AAAAAAADAPwAAAAAAAMA/AAAAAAAAwD+AqqqqqqrCPwAAAAAAAMA/gKqqqqqqwj8AAAAAAADAP4CqqqqqqsI/AAAAAAAAwD+AqqqqqqrCPwAAAAAAAMA/gKqqqqqqwj8AAAAAAADAP4CqqqqqqsI/AAAAAAAAwD+AqqqqqqrCPwAAAAAAAMA/AAAAAAAAwD8AAAAAAADAP4CqqqqqqsI/AAAAAAAAwD+AqqqqqqrCPwAAAAAAAMA/gKqqqqqqwj8AAAAAAADAP4CqqqqqqsI/AAAAAAAAwD+AqqqqqqrCPwCrqqqqqro/AAAAAAAAwD8Aq6qqqqq6PwAAAAAAAMA/AKuqqqqquj8AAAAAAADAPwCrqqqqqro/gKqqqqqqwj8AAAAAAADAPwAAAAAAAMA/AAAAAAAAwD8AAAAAAADAPwAAAAAAAMA/AAAAAAAAwD8AAAAAAADAPw==\",\"dtype\":\"float64\",\"order\":\"little\",\"shape\":[56]},\"end_time\":{\"__ndarray__\":\"q6qqqqpKKEAAAAAAAMAoQKuqqqqqSilAq6qqqqrKKUCrqqqqqkoqQAAAAAAAwCpAq6qqqqpKK0AAAAAAAMArQAAAAAAAQCxAAAAAAADALEAAAAAAAEAtQAAAAAAAwC1AAAAAAABALkAAAAAAAMAuQAAAAAAAQC9AAAAAAADAL0BVVVVVVSUwQAAAAAAAYDBAVVVVVVWlMEAAAAAAAOAwQFVVVVVVJTFAAAAAAABgMUBVVVVVVaUxQAAAAAAA4DFAVVVVVVUlMkAAAAAAAGAyQFVVVVVVpTJAAAAAAADgMkBVVVVVVSUzQAAAAAAAYDNAAAAAAACgM0AAAAAAAOAzQFVVVVVVJTRAAAAAAABgNEBVVVVVVaU0QAAAAAAA4DRAVVVVVVUlNUAAAAAAAGA1QFVVVVVVpTVAAAAAAADgNUBVVVVVVSU2QKuqqqqqWjZAAAAAAACgNkCrqqqqqto2QAAAAAAAIDdAq6qqqqpaN0AAAAAAAKA3QKuqqqqq2jdAVVVVVVUlOEAAAAAAAGA4QAAAAAAAoDhAAAAAAADgOEAAAAAAACA5QAAAAAAAYDlAAAAAAACgOUAAAAAAAOA5QA==\",\"dtype\":\"float64\",\"order\":\"little\",\"shape\":[56]},\"fill_alpha\":{\"__ndarray__\":\"AAAAAABA6D8AAAAAAEDkPwAAAAAAQOg/AAAAAABA5D8AAAAAAEDoPwAAAAAAQOQ/AAAAAABA6D8AAAAAAEDkPwAAAAAAQOg/AAAAAABA5D8AAAAAAEDoPwAAAAAAQOA/AAAAAABA6D8AAAAAAEDgPwAAAAAAQOg/AAAAAABA4D8AAAAAAEDoPwAAAAAAQOQ/AAAAAABA6D8AAAAAAEDkPwAAAAAAQOg/AAAAAABA5D8AAAAAAEDoPwAAAAAAQOQ/AAAAAABA6D8AAAAAAEDkPwAAAAAAQOg/AAAAAABA5D8AAAAAAEDoPwAAAAAAQOQ/AAAAAABA6D8AAAAAAEDkPwAAAAAAQOg/AAAAAABA5D8AAAAAAEDoPwAAAAAAQOQ/AAAAAABA6D8AAAAAAEDkPwAAAAAAQOg/AAAAAABA5D8AAAAAAEDoPwAAAAAAQOQ/AAAAAABA6D8AAAAAAEDkPwAAAAAAQOg/AAAAAABA5D8AAAAAAEDoPwAAAAAAQOA/AAAAAABA6D8AAAAAAEDkPwAAAAAAQOg/AAAAAABA5D8AAAAAAEDoPwAAAAAAQOQ/AAAAAABA6D8AAAAAAEDkPw==\",\"dtype\":\"float64\",\"order\":\"little\",\"shape\":[56]},\"index\":[195,200,202,210,212,218,220,228,230,234,236,243,245,250,252,258,261,265,267,273,277,282,284,290,294,299,301,305,307,310,312,316,318,322,325,330,333,338,340,345,347,350,352,358,361,367,369,375,377,381,385,390,396,399,404,410],\"instrument\":[10,10,10,10,10,10,10,10,10,10,10,10,10,10,10,10,10,10,10,10,10,10,10,10,10,10,10,10,10,10,10,10,10,10,10,10,10,10,10,10,10,10,10,10,10,10,10,10,10,10,10,10,10,10,10,10],\"pitch\":[45,45,45,45,45,45,45,45,43,43,43,43,43,43,43,43,41,41,41,41,41,41,41,41,41,41,41,41,41,41,41,41,45,45,45,45,45,45,45,45,43,43,43,43,43,43,43,43,38,38,38,38,38,38,38,38],\"program\":[35,35,35,35,35,35,35,35,35,35,35,35,35,35,35,35,35,35,35,35,35,35,35,35,35,35,35,35,35,35,35,35,35,35,35,35,35,35,35,35,35,35,35,35,35,35,35,35,35,35,35,35,35,35,35,35],\"start_time\":{\"__ndarray__\":\"AAAAAAAAKEAAAAAAAIAoQAAAAAAAAClAAAAAAACAKUAAAAAAAAAqQAAAAAAAgCpAAAAAAAAAK0AAAAAAAIArQAAAAAAAACxAAAAAAACALEAAAAAAAAAtQAAAAAAAgC1AAAAAAAAALkAAAAAAAIAuQAAAAAAAAC9AAAAAAACAL0AAAAAAAAAwQAAAAAAAQDBAAAAAAACAMEAAAAAAAMAwQAAAAAAAADFAAAAAAABAMUAAAAAAAIAxQAAAAAAAwDFAAAAAAAAAMkAAAAAAAEAyQAAAAAAAgDJAAAAAAADAMkAAAAAAAAAzQAAAAAAAQDNAAAAAAACAM0AAAAAAAMAzQAAAAAAAADRAAAAAAABANEAAAAAAAIA0QAAAAAAAwDRAAAAAAAAANUAAAAAAAEA1QAAAAAAAgDVAAAAAAADANUAAAAAAAAA2QAAAAAAAQDZAAAAAAACANkAAAAAAAMA2QAAAAAAAADdAAAAAAABAN0AAAAAAAIA3QAAAAAAAwDdAAAAAAAAAOEAAAAAAAEA4QAAAAAAAgDhAAAAAAADAOEAAAAAAAAA5QAAAAAAAQDlAAAAAAACAOUAAAAAAAMA5QA==\",\"dtype\":\"float64\",\"order\":\"little\",\"shape\":[56]},\"top\":{\"__ndarray__\":\"MzMzMzOzRkAzMzMzM7NGQDMzMzMzs0ZAMzMzMzOzRkAzMzMzM7NGQDMzMzMzs0ZAMzMzMzOzRkAzMzMzM7NGQDMzMzMzs0VAMzMzMzOzRUAzMzMzM7NFQDMzMzMzs0VAMzMzMzOzRUAzMzMzM7NFQDMzMzMzs0VAMzMzMzOzRUAzMzMzM7NEQDMzMzMzs0RAMzMzMzOzREAzMzMzM7NEQDMzMzMzs0RAMzMzMzOzREAzMzMzM7NEQDMzMzMzs0RAMzMzMzOzREAzMzMzM7NEQDMzMzMzs0RAMzMzMzOzREAzMzMzM7NEQDMzMzMzs0RAMzMzMzOzREAzMzMzM7NEQDMzMzMzs0ZAMzMzMzOzRkAzMzMzM7NGQDMzMzMzs0ZAMzMzMzOzRkAzMzMzM7NGQDMzMzMzs0ZAMzMzMzOzRkAzMzMzM7NFQDMzMzMzs0VAMzMzMzOzRUAzMzMzM7NFQDMzMzMzs0VAMzMzMzOzRUAzMzMzM7NFQDMzMzMzs0VAMzMzMzMzQ0AzMzMzMzNDQDMzMzMzM0NAMzMzMzMzQ0AzMzMzMzNDQDMzMzMzM0NAMzMzMzMzQ0AzMzMzMzNDQA==\",\"dtype\":\"float64\",\"order\":\"little\",\"shape\":[56]},\"velocity\":[97,81,97,81,97,81,97,81,97,81,97,65,97,65,97,65,97,81,97,81,97,81,97,81,97,81,97,81,97,81,97,81,97,81,97,81,97,81,97,81,97,81,97,81,97,81,97,65,97,81,97,81,97,81,97,81]},\"selected\":{\"id\":\"1385\"},\"selection_policy\":{\"id\":\"1386\"}},\"id\":\"1277\",\"type\":\"ColumnDataSource\"},{\"attributes\":{},\"id\":\"1399\",\"type\":\"Selection\"},{\"attributes\":{\"bottom\":{\"field\":\"bottom\"},\"fill_alpha\":{\"field\":\"fill_alpha\"},\"fill_color\":{\"value\":\"#d53e4f\"},\"left\":{\"field\":\"start_time\"},\"right\":{\"field\":\"end_time\"},\"top\":{\"field\":\"top\"}},\"id\":\"1351\",\"type\":\"Quad\"},{\"attributes\":{},\"id\":\"1400\",\"type\":\"UnionRenderers\"},{\"attributes\":{\"data_source\":{\"id\":\"1349\"},\"glyph\":{\"id\":\"1351\"},\"hover_glyph\":null,\"muted_glyph\":null,\"nonselection_glyph\":{\"id\":\"1352\"},\"selection_glyph\":null,\"view\":{\"id\":\"1354\"}},\"id\":\"1353\",\"type\":\"GlyphRenderer\"},{\"attributes\":{},\"id\":\"1401\",\"type\":\"Selection\"},{\"attributes\":{\"source\":{\"id\":\"1349\"}},\"id\":\"1354\",\"type\":\"CDSView\"},{\"attributes\":{\"bottom\":{\"field\":\"bottom\"},\"fill_alpha\":{\"field\":\"fill_alpha\"},\"fill_color\":{\"value\":\"#d53e4f\"},\"left\":{\"field\":\"start_time\"},\"right\":{\"field\":\"end_time\"},\"top\":{\"field\":\"top\"}},\"id\":\"1267\",\"type\":\"Quad\"},{\"attributes\":{\"bottom\":{\"field\":\"bottom\"},\"fill_alpha\":{\"value\":0.1},\"fill_color\":{\"value\":\"#d53e4f\"},\"left\":{\"field\":\"start_time\"},\"line_alpha\":{\"value\":0.1},\"right\":{\"field\":\"end_time\"},\"top\":{\"field\":\"top\"}},\"id\":\"1352\",\"type\":\"Quad\"},{\"attributes\":{},\"id\":\"1402\",\"type\":\"UnionRenderers\"},{\"attributes\":{\"data_source\":{\"id\":\"1265\"},\"glyph\":{\"id\":\"1267\"},\"hover_glyph\":null,\"muted_glyph\":null,\"nonselection_glyph\":{\"id\":\"1268\"},\"selection_glyph\":null,\"view\":{\"id\":\"1270\"}},\"id\":\"1269\",\"type\":\"GlyphRenderer\"},{\"attributes\":{},\"id\":\"1403\",\"type\":\"Selection\"},{\"attributes\":{\"source\":{\"id\":\"1265\"}},\"id\":\"1270\",\"type\":\"CDSView\"},{\"attributes\":{},\"id\":\"1365\",\"type\":\"BasicTickFormatter\"},{\"attributes\":{\"bottom\":{\"field\":\"bottom\"},\"fill_alpha\":{\"value\":0.1},\"fill_color\":{\"value\":\"#d53e4f\"},\"left\":{\"field\":\"start_time\"},\"line_alpha\":{\"value\":0.1},\"right\":{\"field\":\"end_time\"},\"top\":{\"field\":\"top\"}},\"id\":\"1268\",\"type\":\"Quad\"},{\"attributes\":{},\"id\":\"1404\",\"type\":\"UnionRenderers\"},{\"attributes\":{},\"id\":\"1405\",\"type\":\"Selection\"},{\"attributes\":{\"bottom\":{\"field\":\"bottom\"},\"fill_alpha\":{\"field\":\"fill_alpha\"},\"fill_color\":{\"value\":\"#3288bd\"},\"left\":{\"field\":\"start_time\"},\"right\":{\"field\":\"end_time\"},\"top\":{\"field\":\"top\"}},\"id\":\"1357\",\"type\":\"Quad\"},{\"attributes\":{},\"id\":\"1406\",\"type\":\"UnionRenderers\"},{\"attributes\":{\"bottom\":{\"field\":\"bottom\"},\"fill_alpha\":{\"field\":\"fill_alpha\"},\"fill_color\":{\"value\":\"#f46d43\"},\"left\":{\"field\":\"start_time\"},\"right\":{\"field\":\"end_time\"},\"top\":{\"field\":\"top\"}},\"id\":\"1279\",\"type\":\"Quad\"},{\"attributes\":{\"data_source\":{\"id\":\"1355\"},\"glyph\":{\"id\":\"1357\"},\"hover_glyph\":null,\"muted_glyph\":null,\"nonselection_glyph\":{\"id\":\"1358\"},\"selection_glyph\":null,\"view\":{\"id\":\"1360\"}},\"id\":\"1359\",\"type\":\"GlyphRenderer\"},{\"attributes\":{\"bottom\":{\"field\":\"bottom\"},\"fill_alpha\":{\"field\":\"fill_alpha\"},\"fill_color\":{\"value\":\"#3288bd\"},\"left\":{\"field\":\"start_time\"},\"right\":{\"field\":\"end_time\"},\"top\":{\"field\":\"top\"}},\"id\":\"1273\",\"type\":\"Quad\"},{\"attributes\":{},\"id\":\"1407\",\"type\":\"Selection\"},{\"attributes\":{\"data_source\":{\"id\":\"1271\"},\"glyph\":{\"id\":\"1273\"},\"hover_glyph\":null,\"muted_glyph\":null,\"nonselection_glyph\":{\"id\":\"1274\"},\"selection_glyph\":null,\"view\":{\"id\":\"1276\"}},\"id\":\"1275\",\"type\":\"GlyphRenderer\"},{\"attributes\":{\"source\":{\"id\":\"1355\"}},\"id\":\"1360\",\"type\":\"CDSView\"},{\"attributes\":{\"bottom\":{\"field\":\"bottom\"},\"fill_alpha\":{\"value\":0.1},\"fill_color\":{\"value\":\"#3288bd\"},\"left\":{\"field\":\"start_time\"},\"line_alpha\":{\"value\":0.1},\"right\":{\"field\":\"end_time\"},\"top\":{\"field\":\"top\"}},\"id\":\"1358\",\"type\":\"Quad\"},{\"attributes\":{},\"id\":\"1408\",\"type\":\"UnionRenderers\"},{\"attributes\":{\"source\":{\"id\":\"1271\"}},\"id\":\"1276\",\"type\":\"CDSView\"},{\"attributes\":{\"bottom\":{\"field\":\"bottom\"},\"fill_alpha\":{\"field\":\"fill_alpha\"},\"fill_color\":{\"value\":\"#abdda4\"},\"left\":{\"field\":\"start_time\"},\"right\":{\"field\":\"end_time\"},\"top\":{\"field\":\"top\"}},\"id\":\"1255\",\"type\":\"Quad\"},{\"attributes\":{\"bottom\":{\"field\":\"bottom\"},\"fill_alpha\":{\"value\":0.1},\"fill_color\":{\"value\":\"#3288bd\"},\"left\":{\"field\":\"start_time\"},\"line_alpha\":{\"value\":0.1},\"right\":{\"field\":\"end_time\"},\"top\":{\"field\":\"top\"}},\"id\":\"1274\",\"type\":\"Quad\"},{\"attributes\":{},\"id\":\"1367\",\"type\":\"Selection\"},{\"attributes\":{},\"id\":\"1409\",\"type\":\"Selection\"},{\"attributes\":{\"data_source\":{\"id\":\"1277\"},\"glyph\":{\"id\":\"1279\"},\"hover_glyph\":null,\"muted_glyph\":null,\"nonselection_glyph\":{\"id\":\"1280\"},\"selection_glyph\":null,\"view\":{\"id\":\"1282\"}},\"id\":\"1281\",\"type\":\"GlyphRenderer\"},{\"attributes\":{},\"id\":\"1368\",\"type\":\"UnionRenderers\"},{\"attributes\":{},\"id\":\"1410\",\"type\":\"UnionRenderers\"},{\"attributes\":{\"bottom\":{\"field\":\"bottom\"},\"fill_alpha\":{\"value\":0.1},\"fill_color\":{\"value\":\"#f46d43\"},\"left\":{\"field\":\"start_time\"},\"line_alpha\":{\"value\":0.1},\"right\":{\"field\":\"end_time\"},\"top\":{\"field\":\"top\"}},\"id\":\"1280\",\"type\":\"Quad\"},{\"attributes\":{},\"id\":\"1369\",\"type\":\"Selection\"},{\"attributes\":{},\"id\":\"1411\",\"type\":\"Selection\"},{\"attributes\":{},\"id\":\"1198\",\"type\":\"LinearScale\"},{\"attributes\":{\"source\":{\"id\":\"1325\"}},\"id\":\"1330\",\"type\":\"CDSView\"},{\"attributes\":{\"data\":{\"bottom\":{\"__ndarray__\":\"zczMzMzMTUDNzMzMzMxNQM3MzMzMzE1AzczMzMzMTUDNzMzMzMxNQM3MzMzMzE1AzczMzMzMTUDNzMzMzMxNQM3MzMzMTExAzczMzMxMTEDNzMzMzExMQM3MzMzMTExAzczMzMxMTEDNzMzMzExMQM3MzMzMTExAzczMzMxMTEDNzMzMzExMQM3MzMzMTExAzczMzMxMTEDNzMzMzMxOQM3MzMzMzE5AzczMzMzMTkDNzMzMzMxOQM3MzMzMzE5AzczMzMzMTkDNzMzMzMxOQM3MzMzMzE5AzczMzMzMQkDNzMzMzMxCQM3MzMzMzEJAzczMzMzMQkDNzMzMzMxCQM3MzMzMzEJAzczMzMzMQkDNzMzMzMxCQGZmZmZmJlBAZmZmZmYmUEBmZmZmZiZQQGZmZmZmJlBAZmZmZmYmUEBmZmZmZiZQQGZmZmZmJlBAZmZmZmYmUEDNzMzMzMxPQM3MzMzMzE9AzczMzMzMT0DNzMzMzMxPQM3MzMzMzE9AzczMzMzMT0DNzMzMzMxPQM3MzMzMzE9AZmZmZmamUEBmZmZmZqZQQGZmZmZmplBAZmZmZmamUEBmZmZmZqZQQGZmZmZmplBAZmZmZmamUEBmZmZmZqZQQM3MzMzMzE5AzczMzMzMTkDNzMzMzMxOQM3MzMzMzE5AzczMzMzMTkDNzMzMzMxOQM3MzMzMzE5AzczMzMzMTkBmZmZmZiZQQGZmZmZmJlBAZmZmZmYmUEBmZmZmZiZQQGZmZmZmJlBAZmZmZmYmUEBmZmZmZiZQQGZmZmZmJlBAzczMzMzMT0DNzMzMzMxPQM3MzMzMzE9AzczMzMzMT0DNzMzMzMxPQM3MzMzMzE9AzczMzMzMT0DNzMzMzMxPQM3MzMzMzE9AzczMzMzMT0DNzMzMzMxPQM3MzMzMzE9AzczMzMzMT0A=\",\"dtype\":\"float64\",\"order\":\"little\",\"shape\":[88]},\"duration\":{\"__ndarray__\":\"gKqqqqqqwj8AAAAAAADAPwAAAAAAAMA/AKuqqqqquj8AAAAAAADAPwAAAAAAAMA/AAAAAAAAwD8AAAAAAADAPwAAAAAAAMA/AKuqqqqquj8Aq6qqqqq6PwCrqqqqqro/AKuqqqqquj8Aq6qqqqq6PwAAAAAAAMA/AKuqqqqquj8Aq6qqqqq6PwCrqqqqqro/AKuqqqqquj+AqqqqqqrCPwAAAAAAAMA/AAAAAAAAwD8AAAAAAADAPwAAAAAAAMA/AAAAAAAAwD8AAAAAAADAPwAAAAAAAMA/AKuqqqqqwj8AAAAAAADAPwAAAAAAAMA/AAAAAAAAwD8AAAAAAADAPwAAAAAAAMA/AAAAAAAAwD8AAAAAAADAPwCrqqqqqsI/AAAAAAAAwD8AAAAAAADAPwAAAAAAAMA/AKqqqqqquj8AAAAAAADAPwAAAAAAAMA/AAAAAAAAwD8Aq6qqqqrCPwAAAAAAAMA/AAAAAAAAwD8AAAAAAADAPwAAAAAAAMA/AAAAAAAAwD8AAAAAAADAPwAAAAAAAMA/AAAAAAAAwD8AAAAAAADAPwCqqqqqqro/AKqqqqqquj8Aqqqqqqq6PwCqqqqqqro/AKqqqqqquj8Aqqqqqqq6PwAAAAAAAMA/AKqqqqqquj8AAAAAAADAPwAAAAAAAMA/AAAAAAAAwD8AAAAAAADAPwAAAAAAAMA/AAAAAAAAwD8AAAAAAADAPwAAAAAAAMA/AAAAAAAAwD8AAAAAAADAPwAAAAAAAMA/AAAAAAAAwD8AAAAAAADAPwAAAAAAAMA/AAAAAAAAsD8AAAAAAACwPwAAAAAAALA/AAAAAAAAsD8AAAAAAACwPwAAAAAAALA/AAAAAAAAsD8AAAAAAACwPwAAAAAAALA/AAAAAAAAsD8AAAAAAACwPwAAAAAAALA/AAAAAAAA0D8=\",\"dtype\":\"float64\",\"order\":\"little\",\"shape\":[88]},\"end_time\":{\"__ndarray__\":\"VVVVVVUlOkAAAAAAAGA6QAAAAAAAoDpAq6qqqqraOkAAAAAAACA7QAAAAAAAYDtAAAAAAACgO0AAAAAAAOA7QAAAAAAAIDxAq6qqqqpaPECrqqqqqno8QKuqqqqqujxAq6qqqqraPECrqqqqqho9QAAAAAAAQD1Aq6qqqqp6PUCrqqqqqpo9QKuqqqqq2j1Aq6qqqqr6PUBVVVVVVSU+QAAAAAAAYD5AAAAAAACgPkAAAAAAAOA+QAAAAAAAID9AAAAAAABgP0AAAAAAAKA/QAAAAAAA4D9Aq6qqqqoSQEAAAAAAADBAQAAAAAAAUEBAAAAAAABwQEAAAAAAAJBAQAAAAAAAsEBAAAAAAADQQEAAAAAAAPBAQKuqqqqqEkFAAAAAAAAwQUAAAAAAAFBBQAAAAAAAcEFAVVVVVVWNQUAAAAAAALBBQAAAAAAA0EFAAAAAAADwQUCrqqqqqhJCQAAAAAAAMEJAAAAAAABQQkAAAAAAAHBCQAAAAAAAkEJAAAAAAACwQkAAAAAAANBCQAAAAAAA8EJAAAAAAAAQQ0AAAAAAADBDQFVVVVVVTUNAVVVVVVVtQ0BVVVVVVY1DQFVVVVVVrUNAVVVVVVXNQ0BVVVVVVe1DQKuqqqqqEkRAAAAAAAAwRECrqqqqqlJEQKuqqqqqckRAq6qqqqqSRECrqqqqqrJEQKuqqqqq0kRAq6qqqqryRECrqqqqqhJFQAAAAAAAMEVAAAAAAABQRUAAAAAAAHBFQAAAAAAAkEVAAAAAAACwRUAAAAAAANBFQAAAAAAA8EVAAAAAAAAoRkAAAAAAADhGQAAAAAAASEZAAAAAAABYRkAAAAAAAGhGQAAAAAAAeEZAAAAAAACIRkAAAAAAAJhGQAAAAAAAqEZAAAAAAAC4RkAAAAAAAMhGQAAAAAAA2EZAAAAAAAAAR0A=\",\"dtype\":\"float64\",\"order\":\"little\",\"shape\":[88]},\"fill_alpha\":{\"__ndarray__\":\"AAAAAABA6D8AAAAAAEDkPwAAAAAAQOg/AAAAAABA5D8AAAAAAEDoPwAAAAAAQOQ/AAAAAABA6D8AAAAAAEDkPwAAAAAAQOg/AAAAAABA4D8AAAAAAEDoPwAAAAAAQOA/AAAAAABA6D8AAAAAAEDgPwAAAAAAQOg/AAAAAABA4D8AAAAAAEDoPwAAAAAAQOA/AAAAAABA6D8AAAAAAEDoPwAAAAAAQOA/AAAAAABA6D8AAAAAAEDgPwAAAAAAQOg/AAAAAABA4D8AAAAAAEDoPwAAAAAAQOA/AAAAAABA6D8AAAAAAEDkPwAAAAAAQOg/AAAAAABA5D8AAAAAAEDoPwAAAAAAQOQ/AAAAAABA6D8AAAAAAEDkPwAAAAAAQOg/AAAAAABA5D8AAAAAAEDoPwAAAAAAQOQ/AAAAAABA6D8AAAAAAEDkPwAAAAAAQOg/AAAAAABA6D8AAAAAAEDoPwAAAAAAQOQ/AAAAAABA6D8AAAAAAEDkPwAAAAAAQOg/AAAAAABA5D8AAAAAAEDoPwAAAAAAQOQ/AAAAAABA6D8AAAAAAEDkPwAAAAAAQOg/AAAAAABA5D8AAAAAAEDoPwAAAAAAQOQ/AAAAAABA5D8AAAAAAEDkPwAAAAAAQOg/AAAAAABA7D8AAAAAAEDoPwAAAAAAQOw/AAAAAABA6D8AAAAAAEDoPwAAAAAAQOw/AAAAAABA6D8AAAAAAEDoPwAAAAAAQOw/AAAAAABA6D8AAAAAAEDsPwAAAAAAQOg/AAAAAABA7D8AAAAAAEDoPwAAAAAAQOw/AAAAAABA6D8AAAAAAEDsPwAAAAAAQOg/AAAAAABA7D8AAAAAAEDoPwAAAAAAQOw/AAAAAABA6D8AAAAAAEDsPwAAAAAAQOg/AAAAAABA7D8AAAAAAEDoPwAAAAAAQOw/AAAAAABA7D8=\",\"dtype\":\"float64\",\"order\":\"little\",\"shape\":[88]},\"index\":[415,418,422,427,432,436,440,445,449,452,455,459,460,464,468,471,472,476,479,483,487,491,496,501,506,510,515,519,523,525,529,533,537,540,544,547,550,553,556,560,563,566,570,573,576,579,582,587,589,592,596,600,604,607,611,615,619,622,626,630,634,638,642,647,651,655,659,663,666,669,673,678,682,686,690,697,700,701,705,706,710,712,716,717,721,722,726,727],\"instrument\":[13,13,13,13,13,13,13,13,13,13,13,13,13,13,13,13,13,13,13,13,13,13,13,13,13,13,13,13,13,13,13,13,13,13,13,13,13,13,13,13,13,13,13,13,13,13,13,13,13,13,13,13,13,13,13,13,13,13,13,13,13,13,13,13,13,13,13,13,13,13,13,13,13,13,13,13,13,13,13,13,13,13,13,13,13,13,13,13],\"pitch\":[60,60,60,60,60,60,60,60,57,57,57,57,57,57,57,57,57,57,57,62,62,62,62,62,62,62,62,38,38,38,38,38,38,38,38,65,65,65,65,65,65,65,65,64,64,64,64,64,64,64,64,67,67,67,67,67,67,67,67,62,62,62,62,62,62,62,62,65,65,65,65,65,65,65,65,64,64,64,64,64,64,64,64,64,64,64,64,64],\"program\":[53,53,53,53,53,53,53,53,53,53,53,53,53,53,53,53,53,53,53,53,53,53,53,53,53,53,53,53,53,53,53,53,53,53,53,53,53,53,53,53,53,53,53,53,53,53,53,53,53,53,53,53,53,53,53,53,53,53,53,53,53,53,53,53,53,53,53,53,53,53,53,53,53,53,53,53,53,53,53,53,53,53,53,53,53,53,53,53],\"start_time\":{\"__ndarray__\":\"AAAAAAAAOkAAAAAAAEA6QAAAAAAAgDpAAAAAAADAOkAAAAAAAAA7QAAAAAAAQDtAAAAAAACAO0AAAAAAAMA7QAAAAAAAADxAAAAAAABAPEAAAAAAAGA8QAAAAAAAoDxAAAAAAADAPEAAAAAAAAA9QAAAAAAAID1AAAAAAABgPUAAAAAAAIA9QAAAAAAAwD1AAAAAAADgPUAAAAAAAAA+QAAAAAAAQD5AAAAAAACAPkAAAAAAAMA+QAAAAAAAAD9AAAAAAABAP0AAAAAAAIA/QAAAAAAAwD9AAAAAAAAAQEAAAAAAACBAQAAAAAAAQEBAAAAAAABgQEAAAAAAAIBAQAAAAAAAoEBAAAAAAADAQEAAAAAAAOBAQAAAAAAAAEFAAAAAAAAgQUAAAAAAAEBBQAAAAAAAYEFAAAAAAACAQUAAAAAAAKBBQAAAAAAAwEFAAAAAAADgQUAAAAAAAABCQAAAAAAAIEJAAAAAAABAQkAAAAAAAGBCQAAAAAAAgEJAAAAAAACgQkAAAAAAAMBCQAAAAAAA4EJAAAAAAAAAQ0AAAAAAACBDQAAAAAAAQENAAAAAAABgQ0AAAAAAAIBDQAAAAAAAoENAAAAAAADAQ0AAAAAAAOBDQKuqqqqqAkRAq6qqqqoiRECrqqqqqkJEQKuqqqqqYkRAq6qqqqqCRECrqqqqqqJEQKuqqqqqwkRAq6qqqqriRECrqqqqqgJFQAAAAAAAIEVAAAAAAABARUAAAAAAAGBFQAAAAAAAgEVAAAAAAACgRUAAAAAAAMBFQAAAAAAA4EVAAAAAAAAgRkAAAAAAADBGQAAAAAAAQEZAAAAAAABQRkAAAAAAAGBGQAAAAAAAcEZAAAAAAACARkAAAAAAAJBGQAAAAAAAoEZAAAAAAACwRkAAAAAAAMBGQAAAAAAA0EZAAAAAAADgRkA=\",\"dtype\":\"float64\",\"order\":\"little\",\"shape\":[88]},\"top\":{\"__ndarray__\":\"MzMzMzMzTkAzMzMzMzNOQDMzMzMzM05AMzMzMzMzTkAzMzMzMzNOQDMzMzMzM05AMzMzMzMzTkAzMzMzMzNOQDMzMzMzs0xAMzMzMzOzTEAzMzMzM7NMQDMzMzMzs0xAMzMzMzOzTEAzMzMzM7NMQDMzMzMzs0xAMzMzMzOzTEAzMzMzM7NMQDMzMzMzs0xAMzMzMzOzTEAzMzMzMzNPQDMzMzMzM09AMzMzMzMzT0AzMzMzMzNPQDMzMzMzM09AMzMzMzMzT0AzMzMzMzNPQDMzMzMzM09AMzMzMzMzQ0AzMzMzMzNDQDMzMzMzM0NAMzMzMzMzQ0AzMzMzMzNDQDMzMzMzM0NAMzMzMzMzQ0AzMzMzMzNDQJqZmZmZWVBAmpmZmZlZUECamZmZmVlQQJqZmZmZWVBAmpmZmZlZUECamZmZmVlQQJqZmZmZWVBAmpmZmZlZUECamZmZmRlQQJqZmZmZGVBAmpmZmZkZUECamZmZmRlQQJqZmZmZGVBAmpmZmZkZUECamZmZmRlQQJqZmZmZGVBAmpmZmZnZUECamZmZmdlQQJqZmZmZ2VBAmpmZmZnZUECamZmZmdlQQJqZmZmZ2VBAmpmZmZnZUECamZmZmdlQQDMzMzMzM09AMzMzMzMzT0AzMzMzMzNPQDMzMzMzM09AMzMzMzMzT0AzMzMzMzNPQDMzMzMzM09AMzMzMzMzT0CamZmZmVlQQJqZmZmZWVBAmpmZmZlZUECamZmZmVlQQJqZmZmZWVBAmpmZmZlZUECamZmZmVlQQJqZmZmZWVBAmpmZmZkZUECamZmZmRlQQJqZmZmZGVBAmpmZmZkZUECamZmZmRlQQJqZmZmZGVBAmpmZmZkZUECamZmZmRlQQJqZmZmZGVBAmpmZmZkZUECamZmZmRlQQJqZmZmZGVBAmpmZmZkZUEA=\",\"dtype\":\"float64\",\"order\":\"little\",\"shape\":[88]},\"velocity\":[97,81,97,81,97,81,97,81,97,65,97,65,97,65,97,65,97,65,97,97,65,97,65,97,65,97,65,97,81,97,81,97,81,97,81,97,81,97,81,97,81,97,97,97,81,97,81,97,81,97,81,97,81,97,81,97,81,81,81,97,113,97,113,97,97,113,97,97,113,97,113,97,113,97,113,97,113,97,113,97,113,97,113,97,113,97,113,113]},\"selected\":{\"id\":\"1391\"},\"selection_policy\":{\"id\":\"1392\"}},\"id\":\"1295\",\"type\":\"ColumnDataSource\"},{\"attributes\":{\"axis\":{\"id\":\"1204\"},\"dimension\":1,\"ticker\":{\"id\":\"1222\"}},\"id\":\"1207\",\"type\":\"Grid\"},{\"attributes\":{\"data\":{\"bottom\":{\"__ndarray__\":\"zczMzMxMTUDNzMzMzExNQM3MzMzMzE5AZmZmZmamUEDNzMzMzExNQM3MzMzMzE5AZmZmZmamUEDNzMzMzExNQM3MzMzMzE5AZmZmZmamUEDNzMzMzMxOQM3MzMzMzE1AzczMzMzMTkDNzMzMzMxNQM3MzMzMzE5AzczMzMzMTUDNzMzMzMxOQM3MzMzMzE1AzczMzMzMTkDNzMzMzMxNQM3MzMzMzE5AzczMzMzMTUDNzMzMzMxNQM3MzMzMTExAzczMzMzMTUDNzMzMzExMQM3MzMzMzE1AzczMzMxMTEDNzMzMzMxNQA==\",\"dtype\":\"float64\",\"order\":\"little\",\"shape\":[29]},\"duration\":{\"__ndarray__\":\"AAAAAAAA2D8AAAAAAADYPwAAAAAAANg/AAAAAAAA2D8AAAAAAADYPwAAAAAAANg/AAAAAAAA2D8AAAAAAADYPwAAAAAAANg/AAAAAAAA2D8AAAAAAADYP4CqqqqqqsI/AAAAAAAA0D8AAAAAAADAPwAAAAAAANg/AAAAAAAAwD8AAAAAAADAPwAAAAAAAMA/AAAAAAAAwD8AAAAAAADAPwAAAAAAAMA/AAAAAAAA2D+AqqqqqqrCPwAAAAAAANA/AAAAAAAA0D8AAAAAAADQPwAAAAAAANA/QFVVVVVV0T8AAAAAAADQPw==\",\"dtype\":\"float64\",\"order\":\"little\",\"shape\":[29]},\"end_time\":{\"__ndarray__\":\"AAAAAABgNkAAAAAAAOA2QAAAAAAA4DZAAAAAAADgNkAAAAAAAGA3QAAAAAAAYDdAAAAAAABgN0AAAAAAAOA3QAAAAAAA4DdAAAAAAADgN0AAAAAAAGA4QFVVVVVVhThAAAAAAADAOEAAAAAAAOA4QAAAAAAAQDlAAAAAAABgOUAAAAAAAIA5QAAAAAAAoDlAAAAAAADAOUAAAAAAAOA5QAAAAAAAADpAAAAAAABgOkBVVVVVVYU6QAAAAAAAwDpAAAAAAAAAO0AAAAAAAEA7QAAAAAAAgDtAVVVVVVXFO0AAAAAAAAA8QA==\",\"dtype\":\"float64\",\"order\":\"little\",\"shape\":[29]},\"fill_alpha\":{\"__ndarray__\":\"AAAAAABA5D8AAAAAAEDgPwAAAAAAQOQ/AAAAAABA4D8AAAAAAEDgPwAAAAAAQOA/AAAAAABA4D8AAAAAAEDgPwAAAAAAQOA/AAAAAABA4D8AAAAAAEDkPwAAAAAAQOA/AAAAAABA5D8AAAAAAEDgPwAAAAAAQOQ/AAAAAABA4D8AAAAAAEDkPwAAAAAAQOA/AAAAAABA5D8AAAAAAEDkPwAAAAAAQOA/AAAAAABA5D8AAAAAAEDgPwAAAAAAQOQ/AAAAAABA4D8AAAAAAEDkPwAAAAAAQOA/AAAAAABA5D8AAAAAAEDgPw==\",\"dtype\":\"float64\",\"order\":\"little\",\"shape\":[29]},\"index\":[348,353,354,355,362,363,364,370,371,372,378,384,386,391,394,400,403,405,409,411,414,416,421,423,428,433,437,441,446],\"instrument\":[12,12,12,12,12,12,12,12,12,12,12,12,12,12,12,12,12,12,12,12,12,12,12,12,12,12,12,12,12],\"pitch\":[59,59,62,67,59,62,67,59,62,67,62,60,62,60,62,60,62,60,62,60,62,60,60,57,60,57,60,57,60],\"program\":[60,60,60,60,60,60,60,60,60,60,60,60,60,60,60,60,60,60,60,60,60,60,60,60,60,60,60,60,60],\"start_time\":{\"__ndarray__\":\"AAAAAAAANkAAAAAAAIA2QAAAAAAAgDZAAAAAAACANkAAAAAAAAA3QAAAAAAAADdAAAAAAAAAN0AAAAAAAIA3QAAAAAAAgDdAAAAAAACAN0AAAAAAAAA4QAAAAAAAYDhAAAAAAACAOEAAAAAAAMA4QAAAAAAA4DhAAAAAAABAOUAAAAAAAGA5QAAAAAAAgDlAAAAAAACgOUAAAAAAAMA5QAAAAAAA4DlAAAAAAAAAOkAAAAAAAGA6QAAAAAAAgDpAAAAAAADAOkAAAAAAAAA7QAAAAAAAQDtAAAAAAACAO0AAAAAAAMA7QA==\",\"dtype\":\"float64\",\"order\":\"little\",\"shape\":[29]},\"top\":{\"__ndarray__\":\"MzMzMzOzTUAzMzMzM7NNQDMzMzMzM09AmpmZmZnZUEAzMzMzM7NNQDMzMzMzM09AmpmZmZnZUEAzMzMzM7NNQDMzMzMzM09AmpmZmZnZUEAzMzMzMzNPQDMzMzMzM05AMzMzMzMzT0AzMzMzMzNOQDMzMzMzM09AMzMzMzMzTkAzMzMzMzNPQDMzMzMzM05AMzMzMzMzT0AzMzMzMzNOQDMzMzMzM09AMzMzMzMzTkAzMzMzMzNOQDMzMzMzs0xAMzMzMzMzTkAzMzMzM7NMQDMzMzMzM05AMzMzMzOzTEAzMzMzMzNOQA==\",\"dtype\":\"float64\",\"order\":\"little\",\"shape\":[29]},\"velocity\":[81,65,81,65,65,65,65,65,65,65,81,65,81,65,81,65,81,65,81,81,65,81,65,81,65,81,65,81,65]},\"selected\":{\"id\":\"1389\"},\"selection_policy\":{\"id\":\"1390\"}},\"id\":\"1289\",\"type\":\"ColumnDataSource\"},{\"attributes\":{\"data\":{\"bottom\":{\"__ndarray__\":\"zczMzMzMR0DNzMzMzMxHQM3MzMzMzEdAzczMzMzMR0DNzMzMzMxHQM3MzMzMzEdAzczMzMzMR0DNzMzMzMxHQM3MzMzMzEdAzczMzMzMR0DNzMzMzMxHQM3MzMzMzEdA\",\"dtype\":\"float64\",\"order\":\"little\",\"shape\":[12]},\"duration\":{\"__ndarray__\":\"QFVVVVVVxT8Aq6qqqqq6PwAAAAAAAMA/AAAAAAAAwD8AAAAAAADAPwAAAAAAAMA/AAAAAAAAwD8AAAAAAADAPwAAAAAAAMA/AAAAAAAAwD8AAAAAAADAPwAAAAAAAMA/\",\"dtype\":\"float64\",\"order\":\"little\",\"shape\":[12]},\"end_time\":{\"__ndarray__\":\"VVVVVVVVJECrqqqqqookQFVVVVVV1SRAq6qqqqoqJUAAAAAAAIAlQFVVVVVV1SVAq6qqqqoqJkAAAAAAAIAmQFVVVVVV1SZAq6qqqqoqJ0AAAAAAAIAnQFVVVVVV1SdA\",\"dtype\":\"float64\",\"order\":\"little\",\"shape\":[12]},\"fill_alpha\":{\"__ndarray__\":\"AAAAAABA6D8AAAAAAEDkPwAAAAAAQOg/AAAAAABA5D8AAAAAAEDoPwAAAAAAQOQ/AAAAAABA6D8AAAAAAEDkPwAAAAAAQOg/AAAAAABA5D8AAAAAAEDoPwAAAAAAQOQ/\",\"dtype\":\"float64\",\"order\":\"little\",\"shape\":[12]},\"index\":[156,160,162,164,171,173,175,180,182,184,191,193],\"instrument\":[8,8,8,8,8,8,8,8,8,8,8,8],\"pitch\":[48,48,48,48,48,48,48,48,48,48,48,48],\"program\":[26,26,26,26,26,26,26,26,26,26,26,26],\"start_time\":{\"__ndarray__\":\"AAAAAAAAJEBVVVVVVVUkQFVVVVVVlSRAq6qqqqrqJEAAAAAAAEAlQFVVVVVVlSVAq6qqqqrqJUAAAAAAAEAmQFVVVVVVlSZAq6qqqqrqJkAAAAAAAEAnQFVVVVVVlSdA\",\"dtype\":\"float64\",\"order\":\"little\",\"shape\":[12]},\"top\":{\"__ndarray__\":\"MzMzMzMzSEAzMzMzMzNIQDMzMzMzM0hAMzMzMzMzSEAzMzMzMzNIQDMzMzMzM0hAMzMzMzMzSEAzMzMzMzNIQDMzMzMzM0hAMzMzMzMzSEAzMzMzMzNIQDMzMzMzM0hA\",\"dtype\":\"float64\",\"order\":\"little\",\"shape\":[12]},\"velocity\":[97,81,97,81,97,81,97,81,97,81,97,81]},\"selected\":{\"id\":\"1381\"},\"selection_policy\":{\"id\":\"1382\"}},\"id\":\"1265\",\"type\":\"ColumnDataSource\"},{\"attributes\":{\"source\":{\"id\":\"1277\"}},\"id\":\"1282\",\"type\":\"CDSView\"},{\"attributes\":{\"data_source\":{\"id\":\"1325\"},\"glyph\":{\"id\":\"1327\"},\"hover_glyph\":null,\"muted_glyph\":null,\"nonselection_glyph\":{\"id\":\"1328\"},\"selection_glyph\":null,\"view\":{\"id\":\"1330\"}},\"id\":\"1329\",\"type\":\"GlyphRenderer\"},{\"attributes\":{\"overlay\":{\"id\":\"1213\"}},\"id\":\"1210\",\"type\":\"BoxZoomTool\"},{\"attributes\":{\"data\":{\"bottom\":{\"__ndarray__\":\"zczMzMxMREDNzMzMzExEQM3MzMzMTERAzczMzMxMREDNzMzMzExEQM3MzMzMTERAzczMzMxMREDNzMzMzExEQM3MzMzMTEVAzczMzMxMRUDNzMzMzExFQM3MzMzMTEVAzczMzMzMSEDNzMzMzMxIQM3MzMzMzEhAzczMzMzMSEDNzMzMzMxEQM3MzMzMzERAzczMzMzMREDNzMzMzMxEQM3MzMzMzERAzczMzMzMREDNzMzMzMxEQM3MzMzMzERAzczMzMxMRUDNzMzMzExFQM3MzMzMTEVAzczMzMxMRUDNzMzMzExFQM3MzMzMTEVAzczMzMxMRUDNzMzMzExFQM3MzMzMTERAzczMzMxMREDNzMzMzExEQM3MzMzMTERAzczMzMxMREDNzMzMzExEQM3MzMzMTERAzczMzMxMREDNzMzMzExCQM3MzMzMTEJAzczMzMxMQkDNzMzMzExCQM3MzMzMTEJAzczMzMxMQkDNzMzMzExCQM3MzMzMTEJAzczMzMxMREDNzMzMzExEQM3MzMzMTERAzczMzMxMREDNzMzMzExEQM3MzMzMTERAzczMzMxMREDNzMzMzExEQM3MzMzMTERAzczMzMxMREDNzMzMzExEQM3MzMzMTERAzczMzMzMQUDNzMzMzMxBQM3MzMzMzEFAzczMzMzMQUDNzMzMzMxBQM3MzMzMzEFAzczMzMzMQUA=\",\"dtype\":\"float64\",\"order\":\"little\",\"shape\":[67]},\"duration\":{\"__ndarray__\":\"AAAAAAAAsD8AAAAAAACwPwAAAAAAALA/AAAAAAAAsD8AAAAAAACwPwAAAAAAALA/AAAAAAAAsD8AAAAAAACwPwAAAAAAALA/AAAAAAAAsD8AAAAAAACwPwAAAAAAALA/AFBVVVVVlT8AWFVVVVWVPwBYVVVVVZU/AFhVVVVVlT8AAAAAAACwPwAAAAAAALA/AAAAAAAAsD8AAAAAAACwPwAAAAAAALA/AAAAAAAAsD8AAAAAAACwPwAAAAAAALA/AFRVVVVVtT8AVFVVVVW1PwBUVVVVVbU/AFRVVVVVtT8AVFVVVVW1PwBUVVVVVbU/AFRVVVVVtT8AVFVVVVW1PwBWVVVVVbU/AFRVVVVVtT8AVFVVVVW1PwBUVVVVVbU/AFRVVVVVtT8AVFVVVVW1PwBUVVVVVbU/AFRVVVVVtT8AAAAAAACwPwAAAAAAALA/AAAAAAAAsD8AAAAAAACwPwAAAAAAALA/AAAAAAAAsD8AAAAAAACwPwAAAAAAALA/AFRVVVVVtT8AVFVVVVW1PwBUVVVVVbU/AFRVVVVVtT8AVFVVVVW1PwBUVVVVVbU/AFRVVVVVtT8AVFVVVVW1PwBUVVVVVbU/AFZVVVVVtT8AVlVVVVW1PwBWVVVVVbU/AAAAAAAAwD8AAAAAAADAPwAAAAAAAMA/AAAAAAAAwD8AAAAAAADAPwAAAAAAAMA/AAAAAAAAwD8=\",\"dtype\":\"float64\",\"order\":\"little\",\"shape\":[67]},\"end_time\":{\"__ndarray__\":\"q6qqqqoaOkBVVVVVVVU6QFVVVVVVlTpAVVVVVVXVOkBVVVVVVRU7QFVVVVVVVTtAVVVVVVWVO0BVVVVVVdU7QKuqqqqqGj5AVVVVVVWVPkBVVVVVVRU/QFVVVVVVlT9AVVVVVVUFQECrqqqqqkJAQKuqqqqqgkBAq6qqqqrCQEBVVVVVVQ1CQAAAAAAAKEJAAAAAAABIQkAAAAAAAGhCQAAAAAAAiEJAAAAAAACoQkAAAAAAAMhCQAAAAAAA6EJAVVVVVVUNQ0BVVVVVVS1DQFVVVVVVTUNAVVVVVVVtQ0BVVVVVVY1DQFVVVVVVrUNAVVVVVVXNQ0BVVVVVVe1DQAAAAAAAEEZAVVVVVVUtRkBVVVVVVU1GQFVVVVVVbUZAVVVVVVWNRkBVVVVVVa1GQFVVVVVVzUZAVVVVVVXtRkCrqqqqqgpHQKuqqqqqKkdAq6qqqqpKR0CrqqqqqmpHQKuqqqqqikdAq6qqqqqqR0CrqqqqqspHQKuqqqqq6kdAVVVVVVUNSEBVVVVVVS1IQFVVVVVVTUhAVVVVVVVtSEBVVVVVVY1IQFVVVVVVrUhAVVVVVVXNSEBVVVVVVe1IQFVVVVVVDUlAq6qqqqpKSUCrqqqqqopJQKuqqqqqyklAq6qqqqoSSkAAAAAAAFBKQAAAAAAAcEpAAAAAAACQSkAAAAAAALBKQAAAAAAA0EpAAAAAAADwSkA=\",\"dtype\":\"float64\",\"order\":\"little\",\"shape\":[67]},\"fill_alpha\":{\"__ndarray__\":\"AAAAAABA6D8AAAAAAEDkPwAAAAAAQOg/AAAAAABA5D8AAAAAAEDoPwAAAAAAQOQ/AAAAAABA6D8AAAAAAEDkPwAAAAAAQOQ/AAAAAABA5D8AAAAAAEDkPwAAAAAAQOQ/AAAAAABA5D8AAAAAAEDkPwAAAAAAQOQ/AAAAAABA5D8AAAAAAEDoPwAAAAAAQOQ/AAAAAABA6D8AAAAAAEDkPwAAAAAAQOg/AAAAAABA5D8AAAAAAEDoPwAAAAAAQOQ/AAAAAABA6D8AAAAAAEDoPwAAAAAAQOw/AAAAAABA6D8AAAAAAEDoPwAAAAAAQOg/AAAAAABA6D8AAAAAAEDoPwAAAAAAQOw/AAAAAABA6D8AAAAAAEDsPwAAAAAAQOg/AAAAAABA7D8AAAAAAEDoPwAAAAAAQOg/AAAAAABA6D8AAAAAAEDsPwAAAAAAQOg/AAAAAABA6D8AAAAAAEDoPwAAAAAAQOg/AAAAAABA6D8AAAAAAEDoPwAAAAAAQOg/AAAAAABA7D8AAAAAAEDsPwAAAAAAQOw/AAAAAABA7D8AAAAAAEDsPwAAAAAAQOw/AAAAAABA7D8AAAAAAEDsPwAAAAAAQOw/AAAAAABA7D8AAAAAAEDsPwAAAAAAQOw/AAAAAABA7D8AAAAAAEDoPwAAAAAAQOw/AAAAAABA7D8AAAAAAEDsPwAAAAAAQOw/AAAAAABA7D8=\",\"dtype\":\"float64\",\"order\":\"little\",\"shape\":[67]},\"index\":[417,420,426,430,435,439,444,448,486,494,504,513,521,527,535,542,575,577,580,583,588,590,593,597,602,606,609,613,617,621,624,628,696,698,703,708,714,719,724,729,732,735,740,745,751,755,761,766,769,771,774,777,781,784,788,791,795,799,803,809,814,819,822,825,828,831,834],\"instrument\":[14,14,14,14,14,14,14,14,14,14,14,14,14,14,14,14,14,14,14,14,14,14,14,14,14,14,14,14,14,14,14,14,14,14,14,14,14,14,14,14,14,14,14,14,14,14,14,14,14,14,14,14,14,14,14,14,14,14,14,14,14,14,14,14,14,14,14],\"pitch\":[41,41,41,41,41,41,41,41,43,43,43,43,50,50,50,50,42,42,42,42,42,42,42,42,43,43,43,43,43,43,43,43,41,41,41,41,41,41,41,41,37,37,37,37,37,37,37,37,41,41,41,41,41,41,41,41,41,41,41,41,36,36,36,36,36,36,36],\"program\":[116,116,116,116,116,116,116,116,116,116,116,116,116,116,116,116,116,116,116,116,116,116,116,116,116,116,116,116,116,116,116,116,116,116,116,116,116,116,116,116,116,116,116,116,116,116,116,116,116,116,116,116,116,116,116,116,116,116,116,116,116,116,116,116,116,116,116],\"start_time\":{\"__ndarray__\":\"q6qqqqoKOkBVVVVVVUU6QFVVVVVVhTpAVVVVVVXFOkBVVVVVVQU7QFVVVVVVRTtAVVVVVVWFO0BVVVVVVcU7QKuqqqqqCj5AVVVVVVWFPkBVVVVVVQU/QFVVVVVVhT9Aq6qqqqoCQEAAAAAAAEBAQAAAAAAAgEBAAAAAAADAQEBVVVVVVQVCQAAAAAAAIEJAAAAAAABAQkAAAAAAAGBCQAAAAAAAgEJAAAAAAACgQkAAAAAAAMBCQAAAAAAA4EJAq6qqqqoCQ0CrqqqqqiJDQKuqqqqqQkNAq6qqqqpiQ0CrqqqqqoJDQKuqqqqqokNAq6qqqqrCQ0CrqqqqquJDQFVVVVVVBUZAq6qqqqoiRkCrqqqqqkJGQKuqqqqqYkZAq6qqqqqCRkCrqqqqqqJGQKuqqqqqwkZAq6qqqqriRkCrqqqqqgJHQKuqqqqqIkdAq6qqqqpCR0CrqqqqqmJHQKuqqqqqgkdAq6qqqqqiR0CrqqqqqsJHQKuqqqqq4kdAq6qqqqoCSECrqqqqqiJIQKuqqqqqQkhAq6qqqqpiSECrqqqqqoJIQKuqqqqqokhAq6qqqqrCSECrqqqqquJIQKuqqqqqAklAAAAAAABASUAAAAAAAIBJQAAAAAAAwElAq6qqqqoCSkAAAAAAAEBKQAAAAAAAYEpAAAAAAACASkAAAAAAAKBKQAAAAAAAwEpAAAAAAADgSkA=\",\"dtype\":\"float64\",\"order\":\"little\",\"shape\":[67]},\"top\":{\"__ndarray__\":\"MzMzMzOzREAzMzMzM7NEQDMzMzMzs0RAMzMzMzOzREAzMzMzM7NEQDMzMzMzs0RAMzMzMzOzREAzMzMzM7NEQDMzMzMzs0VAMzMzMzOzRUAzMzMzM7NFQDMzMzMzs0VAMzMzMzMzSUAzMzMzMzNJQDMzMzMzM0lAMzMzMzMzSUAzMzMzMzNFQDMzMzMzM0VAMzMzMzMzRUAzMzMzMzNFQDMzMzMzM0VAMzMzMzMzRUAzMzMzMzNFQDMzMzMzM0VAMzMzMzOzRUAzMzMzM7NFQDMzMzMzs0VAMzMzMzOzRUAzMzMzM7NFQDMzMzMzs0VAMzMzMzOzRUAzMzMzM7NFQDMzMzMzs0RAMzMzMzOzREAzMzMzM7NEQDMzMzMzs0RAMzMzMzOzREAzMzMzM7NEQDMzMzMzs0RAMzMzMzOzREAzMzMzM7NCQDMzMzMzs0JAMzMzMzOzQkAzMzMzM7NCQDMzMzMzs0JAMzMzMzOzQkAzMzMzM7NCQDMzMzMzs0JAMzMzMzOzREAzMzMzM7NEQDMzMzMzs0RAMzMzMzOzREAzMzMzM7NEQDMzMzMzs0RAMzMzMzOzREAzMzMzM7NEQDMzMzMzs0RAMzMzMzOzREAzMzMzM7NEQDMzMzMzs0RAMzMzMzMzQkAzMzMzMzNCQDMzMzMzM0JAMzMzMzMzQkAzMzMzMzNCQDMzMzMzM0JAMzMzMzMzQkA=\",\"dtype\":\"float64\",\"order\":\"little\",\"shape\":[67]},\"velocity\":[97,81,97,81,97,81,97,81,81,81,81,81,81,81,81,81,97,81,97,81,97,81,97,81,97,97,113,97,97,97,97,97,113,97,113,97,113,97,97,97,113,97,97,97,97,97,97,97,113,113,113,113,113,113,113,113,113,113,113,113,113,97,113,113,113,113,113]},\"selected\":{\"id\":\"1393\"},\"selection_policy\":{\"id\":\"1394\"}},\"id\":\"1301\",\"type\":\"ColumnDataSource\"},{\"attributes\":{\"callback\":null,\"tooltips\":[[\"pitch\",\"@pitch\"],[\"program\",\"@program\"],[\"velo\",\"@velocity\"],[\"duration\",\"@duration\"],[\"start_time\",\"@start_time\"],[\"end_time\",\"@end_time\"],[\"velocity\",\"@velocity\"],[\"fill_alpha\",\"@fill_alpha\"]]},\"id\":\"1208\",\"type\":\"HoverTool\"},{\"attributes\":{},\"id\":\"1209\",\"type\":\"PanTool\"},{\"attributes\":{\"source\":{\"id\":\"1253\"}},\"id\":\"1258\",\"type\":\"CDSView\"},{\"attributes\":{\"bottom\":{\"field\":\"bottom\"},\"fill_alpha\":{\"field\":\"fill_alpha\"},\"fill_color\":{\"value\":\"#66c2a5\"},\"left\":{\"field\":\"start_time\"},\"right\":{\"field\":\"end_time\"},\"top\":{\"field\":\"top\"}},\"id\":\"1285\",\"type\":\"Quad\"},{\"attributes\":{\"data_source\":{\"id\":\"1283\"},\"glyph\":{\"id\":\"1285\"},\"hover_glyph\":null,\"muted_glyph\":null,\"nonselection_glyph\":{\"id\":\"1286\"},\"selection_glyph\":null,\"view\":{\"id\":\"1288\"}},\"id\":\"1287\",\"type\":\"GlyphRenderer\"},{\"attributes\":{\"bottom\":{\"field\":\"bottom\"},\"fill_alpha\":{\"field\":\"fill_alpha\"},\"fill_color\":{\"value\":\"#66c2a5\"},\"left\":{\"field\":\"start_time\"},\"right\":{\"field\":\"end_time\"},\"top\":{\"field\":\"top\"}},\"id\":\"1327\",\"type\":\"Quad\"},{\"attributes\":{\"data\":{\"bottom\":{\"__ndarray__\":\"ZmZmZmYmUUBmZmZmZiZRQGZmZmZmJlFAZmZmZmYmUUBmZmZmZiZRQGZmZmZmJlFAZmZmZmYmUUBmZmZmZiZRQGZmZmZmJlFAZmZmZmbmUUBmZmZmZiZRQGZmZmZm5lFAZmZmZmYmUUBmZmZmZuZRQGZmZmZmJlFAZmZmZmYmUEBmZmZmZiZRQGZmZmZmJlBAZmZmZmYmUUBmZmZmZiZRQGZmZmZmJlFAZmZmZmYmUUBmZmZmZiZRQGZmZmZmJlFAZmZmZmYmUUBmZmZmZiZRQGZmZmZmJlFAZmZmZmYmUUBmZmZmZiZRQGZmZmZmJlFAZmZmZmYmUUBmZmZmZqZQQGZmZmZmplBAZmZmZmamUEBmZmZmZqZQQGZmZmZmplBAZmZmZmamUEBmZmZmZqZQQGZmZmZmplBAZmZmZmamUEBmZmZmZqZQQGZmZmZmJlFAZmZmZmYmUUBmZmZmZiZRQGZmZmZmZlJAZmZmZmZmUkBmZmZmZmZSQGZmZmZmZlJAZmZmZmZmUkBmZmZmZmZSQGZmZmZmZlJAZmZmZmZmUkBmZmZmZmZSQGZmZmZmZlJAZmZmZmZmUkBmZmZmZmZSQGZmZmZmZlJAZmZmZmZmUkBmZmZmZmZSQGZmZmZmZlJAZmZmZmZmUkBmZmZmZmZSQGZmZmZmZlJAZmZmZmZmUkBmZmZmZmZSQGZmZmZmZlJAZmZmZmYmU0BmZmZmZiZTQGZmZmZmJlNAZmZmZmYmU0BmZmZmZiZTQGZmZmZmJlNAZmZmZmYmU0BmZmZmZiZTQGZmZmZmJlNAZmZmZmbmUkBmZmZmZuZSQGZmZmZmZlJAZmZmZmbmUkBmZmZmZmZSQGZmZmZm5lJAZmZmZmZmUkBmZmZmZmZSQGZmZmZmZlJAZmZmZmZmUkBmZmZmZmZSQGZmZmZmZlJAZmZmZmZmUkBmZmZmZmZSQGZmZmZmZlJA\",\"dtype\":\"float64\",\"order\":\"little\",\"shape\":[90]},\"duration\":{\"__ndarray__\":\"AFVVVVVVtT8AAAAAAADAPwBVVVVVVbU/YFVVVVVV0T8AAAAAAADAPwAAAAAAANA/AAAAAAAAwD8AAAAAAADAPwAAAAAAAMA/AAAAAAAAwD8AAAAAAADAPwAAAAAAAMA/AAAAAAAAwD8AAAAAAADAPwAAAAAAAMA/AAAAAAAAwD8AAAAAAADAPwAAAAAAAMA/gKqqqqqquj8AAAAAAADAP4CqqqqqqsI/AAAAAAAAwD8AAAAAAADAPwAAAAAAAMA/AAAAAAAAwD8AAAAAAADAPwAAAAAAAMA/AAAAAAAAwD8AAAAAAADAPwAAAAAAAMA/AAAAAAAAwD+AVVVVVVXFP4CqqqqqqsI/wKqqqqqqwj+AqqqqqqrCP4BVVVVVVcU/gKqqqqqqwj/AqqqqqqrCP8CqqqqqqsI/wKqqqqqqwj8AVVVVVVWlPwAAAAAAAPA/AAAAAAAA8D9QVVVVVVXwP2BVVVVVVfA/AAAAAAAAsD8AAAAAAACwPwAAAAAAALA/AAAAAAAAsD8AAAAAAACwPwAAAAAAALA/AAAAAAAAsD8AAAAAAACwPwAAAAAAALA/AAAAAAAAsD8AAAAAAACwPwAAAAAAALA/AAAAAAAAsD8AAAAAAACwPwBWVVVVVbU/AFZVVVVVtT8AVlVVVVW1PwBWVVVVVbU/AFZVVVVVtT8AVlVVVVW1PwBWVVVVVbU/AAAAAAAAsD8AAAAAAACwPwAAAAAAALA/AAAAAAAAsD8AAAAAAACwPwAAAAAAALA/AAAAAAAAsD8AAAAAAACwPwAAAAAAALA/AAAAAAAAsD8AAAAAAADUPwAAAAAAANA/AAAAAAAA1D+AqqqqqqrSPwAAAAAAANQ/AAAAAAAA0D8AAAAAAADQPwAAAAAAANA/AAAAAAAA0D8AAAAAAADQPwAAAAAAANA/AAAAAAAA0D8AVVVVVVXNPwCrqqqqqsI/\",\"dtype\":\"float64\",\"order\":\"little\",\"shape\":[90]},\"end_time\":{\"__ndarray__\":\"VVVVVVXVIEAAAAAAAEAhQFVVVVVV1SFAq6qqqqqKIkCrqqqqquoiQAAAAAAAgCNAq6qqqqrqI0AAAAAAAGAkQFVVVVVVtSRAq6qqqqoKJUAAAAAAAGAlQFVVVVVVtSVAq6qqqqoKJkAAAAAAAGAmQFVVVVVVtSZAq6qqqqoKJ0AAAAAAAGAnQFVVVVVVtSdAAAAAAAAAKEBVVVVVVVUoQFVVVVVVtShAAAAAAAAAKUBVVVVVVVUpQKuqqqqqqilAAAAAAAAAKkBVVVVVVVUqQKuqqqqqqipAAAAAAAAAK0BVVVVVVVUrQKuqqqqqqitAAAAAAAAALECrqqqqqmosQFVVVVVV1SxAq6qqqqpKLUBVVVVVVbUtQKuqqqqqKi5AVVVVVVWVLkCrqqqqqgovQKuqqqqqai9Aq6qqqqrKL0AAAAAAAAAwQAAAAAAAADJAAAAAAAAANEAAAAAAAAA+QAAAAAAAAEFAAAAAAAAoS0AAAAAAADhLQAAAAAAASEtAAAAAAABYS0AAAAAAAGhLQAAAAAAAeEtAAAAAAACIS0AAAAAAAJhLQAAAAAAAqEtAAAAAAAC4S0AAAAAAAMhLQAAAAAAA2EtAAAAAAADoS0AAAAAAAPhLQKuqqqqqKkxAq6qqqqpKTECrqqqqqmpMQKuqqqqqikxAq6qqqqqqTECrqqqqqspMQKuqqqqq6kxAAAAAAAAoTUAAAAAAADhNQAAAAAAASE1AAAAAAABoTUAAAAAAAHhNQAAAAAAAiE1AAAAAAACoTUAAAAAAAMhNQAAAAAAA6E1AAAAAAAAoTkAAAAAAAGhOQAAAAAAAgE5AAAAAAACoTkBVVVVVVcVOQAAAAAAA6E5AAAAAAAAAT0CrqqqqqiJPQKuqqqqqQk9Aq6qqqqpiT0CrqqqqqoJPQKuqqqqqok9Aq6qqqqrCT0AAAAAAAOBPQKuqqqqq8k9A\",\"dtype\":\"float64\",\"order\":\"little\",\"shape\":[90]},\"fill_alpha\":{\"__ndarray__\":\"AAAAAABA5D8AAAAAAEDoPwAAAAAAQOQ/AAAAAABA6D8AAAAAAEDkPwAAAAAAQOg/AAAAAABA5D8AAAAAAEDkPwAAAAAAQOA/AAAAAABA5D8AAAAAAEDoPwAAAAAAQOQ/AAAAAABA6D8AAAAAAEDkPwAAAAAAQOg/AAAAAABA5D8AAAAAAEDoPwAAAAAAQOQ/AAAAAABA6D8AAAAAAEDkPwAAAAAAQOg/AAAAAABA5D8AAAAAAEDoPwAAAAAAQOQ/AAAAAABA6D8AAAAAAEDkPwAAAAAAQOg/AAAAAABA5D8AAAAAAEDoPwAAAAAAQOQ/AAAAAABA6D8AAAAAAEDkPwAAAAAAQOg/AAAAAABA5D8AAAAAAEDoPwAAAAAAQOQ/AAAAAABA6D8AAAAAAEDkPwAAAAAAQOg/AAAAAABA5D8AAAAAAEDoPwAAAAAAQOQ/AAAAAABA5D8AAAAAAEDoPwAAAAAAQOg/AAAAAABA6D8AAAAAAEDkPwAAAAAAQOg/AAAAAABA6D8AAAAAAEDoPwAAAAAAQOg/AAAAAABA6D8AAAAAAEDoPwAAAAAAQOg/AAAAAABA6D8AAAAAAEDoPwAAAAAAQOg/AAAAAABA6D8AAAAAAEDoPwAAAAAAQOg/AAAAAABA5D8AAAAAAEDoPwAAAAAAQOg/AAAAAABA6D8AAAAAAEDoPwAAAAAAQOg/AAAAAABA6D8AAAAAAEDkPwAAAAAAQOg/AAAAAABA6D8AAAAAAEDoPwAAAAAAQOg/AAAAAABA6D8AAAAAAEDoPwAAAAAAQOg/AAAAAABA6D8AAAAAAEDsPwAAAAAAQOg/AAAAAABA6D8AAAAAAEDoPwAAAAAAQOw/AAAAAABA6D8AAAAAAEDoPwAAAAAAQOQ/AAAAAABA6D8AAAAAAEDoPwAAAAAAQOg/AAAAAABA6D8AAAAAAEDoPwAAAAAAQOg/\",\"dtype\":\"float64\",\"order\":\"little\",\"shape\":[90]},\"index\":[127,131,137,142,145,149,155,159,161,163,170,172,174,179,181,183,190,192,194,198,199,201,208,209,211,216,217,219,226,227,229,233,235,239,242,244,249,251,257,259,260,280,308,463,532,839,842,843,846,847,850,851,854,855,858,859,862,863,866,871,874,877,880,883,886,889,895,897,898,901,904,905,908,911,914,920,923,926,929,932,935,938,942,945,948,951,954,957,960,963],\"instrument\":[7,7,7,7,7,7,7,7,7,7,7,7,7,7,7,7,7,7,7,7,7,7,7,7,7,7,7,7,7,7,7,7,7,7,7,7,7,7,7,7,7,7,7,7,7,7,7,7,7,7,7,7,7,7,7,7,7,7,7,7,7,7,7,7,7,7,7,7,7,7,7,7,7,7,7,7,7,7,7,7,7,7,7,7,7,7,7,7,7,7],\"pitch\":[69,69,69,69,69,69,69,69,69,72,69,72,69,72,69,65,69,65,69,69,69,69,69,69,69,69,69,69,69,69,69,67,67,67,67,67,67,67,67,67,67,69,69,69,74,74,74,74,74,74,74,74,74,74,74,74,74,74,74,74,74,74,74,74,74,74,77,77,77,77,77,77,77,77,77,76,76,74,76,74,76,74,74,74,74,74,74,74,74,74],\"program\":[73,73,73,73,73,73,73,73,73,73,73,73,73,73,73,73,73,73,73,73,73,73,73,73,73,73,73,73,73,73,73,73,73,73,73,73,73,73,73,73,73,73,73,73,73,73,73,73,73,73,73,73,73,73,73,73,73,73,73,73,73,73,73,73,73,73,73,73,73,73,73,73,73,73,73,73,73,73,73,73,73,73,73,73,73,73,73,73,73,73],\"start_time\":{\"__ndarray__\":\"q6qqqqqqIEAAAAAAAAAhQKuqqqqqqiFAAAAAAAAAIkCrqqqqqqoiQAAAAAAAACNAq6qqqqqqI0AAAAAAACAkQFVVVVVVdSRAq6qqqqrKJEAAAAAAACAlQFVVVVVVdSVAq6qqqqrKJUAAAAAAACAmQFVVVVVVdSZAq6qqqqrKJkAAAAAAACAnQFVVVVVVdSdAq6qqqqrKJ0BVVVVVVRUoQKuqqqqqaihAAAAAAADAKEBVVVVVVRUpQKuqqqqqailAAAAAAADAKUBVVVVVVRUqQKuqqqqqaipAAAAAAADAKkBVVVVVVRUrQKuqqqqqaitAAAAAAADAK0BVVVVVVRUsQKuqqqqqiixAAAAAAAAALUCrqqqqqmotQFVVVVVV1S1Aq6qqqqpKLkAAAAAAAMAuQAAAAAAAIC9AAAAAAACAL0CrqqqqquovQAAAAAAAADFAAAAAAAAAM0Crqqqqqvo8QFVVVVVVfUBAAAAAAAAgS0AAAAAAADBLQAAAAAAAQEtAAAAAAABQS0AAAAAAAGBLQAAAAAAAcEtAAAAAAACAS0AAAAAAAJBLQAAAAAAAoEtAAAAAAACwS0AAAAAAAMBLQAAAAAAA0EtAAAAAAADgS0AAAAAAAPBLQAAAAAAAIExAAAAAAABATEAAAAAAAGBMQAAAAAAAgExAAAAAAACgTEAAAAAAAMBMQAAAAAAA4ExAAAAAAAAgTUAAAAAAADBNQAAAAAAAQE1AAAAAAABgTUAAAAAAAHBNQAAAAAAAgE1AAAAAAACgTUAAAAAAAMBNQAAAAAAA4E1AAAAAAAAgTkAAAAAAAEBOQAAAAAAAYE5AAAAAAACATkAAAAAAAKBOQAAAAAAAwE5AAAAAAADgTkCrqqqqqgJPQKuqqqqqIk9Aq6qqqqpCT0CrqqqqqmJPQKuqqqqqgk9Aq6qqqqqiT0CrqqqqqsJPQAAAAAAA4E9A\",\"dtype\":\"float64\",\"order\":\"little\",\"shape\":[90]},\"top\":{\"__ndarray__\":\"mpmZmZlZUUCamZmZmVlRQJqZmZmZWVFAmpmZmZlZUUCamZmZmVlRQJqZmZmZWVFAmpmZmZlZUUCamZmZmVlRQJqZmZmZWVFAmpmZmZkZUkCamZmZmVlRQJqZmZmZGVJAmpmZmZlZUUCamZmZmRlSQJqZmZmZWVFAmpmZmZlZUECamZmZmVlRQJqZmZmZWVBAmpmZmZlZUUCamZmZmVlRQJqZmZmZWVFAmpmZmZlZUUCamZmZmVlRQJqZmZmZWVFAmpmZmZlZUUCamZmZmVlRQJqZmZmZWVFAmpmZmZlZUUCamZmZmVlRQJqZmZmZWVFAmpmZmZlZUUCamZmZmdlQQJqZmZmZ2VBAmpmZmZnZUECamZmZmdlQQJqZmZmZ2VBAmpmZmZnZUECamZmZmdlQQJqZmZmZ2VBAmpmZmZnZUECamZmZmdlQQJqZmZmZWVFAmpmZmZlZUUCamZmZmVlRQJqZmZmZmVJAmpmZmZmZUkCamZmZmZlSQJqZmZmZmVJAmpmZmZmZUkCamZmZmZlSQJqZmZmZmVJAmpmZmZmZUkCamZmZmZlSQJqZmZmZmVJAmpmZmZmZUkCamZmZmZlSQJqZmZmZmVJAmpmZmZmZUkCamZmZmZlSQJqZmZmZmVJAmpmZmZmZUkCamZmZmZlSQJqZmZmZmVJAmpmZmZmZUkCamZmZmZlSQJqZmZmZmVJAmpmZmZlZU0CamZmZmVlTQJqZmZmZWVNAmpmZmZlZU0CamZmZmVlTQJqZmZmZWVNAmpmZmZlZU0CamZmZmVlTQJqZmZmZWVNAmpmZmZkZU0CamZmZmRlTQJqZmZmZmVJAmpmZmZkZU0CamZmZmZlSQJqZmZmZGVNAmpmZmZmZUkCamZmZmZlSQJqZmZmZmVJAmpmZmZmZUkCamZmZmZlSQJqZmZmZmVJAmpmZmZmZUkCamZmZmZlSQJqZmZmZmVJA\",\"dtype\":\"float64\",\"order\":\"little\",\"shape\":[90]},\"velocity\":[81,97,81,97,81,97,81,81,65,81,97,81,97,81,97,81,97,81,97,81,97,81,97,81,97,81,97,81,97,81,97,81,97,81,97,81,97,81,97,81,97,81,81,97,97,97,81,97,97,97,97,97,97,97,97,97,97,97,97,97,81,97,97,97,97,97,97,81,97,97,97,97,97,97,97,97,113,97,97,97,113,97,97,81,97,97,97,97,97,97]},\"selected\":{\"id\":\"1379\"},\"selection_policy\":{\"id\":\"1380\"}},\"id\":\"1259\",\"type\":\"ColumnDataSource\"},{\"attributes\":{},\"id\":\"1379\",\"type\":\"Selection\"},{\"attributes\":{\"data\":{\"bottom\":{\"__ndarray__\":\"zczMzMzMSEDNzMzMzMxIQM3MzMzMzEhAzczMzMzMSEDNzMzMzMxIQM3MzMzMzEhAzczMzMzMSEDNzMzMzMxIQM3MzMzMzEhAzczMzMzMSEDNzMzMzMxIQM3MzMzMzEhAzczMzMzMR0DNzMzMzMxHQM3MzMzMzEdAzczMzMzMR0DNzMzMzMxHQM3MzMzMzEdAzczMzMzMR0DNzMzMzMxHQM3MzMzMzEdAzczMzMzMR0DNzMzMzMxHQM3MzMzMzEdAzczMzMzMR0DNzMzMzMxJQM3MzMzMzEdAzczMzMzMR0DNzMzMzMxHQM3MzMzMzEdAzczMzMzMR0DNzMzMzMxHQM3MzMzMzEdAzczMzMzMR0DNzMzMzMxHQM3MzMzMzEdAzczMzMxMRUDNzMzMzExFQM3MzMzMTEVAzczMzMxMRUDNzMzMzExFQM3MzMzMTEVAzczMzMxMRUDNzMzMzExFQM3MzMzMTEVAzczMzMxMRUDNzMzMzExFQM3MzMzMTEVAzczMzMzMSEDNzMzMzMxIQM3MzMzMzEhAzczMzMzMSEDNzMzMzMxIQM3MzMzMzEhAzczMzMzMSEDNzMzMzMxIQM3MzMzMzEhAzczMzMzMSEDNzMzMzMxIQM3MzMzMzEhA\",\"dtype\":\"float64\",\"order\":\"little\",\"shape\":[60]},\"duration\":{\"__ndarray__\":\"VVVVVVVVxT9VVVVVVVXFP1ZVVVVVVcU/VFVVVVVVxT9UVVVVVVXFP1hVVVVVVcU/UFVVVVVVxT9YVVVVVVXFP1hVVVVVVcU/UFVVVVVVxT9YVVVVVVXFP1hVVVVVVcU/sKqqqqqqwj8AAAAAAADAPwAAAAAAAMA/AAAAAAAAwD8AAAAAAADAPwAAAAAAAMA/AAAAAAAAwD8AAAAAAADAPwAAAAAAAMA/AAAAAAAAwD8AAAAAAADAPwAAAAAAAMA/YFVVVVVVxT+gqqqqqqrKP2BVVVVVVcU/YFVVVVVVxT9AVVVVVVXFP2BVVVVVVcU/QFVVVVVVxT9gVVVVVVXFP2BVVVVVVcU/QFVVVVVVxT9gVVVVVVXFP2BVVVVVVcU/YFVVVVVVxT+Aqqqqqqq6PwAAAAAAAMA/YFVVVVVVxT+gqqqqqqrCPwAAAAAAAMA/QFVVVVVVxT/AqqqqqqrCPwAAAAAAAMA/AAAAAAAAwD8AAAAAAADAPwAAAAAAAMA/wKqqqqqqwj8Aq6qqqqq6PwAAAAAAAMA/AAAAAAAAwD8AAAAAAADAPwAAAAAAAMA/AAAAAAAAwD8AAAAAAADAPwAAAAAAAMA/AAAAAAAAwD8AAAAAAADAPwAAAAAAAMA/\",\"dtype\":\"float64\",\"order\":\"little\",\"shape\":[60]},\"end_time\":{\"__ndarray__\":\"VVVVVVVVxT9VVVVVVVXVPwAAAAAAAOA/VVVVVVVV5T+qqqqqqqrqPwAAAAAAAPA/qqqqqqqq8j9VVVVVVVX1PwAAAAAAAPg/qqqqqqqq+j9VVVVVVVX9PwAAAAAAAABAq6qqqqoqAUBVVVVVVVUCQKuqqqqqqgNAAAAAAAAABUBVVVVVVVUGQKqqqqqqqgdAAAAAAAAACUBVVVVVVVUKQKqqqqqqqgtAAAAAAAAADUBVVVVVVVUOQKqqqqqqqg9Aq6qqqqqqEEAAAAAAAIARQAAAAAAAABJAq6qqqqqqEkBVVVVVVVUTQAAAAAAAABRAqqqqqqqqFEBVVVVVVVUVQAAAAAAAABZAqqqqqqqqFkBVVVVVVVUXQAAAAAAAABhAq6qqqqqqGEBVVVVVVRUZQFVVVVVV1RlAq6qqqqqqGkAAAAAAAEAbQFVVVVVV1RtAqqqqqqqqHEAAAAAAAEAdQFVVVVVV1R1AAAAAAACAHkCqqqqqqiofQFVVVVVV1R9Aq6qqqqpKIECrqqqqqoogQKuqqqqq6iBAAAAAAABAIUBVVVVVVZUhQKuqqqqq6iFAAAAAAABAIkBVVVVVVZUiQKuqqqqq6iJAAAAAAABAI0BVVVVVVZUjQKuqqqqq6iNA\",\"dtype\":\"float64\",\"order\":\"little\",\"shape\":[60]},\"fill_alpha\":{\"__ndarray__\":\"AAAAAABA5D8AAAAAAEDgPwAAAAAAQOQ/AAAAAABA4D8AAAAAAEDkPwAAAAAAQOA/AAAAAABA5D8AAAAAAEDgPwAAAAAAQOQ/AAAAAABA4D8AAAAAAEDkPwAAAAAAQOA/AAAAAABA5D8AAAAAAEDgPwAAAAAAQOQ/AAAAAABA6D8AAAAAAEDkPwAAAAAAQOg/AAAAAABA5D8AAAAAAEDoPwAAAAAAQOQ/AAAAAABA6D8AAAAAAEDkPwAAAAAAQOg/AAAAAABA5D8AAAAAAEDgPwAAAAAAQOQ/AAAAAABA6D8AAAAAAEDkPwAAAAAAQOg/AAAAAABA5D8AAAAAAEDoPwAAAAAAQOQ/AAAAAABA6D8AAAAAAEDkPwAAAAAAQOg/AAAAAABA6D8AAAAAAEDgPwAAAAAAQOQ/AAAAAABA6D8AAAAAAEDkPwAAAAAAQOg/AAAAAABA5D8AAAAAAEDoPwAAAAAAQOQ/AAAAAABA6D8AAAAAAEDkPwAAAAAAQOg/AAAAAABA6D8AAAAAAEDgPwAAAAAAQOg/AAAAAABA4D8AAAAAAEDoPwAAAAAAQOA/AAAAAABA6D8AAAAAAEDgPwAAAAAAQOg/AAAAAABA4D8AAAAAAEDoPwAAAAAAQOA/\",\"dtype\":\"float64\",\"order\":\"little\",\"shape\":[60]},\"index\":[0,2,3,5,11,12,14,18,19,21,27,28,30,32,33,35,41,42,45,50,51,53,59,60,62,64,65,67,73,74,76,80,81,82,88,89,90,92,93,95,101,102,104,108,110,112,118,120,122,125,126,128,135,136,138,143,144,146,153,154],\"instrument\":[1,1,1,1,1,1,1,1,1,1,1,1,1,1,1,1,1,1,1,1,1,1,1,1,1,1,1,1,1,1,1,1,1,1,1,1,1,1,1,1,1,1,1,1,1,1,1,1,1,1,1,1,1,1,1,1,1,1,1,1],\"pitch\":[50,50,50,50,50,50,50,50,50,50,50,50,48,48,48,48,48,48,48,48,48,48,48,48,48,52,48,48,48,48,48,48,48,48,48,48,43,43,43,43,43,43,43,43,43,43,43,43,50,50,50,50,50,50,50,50,50,50,50,50],\"program\":[25,25,25,25,25,25,25,25,25,25,25,25,25,25,25,25,25,25,25,25,25,25,25,25,25,25,25,25,25,25,25,25,25,25,25,25,25,25,25,25,25,25,25,25,25,25,25,25,25,25,25,25,25,25,25,25,25,25,25,25],\"start_time\":{\"__ndarray__\":\"AAAAAAAAAABVVVVVVVXFP1VVVVVVVdU/AAAAAAAA4D9VVVVVVVXlP6qqqqqqquo/AAAAAAAA8D+qqqqqqqryP1VVVVVVVfU/AAAAAAAA+D+qqqqqqqr6P1VVVVVVVf0/AAAAAAAAAEBVVVVVVVUBQKuqqqqqqgJAAAAAAAAABEBVVVVVVVUFQKqqqqqqqgZAAAAAAAAACEBVVVVVVVUJQKqqqqqqqgpAAAAAAAAADEBVVVVVVVUNQKqqqqqqqg5AAAAAAAAAEECrqqqqqqoQQFVVVVVVVRFAAAAAAAAAEkCrqqqqqqoSQFVVVVVVVRNAAAAAAAAAFECqqqqqqqoUQFVVVVVVVRVAAAAAAAAAFkCqqqqqqqoWQFVVVVVVVRdAAAAAAAAAGECrqqqqqqoYQFVVVVVVVRlAAAAAAAAAGkCrqqqqqqoaQFVVVVVVVRtAAAAAAAAAHECqqqqqqqocQFVVVVVVVR1AAAAAAAAAHkCqqqqqqqoeQFVVVVVVVR9AAAAAAAAAIEBVVVVVVVUgQKuqqqqqqiBAAAAAAAAAIUBVVVVVVVUhQKuqqqqqqiFAAAAAAAAAIkBVVVVVVVUiQKuqqqqqqiJAAAAAAAAAI0BVVVVVVVUjQKuqqqqqqiNA\",\"dtype\":\"float64\",\"order\":\"little\",\"shape\":[60]},\"top\":{\"__ndarray__\":\"MzMzMzMzSUAzMzMzMzNJQDMzMzMzM0lAMzMzMzMzSUAzMzMzMzNJQDMzMzMzM0lAMzMzMzMzSUAzMzMzMzNJQDMzMzMzM0lAMzMzMzMzSUAzMzMzMzNJQDMzMzMzM0lAMzMzMzMzSEAzMzMzMzNIQDMzMzMzM0hAMzMzMzMzSEAzMzMzMzNIQDMzMzMzM0hAMzMzMzMzSEAzMzMzMzNIQDMzMzMzM0hAMzMzMzMzSEAzMzMzMzNIQDMzMzMzM0hAMzMzMzMzSEAzMzMzMzNKQDMzMzMzM0hAMzMzMzMzSEAzMzMzMzNIQDMzMzMzM0hAMzMzMzMzSEAzMzMzMzNIQDMzMzMzM0hAMzMzMzMzSEAzMzMzMzNIQDMzMzMzM0hAMzMzMzOzRUAzMzMzM7NFQDMzMzMzs0VAMzMzMzOzRUAzMzMzM7NFQDMzMzMzs0VAMzMzMzOzRUAzMzMzM7NFQDMzMzMzs0VAMzMzMzOzRUAzMzMzM7NFQDMzMzMzs0VAMzMzMzMzSUAzMzMzMzNJQDMzMzMzM0lAMzMzMzMzSUAzMzMzMzNJQDMzMzMzM0lAMzMzMzMzSUAzMzMzMzNJQDMzMzMzM0lAMzMzMzMzSUAzMzMzMzNJQDMzMzMzM0lA\",\"dtype\":\"float64\",\"order\":\"little\",\"shape\":[60]},\"velocity\":[81,65,81,65,81,65,81,65,81,65,81,65,81,65,81,97,81,97,81,97,81,97,81,97,81,65,81,97,81,97,81,97,81,97,81,97,97,65,81,97,81,97,81,97,81,97,81,97,97,65,97,65,97,65,97,65,97,65,97,65]},\"selected\":{\"id\":\"1367\"},\"selection_policy\":{\"id\":\"1368\"}},\"id\":\"1223\",\"type\":\"ColumnDataSource\"},{\"attributes\":{\"source\":{\"id\":\"1283\"}},\"id\":\"1288\",\"type\":\"CDSView\"},{\"attributes\":{\"bottom\":{\"field\":\"bottom\"},\"fill_alpha\":{\"value\":0.1},\"fill_color\":{\"value\":\"#66c2a5\"},\"left\":{\"field\":\"start_time\"},\"line_alpha\":{\"value\":0.1},\"right\":{\"field\":\"end_time\"},\"top\":{\"field\":\"top\"}},\"id\":\"1286\",\"type\":\"Quad\"},{\"attributes\":{\"data_source\":{\"id\":\"1253\"},\"glyph\":{\"id\":\"1255\"},\"hover_glyph\":null,\"muted_glyph\":null,\"nonselection_glyph\":{\"id\":\"1256\"},\"selection_glyph\":null,\"view\":{\"id\":\"1258\"}},\"id\":\"1257\",\"type\":\"GlyphRenderer\"},{\"attributes\":{\"data\":{\"bottom\":{\"__ndarray__\":\"zczMzMxMTEDNzMzMzMxNQM3MzMzMzE9A\",\"dtype\":\"float64\",\"order\":\"little\",\"shape\":[3]},\"duration\":{\"__ndarray__\":\"AFRVVVVVlT8AVFVVVVWVPwBUVVVVVZU/\",\"dtype\":\"float64\",\"order\":\"little\",\"shape\":[3]},\"end_time\":{\"__ndarray__\":\"AAAAAAAAPkAAAAAAAAA+QAAAAAAAAD5A\",\"dtype\":\"float64\",\"order\":\"little\",\"shape\":[3]},\"fill_alpha\":{\"__ndarray__\":\"AAAAAABA5D8AAAAAAEDoPwAAAAAAQOg/\",\"dtype\":\"float64\",\"order\":\"little\",\"shape\":[3]},\"index\":[480,481,482],\"instrument\":[15,15,15],\"pitch\":[57,60,64],\"program\":[49,49,49],\"start_time\":{\"__ndarray__\":\"q6qqqqr6PUCrqqqqqvo9QKuqqqqq+j1A\",\"dtype\":\"float64\",\"order\":\"little\",\"shape\":[3]},\"top\":{\"__ndarray__\":\"MzMzMzOzTEAzMzMzMzNOQJqZmZmZGVBA\",\"dtype\":\"float64\",\"order\":\"little\",\"shape\":[3]},\"velocity\":[81,97,97]},\"selected\":{\"id\":\"1395\"},\"selection_policy\":{\"id\":\"1396\"}},\"id\":\"1307\",\"type\":\"ColumnDataSource\"},{\"attributes\":{},\"id\":\"1196\",\"type\":\"LinearScale\"},{\"attributes\":{\"source\":{\"id\":\"1223\"}},\"id\":\"1228\",\"type\":\"CDSView\"},{\"attributes\":{\"text\":\"\"},\"id\":\"1361\",\"type\":\"Title\"},{\"attributes\":{\"bottom\":{\"field\":\"bottom\"},\"fill_alpha\":{\"field\":\"fill_alpha\"},\"fill_color\":{\"value\":\"#fdae61\"},\"left\":{\"field\":\"start_time\"},\"right\":{\"field\":\"end_time\"},\"top\":{\"field\":\"top\"}},\"id\":\"1291\",\"type\":\"Quad\"},{\"attributes\":{\"bottom_units\":\"screen\",\"fill_alpha\":0.5,\"fill_color\":\"lightgrey\",\"left_units\":\"screen\",\"level\":\"overlay\",\"line_alpha\":1.0,\"line_color\":\"black\",\"line_dash\":[4,4],\"line_width\":2,\"right_units\":\"screen\",\"top_units\":\"screen\"},\"id\":\"1213\",\"type\":\"BoxAnnotation\"},{\"attributes\":{\"data_source\":{\"id\":\"1289\"},\"glyph\":{\"id\":\"1291\"},\"hover_glyph\":null,\"muted_glyph\":null,\"nonselection_glyph\":{\"id\":\"1292\"},\"selection_glyph\":null,\"view\":{\"id\":\"1294\"}},\"id\":\"1293\",\"type\":\"GlyphRenderer\"},{\"attributes\":{\"axis\":{\"id\":\"1200\"},\"ticker\":null},\"id\":\"1203\",\"type\":\"Grid\"},{\"attributes\":{\"source\":{\"id\":\"1289\"}},\"id\":\"1294\",\"type\":\"CDSView\"},{\"attributes\":{\"bottom\":{\"field\":\"bottom\"},\"fill_alpha\":{\"value\":0.1},\"fill_color\":{\"value\":\"#fdae61\"},\"left\":{\"field\":\"start_time\"},\"line_alpha\":{\"value\":0.1},\"right\":{\"field\":\"end_time\"},\"top\":{\"field\":\"top\"}},\"id\":\"1292\",\"type\":\"Quad\"},{\"attributes\":{\"data\":{\"bottom\":{\"__ndarray__\":\"ZmZmZmYmUUBmZmZmZiZRQGZmZmZmJlFAZmZmZmYmUUBmZmZmZiZRQGZmZmZmJlFAZmZmZmYmUUBmZmZmZqZQQGZmZmZmplBAZmZmZmamUEBmZmZmZqZQQGZmZmZmplBAZmZmZmamUEBmZmZmZqZQQGZmZmZmJlFAZmZmZmYmUUBmZmZmZiZRQGZmZmZmJlFAZmZmZmYmUUBmZmZmZiZRQGZmZmZmJlFAZmZmZmYmUUBmZmZmZiZRQGZmZmZmJlFAZmZmZmYmUUBmZmZmZiZRQGZmZmZmJlFAZmZmZmamUEA=\",\"dtype\":\"float64\",\"order\":\"little\",\"shape\":[28]},\"duration\":{\"__ndarray__\":\"AAAAAAAA2D8AAAAAAADQPwAAAAAAANA/AAAAAAAA0D8AAAAAAADQPwAAAAAAANA/AAAAAAAA0D8AAAAAAADYPwAAAAAAANA/AFVVVVVVzT8AAAAAAADQPwAAAAAAANA/AFVVVVVVzT8AAAAAAADIPwAAAAAAANg/AKuqqqqqwj8AAAAAAADAPwAAAAAAAMA/AAAAAAAAwD8AAAAAAADAPwAAAAAAAMA/AAAAAAAA2D8AAAAAAADQPwAAAAAAANA/AFVVVVVVzT8AAAAAAADQPwBWVVVVVc0/AKuqqqqqyj8=\",\"dtype\":\"float64\",\"order\":\"little\",\"shape\":[28]},\"end_time\":{\"__ndarray__\":\"q6qqqqoyRUAAAAAAAGBFQAAAAAAAgEVAAAAAAACgRUAAAAAAAMBFQAAAAAAA4EVAAAAAAAAARkCrqqqqqjJHQAAAAAAAYEdAAAAAAACAR0CrqqqqqqJHQFVVVVVVxUdAVVVVVVXlR0AAAAAAAABIQKuqqqqqMkhAq6qqqqpSSEAAAAAAAHBIQAAAAAAAkEhAAAAAAACwSEAAAAAAANBIQAAAAAAA8EhAq6qqqqoySUAAAAAAAGBJQKuqqqqqgklAAAAAAACgSUCrqqqqqsJJQKuqqqqq4klAAAAAAAAASkA=\",\"dtype\":\"float64\",\"order\":\"little\",\"shape\":[28]},\"fill_alpha\":{\"__ndarray__\":\"AAAAAABA6D8AAAAAAEDkPwAAAAAAQOg/AAAAAABA5D8AAAAAAEDoPwAAAAAAQOQ/AAAAAABA6D8AAAAAAEDoPwAAAAAAQOw/AAAAAABA6D8AAAAAAEDoPwAAAAAAQOw/AAAAAABA6D8AAAAAAEDsPwAAAAAAQOg/AAAAAABA5D8AAAAAAEDkPwAAAAAAQOQ/AAAAAABA5D8AAAAAAEDkPwAAAAAAQOQ/AAAAAABA6D8AAAAAAEDkPwAAAAAAQOg/AAAAAABA5D8AAAAAAEDoPwAAAAAAQOQ/AAAAAABA6D8=\",\"dtype\":\"float64\",\"order\":\"little\",\"shape\":[28]},\"index\":[664,670,674,679,683,687,691,731,738,744,750,756,762,767,768,773,776,780,783,787,790,794,798,801,804,806,810,812],\"instrument\":[19,19,19,19,19,19,19,19,19,19,19,19,19,19,19,19,19,19,19,19,19,19,19,19,19,19,19,19],\"pitch\":[69,69,69,69,69,69,69,67,67,67,67,67,67,67,69,69,69,69,69,69,69,69,69,69,69,69,69,67],\"program\":[82,82,82,82,82,82,82,82,82,82,82,82,82,82,82,82,82,82,82,82,82,82,82,82,82,82,82,82],\"start_time\":{\"__ndarray__\":\"q6qqqqoCRUAAAAAAAEBFQAAAAAAAYEVAAAAAAACARUAAAAAAAKBFQAAAAAAAwEVAAAAAAADgRUCrqqqqqgJHQAAAAAAAQEdAq6qqqqpiR0CrqqqqqoJHQFVVVVVVpUdAAAAAAADIR0AAAAAAAOhHQKuqqqqqAkhAAAAAAABASEAAAAAAAGBIQAAAAAAAgEhAAAAAAACgSEAAAAAAAMBIQAAAAAAA4EhAq6qqqqoCSUAAAAAAAEBJQKuqqqqqYklAq6qqqqqCSUCrqqqqqqJJQFVVVVVVxUlAVVVVVVXlSUA=\",\"dtype\":\"float64\",\"order\":\"little\",\"shape\":[28]},\"top\":{\"__ndarray__\":\"mpmZmZlZUUCamZmZmVlRQJqZmZmZWVFAmpmZmZlZUUCamZmZmVlRQJqZmZmZWVFAmpmZmZlZUUCamZmZmdlQQJqZmZmZ2VBAmpmZmZnZUECamZmZmdlQQJqZmZmZ2VBAmpmZmZnZUECamZmZmdlQQJqZmZmZWVFAmpmZmZlZUUCamZmZmVlRQJqZmZmZWVFAmpmZmZlZUUCamZmZmVlRQJqZmZmZWVFAmpmZmZlZUUCamZmZmVlRQJqZmZmZWVFAmpmZmZlZUUCamZmZmVlRQJqZmZmZWVFAmpmZmZnZUEA=\",\"dtype\":\"float64\",\"order\":\"little\",\"shape\":[28]},\"velocity\":[97,81,97,81,97,81,97,97,113,97,97,113,97,113,97,81,81,81,81,81,81,97,81,97,81,97,81,97]},\"selected\":{\"id\":\"1403\"},\"selection_policy\":{\"id\":\"1404\"}},\"id\":\"1331\",\"type\":\"ColumnDataSource\"},{\"attributes\":{\"bottom\":{\"field\":\"bottom\"},\"fill_alpha\":{\"field\":\"fill_alpha\"},\"fill_color\":{\"value\":\"#3288bd\"},\"left\":{\"field\":\"start_time\"},\"right\":{\"field\":\"end_time\"},\"top\":{\"field\":\"top\"}},\"id\":\"1231\",\"type\":\"Quad\"},{\"attributes\":{},\"id\":\"1192\",\"type\":\"DataRange1d\"},{\"attributes\":{},\"id\":\"1194\",\"type\":\"DataRange1d\"},{\"attributes\":{\"data\":{\"bottom\":{\"__ndarray__\":\"zczMzMzMTkDNzMzMzMxOQM3MzMzMzE5AzczMzMxMTUDNzMzMzMxOQM3MzMzMTE1AzczMzMzMTkDNzMzMzExNQA==\",\"dtype\":\"float64\",\"order\":\"little\",\"shape\":[8]},\"duration\":{\"__ndarray__\":\"AAAAAAAA2D8AAAAAAADAP0BVVVVVVdE/QFVVVVVV0T8AAAAAAADQP0BVVVVVVdE/AAAAAAAA0D8AAAAAAADQPw==\",\"dtype\":\"float64\",\"order\":\"little\",\"shape\":[8]},\"end_time\":{\"__ndarray__\":\"AAAAAABgPkAAAAAAAIA+QFVVVVVVxT5AVVVVVVUFP0AAAAAAAEA/QFVVVVVVhT9AAAAAAADAP0AAAAAAAABAQA==\",\"dtype\":\"float64\",\"order\":\"little\",\"shape\":[8]},\"fill_alpha\":{\"__ndarray__\":\"AAAAAABA5D8AAAAAAEDgPwAAAAAAQOQ/AAAAAABA4D8AAAAAAEDkPwAAAAAAQOA/AAAAAABA5D8AAAAAAEDgPw==\",\"dtype\":\"float64\",\"order\":\"little\",\"shape\":[8]},\"index\":[484,490,492,497,502,507,511,516],\"instrument\":[16,16,16,16,16,16,16,16],\"pitch\":[62,62,62,59,62,59,62,59],\"program\":[54,54,54,54,54,54,54,54],\"start_time\":{\"__ndarray__\":\"AAAAAAAAPkAAAAAAAGA+QAAAAAAAgD5AAAAAAADAPkAAAAAAAAA/QAAAAAAAQD9AAAAAAACAP0AAAAAAAMA/QA==\",\"dtype\":\"float64\",\"order\":\"little\",\"shape\":[8]},\"top\":{\"__ndarray__\":\"MzMzMzMzT0AzMzMzMzNPQDMzMzMzM09AMzMzMzOzTUAzMzMzMzNPQDMzMzMzs01AMzMzMzMzT0AzMzMzM7NNQA==\",\"dtype\":\"float64\",\"order\":\"little\",\"shape\":[8]},\"velocity\":[81,65,81,65,81,65,81,65]},\"selected\":{\"id\":\"1397\"},\"selection_policy\":{\"id\":\"1398\"}},\"id\":\"1313\",\"type\":\"ColumnDataSource\"},{\"attributes\":{\"bottom\":{\"field\":\"bottom\"},\"fill_alpha\":{\"value\":0.1},\"fill_color\":{\"value\":\"#fdae61\"},\"left\":{\"field\":\"start_time\"},\"line_alpha\":{\"value\":0.1},\"right\":{\"field\":\"end_time\"},\"top\":{\"field\":\"top\"}},\"id\":\"1334\",\"type\":\"Quad\"},{\"attributes\":{\"bottom\":{\"field\":\"bottom\"},\"fill_alpha\":{\"field\":\"fill_alpha\"},\"fill_color\":{\"value\":\"#abdda4\"},\"left\":{\"field\":\"start_time\"},\"right\":{\"field\":\"end_time\"},\"top\":{\"field\":\"top\"}},\"id\":\"1297\",\"type\":\"Quad\"},{\"attributes\":{\"axis_label\":\"pitch (MIDI)\",\"formatter\":{\"id\":\"1365\"},\"ticker\":{\"id\":\"1220\"}},\"id\":\"1204\",\"type\":\"LinearAxis\"},{\"attributes\":{\"data_source\":{\"id\":\"1295\"},\"glyph\":{\"id\":\"1297\"},\"hover_glyph\":null,\"muted_glyph\":null,\"nonselection_glyph\":{\"id\":\"1298\"},\"selection_glyph\":null,\"view\":{\"id\":\"1300\"}},\"id\":\"1299\",\"type\":\"GlyphRenderer\"},{\"attributes\":{\"source\":{\"id\":\"1295\"}},\"id\":\"1300\",\"type\":\"CDSView\"},{\"attributes\":{\"bottom\":{\"field\":\"bottom\"},\"fill_alpha\":{\"value\":0.1},\"fill_color\":{\"value\":\"#abdda4\"},\"left\":{\"field\":\"start_time\"},\"line_alpha\":{\"value\":0.1},\"right\":{\"field\":\"end_time\"},\"top\":{\"field\":\"top\"}},\"id\":\"1298\",\"type\":\"Quad\"},{\"attributes\":{\"data\":{\"bottom\":{\"__ndarray__\":\"zczMzMzMT0DNzMzMzMxPQM3MzMzMzE9AzczMzMzMT0DNzMzMzMxPQM3MzMzMzE9AzczMzMzMT0A=\",\"dtype\":\"float64\",\"order\":\"little\",\"shape\":[7]},\"duration\":{\"__ndarray__\":\"AAAAAAAA2D8AAAAAAADAPwAAAAAAAMA/AAAAAAAAwD8AAAAAAADAPwAAAAAAAMA/AAAAAAAAwD8=\",\"dtype\":\"float64\",\"order\":\"little\",\"shape\":[7]},\"end_time\":{\"__ndarray__\":\"q6qqqqoyRkAAAAAAAFBGQAAAAAAAcEZAAAAAAACQRkAAAAAAALBGQAAAAAAA0EZAAAAAAADwRkA=\",\"dtype\":\"float64\",\"order\":\"little\",\"shape\":[7]},\"fill_alpha\":{\"__ndarray__\":\"AAAAAABA6D8AAAAAAEDoPwAAAAAAQOw/AAAAAABA6D8AAAAAAEDsPwAAAAAAQOw/AAAAAABA7D8=\",\"dtype\":\"float64\",\"order\":\"little\",\"shape\":[7]},\"index\":[694,702,707,713,718,723,728],\"instrument\":[20,20,20,20,20,20,20],\"pitch\":[64,64,64,64,64,64,64],\"program\":[80,80,80,80,80,80,80],\"start_time\":{\"__ndarray__\":\"q6qqqqoCRkAAAAAAAEBGQAAAAAAAYEZAAAAAAACARkAAAAAAAKBGQAAAAAAAwEZAAAAAAADgRkA=\",\"dtype\":\"float64\",\"order\":\"little\",\"shape\":[7]},\"top\":{\"__ndarray__\":\"mpmZmZkZUECamZmZmRlQQJqZmZmZGVBAmpmZmZkZUECamZmZmRlQQJqZmZmZGVBAmpmZmZkZUEA=\",\"dtype\":\"float64\",\"order\":\"little\",\"shape\":[7]},\"velocity\":[97,97,113,97,113,113,113]},\"selected\":{\"id\":\"1405\"},\"selection_policy\":{\"id\":\"1406\"}},\"id\":\"1337\",\"type\":\"ColumnDataSource\"},{\"attributes\":{\"bottom\":{\"field\":\"bottom\"},\"fill_alpha\":{\"value\":0.1},\"fill_color\":{\"value\":\"#66c2a5\"},\"left\":{\"field\":\"start_time\"},\"line_alpha\":{\"value\":0.1},\"right\":{\"field\":\"end_time\"},\"top\":{\"field\":\"top\"}},\"id\":\"1328\",\"type\":\"Quad\"},{\"attributes\":{\"bottom\":{\"field\":\"bottom\"},\"fill_alpha\":{\"field\":\"fill_alpha\"},\"fill_color\":{\"value\":\"#d53e4f\"},\"left\":{\"field\":\"start_time\"},\"right\":{\"field\":\"end_time\"},\"top\":{\"field\":\"top\"}},\"id\":\"1225\",\"type\":\"Quad\"},{\"attributes\":{\"data\":{\"bottom\":{\"__ndarray__\":\"ZmZmZmYmUEBmZmZmZiZQQGZmZmZmJlBAZmZmZmYmUEBmZmZmZiZQQGZmZmZmJlBAZmZmZmYmUEBmZmZmZiZRQGZmZmZmJlFAZmZmZmYmUUBmZmZmZiZRQGZmZmZmJlFAZmZmZmYmUUBmZmZmZiZRQGZmZmZmJlFAZmZmZmYmUUBmZmZmZiZRQGZmZmZmJlFAZmZmZmamUEBmZmZmZiZRQGZmZmZmJlFAZmZmZmYmUUBmZmZmZqZQQGZmZmZmJlFAZmZmZmamUEBmZmZmZiZRQGZmZmZmplBAZmZmZmYmUUBmZmZmZqZQQGZmZmZmJlFAZmZmZmYmUUBmZmZmZiZRQGZmZmZmJlFAZmZmZmYmUUBmZmZmZiZRQGZmZmZmJlFAZmZmZmYmUUBmZmZmZqZRQGZmZmZmplFAZmZmZmamUUBmZmZmZqZRQGZmZmZmplFAZmZmZmamUUBmZmZmZqZRQGZmZmZmplFAZmZmZmamUUBmZmZmZqZRQGZmZmZmplFAZmZmZmamUUBmZmZmZqZRQGZmZmZm5lFAZmZmZmbmUUBmZmZmZuZRQGZmZmZm5lFAZmZmZmbmUUBmZmZmZuZRQGZmZmZm5lFAZmZmZmbmUUBmZmZmZuZRQGZmZmZm5lFAZmZmZmbmUUBmZmZmZuZRQGZmZmZm5lFAZmZmZmbmUUBmZmZmZuZRQGZmZmZm5lFA\",\"dtype\":\"float64\",\"order\":\"little\",\"shape\":[66]},\"duration\":{\"__ndarray__\":\"AAAAAAAA2D8AAAAAAADQPwAAAAAAANA/AAAAAAAA0D8AAAAAAADQPwAAAAAAANA/AAAAAAAA0D8AAAAAAADYPwAAAAAAANA/AAAAAAAA0D8AVVVVVVXNPwAAAAAAANA/AFZVVVVVzT8Aq6qqqqrKPwAAAAAAANg/AAAAAAAA0D8AAAAAAADAPwCrqqqqqt4/AAAAAAAAwD8AAAAAAADAPwAAAAAAAMA/AFRVVVVVpT8AAAAAAADQPwAAAAAAANA/AAAAAAAA0D8AAAAAAADQPwAAAAAAANA/AAAAAAAA0D8AAAAAAADQPwBVVVVVVc0/AAAAAAAA2D8AVlVVVVXFPwBWVVVVVc0/AFZVVVVVxT8AVlVVVVXNPwAAAAAAANA/AKuqqqqqyj8AAAAAAACwPwAAAAAAALA/AAAAAAAAsD8AAAAAAACwPwAAAAAAALA/AAAAAAAAsD8AAAAAAACwPwAAAAAAALA/AAAAAAAAsD8AAAAAAACwPwAAAAAAALA/AAAAAAAAsD8AAAAAAACwPwAAAAAAAMA/AAAAAAAAwD8AAAAAAADAPwAAAAAAAMA/AAAAAAAAwD8AAAAAAADAPwAAAAAAAMA/AAAAAAAAwD8AAAAAAACwPwBWVVVVVbU/AFZVVVVVtT8AVlVVVVW1PwCqqqqqqro/AFZVVVVVtT8AVlVVVVW1PwBWVVVVVbU/\",\"dtype\":\"float64\",\"order\":\"little\",\"shape\":[66]},\"end_time\":{\"__ndarray__\":\"q6qqqqoyQEAAAAAAAGBAQAAAAAAAgEBAAAAAAACgQEAAAAAAAMBAQAAAAAAA4EBAAAAAAAAAQUCrqqqqqjJBQFVVVVVVXUFAAAAAAACAQUAAAAAAAKBBQKuqqqqqwkFAq6qqqqriQUAAAAAAAABCQKuqqqqqMkJAVVVVVVVdQkCrqqqqqnJCQKuqqqqqukJAVVVVVVXNQkAAAAAAAOBCQFVVVVVV9UJAAAAAAAAAQ0CrqqqqqiJDQKuqqqqqQkNAq6qqqqpiQ0CrqqqqqoJDQKuqqqqqokNAq6qqqqrCQ0CrqqqqquJDQAAAAAAAAERAq6qqqqoyRECrqqqqqlJEQKuqqqqqekRAq6qqqqqSRECrqqqqqrpEQFVVVVVV3URAq6qqqqr6REAAAAAAAChHQAAAAAAAOEdAAAAAAABIR0AAAAAAAFhHQAAAAAAAaEdAAAAAAAB4R0AAAAAAAIhHQAAAAAAAmEdAAAAAAACoR0AAAAAAALhHQAAAAAAAyEdAAAAAAADYR0AAAAAAAOhHQKuqqqqqEklAAAAAAAAwSUAAAAAAAFBJQAAAAAAAcElAAAAAAACQSUAAAAAAALBJQAAAAAAA0ElAAAAAAADwSUAAAAAAAChKQKuqqqqqOkpAq6qqqqpKSkCrqqqqqmpKQFVVVVVVjUpAq6qqqqqqSkCrqqqqqspKQKuqqqqq6kpA\",\"dtype\":\"float64\",\"order\":\"little\",\"shape\":[66]},\"fill_alpha\":{\"__ndarray__\":\"AAAAAABA6D8AAAAAAEDsPwAAAAAAQOg/AAAAAABA7D8AAAAAAEDoPwAAAAAAQOw/AAAAAABA6D8AAAAAAEDoPwAAAAAAQOQ/AAAAAABA6D8AAAAAAEDkPwAAAAAAQOg/AAAAAABA5D8AAAAAAEDoPwAAAAAAQOg/AAAAAABA5D8AAAAAAEDoPwAAAAAAQOg/AAAAAABA5D8AAAAAAEDoPwAAAAAAQOQ/AAAAAABA6D8AAAAAAEDoPwAAAAAAQOQ/AAAAAABA6D8AAAAAAEDkPwAAAAAAQOg/AAAAAABA5D8AAAAAAEDoPwAAAAAAQOQ/AAAAAABA6D8AAAAAAEDkPwAAAAAAQOg/AAAAAABA5D8AAAAAAEDkPwAAAAAAQOg/AAAAAABA5D8AAAAAAEDoPwAAAAAAQOw/AAAAAABA6D8AAAAAAEDsPwAAAAAAQOg/AAAAAABA7D8AAAAAAEDoPwAAAAAAQOw/AAAAAABA6D8AAAAAAEDoPwAAAAAAQOw/AAAAAABA6D8AAAAAAEDoPwAAAAAAQOg/AAAAAABA5D8AAAAAAEDoPwAAAAAAQOQ/AAAAAABA6D8AAAAAAEDkPwAAAAAAQOg/AAAAAABA5D8AAAAAAEDoPwAAAAAAQOQ/AAAAAABA6D8AAAAAAEDkPwAAAAAAQOg/AAAAAABA6D8AAAAAAEDoPwAAAAAAQOg/\",\"dtype\":\"float64\",\"order\":\"little\",\"shape\":[66]},\"index\":[520,526,530,534,538,541,545,548,552,557,561,564,568,571,574,578,584,585,591,595,598,599,601,605,608,612,616,620,623,627,631,636,640,644,649,653,657,733,736,737,741,742,746,748,752,753,757,758,763,764,793,796,797,800,802,805,808,811,815,817,818,821,824,827,830,833],\"instrument\":[17,17,17,17,17,17,17,17,17,17,17,17,17,17,17,17,17,17,17,17,17,17,17,17,17,17,17,17,17,17,17,17,17,17,17,17,17,17,17,17,17,17,17,17,17,17,17,17,17,17,17,17,17,17,17,17,17,17,17,17,17,17,17,17,17,17],\"pitch\":[65,65,65,65,65,65,65,69,69,69,69,69,69,69,69,69,69,69,67,69,69,69,67,69,67,69,67,69,67,69,69,69,69,69,69,69,69,71,71,71,71,71,71,71,71,71,71,71,71,71,72,72,72,72,72,72,72,72,72,72,72,72,72,72,72,72],\"program\":[75,75,75,75,75,75,75,75,75,75,75,75,75,75,75,75,75,75,75,75,75,75,75,75,75,75,75,75,75,75,75,75,75,75,75,75,75,75,75,75,75,75,75,75,75,75,75,75,75,75,75,75,75,75,75,75,75,75,75,75,75,75,75,75,75,75],\"start_time\":{\"__ndarray__\":\"q6qqqqoCQEAAAAAAAEBAQAAAAAAAYEBAAAAAAACAQEAAAAAAAKBAQAAAAAAAwEBAAAAAAADgQECrqqqqqgJBQFVVVVVVPUFAAAAAAABgQUCrqqqqqoJBQKuqqqqqokFAVVVVVVXFQUBVVVVVVeVBQKuqqqqqAkJAVVVVVVU9QkCrqqqqqmJCQFVVVVVVfUJAVVVVVVW9QkAAAAAAANBCQFVVVVVV5UJAq6qqqqr6QkCrqqqqqgJDQKuqqqqqIkNAq6qqqqpCQ0CrqqqqqmJDQKuqqqqqgkNAq6qqqqqiQ0CrqqqqqsJDQKuqqqqq4kNAq6qqqqoCREBVVVVVVT1EQFVVVVVVXURAVVVVVVV9REBVVVVVVZ1EQFVVVVVVvURAAAAAAADgREAAAAAAACBHQAAAAAAAMEdAAAAAAABAR0AAAAAAAFBHQAAAAAAAYEdAAAAAAABwR0AAAAAAAIBHQAAAAAAAkEdAAAAAAACgR0AAAAAAALBHQAAAAAAAwEdAAAAAAADQR0AAAAAAAOBHQKuqqqqqAklAAAAAAAAgSUAAAAAAAEBJQAAAAAAAYElAAAAAAACASUAAAAAAAKBJQAAAAAAAwElAAAAAAADgSUAAAAAAACBKQAAAAAAAMEpAAAAAAABASkAAAAAAAGBKQAAAAAAAgEpAAAAAAACgSkAAAAAAAMBKQAAAAAAA4EpA\",\"dtype\":\"float64\",\"order\":\"little\",\"shape\":[66]},\"top\":{\"__ndarray__\":\"mpmZmZlZUECamZmZmVlQQJqZmZmZWVBAmpmZmZlZUECamZmZmVlQQJqZmZmZWVBAmpmZmZlZUECamZmZmVlRQJqZmZmZWVFAmpmZmZlZUUCamZmZmVlRQJqZmZmZWVFAmpmZmZlZUUCamZmZmVlRQJqZmZmZWVFAmpmZmZlZUUCamZmZmVlRQJqZmZmZWVFAmpmZmZnZUECamZmZmVlRQJqZmZmZWVFAmpmZmZlZUUCamZmZmdlQQJqZmZmZWVFAmpmZmZnZUECamZmZmVlRQJqZmZmZ2VBAmpmZmZlZUUCamZmZmdlQQJqZmZmZWVFAmpmZmZlZUUCamZmZmVlRQJqZmZmZWVFAmpmZmZlZUUCamZmZmVlRQJqZmZmZWVFAmpmZmZlZUUCamZmZmdlRQJqZmZmZ2VFAmpmZmZnZUUCamZmZmdlRQJqZmZmZ2VFAmpmZmZnZUUCamZmZmdlRQJqZmZmZ2VFAmpmZmZnZUUCamZmZmdlRQJqZmZmZ2VFAmpmZmZnZUUCamZmZmdlRQJqZmZmZGVJAmpmZmZkZUkCamZmZmRlSQJqZmZmZGVJAmpmZmZkZUkCamZmZmRlSQJqZmZmZGVJAmpmZmZkZUkCamZmZmRlSQJqZmZmZGVJAmpmZmZkZUkCamZmZmRlSQJqZmZmZGVJAmpmZmZkZUkCamZmZmRlSQJqZmZmZGVJA\",\"dtype\":\"float64\",\"order\":\"little\",\"shape\":[66]},\"velocity\":[97,113,97,113,97,113,97,97,81,97,81,97,81,97,97,81,97,97,81,97,81,97,97,81,97,81,97,81,97,81,97,81,97,81,81,97,81,97,113,97,113,97,113,97,113,97,97,113,97,97,97,81,97,81,97,81,97,81,97,81,97,81,97,97,97,97]},\"selected\":{\"id\":\"1399\"},\"selection_policy\":{\"id\":\"1400\"}},\"id\":\"1319\",\"type\":\"ColumnDataSource\"},{\"attributes\":{\"active_drag\":\"auto\",\"active_inspect\":\"auto\",\"active_multi\":null,\"active_scroll\":\"auto\",\"active_tap\":\"auto\",\"tools\":[{\"id\":\"1208\"},{\"id\":\"1209\"},{\"id\":\"1210\"},{\"id\":\"1211\"},{\"id\":\"1212\"}]},\"id\":\"1214\",\"type\":\"Toolbar\"},{\"attributes\":{},\"id\":\"1212\",\"type\":\"SaveTool\"},{\"attributes\":{\"bottom\":{\"field\":\"bottom\"},\"fill_alpha\":{\"field\":\"fill_alpha\"},\"fill_color\":{\"value\":\"#e6f598\"},\"left\":{\"field\":\"start_time\"},\"right\":{\"field\":\"end_time\"},\"top\":{\"field\":\"top\"}},\"id\":\"1303\",\"type\":\"Quad\"},{\"attributes\":{\"data_source\":{\"id\":\"1301\"},\"glyph\":{\"id\":\"1303\"},\"hover_glyph\":null,\"muted_glyph\":null,\"nonselection_glyph\":{\"id\":\"1304\"},\"selection_glyph\":null,\"view\":{\"id\":\"1306\"}},\"id\":\"1305\",\"type\":\"GlyphRenderer\"},{\"attributes\":{\"data\":{\"bottom\":{\"__ndarray__\":\"ZmZmZmYmUEDNzMzMzMxOQM3MzMzMzE5AzczMzMzMTkDNzMzMzMxOQM3MzMzMzE1AzczMzMxMTEBmZmZmZiZQQGZmZmZmJlBAzczMzMzMTUBmZmZmZiZQQM3MzMzMzE1AZmZmZmYmUEDNzMzMzMxNQGZmZmZmJlBAZmZmZmYmUEDNzMzMzExMQGZmZmZmJlBAzczMzMzMTUDNzMzMzMxOQM3MzMzMzE1AzczMzMzMTUDNzMzMzExMQM3MzMzMzE5AzczMzMzMTkDNzMzMzMxOQM3MzMzMzE5AzczMzMzMTkDNzMzMzMxOQM3MzMzMzE5AzczMzMzMTkDNzMzMzMxOQA==\",\"dtype\":\"float64\",\"order\":\"little\",\"shape\":[32]},\"duration\":{\"__ndarray__\":\"VlVVVVVVxT9UVVVVVVXFPwAAAAAAAMA/UFVVVVVVxT9YVVVVVVXFP1BVVVVVVcU/WFVVVVVVxT8AAAAAAADAPwAAAAAAANA/AAAAAAAA0D9gVVVVVVXFP2BVVVVVVcU/UFVVVVVV1T8AAAAAAADgP2BVVVVVVcU/UFVVVVVV1T8AAAAAAADgP2BVVVVVVcU/AAAAAAAAwD8AAAAAAADQP4BVVVVVVbU/UFVVVVVV1T9QVVVVVVXVPwAAAAAAAMA/AAAAAAAAwD8AAAAAAADAPwAAAAAAAMA/AAAAAAAAwD8AAAAAAADAPwAAAAAAAMA/AAAAAAAAwD8AAAAAAADAPw==\",\"dtype\":\"float64\",\"order\":\"little\",\"shape\":[32]},\"end_time\":{\"__ndarray__\":\"AAAAAAAA4D9VVVVVVVXlP6qqqqqqqu4/qqqqqqqq8j8AAAAAAAD4P6qqqqqqqvo/AAAAAAAAAECrqqqqqqoDQAAAAAAAAAZAAAAAAAAABkAAAAAAAAAIQAAAAAAAAAhAqqqqqqqqCkAAAAAAAAAMQAAAAAAAAAxAqqqqqqqqDkAAAAAAAAAQQAAAAAAAABBAVVVVVVXVEUAAAAAAAAATQKuqqqqqqhNAVVVVVVVVFUBVVVVVVVUXQFVVVVVV1RlAAAAAAACAGkBVVVVVVdUbQAAAAAAAgBxAqqqqqqoqHUBVVVVVVdUdQAAAAAAAgB5AqqqqqqoqH0BVVVVVVdUfQA==\",\"dtype\":\"float64\",\"order\":\"little\",\"shape\":[32]},\"fill_alpha\":{\"__ndarray__\":\"AAAAAABA5D8AAAAAAEDgPwAAAAAAQOQ/AAAAAABA4D8AAAAAAEDgPwAAAAAAQOQ/AAAAAABA4D8AAAAAAEDkPwAAAAAAQOg/AAAAAABA5D8AAAAAAEDkPwAAAAAAQOA/AAAAAABA6D8AAAAAAEDkPwAAAAAAQOQ/AAAAAABA6D8AAAAAAEDgPwAAAAAAQOQ/AAAAAABA5D8AAAAAAEDoPwAAAAAAQOQ/AAAAAABA6D8AAAAAAEDkPwAAAAAAQOQ/AAAAAABA6D8AAAAAAEDoPwAAAAAAQOg/AAAAAABA6D8AAAAAAEDoPwAAAAAAQOg/AAAAAABA6D8AAAAAAEDoPw==\",\"dtype\":\"float64\",\"order\":\"little\",\"shape\":[32]},\"index\":[4,7,13,17,20,23,29,34,37,38,43,44,48,49,52,55,56,61,66,69,75,79,84,94,97,103,107,109,111,114,119,121],\"instrument\":[3,3,3,3,3,3,3,3,3,3,3,3,3,3,3,3,3,3,3,3,3,3,3,3,3,3,3,3,3,3,3,3],\"pitch\":[65,62,62,62,62,60,57,65,65,60,65,60,65,60,65,65,57,65,60,62,60,60,57,62,62,62,62,62,62,62,62,62],\"program\":[71,71,71,71,71,71,71,71,71,71,71,71,71,71,71,71,71,71,71,71,71,71,71,71,71,71,71,71,71,71,71,71],\"start_time\":{\"__ndarray__\":\"VVVVVVVV1T8AAAAAAADgP6qqqqqqquo/AAAAAAAA8D9VVVVVVVX1PwAAAAAAAPg/VVVVVVVV/T+rqqqqqqoCQAAAAAAAAARAAAAAAAAABECqqqqqqqoGQKqqqqqqqgZAAAAAAAAACEAAAAAAAAAIQKqqqqqqqgpAAAAAAAAADEAAAAAAAAAMQKqqqqqqqg5AVVVVVVVVEUAAAAAAAAASQFVVVVVVVRNAAAAAAAAAFEAAAAAAAAAWQFVVVVVVVRlAAAAAAAAAGkBVVVVVVVUbQAAAAAAAABxAqqqqqqqqHEBVVVVVVVUdQAAAAAAAAB5AqqqqqqqqHkBVVVVVVVUfQA==\",\"dtype\":\"float64\",\"order\":\"little\",\"shape\":[32]},\"top\":{\"__ndarray__\":\"mpmZmZlZUEAzMzMzMzNPQDMzMzMzM09AMzMzMzMzT0AzMzMzMzNPQDMzMzMzM05AMzMzMzOzTECamZmZmVlQQJqZmZmZWVBAMzMzMzMzTkCamZmZmVlQQDMzMzMzM05AmpmZmZlZUEAzMzMzMzNOQJqZmZmZWVBAmpmZmZlZUEAzMzMzM7NMQJqZmZmZWVBAMzMzMzMzTkAzMzMzMzNPQDMzMzMzM05AMzMzMzMzTkAzMzMzM7NMQDMzMzMzM09AMzMzMzMzT0AzMzMzMzNPQDMzMzMzM09AMzMzMzMzT0AzMzMzMzNPQDMzMzMzM09AMzMzMzMzT0AzMzMzMzNPQA==\",\"dtype\":\"float64\",\"order\":\"little\",\"shape\":[32]},\"velocity\":[81,65,81,65,65,81,65,81,97,81,81,65,97,81,81,97,65,81,81,97,81,97,81,81,97,97,97,97,97,97,97,97]},\"selected\":{\"id\":\"1371\"},\"selection_policy\":{\"id\":\"1372\"}},\"id\":\"1235\",\"type\":\"ColumnDataSource\"},{\"attributes\":{},\"id\":\"1211\",\"type\":\"ResetTool\"},{\"attributes\":{\"source\":{\"id\":\"1229\"}},\"id\":\"1234\",\"type\":\"CDSView\"},{\"attributes\":{\"source\":{\"id\":\"1301\"}},\"id\":\"1306\",\"type\":\"CDSView\"},{\"attributes\":{\"bottom\":{\"field\":\"bottom\"},\"fill_alpha\":{\"value\":0.1},\"fill_color\":{\"value\":\"#e6f598\"},\"left\":{\"field\":\"start_time\"},\"line_alpha\":{\"value\":0.1},\"right\":{\"field\":\"end_time\"},\"top\":{\"field\":\"top\"}},\"id\":\"1304\",\"type\":\"Quad\"},{\"attributes\":{\"interval\":12},\"id\":\"1222\",\"type\":\"SingleIntervalTicker\"},{\"attributes\":{},\"id\":\"1380\",\"type\":\"UnionRenderers\"},{\"attributes\":{\"bottom\":{\"field\":\"bottom\"},\"fill_alpha\":{\"field\":\"fill_alpha\"},\"fill_color\":{\"value\":\"#3288bd\"},\"left\":{\"field\":\"start_time\"},\"right\":{\"field\":\"end_time\"},\"top\":{\"field\":\"top\"}},\"id\":\"1315\",\"type\":\"Quad\"},{\"attributes\":{\"axis_label\":\"time (sec)\",\"formatter\":{\"id\":\"1364\"},\"ticker\":{\"id\":\"1201\"}},\"id\":\"1200\",\"type\":\"LinearAxis\"},{\"attributes\":{\"data_source\":{\"id\":\"1229\"},\"glyph\":{\"id\":\"1231\"},\"hover_glyph\":null,\"muted_glyph\":null,\"nonselection_glyph\":{\"id\":\"1232\"},\"selection_glyph\":null,\"view\":{\"id\":\"1234\"}},\"id\":\"1233\",\"type\":\"GlyphRenderer\"},{\"attributes\":{\"bottom\":{\"field\":\"bottom\"},\"fill_alpha\":{\"field\":\"fill_alpha\"},\"fill_color\":{\"value\":\"#d53e4f\"},\"left\":{\"field\":\"start_time\"},\"right\":{\"field\":\"end_time\"},\"top\":{\"field\":\"top\"}},\"id\":\"1309\",\"type\":\"Quad\"},{\"attributes\":{\"data_source\":{\"id\":\"1307\"},\"glyph\":{\"id\":\"1309\"},\"hover_glyph\":null,\"muted_glyph\":null,\"nonselection_glyph\":{\"id\":\"1310\"},\"selection_glyph\":null,\"view\":{\"id\":\"1312\"}},\"id\":\"1311\",\"type\":\"GlyphRenderer\"},{\"attributes\":{},\"id\":\"1201\",\"type\":\"BasicTicker\"},{\"attributes\":{\"bottom\":{\"field\":\"bottom\"},\"fill_alpha\":{\"field\":\"fill_alpha\"},\"fill_color\":{\"value\":\"#fdae61\"},\"left\":{\"field\":\"start_time\"},\"right\":{\"field\":\"end_time\"},\"top\":{\"field\":\"top\"}},\"id\":\"1333\",\"type\":\"Quad\"},{\"attributes\":{\"bottom\":{\"field\":\"bottom\"},\"fill_alpha\":{\"value\":0.1},\"fill_color\":{\"value\":\"#3288bd\"},\"left\":{\"field\":\"start_time\"},\"line_alpha\":{\"value\":0.1},\"right\":{\"field\":\"end_time\"},\"top\":{\"field\":\"top\"}},\"id\":\"1232\",\"type\":\"Quad\"},{\"attributes\":{\"bottom\":{\"field\":\"bottom\"},\"fill_alpha\":{\"value\":0.1},\"fill_color\":{\"value\":\"#d53e4f\"},\"left\":{\"field\":\"start_time\"},\"line_alpha\":{\"value\":0.1},\"right\":{\"field\":\"end_time\"},\"top\":{\"field\":\"top\"}},\"id\":\"1226\",\"type\":\"Quad\"},{\"attributes\":{\"source\":{\"id\":\"1307\"}},\"id\":\"1312\",\"type\":\"CDSView\"},{\"attributes\":{\"bottom\":{\"field\":\"bottom\"},\"fill_alpha\":{\"value\":0.1},\"fill_color\":{\"value\":\"#abdda4\"},\"left\":{\"field\":\"start_time\"},\"line_alpha\":{\"value\":0.1},\"right\":{\"field\":\"end_time\"},\"top\":{\"field\":\"top\"}},\"id\":\"1256\",\"type\":\"Quad\"},{\"attributes\":{\"bottom\":{\"field\":\"bottom\"},\"fill_alpha\":{\"value\":0.1},\"fill_color\":{\"value\":\"#d53e4f\"},\"left\":{\"field\":\"start_time\"},\"line_alpha\":{\"value\":0.1},\"right\":{\"field\":\"end_time\"},\"top\":{\"field\":\"top\"}},\"id\":\"1310\",\"type\":\"Quad\"},{\"attributes\":{\"data\":{\"bottom\":{\"__ndarray__\":\"zczMzMxMREDNzMzMzMxCQM3MzMzMTERAzczMzMzMQkDNzMzMzExEQM3MzMzMzEFAzczMzMxMREDNzMzMzMxBQM3MzMzMTEZAzczMzMzMQ0DNzMzMzExGQM3MzMzMTEZAzczMzMxMRUDNzMzMzMxCQM3MzMzMTEVAzczMzMzMQkA=\",\"dtype\":\"float64\",\"order\":\"little\",\"shape\":[16]},\"duration\":{\"__ndarray__\":\"AAAAAAAA4D8AAAAAAADgPwAAAAAAAOA/AAAAAAAA4D8AAAAAAADgPwAAAAAAAOA/AAAAAAAA4D8AAAAAAADgPwAAAAAAAOA/AAAAAAAA4D8AAAAAAADgPwAAAAAAAOA/AAAAAAAA4D8AAAAAAADgPwAAAAAAAOA/AAAAAAAA4D8=\",\"dtype\":\"float64\",\"order\":\"little\",\"shape\":[16]},\"end_time\":{\"__ndarray__\":\"AAAAAAAA4D8AAAAAAADwPwAAAAAAAPg/AAAAAAAAAEAAAAAAAAAEQAAAAAAAAAhAAAAAAAAADEAAAAAAAAAQQAAAAAAAABJAAAAAAAAAFEAAAAAAAAAWQAAAAAAAABhAAAAAAAAAGkAAAAAAAAAcQAAAAAAAAB5AAAAAAAAAIEA=\",\"dtype\":\"float64\",\"order\":\"little\",\"shape\":[16]},\"fill_alpha\":{\"__ndarray__\":\"AAAAAABA5D8AAAAAAEDgPwAAAAAAQOA/AAAAAABA5D8AAAAAAEDkPwAAAAAAQOA/AAAAAABA5D8AAAAAAEDgPwAAAAAAQOQ/AAAAAABA4D8AAAAAAEDkPwAAAAAAQOA/AAAAAABA5D8AAAAAAEDgPwAAAAAAQOQ/AAAAAABA4D8=\",\"dtype\":\"float64\",\"order\":\"little\",\"shape\":[16]},\"index\":[1,6,15,22,31,36,46,54,63,68,77,83,91,96,105,113],\"instrument\":[2,2,2,2,2,2,2,2,2,2,2,2,2,2,2,2],\"pitch\":[41,38,41,38,41,36,41,36,45,40,45,45,43,38,43,38],\"program\":[32,32,32,32,32,32,32,32,32,32,32,32,32,32,32,32],\"start_time\":{\"__ndarray__\":\"AAAAAAAAAAAAAAAAAADgPwAAAAAAAPA/AAAAAAAA+D8AAAAAAAAAQAAAAAAAAARAAAAAAAAACEAAAAAAAAAMQAAAAAAAABBAAAAAAAAAEkAAAAAAAAAUQAAAAAAAABZAAAAAAAAAGEAAAAAAAAAaQAAAAAAAABxAAAAAAAAAHkA=\",\"dtype\":\"float64\",\"order\":\"little\",\"shape\":[16]},\"top\":{\"__ndarray__\":\"MzMzMzOzREAzMzMzMzNDQDMzMzMzs0RAMzMzMzMzQ0AzMzMzM7NEQDMzMzMzM0JAMzMzMzOzREAzMzMzMzNCQDMzMzMzs0ZAMzMzMzMzREAzMzMzM7NGQDMzMzMzs0ZAMzMzMzOzRUAzMzMzMzNDQDMzMzMzs0VAMzMzMzMzQ0A=\",\"dtype\":\"float64\",\"order\":\"little\",\"shape\":[16]},\"velocity\":[81,65,65,81,81,65,81,65,81,65,81,65,81,65,81,65]},\"selected\":{\"id\":\"1369\"},\"selection_policy\":{\"id\":\"1370\"}},\"id\":\"1229\",\"type\":\"ColumnDataSource\"},{\"attributes\":{\"interval\":12},\"id\":\"1220\",\"type\":\"SingleIntervalTicker\"},{\"attributes\":{\"data_source\":{\"id\":\"1223\"},\"glyph\":{\"id\":\"1225\"},\"hover_glyph\":null,\"muted_glyph\":null,\"nonselection_glyph\":{\"id\":\"1226\"},\"selection_glyph\":null,\"view\":{\"id\":\"1228\"}},\"id\":\"1227\",\"type\":\"GlyphRenderer\"},{\"attributes\":{\"bottom\":{\"field\":\"bottom\"},\"fill_alpha\":{\"value\":0.1},\"fill_color\":{\"value\":\"#3288bd\"},\"left\":{\"field\":\"start_time\"},\"line_alpha\":{\"value\":0.1},\"right\":{\"field\":\"end_time\"},\"top\":{\"field\":\"top\"}},\"id\":\"1316\",\"type\":\"Quad\"}],\"root_ids\":[\"1191\"]},\"title\":\"Bokeh Application\",\"version\":\"2.1.1\"}};\n",
              "  var render_items = [{\"docid\":\"681db106-bc02-40d9-87b2-560d78c4aa46\",\"root_ids\":[\"1191\"],\"roots\":{\"1191\":\"5947b156-91ff-403a-8f3d-e4a50a4262ee\"}}];\n",
              "  root.Bokeh.embed.embed_items_notebook(docs_json, render_items);\n",
              "\n",
              "  }\n",
              "  if (root.Bokeh !== undefined) {\n",
              "    embed_document(root);\n",
              "  } else {\n",
              "    var attempts = 0;\n",
              "    var timer = setInterval(function(root) {\n",
              "      if (root.Bokeh !== undefined) {\n",
              "        clearInterval(timer);\n",
              "        embed_document(root);\n",
              "      } else {\n",
              "        attempts++;\n",
              "        if (attempts > 100) {\n",
              "          clearInterval(timer);\n",
              "          console.log(\"Bokeh: ERROR: Unable to run BokehJS code because BokehJS library is missing\");\n",
              "        }\n",
              "      }\n",
              "    }, 10, root)\n",
              "  }\n",
              "})(window);"
            ],
            "application/vnd.bokehjs_exec.v0+json": ""
          },
          "metadata": {
            "tags": [],
            "application/vnd.bokehjs_exec.v0+json": {
              "id": "1191"
            }
          }
        }
      ]
    },
    {
      "cell_type": "markdown",
      "metadata": {
        "id": "tmBoQmdPcrMb",
        "colab_type": "text"
      },
      "source": [
        "### Unconditioned Model"
      ]
    },
    {
      "cell_type": "code",
      "metadata": {
        "id": "HXcvwW97coYq",
        "colab_type": "code",
        "colab": {
          "base_uri": "https://localhost:8080/",
          "height": 496
        },
        "outputId": "548a8dca-5a5a-4cfb-d0ac-dd8288272b03"
      },
      "source": [
        "config = configs.CONFIG_MAP['hier-multiperf_vel_1bar_med']\n",
        "model = TrainedModel(\n",
        "    config, batch_size = BATCH_SIZE,\n",
        "    checkpoint_dir_or_path = '/content/model_fb256.ckpt')\n",
        "model._config.data_converter._max_tensors_per_input = None"
      ],
      "execution_count": 11,
      "outputs": [
        {
          "output_type": "stream",
          "text": [
            "INFO:tensorflow:Building MusicVAE model with HierarchicalLstmEncoder, HierarchicalLstmDecoder, and hparams:\n",
            "{'max_seq_len': 512, 'z_size': 512, 'free_bits': 0.0, 'max_beta': 1.0, 'beta_rate': 0.0, 'batch_size': 4, 'grad_clip': 1.0, 'clip_mode': 'global_norm', 'grad_norm_clip_to_zero': 10000, 'learning_rate': 0.001, 'decay_rate': 0.9999, 'min_learning_rate': 1e-05, 'conditional': True, 'dec_rnn_size': [512, 512, 512], 'enc_rnn_size': [1024], 'dropout_keep_prob': 1.0, 'sampling_schedule': 'constant', 'sampling_rate': 0.0, 'use_cudnn': False, 'residual_encoder': False, 'residual_decoder': False, 'control_preprocessing_rnn_size': [256]}\n",
            "INFO:tensorflow:\n",
            "Hierarchical Encoder:\n",
            "  input length: 512\n",
            "  level lengths: [64, 8]\n",
            "\n",
            "INFO:tensorflow:Level 0 splits: 8\n",
            "INFO:tensorflow:\n",
            "Encoder Cells (bidirectional):\n",
            "  units: [1024]\n",
            "\n",
            "INFO:tensorflow:Level 1 splits: 1\n",
            "INFO:tensorflow:\n",
            "Encoder Cells (bidirectional):\n",
            "  units: [1024]\n",
            "\n",
            "INFO:tensorflow:\n",
            "Hierarchical Decoder:\n",
            "  input length: 512\n",
            "  level output lengths: [8, 64]\n",
            "\n",
            "INFO:tensorflow:\n",
            "Decoder Cells:\n",
            "  units: [512, 512, 512]\n",
            "\n",
            "INFO:tensorflow:Restoring parameters from /content/model_fb256.ckpt\n"
          ],
          "name": "stdout"
        }
      ]
    },
    {
      "cell_type": "code",
      "metadata": {
        "id": "YQR5eTNkdB2x",
        "colab_type": "code",
        "colab": {
          "base_uri": "https://localhost:8080/",
          "height": 249
        },
        "outputId": "721c5ae1-d055-4624-d148-c4add274ea4a"
      },
      "source": [
        "temperature = 0.2 \n",
        "seqs = model.sample(n = BATCH_SIZE, length = TOTAL_STEPS, temperature = temperature)\n",
        "\n",
        "trim_sequences(seqs)\n",
        "play(seqs)"
      ],
      "execution_count": 13,
      "outputs": [
        {
          "output_type": "display_data",
          "data": {
            "text/html": [
              "<div id=\"id_7\"> </div>"
            ],
            "text/plain": [
              "<IPython.core.display.HTML object>"
            ]
          },
          "metadata": {
            "tags": []
          }
        },
        {
          "output_type": "display_data",
          "data": {
            "text/html": [
              "<div id=\"id_8\"> </div>"
            ],
            "text/plain": [
              "<IPython.core.display.HTML object>"
            ]
          },
          "metadata": {
            "tags": []
          }
        },
        {
          "output_type": "display_data",
          "data": {
            "text/html": [
              "<div id=\"id_9\"> </div>"
            ],
            "text/plain": [
              "<IPython.core.display.HTML object>"
            ]
          },
          "metadata": {
            "tags": []
          }
        },
        {
          "output_type": "display_data",
          "data": {
            "text/html": [
              "<div id=\"id_10\"> </div>"
            ],
            "text/plain": [
              "<IPython.core.display.HTML object>"
            ]
          },
          "metadata": {
            "tags": []
          }
        }
      ]
    },
    {
      "cell_type": "code",
      "metadata": {
        "id": "fBDVuAJbdNP8",
        "colab_type": "code",
        "colab": {
          "base_uri": "https://localhost:8080/",
          "height": 275
        },
        "outputId": "003bfe21-6a9a-4b27-b256-8aad39132afc"
      },
      "source": [
        "### Interpolation Between Random Samples\n",
        "\n",
        "num_bars = 32 \n",
        "temperature = 0.2 \n",
        "\n",
        "z1 = np.random.normal(size = [Z_SIZE])\n",
        "z2 = np.random.normal(size = [Z_SIZE])\n",
        "z = np.array([slerp(z1, z2, t)\n",
        "              for t in np.linspace(0, 1, num_bars)])\n",
        "\n",
        "seqs = model.decode(length = TOTAL_STEPS, z = z, temperature = temperature)\n",
        "\n",
        "trim_sequences(seqs)\n",
        "fix_instruments_for_concatenation(seqs)\n",
        "interp_ns = concatenate_sequences(seqs)\n",
        "\n",
        "play(interp_ns)\n",
        "mm.plot_sequence(interp_ns)"
      ],
      "execution_count": 14,
      "outputs": [
        {
          "output_type": "display_data",
          "data": {
            "text/html": [
              "<div id=\"id_11\"> </div>"
            ],
            "text/plain": [
              "<IPython.core.display.HTML object>"
            ]
          },
          "metadata": {
            "tags": []
          }
        },
        {
          "output_type": "display_data",
          "data": {
            "application/javascript": [
              "\n",
              "(function(root) {\n",
              "  function now() {\n",
              "    return new Date();\n",
              "  }\n",
              "\n",
              "  var force = true;\n",
              "\n",
              "  if (typeof root._bokeh_onload_callbacks === \"undefined\" || force === true) {\n",
              "    root._bokeh_onload_callbacks = [];\n",
              "    root._bokeh_is_loading = undefined;\n",
              "  }\n",
              "\n",
              "  var JS_MIME_TYPE = 'application/javascript';\n",
              "  var HTML_MIME_TYPE = 'text/html';\n",
              "  var EXEC_MIME_TYPE = 'application/vnd.bokehjs_exec.v0+json';\n",
              "  var CLASS_NAME = 'output_bokeh rendered_html';\n",
              "\n",
              "  /**\n",
              "   * Render data to the DOM node\n",
              "   */\n",
              "  function render(props, node) {\n",
              "    var script = document.createElement(\"script\");\n",
              "    node.appendChild(script);\n",
              "  }\n",
              "\n",
              "  /**\n",
              "   * Handle when an output is cleared or removed\n",
              "   */\n",
              "  function handleClearOutput(event, handle) {\n",
              "    var cell = handle.cell;\n",
              "\n",
              "    var id = cell.output_area._bokeh_element_id;\n",
              "    var server_id = cell.output_area._bokeh_server_id;\n",
              "    // Clean up Bokeh references\n",
              "    if (id != null && id in Bokeh.index) {\n",
              "      Bokeh.index[id].model.document.clear();\n",
              "      delete Bokeh.index[id];\n",
              "    }\n",
              "\n",
              "    if (server_id !== undefined) {\n",
              "      // Clean up Bokeh references\n",
              "      var cmd = \"from bokeh.io.state import curstate; print(curstate().uuid_to_server['\" + server_id + \"'].get_sessions()[0].document.roots[0]._id)\";\n",
              "      cell.notebook.kernel.execute(cmd, {\n",
              "        iopub: {\n",
              "          output: function(msg) {\n",
              "            var id = msg.content.text.trim();\n",
              "            if (id in Bokeh.index) {\n",
              "              Bokeh.index[id].model.document.clear();\n",
              "              delete Bokeh.index[id];\n",
              "            }\n",
              "          }\n",
              "        }\n",
              "      });\n",
              "      // Destroy server and session\n",
              "      var cmd = \"import bokeh.io.notebook as ion; ion.destroy_server('\" + server_id + \"')\";\n",
              "      cell.notebook.kernel.execute(cmd);\n",
              "    }\n",
              "  }\n",
              "\n",
              "  /**\n",
              "   * Handle when a new output is added\n",
              "   */\n",
              "  function handleAddOutput(event, handle) {\n",
              "    var output_area = handle.output_area;\n",
              "    var output = handle.output;\n",
              "\n",
              "    // limit handleAddOutput to display_data with EXEC_MIME_TYPE content only\n",
              "    if ((output.output_type != \"display_data\") || (!output.data.hasOwnProperty(EXEC_MIME_TYPE))) {\n",
              "      return\n",
              "    }\n",
              "\n",
              "    var toinsert = output_area.element.find(\".\" + CLASS_NAME.split(' ')[0]);\n",
              "\n",
              "    if (output.metadata[EXEC_MIME_TYPE][\"id\"] !== undefined) {\n",
              "      toinsert[toinsert.length - 1].firstChild.textContent = output.data[JS_MIME_TYPE];\n",
              "      // store reference to embed id on output_area\n",
              "      output_area._bokeh_element_id = output.metadata[EXEC_MIME_TYPE][\"id\"];\n",
              "    }\n",
              "    if (output.metadata[EXEC_MIME_TYPE][\"server_id\"] !== undefined) {\n",
              "      var bk_div = document.createElement(\"div\");\n",
              "      bk_div.innerHTML = output.data[HTML_MIME_TYPE];\n",
              "      var script_attrs = bk_div.children[0].attributes;\n",
              "      for (var i = 0; i < script_attrs.length; i++) {\n",
              "        toinsert[toinsert.length - 1].firstChild.setAttribute(script_attrs[i].name, script_attrs[i].value);\n",
              "        toinsert[toinsert.length - 1].firstChild.textContent = bk_div.children[0].textContent\n",
              "      }\n",
              "      // store reference to server id on output_area\n",
              "      output_area._bokeh_server_id = output.metadata[EXEC_MIME_TYPE][\"server_id\"];\n",
              "    }\n",
              "  }\n",
              "\n",
              "  function register_renderer(events, OutputArea) {\n",
              "\n",
              "    function append_mime(data, metadata, element) {\n",
              "      // create a DOM node to render to\n",
              "      var toinsert = this.create_output_subarea(\n",
              "        metadata,\n",
              "        CLASS_NAME,\n",
              "        EXEC_MIME_TYPE\n",
              "      );\n",
              "      this.keyboard_manager.register_events(toinsert);\n",
              "      // Render to node\n",
              "      var props = {data: data, metadata: metadata[EXEC_MIME_TYPE]};\n",
              "      render(props, toinsert[toinsert.length - 1]);\n",
              "      element.append(toinsert);\n",
              "      return toinsert\n",
              "    }\n",
              "\n",
              "    /* Handle when an output is cleared or removed */\n",
              "    events.on('clear_output.CodeCell', handleClearOutput);\n",
              "    events.on('delete.Cell', handleClearOutput);\n",
              "\n",
              "    /* Handle when a new output is added */\n",
              "    events.on('output_added.OutputArea', handleAddOutput);\n",
              "\n",
              "    /**\n",
              "     * Register the mime type and append_mime function with output_area\n",
              "     */\n",
              "    OutputArea.prototype.register_mime_type(EXEC_MIME_TYPE, append_mime, {\n",
              "      /* Is output safe? */\n",
              "      safe: true,\n",
              "      /* Index of renderer in `output_area.display_order` */\n",
              "      index: 0\n",
              "    });\n",
              "  }\n",
              "\n",
              "  // register the mime type if in Jupyter Notebook environment and previously unregistered\n",
              "  if (root.Jupyter !== undefined) {\n",
              "    var events = require('base/js/events');\n",
              "    var OutputArea = require('notebook/js/outputarea').OutputArea;\n",
              "\n",
              "    if (OutputArea.prototype.mime_types().indexOf(EXEC_MIME_TYPE) == -1) {\n",
              "      register_renderer(events, OutputArea);\n",
              "    }\n",
              "  }\n",
              "\n",
              "  \n",
              "  if (typeof (root._bokeh_timeout) === \"undefined\" || force === true) {\n",
              "    root._bokeh_timeout = Date.now() + 5000;\n",
              "    root._bokeh_failed_load = false;\n",
              "  }\n",
              "\n",
              "  var NB_LOAD_WARNING = {'data': {'text/html':\n",
              "     \"<div style='background-color: #fdd'>\\n\"+\n",
              "     \"<p>\\n\"+\n",
              "     \"BokehJS does not appear to have successfully loaded. If loading BokehJS from CDN, this \\n\"+\n",
              "     \"may be due to a slow or bad network connection. Possible fixes:\\n\"+\n",
              "     \"</p>\\n\"+\n",
              "     \"<ul>\\n\"+\n",
              "     \"<li>re-rerun `output_notebook()` to attempt to load from CDN again, or</li>\\n\"+\n",
              "     \"<li>use INLINE resources instead, as so:</li>\\n\"+\n",
              "     \"</ul>\\n\"+\n",
              "     \"<code>\\n\"+\n",
              "     \"from bokeh.resources import INLINE\\n\"+\n",
              "     \"output_notebook(resources=INLINE)\\n\"+\n",
              "     \"</code>\\n\"+\n",
              "     \"</div>\"}};\n",
              "\n",
              "  function display_loaded() {\n",
              "    var el = document.getElementById(null);\n",
              "    if (el != null) {\n",
              "      el.textContent = \"BokehJS is loading...\";\n",
              "    }\n",
              "    if (root.Bokeh !== undefined) {\n",
              "      if (el != null) {\n",
              "        el.textContent = \"BokehJS \" + root.Bokeh.version + \" successfully loaded.\";\n",
              "      }\n",
              "    } else if (Date.now() < root._bokeh_timeout) {\n",
              "      setTimeout(display_loaded, 100)\n",
              "    }\n",
              "  }\n",
              "\n",
              "\n",
              "  function run_callbacks() {\n",
              "    try {\n",
              "      root._bokeh_onload_callbacks.forEach(function(callback) {\n",
              "        if (callback != null)\n",
              "          callback();\n",
              "      });\n",
              "    } finally {\n",
              "      delete root._bokeh_onload_callbacks\n",
              "    }\n",
              "    console.debug(\"Bokeh: all callbacks have finished\");\n",
              "  }\n",
              "\n",
              "  function load_libs(css_urls, js_urls, callback) {\n",
              "    if (css_urls == null) css_urls = [];\n",
              "    if (js_urls == null) js_urls = [];\n",
              "\n",
              "    root._bokeh_onload_callbacks.push(callback);\n",
              "    if (root._bokeh_is_loading > 0) {\n",
              "      console.debug(\"Bokeh: BokehJS is being loaded, scheduling callback at\", now());\n",
              "      return null;\n",
              "    }\n",
              "    if (js_urls == null || js_urls.length === 0) {\n",
              "      run_callbacks();\n",
              "      return null;\n",
              "    }\n",
              "    console.debug(\"Bokeh: BokehJS not loaded, scheduling load and callback at\", now());\n",
              "    root._bokeh_is_loading = css_urls.length + js_urls.length;\n",
              "\n",
              "    function on_load() {\n",
              "      root._bokeh_is_loading--;\n",
              "      if (root._bokeh_is_loading === 0) {\n",
              "        console.debug(\"Bokeh: all BokehJS libraries/stylesheets loaded\");\n",
              "        run_callbacks()\n",
              "      }\n",
              "    }\n",
              "\n",
              "    function on_error() {\n",
              "      console.error(\"failed to load \" + url);\n",
              "    }\n",
              "\n",
              "    for (var i = 0; i < css_urls.length; i++) {\n",
              "      var url = css_urls[i];\n",
              "      const element = document.createElement(\"link\");\n",
              "      element.onload = on_load;\n",
              "      element.onerror = on_error;\n",
              "      element.rel = \"stylesheet\";\n",
              "      element.type = \"text/css\";\n",
              "      element.href = url;\n",
              "      console.debug(\"Bokeh: injecting link tag for BokehJS stylesheet: \", url);\n",
              "      document.body.appendChild(element);\n",
              "    }\n",
              "\n",
              "    const hashes = {\"https://cdn.bokeh.org/bokeh/release/bokeh-2.1.1.min.js\": \"kLr4fYcqcSpbuI95brIH3vnnYCquzzSxHPU6XGQCIkQRGJwhg0StNbj1eegrHs12\", \"https://cdn.bokeh.org/bokeh/release/bokeh-widgets-2.1.1.min.js\": \"xIGPmVtaOm+z0BqfSOMn4lOR6ciex448GIKG4eE61LsAvmGj48XcMQZtKcE/UXZe\", \"https://cdn.bokeh.org/bokeh/release/bokeh-tables-2.1.1.min.js\": \"Dc9u1wF/0zApGIWoBbH77iWEHtdmkuYWG839Uzmv8y8yBLXebjO9ZnERsde5Ln/P\", \"https://cdn.bokeh.org/bokeh/release/bokeh-gl-2.1.1.min.js\": \"cT9JaBz7GiRXdENrJLZNSC6eMNF3nh3fa5fTF51Svp+ukxPdwcU5kGXGPBgDCa2j\"};\n",
              "\n",
              "    for (var i = 0; i < js_urls.length; i++) {\n",
              "      var url = js_urls[i];\n",
              "      var element = document.createElement('script');\n",
              "      element.onload = on_load;\n",
              "      element.onerror = on_error;\n",
              "      element.async = false;\n",
              "      element.src = url;\n",
              "      if (url in hashes) {\n",
              "        element.crossOrigin = \"anonymous\";\n",
              "        element.integrity = \"sha384-\" + hashes[url];\n",
              "      }\n",
              "      console.debug(\"Bokeh: injecting script tag for BokehJS library: \", url);\n",
              "      document.head.appendChild(element);\n",
              "    }\n",
              "  };\n",
              "\n",
              "  function inject_raw_css(css) {\n",
              "    const element = document.createElement(\"style\");\n",
              "    element.appendChild(document.createTextNode(css));\n",
              "    document.body.appendChild(element);\n",
              "  }\n",
              "\n",
              "  \n",
              "  var js_urls = [\"https://cdn.bokeh.org/bokeh/release/bokeh-2.1.1.min.js\", \"https://cdn.bokeh.org/bokeh/release/bokeh-widgets-2.1.1.min.js\", \"https://cdn.bokeh.org/bokeh/release/bokeh-tables-2.1.1.min.js\", \"https://cdn.bokeh.org/bokeh/release/bokeh-gl-2.1.1.min.js\"];\n",
              "  var css_urls = [];\n",
              "  \n",
              "\n",
              "  var inline_js = [\n",
              "    function(Bokeh) {\n",
              "      Bokeh.set_log_level(\"info\");\n",
              "    },\n",
              "    function(Bokeh) {\n",
              "    \n",
              "    \n",
              "    }\n",
              "  ];\n",
              "\n",
              "  function run_inline_js() {\n",
              "    \n",
              "    if (root.Bokeh !== undefined || force === true) {\n",
              "      \n",
              "    for (var i = 0; i < inline_js.length; i++) {\n",
              "      inline_js[i].call(root, root.Bokeh);\n",
              "    }\n",
              "    } else if (Date.now() < root._bokeh_timeout) {\n",
              "      setTimeout(run_inline_js, 100);\n",
              "    } else if (!root._bokeh_failed_load) {\n",
              "      console.log(\"Bokeh: BokehJS failed to load within specified timeout.\");\n",
              "      root._bokeh_failed_load = true;\n",
              "    } else if (force !== true) {\n",
              "      var cell = $(document.getElementById(null)).parents('.cell').data().cell;\n",
              "      cell.output_area.append_execute_result(NB_LOAD_WARNING)\n",
              "    }\n",
              "\n",
              "  }\n",
              "\n",
              "  if (root._bokeh_is_loading === 0) {\n",
              "    console.debug(\"Bokeh: BokehJS loaded, going straight to plotting\");\n",
              "    run_inline_js();\n",
              "  } else {\n",
              "    load_libs(css_urls, js_urls, function() {\n",
              "      console.debug(\"Bokeh: BokehJS plotting callback run at\", now());\n",
              "      run_inline_js();\n",
              "    });\n",
              "  }\n",
              "}(window));"
            ],
            "application/vnd.bokehjs_load.v0+json": "\n(function(root) {\n  function now() {\n    return new Date();\n  }\n\n  var force = true;\n\n  if (typeof root._bokeh_onload_callbacks === \"undefined\" || force === true) {\n    root._bokeh_onload_callbacks = [];\n    root._bokeh_is_loading = undefined;\n  }\n\n  \n\n  \n  if (typeof (root._bokeh_timeout) === \"undefined\" || force === true) {\n    root._bokeh_timeout = Date.now() + 5000;\n    root._bokeh_failed_load = false;\n  }\n\n  var NB_LOAD_WARNING = {'data': {'text/html':\n     \"<div style='background-color: #fdd'>\\n\"+\n     \"<p>\\n\"+\n     \"BokehJS does not appear to have successfully loaded. If loading BokehJS from CDN, this \\n\"+\n     \"may be due to a slow or bad network connection. Possible fixes:\\n\"+\n     \"</p>\\n\"+\n     \"<ul>\\n\"+\n     \"<li>re-rerun `output_notebook()` to attempt to load from CDN again, or</li>\\n\"+\n     \"<li>use INLINE resources instead, as so:</li>\\n\"+\n     \"</ul>\\n\"+\n     \"<code>\\n\"+\n     \"from bokeh.resources import INLINE\\n\"+\n     \"output_notebook(resources=INLINE)\\n\"+\n     \"</code>\\n\"+\n     \"</div>\"}};\n\n  function display_loaded() {\n    var el = document.getElementById(null);\n    if (el != null) {\n      el.textContent = \"BokehJS is loading...\";\n    }\n    if (root.Bokeh !== undefined) {\n      if (el != null) {\n        el.textContent = \"BokehJS \" + root.Bokeh.version + \" successfully loaded.\";\n      }\n    } else if (Date.now() < root._bokeh_timeout) {\n      setTimeout(display_loaded, 100)\n    }\n  }\n\n\n  function run_callbacks() {\n    try {\n      root._bokeh_onload_callbacks.forEach(function(callback) {\n        if (callback != null)\n          callback();\n      });\n    } finally {\n      delete root._bokeh_onload_callbacks\n    }\n    console.debug(\"Bokeh: all callbacks have finished\");\n  }\n\n  function load_libs(css_urls, js_urls, callback) {\n    if (css_urls == null) css_urls = [];\n    if (js_urls == null) js_urls = [];\n\n    root._bokeh_onload_callbacks.push(callback);\n    if (root._bokeh_is_loading > 0) {\n      console.debug(\"Bokeh: BokehJS is being loaded, scheduling callback at\", now());\n      return null;\n    }\n    if (js_urls == null || js_urls.length === 0) {\n      run_callbacks();\n      return null;\n    }\n    console.debug(\"Bokeh: BokehJS not loaded, scheduling load and callback at\", now());\n    root._bokeh_is_loading = css_urls.length + js_urls.length;\n\n    function on_load() {\n      root._bokeh_is_loading--;\n      if (root._bokeh_is_loading === 0) {\n        console.debug(\"Bokeh: all BokehJS libraries/stylesheets loaded\");\n        run_callbacks()\n      }\n    }\n\n    function on_error() {\n      console.error(\"failed to load \" + url);\n    }\n\n    for (var i = 0; i < css_urls.length; i++) {\n      var url = css_urls[i];\n      const element = document.createElement(\"link\");\n      element.onload = on_load;\n      element.onerror = on_error;\n      element.rel = \"stylesheet\";\n      element.type = \"text/css\";\n      element.href = url;\n      console.debug(\"Bokeh: injecting link tag for BokehJS stylesheet: \", url);\n      document.body.appendChild(element);\n    }\n\n    const hashes = {\"https://cdn.bokeh.org/bokeh/release/bokeh-2.1.1.min.js\": \"kLr4fYcqcSpbuI95brIH3vnnYCquzzSxHPU6XGQCIkQRGJwhg0StNbj1eegrHs12\", \"https://cdn.bokeh.org/bokeh/release/bokeh-widgets-2.1.1.min.js\": \"xIGPmVtaOm+z0BqfSOMn4lOR6ciex448GIKG4eE61LsAvmGj48XcMQZtKcE/UXZe\", \"https://cdn.bokeh.org/bokeh/release/bokeh-tables-2.1.1.min.js\": \"Dc9u1wF/0zApGIWoBbH77iWEHtdmkuYWG839Uzmv8y8yBLXebjO9ZnERsde5Ln/P\", \"https://cdn.bokeh.org/bokeh/release/bokeh-gl-2.1.1.min.js\": \"cT9JaBz7GiRXdENrJLZNSC6eMNF3nh3fa5fTF51Svp+ukxPdwcU5kGXGPBgDCa2j\"};\n\n    for (var i = 0; i < js_urls.length; i++) {\n      var url = js_urls[i];\n      var element = document.createElement('script');\n      element.onload = on_load;\n      element.onerror = on_error;\n      element.async = false;\n      element.src = url;\n      if (url in hashes) {\n        element.crossOrigin = \"anonymous\";\n        element.integrity = \"sha384-\" + hashes[url];\n      }\n      console.debug(\"Bokeh: injecting script tag for BokehJS library: \", url);\n      document.head.appendChild(element);\n    }\n  };\n\n  function inject_raw_css(css) {\n    const element = document.createElement(\"style\");\n    element.appendChild(document.createTextNode(css));\n    document.body.appendChild(element);\n  }\n\n  \n  var js_urls = [\"https://cdn.bokeh.org/bokeh/release/bokeh-2.1.1.min.js\", \"https://cdn.bokeh.org/bokeh/release/bokeh-widgets-2.1.1.min.js\", \"https://cdn.bokeh.org/bokeh/release/bokeh-tables-2.1.1.min.js\", \"https://cdn.bokeh.org/bokeh/release/bokeh-gl-2.1.1.min.js\"];\n  var css_urls = [];\n  \n\n  var inline_js = [\n    function(Bokeh) {\n      Bokeh.set_log_level(\"info\");\n    },\n    function(Bokeh) {\n    \n    \n    }\n  ];\n\n  function run_inline_js() {\n    \n    if (root.Bokeh !== undefined || force === true) {\n      \n    for (var i = 0; i < inline_js.length; i++) {\n      inline_js[i].call(root, root.Bokeh);\n    }\n    } else if (Date.now() < root._bokeh_timeout) {\n      setTimeout(run_inline_js, 100);\n    } else if (!root._bokeh_failed_load) {\n      console.log(\"Bokeh: BokehJS failed to load within specified timeout.\");\n      root._bokeh_failed_load = true;\n    } else if (force !== true) {\n      var cell = $(document.getElementById(null)).parents('.cell').data().cell;\n      cell.output_area.append_execute_result(NB_LOAD_WARNING)\n    }\n\n  }\n\n  if (root._bokeh_is_loading === 0) {\n    console.debug(\"Bokeh: BokehJS loaded, going straight to plotting\");\n    run_inline_js();\n  } else {\n    load_libs(css_urls, js_urls, function() {\n      console.debug(\"Bokeh: BokehJS plotting callback run at\", now());\n      run_inline_js();\n    });\n  }\n}(window));"
          },
          "metadata": {
            "tags": []
          }
        },
        {
          "output_type": "display_data",
          "data": {
            "text/html": [
              "\n",
              "\n",
              "\n",
              "\n",
              "\n",
              "\n",
              "  <div class=\"bk-root\" id=\"ec9f1cd8-a068-49c2-a334-0bf30f3d6b0c\" data-root-id=\"1793\"></div>\n"
            ]
          },
          "metadata": {
            "tags": []
          }
        },
        {
          "output_type": "display_data",
          "data": {
            "application/javascript": [
              "(function(root) {\n",
              "  function embed_document(root) {\n",
              "    \n",
              "  var docs_json = {\"ff3be13a-0ee3-489c-a8ef-5d682e01bb02\":{\"roots\":{\"references\":[{\"attributes\":{\"below\":[{\"id\":\"1802\"}],\"center\":[{\"id\":\"1805\"},{\"id\":\"1809\"}],\"left\":[{\"id\":\"1806\"}],\"plot_height\":200,\"plot_width\":500,\"renderers\":[{\"id\":\"1829\"},{\"id\":\"1835\"},{\"id\":\"1841\"},{\"id\":\"1847\"},{\"id\":\"1853\"},{\"id\":\"1859\"},{\"id\":\"1865\"},{\"id\":\"1871\"},{\"id\":\"1877\"},{\"id\":\"1883\"},{\"id\":\"1889\"},{\"id\":\"1895\"},{\"id\":\"1901\"},{\"id\":\"1907\"},{\"id\":\"1913\"},{\"id\":\"1919\"},{\"id\":\"1925\"},{\"id\":\"1931\"},{\"id\":\"1937\"},{\"id\":\"1943\"},{\"id\":\"1949\"},{\"id\":\"1955\"},{\"id\":\"1961\"},{\"id\":\"1967\"},{\"id\":\"1973\"},{\"id\":\"1979\"},{\"id\":\"1985\"},{\"id\":\"1991\"}],\"title\":{\"id\":\"1993\"},\"toolbar\":{\"id\":\"1816\"},\"x_range\":{\"id\":\"1794\"},\"x_scale\":{\"id\":\"1798\"},\"y_range\":{\"id\":\"1796\"},\"y_scale\":{\"id\":\"1800\"}},\"id\":\"1793\",\"subtype\":\"Figure\",\"type\":\"Plot\"},{\"attributes\":{\"data_source\":{\"id\":\"1933\"},\"glyph\":{\"id\":\"1935\"},\"hover_glyph\":null,\"muted_glyph\":null,\"nonselection_glyph\":{\"id\":\"1936\"},\"selection_glyph\":null,\"view\":{\"id\":\"1938\"}},\"id\":\"1937\",\"type\":\"GlyphRenderer\"},{\"attributes\":{\"bottom\":{\"field\":\"bottom\"},\"fill_alpha\":{\"value\":0.1},\"fill_color\":{\"value\":\"#e6f598\"},\"left\":{\"field\":\"start_time\"},\"line_alpha\":{\"value\":0.1},\"right\":{\"field\":\"end_time\"},\"top\":{\"field\":\"top\"}},\"id\":\"1864\",\"type\":\"Quad\"},{\"attributes\":{\"data\":{\"bottom\":{\"__ndarray__\":\"zczMzMxMSUDNzMzMzMxLQM3MzMzMzEFAzczMzMzMS0DNzMzMzExJQM3MzMzMzENAzczMzMxMSUDNzMzMzExJQM3MzMzMTElAzczMzMxMSUDNzMzMzMxDQM3MzMzMzEtAzczMzMzMQUDNzMzMzMxBQM3MzMzMTElAzczMzMzMS0DNzMzMzMxBQM3MzMzMzEVAzczMzMxMSUDNzMzMzMxDQM3MzMzMTElAzczMzMzMQ0DNzMzMzMxFQM3MzMzMzENAzczMzMxMSUDNzMzMzMxDQM3MzMzMzEVAzczMzMzMQ0DNzMzMzExJQM3MzMzMzEtAzczMzMzMQUDNzMzMzMxLQM3MzMzMzENAzczMzMxMSUDNzMzMzMxLQM3MzMzMTE1AzczMzMzMQUDNzMzMzMxLQM3MzMzMzEtAzczMzMzMQ0DNzMzMzMxLQM3MzMzMzEtAzczMzMxMSUDNzMzMzMxLQM3MzMzMzEFAzczMzMxMSUDNzMzMzMxLQM3MzMzMzENAzczMzMzMS0DNzMzMzMxLQM3MzMzMzEFAzczMzMzMS0DNzMzMzMxLQM3MzMzMTE1AzczMzMzMQ0DNzMzMzMxLQM3MzMzMzEtAzczMzMxMSUDNzMzMzMxLQM3MzMzMzEFAzczMzMzMS0DNzMzMzMxDQM3MzMzMTElAzczMzMzMS0DNzMzMzMxBQM3MzMzMTElAzczMzMzMS0DNzMzMzMxDQM3MzMzMzENAzczMzMzMQ0DNzMzMzMxDQM3MzMzMTElAzczMzMzMQUDNzMzMzMxFQM3MzMzMzEtAzczMzMzMS0DNzMzMzMxLQM3MzMzMzENAzczMzMzMQ0DNzMzMzMxDQM3MzMzMzEtAzczMzMzMQ0DNzMzMzMxDQM3MzMzMzEFAzczMzMxMSUDNzMzMzMxLQM3MzMzMTE1AzczMzMzMQ0DNzMzMzMxLQM3MzMzMzEtAzczMzMzMS0DNzMzMzMxBQM3MzMzMzEtAzczMzMzMQ0DNzMzMzMxLQM3MzMzMzEtAzczMzMzMS0DNzMzMzExJQM3MzMzMzEtAzczMzMzMQUDNzMzMzMxDQM3MzMzMTElAzczMzMzMQ0DNzMzMzExJQM3MzMzMzENAzczMzMzMQ0DNzMzMzMxDQM3MzMzMzENAzczMzMzMQ0DNzMzMzMxDQM3MzMzMzEFAzczMzMxMSUDNzMzMzMxJQM3MzMzMzEtAzczMzMzMQ0DNzMzMzMxLQM3MzMzMTE1AzczMzMzMS0DNzMzMzMxLQM3MzMzMzENAzczMzMzMS0DNzMzMzMxDQM3MzMzMzENAzczMzMxMSUDNzMzMzMxLQM3MzMzMzEtAzczMzMzMQ0DNzMzMzMxDQM3MzMzMzENAzczMzMzMQ0DNzMzMzMxDQM3MzMzMzENAzczMzMzMS0DNzMzMzMxDQM3MzMzMTElAzczMzMzMS0DNzMzMzMxLQM3MzMzMzENAzczMzMzMQ0DNzMzMzMxDQM3MzMzMzENAzczMzMzMQ0DNzMzMzMxDQM3MzMzMzENAzczMzMzMQ0DNzMzMzExJQM3MzMzMzEtAzczMzMzMQ0DNzMzMzMxDQM3MzMzMzENAzczMzMzMQ0DNzMzMzMxDQM3MzMzMzENAzczMzMzMQ0DNzMzMzMxDQA==\",\"dtype\":\"float64\",\"order\":\"little\",\"shape\":[155]},\"duration\":{\"__ndarray__\":\"VVVVVVVVpT9VVVVVVVW1PwAAAAAAAMA/UFVVVVVVpT8AAAAAAACwP1BVVVVVVbU/YFVVVVVVpT8AAAAAAADAP0BVVVVVVaU/QFVVVVVVpT8AAAAAAACwP1BVVVVVVbU/QFVVVVVVpT9gVVVVVVWlP0BVVVVVVaU/AAAAAAAAsD9gVVVVVVW1PwAAAAAAAOA/QFVVVVVVpT9gVVVVVVW1P0BVVVVVVaU/QFVVVVVVtT9AVVVVVVW1P0BVVVVVVbU/QFVVVVVVpT8AAAAAAACwP0BVVVVVVbU/QFVVVVVVtT+AVVVVVVWlP0BVVVVVVbU/AAAAAAAAwD8AAAAAAACwP0BVVVVVVbU/QFVVVVVVtT8AVVVVVVWlPwBVVVVVVaU/QFVVVVVVtT8AAAAAAACwPwBVVVVVVZU/AAAAAAAAsD+AVVVVVVWlP4BVVVVVVaU/gFVVVVVVpT9AVVVVVVW1P8Cqqqqqqro/QFVVVVVVtT9AVVVVVVW1PwAAAAAAAMA/AFVVVVVVpT8AVVVVVVWlP0BVVVVVVbU/AFVVVVVVpT9AVVVVVVW1P0BVVVVVVbU/gKqqqqqquj8AVVVVVVWlPwBVVVVVVaU/AFVVVVVVpT+AVVVVVVW1PwAAAAAAAMA/AAAAAAAAsD+AVVVVVVW1P4BVVVVVVbU/AFVVVVVVpT+AVVVVVVW1PwBVVVVVVaU/AFZVVVVVlT8AVVVVVVWlPwBVVVVVVaU/AFVVVVVVpT8AVVVVVVWlPwBVVVVVVaU/gFVVVVVVtT+AVVVVVVW1PwBWVVVVVZU/AFZVVVVVpT8AVVVVVVWlPwBVVVVVVaU/AFVVVVVVpT8AVVVVVVWlPwBVVVVVVaU/AFVVVVVVpT8AVVVVVVWlPwBVVVVVVaU/gFVVVVVVtT+AVVVVVVW1PwBVVVVVVaU/gFVVVVVVtT+AVVVVVVW1PwBVVVVVVaU/AFVVVVVVpT8AVVVVVVWlPwBVVVVVVaU/gFVVVVVVtT8AVVVVVVWlPwBVVVVVVaU/AFVVVVVVpT8AVVVVVVWlP4BVVVVVVbU/sKqqqqqq4j8AVVVVVVWlPwBVVVVVVaU/AFVVVVVVpT8AVVVVVVWlP8Cqqqqqqso/AFVVVVVVpT8AVlVVVVWVPwBWVVVVVaU/AFZVVVVVlT8AVlVVVVWlPwBWVVVVVaU/AFVVVVVVtT8AVlVVVVWlPwBWVVVVVaU/AAAAAAAAwD8AVlVVVVWlPwBWVVVVVaU/AFZVVVVVpT8AVlVVVVWlPwBWVVVVVaU/AFZVVVVVpT8AVlVVVVWlPwBWVVVVVaU/AFZVVVVVpT8AVlVVVVWlPwBWVVVVVaU/AFZVVVVVpT8AVlVVVVWlPwBWVVVVVaU/AFZVVVVVpT8AVlVVVVWlPwBWVVVVVaU/AFZVVVVVpT8AVlVVVVWlPwBWVVVVVaU/AFZVVVVVpT8AVlVVVVWlPwBWVVVVVaU/AFZVVVVVpT8AVlVVVVWlPwBWVVVVVaU/AFZVVVVVpT8AVlVVVVWlPwBWVVVVVaU/AFZVVVVVpT8AVlVVVVWlPwBWVVVVVaU/AFZVVVVVpT8AVlVVVVWlPwBWVVVVVaU/AFZVVVVVpT8AVlVVVVWlPwBWVVVVVaU/AFZVVVVVpT8AVlVVVVWlPw==\",\"dtype\":\"float64\",\"order\":\"little\",\"shape\":[155]},\"end_time\":{\"__ndarray__\":\"VVVVVVVVpT9VVVVVVVW1PwAAAAAAAMA/VVVVVVVV4T8AAAAAAADiP6qqqqqqquI/AAAAAAAA7D8AAAAAAADyP6qqqqqqqvQ/qqqqqqqq+D8AAAAAAAD5P1VVVVVVVfk/qqqqqqqq/D9VVVVVVVX/P1VVVVVVVQBAAAAAAACAAECrqqqqqqoAQAAAAAAAAARAVVVVVVVVBEBVVVVVVVUHQFVVVVVVVQhAqqqqqqqqCECqqqqqqqoIQKqqqqqqqgpAVVVVVVVVDEAAAAAAAIAMQKqqqqqqqgxAqqqqqqqqDkCrqqqqqioQQFVVVVVVVRBAAAAAAACAEEAAAAAAAEASQFVVVVVVVRJAVVVVVVVVEkCqqqqqqioUQKqqqqqqKhRAVVVVVVVVFEAAAAAAAEAVQFVVVVVVFRZAAAAAAABAFkAAAAAAAAAXQAAAAAAAgBdAq6qqqqoqGEBVVVVVVVUYQKuqqqqqahhAVVVVVVVVGkBVVVVVVVUaQAAAAAAAgBpAqqqqqqoqHECqqqqqqiocQFVVVVVVVRxAqqqqqqoqHUBVVVVVVVUeQFVVVVVVVR5AqqqqqqpqHkCqqqqqqiofQKqqqqqqqh9AVVVVVVUVIECrqqqqqiogQAAAAAAAQCBAAAAAAAAgIUCrqqqqqiohQKuqqqqqKiFAVVVVVVUVIkCrqqqqqioiQFVVVVVVlSJAq6qqqqoKI0BVVVVVVRUjQFVVVVVVVSNAVVVVVVWVI0BVVVVVVdUjQFVVVVVVFSRAq6qqqqoqJECrqqqqqiokQKuqqqqqCiVAq6qqqqoqJUBVVVVVVZUlQFVVVVVVFSZAVVVVVVWVJkBVVVVVVdUmQFVVVVVVFSdAVVVVVVVVJ0BVVVVVVZUnQFVVVVVVFShAq6qqqqoqKECrqqqqqiooQFVVVVVVFSlAq6qqqqoqKUCrqqqqqiopQFVVVVVVFSpAVVVVVVVVKkBVVVVVVZUqQFVVVVVVFStAq6qqqqoqK0BVVVVVVZUrQFVVVVVV1StAAAAAAAAALEBVVVVVVRUsQKuqqqqqKixAq6qqqqoqLUBVVVVVVRUtQFVVVVVVFS1AVVVVVVWVLUBVVVVVVRUuQKuqqqqqai5AVVVVVVWVLkCrqqqqqgovQKuqqqqqai9Aq6qqqqqKL0CrqqqqquovQKuqqqqqCjBAVVVVVVUVMECrqqqqqoowQKuqqqqqijBAAAAAAACgMECrqqqqqgoxQKuqqqqqCjFAq6qqqqpKMUCrqqqqqmoxQKuqqqqqijFAq6qqqqrKMUCrqqqqquoxQKuqqqqqCjJAq6qqqqoKMkCrqqqqqkoyQAAAAAAAgDJAAAAAAADgMkAAAAAAAAAzQAAAAAAAIDNAAAAAAABAM0AAAAAAAIAzQAAAAAAAoDNAAAAAAADAM0Crqqqqqgo0QKuqqqqqCjRAq6qqqqpKNECrqqqqqoo0QKuqqqqq6jRAq6qqqqoKNUCrqqqqqio1QKuqqqqqSjVAq6qqqqpqNUCrqqqqqso1QKuqqqqq6jVAq6qqqqoKNkCrqqqqqgo2QKuqqqqqSjZAq6qqqqqKNkCrqqqqquo2QKuqqqqqCjdAq6qqqqoqN0Crqqqqqko3QKuqqqqqajdAq6qqqqrKN0Crqqqqquo3QA==\",\"dtype\":\"float64\",\"order\":\"little\",\"shape\":[155]},\"fill_alpha\":{\"__ndarray__\":\"AAAAAABA7D8AAAAAAEDsPwAAAAAAQOw/AAAAAABA7D8AAAAAAEDsPwAAAAAAQOw/AAAAAACA0D8AAAAAAEDsPwAAAAAAQOA/AAAAAABA7D8AAAAAAEDsPwAAAAAAQOw/AAAAAABA4D8AAAAAAEDgPwAAAAAAQOw/AAAAAABA7D8AAAAAAEDsPwAAAAAAQOw/AAAAAABA7D8AAAAAAEDsPwAAAAAAQOQ/AAAAAABA5D8AAAAAAEDsPwAAAAAAQOw/AAAAAABA5D8AAAAAAEDsPwAAAAAAQOQ/AAAAAABA7D8AAAAAAEDsPwAAAAAAQOw/AAAAAABA7D8AAAAAAEDsPwAAAAAAQOw/AAAAAABA7D8AAAAAAEDoPwAAAAAAQOw/AAAAAABA7D8AAAAAAEDkPwAAAAAAQOw/AAAAAABA7D8AAAAAAEDkPwAAAAAAQOQ/AAAAAABA7D8AAAAAAEDsPwAAAAAAQOw/AAAAAABA7D8AAAAAAEDsPwAAAAAAQOw/AAAAAABA6D8AAAAAAEDsPwAAAAAAQOw/AAAAAABA5D8AAAAAAEDsPwAAAAAAQOw/AAAAAABA7D8AAAAAAEDkPwAAAAAAQOQ/AAAAAABA7D8AAAAAAEDsPwAAAAAAQOw/AAAAAABA7D8AAAAAAEDsPwAAAAAAQOw/AAAAAABA7D8AAAAAAEDoPwAAAAAAQOQ/AAAAAABA7D8AAAAAAEDsPwAAAAAAQOQ/AAAAAABA5D8AAAAAAEDkPwAAAAAAQOw/AAAAAABA7D8AAAAAAEDsPwAAAAAAQOw/AAAAAABA6D8AAAAAAEDoPwAAAAAAQOw/AAAAAABA7D8AAAAAAEDsPwAAAAAAQOg/AAAAAABA7D8AAAAAAEDsPwAAAAAAQOw/AAAAAABA7D8AAAAAAEDsPwAAAAAAQOw/AAAAAABA6D8AAAAAAEDsPwAAAAAAQOw/AAAAAABA7D8AAAAAAEDsPwAAAAAAQOw/AAAAAABA7D8AAAAAAEDsPwAAAAAAQOw/AAAAAABA7D8AAAAAAEDsPwAAAAAAQOg/AAAAAABA7D8AAAAAAEDoPwAAAAAAQOg/AAAAAABA6D8AAAAAAEDsPwAAAAAAQOg/AAAAAABA7D8AAAAAAEDsPwAAAAAAQOw/AAAAAABA7D8AAAAAAEDsPwAAAAAAQOw/AAAAAABA7D8AAAAAAEDoPwAAAAAAQOg/AAAAAABA7D8AAAAAAEDsPwAAAAAAQOw/AAAAAABA5D8AAAAAAEDkPwAAAAAAQOw/AAAAAABA7D8AAAAAAEDsPwAAAAAAQOw/AAAAAABA6D8AAAAAAEDoPwAAAAAAQOg/AAAAAABA6D8AAAAAAEDoPwAAAAAAQOg/AAAAAABA6D8AAAAAAEDoPwAAAAAAQOg/AAAAAABA7D8AAAAAAEDsPwAAAAAAQOg/AAAAAABA6D8AAAAAAEDoPwAAAAAAQOg/AAAAAABA6D8AAAAAAEDoPwAAAAAAQOg/AAAAAABA6D8AAAAAAEDoPwAAAAAAQOg/AAAAAABA7D8AAAAAAEDoPwAAAAAAQOg/AAAAAABA6D8AAAAAAEDoPwAAAAAAQOg/AAAAAABA6D8AAAAAAEDoPwAAAAAAQOg/AAAAAABA6D8AAAAAAEDoPw==\",\"dtype\":\"float64\",\"order\":\"little\",\"shape\":[155]},\"index\":[4,5,6,8,9,10,15,19,20,22,23,24,26,28,33,34,35,36,38,41,45,46,47,50,52,53,54,56,61,62,63,65,66,67,72,73,74,75,80,81,82,85,90,91,92,94,95,96,102,103,104,105,108,109,110,113,116,122,123,124,126,127,128,134,135,138,140,141,142,145,146,151,152,153,154,155,158,165,169,170,171,172,176,181,182,183,184,185,186,192,193,195,200,201,203,204,205,210,211,212,214,215,217,219,220,222,229,230,232,234,239,240,241,242,243,248,249,252,253,256,261,262,267,268,269,270,273,274,279,280,282,285,286,291,292,293,295,298,302,304,305,306,309,311,315,316,317,319,322,326,328,330,331,334,335],\"instrument\":[9,9,9,9,9,9,9,9,9,9,9,9,9,9,9,9,9,9,9,9,9,9,9,9,9,9,9,9,9,9,9,9,9,9,9,9,9,9,9,9,9,9,9,9,9,9,9,9,9,9,9,9,9,9,9,9,9,9,9,9,9,9,9,9,9,9,9,9,9,9,9,9,9,9,9,9,9,9,9,9,9,9,9,9,9,9,9,9,9,9,9,9,9,9,9,9,9,9,9,9,9,9,9,9,9,9,9,9,9,9,9,9,9,9,9,9,9,9,9,9,9,9,9,9,9,9,9,9,9,9,9,9,9,9,9,9,9,9,9,9,9,9,9,9,9,9,9,9,9,9,9,9,9,9,9],\"pitch\":[51,56,36,56,51,40,51,51,51,51,40,56,36,36,51,56,36,44,51,40,51,40,44,40,51,40,44,40,51,56,36,56,40,51,56,59,36,56,56,40,56,56,51,56,36,51,56,40,56,56,36,56,56,59,40,56,56,51,56,36,56,40,51,56,36,51,56,40,40,40,40,51,36,44,56,56,56,40,40,40,56,40,40,36,51,56,59,40,56,56,56,36,56,40,56,56,56,51,56,36,40,51,40,51,40,40,40,40,40,40,36,51,52,56,40,56,59,56,56,40,56,40,40,51,56,56,40,40,40,40,40,40,56,40,51,56,56,40,40,40,40,40,40,40,40,51,56,40,40,40,40,40,40,40,40],\"program\":[0,0,0,0,0,0,0,0,0,0,0,0,0,0,0,0,0,0,0,0,0,0,0,0,0,0,0,0,0,0,0,0,0,0,0,0,0,0,0,0,0,0,0,0,0,0,0,0,0,0,0,0,0,0,0,0,0,0,0,0,0,0,0,0,0,0,0,0,0,0,0,0,0,0,0,0,0,0,0,0,0,0,0,0,0,0,0,0,0,0,0,0,0,0,0,0,0,0,0,0,0,0,0,0,0,0,0,0,0,0,0,0,0,0,0,0,0,0,0,0,0,0,0,0,0,0,0,0,0,0,0,0,0,0,0,0,0,0,0,0,0,0,0,0,0,0,0,0,0,0,0,0,0,0,0],\"start_time\":{\"__ndarray__\":\"AAAAAAAAAAAAAAAAAAAAAAAAAAAAAAAAAAAAAAAA4D8AAAAAAADgPwAAAAAAAOA/qqqqqqqq6j8AAAAAAADwPwAAAAAAAPQ/AAAAAAAA+D8AAAAAAAD4PwAAAAAAAPg/AAAAAAAA/D+qqqqqqqr+PwAAAAAAAABAAAAAAAAAAEAAAAAAAAAAQAAAAAAAAABAAAAAAAAABECqqqqqqqoGQAAAAAAAAAhAAAAAAAAACEAAAAAAAAAIQAAAAAAAAApAAAAAAAAADEAAAAAAAAAMQAAAAAAAAAxAAAAAAAAADkAAAAAAAAAQQAAAAAAAABBAAAAAAAAAEEAAAAAAAAASQAAAAAAAABJAAAAAAAAAEkAAAAAAAAAUQAAAAAAAABRAAAAAAAAAFEAAAAAAAAAVQAAAAAAAABZAAAAAAAAAFkBVVVVVVdUWQFVVVVVVVRdAAAAAAAAAGEAAAAAAAAAYQAAAAAAAABhAAAAAAAAAGkAAAAAAAAAaQAAAAAAAABpAAAAAAAAAHEAAAAAAAAAcQAAAAAAAABxAAAAAAAAAHUAAAAAAAAAeQAAAAAAAAB5AAAAAAAAAHkAAAAAAAAAfQAAAAAAAgB9AAAAAAAAAIEAAAAAAAAAgQAAAAAAAACBAAAAAAAAAIUAAAAAAAAAhQAAAAAAAACFAAAAAAAAAIkAAAAAAAAAiQAAAAAAAgCJAAAAAAAAAI0AAAAAAAAAjQAAAAAAAQCNAAAAAAACAI0AAAAAAAMAjQAAAAAAAACRAAAAAAAAAJEAAAAAAAAAkQAAAAAAAACVAVVVVVVUVJUAAAAAAAIAlQAAAAAAAACZAAAAAAACAJkAAAAAAAMAmQAAAAAAAACdAAAAAAABAJ0AAAAAAAIAnQAAAAAAAAChAAAAAAAAAKEAAAAAAAAAoQAAAAAAAAClAAAAAAAAAKUAAAAAAAAApQAAAAAAAACpAAAAAAABAKkAAAAAAAIAqQAAAAAAAACtAAAAAAAAAK0AAAAAAAIArQAAAAAAAwCtAq6qqqqrqK0AAAAAAAAAsQAAAAAAAACxAAAAAAAAALEAAAAAAAAAtQAAAAAAAAC1AAAAAAACALUAAAAAAAAAuQAAAAAAAAC5AAAAAAACALkAAAAAAAAAvQFVVVVVVVS9AAAAAAACAL0BVVVVVVdUvQAAAAAAAADBAAAAAAAAAMEAAAAAAAIAwQAAAAAAAgDBAAAAAAACAMEAAAAAAAAAxQAAAAAAAADFAAAAAAABAMUAAAAAAAGAxQAAAAAAAgDFAAAAAAADAMUAAAAAAAOAxQAAAAAAAADJAAAAAAAAAMkAAAAAAAEAyQFVVVVVVdTJAVVVVVVXVMkBVVVVVVfUyQFVVVVVVFTNAVVVVVVU1M0BVVVVVVXUzQFVVVVVVlTNAVVVVVVW1M0AAAAAAAAA0QAAAAAAAADRAAAAAAABANEAAAAAAAIA0QAAAAAAA4DRAAAAAAAAANUAAAAAAACA1QAAAAAAAQDVAAAAAAABgNUAAAAAAAMA1QAAAAAAA4DVAAAAAAAAANkAAAAAAAAA2QAAAAAAAQDZAAAAAAACANkAAAAAAAOA2QAAAAAAAADdAAAAAAAAgN0AAAAAAAEA3QAAAAAAAYDdAAAAAAADAN0AAAAAAAOA3QA==\",\"dtype\":\"float64\",\"order\":\"little\",\"shape\":[155]},\"top\":{\"__ndarray__\":\"MzMzMzOzSUAzMzMzMzNMQDMzMzMzM0JAMzMzMzMzTEAzMzMzM7NJQDMzMzMzM0RAMzMzMzOzSUAzMzMzM7NJQDMzMzMzs0lAMzMzMzOzSUAzMzMzMzNEQDMzMzMzM0xAMzMzMzMzQkAzMzMzMzNCQDMzMzMzs0lAMzMzMzMzTEAzMzMzMzNCQDMzMzMzM0ZAMzMzMzOzSUAzMzMzMzNEQDMzMzMzs0lAMzMzMzMzREAzMzMzMzNGQDMzMzMzM0RAMzMzMzOzSUAzMzMzMzNEQDMzMzMzM0ZAMzMzMzMzREAzMzMzM7NJQDMzMzMzM0xAMzMzMzMzQkAzMzMzMzNMQDMzMzMzM0RAMzMzMzOzSUAzMzMzMzNMQDMzMzMzs01AMzMzMzMzQkAzMzMzMzNMQDMzMzMzM0xAMzMzMzMzREAzMzMzMzNMQDMzMzMzM0xAMzMzMzOzSUAzMzMzMzNMQDMzMzMzM0JAMzMzMzOzSUAzMzMzMzNMQDMzMzMzM0RAMzMzMzMzTEAzMzMzMzNMQDMzMzMzM0JAMzMzMzMzTEAzMzMzMzNMQDMzMzMzs01AMzMzMzMzREAzMzMzMzNMQDMzMzMzM0xAMzMzMzOzSUAzMzMzMzNMQDMzMzMzM0JAMzMzMzMzTEAzMzMzMzNEQDMzMzMzs0lAMzMzMzMzTEAzMzMzMzNCQDMzMzMzs0lAMzMzMzMzTEAzMzMzMzNEQDMzMzMzM0RAMzMzMzMzREAzMzMzMzNEQDMzMzMzs0lAMzMzMzMzQkAzMzMzMzNGQDMzMzMzM0xAMzMzMzMzTEAzMzMzMzNMQDMzMzMzM0RAMzMzMzMzREAzMzMzMzNEQDMzMzMzM0xAMzMzMzMzREAzMzMzMzNEQDMzMzMzM0JAMzMzMzOzSUAzMzMzMzNMQDMzMzMzs01AMzMzMzMzREAzMzMzMzNMQDMzMzMzM0xAMzMzMzMzTEAzMzMzMzNCQDMzMzMzM0xAMzMzMzMzREAzMzMzMzNMQDMzMzMzM0xAMzMzMzMzTEAzMzMzM7NJQDMzMzMzM0xAMzMzMzMzQkAzMzMzMzNEQDMzMzMzs0lAMzMzMzMzREAzMzMzM7NJQDMzMzMzM0RAMzMzMzMzREAzMzMzMzNEQDMzMzMzM0RAMzMzMzMzREAzMzMzMzNEQDMzMzMzM0JAMzMzMzOzSUAzMzMzMzNKQDMzMzMzM0xAMzMzMzMzREAzMzMzMzNMQDMzMzMzs01AMzMzMzMzTEAzMzMzMzNMQDMzMzMzM0RAMzMzMzMzTEAzMzMzMzNEQDMzMzMzM0RAMzMzMzOzSUAzMzMzMzNMQDMzMzMzM0xAMzMzMzMzREAzMzMzMzNEQDMzMzMzM0RAMzMzMzMzREAzMzMzMzNEQDMzMzMzM0RAMzMzMzMzTEAzMzMzMzNEQDMzMzMzs0lAMzMzMzMzTEAzMzMzMzNMQDMzMzMzM0RAMzMzMzMzREAzMzMzMzNEQDMzMzMzM0RAMzMzMzMzREAzMzMzMzNEQDMzMzMzM0RAMzMzMzMzREAzMzMzM7NJQDMzMzMzM0xAMzMzMzMzREAzMzMzMzNEQDMzMzMzM0RAMzMzMzMzREAzMzMzMzNEQDMzMzMzM0RAMzMzMzMzREAzMzMzMzNEQA==\",\"dtype\":\"float64\",\"order\":\"little\",\"shape\":[155]},\"velocity\":[113,113,113,113,113,113,33,113,65,113,113,113,65,65,113,113,113,113,113,113,81,81,113,113,81,113,81,113,113,113,113,113,113,113,97,113,113,81,113,113,81,81,113,113,113,113,113,113,97,113,113,81,113,113,113,81,81,113,113,113,113,113,113,113,97,81,113,113,81,81,81,113,113,113,113,97,97,113,113,113,97,113,113,113,113,113,113,97,113,113,113,113,113,113,113,113,113,113,97,113,97,97,97,113,97,113,113,113,113,113,113,113,97,97,113,113,113,81,81,113,113,113,113,97,97,97,97,97,97,97,97,97,113,113,97,97,97,97,97,97,97,97,97,97,113,97,97,97,97,97,97,97,97,97,97]},\"selected\":{\"id\":\"2015\"},\"selection_policy\":{\"id\":\"2016\"}},\"id\":\"1873\",\"type\":\"ColumnDataSource\"},{\"attributes\":{\"data\":{\"bottom\":{\"__ndarray__\":\"zczMzMxMT0BmZmZmZuZRQGZmZmZmplJAZmZmZmZmUUBmZmZmZqZSQA==\",\"dtype\":\"float64\",\"order\":\"little\",\"shape\":[5]},\"duration\":{\"__ndarray__\":\"AAAAAAAA1D/AqqqqqqrSP2BVVVVVVeU/gKqqqqqq0j+AVVVVVVXNPw==\",\"dtype\":\"float64\",\"order\":\"little\",\"shape\":[5]},\"end_time\":{\"__ndarray__\":\"AAAAAADQNECrqqqqqgo1QAAAAAAAoDVAVVVVVVXVNUAAAAAAAAA2QA==\",\"dtype\":\"float64\",\"order\":\"little\",\"shape\":[5]},\"fill_alpha\":{\"__ndarray__\":\"AAAAAABA7D8AAAAAAEDsPwAAAAAAQOw/AAAAAABA5D8AAAAAAEDsPw==\",\"dtype\":\"float64\",\"order\":\"little\",\"shape\":[5]},\"index\":[294,297,299,307,310],\"instrument\":[14,14,14,14,14],\"pitch\":[63,72,75,70,75],\"program\":[22,22,22,22,22],\"start_time\":{\"__ndarray__\":\"AAAAAACANEAAAAAAAMA0QFVVVVVV9TRAq6qqqqqKNUBVVVVVVcU1QA==\",\"dtype\":\"float64\",\"order\":\"little\",\"shape\":[5]},\"top\":{\"__ndarray__\":\"MzMzMzOzT0CamZmZmRlSQJqZmZmZ2VJAmpmZmZmZUUCamZmZmdlSQA==\",\"dtype\":\"float64\",\"order\":\"little\",\"shape\":[5]},\"velocity\":[113,113,113,81,113]},\"selected\":{\"id\":\"2025\"},\"selection_policy\":{\"id\":\"2026\"}},\"id\":\"1903\",\"type\":\"ColumnDataSource\"},{\"attributes\":{\"source\":{\"id\":\"1969\"}},\"id\":\"1974\",\"type\":\"CDSView\"},{\"attributes\":{\"data\":{\"bottom\":{\"__ndarray__\":\"ZmZmZmZmUUBmZmZmZiZQQGZmZmZm5lBAZmZmZmbmUUBmZmZmZiZQQGZmZmZmZlFAZmZmZmYmUEBmZmZmZuZQQGZmZmZmJlBAZmZmZmZmUUBmZmZmZiZQQGZmZmZm5lBAZmZmZmYmUEBmZmZmZmZRQGZmZmZmJlBAZmZmZmbmUEBmZmZmZiZQQGZmZmZmZlFAZmZmZmYmUEBmZmZmZuZQQGZmZmZmJlBAZmZmZmZmUUDNzMzMzMxPQGZmZmZmJlFAZmZmZmYmUEBmZmZmZmZRQM3MzMzMzE9AZmZmZmYmUUBmZmZmZiZQQGZmZmZmJlFAzczMzMxMT0BmZmZmZiZRQGZmZmZmJlBAZmZmZmYmUUDNzMzMzExPQGZmZmZmJlFAZmZmZmYmUEBmZmZmZiZRQM3MzMzMTE9AZmZmZmYmUUBmZmZmZiZQQGZmZmZmJlFAzczMzMzMT0BmZmZmZqZQQGZmZmZmJlBAZmZmZmYmUUDNzMzMzMxPQGZmZmZmplBA\",\"dtype\":\"float64\",\"order\":\"little\",\"shape\":[48]},\"duration\":{\"__ndarray__\":\"YFVVVVVV7T8AAAAAAAAAQAAAAAAAAPA/AAAAAAAA8D8AAAAAAADuPwAAAAAAAO4/oKqqqqqq6j+gqqqqqqrqPwAAAAAAAO4/AAAAAAAA7j+gqqqqqqrqP6Cqqqqqquo/AAAAAAAA7j8AAAAAAADuP6Cqqqqqquo/oKqqqqqq6j8AAAAAAADuPwAAAAAAAO4/oKqqqqqq6j+gqqqqqqrqPwAAAAAAAO4/AAAAAAAA7j9gVVVVVVXtP6Cqqqqqqu4/AAAAAAAA7j8AAAAAAADuP0BVVVVVVe0/wKqqqqqq7j8AAAAAAADuPwAAAAAAAO4/QFVVVVVV7T9AVVVVVVXtPwAAAAAAAO4/AAAAAAAA7j9AVVVVVVXtP0BVVVVVVe0/AAAAAAAA7j8AAAAAAADuP0BVVVVVVe0/QFVVVVVV7T8AAAAAAADuPwAAAAAAAO4/AAAAAAAA7j8AAAAAAADwPwAAAAAAAO4/AAAAAAAA7j9AVVVVVVXtPwAAAAAAAO4/\",\"dtype\":\"float64\",\"order\":\"little\",\"shape\":[48]},\"end_time\":{\"__ndarray__\":\"q6qqqqrqNEAAAAAAAAA2QAAAAAAAADZAAAAAAAAANkAAAAAAAPA2QAAAAAAA8DZAVVVVVVXVN0BVVVVVVdU3QAAAAAAA8DhAAAAAAADwOEBVVVVVVdU5QFVVVVVV1TlAAAAAAADwOkAAAAAAAPA6QFVVVVVV1TtAVVVVVVXVO0AAAAAAAPA8QAAAAAAA8DxAVVVVVVXVPUBVVVVVVdU9QAAAAAAA8D5AAAAAAADwPkCrqqqqquo/QFVVVVVV9T9AAAAAAAB4QEAAAAAAAHhAQFVVVVVV9UBAq6qqqqr6QEAAAAAAAHhBQAAAAAAAeEFAVVVVVVX1QUBVVVVVVfVBQAAAAAAAeEJAAAAAAAB4QkBVVVVVVfVCQFVVVVVV9UJAAAAAAAB4Q0AAAAAAAHhDQFVVVVVV9UNAVVVVVVX1Q0AAAAAAAHhEQAAAAAAAeERAAAAAAAD4REAAAAAAAABFQAAAAAAAeEVAAAAAAAB4RUBVVVVVVfVFQAAAAAAA+EVA\",\"dtype\":\"float64\",\"order\":\"little\",\"shape\":[48]},\"fill_alpha\":{\"__ndarray__\":\"AAAAAABA7D8AAAAAAEDsPwAAAAAAQOw/AAAAAABA7D8AAAAAAEDsPwAAAAAAQOw/AAAAAABA7D8AAAAAAEDsPwAAAAAAQOw/AAAAAABA7D8AAAAAAEDsPwAAAAAAQOw/AAAAAABA7D8AAAAAAEDsPwAAAAAAQOw/AAAAAABA7D8AAAAAAEDsPwAAAAAAQOw/AAAAAABA7D8AAAAAAEDsPwAAAAAAQOw/AAAAAABA7D8AAAAAAEDsPwAAAAAAQOw/AAAAAABA7D8AAAAAAEDsPwAAAAAAQOw/AAAAAABA7D8AAAAAAEDsPwAAAAAAQOw/AAAAAABA7D8AAAAAAEDsPwAAAAAAQOw/AAAAAABA7D8AAAAAAEDsPwAAAAAAQOw/AAAAAABA7D8AAAAAAEDsPwAAAAAAQOw/AAAAAABA7D8AAAAAAEDsPwAAAAAAQOw/AAAAAABA7D8AAAAAAEDsPwAAAAAAQOg/AAAAAABA6D8AAAAAAEDoPwAAAAAAQOg/\",\"dtype\":\"float64\",\"order\":\"little\",\"shape\":[48]},\"index\":[289,290,300,301,313,314,324,325,337,338,346,347,361,362,372,373,384,385,393,394,406,407,417,418,430,431,441,442,454,455,463,464,475,476,483,484,495,496,504,505,516,517,525,526,535,536,544,545],\"instrument\":[13,13,13,13,13,13,13,13,13,13,13,13,13,13,13,13,13,13,13,13,13,13,13,13,13,13,13,13,13,13,13,13,13,13,13,13,13,13,13,13,13,13,13,13,13,13,13,13],\"pitch\":[70,65,68,72,65,70,65,68,65,70,65,68,65,70,65,68,65,70,65,68,65,70,64,69,65,70,64,69,65,69,63,69,65,69,63,69,65,69,63,69,65,69,64,67,65,69,64,67],\"program\":[99,99,99,99,99,99,99,99,99,99,99,99,99,99,99,99,99,99,99,99,99,99,99,99,99,99,99,99,99,99,99,99,99,99,99,99,99,99,99,99,99,99,99,99,99,99,99,99],\"start_time\":{\"__ndarray__\":\"AAAAAAAANEAAAAAAAAA0QAAAAAAAADVAAAAAAAAANUAAAAAAAAA2QAAAAAAAADZAAAAAAAAAN0AAAAAAAAA3QAAAAAAAADhAAAAAAAAAOEAAAAAAAAA5QAAAAAAAADlAAAAAAAAAOkAAAAAAAAA6QAAAAAAAADtAAAAAAAAAO0AAAAAAAAA8QAAAAAAAADxAAAAAAAAAPUAAAAAAAAA9QAAAAAAAAD5AAAAAAAAAPkAAAAAAAAA/QAAAAAAAAD9AAAAAAAAAQEAAAAAAAABAQAAAAAAAgEBAAAAAAACAQEAAAAAAAABBQAAAAAAAAEFAAAAAAACAQUAAAAAAAIBBQAAAAAAAAEJAAAAAAAAAQkAAAAAAAIBCQAAAAAAAgEJAAAAAAAAAQ0AAAAAAAABDQAAAAAAAgENAAAAAAACAQ0AAAAAAAABEQAAAAAAAAERAAAAAAACAREAAAAAAAIBEQAAAAAAAAEVAAAAAAAAARUAAAAAAAIBFQAAAAAAAgEVA\",\"dtype\":\"float64\",\"order\":\"little\",\"shape\":[48]},\"top\":{\"__ndarray__\":\"mpmZmZmZUUCamZmZmVlQQJqZmZmZGVFAmpmZmZkZUkCamZmZmVlQQJqZmZmZmVFAmpmZmZlZUECamZmZmRlRQJqZmZmZWVBAmpmZmZmZUUCamZmZmVlQQJqZmZmZGVFAmpmZmZlZUECamZmZmZlRQJqZmZmZWVBAmpmZmZkZUUCamZmZmVlQQJqZmZmZmVFAmpmZmZlZUECamZmZmRlRQJqZmZmZWVBAmpmZmZmZUUCamZmZmRlQQJqZmZmZWVFAmpmZmZlZUECamZmZmZlRQJqZmZmZGVBAmpmZmZlZUUCamZmZmVlQQJqZmZmZWVFAMzMzMzOzT0CamZmZmVlRQJqZmZmZWVBAmpmZmZlZUUAzMzMzM7NPQJqZmZmZWVFAmpmZmZlZUECamZmZmVlRQDMzMzMzs09AmpmZmZlZUUCamZmZmVlQQJqZmZmZWVFAmpmZmZkZUECamZmZmdlQQJqZmZmZWVBAmpmZmZlZUUCamZmZmRlQQJqZmZmZ2VBA\",\"dtype\":\"float64\",\"order\":\"little\",\"shape\":[48]},\"velocity\":[113,113,113,113,113,113,113,113,113,113,113,113,113,113,113,113,113,113,113,113,113,113,113,113,113,113,113,113,113,113,113,113,113,113,113,113,113,113,113,113,113,113,113,113,97,97,97,97]},\"selected\":{\"id\":\"2023\"},\"selection_policy\":{\"id\":\"2024\"}},\"id\":\"1897\",\"type\":\"ColumnDataSource\"},{\"attributes\":{\"data\":{\"bottom\":{\"__ndarray__\":\"zczMzMzMSUDNzMzMzExLQM3MzMzMTEdAzczMzMxMRkDNzMzMzExGQM3MzMzMzElAzczMzMxMS0DNzMzMzExHQM3MzMzMzElAzczMzMxMRkDNzMzMzMxJQM3MzMzMTEtAzczMzMxMR0DNzMzMzMxJQM3MzMzMTEZAzczMzMzMSUDNzMzMzExLQM3MzMzMTEdAzczMzMzMSUDNzMzMzExGQM3MzMzMzElA\",\"dtype\":\"float64\",\"order\":\"little\",\"shape\":[21]},\"duration\":{\"__ndarray__\":\"gFVVVVVV0T8AAAAAAADxP4BVVVVVVdE/AAAAAAAA0D8AWFVVVVWVP8Cqqqqqqug/QFVVVVVV7z8AAAAAAADgP4BVVVVVVdE/AFhVVVVVlT/AqqqqqqroP6Cqqqqqqvc/AAAAAAAA6D8AAAAAAADoPwBVVVVVVc0/wKqqqqqq6D8AAAAAAADoP0BVVVVVVec/AAAAAAAA6D+AVVVVVVXRPwBYVVVVVZU/\",\"dtype\":\"float64\",\"order\":\"little\",\"shape\":[21]},\"end_time\":{\"__ndarray__\":\"AAAAAABATEBVVVVVVcVMQAAAAAAA4ExAVVVVVVX9TEAAAAAAAABNQAAAAAAAgE1AVVVVVVW9TUAAAAAAAMBNQAAAAAAAwE1AAAAAAAAATkAAAAAAAIBOQFVVVVVV/U5AAAAAAADgTkBVVVVVVf1OQFVVVVVV/U5AAAAAAACAT0AAAAAAAKBPQFVVVVVV3U9AVVVVVVX9T0AAAAAAAABQQAAAAAAAAFBA\",\"dtype\":\"float64\",\"order\":\"little\",\"shape\":[21]},\"fill_alpha\":{\"__ndarray__\":\"AAAAAABA5D8AAAAAAEDoPwAAAAAAQOQ/AAAAAABA5D8AAAAAAEDoPwAAAAAAQOQ/AAAAAABA6D8AAAAAAEDkPwAAAAAAQOQ/AAAAAABA5D8AAAAAAEDkPwAAAAAAQOg/AAAAAABA5D8AAAAAAEDkPwAAAAAAQOQ/AAAAAABA5D8AAAAAAEDoPwAAAAAAQOQ/AAAAAABA5D8AAAAAAEDkPwAAAAAAQOg/\",\"dtype\":\"float64\",\"order\":\"little\",\"shape\":[21]},\"index\":[660,662,669,672,674,677,679,682,686,692,694,696,700,703,707,711,713,717,721,723,726],\"instrument\":[27,27,27,27,27,27,27,27,27,27,27,27,27,27,27,27,27,27,27,27,27],\"pitch\":[52,55,47,45,45,52,55,47,52,45,52,55,47,52,45,52,55,47,52,45,52],\"program\":[29,29,29,29,29,29,29,29,29,29,29,29,29,29,29,29,29,29,29,29,29],\"start_time\":{\"__ndarray__\":\"VVVVVVUdTEBVVVVVVT1MQFVVVVVVvUxAVVVVVVXdTEBVVVVVVf1MQFVVVVVVHU1AAAAAAABATUAAAAAAAIBNQFVVVVVVnU1AVVVVVVX9TUBVVVVVVR1OQAAAAAAAQE5AAAAAAACATkBVVVVVVZ1OQAAAAAAA4E5AVVVVVVUdT0AAAAAAAEBPQAAAAAAAgE9AVVVVVVWdT0BVVVVVVd1PQFVVVVVV/U9A\",\"dtype\":\"float64\",\"order\":\"little\",\"shape\":[21]},\"top\":{\"__ndarray__\":\"MzMzMzMzSkAzMzMzM7NLQDMzMzMzs0dAMzMzMzOzRkAzMzMzM7NGQDMzMzMzM0pAMzMzMzOzS0AzMzMzM7NHQDMzMzMzM0pAMzMzMzOzRkAzMzMzMzNKQDMzMzMzs0tAMzMzMzOzR0AzMzMzMzNKQDMzMzMzs0ZAMzMzMzMzSkAzMzMzM7NLQDMzMzMzs0dAMzMzMzMzSkAzMzMzM7NGQDMzMzMzM0pA\",\"dtype\":\"float64\",\"order\":\"little\",\"shape\":[21]},\"velocity\":[81,97,81,81,97,81,97,81,81,81,81,97,81,81,81,81,97,81,81,81,97]},\"selected\":{\"id\":\"2051\"},\"selection_policy\":{\"id\":\"2052\"}},\"id\":\"1981\",\"type\":\"ColumnDataSource\"},{\"attributes\":{\"source\":{\"id\":\"1861\"}},\"id\":\"1866\",\"type\":\"CDSView\"},{\"attributes\":{\"data\":{\"bottom\":{\"__ndarray__\":\"zczMzMxMTEBmZmZmZiZRQM3MzMzMzE9A\",\"dtype\":\"float64\",\"order\":\"little\",\"shape\":[3]},\"duration\":{\"__ndarray__\":\"AAAAAAAA3D8AAAAAAACwPwAAAAAAAOY/\",\"dtype\":\"float64\",\"order\":\"little\",\"shape\":[3]},\"end_time\":{\"__ndarray__\":\"AAAAAAA4T0AAAAAAAEhPQAAAAAAA2E9A\",\"dtype\":\"float64\",\"order\":\"little\",\"shape\":[3]},\"fill_alpha\":{\"__ndarray__\":\"AAAAAABA5D8AAAAAAEDkPwAAAAAAQOQ/\",\"dtype\":\"float64\",\"order\":\"little\",\"shape\":[3]},\"index\":[710,714,719],\"instrument\":[28,28,28],\"pitch\":[57,69,64],\"program\":[75,75,75],\"start_time\":{\"__ndarray__\":\"AAAAAAAAT0AAAAAAAEBPQAAAAAAAgE9A\",\"dtype\":\"float64\",\"order\":\"little\",\"shape\":[3]},\"top\":{\"__ndarray__\":\"MzMzMzOzTECamZmZmVlRQJqZmZmZGVBA\",\"dtype\":\"float64\",\"order\":\"little\",\"shape\":[3]},\"velocity\":[81,81,81]},\"selected\":{\"id\":\"2053\"},\"selection_policy\":{\"id\":\"2054\"}},\"id\":\"1987\",\"type\":\"ColumnDataSource\"},{\"attributes\":{\"source\":{\"id\":\"1885\"}},\"id\":\"1890\",\"type\":\"CDSView\"},{\"attributes\":{},\"id\":\"2008\",\"type\":\"UnionRenderers\"},{\"attributes\":{},\"id\":\"2007\",\"type\":\"Selection\"},{\"attributes\":{\"data_source\":{\"id\":\"1885\"},\"glyph\":{\"id\":\"1887\"},\"hover_glyph\":null,\"muted_glyph\":null,\"nonselection_glyph\":{\"id\":\"1888\"},\"selection_glyph\":null,\"view\":{\"id\":\"1890\"}},\"id\":\"1889\",\"type\":\"GlyphRenderer\"},{\"attributes\":{\"bottom\":{\"field\":\"bottom\"},\"fill_alpha\":{\"value\":0.1},\"fill_color\":{\"value\":\"#66c2a5\"},\"left\":{\"field\":\"start_time\"},\"line_alpha\":{\"value\":0.1},\"right\":{\"field\":\"end_time\"},\"top\":{\"field\":\"top\"}},\"id\":\"1846\",\"type\":\"Quad\"},{\"attributes\":{\"data\":{\"bottom\":{\"__ndarray__\":\"zczMzMxMT0BmZmZmZqZQQGZmZmZmZlFAZmZmZmbmUEBmZmZmZqZQQM3MzMzMTE9AZmZmZmamUEDNzMzMzExJQM3MzMzMTEtAzczMzMzMTEDNzMzMzExPQM3MzMzMzEVAzczMzMxMSUDNzMzMzExFQM3MzMzMTEVAzczMzMzMRkDNzMzMzMxHQA==\",\"dtype\":\"float64\",\"order\":\"little\",\"shape\":[17]},\"duration\":{\"__ndarray__\":\"AAAAAAAA1D9AVVVVVVXVPwAAAAAAANQ/oKqqqqqq4j+AVVVVVVXNPwAAAAAAAOg/AAAAAAAA5j8AAAAAAADIPwAAAAAAAOA/AAAAAAAA0D8AAAAAAADQP6CqqqqqquA/oKqqqqqq8z8AAAAAAADcPwAAAAAAAOQ/gKqqqqqq3j8AAAAAAADAPw==\",\"dtype\":\"float64\",\"order\":\"little\",\"shape\":[17]},\"end_time\":{\"__ndarray__\":\"AAAAAADQNkBVVVVVVRU3QAAAAAAAUDdAVVVVVVXVN0Crqqqqqvo3QAAAAAAAQDlAAAAAAABQOUAAAAAAAJA5QAAAAAAAADpAAAAAAAAAOkAAAAAAAAA6QFVVVVVVBTtAVVVVVVX1O0Crqqqqqko7QKuqqqqq2jtAVVVVVVX1O0BVVVVVVfU7QA==\",\"dtype\":\"float64\",\"order\":\"little\",\"shape\":[17]},\"fill_alpha\":{\"__ndarray__\":\"AAAAAABA7D8AAAAAAEDkPwAAAAAAQOQ/AAAAAABA5D8AAAAAAEDkPwAAAAAAQOg/AAAAAABA7D8AAAAAAEDsPwAAAAAAQOw/AAAAAABA6D8AAAAAAEDsPwAAAAAAQOg/AAAAAABA7D8AAAAAAEDsPwAAAAAAQOw/AAAAAABA7D8AAAAAAEDoPw==\",\"dtype\":\"float64\",\"order\":\"little\",\"shape\":[17]},\"index\":[318,321,323,329,333,342,345,351,353,356,357,366,367,370,375,377,381],\"instrument\":[15,15,15,15,15,15,15,15,15,15,15,15,15,15,15,15,15],\"pitch\":[63,67,70,68,67,63,67,51,55,58,63,44,51,43,43,46,48],\"program\":[24,24,24,24,24,24,24,24,24,24,24,24,24,24,24,24,24],\"start_time\":{\"__ndarray__\":\"AAAAAACANkAAAAAAAMA2QAAAAAAAADdAAAAAAABAN0AAAAAAAMA3QAAAAAAAgDhAAAAAAACgOEAAAAAAAGA5QAAAAAAAgDlAAAAAAADAOUAAAAAAAMA5QAAAAAAAgDpAq6qqqqq6OkCrqqqqqto6QKuqqqqqOjtAq6qqqqp6O0BVVVVVVdU7QA==\",\"dtype\":\"float64\",\"order\":\"little\",\"shape\":[17]},\"top\":{\"__ndarray__\":\"MzMzMzOzT0CamZmZmdlQQJqZmZmZmVFAmpmZmZkZUUCamZmZmdlQQDMzMzMzs09AmpmZmZnZUEAzMzMzM7NJQDMzMzMzs0tAMzMzMzMzTUAzMzMzM7NPQDMzMzMzM0ZAMzMzMzOzSUAzMzMzM7NFQDMzMzMzs0VAMzMzMzMzR0AzMzMzMzNIQA==\",\"dtype\":\"float64\",\"order\":\"little\",\"shape\":[17]},\"velocity\":[113,81,81,81,81,97,113,113,113,97,113,97,113,113,113,113,97]},\"selected\":{\"id\":\"2027\"},\"selection_policy\":{\"id\":\"2028\"}},\"id\":\"1909\",\"type\":\"ColumnDataSource\"},{\"attributes\":{\"bottom\":{\"field\":\"bottom\"},\"fill_alpha\":{\"field\":\"fill_alpha\"},\"fill_color\":{\"value\":\"#f46d43\"},\"left\":{\"field\":\"start_time\"},\"right\":{\"field\":\"end_time\"},\"top\":{\"field\":\"top\"}},\"id\":\"1881\",\"type\":\"Quad\"},{\"attributes\":{\"bottom\":{\"field\":\"bottom\"},\"fill_alpha\":{\"field\":\"fill_alpha\"},\"fill_color\":{\"value\":\"#fdae61\"},\"left\":{\"field\":\"start_time\"},\"right\":{\"field\":\"end_time\"},\"top\":{\"field\":\"top\"}},\"id\":\"1977\",\"type\":\"Quad\"},{\"attributes\":{\"data_source\":{\"id\":\"1975\"},\"glyph\":{\"id\":\"1977\"},\"hover_glyph\":null,\"muted_glyph\":null,\"nonselection_glyph\":{\"id\":\"1978\"},\"selection_glyph\":null,\"view\":{\"id\":\"1980\"}},\"id\":\"1979\",\"type\":\"GlyphRenderer\"},{\"attributes\":{\"interval\":12},\"id\":\"1824\",\"type\":\"SingleIntervalTicker\"},{\"attributes\":{\"source\":{\"id\":\"1873\"}},\"id\":\"1878\",\"type\":\"CDSView\"},{\"attributes\":{\"bottom\":{\"field\":\"bottom\"},\"fill_alpha\":{\"field\":\"fill_alpha\"},\"fill_color\":{\"value\":\"#fdae61\"},\"left\":{\"field\":\"start_time\"},\"right\":{\"field\":\"end_time\"},\"top\":{\"field\":\"top\"}},\"id\":\"1893\",\"type\":\"Quad\"},{\"attributes\":{\"source\":{\"id\":\"1975\"}},\"id\":\"1980\",\"type\":\"CDSView\"},{\"attributes\":{\"data_source\":{\"id\":\"1891\"},\"glyph\":{\"id\":\"1893\"},\"hover_glyph\":null,\"muted_glyph\":null,\"nonselection_glyph\":{\"id\":\"1894\"},\"selection_glyph\":null,\"view\":{\"id\":\"1896\"}},\"id\":\"1895\",\"type\":\"GlyphRenderer\"},{\"attributes\":{\"bottom\":{\"field\":\"bottom\"},\"fill_alpha\":{\"value\":0.1},\"fill_color\":{\"value\":\"#3288bd\"},\"left\":{\"field\":\"start_time\"},\"line_alpha\":{\"value\":0.1},\"right\":{\"field\":\"end_time\"},\"top\":{\"field\":\"top\"}},\"id\":\"1876\",\"type\":\"Quad\"},{\"attributes\":{\"bottom\":{\"field\":\"bottom\"},\"fill_alpha\":{\"value\":0.1},\"fill_color\":{\"value\":\"#fdae61\"},\"left\":{\"field\":\"start_time\"},\"line_alpha\":{\"value\":0.1},\"right\":{\"field\":\"end_time\"},\"top\":{\"field\":\"top\"}},\"id\":\"1978\",\"type\":\"Quad\"},{\"attributes\":{\"data\":{\"bottom\":{\"__ndarray__\":\"zczMzMxMT0BmZmZmZqZQQGZmZmZmJlBAzczMzMxMT0DNzMzMzMxMQM3MzMzMTE9AzczMzMxMT0BmZmZmZiZQQM3MzMzMzE1AzczMzMxMT0DNzMzMzExLQM3MzMzMTE9AzczMzMxMT0DNzMzMzMxNQM3MzMzMTE9AzczMzMzMTEA=\",\"dtype\":\"float64\",\"order\":\"little\",\"shape\":[16]},\"duration\":{\"__ndarray__\":\"AAAAAAAA9D+wqqqqqqr0PwAAAAAAANA/AAAAAAAA0D8AVlVVVVWlPwBWVVVVVaU/AFVVVVVVtT8AAAAAAACwP0BVVVVVVdE/QFVVVVVV0T9AVVVVVVXRPwAAAAAAAOI/QFVVVVVV1T9AVVVVVVXhP4Cqqqqqqt4/AFZVVVVVpT8=\",\"dtype\":\"float64\",\"order\":\"little\",\"shape\":[16]},\"end_time\":{\"__ndarray__\":\"AAAAAACALkCrqqqqqqouQFVVVVVVVS9Aq6qqqqpqL0CrqqqqquovQKuqqqqqCjBAVVVVVVVVMUAAAAAAAJAxQAAAAAAAADJAAAAAAAAAMkAAAAAAAAAyQAAAAAAAkDJAAAAAAAAQM0BVVVVVVYUzQFVVVVVV9TNAAAAAAAAANEA=\",\"dtype\":\"float64\",\"order\":\"little\",\"shape\":[16]},\"fill_alpha\":{\"__ndarray__\":\"AAAAAABA7D8AAAAAAEDsPwAAAAAAQOw/AAAAAABA7D8AAAAAAEDsPwAAAAAAQOw/AAAAAABA7D8AAAAAAEDsPwAAAAAAQOw/AAAAAABA7D8AAAAAAEDsPwAAAAAAQOw/AAAAAABA7D8AAAAAAEDsPwAAAAAAQOw/AAAAAABA7D8=\",\"dtype\":\"float64\",\"order\":\"little\",\"shape\":[16]},\"index\":[207,213,223,224,233,236,251,255,258,259,260,264,271,275,283,287],\"instrument\":[10,10,10,10,10,10,10,10,10,10,10,10,10,10,10,10],\"pitch\":[63,67,65,63,58,63,63,65,60,63,55,63,63,60,63,58],\"program\":[48,48,48,48,48,48,48,48,48,48,48,48,48,48,48,48],\"start_time\":{\"__ndarray__\":\"AAAAAAAALEBVVVVVVRUsQFVVVVVV1S5Aq6qqqqrqLkBVVVVVVdUvQAAAAAAAADBAAAAAAABAMUAAAAAAAIAxQKuqqqqqujFAq6qqqqq6MUCrqqqqqroxQAAAAAAAADJAq6qqqqq6MkCrqqqqqvoyQKuqqqqqejNAVVVVVVX1M0A=\",\"dtype\":\"float64\",\"order\":\"little\",\"shape\":[16]},\"top\":{\"__ndarray__\":\"MzMzMzOzT0CamZmZmdlQQJqZmZmZWVBAMzMzMzOzT0AzMzMzMzNNQDMzMzMzs09AMzMzMzOzT0CamZmZmVlQQDMzMzMzM05AMzMzMzOzT0AzMzMzM7NLQDMzMzMzs09AMzMzMzOzT0AzMzMzMzNOQDMzMzMzs09AMzMzMzMzTUA=\",\"dtype\":\"float64\",\"order\":\"little\",\"shape\":[16]},\"velocity\":[113,113,113,113,113,113,113,113,113,113,113,113,113,113,113,113]},\"selected\":{\"id\":\"2017\"},\"selection_policy\":{\"id\":\"2018\"}},\"id\":\"1879\",\"type\":\"ColumnDataSource\"},{\"attributes\":{\"source\":{\"id\":\"1891\"}},\"id\":\"1896\",\"type\":\"CDSView\"},{\"attributes\":{},\"id\":\"2006\",\"type\":\"UnionRenderers\"},{\"attributes\":{\"bottom\":{\"field\":\"bottom\"},\"fill_alpha\":{\"value\":0.1},\"fill_color\":{\"value\":\"#fdae61\"},\"left\":{\"field\":\"start_time\"},\"line_alpha\":{\"value\":0.1},\"right\":{\"field\":\"end_time\"},\"top\":{\"field\":\"top\"}},\"id\":\"1894\",\"type\":\"Quad\"},{\"attributes\":{},\"id\":\"1996\",\"type\":\"BasicTickFormatter\"},{\"attributes\":{\"bottom\":{\"field\":\"bottom\"},\"fill_alpha\":{\"value\":0.1},\"fill_color\":{\"value\":\"#fdae61\"},\"left\":{\"field\":\"start_time\"},\"line_alpha\":{\"value\":0.1},\"right\":{\"field\":\"end_time\"},\"top\":{\"field\":\"top\"}},\"id\":\"1852\",\"type\":\"Quad\"},{\"attributes\":{\"bottom\":{\"field\":\"bottom\"},\"fill_alpha\":{\"value\":0.1},\"fill_color\":{\"value\":\"#fdae61\"},\"left\":{\"field\":\"start_time\"},\"line_alpha\":{\"value\":0.1},\"right\":{\"field\":\"end_time\"},\"top\":{\"field\":\"top\"}},\"id\":\"1936\",\"type\":\"Quad\"},{\"attributes\":{\"data_source\":{\"id\":\"1861\"},\"glyph\":{\"id\":\"1863\"},\"hover_glyph\":null,\"muted_glyph\":null,\"nonselection_glyph\":{\"id\":\"1864\"},\"selection_glyph\":null,\"view\":{\"id\":\"1866\"}},\"id\":\"1865\",\"type\":\"GlyphRenderer\"},{\"attributes\":{\"data\":{\"bottom\":{\"__ndarray__\":\"zczMzMzMQ0DNzMzMzExNQM3MzMzMzEtAzczMzMzMS0DNzMzMzMxDQM3MzMzMzEtAzczMzMzMQ0DNzMzMzMxLQM3MzMzMzENAzczMzMzMS0DNzMzMzMxDQM3MzMzMTE1AzczMzMzMS0DNzMzMzMxLQM3MzMzMzENAzczMzMzMQ0DNzMzMzMxLQM3MzMzMzENAzczMzMxMREDNzMzMzMxDQM3MzMzMTE1AzczMzMzMS0DNzMzMzMxDQM3MzMzMzENAzczMzMzMQ0DNzMzMzMxDQM3MzMzMTEpAzczMzMzMQ0DNzMzMzMxDQM3MzMzMzElAzczMzMzMS0DNzMzMzMxLQM3MzMzMzEtAzczMzMzMS0DNzMzMzMxLQM3MzMzMzEtAzczMzMzMQ0DNzMzMzMxJQM3MzMzMzEtAzczMzMzMS0DNzMzMzMxLQM3MzMzMzEtAzczMzMzMQ0DNzMzMzMxDQM3MzMzMzENAzczMzMzMSUDNzMzMzMxLQM3MzMzMzENAzczMzMzMSUDNzMzMzMxLQM3MzMzMzENA\",\"dtype\":\"float64\",\"order\":\"little\",\"shape\":[51]},\"duration\":{\"__ndarray__\":\"AFZVVVVVpT8AVlVVVVWlPwBWVVVVVaU/AFZVVVVVpT8AVlVVVVWlPwBWVVVVVaU/AFZVVVVVpT8AVlVVVVWlPwBWVVVVVaU/AFZVVVVVpT8AVlVVVVWlPwBWVVVVVaU/AFZVVVVVpT8AVlVVVVWlPwBWVVVVVaU/AFZVVVVVpT8AVlVVVVWlPwBWVVVVVaU/AFZVVVVVpT8AVlVVVVWlPwBWVVVVVaU/AFZVVVVVpT8AVlVVVVWlPwBWVVVVVaU/AFZVVVVVpT8AVlVVVVWlPwBWVVVVVaU/AFZVVVVVpT8AVlVVVVWlPwBWVVVVVaU/AFZVVVVVpT8AVlVVVVWlPwBWVVVVVaU/AFZVVVVVpT8AVlVVVVWlPwBWVVVVVaU/AFRVVVVVpT8AVFVVVVWlPwBUVVVVVaU/AFRVVVVVpT8AVFVVVVWlPwBUVVVVVaU/AFRVVVVVpT8AVFVVVVWlPwBUVVVVVaU/AFRVVVVVpT8AVFVVVVWlPwBUVVVVVaU/AFRVVVVVpT8AVFVVVVWlPwBUVVVVVaU/\",\"dtype\":\"float64\",\"order\":\"little\",\"shape\":[51]},\"end_time\":{\"__ndarray__\":\"q6qqqqoKOECrqqqqqgo4QKuqqqqqajhAq6qqqqqKOECrqqqqqgo5QKuqqqqqSjlAq6qqqqpqOUCrqqqqqoo5QKuqqqqqyjlAq6qqqqrqOUCrqqqqqgo6QKuqqqqqCjpAq6qqqqpqOkCrqqqqqso6QKuqqqqqCjtAq6qqqqpKO0Crqqqqqoo7QKuqqqqqyjtAq6qqqqrqO0Crqqqqqgo8QKuqqqqqCjxAq6qqqqqKPECrqqqqqqo8QKuqqqqqCj1Aq6qqqqpKPUCrqqqqqmo9QKuqqqqqyj1Aq6qqqqrqPUCrqqqqqgo+QKuqqqqqSj5Aq6qqqqrKPkCrqqqqquo+QKuqqqqqSj9Aq6qqqqpqP0Crqqqqqso/QKuqqqqq6j9AVVVVVVUFQEBVVVVVVSVAQFVVVVVVZUBAVVVVVVV1QEBVVVVVVaVAQFVVVVVVtUBAVVVVVVXlQEBVVVVVVfVAQFVVVVVVBUFAVVVVVVUlQUBVVVVVVWVBQFVVVVVVhUFAVVVVVVWVQUBVVVVVVcVBQFVVVVVV1UFA\",\"dtype\":\"float64\",\"order\":\"little\",\"shape\":[51]},\"fill_alpha\":{\"__ndarray__\":\"AAAAAABA7D8AAAAAAEDsPwAAAAAAQOw/AAAAAABA6D8AAAAAAEDsPwAAAAAAQOw/AAAAAABA7D8AAAAAAEDsPwAAAAAAQOw/AAAAAABA7D8AAAAAAEDsPwAAAAAAQOw/AAAAAABA7D8AAAAAAEDoPwAAAAAAQOw/AAAAAABA7D8AAAAAAEDsPwAAAAAAQOw/AAAAAABA7D8AAAAAAEDsPwAAAAAAQOw/AAAAAABA7D8AAAAAAEDoPwAAAAAAQOw/AAAAAABA7D8AAAAAAEDsPwAAAAAAQOw/AAAAAABA7D8AAAAAAEDsPwAAAAAAQOw/AAAAAABA7D8AAAAAAEDsPwAAAAAAQOw/AAAAAABA7D8AAAAAAEDsPwAAAAAAQOw/AAAAAABA7D8AAAAAAEDsPwAAAAAAQOw/AAAAAABA7D8AAAAAAEDsPwAAAAAAQOw/AAAAAABA7D8AAAAAAEDsPwAAAAAAQOw/AAAAAABA7D8AAAAAAEDsPwAAAAAAQOw/AAAAAABA7D8AAAAAAEDsPwAAAAAAQOQ/\",\"dtype\":\"float64\",\"order\":\"little\",\"shape\":[51]},\"index\":[339,340,341,343,348,350,352,355,358,359,363,364,365,369,374,376,378,380,382,386,387,389,390,395,397,398,403,404,408,410,413,415,421,422,427,428,432,434,439,440,443,444,450,452,456,458,461,465,466,469,470],\"instrument\":[16,16,16,16,16,16,16,16,16,16,16,16,16,16,16,16,16,16,16,16,16,16,16,16,16,16,16,16,16,16,16,16,16,16,16,16,16,16,16,16,16,16,16,16,16,16,16,16,16,16,16],\"pitch\":[40,59,56,56,40,56,40,56,40,56,40,59,56,56,40,40,56,40,41,40,59,56,40,40,40,40,53,40,40,52,56,56,56,56,56,56,40,52,56,56,56,56,40,40,40,52,56,40,52,56,40],\"program\":[118,118,118,118,118,118,118,118,118,118,118,118,118,118,118,118,118,118,118,118,118,118,118,118,118,118,118,118,118,118,118,118,118,118,118,118,118,118,118,118,118,118,118,118,118,118,118,118,118,118,118],\"start_time\":{\"__ndarray__\":\"AAAAAAAAOEAAAAAAAAA4QAAAAAAAYDhAAAAAAACAOEAAAAAAAAA5QAAAAAAAQDlAAAAAAABgOUAAAAAAAIA5QAAAAAAAwDlAAAAAAADgOUAAAAAAAAA6QAAAAAAAADpAAAAAAABgOkAAAAAAAMA6QAAAAAAAADtAAAAAAABAO0AAAAAAAIA7QAAAAAAAwDtAAAAAAADgO0AAAAAAAAA8QAAAAAAAADxAAAAAAACAPEAAAAAAAKA8QAAAAAAAAD1AAAAAAABAPUAAAAAAAGA9QAAAAAAAwD1AAAAAAADgPUAAAAAAAAA+QAAAAAAAQD5AAAAAAADAPkAAAAAAAOA+QAAAAAAAQD9AAAAAAABgP0AAAAAAAMA/QAAAAAAA4D9AAAAAAAAAQEAAAAAAACBAQAAAAAAAYEBAAAAAAABwQEAAAAAAAKBAQAAAAAAAsEBAAAAAAADgQEAAAAAAAPBAQAAAAAAAAEFAAAAAAAAgQUAAAAAAAGBBQAAAAAAAgEFAAAAAAACQQUAAAAAAAMBBQAAAAAAA0EFA\",\"dtype\":\"float64\",\"order\":\"little\",\"shape\":[51]},\"top\":{\"__ndarray__\":\"MzMzMzMzREAzMzMzM7NNQDMzMzMzM0xAMzMzMzMzTEAzMzMzMzNEQDMzMzMzM0xAMzMzMzMzREAzMzMzMzNMQDMzMzMzM0RAMzMzMzMzTEAzMzMzMzNEQDMzMzMzs01AMzMzMzMzTEAzMzMzMzNMQDMzMzMzM0RAMzMzMzMzREAzMzMzMzNMQDMzMzMzM0RAMzMzMzOzREAzMzMzMzNEQDMzMzMzs01AMzMzMzMzTEAzMzMzMzNEQDMzMzMzM0RAMzMzMzMzREAzMzMzMzNEQDMzMzMzs0pAMzMzMzMzREAzMzMzMzNEQDMzMzMzM0pAMzMzMzMzTEAzMzMzMzNMQDMzMzMzM0xAMzMzMzMzTEAzMzMzMzNMQDMzMzMzM0xAMzMzMzMzREAzMzMzMzNKQDMzMzMzM0xAMzMzMzMzTEAzMzMzMzNMQDMzMzMzM0xAMzMzMzMzREAzMzMzMzNEQDMzMzMzM0RAMzMzMzMzSkAzMzMzMzNMQDMzMzMzM0RAMzMzMzMzSkAzMzMzMzNMQDMzMzMzM0RA\",\"dtype\":\"float64\",\"order\":\"little\",\"shape\":[51]},\"velocity\":[113,113,113,97,113,113,113,113,113,113,113,113,113,97,113,113,113,113,113,113,113,113,97,113,113,113,113,113,113,113,113,113,113,113,113,113,113,113,113,113,113,113,113,113,113,113,113,113,113,113,81]},\"selected\":{\"id\":\"2029\"},\"selection_policy\":{\"id\":\"2030\"}},\"id\":\"1915\",\"type\":\"ColumnDataSource\"},{\"attributes\":{\"bottom\":{\"field\":\"bottom\"},\"fill_alpha\":{\"field\":\"fill_alpha\"},\"fill_color\":{\"value\":\"#fdae61\"},\"left\":{\"field\":\"start_time\"},\"right\":{\"field\":\"end_time\"},\"top\":{\"field\":\"top\"}},\"id\":\"1851\",\"type\":\"Quad\"},{\"attributes\":{\"bottom\":{\"field\":\"bottom\"},\"fill_alpha\":{\"value\":0.1},\"fill_color\":{\"value\":\"#abdda4\"},\"left\":{\"field\":\"start_time\"},\"line_alpha\":{\"value\":0.1},\"right\":{\"field\":\"end_time\"},\"top\":{\"field\":\"top\"}},\"id\":\"1900\",\"type\":\"Quad\"},{\"attributes\":{\"data_source\":{\"id\":\"1843\"},\"glyph\":{\"id\":\"1845\"},\"hover_glyph\":null,\"muted_glyph\":null,\"nonselection_glyph\":{\"id\":\"1846\"},\"selection_glyph\":null,\"view\":{\"id\":\"1848\"}},\"id\":\"1847\",\"type\":\"GlyphRenderer\"},{\"attributes\":{\"source\":{\"id\":\"1933\"}},\"id\":\"1938\",\"type\":\"CDSView\"},{\"attributes\":{\"bottom\":{\"field\":\"bottom\"},\"fill_alpha\":{\"field\":\"fill_alpha\"},\"fill_color\":{\"value\":\"#abdda4\"},\"left\":{\"field\":\"start_time\"},\"right\":{\"field\":\"end_time\"},\"top\":{\"field\":\"top\"}},\"id\":\"1983\",\"type\":\"Quad\"},{\"attributes\":{\"data_source\":{\"id\":\"1981\"},\"glyph\":{\"id\":\"1983\"},\"hover_glyph\":null,\"muted_glyph\":null,\"nonselection_glyph\":{\"id\":\"1984\"},\"selection_glyph\":null,\"view\":{\"id\":\"1986\"}},\"id\":\"1985\",\"type\":\"GlyphRenderer\"},{\"attributes\":{\"data_source\":{\"id\":\"1939\"},\"glyph\":{\"id\":\"1941\"},\"hover_glyph\":null,\"muted_glyph\":null,\"nonselection_glyph\":{\"id\":\"1942\"},\"selection_glyph\":null,\"view\":{\"id\":\"1944\"}},\"id\":\"1943\",\"type\":\"GlyphRenderer\"},{\"attributes\":{\"bottom\":{\"field\":\"bottom\"},\"fill_alpha\":{\"field\":\"fill_alpha\"},\"fill_color\":{\"value\":\"#abdda4\"},\"left\":{\"field\":\"start_time\"},\"right\":{\"field\":\"end_time\"},\"top\":{\"field\":\"top\"}},\"id\":\"1899\",\"type\":\"Quad\"},{\"attributes\":{\"source\":{\"id\":\"1981\"}},\"id\":\"1986\",\"type\":\"CDSView\"},{\"attributes\":{\"data_source\":{\"id\":\"1897\"},\"glyph\":{\"id\":\"1899\"},\"hover_glyph\":null,\"muted_glyph\":null,\"nonselection_glyph\":{\"id\":\"1900\"},\"selection_glyph\":null,\"view\":{\"id\":\"1902\"}},\"id\":\"1901\",\"type\":\"GlyphRenderer\"},{\"attributes\":{\"bottom\":{\"field\":\"bottom\"},\"fill_alpha\":{\"value\":0.1},\"fill_color\":{\"value\":\"#abdda4\"},\"left\":{\"field\":\"start_time\"},\"line_alpha\":{\"value\":0.1},\"right\":{\"field\":\"end_time\"},\"top\":{\"field\":\"top\"}},\"id\":\"1984\",\"type\":\"Quad\"},{\"attributes\":{\"bottom\":{\"field\":\"bottom\"},\"fill_alpha\":{\"value\":0.1},\"fill_color\":{\"value\":\"#d53e4f\"},\"left\":{\"field\":\"start_time\"},\"line_alpha\":{\"value\":0.1},\"right\":{\"field\":\"end_time\"},\"top\":{\"field\":\"top\"}},\"id\":\"1870\",\"type\":\"Quad\"},{\"attributes\":{\"source\":{\"id\":\"1897\"}},\"id\":\"1902\",\"type\":\"CDSView\"},{\"attributes\":{},\"id\":\"1997\",\"type\":\"BasicTickFormatter\"},{\"attributes\":{\"source\":{\"id\":\"1849\"}},\"id\":\"1854\",\"type\":\"CDSView\"},{\"attributes\":{\"data_source\":{\"id\":\"1879\"},\"glyph\":{\"id\":\"1881\"},\"hover_glyph\":null,\"muted_glyph\":null,\"nonselection_glyph\":{\"id\":\"1882\"},\"selection_glyph\":null,\"view\":{\"id\":\"1884\"}},\"id\":\"1883\",\"type\":\"GlyphRenderer\"},{\"attributes\":{\"data\":{\"bottom\":{\"__ndarray__\":\"zczMzMxMS0DNzMzMzExPQM3MzMzMzE1AZmZmZmbmUEDNzMzMzExPQM3MzMzMTElAzczMzMzMR0DNzMzMzExJQM3MzMzMzEdAzczMzMxMSUDNzMzMzExJQM3MzMzMTEtAzczMzMzMTUDNzMzMzExJQM3MzMzMTEtAzczMzMzMTEDNzMzMzExJQM3MzMzMTEtAzczMzMzMTUDNzMzMzExPQM3MzMzMzE1AzczMzMzMT0A=\",\"dtype\":\"float64\",\"order\":\"little\",\"shape\":[22]},\"duration\":{\"__ndarray__\":\"AAAAAAAA4j+gqqqqqqrqPwAAAAAAAOQ/AAAAAAAA0D8AAAAAAADQPwAAAAAAAOY/wKqqqqqq3j8AAAAAAADYP6CqqqqqquA/AAAAAAAA0D8AAAAAAADmP8CqqqqqquI/wKqqqqqq4j8AAAAAAADgPwAAAAAAAOA/AAAAAAAA4D8AAAAAAADmPwAAAAAAAOY/AAAAAAAA5j8AVVVVVVXFPwAAAAAAANA/AAAAAAAA0D8=\",\"dtype\":\"float64\",\"order\":\"little\",\"shape\":[22]},\"end_time\":{\"__ndarray__\":\"AAAAAACQPEBVVVVVVZU9QAAAAAAAoD1AAAAAAADAPUAAAAAAAAA+QAAAAAAAsD5Aq6qqqqo6P0BVVVVVVSU/QFVVVVVVxT9AAAAAAAAAQEAAAAAAAFhAQKuqqqqqqkBAq6qqqqqqQEAAAAAAAABBQAAAAAAAAEFAAAAAAAAAQUAAAAAAAFhBQAAAAAAAuEFAAAAAAAC4QUBVVVVVVdVBQAAAAAAAAEJAAAAAAAAAQkA=\",\"dtype\":\"float64\",\"order\":\"little\",\"shape\":[22]},\"fill_alpha\":{\"__ndarray__\":\"AAAAAABA7D8AAAAAAEDsPwAAAAAAQOw/AAAAAABA7D8AAAAAAEDsPwAAAAAAQOw/AAAAAABA7D8AAAAAAEDsPwAAAAAAQOw/AAAAAABA7D8AAAAAAEDsPwAAAAAAQOQ/AAAAAABA5D8AAAAAAEDkPwAAAAAAQOQ/AAAAAABA5D8AAAAAAEDsPwAAAAAAQOQ/AAAAAABA5D8AAAAAAEDkPwAAAAAAQOQ/AAAAAABA5D8=\",\"dtype\":\"float64\",\"order\":\"little\",\"shape\":[22]},\"index\":[383,391,392,400,402,405,412,414,420,426,429,437,438,445,446,447,453,459,460,468,472,473],\"instrument\":[17,17,17,17,17,17,17,17,17,17,17,17,17,17,17,17,17,17,17,17,17,17],\"pitch\":[55,63,60,68,63,51,48,51,48,51,51,55,60,51,55,58,51,55,60,63,60,64],\"program\":[50,50,50,50,50,50,50,50,50,50,50,50,50,50,50,50,50,50,50,50,50,50],\"start_time\":{\"__ndarray__\":\"AAAAAAAAPEAAAAAAAMA8QAAAAAAAAD1AAAAAAACAPUAAAAAAAMA9QAAAAAAAAD5AAAAAAADAPkBVVVVVVcU+QAAAAAAAQD9AAAAAAADAP0AAAAAAAABAQAAAAAAAYEBAAAAAAABgQEAAAAAAAMBAQAAAAAAAwEBAAAAAAADAQEAAAAAAAABBQAAAAAAAYEFAAAAAAABgQUAAAAAAAMBBQAAAAAAA4EFAAAAAAADgQUA=\",\"dtype\":\"float64\",\"order\":\"little\",\"shape\":[22]},\"top\":{\"__ndarray__\":\"MzMzMzOzS0AzMzMzM7NPQDMzMzMzM05AmpmZmZkZUUAzMzMzM7NPQDMzMzMzs0lAMzMzMzMzSEAzMzMzM7NJQDMzMzMzM0hAMzMzMzOzSUAzMzMzM7NJQDMzMzMzs0tAMzMzMzMzTkAzMzMzM7NJQDMzMzMzs0tAMzMzMzMzTUAzMzMzM7NJQDMzMzMzs0tAMzMzMzMzTkAzMzMzM7NPQDMzMzMzM05AmpmZmZkZUEA=\",\"dtype\":\"float64\",\"order\":\"little\",\"shape\":[22]},\"velocity\":[113,113,113,113,113,113,113,113,113,113,113,81,81,81,81,81,113,81,81,81,81,81]},\"selected\":{\"id\":\"2031\"},\"selection_policy\":{\"id\":\"2032\"}},\"id\":\"1921\",\"type\":\"ColumnDataSource\"},{\"attributes\":{\"source\":{\"id\":\"1867\"}},\"id\":\"1872\",\"type\":\"CDSView\"},{\"attributes\":{\"bottom\":{\"field\":\"bottom\"},\"fill_alpha\":{\"field\":\"fill_alpha\"},\"fill_color\":{\"value\":\"#e6f598\"},\"left\":{\"field\":\"start_time\"},\"right\":{\"field\":\"end_time\"},\"top\":{\"field\":\"top\"}},\"id\":\"1989\",\"type\":\"Quad\"},{\"attributes\":{\"data_source\":{\"id\":\"1987\"},\"glyph\":{\"id\":\"1989\"},\"hover_glyph\":null,\"muted_glyph\":null,\"nonselection_glyph\":{\"id\":\"1990\"},\"selection_glyph\":null,\"view\":{\"id\":\"1992\"}},\"id\":\"1991\",\"type\":\"GlyphRenderer\"},{\"attributes\":{\"data_source\":{\"id\":\"1873\"},\"glyph\":{\"id\":\"1875\"},\"hover_glyph\":null,\"muted_glyph\":null,\"nonselection_glyph\":{\"id\":\"1876\"},\"selection_glyph\":null,\"view\":{\"id\":\"1878\"}},\"id\":\"1877\",\"type\":\"GlyphRenderer\"},{\"attributes\":{\"bottom\":{\"field\":\"bottom\"},\"fill_alpha\":{\"field\":\"fill_alpha\"},\"fill_color\":{\"value\":\"#e6f598\"},\"left\":{\"field\":\"start_time\"},\"right\":{\"field\":\"end_time\"},\"top\":{\"field\":\"top\"}},\"id\":\"1905\",\"type\":\"Quad\"},{\"attributes\":{\"data_source\":{\"id\":\"1903\"},\"glyph\":{\"id\":\"1905\"},\"hover_glyph\":null,\"muted_glyph\":null,\"nonselection_glyph\":{\"id\":\"1906\"},\"selection_glyph\":null,\"view\":{\"id\":\"1908\"}},\"id\":\"1907\",\"type\":\"GlyphRenderer\"},{\"attributes\":{\"source\":{\"id\":\"1987\"}},\"id\":\"1992\",\"type\":\"CDSView\"},{\"attributes\":{\"bottom\":{\"field\":\"bottom\"},\"fill_alpha\":{\"value\":0.1},\"fill_color\":{\"value\":\"#e6f598\"},\"left\":{\"field\":\"start_time\"},\"line_alpha\":{\"value\":0.1},\"right\":{\"field\":\"end_time\"},\"top\":{\"field\":\"top\"}},\"id\":\"1990\",\"type\":\"Quad\"},{\"attributes\":{\"source\":{\"id\":\"1903\"}},\"id\":\"1908\",\"type\":\"CDSView\"},{\"attributes\":{\"bottom\":{\"field\":\"bottom\"},\"fill_alpha\":{\"value\":0.1},\"fill_color\":{\"value\":\"#e6f598\"},\"left\":{\"field\":\"start_time\"},\"line_alpha\":{\"value\":0.1},\"right\":{\"field\":\"end_time\"},\"top\":{\"field\":\"top\"}},\"id\":\"1906\",\"type\":\"Quad\"},{\"attributes\":{},\"id\":\"2009\",\"type\":\"Selection\"},{\"attributes\":{},\"id\":\"2005\",\"type\":\"Selection\"},{\"attributes\":{},\"id\":\"2010\",\"type\":\"UnionRenderers\"},{\"attributes\":{\"data\":{\"bottom\":{\"__ndarray__\":\"zczMzMxMT0DNzMzMzMxNQM3MzMzMTElAzczMzMxMS0DNzMzMzExNQM3MzMzMzE5AZmZmZmYmUEDNzMzMzExNQGZmZmZmplBAzczMzMzMTUDNzMzMzMxPQM3MzMzMzExAzczMzMzMTUA=\",\"dtype\":\"float64\",\"order\":\"little\",\"shape\":[13]},\"duration\":{\"__ndarray__\":\"AAAAAAAA3D8AAAAAAADxPwAAAAAAAPA/AAAAAAAA6D8AAAAAAADQPwAAAAAAANA/AAAAAAAA0D8AAAAAAAD3PwAAAAAAAMg/YFVVVVVV8T8AVVVVVVXFPwAAAAAAANA/AKuqqqqqwj8=\",\"dtype\":\"float64\",\"order\":\"little\",\"shape\":[13]},\"end_time\":{\"__ndarray__\":\"AAAAAACwPkAAAAAAAJA/QAAAAAAAAEBAAAAAAAAAQEAAAAAAAABAQAAAAAAAAEBAAAAAAAAAQEAAAAAAANhAQAAAAAAAWEBAq6qqqqrqQEBVVVVVVfVAQAAAAAAAAEFAAAAAAAAAQUA=\",\"dtype\":\"float64\",\"order\":\"little\",\"shape\":[13]},\"fill_alpha\":{\"__ndarray__\":\"AAAAAABA6D8AAAAAAEDsPwAAAAAAQOg/AAAAAABA6D8AAAAAAEDoPwAAAAAAQOw/AAAAAABA6D8AAAAAAEDoPwAAAAAAQOw/AAAAAABA6D8AAAAAAEDsPwAAAAAAQOg/AAAAAABA6D8=\",\"dtype\":\"float64\",\"order\":\"little\",\"shape\":[13]},\"index\":[409,411,416,419,423,424,425,433,435,436,448,449,451],\"instrument\":[18,18,18,18,18,18,18,18,18,18,18,18,18],\"pitch\":[63,60,51,55,59,62,65,59,67,60,64,58,60],\"program\":[25,25,25,25,25,25,25,25,25,25,25,25,25],\"start_time\":{\"__ndarray__\":\"AAAAAABAPkAAAAAAAIA+QAAAAAAAAD9AAAAAAABAP0AAAAAAAMA/QAAAAAAAwD9AAAAAAADAP0AAAAAAACBAQAAAAAAAQEBAAAAAAABgQEAAAAAAAOBAQAAAAAAA4EBAVVVVVVXtQEA=\",\"dtype\":\"float64\",\"order\":\"little\",\"shape\":[13]},\"top\":{\"__ndarray__\":\"MzMzMzOzT0AzMzMzMzNOQDMzMzMzs0lAMzMzMzOzS0AzMzMzM7NNQDMzMzMzM09AmpmZmZlZUEAzMzMzM7NNQJqZmZmZ2VBAMzMzMzMzTkCamZmZmRlQQDMzMzMzM01AMzMzMzMzTkA=\",\"dtype\":\"float64\",\"order\":\"little\",\"shape\":[13]},\"velocity\":[97,113,97,97,97,113,97,97,113,97,113,97,97]},\"selected\":{\"id\":\"2033\"},\"selection_policy\":{\"id\":\"2034\"}},\"id\":\"1927\",\"type\":\"ColumnDataSource\"},{\"attributes\":{},\"id\":\"2011\",\"type\":\"Selection\"},{\"attributes\":{\"bottom\":{\"field\":\"bottom\"},\"fill_alpha\":{\"value\":0.1},\"fill_color\":{\"value\":\"#66c2a5\"},\"left\":{\"field\":\"start_time\"},\"line_alpha\":{\"value\":0.1},\"right\":{\"field\":\"end_time\"},\"top\":{\"field\":\"top\"}},\"id\":\"1888\",\"type\":\"Quad\"},{\"attributes\":{\"data\":{\"bottom\":{\"__ndarray__\":\"zczMzMzMQ0DNzMzMzExFQM3MzMzMzEBAzczMzMzMQkDNzMzMzMxPQGZmZmZmplBAZmZmZmamUUBmZmZmZqZQQM3MzMzMzE9AZmZmZmamUEBmZmZmZqZRQGZmZmZmZlJAzczMzMzMT0BmZmZmZqZQQGZmZmZmplFAzczMzMzMQ0DNzMzMzExFQM3MzMzMzEJAzczMzMxMREDNzMzMzMxDQM3MzMzMTEVAzczMzMzMQkDNzMzMzMxBQA==\",\"dtype\":\"float64\",\"order\":\"little\",\"shape\":[23]},\"duration\":{\"__ndarray__\":\"AFZVVVVVzT8AAAAAAADkPwAAAAAAAOI/AAAAAAAA4D8AAAAAAADQP4BVVVVVVeM/AFZVVVVVtT8AAAAAAADAPwAAAAAAANA/AAAAAAAA0D/AqqqqqqrkPwBYVVVVVZU/AAAAAAAA0D8AAAAAAADQP8CqqqqqquQ/AAAAAAAA0D8AVVVVVVXNP4Cqqqqqqto/AFVVVVVVxT+AVVVVVVXRPwAAAAAAANA/AAAAAAAAyD+AVVVVVVXRPw==\",\"dtype\":\"float64\",\"order\":\"little\",\"shape\":[23]},\"end_time\":{\"__ndarray__\":\"q6qqqqpaREAAAAAAALBEQAAAAAAA6ERAAAAAAAAARUBVVVVVVX1FQKuqqqqqykVAAAAAAADoRUAAAAAAAPhFQFVVVVVVfUZAAAAAAACgRkCrqqqqqvJGQAAAAAAAAEdAVVVVVVV9R0AAAAAAAKBHQKuqqqqq8kdAVVVVVVV9SEBVVVVVVZ1IQFVVVVVV1UhAVVVVVVX1SEAAAAAAAIBJQFVVVVVVnUlAVVVVVVXVSUAAAAAAAABKQA==\",\"dtype\":\"float64\",\"order\":\"little\",\"shape\":[23]},\"fill_alpha\":{\"__ndarray__\":\"AAAAAABA6D8AAAAAAEDsPwAAAAAAQOg/AAAAAABA6D8AAAAAAEDoPwAAAAAAQOw/AAAAAABA7D8AAAAAAEDoPwAAAAAAQOg/AAAAAABA7D8AAAAAAEDsPwAAAAAAQOg/AAAAAABA6D8AAAAAAEDsPwAAAAAAQOw/AAAAAABA6D8AAAAAAEDkPwAAAAAAQOg/AAAAAABA6D8AAAAAAEDoPwAAAAAAQOQ/AAAAAABA5D8AAAAAAEDkPw==\",\"dtype\":\"float64\",\"order\":\"little\",\"shape\":[23]},\"index\":[519,521,528,530,539,542,549,551,557,560,565,572,578,580,584,595,596,601,605,610,612,616,619],\"instrument\":[21,21,21,21,21,21,21,21,21,21,21,21,21,21,21,21,21,21,21,21,21,21,21],\"pitch\":[40,43,34,38,64,67,71,67,64,67,71,74,64,67,71,40,43,38,41,40,43,38,36],\"program\":[33,33,33,33,33,33,33,33,33,33,33,33,33,33,33,33,33,33,33,33,33,33,33],\"start_time\":{\"__ndarray__\":\"VVVVVVU9REAAAAAAAGBEQAAAAAAAoERAAAAAAADAREBVVVVVVV1FQFVVVVVVfUVAVVVVVVXdRUAAAAAAAOhFQFVVVVVVXUZAAAAAAACARkAAAAAAAKBGQFVVVVVV/UZAVVVVVVVdR0AAAAAAAIBHQAAAAAAAoEdAVVVVVVVdSEAAAAAAAIBIQAAAAAAAoEhAAAAAAADgSEBVVVVVVV1JQFVVVVVVfUlAVVVVVVW9SUBVVVVVVd1JQA==\",\"dtype\":\"float64\",\"order\":\"little\",\"shape\":[23]},\"top\":{\"__ndarray__\":\"MzMzMzMzREAzMzMzM7NFQDMzMzMzM0FAMzMzMzMzQ0CamZmZmRlQQJqZmZmZ2VBAmpmZmZnZUUCamZmZmdlQQJqZmZmZGVBAmpmZmZnZUECamZmZmdlRQJqZmZmZmVJAmpmZmZkZUECamZmZmdlQQJqZmZmZ2VFAMzMzMzMzREAzMzMzM7NFQDMzMzMzM0NAMzMzMzOzREAzMzMzMzNEQDMzMzMzs0VAMzMzMzMzQ0AzMzMzMzNCQA==\",\"dtype\":\"float64\",\"order\":\"little\",\"shape\":[23]},\"velocity\":[97,113,97,97,97,113,113,97,97,113,113,97,97,113,113,97,81,97,97,97,81,81,81]},\"selected\":{\"id\":\"2039\"},\"selection_policy\":{\"id\":\"2040\"}},\"id\":\"1945\",\"type\":\"ColumnDataSource\"},{\"attributes\":{},\"id\":\"2012\",\"type\":\"UnionRenderers\"},{\"attributes\":{\"data\":{\"bottom\":{\"__ndarray__\":\"zczMzMzMQ0DNzMzMzMxJQM3MzMzMTE1AzczMzMzMSUDNzMzMzMxDQM3MzMzMzElAzczMzMzMSUDNzMzMzMxDQM3MzMzMTE1AzczMzMzMQ0DNzMzMzMxJQM3MzMzMzElAzczMzMzMQ0DNzMzMzMxJQM3MzMzMzENAzczMzMzMQ0DNzMzMzMxJQM3MzMzMzENAzczMzMzMSUDNzMzMzMxDQM3MzMzMzENAzczMzMxMTUDNzMzMzMxDQM3MzMzMzENAzczMzMzMQ0DNzMzMzMxJQM3MzMzMzENAzczMzMxMTUDNzMzMzMxDQM3MzMzMzENAzczMzMzMQ0DNzMzMzMxDQM3MzMzMzENAzczMzMzMQ0DNzMzMzMxDQM3MzMzMzENAzczMzMzMQ0DNzMzMzMxDQM3MzMzMzENAzczMzMzMQ0DNzMzMzMxDQM3MzMzMzENAzczMzMzMQ0BmZmZmZqZRQM3MzMzMzE9AzczMzMzMT0DNzMzMzMxPQA==\",\"dtype\":\"float64\",\"order\":\"little\",\"shape\":[47]},\"duration\":{\"__ndarray__\":\"AFRVVVVVpT8AVFVVVVWlPwBUVVVVVaU/AFRVVVVVpT8AVFVVVVWlPwBWVVVVVbU/AFZVVVVVtT8AVFVVVVWlPwBUVVVVVaU/AFRVVVVVpT8AVFVVVVWlPwBUVVVVVaU/AFVVVVVVxT8AVlVVVVW1PwBUVVVVVaU/AFRVVVVVpT8AVFVVVVWlPwBUVVVVVaU/AFVVVVVVxT8AVVVVVVXFPwBUVVVVVaU/AFRVVVVVpT8AVFVVVVWlPwBUVVVVVaU/AAAAAAAAwD8AVlVVVVW1PwBUVVVVVaU/AFRVVVVVpT8AVFVVVVWlPwBUVVVVVaU/AAAAAAAAwD8AVlVVVVW1PwBUVVVVVaU/AFRVVVVVpT8AVFVVVVWlPwBWVVVVVbU/AFZVVVVVtT8AVlVVVVW1PwBUVVVVVaU/AFRVVVVVpT8AVlVVVVW1PwBWVVVVVbU/AAAAAAAA2D8AVFVVVVWlPwBWVVVVVbU/gFVVVVVV3T+AVVVVVVXVPw==\",\"dtype\":\"float64\",\"order\":\"little\",\"shape\":[47]},\"end_time\":{\"__ndarray__\":\"VVVVVVUFQkBVVVVVVUVCQFVVVVVVVUJAVVVVVVWFQkBVVVVVVaVCQKuqqqqqykJAq6qqqqrqQkBVVVVVVQVDQFVVVVVVRUNAVVVVVVVVQ0BVVVVVVYVDQFVVVVVVpUNAVVVVVVXVQ0CrqqqqqupDQFVVVVVVBURAVVVVVVVFREBVVVVVVWVEQFVVVVVVhURAVVVVVVXFREBVVVVVVeVEQFVVVVVVBUVAVVVVVVVFRUBVVVVVVWVFQFVVVVVVlUVAAAAAAADQRUCrqqqqqupFQFVVVVVVBUZAVVVVVVVFRkBVVVVVVWVGQFVVVVVVlUZAAAAAAADQRkCrqqqqqupGQFVVVVVVBUdAVVVVVVVFR0BVVVVVVWVHQKuqqqqqqkdAq6qqqqrKR0CrqqqqqupHQFVVVVVVBUhAVVVVVVVFSECrqqqqqopIQKuqqqqqqkhAAAAAAADwSEBVVVVVVUVJQKuqqqqqaklAq6qqqqq6SUCrqqqqqupJQA==\",\"dtype\":\"float64\",\"order\":\"little\",\"shape\":[47]},\"fill_alpha\":{\"__ndarray__\":\"AAAAAABA7D8AAAAAAEDsPwAAAAAAQOw/AAAAAABA7D8AAAAAAEDsPwAAAAAAQOw/AAAAAABA7D8AAAAAAEDsPwAAAAAAQOw/AAAAAABA7D8AAAAAAEDsPwAAAAAAQOw/AAAAAABA7D8AAAAAAEDsPwAAAAAAQOw/AAAAAABA7D8AAAAAAEDsPwAAAAAAQOw/AAAAAAAAwT8AAAAAAEDsPwAAAAAAQOw/AAAAAABA7D8AAAAAAEDsPwAAAAAAQOw/AAAAAABA7D8AAAAAAEDsPwAAAAAAQOw/AAAAAABA7D8AAAAAAEDsPwAAAAAAQOw/AAAAAABA7D8AAAAAAEDsPwAAAAAAQOw/AAAAAABA7D8AAAAAAEDsPwAAAAAAQOw/AAAAAABA7D8AAAAAAEDsPwAAAAAAQOw/AAAAAABA7D8AAAAAAEDsPwAAAAAAQOw/AAAAAABA7D8AAAAAAEDsPwAAAAAAQOw/AAAAAABA7D8AAAAAAEDsPw==\",\"dtype\":\"float64\",\"order\":\"little\",\"shape\":[47]},\"index\":[477,479,480,485,487,489,493,497,499,500,506,508,510,512,518,520,523,527,529,532,537,538,541,546,548,550,555,556,559,564,567,571,575,577,579,586,587,589,592,594,600,603,604,609,611,614,617],\"instrument\":[20,20,20,20,20,20,20,20,20,20,20,20,20,20,20,20,20,20,20,20,20,20,20,20,20,20,20,20,20,20,20,20,20,20,20,20,20,20,20,20,20,20,20,20,20,20,20],\"pitch\":[40,52,59,52,40,52,52,40,59,40,52,52,40,52,40,40,52,40,52,40,40,59,40,40,40,52,40,59,40,40,40,40,40,40,40,40,40,40,40,40,40,40,40,71,64,64,64],\"program\":[100,100,100,100,100,100,100,100,100,100,100,100,100,100,100,100,100,100,100,100,100,100,100,100,100,100,100,100,100,100,100,100,100,100,100,100,100,100,100,100,100,100,100,100,100,100,100],\"start_time\":{\"__ndarray__\":\"AAAAAAAAQkAAAAAAAEBCQAAAAAAAUEJAAAAAAACAQkAAAAAAAKBCQAAAAAAAwEJAAAAAAADgQkAAAAAAAABDQAAAAAAAQENAAAAAAABQQ0AAAAAAAIBDQAAAAAAAoENAAAAAAADAQ0AAAAAAAOBDQAAAAAAAAERAAAAAAABAREAAAAAAAGBEQAAAAAAAgERAAAAAAACwREAAAAAAANBEQAAAAAAAAEVAAAAAAABARUAAAAAAAGBFQAAAAAAAkEVAAAAAAADARUAAAAAAAOBFQAAAAAAAAEZAAAAAAABARkAAAAAAAGBGQAAAAAAAkEZAAAAAAADARkAAAAAAAOBGQAAAAAAAAEdAAAAAAABAR0AAAAAAAGBHQAAAAAAAoEdAAAAAAADAR0AAAAAAAOBHQAAAAAAAAEhAAAAAAABASEAAAAAAAIBIQAAAAAAAoEhAAAAAAADASEAAAAAAAEBJQAAAAAAAYElAAAAAAACASUAAAAAAAMBJQA==\",\"dtype\":\"float64\",\"order\":\"little\",\"shape\":[47]},\"top\":{\"__ndarray__\":\"MzMzMzMzREAzMzMzMzNKQDMzMzMzs01AMzMzMzMzSkAzMzMzMzNEQDMzMzMzM0pAMzMzMzMzSkAzMzMzMzNEQDMzMzMzs01AMzMzMzMzREAzMzMzMzNKQDMzMzMzM0pAMzMzMzMzREAzMzMzMzNKQDMzMzMzM0RAMzMzMzMzREAzMzMzMzNKQDMzMzMzM0RAMzMzMzMzSkAzMzMzMzNEQDMzMzMzM0RAMzMzMzOzTUAzMzMzMzNEQDMzMzMzM0RAMzMzMzMzREAzMzMzMzNKQDMzMzMzM0RAMzMzMzOzTUAzMzMzMzNEQDMzMzMzM0RAMzMzMzMzREAzMzMzMzNEQDMzMzMzM0RAMzMzMzMzREAzMzMzMzNEQDMzMzMzM0RAMzMzMzMzREAzMzMzMzNEQDMzMzMzM0RAMzMzMzMzREAzMzMzMzNEQDMzMzMzM0RAMzMzMzMzRECamZmZmdlRQJqZmZmZGVBAmpmZmZkZUECamZmZmRlQQA==\",\"dtype\":\"float64\",\"order\":\"little\",\"shape\":[47]},\"velocity\":[113,113,113,113,113,113,113,113,113,113,113,113,113,113,113,113,113,113,17,113,113,113,113,113,113,113,113,113,113,113,113,113,113,113,113,113,113,113,113,113,113,113,113,113,113,113,113]},\"selected\":{\"id\":\"2037\"},\"selection_policy\":{\"id\":\"2038\"}},\"id\":\"1939\",\"type\":\"ColumnDataSource\"},{\"attributes\":{\"bottom\":{\"field\":\"bottom\"},\"fill_alpha\":{\"field\":\"fill_alpha\"},\"fill_color\":{\"value\":\"#d53e4f\"},\"left\":{\"field\":\"start_time\"},\"right\":{\"field\":\"end_time\"},\"top\":{\"field\":\"top\"}},\"id\":\"1911\",\"type\":\"Quad\"},{\"attributes\":{\"bottom\":{\"field\":\"bottom\"},\"fill_alpha\":{\"field\":\"fill_alpha\"},\"fill_color\":{\"value\":\"#fdae61\"},\"left\":{\"field\":\"start_time\"},\"right\":{\"field\":\"end_time\"},\"top\":{\"field\":\"top\"}},\"id\":\"1935\",\"type\":\"Quad\"},{\"attributes\":{},\"id\":\"2013\",\"type\":\"Selection\"},{\"attributes\":{\"data_source\":{\"id\":\"1909\"},\"glyph\":{\"id\":\"1911\"},\"hover_glyph\":null,\"muted_glyph\":null,\"nonselection_glyph\":{\"id\":\"1912\"},\"selection_glyph\":null,\"view\":{\"id\":\"1914\"}},\"id\":\"1913\",\"type\":\"GlyphRenderer\"},{\"attributes\":{\"source\":{\"id\":\"1843\"}},\"id\":\"1848\",\"type\":\"CDSView\"},{\"attributes\":{\"data\":{\"bottom\":{\"__ndarray__\":\"zczMzMxMT0DNzMzMzExPQM3MzMzMzEZAzczMzMxMS0DNzMzMzExPQM3MzMzMTE9AzczMzMzMRkDNzMzMzMxHQM3MzMzMTE9AzczMzMxMT0BmZmZmZqZQQGZmZmZmJlBAzczMzMxMQUDNzMzMzExFQM3MzMzMzEZAzczMzMxMRUDNzMzMzMxBQM3MzMzMTEdAzczMzMzMQUDNzMzMzExDQM3MzMzMzENAmpmZmZmZPkDNzMzMzMxBQM3MzMzMzERAzczMzMzMQ0DNzMzMzExFQM3MzMzMzEVAzczMzMzMQkDNzMzMzMxCQA==\",\"dtype\":\"float64\",\"order\":\"little\",\"shape\":[29]},\"duration\":{\"__ndarray__\":\"qKqqqqqq4j8AAAAAAADiPwAAAAAAANQ/YFVVVVVV0T+wqqqqqqriPwAAAAAAANw/UFVVVVVV4T8AAAAAAADQP7CqqqqqquI/AAAAAAAA3D9QVVVVVVXhPwAAAAAAANA/sKqqqqqq4j9gVVVVVVXhPwAAAAAAAMA/YFVVVVVV0T8AAAAAAADuPwAAAAAAANw/AAAAAAAA5j8AAAAAAADQP8Cqqqqqqug/gKqqqqqq2j8AAAAAAADIPwBVVVVVVcU/AAAAAAAA5j/AqqqqqqrkPwAAAAAAAOA/AAAAAAAA0D8AAAAAAADAPw==\",\"dtype\":\"float64\",\"order\":\"little\",\"shape\":[29]},\"end_time\":{\"__ndarray__\":\"VVVVVVVVGkAAAAAAAEAdQKqqqqqqKh9AAAAAAAAAIECrqqqqqiohQFVVVVVVVSJAVVVVVVWVI0AAAAAAAAAkQKuqqqqqKiVAVVVVVVVVJkBVVVVVVZUnQAAAAAAAAChAq6qqqqoqKUCrqqqqqooqQFVVVVVVNStAAAAAAAAALEAAAAAAAJhBQAAAAAAAuEFAAAAAAAD4QUAAAAAAAABCQKuqqqqqgkJAVVVVVVW1QkAAAAAAANhCQFVVVVVV9UJAAAAAAAB4Q0CrqqqqqtJDQAAAAAAA4ENAAAAAAAAAREAAAAAAAABEQA==\",\"dtype\":\"float64\",\"order\":\"little\",\"shape\":[29]},\"fill_alpha\":{\"__ndarray__\":\"AAAAAABA7D8AAAAAAEDsPwAAAAAAQOw/AAAAAABA7D8AAAAAAEDsPwAAAAAAQOw/AAAAAABA7D8AAAAAAEDsPwAAAAAAQOw/AAAAAABA7D8AAAAAAEDsPwAAAAAAQOw/AAAAAABA7D8AAAAAAEDsPwAAAAAAQOw/AAAAAABA7D8AAAAAAEDoPwAAAAAAQOw/AAAAAABA6D8AAAAAAEDoPwAAAAAAQOg/AAAAAABA7D8AAAAAAEDsPwAAAAAAQOg/AAAAAABA6D8AAAAAAEDsPwAAAAAAQOg/AAAAAABA7D8AAAAAAEDsPw==\",\"dtype\":\"float64\",\"order\":\"little\",\"shape\":[29]},\"index\":[87,98,107,112,119,129,137,143,148,156,166,175,178,187,196,202,457,462,467,471,478,482,488,491,498,502,507,511,514],\"instrument\":[6,6,6,6,6,6,6,6,6,6,6,6,6,6,6,6,6,6,6,6,6,6,6,6,6,6,6,6,6],\"pitch\":[63,63,46,55,63,63,46,48,63,63,67,65,35,43,46,43,36,47,36,39,40,31,36,42,40,43,44,38,38],\"program\":[35,35,35,35,35,35,35,35,35,35,35,35,35,35,35,35,35,35,35,35,35,35,35,35,35,35,35,35,35],\"start_time\":{\"__ndarray__\":\"AAAAAAAAGEAAAAAAAAAbQKqqqqqq6h1AqqqqqqrqHkAAAAAAAAAgQFVVVVVVdSFAAAAAAACAIkAAAAAAAIAjQAAAAAAAACRAVVVVVVV1JUAAAAAAAIAmQAAAAAAAgCdAAAAAAAAAKEBVVVVVVXUpQFVVVVVV9SpAVVVVVVV1K0AAAAAAACBBQAAAAAAAgEFAAAAAAACgQUAAAAAAAOBBQAAAAAAAIEJAAAAAAACAQkAAAAAAAMBCQAAAAAAA4EJAAAAAAAAgQ0AAAAAAAIBDQAAAAAAAoENAAAAAAADgQ0AAAAAAAPBDQA==\",\"dtype\":\"float64\",\"order\":\"little\",\"shape\":[29]},\"top\":{\"__ndarray__\":\"MzMzMzOzT0AzMzMzM7NPQDMzMzMzM0dAMzMzMzOzS0AzMzMzM7NPQDMzMzMzs09AMzMzMzMzR0AzMzMzMzNIQDMzMzMzs09AMzMzMzOzT0CamZmZmdlQQJqZmZmZWVBAMzMzMzOzQUAzMzMzM7NFQDMzMzMzM0dAMzMzMzOzRUAzMzMzMzNCQDMzMzMzs0dAMzMzMzMzQkAzMzMzM7NDQDMzMzMzM0RAZmZmZmZmP0AzMzMzMzNCQDMzMzMzM0VAMzMzMzMzREAzMzMzM7NFQDMzMzMzM0ZAMzMzMzMzQ0AzMzMzMzNDQA==\",\"dtype\":\"float64\",\"order\":\"little\",\"shape\":[29]},\"velocity\":[113,113,113,113,113,113,113,113,113,113,113,113,113,113,113,113,97,113,97,97,97,113,113,97,97,113,97,113,113]},\"selected\":{\"id\":\"2009\"},\"selection_policy\":{\"id\":\"2010\"}},\"id\":\"1855\",\"type\":\"ColumnDataSource\"},{\"attributes\":{},\"id\":\"2014\",\"type\":\"UnionRenderers\"},{\"attributes\":{\"source\":{\"id\":\"1909\"}},\"id\":\"1914\",\"type\":\"CDSView\"},{\"attributes\":{\"bottom\":{\"field\":\"bottom\"},\"fill_alpha\":{\"value\":0.1},\"fill_color\":{\"value\":\"#f46d43\"},\"left\":{\"field\":\"start_time\"},\"line_alpha\":{\"value\":0.1},\"right\":{\"field\":\"end_time\"},\"top\":{\"field\":\"top\"}},\"id\":\"1882\",\"type\":\"Quad\"},{\"attributes\":{\"bottom\":{\"field\":\"bottom\"},\"fill_alpha\":{\"value\":0.1},\"fill_color\":{\"value\":\"#d53e4f\"},\"left\":{\"field\":\"start_time\"},\"line_alpha\":{\"value\":0.1},\"right\":{\"field\":\"end_time\"},\"top\":{\"field\":\"top\"}},\"id\":\"1912\",\"type\":\"Quad\"},{\"attributes\":{},\"id\":\"2015\",\"type\":\"Selection\"},{\"attributes\":{\"source\":{\"id\":\"1939\"}},\"id\":\"1944\",\"type\":\"CDSView\"},{\"attributes\":{\"data\":{\"bottom\":{\"__ndarray__\":\"zczMzMxMQ0DNzMzMzExJQM3MzMzMTERAzczMzMxMQ0DNzMzMzExDQM3MzMzMzEdAzczMzMxMQ0DNzMzMzExJQM3MzMzMTEtAzczMzMzMRkDNzMzMzExLQA==\",\"dtype\":\"float64\",\"order\":\"little\",\"shape\":[11]},\"duration\":{\"__ndarray__\":\"YFVVVVVV7T8AAAAAAADYP8CqqqqqqtI/AAAAAAAA6D+gqqqqqqrgP0BVVVVVVdE/AAAAAAAA5D/AqqqqqqraP0BVVVVVVdE/AAAAAAAA1D8AAAAAAADgPw==\",\"dtype\":\"float64\",\"order\":\"little\",\"shape\":[11]},\"end_time\":{\"__ndarray__\":\"q6qqqqrqMEAAAAAAACAxQKuqqqqqSjFAq6qqqqr6MUAAAAAAAAAyQAAAAAAAADJAAAAAAACgMkCrqqqqqiozQFVVVVVVRTNAAAAAAACQM0AAAAAAAAA0QA==\",\"dtype\":\"float64\",\"order\":\"little\",\"shape\":[11]},\"fill_alpha\":{\"__ndarray__\":\"AAAAAABA6D8AAAAAAEDsPwAAAAAAQOw/AAAAAABA7D8AAAAAAEDsPwAAAAAAQOw/AAAAAABA6D8AAAAAAEDsPwAAAAAAQOw/AAAAAABA6D8AAAAAAEDoPw==\",\"dtype\":\"float64\",\"order\":\"little\",\"shape\":[11]},\"index\":[235,244,245,250,254,257,263,272,276,281,284],\"instrument\":[11,11,11,11,11,11,11,11,11,11,11],\"pitch\":[39,51,41,39,39,48,39,51,55,46,55],\"program\":[5,5,5,5,5,5,5,5,5,5,5],\"start_time\":{\"__ndarray__\":\"AAAAAAAAMEAAAAAAAMAwQAAAAAAAADFAq6qqqqo6MUCrqqqqqnoxQKuqqqqqujFAAAAAAAAAMkAAAAAAAMAyQAAAAAAAADNAAAAAAABAM0AAAAAAAIAzQA==\",\"dtype\":\"float64\",\"order\":\"little\",\"shape\":[11]},\"top\":{\"__ndarray__\":\"MzMzMzOzQ0AzMzMzM7NJQDMzMzMzs0RAMzMzMzOzQ0AzMzMzM7NDQDMzMzMzM0hAMzMzMzOzQ0AzMzMzM7NJQDMzMzMzs0tAMzMzMzMzR0AzMzMzM7NLQA==\",\"dtype\":\"float64\",\"order\":\"little\",\"shape\":[11]},\"velocity\":[97,113,113,113,113,113,97,113,113,97,97]},\"selected\":{\"id\":\"2019\"},\"selection_policy\":{\"id\":\"2020\"}},\"id\":\"1885\",\"type\":\"ColumnDataSource\"},{\"attributes\":{},\"id\":\"2016\",\"type\":\"UnionRenderers\"},{\"attributes\":{\"source\":{\"id\":\"1879\"}},\"id\":\"1884\",\"type\":\"CDSView\"},{\"attributes\":{\"bottom\":{\"field\":\"bottom\"},\"fill_alpha\":{\"field\":\"fill_alpha\"},\"fill_color\":{\"value\":\"#3288bd\"},\"left\":{\"field\":\"start_time\"},\"right\":{\"field\":\"end_time\"},\"top\":{\"field\":\"top\"}},\"id\":\"1875\",\"type\":\"Quad\"},{\"attributes\":{},\"id\":\"2017\",\"type\":\"Selection\"},{\"attributes\":{\"bottom\":{\"field\":\"bottom\"},\"fill_alpha\":{\"field\":\"fill_alpha\"},\"fill_color\":{\"value\":\"#66c2a5\"},\"left\":{\"field\":\"start_time\"},\"right\":{\"field\":\"end_time\"},\"top\":{\"field\":\"top\"}},\"id\":\"1887\",\"type\":\"Quad\"},{\"attributes\":{\"bottom\":{\"field\":\"bottom\"},\"fill_alpha\":{\"field\":\"fill_alpha\"},\"fill_color\":{\"value\":\"#f46d43\"},\"left\":{\"field\":\"start_time\"},\"right\":{\"field\":\"end_time\"},\"top\":{\"field\":\"top\"}},\"id\":\"1923\",\"type\":\"Quad\"},{\"attributes\":{},\"id\":\"2018\",\"type\":\"UnionRenderers\"},{\"attributes\":{\"bottom\":{\"field\":\"bottom\"},\"fill_alpha\":{\"field\":\"fill_alpha\"},\"fill_color\":{\"value\":\"#d53e4f\"},\"left\":{\"field\":\"start_time\"},\"right\":{\"field\":\"end_time\"},\"top\":{\"field\":\"top\"}},\"id\":\"1869\",\"type\":\"Quad\"},{\"attributes\":{},\"id\":\"1798\",\"type\":\"LinearScale\"},{\"attributes\":{\"data_source\":{\"id\":\"1867\"},\"glyph\":{\"id\":\"1869\"},\"hover_glyph\":null,\"muted_glyph\":null,\"nonselection_glyph\":{\"id\":\"1870\"},\"selection_glyph\":null,\"view\":{\"id\":\"1872\"}},\"id\":\"1871\",\"type\":\"GlyphRenderer\"},{\"attributes\":{\"interval\":12},\"id\":\"1822\",\"type\":\"SingleIntervalTicker\"},{\"attributes\":{\"bottom\":{\"field\":\"bottom\"},\"fill_alpha\":{\"field\":\"fill_alpha\"},\"fill_color\":{\"value\":\"#3288bd\"},\"left\":{\"field\":\"start_time\"},\"right\":{\"field\":\"end_time\"},\"top\":{\"field\":\"top\"}},\"id\":\"1917\",\"type\":\"Quad\"},{\"attributes\":{\"data_source\":{\"id\":\"1915\"},\"glyph\":{\"id\":\"1917\"},\"hover_glyph\":null,\"muted_glyph\":null,\"nonselection_glyph\":{\"id\":\"1918\"},\"selection_glyph\":null,\"view\":{\"id\":\"1920\"}},\"id\":\"1919\",\"type\":\"GlyphRenderer\"},{\"attributes\":{},\"id\":\"2019\",\"type\":\"Selection\"},{\"attributes\":{},\"id\":\"2020\",\"type\":\"UnionRenderers\"},{\"attributes\":{\"source\":{\"id\":\"1915\"}},\"id\":\"1920\",\"type\":\"CDSView\"},{\"attributes\":{\"bottom\":{\"field\":\"bottom\"},\"fill_alpha\":{\"value\":0.1},\"fill_color\":{\"value\":\"#abdda4\"},\"left\":{\"field\":\"start_time\"},\"line_alpha\":{\"value\":0.1},\"right\":{\"field\":\"end_time\"},\"top\":{\"field\":\"top\"}},\"id\":\"1942\",\"type\":\"Quad\"},{\"attributes\":{\"data_source\":{\"id\":\"1849\"},\"glyph\":{\"id\":\"1851\"},\"hover_glyph\":null,\"muted_glyph\":null,\"nonselection_glyph\":{\"id\":\"1852\"},\"selection_glyph\":null,\"view\":{\"id\":\"1854\"}},\"id\":\"1853\",\"type\":\"GlyphRenderer\"},{\"attributes\":{\"bottom\":{\"field\":\"bottom\"},\"fill_alpha\":{\"value\":0.1},\"fill_color\":{\"value\":\"#3288bd\"},\"left\":{\"field\":\"start_time\"},\"line_alpha\":{\"value\":0.1},\"right\":{\"field\":\"end_time\"},\"top\":{\"field\":\"top\"}},\"id\":\"1918\",\"type\":\"Quad\"},{\"attributes\":{},\"id\":\"2021\",\"type\":\"Selection\"},{\"attributes\":{\"data_source\":{\"id\":\"1921\"},\"glyph\":{\"id\":\"1923\"},\"hover_glyph\":null,\"muted_glyph\":null,\"nonselection_glyph\":{\"id\":\"1924\"},\"selection_glyph\":null,\"view\":{\"id\":\"1926\"}},\"id\":\"1925\",\"type\":\"GlyphRenderer\"},{\"attributes\":{},\"id\":\"2022\",\"type\":\"UnionRenderers\"},{\"attributes\":{\"data\":{\"bottom\":{\"__ndarray__\":\"zczMzMzMQUDNzMzMzExDQM3MzMzMTEVAzczMzMzMRUDNzMzMzMxBQM3MzMzMTENAzczMzMxMRUDNzMzMzExEQM3MzMzMzEFAzczMzMxMQ0DNzMzMzExFQM3MzMzMTEVAzczMzMzMQUDNzMzMzExDQM3MzMzMTEVAzczMzMzMR0A=\",\"dtype\":\"float64\",\"order\":\"little\",\"shape\":[16]},\"duration\":{\"__ndarray__\":\"YFVVVVVV4z/AqqqqqqreP4Cqqqqqqto/gKqqqqqq1j9gVVVVVVXjP8Cqqqqqqt4/QFVVVVVV2T8AAAAAAADYP2BVVVVVVeM/wKqqqqqq3j/AqqqqqqrSP0BVVVVVVdk/oKqqqqqq4D8AVVVVVVW1P2BVVVVVVeU/AFVVVVVVtT8=\",\"dtype\":\"float64\",\"order\":\"little\",\"shape\":[16]},\"end_time\":{\"__ndarray__\":\"q6qqqqqaNEAAAAAAAAA1QFVVVVVVdTVAVVVVVVXlNUCrqqqqqpo2QAAAAAAAADdAAAAAAABwN0Crqqqqquo3QKuqqqqqmjhAAAAAAAAAOUCrqqqqqmo5QFVVVVVV5TlAVVVVVVWFOkBVVVVVVdU6QKuqqqqqqjtAVVVVVVXVO0A=\",\"dtype\":\"float64\",\"order\":\"little\",\"shape\":[16]},\"fill_alpha\":{\"__ndarray__\":\"AAAAAABA7D8AAAAAAEDsPwAAAAAAQOw/AAAAAABA7D8AAAAAAEDsPwAAAAAAQOw/AAAAAABA7D8AAAAAAEDsPwAAAAAAQOw/AAAAAABA7D8AAAAAAEDsPwAAAAAAQOw/AAAAAABA7D8AAAAAAEDsPwAAAAAAQOw/AAAAAABA6D8=\",\"dtype\":\"float64\",\"order\":\"little\",\"shape\":[16]},\"index\":[288,296,303,308,312,320,327,332,336,344,349,354,360,368,371,379],\"instrument\":[12,12,12,12,12,12,12,12,12,12,12,12,12,12,12,12],\"pitch\":[36,39,43,44,36,39,43,41,36,39,43,43,36,39,43,48],\"program\":[38,38,38,38,38,38,38,38,38,38,38,38,38,38,38,38],\"start_time\":{\"__ndarray__\":\"AAAAAAAANEBVVVVVVYU0QKuqqqqqCjVAq6qqqqqKNUAAAAAAAAA2QFVVVVVVhTZAq6qqqqoKN0Crqqqqqoo3QAAAAAAAADhAVVVVVVWFOEAAAAAAACA5QAAAAAAAgDlAAAAAAAAAOkAAAAAAAMA6QAAAAAAAADtAAAAAAADAO0A=\",\"dtype\":\"float64\",\"order\":\"little\",\"shape\":[16]},\"top\":{\"__ndarray__\":\"MzMzMzMzQkAzMzMzM7NDQDMzMzMzs0VAMzMzMzMzRkAzMzMzMzNCQDMzMzMzs0NAMzMzMzOzRUAzMzMzM7NEQDMzMzMzM0JAMzMzMzOzQ0AzMzMzM7NFQDMzMzMzs0VAMzMzMzMzQkAzMzMzM7NDQDMzMzMzs0VAMzMzMzMzSEA=\",\"dtype\":\"float64\",\"order\":\"little\",\"shape\":[16]},\"velocity\":[113,113,113,113,113,113,113,113,113,113,113,113,113,113,113,97]},\"selected\":{\"id\":\"2021\"},\"selection_policy\":{\"id\":\"2022\"}},\"id\":\"1891\",\"type\":\"ColumnDataSource\"},{\"attributes\":{\"bottom\":{\"field\":\"bottom\"},\"fill_alpha\":{\"value\":0.1},\"fill_color\":{\"value\":\"#f46d43\"},\"left\":{\"field\":\"start_time\"},\"line_alpha\":{\"value\":0.1},\"right\":{\"field\":\"end_time\"},\"top\":{\"field\":\"top\"}},\"id\":\"1924\",\"type\":\"Quad\"},{\"attributes\":{},\"id\":\"2023\",\"type\":\"Selection\"},{\"attributes\":{\"bottom\":{\"field\":\"bottom\"},\"fill_alpha\":{\"value\":0.1},\"fill_color\":{\"value\":\"#e6f598\"},\"left\":{\"field\":\"start_time\"},\"line_alpha\":{\"value\":0.1},\"right\":{\"field\":\"end_time\"},\"top\":{\"field\":\"top\"}},\"id\":\"1948\",\"type\":\"Quad\"},{\"attributes\":{},\"id\":\"2024\",\"type\":\"UnionRenderers\"},{\"attributes\":{},\"id\":\"2003\",\"type\":\"Selection\"},{\"attributes\":{},\"id\":\"2025\",\"type\":\"Selection\"},{\"attributes\":{\"active_drag\":\"auto\",\"active_inspect\":\"auto\",\"active_multi\":null,\"active_scroll\":\"auto\",\"active_tap\":\"auto\",\"tools\":[{\"id\":\"1810\"},{\"id\":\"1811\"},{\"id\":\"1812\"},{\"id\":\"1813\"},{\"id\":\"1814\"}]},\"id\":\"1816\",\"type\":\"Toolbar\"},{\"attributes\":{\"data\":{\"bottom\":{\"__ndarray__\":\"zczMzMxMRUDNzMzMzExFQM3MzMzMzEVAzczMzMzMQ0DNzMzMzExFQM3MzMzMTEVAzczMzMxMRUDNzMzMzMxFQM3MzMzMzEVAzczMzMxMRkDNzMzMzMxDQM3MzMzMTEVAzczMzMzMQUDNzMzMzMxBQM3MzMzMzENAzczMzMzMQ0DNzMzMzExFQM3MzMzMzEFAzczMzMzMQUA=\",\"dtype\":\"float64\",\"order\":\"little\",\"shape\":[19]},\"duration\":{\"__ndarray__\":\"QFVVVVVV4z8AAAAAAADgPwBYVVVVVZU/AAAAAAAAsD8AAAAAAADQPwAAAAAAAOY/AKuqqqqqyj+AVVVVVVXZP4BVVVVVVdE/AKuqqqqqyj8AAAAAAADmPwBVVVVVVc0/gFVVVVVV2T8AVVVVVVXFPwAAAAAAANA/QFVVVVVV5z8AVVVVVVXFP4Cqqqqqqt4/AAAAAAAA1D8=\",\"dtype\":\"float64\",\"order\":\"little\",\"shape\":[19]},\"end_time\":{\"__ndarray__\":\"VVVVVVVNQkAAAAAAAKBCQKuqqqqqokJAAAAAAADYQkAAAAAAAABDQAAAAAAAWENAq6qqqqp6Q0CrqqqqqrJDQKuqqqqq4kNAAAAAAAAAREAAAAAAAFhEQFVVVVVVfURAq6qqqqqyREBVVVVVVdVEQAAAAAAAAEVAVVVVVVVdRUBVVVVVVXVFQFVVVVVVvUVAAAAAAADoRUA=\",\"dtype\":\"float64\",\"order\":\"little\",\"shape\":[19]},\"fill_alpha\":{\"__ndarray__\":\"AAAAAABA7D8AAAAAAEDsPwAAAAAAQOw/AAAAAABA4D8AAAAAAEDsPwAAAAAAQOw/AAAAAABA5D8AAAAAAEDkPwAAAAAAQOQ/AAAAAABA5D8AAAAAAEDsPwAAAAAAQOw/AAAAAABA5D8AAAAAAEDkPwAAAAAAQOA/AAAAAABA7D8AAAAAAEDsPwAAAAAAQOw/AAAAAABA5D8=\",\"dtype\":\"float64\",\"order\":\"little\",\"shape\":[19]},\"index\":[474,481,486,490,492,494,501,503,509,513,515,522,524,531,533,534,540,543,547],\"instrument\":[19,19,19,19,19,19,19,19,19,19,19,19,19,19,19,19,19,19,19],\"pitch\":[43,43,44,40,43,43,43,44,44,45,40,43,36,36,40,40,43,36,36],\"program\":[37,37,37,37,37,37,37,37,37,37,37,37,37,37,37,37,37,37,37],\"start_time\":{\"__ndarray__\":\"AAAAAAAAQkAAAAAAAGBCQAAAAAAAoEJAAAAAAADQQkAAAAAAAOBCQAAAAAAAAENAAAAAAABgQ0AAAAAAAIBDQAAAAAAAwENAVVVVVVXlQ0AAAAAAAABEQAAAAAAAYERAAAAAAACAREAAAAAAAMBEQAAAAAAA4ERAAAAAAAAARUAAAAAAAGBFQAAAAAAAgEVAAAAAAADARUA=\",\"dtype\":\"float64\",\"order\":\"little\",\"shape\":[19]},\"top\":{\"__ndarray__\":\"MzMzMzOzRUAzMzMzM7NFQDMzMzMzM0ZAMzMzMzMzREAzMzMzM7NFQDMzMzMzs0VAMzMzMzOzRUAzMzMzMzNGQDMzMzMzM0ZAMzMzMzOzRkAzMzMzMzNEQDMzMzMzs0VAMzMzMzMzQkAzMzMzMzNCQDMzMzMzM0RAMzMzMzMzREAzMzMzM7NFQDMzMzMzM0JAMzMzMzMzQkA=\",\"dtype\":\"float64\",\"order\":\"little\",\"shape\":[19]},\"velocity\":[113,113,113,65,113,113,81,81,81,81,113,113,81,81,65,113,113,113,81]},\"selected\":{\"id\":\"2035\"},\"selection_policy\":{\"id\":\"2036\"}},\"id\":\"1933\",\"type\":\"ColumnDataSource\"},{\"attributes\":{\"data\":{\"bottom\":{\"__ndarray__\":\"ZmZmZmZmUUDNzMzMzExPQGZmZmZmplBAZmZmZmbmUUBmZmZmZqZSQGZmZmZmplJAZmZmZmamUkA=\",\"dtype\":\"float64\",\"order\":\"little\",\"shape\":[7]},\"duration\":{\"__ndarray__\":\"AAAAAAAA2D8AAAAAAAD4PwAAAAAAAPQ/rKqqqqqq8j9AVVVVVVW1PwAAAAAAAMA/AAAAAAAAwD8=\",\"dtype\":\"float64\",\"order\":\"little\",\"shape\":[7]},\"end_time\":{\"__ndarray__\":\"AAAAAACAGUAAAAAAAAAgQAAAAAAAACBAAAAAAAAAIECqqqqqquodQKqqqqqq6h5AVVVVVVXVH0A=\",\"dtype\":\"float64\",\"order\":\"little\",\"shape\":[7]},\"fill_alpha\":{\"__ndarray__\":\"AAAAAABA7D8AAAAAAEDsPwAAAAAAQOw/AAAAAABA7D8AAAAAAEDsPwAAAAAAQOw/AAAAAABA7D8=\",\"dtype\":\"float64\",\"order\":\"little\",\"shape\":[7]},\"index\":[86,93,97,99,106,111,114],\"instrument\":[5,5,5,5,5,5,5],\"pitch\":[70,63,67,72,75,75,75],\"program\":[3,3,3,3,3,3,3],\"start_time\":{\"__ndarray__\":\"AAAAAAAAGEAAAAAAAAAaQAAAAAAAABtAVVVVVVVVG0BVVVVVVZUdQKqqqqqqah5AVVVVVVVVH0A=\",\"dtype\":\"float64\",\"order\":\"little\",\"shape\":[7]},\"top\":{\"__ndarray__\":\"mpmZmZmZUUAzMzMzM7NPQJqZmZmZ2VBAmpmZmZkZUkCamZmZmdlSQJqZmZmZ2VJAmpmZmZnZUkA=\",\"dtype\":\"float64\",\"order\":\"little\",\"shape\":[7]},\"velocity\":[113,113,113,113,113,113,113]},\"selected\":{\"id\":\"2007\"},\"selection_policy\":{\"id\":\"2008\"}},\"id\":\"1849\",\"type\":\"ColumnDataSource\"},{\"attributes\":{},\"id\":\"2026\",\"type\":\"UnionRenderers\"},{\"attributes\":{\"source\":{\"id\":\"1921\"}},\"id\":\"1926\",\"type\":\"CDSView\"},{\"attributes\":{},\"id\":\"2027\",\"type\":\"Selection\"},{\"attributes\":{},\"id\":\"1811\",\"type\":\"PanTool\"},{\"attributes\":{},\"id\":\"2028\",\"type\":\"UnionRenderers\"},{\"attributes\":{\"data_source\":{\"id\":\"1945\"},\"glyph\":{\"id\":\"1947\"},\"hover_glyph\":null,\"muted_glyph\":null,\"nonselection_glyph\":{\"id\":\"1948\"},\"selection_glyph\":null,\"view\":{\"id\":\"1950\"}},\"id\":\"1949\",\"type\":\"GlyphRenderer\"},{\"attributes\":{},\"id\":\"2029\",\"type\":\"Selection\"},{\"attributes\":{\"bottom\":{\"field\":\"bottom\"},\"fill_alpha\":{\"field\":\"fill_alpha\"},\"fill_color\":{\"value\":\"#abdda4\"},\"left\":{\"field\":\"start_time\"},\"right\":{\"field\":\"end_time\"},\"top\":{\"field\":\"top\"}},\"id\":\"1941\",\"type\":\"Quad\"},{\"attributes\":{\"bottom\":{\"field\":\"bottom\"},\"fill_alpha\":{\"field\":\"fill_alpha\"},\"fill_color\":{\"value\":\"#e6f598\"},\"left\":{\"field\":\"start_time\"},\"right\":{\"field\":\"end_time\"},\"top\":{\"field\":\"top\"}},\"id\":\"1947\",\"type\":\"Quad\"},{\"attributes\":{},\"id\":\"2030\",\"type\":\"UnionRenderers\"},{\"attributes\":{},\"id\":\"1800\",\"type\":\"LinearScale\"},{\"attributes\":{\"data\":{\"bottom\":{\"__ndarray__\":\"ZmZmZmYmUEBmZmZmZiZRQM3MzMzMzE9AZmZmZmamUEDNzMzMzMxOQGZmZmZmJlBAzczMzMzMTkBmZmZmZiZRQM3MzMzMzE1AZmZmZmYmUUDNzMzMzMxOQGZmZmZmJlFAzczMzMzMTUBmZmZmZiZRQA==\",\"dtype\":\"float64\",\"order\":\"little\",\"shape\":[14]},\"duration\":{\"__ndarray__\":\"AAAAAAAA7j8AAAAAAADuP8CqqqqqquQ/wKqqqqqq5D8AAAAAAADQPwAAAAAAANA/AAAAAAAA7j8AAAAAAADuP8CqqqqqquQ/wKqqqqqq5D8AAAAAAADuPwAAAAAAAO4/wKqqqqqq5D/AqqqqqqrkPw==\",\"dtype\":\"float64\",\"order\":\"little\",\"shape\":[14]},\"end_time\":{\"__ndarray__\":\"AAAAAAB4RkAAAAAAAHhGQKuqqqqq0kZAq6qqqqrSRkAAAAAAAABHQAAAAAAAAEdAAAAAAAB4R0AAAAAAAHhHQKuqqqqq0kdAq6qqqqrSR0AAAAAAAHhIQAAAAAAAeEhAq6qqqqrSSECrqqqqqtJIQA==\",\"dtype\":\"float64\",\"order\":\"little\",\"shape\":[14]},\"fill_alpha\":{\"__ndarray__\":\"AAAAAABA6D8AAAAAAEDoPwAAAAAAQOg/AAAAAABA6D8AAAAAAEDoPwAAAAAAQOg/AAAAAABA6D8AAAAAAEDoPwAAAAAAQOg/AAAAAABA6D8AAAAAAEDoPwAAAAAAQOg/AAAAAABA6D8AAAAAAEDoPw==\",\"dtype\":\"float64\",\"order\":\"little\",\"shape\":[14]},\"index\":[553,554,562,563,569,570,573,574,582,583,590,591,598,599],\"instrument\":[23,23,23,23,23,23,23,23,23,23,23,23,23,23],\"pitch\":[65,69,64,67,62,65,62,69,60,69,62,69,60,69],\"program\":[95,95,95,95,95,95,95,95,95,95,95,95,95,95],\"start_time\":{\"__ndarray__\":\"AAAAAAAARkAAAAAAAABGQAAAAAAAgEZAAAAAAACARkAAAAAAAOBGQAAAAAAA4EZAAAAAAAAAR0AAAAAAAABHQAAAAAAAgEdAAAAAAACAR0AAAAAAAABIQAAAAAAAAEhAAAAAAACASEAAAAAAAIBIQA==\",\"dtype\":\"float64\",\"order\":\"little\",\"shape\":[14]},\"top\":{\"__ndarray__\":\"mpmZmZlZUECamZmZmVlRQJqZmZmZGVBAmpmZmZnZUEAzMzMzMzNPQJqZmZmZWVBAMzMzMzMzT0CamZmZmVlRQDMzMzMzM05AmpmZmZlZUUAzMzMzMzNPQJqZmZmZWVFAMzMzMzMzTkCamZmZmVlRQA==\",\"dtype\":\"float64\",\"order\":\"little\",\"shape\":[14]},\"velocity\":[97,97,97,97,97,97,97,97,97,97,97,97,97,97]},\"selected\":{\"id\":\"2043\"},\"selection_policy\":{\"id\":\"2044\"}},\"id\":\"1957\",\"type\":\"ColumnDataSource\"},{\"attributes\":{\"overlay\":{\"id\":\"1815\"}},\"id\":\"1812\",\"type\":\"BoxZoomTool\"},{\"attributes\":{\"bottom\":{\"field\":\"bottom\"},\"fill_alpha\":{\"field\":\"fill_alpha\"},\"fill_color\":{\"value\":\"#66c2a5\"},\"left\":{\"field\":\"start_time\"},\"right\":{\"field\":\"end_time\"},\"top\":{\"field\":\"top\"}},\"id\":\"1929\",\"type\":\"Quad\"},{\"attributes\":{},\"id\":\"2031\",\"type\":\"Selection\"},{\"attributes\":{\"axis_label\":\"pitch (MIDI)\",\"formatter\":{\"id\":\"1997\"},\"ticker\":{\"id\":\"1822\"}},\"id\":\"1806\",\"type\":\"LinearAxis\"},{\"attributes\":{\"data_source\":{\"id\":\"1927\"},\"glyph\":{\"id\":\"1929\"},\"hover_glyph\":null,\"muted_glyph\":null,\"nonselection_glyph\":{\"id\":\"1930\"},\"selection_glyph\":null,\"view\":{\"id\":\"1932\"}},\"id\":\"1931\",\"type\":\"GlyphRenderer\"},{\"attributes\":{\"bottom\":{\"field\":\"bottom\"},\"fill_alpha\":{\"field\":\"fill_alpha\"},\"fill_color\":{\"value\":\"#d53e4f\"},\"left\":{\"field\":\"start_time\"},\"right\":{\"field\":\"end_time\"},\"top\":{\"field\":\"top\"}},\"id\":\"1827\",\"type\":\"Quad\"},{\"attributes\":{},\"id\":\"2032\",\"type\":\"UnionRenderers\"},{\"attributes\":{\"source\":{\"id\":\"1927\"}},\"id\":\"1932\",\"type\":\"CDSView\"},{\"attributes\":{\"bottom\":{\"field\":\"bottom\"},\"fill_alpha\":{\"value\":0.1},\"fill_color\":{\"value\":\"#66c2a5\"},\"left\":{\"field\":\"start_time\"},\"line_alpha\":{\"value\":0.1},\"right\":{\"field\":\"end_time\"},\"top\":{\"field\":\"top\"}},\"id\":\"1930\",\"type\":\"Quad\"},{\"attributes\":{\"bottom_units\":\"screen\",\"fill_alpha\":0.5,\"fill_color\":\"lightgrey\",\"left_units\":\"screen\",\"level\":\"overlay\",\"line_alpha\":1.0,\"line_color\":\"black\",\"line_dash\":[4,4],\"line_width\":2,\"right_units\":\"screen\",\"top_units\":\"screen\"},\"id\":\"1815\",\"type\":\"BoxAnnotation\"},{\"attributes\":{},\"id\":\"2033\",\"type\":\"Selection\"},{\"attributes\":{},\"id\":\"2004\",\"type\":\"UnionRenderers\"},{\"attributes\":{\"source\":{\"id\":\"1825\"}},\"id\":\"1830\",\"type\":\"CDSView\"},{\"attributes\":{\"source\":{\"id\":\"1945\"}},\"id\":\"1950\",\"type\":\"CDSView\"},{\"attributes\":{},\"id\":\"2034\",\"type\":\"UnionRenderers\"},{\"attributes\":{\"bottom\":{\"field\":\"bottom\"},\"fill_alpha\":{\"value\":0.1},\"fill_color\":{\"value\":\"#d53e4f\"},\"left\":{\"field\":\"start_time\"},\"line_alpha\":{\"value\":0.1},\"right\":{\"field\":\"end_time\"},\"top\":{\"field\":\"top\"}},\"id\":\"1828\",\"type\":\"Quad\"},{\"attributes\":{\"data\":{\"bottom\":{\"__ndarray__\":\"zczMzMzMQ0DNzMzMzExFQJqZmZmZmT5AzczMzMxMREDNzMzMzExFQM3MzMzMzEFAzczMzMxMRUDNzMzMzMxDQM3MzMzMTERAzczMzMzMQUDNzMzMzMxDQM3MzMzMTEVAzczMzMzMQUDNzMzMzMxDQM3MzMzMTEVAzczMzMzMQUDNzMzMzMxDQM3MzMzMTEVAzczMzMzMQUDNzMzMzExFQGZmZmZmplBAzczMzMzMT0DNzMzMzMxPQGZmZmZmplBAzczMzMzMQUDNzMzMzExFQM3MzMzMzENAzczMzMzMQ0DNzMzMzMxBQM3MzMzMzENAzczMzMzMQkDNzMzMzExFQM3MzMzMzEFAzczMzMzMQ0DNzMzMzMxCQM3MzMzMzEFAzczMzMzMQkDNzMzMzMxDQM3MzMzMzEFAzczMzMzMQUDNzMzMzExBQA==\",\"dtype\":\"float64\",\"order\":\"little\",\"shape\":[41]},\"duration\":{\"__ndarray__\":\"wKqqqqqq4D8AVVVVVVXFPwAAAAAAANw/AAAAAAAA0D8AVVVVVVXNP4BVVVVVVdE/AFZVVVVVtT+AqqqqqqrePwBVVVVVVcU/gFVVVVVV0T8AVFVVVVWlPwAAAAAAAOQ/gFVVVVVV0T8AAAAAAADUPwAAAAAAANg/AFVVVVVVxT+AVVVVVVXRPwAAAAAAAMg/QFVVVVVV4T8Aq6qqqqrKP4BVVVVVVdE/QFVVVVVV5T8AVVVVVVXNPwBVVVVVVc0/wKqqqqqq4D8AAAAAAADIPwAAAAAAANA/AAAAAAAA1D+AqqqqqqrePwAAAAAAAMg/AKuqqqqqyj8AAAAAAADcP4Cqqqqqqt4/AAAAAAAAyD8AAAAAAADcPwCrqqqqqso/AAAAAAAAyD+AqqqqqqrePwAAAAAAAMg/AAAAAAAA5j8AAAAAAADIPw==\",\"dtype\":\"float64\",\"order\":\"little\",\"shape\":[41]},\"end_time\":{\"__ndarray__\":\"q6qqqqpCRkBVVVVVVXVGQAAAAAAAuEZAAAAAAADgRkBVVVVVVf1GQKuqqqqqYkdAq6qqqqqKR0BVVVVVVd1HQFVVVVVV9UdAq6qqqqpiSEBVVVVVVYVIQAAAAAAA8EhAq6qqqqpiSUAAAAAAAKhJQAAAAAAA0ElAAAAAAADwSUCrqqqqqmJKQAAAAAAAmEpAVVVVVVXlSkCrqqqqqvpKQKuqqqqqQktAVVVVVVW1S0BVVVVVVd1LQFVVVVVV/UtAq6qqqqpiTEAAAAAAAJhMQAAAAAAAwExAAAAAAAD4TEBVVVVVVV1NQAAAAAAAeE1Aq6qqqqq6TUAAAAAAAPhNQFVVVVVVXU5AAAAAAAB4TkAAAAAAALhOQKuqqqqq2k5AAAAAAAD4TkBVVVVVVV1PQAAAAAAAeE9AAAAAAADYT0AAAAAAAPhPQA==\",\"dtype\":\"float64\",\"order\":\"little\",\"shape\":[41]},\"fill_alpha\":{\"__ndarray__\":\"AAAAAABA6D8AAAAAAEDsPwAAAAAAQOw/AAAAAABA7D8AAAAAAEDsPwAAAAAAQOw/AAAAAABA7D8AAAAAAEDsPwAAAAAAQOA/AAAAAABA7D8AAAAAAEDsPwAAAAAAQOw/AAAAAABA7D8AAAAAAEDsPwAAAAAAQOw/AAAAAABA4D8AAAAAAEDoPwAAAAAAQOw/AAAAAABA7D8AAAAAAEDsPwAAAAAAQOg/AAAAAABA6D8AAAAAAEDsPwAAAAAAQOg/AAAAAABA6D8AAAAAAEDsPwAAAAAAQOw/AAAAAABA7D8AAAAAAEDoPwAAAAAAQOQ/AAAAAABA6D8AAAAAAEDoPwAAAAAAQOg/AAAAAABA5D8AAAAAAEDoPwAAAAAAQOg/AAAAAABA6D8AAAAAAEDoPwAAAAAAQOQ/AAAAAABA5D8AAAAAAEDoPw==\",\"dtype\":\"float64\",\"order\":\"little\",\"shape\":[41]},\"index\":[552,558,561,566,568,576,581,585,588,593,597,602,608,613,615,618,626,630,633,637,644,647,654,655,661,664,668,671,678,681,687,688,695,699,701,704,708,712,716,718,724],\"instrument\":[22,22,22,22,22,22,22,22,22,22,22,22,22,22,22,22,22,22,22,22,22,22,22,22,22,22,22,22,22,22,22,22,22,22,22,22,22,22,22,22,22],\"pitch\":[40,43,31,41,43,36,43,40,41,36,40,43,36,40,43,36,40,43,36,43,67,64,64,67,36,43,40,40,36,40,38,43,36,40,38,36,38,40,36,36,35],\"program\":[39,39,39,39,39,39,39,39,39,39,39,39,39,39,39,39,39,39,39,39,39,39,39,39,39,39,39,39,39,39,39,39,39,39,39,39,39,39,39,39,39],\"start_time\":{\"__ndarray__\":\"AAAAAAAARkAAAAAAAGBGQAAAAAAAgEZAAAAAAADARkAAAAAAAOBGQAAAAAAAQEdAAAAAAACAR0AAAAAAAKBHQAAAAAAA4EdAAAAAAABASEAAAAAAAIBIQAAAAAAAoEhAAAAAAABASUAAAAAAAIBJQAAAAAAAoElAq6qqqqraSUAAAAAAAEBKQAAAAAAAgEpAAAAAAACgSkAAAAAAAOBKQAAAAAAAIEtAAAAAAABgS0AAAAAAAMBLQAAAAAAA4EtAAAAAAAAgTEAAAAAAAIBMQAAAAAAAoExAAAAAAADQTEAAAAAAACBNQAAAAAAAYE1AAAAAAACgTUAAAAAAAMBNQAAAAAAAIE5AAAAAAABgTkAAAAAAAIBOQAAAAAAAwE5AAAAAAADgTkAAAAAAACBPQAAAAAAAYE9AAAAAAACAT0AAAAAAAOBPQA==\",\"dtype\":\"float64\",\"order\":\"little\",\"shape\":[41]},\"top\":{\"__ndarray__\":\"MzMzMzMzREAzMzMzM7NFQGZmZmZmZj9AMzMzMzOzREAzMzMzM7NFQDMzMzMzM0JAMzMzMzOzRUAzMzMzMzNEQDMzMzMzs0RAMzMzMzMzQkAzMzMzMzNEQDMzMzMzs0VAMzMzMzMzQkAzMzMzMzNEQDMzMzMzs0VAMzMzMzMzQkAzMzMzMzNEQDMzMzMzs0VAMzMzMzMzQkAzMzMzM7NFQJqZmZmZ2VBAmpmZmZkZUECamZmZmRlQQJqZmZmZ2VBAMzMzMzMzQkAzMzMzM7NFQDMzMzMzM0RAMzMzMzMzREAzMzMzMzNCQDMzMzMzM0RAMzMzMzMzQ0AzMzMzM7NFQDMzMzMzM0JAMzMzMzMzREAzMzMzMzNDQDMzMzMzM0JAMzMzMzMzQ0AzMzMzMzNEQDMzMzMzM0JAMzMzMzMzQkAzMzMzM7NBQA==\",\"dtype\":\"float64\",\"order\":\"little\",\"shape\":[41]},\"velocity\":[97,113,113,113,113,113,113,113,65,113,113,113,113,113,113,65,97,113,113,113,97,97,113,97,97,113,113,113,97,81,97,97,97,81,97,97,97,97,81,81,97]},\"selected\":{\"id\":\"2041\"},\"selection_policy\":{\"id\":\"2042\"}},\"id\":\"1951\",\"type\":\"ColumnDataSource\"},{\"attributes\":{},\"id\":\"2035\",\"type\":\"Selection\"},{\"attributes\":{},\"id\":\"2036\",\"type\":\"UnionRenderers\"},{\"attributes\":{\"data\":{\"bottom\":{\"__ndarray__\":\"ZmZmZmamUkDNzMzMzMxMQM3MzMzMTEtAzczMzMxMT0BmZmZmZqZQQGZmZmZm5lFAZmZmZmamUkDNzMzMzExDQM3MzMzMzEZAzczMzMxMSUDNzMzMzMxHQM3MzMzMTElAzczMzMzMR0A=\",\"dtype\":\"float64\",\"order\":\"little\",\"shape\":[13]},\"duration\":{\"__ndarray__\":\"AAAAAAAA5D9AVVVVVVXFP7CqqqqqquI/oKqqqqqq0j8AAAAAAADgPwAAAAAAAOA/AAAAAAAA4D8AAAAAAADkP6Cqqqqqqto/AAAAAAAA1D9gVVVVVVXRP6CqqqqqqtI/AAAAAAAA0D8=\",\"dtype\":\"float64\",\"order\":\"little\",\"shape\":[13]},\"end_time\":{\"__ndarray__\":\"AAAAAABAKUBVVVVVVdUpQKuqqqqqKitAVVVVVVUVK0AAAAAAAAAsQAAAAAAAACxAAAAAAAAALEAAAAAAAEAtQFVVVVVVVS5AAAAAAACgLkCrqqqqqgovQFVVVVVVlS9AAAAAAAAAMEA=\",\"dtype\":\"float64\",\"order\":\"little\",\"shape\":[13]},\"fill_alpha\":{\"__ndarray__\":\"AAAAAABA6D8AAAAAAEDsPwAAAAAAQOw/AAAAAABA7D8AAAAAAEDoPwAAAAAAQOg/AAAAAABA6D8AAAAAAEDoPwAAAAAAQOw/AAAAAABA7D8AAAAAAEDsPwAAAAAAQOg/AAAAAABA6D8=\",\"dtype\":\"float64\",\"order\":\"little\",\"shape\":[13]},\"index\":[177,188,189,194,197,198,199,206,216,218,221,225,231],\"instrument\":[8,8,8,8,8,8,8,8,8,8,8,8,8],\"pitch\":[75,58,55,63,67,72,75,39,46,51,48,51,48],\"program\":[11,11,11,11,11,11,11,11,11,11,11,11,11],\"start_time\":{\"__ndarray__\":\"AAAAAAAAKEAAAAAAAIApQAAAAAAAACpAAAAAAACAKkAAAAAAAAArQAAAAAAAACtAAAAAAAAAK0AAAAAAAAAsQAAAAAAAgC1AAAAAAAAALkAAAAAAAIAuQAAAAAAAAC9AAAAAAACAL0A=\",\"dtype\":\"float64\",\"order\":\"little\",\"shape\":[13]},\"top\":{\"__ndarray__\":\"mpmZmZnZUkAzMzMzMzNNQDMzMzMzs0tAMzMzMzOzT0CamZmZmdlQQJqZmZmZGVJAmpmZmZnZUkAzMzMzM7NDQDMzMzMzM0dAMzMzMzOzSUAzMzMzMzNIQDMzMzMzs0lAMzMzMzMzSEA=\",\"dtype\":\"float64\",\"order\":\"little\",\"shape\":[13]},\"velocity\":[97,113,113,113,97,97,97,97,113,113,113,97,97]},\"selected\":{\"id\":\"2013\"},\"selection_policy\":{\"id\":\"2014\"}},\"id\":\"1867\",\"type\":\"ColumnDataSource\"},{\"attributes\":{\"bottom\":{\"field\":\"bottom\"},\"fill_alpha\":{\"field\":\"fill_alpha\"},\"fill_color\":{\"value\":\"#abdda4\"},\"left\":{\"field\":\"start_time\"},\"right\":{\"field\":\"end_time\"},\"top\":{\"field\":\"top\"}},\"id\":\"1857\",\"type\":\"Quad\"},{\"attributes\":{\"data\":{\"bottom\":{\"__ndarray__\":\"zczMzMzMTkBmZmZmZiZRQGZmZmZmJlFAzczMzMzMTUDNzMzMzMxOQGZmZmZmJlFAzczMzMzMT0BmZmZmZiZRQM3MzMzMzE9AZmZmZmYmUUDNzMzMzMxOQGZmZmZmJlFAzczMzMzMT0BmZmZmZiZRQM3MzMzMzE5AZmZmZmYmUUDNzMzMzMxPQGZmZmZmJlFAzczMzMxMTEBmZmZmZiZRQM3MzMzMzE9AZmZmZmbmUkDNzMzMzMxOQGZmZmZmZlJAzczMzMxMTEDNzMzMzExMQM3MzMzMzE9A\",\"dtype\":\"float64\",\"order\":\"little\",\"shape\":[27]},\"duration\":{\"__ndarray__\":\"AAAAAAAA3D8AAAAAAADcPwBYVVVVVZU/AKqqqqqquj9AVVVVVVXpP0BVVVVVVek/wKqqqqqq4j/AqqqqqqriPwAAAAAAANA/AAAAAAAA0D8AAAAAAADcPwAAAAAAANw/oKqqqqqq8T8AAAAAAADyPwAAAAAAANw/AAAAAAAA3D/AqqqqqqrkP0BVVVVVVeU/QFVVVVVV6T9AVVVVVVXpPwAAAAAAAOQ/AAAAAAAA5D8AAAAAAADQPwAAAAAAANA/AAAAAAAA3D8AAAAAAACwPwAAAAAAALA/\",\"dtype\":\"float64\",\"order\":\"little\",\"shape\":[27]},\"end_time\":{\"__ndarray__\":\"AAAAAAA4SUAAAAAAADhJQKuqqqqq4klAVVVVVVXtSUBVVVVVVWVKQFVVVVVVZUpAq6qqqqrKSkCrqqqqqspKQAAAAAAAAEtAAAAAAAAAS0AAAAAAADhLQAAAAAAAOEtAVVVVVVXtS0AAAAAAAPBLQAAAAAAAOExAAAAAAAA4TECrqqqqqtJMQFVVVVVV1UxAVVVVVVVlTUBVVVVVVWVNQAAAAAAA0E1AAAAAAADQTUAAAAAAAABOQAAAAAAAAE5AAAAAAAA4TkAAAAAAAEhOQAAAAAAAyE5A\",\"dtype\":\"float64\",\"order\":\"little\",\"shape\":[27]},\"fill_alpha\":{\"__ndarray__\":\"AAAAAABA6D8AAAAAAEDoPwAAAAAAQOg/AAAAAABA6D8AAAAAAEDoPwAAAAAAQOg/AAAAAABA6D8AAAAAAEDoPwAAAAAAQOg/AAAAAABA6D8AAAAAAEDoPwAAAAAAQOg/AAAAAABA6D8AAAAAAEDoPwAAAAAAQOg/AAAAAABA6D8AAAAAAEDoPwAAAAAAQOg/AAAAAABA6D8AAAAAAEDoPwAAAAAAQOg/AAAAAABA6D8AAAAAAEDoPwAAAAAAQOg/AAAAAABA6D8AAAAAAEDoPwAAAAAAQOg/\",\"dtype\":\"float64\",\"order\":\"little\",\"shape\":[27]},\"index\":[606,607,620,621,622,623,631,632,638,639,641,642,648,649,658,659,665,666,675,676,683,684,690,691,693,697,705],\"instrument\":[24,24,24,24,24,24,24,24,24,24,24,24,24,24,24,24,24,24,24,24,24,24,24,24,24,24,24],\"pitch\":[62,69,69,60,62,69,64,69,64,69,62,69,64,69,62,69,64,69,57,69,64,76,62,74,57,57,64],\"program\":[90,90,90,90,90,90,90,90,90,90,90,90,90,90,90,90,90,90,90,90,90,90,90,90,90,90,90],\"start_time\":{\"__ndarray__\":\"AAAAAAAASUAAAAAAAABJQAAAAAAA4ElAAAAAAADgSUAAAAAAAABKQAAAAAAAAEpAAAAAAACASkAAAAAAAIBKQAAAAAAA4EpAAAAAAADgSkAAAAAAAABLQAAAAAAAAEtAAAAAAABgS0AAAAAAAGBLQAAAAAAAAExAAAAAAAAATEAAAAAAAIBMQAAAAAAAgExAAAAAAAAATUAAAAAAAABNQAAAAAAAgE1AAAAAAACATUAAAAAAAOBNQAAAAAAA4E1AAAAAAAAATkAAAAAAAEBOQAAAAAAAwE5A\",\"dtype\":\"float64\",\"order\":\"little\",\"shape\":[27]},\"top\":{\"__ndarray__\":\"MzMzMzMzT0CamZmZmVlRQJqZmZmZWVFAMzMzMzMzTkAzMzMzMzNPQJqZmZmZWVFAmpmZmZkZUECamZmZmVlRQJqZmZmZGVBAmpmZmZlZUUAzMzMzMzNPQJqZmZmZWVFAmpmZmZkZUECamZmZmVlRQDMzMzMzM09AmpmZmZlZUUCamZmZmRlQQJqZmZmZWVFAMzMzMzOzTECamZmZmVlRQJqZmZmZGVBAmpmZmZkZU0AzMzMzMzNPQJqZmZmZmVJAMzMzMzOzTEAzMzMzM7NMQJqZmZmZGVBA\",\"dtype\":\"float64\",\"order\":\"little\",\"shape\":[27]},\"velocity\":[97,97,97,97,97,97,97,97,97,97,97,97,97,97,97,97,97,97,97,97,97,97,97,97,97,97,97]},\"selected\":{\"id\":\"2045\"},\"selection_policy\":{\"id\":\"2046\"}},\"id\":\"1963\",\"type\":\"ColumnDataSource\"},{\"attributes\":{},\"id\":\"2037\",\"type\":\"Selection\"},{\"attributes\":{\"callback\":null,\"tooltips\":[[\"pitch\",\"@pitch\"],[\"program\",\"@program\"],[\"velo\",\"@velocity\"],[\"duration\",\"@duration\"],[\"start_time\",\"@start_time\"],[\"end_time\",\"@end_time\"],[\"velocity\",\"@velocity\"],[\"fill_alpha\",\"@fill_alpha\"]]},\"id\":\"1810\",\"type\":\"HoverTool\"},{\"attributes\":{\"bottom\":{\"field\":\"bottom\"},\"fill_alpha\":{\"field\":\"fill_alpha\"},\"fill_color\":{\"value\":\"#e6f598\"},\"left\":{\"field\":\"start_time\"},\"right\":{\"field\":\"end_time\"},\"top\":{\"field\":\"top\"}},\"id\":\"1863\",\"type\":\"Quad\"},{\"attributes\":{},\"id\":\"2002\",\"type\":\"UnionRenderers\"},{\"attributes\":{},\"id\":\"2038\",\"type\":\"UnionRenderers\"},{\"attributes\":{\"bottom\":{\"field\":\"bottom\"},\"fill_alpha\":{\"field\":\"fill_alpha\"},\"fill_color\":{\"value\":\"#3288bd\"},\"left\":{\"field\":\"start_time\"},\"right\":{\"field\":\"end_time\"},\"top\":{\"field\":\"top\"}},\"id\":\"1833\",\"type\":\"Quad\"},{\"attributes\":{},\"id\":\"2001\",\"type\":\"Selection\"},{\"attributes\":{},\"id\":\"2039\",\"type\":\"Selection\"},{\"attributes\":{\"data\":{\"bottom\":{\"__ndarray__\":\"zczMzMxMT0DNzMzMzExPQM3MzMzMzEZAzczMzMxMT0DNzMzMzExPQM3MzMzMzEZAzczMzMxMQ0DNzMzMzMxGQM3MzMzMTE9AZmZmZmZmUUDNzMzMzExPQGZmZmZmplBAzczMzMxMQ0DNzMzMzExFQM3MzMzMTEVAzczMzMzMRUA=\",\"dtype\":\"float64\",\"order\":\"little\",\"shape\":[16]},\"duration\":{\"__ndarray__\":\"qqqqqqqq4j+qqqqqqqrkPwAAAAAAAPM/WFVVVVVV3T+oqqqqqqriP6iqqqqqquI/AAAAAAAA4D8AAAAAAADQP6iqqqqqquI/UFVVVVVV5T8AAAAAAADYPwAAAAAAANA/AAAAAAAA5D8AAAAAAADAP0BVVVVVVdE/AAAAAAAA0D8=\",\"dtype\":\"float64\",\"order\":\"little\",\"shape\":[16]},\"end_time\":{\"__ndarray__\":\"qqqqqqqq4j9VVVVVVVX2PwAAAAAAAP8/AAAAAAAA/z+qqqqqqqoEQKqqqqqqqglAAAAAAAAADkAAAAAAAAAQQFVVVVVVVRJAqqqqqqoqFUCqqqqqquoWQAAAAAAAABhAAAAAAAAgPUCrqqqqqlo9QAAAAAAAwD1Aq6qqqqr6PUA=\",\"dtype\":\"float64\",\"order\":\"little\",\"shape\":[16]},\"fill_alpha\":{\"__ndarray__\":\"AAAAAABA7D8AAAAAAEDsPwAAAAAAQOw/AAAAAABA7D8AAAAAAEDsPwAAAAAAQOw/AAAAAABA7D8AAAAAAEDsPwAAAAAAQOw/AAAAAABA7D8AAAAAAEDsPwAAAAAAQOw/AAAAAABA7D8AAAAAAEDkPwAAAAAAQOQ/AAAAAABA5D8=\",\"dtype\":\"float64\",\"order\":\"little\",\"shape\":[16]},\"index\":[1,12,13,21,30,40,49,55,58,68,78,84,388,396,399,401],\"instrument\":[2,2,2,2,2,2,2,2,2,2,2,2,2,2,2,2],\"pitch\":[63,63,46,63,63,46,39,46,63,70,63,67,39,43,43,44],\"program\":[32,32,32,32,32,32,32,32,32,32,32,32,32,32,32,32],\"start_time\":{\"__ndarray__\":\"AAAAAAAAAAAAAAAAAADoPwAAAAAAAOg/qqqqqqqq9z8AAAAAAAAAQAAAAAAAAAVAAAAAAAAACkAAAAAAAAAOQAAAAAAAABBAAAAAAACAEkCqqqqqqmoVQAAAAAAAABdAAAAAAACAPECrqqqqqjo9QKuqqqqqej1Aq6qqqqq6PUA=\",\"dtype\":\"float64\",\"order\":\"little\",\"shape\":[16]},\"top\":{\"__ndarray__\":\"MzMzMzOzT0AzMzMzM7NPQDMzMzMzM0dAMzMzMzOzT0AzMzMzM7NPQDMzMzMzM0dAMzMzMzOzQ0AzMzMzMzNHQDMzMzMzs09AmpmZmZmZUUAzMzMzM7NPQJqZmZmZ2VBAMzMzMzOzQ0AzMzMzM7NFQDMzMzMzs0VAMzMzMzMzRkA=\",\"dtype\":\"float64\",\"order\":\"little\",\"shape\":[16]},\"velocity\":[113,113,113,113,113,113,113,113,113,113,113,113,113,81,81,81]},\"selected\":{\"id\":\"2001\"},\"selection_policy\":{\"id\":\"2002\"}},\"id\":\"1831\",\"type\":\"ColumnDataSource\"},{\"attributes\":{\"data_source\":{\"id\":\"1831\"},\"glyph\":{\"id\":\"1833\"},\"hover_glyph\":null,\"muted_glyph\":null,\"nonselection_glyph\":{\"id\":\"1834\"},\"selection_glyph\":null,\"view\":{\"id\":\"1836\"}},\"id\":\"1835\",\"type\":\"GlyphRenderer\"},{\"attributes\":{\"data\":{\"bottom\":{\"__ndarray__\":\"zczMzMzMSUDNzMzMzExLQM3MzMzMTEdAzczMzMxMRkDNzMzMzMxIQM3MzMzMzElAzczMzMxMS0DNzMzMzExHQM3MzMzMTEZAzczMzMxMRUA=\",\"dtype\":\"float64\",\"order\":\"little\",\"shape\":[10]},\"duration\":{\"__ndarray__\":\"gFVVVVVV0T8AAAAAAADiP4BVVVVVVeE/gFVVVVVV2T8AAAAAAADQP4BVVVVVVdE/AAAAAAAA4j/AqqqqqqrgPwAAAAAAANg/AFhVVVVVlT8=\",\"dtype\":\"float64\",\"order\":\"little\",\"shape\":[10]},\"end_time\":{\"__ndarray__\":\"AAAAAABASkBVVVVVVYVKQKuqqqqqwkpAAAAAAADwSkBVVVVVVf1KQAAAAAAAQEtAVVVVVVWFS0AAAAAAAMBLQFVVVVVV7UtAAAAAAAAATEA=\",\"dtype\":\"float64\",\"order\":\"little\",\"shape\":[10]},\"fill_alpha\":{\"__ndarray__\":\"AAAAAABA5D8AAAAAAEDoPwAAAAAAQOQ/AAAAAABA5D8AAAAAAEDoPwAAAAAAQOQ/AAAAAABA6D8AAAAAAEDkPwAAAAAAQOQ/AAAAAABA6D8=\",\"dtype\":\"float64\",\"order\":\"little\",\"shape\":[10]},\"index\":[624,625,629,635,636,643,645,651,653,657],\"instrument\":[25,25,25,25,25,25,25,25,25,25],\"pitch\":[52,55,47,45,50,52,55,47,45,43],\"program\":[28,28,28,28,28,28,28,28,28,28],\"start_time\":{\"__ndarray__\":\"VVVVVVUdSkBVVVVVVT1KQFVVVVVVfUpAVVVVVVW9SkBVVVVVVd1KQFVVVVVVHUtAVVVVVVU9S0BVVVVVVX1LQFVVVVVVvUtAVVVVVVX9S0A=\",\"dtype\":\"float64\",\"order\":\"little\",\"shape\":[10]},\"top\":{\"__ndarray__\":\"MzMzMzMzSkAzMzMzM7NLQDMzMzMzs0dAMzMzMzOzRkAzMzMzMzNJQDMzMzMzM0pAMzMzMzOzS0AzMzMzM7NHQDMzMzMzs0ZAMzMzMzOzRUA=\",\"dtype\":\"float64\",\"order\":\"little\",\"shape\":[10]},\"velocity\":[81,97,81,81,97,81,97,81,81,97]},\"selected\":{\"id\":\"2047\"},\"selection_policy\":{\"id\":\"2048\"}},\"id\":\"1969\",\"type\":\"ColumnDataSource\"},{\"attributes\":{},\"id\":\"2040\",\"type\":\"UnionRenderers\"},{\"attributes\":{\"data_source\":{\"id\":\"1825\"},\"glyph\":{\"id\":\"1827\"},\"hover_glyph\":null,\"muted_glyph\":null,\"nonselection_glyph\":{\"id\":\"1828\"},\"selection_glyph\":null,\"view\":{\"id\":\"1830\"}},\"id\":\"1829\",\"type\":\"GlyphRenderer\"},{\"attributes\":{},\"id\":\"2041\",\"type\":\"Selection\"},{\"attributes\":{\"source\":{\"id\":\"1831\"}},\"id\":\"1836\",\"type\":\"CDSView\"},{\"attributes\":{\"bottom\":{\"field\":\"bottom\"},\"fill_alpha\":{\"field\":\"fill_alpha\"},\"fill_color\":{\"value\":\"#d53e4f\"},\"left\":{\"field\":\"start_time\"},\"right\":{\"field\":\"end_time\"},\"top\":{\"field\":\"top\"}},\"id\":\"1953\",\"type\":\"Quad\"},{\"attributes\":{},\"id\":\"2042\",\"type\":\"UnionRenderers\"},{\"attributes\":{\"data_source\":{\"id\":\"1951\"},\"glyph\":{\"id\":\"1953\"},\"hover_glyph\":null,\"muted_glyph\":null,\"nonselection_glyph\":{\"id\":\"1954\"},\"selection_glyph\":null,\"view\":{\"id\":\"1956\"}},\"id\":\"1955\",\"type\":\"GlyphRenderer\"},{\"attributes\":{},\"id\":\"2043\",\"type\":\"Selection\"},{\"attributes\":{\"source\":{\"id\":\"1951\"}},\"id\":\"1956\",\"type\":\"CDSView\"},{\"attributes\":{},\"id\":\"1813\",\"type\":\"ResetTool\"},{\"attributes\":{\"bottom\":{\"field\":\"bottom\"},\"fill_alpha\":{\"value\":0.1},\"fill_color\":{\"value\":\"#d53e4f\"},\"left\":{\"field\":\"start_time\"},\"line_alpha\":{\"value\":0.1},\"right\":{\"field\":\"end_time\"},\"top\":{\"field\":\"top\"}},\"id\":\"1954\",\"type\":\"Quad\"},{\"attributes\":{},\"id\":\"2044\",\"type\":\"UnionRenderers\"},{\"attributes\":{\"data_source\":{\"id\":\"1855\"},\"glyph\":{\"id\":\"1857\"},\"hover_glyph\":null,\"muted_glyph\":null,\"nonselection_glyph\":{\"id\":\"1858\"},\"selection_glyph\":null,\"view\":{\"id\":\"1860\"}},\"id\":\"1859\",\"type\":\"GlyphRenderer\"},{\"attributes\":{\"bottom\":{\"field\":\"bottom\"},\"fill_alpha\":{\"value\":0.1},\"fill_color\":{\"value\":\"#3288bd\"},\"left\":{\"field\":\"start_time\"},\"line_alpha\":{\"value\":0.1},\"right\":{\"field\":\"end_time\"},\"top\":{\"field\":\"top\"}},\"id\":\"1834\",\"type\":\"Quad\"},{\"attributes\":{},\"id\":\"2000\",\"type\":\"UnionRenderers\"},{\"attributes\":{},\"id\":\"2045\",\"type\":\"Selection\"},{\"attributes\":{\"data\":{\"bottom\":{\"__ndarray__\":\"ZmZmZmZmUUDNzMzMzExPQGZmZmZmplBAZmZmZmbmUUBmZmZmZqZSQGZmZmZmplJAZmZmZmamUkA=\",\"dtype\":\"float64\",\"order\":\"little\",\"shape\":[7]},\"duration\":{\"__ndarray__\":\"AAAAAAAA2D8AAAAAAAD4PwAAAAAAAPQ/q6qqqqqq8j+qqqqqqqriP1hVVVVVVcU/sKqqqqqquj8=\",\"dtype\":\"float64\",\"order\":\"little\",\"shape\":[7]},\"end_time\":{\"__ndarray__\":\"AAAAAAAA2D8AAAAAAAAAQAAAAAAAAABAAAAAAAAAAEBVVVVVVVX3P1VVVVVVVfs/VVVVVVVV/j8=\",\"dtype\":\"float64\",\"order\":\"little\",\"shape\":[7]},\"fill_alpha\":{\"__ndarray__\":\"AAAAAABA7D8AAAAAAEDsPwAAAAAAQOw/AAAAAABA7D8AAAAAAEDsPwAAAAAAQOw/AAAAAABA7D8=\",\"dtype\":\"float64\",\"order\":\"little\",\"shape\":[7]},\"index\":[0,7,11,14,16,25,27],\"instrument\":[1,1,1,1,1,1,1],\"pitch\":[70,63,67,72,75,75,75],\"program\":[1,1,1,1,1,1,1],\"start_time\":{\"__ndarray__\":\"AAAAAAAAAAAAAAAAAADgPwAAAAAAAOg/qqqqqqqq6j8AAAAAAADsP6qqqqqqqvg/qqqqqqqq/D8=\",\"dtype\":\"float64\",\"order\":\"little\",\"shape\":[7]},\"top\":{\"__ndarray__\":\"mpmZmZmZUUAzMzMzM7NPQJqZmZmZ2VBAmpmZmZkZUkCamZmZmdlSQJqZmZmZ2VJAmpmZmZnZUkA=\",\"dtype\":\"float64\",\"order\":\"little\",\"shape\":[7]},\"velocity\":[113,113,113,113,113,113,113]},\"selected\":{\"id\":\"1999\"},\"selection_policy\":{\"id\":\"2000\"}},\"id\":\"1825\",\"type\":\"ColumnDataSource\"},{\"attributes\":{\"data\":{\"bottom\":{\"__ndarray__\":\"ZmZmZmamUUDNzMzMzMxPQM3MzMzMzE9AzczMzMzMT0BmZmZmZqZRQM3MzMzMzE9AzczMzMzMT0DNzMzMzMxPQGZmZmZmplFAzczMzMzMT0DNzMzMzMxPQM3MzMzMzE9AZmZmZmamUUDNzMzMzMxPQM3MzMzMzE9AZmZmZmamUUDNzMzMzMxPQGZmZmZm5lJAzczMzMzMT0BmZmZmZqZRQM3MzMzMzE9AZmZmZmbmUkBmZmZmZuZSQA==\",\"dtype\":\"float64\",\"order\":\"little\",\"shape\":[23]},\"duration\":{\"__ndarray__\":\"AFRVVVVVpT8AVlVVVVW1PwBWVVVVVbU/AKuqqqqqwj8AVFVVVVWlPwBWVVVVVbU/AFZVVVVVtT8Aqqqqqqq6PwAAAAAAALA/AFZVVVVVtT8AVlVVVVW1PwBWVVVVVbU/AAAAAAAAsD8AVlVVVVW1PwBWVVVVVbU/AAAAAAAAsD8AVlVVVVW1PwBWVVVVVbU/AFZVVVVVtT8AAAAAAACwPwBWVVVVVbU/AAAAAAAAsD8AAAAAAADAPw==\",\"dtype\":\"float64\",\"order\":\"little\",\"shape\":[23]},\"end_time\":{\"__ndarray__\":\"VVVVVVVFSkCrqqqqqmpKQKuqqqqqqkpAq6qqqqrySkBVVVVVVUVLQKuqqqqqaktAq6qqqqqqS0BVVVVVVe1LQAAAAAAASExAq6qqqqqKTECrqqqqqspMQKuqqqqq6kxAAAAAAABITUCrqqqqqopNQKuqqqqqyk1AAAAAAABITkCrqqqqqopOQKuqqqqqyk5Aq6qqqqr6TkAAAAAAAEhPQKuqqqqqik9AAAAAAADIT0AAAAAAAABQQA==\",\"dtype\":\"float64\",\"order\":\"little\",\"shape\":[23]},\"fill_alpha\":{\"__ndarray__\":\"AAAAAABA7D8AAAAAAEDsPwAAAAAAQOw/AAAAAABA7D8AAAAAAEDsPwAAAAAAQOw/AAAAAABA7D8AAAAAAEDsPwAAAAAAQOw/AAAAAABA7D8AAAAAAEDoPwAAAAAAQOg/AAAAAABA7D8AAAAAAEDsPwAAAAAAQOg/AAAAAABA7D8AAAAAAEDsPwAAAAAAQOw/AAAAAABA7D8AAAAAAEDsPwAAAAAAQOw/AAAAAABA7D8AAAAAAEDsPw==\",\"dtype\":\"float64\",\"order\":\"little\",\"shape\":[23]},\"index\":[627,628,634,640,646,650,652,656,663,667,670,673,680,685,689,698,702,706,709,715,720,722,725],\"instrument\":[26,26,26,26,26,26,26,26,26,26,26,26,26,26,26,26,26,26,26,26,26,26,26],\"pitch\":[71,64,64,64,71,64,64,64,71,64,64,64,71,64,64,71,64,76,64,71,64,76,76],\"program\":[87,87,87,87,87,87,87,87,87,87,87,87,87,87,87,87,87,87,87,87,87,87,87],\"start_time\":{\"__ndarray__\":\"AAAAAABASkAAAAAAAGBKQAAAAAAAoEpAAAAAAADgSkAAAAAAAEBLQAAAAAAAYEtAAAAAAACgS0AAAAAAAOBLQAAAAAAAQExAAAAAAACATEAAAAAAAMBMQAAAAAAA4ExAAAAAAABATUAAAAAAAIBNQAAAAAAAwE1AAAAAAABATkAAAAAAAIBOQAAAAAAAwE5AAAAAAADwTkAAAAAAAEBPQAAAAAAAgE9AAAAAAADAT0AAAAAAAPBPQA==\",\"dtype\":\"float64\",\"order\":\"little\",\"shape\":[23]},\"top\":{\"__ndarray__\":\"mpmZmZnZUUCamZmZmRlQQJqZmZmZGVBAmpmZmZkZUECamZmZmdlRQJqZmZmZGVBAmpmZmZkZUECamZmZmRlQQJqZmZmZ2VFAmpmZmZkZUECamZmZmRlQQJqZmZmZGVBAmpmZmZnZUUCamZmZmRlQQJqZmZmZGVBAmpmZmZnZUUCamZmZmRlQQJqZmZmZGVNAmpmZmZkZUECamZmZmdlRQJqZmZmZGVBAmpmZmZkZU0CamZmZmRlTQA==\",\"dtype\":\"float64\",\"order\":\"little\",\"shape\":[23]},\"velocity\":[113,113,113,113,113,113,113,113,113,113,97,97,113,113,97,113,113,113,113,113,113,113,113]},\"selected\":{\"id\":\"2049\"},\"selection_policy\":{\"id\":\"2050\"}},\"id\":\"1975\",\"type\":\"ColumnDataSource\"},{\"attributes\":{},\"id\":\"2046\",\"type\":\"UnionRenderers\"},{\"attributes\":{\"bottom\":{\"field\":\"bottom\"},\"fill_alpha\":{\"value\":0.1},\"fill_color\":{\"value\":\"#abdda4\"},\"left\":{\"field\":\"start_time\"},\"line_alpha\":{\"value\":0.1},\"right\":{\"field\":\"end_time\"},\"top\":{\"field\":\"top\"}},\"id\":\"1858\",\"type\":\"Quad\"},{\"attributes\":{},\"id\":\"2047\",\"type\":\"Selection\"},{\"attributes\":{\"bottom\":{\"field\":\"bottom\"},\"fill_alpha\":{\"field\":\"fill_alpha\"},\"fill_color\":{\"value\":\"#3288bd\"},\"left\":{\"field\":\"start_time\"},\"right\":{\"field\":\"end_time\"},\"top\":{\"field\":\"top\"}},\"id\":\"1959\",\"type\":\"Quad\"},{\"attributes\":{},\"id\":\"2048\",\"type\":\"UnionRenderers\"},{\"attributes\":{\"data_source\":{\"id\":\"1957\"},\"glyph\":{\"id\":\"1959\"},\"hover_glyph\":null,\"muted_glyph\":null,\"nonselection_glyph\":{\"id\":\"1960\"},\"selection_glyph\":null,\"view\":{\"id\":\"1962\"}},\"id\":\"1961\",\"type\":\"GlyphRenderer\"},{\"attributes\":{},\"id\":\"2049\",\"type\":\"Selection\"},{\"attributes\":{\"source\":{\"id\":\"1957\"}},\"id\":\"1962\",\"type\":\"CDSView\"},{\"attributes\":{\"bottom\":{\"field\":\"bottom\"},\"fill_alpha\":{\"value\":0.1},\"fill_color\":{\"value\":\"#3288bd\"},\"left\":{\"field\":\"start_time\"},\"line_alpha\":{\"value\":0.1},\"right\":{\"field\":\"end_time\"},\"top\":{\"field\":\"top\"}},\"id\":\"1960\",\"type\":\"Quad\"},{\"attributes\":{},\"id\":\"2050\",\"type\":\"UnionRenderers\"},{\"attributes\":{},\"id\":\"1803\",\"type\":\"BasicTicker\"},{\"attributes\":{\"bottom\":{\"field\":\"bottom\"},\"fill_alpha\":{\"field\":\"fill_alpha\"},\"fill_color\":{\"value\":\"#66c2a5\"},\"left\":{\"field\":\"start_time\"},\"right\":{\"field\":\"end_time\"},\"top\":{\"field\":\"top\"}},\"id\":\"1845\",\"type\":\"Quad\"},{\"attributes\":{},\"id\":\"1999\",\"type\":\"Selection\"},{\"attributes\":{},\"id\":\"2051\",\"type\":\"Selection\"},{\"attributes\":{\"data\":{\"bottom\":{\"__ndarray__\":\"ZmZmZmZmVEBmZmZmZmZRQGZmZmZm5lBAZmZmZmbmUUBmZmZmZiZQQGZmZmZmZlRAZmZmZmamVUBmZmZmZqZSQGZmZmZmZlFAZmZmZmYmUEBmZmZmZqZSQGZmZmZmplJAZmZmZmbmU0BmZmZmZmZRQGZmZmZmJlBAZmZmZmamUkBmZmZmZqZVQGZmZmZmJlNAZmZmZmYmUEBmZmZmZmZRQGZmZmZmJlBAZmZmZmamUkBmZmZmZqZVQGZmZmZmJlNAZmZmZmZmUUBmZmZmZiZQQGZmZmZmplJAZmZmZmamUkBmZmZmZiZTQGZmZmZmZlFAZmZmZmYmUEBmZmZmZqZSQGZmZmZm5lNAZmZmZmYmUEBmZmZmZmZRQGZmZmZmZlFAZmZmZmamUkBmZmZmZuZTQGZmZmZmZlFAZmZmZmYmUEBmZmZmZuZQQGZmZmZmplJAZmZmZmYmUEBmZmZmZmZRQGZmZmZm5lBAZmZmZmZmUUA=\",\"dtype\":\"float64\",\"order\":\"little\",\"shape\":[46]},\"duration\":{\"__ndarray__\":\"AAAAAAAA7D9VVVVVVVXtPwAAAAAAAPA/AAAAAAAA8D+qqqqqqqryPwAAAAAAAABAVFVVVVVV7z8AAAAAAADwP6iqqqqqquo/AAAAAAAAAEAAAAAAAADgP1hVVVVVVeU/WFVVVVVV5T+oqqqqqqrqP1RVVVVVVf4/AAAAAAAA8D+sqqqqqqryP2BVVVVVVcU/gFVVVVVVpT+wqqqqqqrqP6iqqqqqqv8/UFVVVVVV7T+oqqqqqqryPwAAAAAAANA/sKqqqqqq6j8AAAAAAAAAQKCqqqqqqto/AAAAAAAA6D8AAAAAAADoP1BVVVVVVe0/AAAAAAAAAEAAAAAAAADwPwAAAAAAAPA/WFVVVVVV9T9YVVVVVVX1PwAAAAAAAOA/AAAAAAAA4D8AAAAAAADgP2BVVVVVVe0/AAAAAAAAAEAAAAAAAADwPwAAAAAAAPA/YFVVVVVV7T9gVVVVVVXtPwAAAAAAAPA/AAAAAAAA8D8=\",\"dtype\":\"float64\",\"order\":\"little\",\"shape\":[46]},\"end_time\":{\"__ndarray__\":\"AAAAAAAA7D9VVVVVVVXtPwAAAAAAAABAAAAAAAAAAEBVVVVVVVUJQAAAAAAAABBAVVVVVVXVD0AAAAAAAAAQQFVVVVVVVRNAAAAAAAAAGEBVVVVVVVUVQAAAAAAAABhAAAAAAAAAGEBVVVVVVVUbQFVVVVVVlR9AVVVVVVVVH0AAAAAAAAAgQAAAAAAAACBAAAAAAAAAIECrqqqqqqohQFVVVVVV9SNAAAAAAACAI0AAAAAAAAAkQAAAAAAAACRAq6qqqqqqJUAAAAAAAAAoQAAAAAAAgCZAAAAAAAAAKEAAAAAAAAAoQFVVVVVV1SlAAAAAAAAALEAAAAAAAAAsQAAAAAAAACxAq6qqqqqqLkCrqqqqqqouQAAAAAAAADBAAAAAAAAAMEAAAAAAAAAwQKuqqqqq6jBAAAAAAAAAMkAAAAAAAAAyQAAAAAAAADJAq6qqqqrqMkCrqqqqquoyQAAAAAAAADRAAAAAAAAANEA=\",\"dtype\":\"float64\",\"order\":\"little\",\"shape\":[46]},\"fill_alpha\":{\"__ndarray__\":\"AAAAAABA7D8AAAAAAEDsPwAAAAAAQOw/AAAAAABA7D8AAAAAAEDsPwAAAAAAQOw/AAAAAABA7D8AAAAAAEDsPwAAAAAAQOw/AAAAAABA7D8AAAAAAEDsPwAAAAAAQOw/AAAAAABA7D8AAAAAAEDsPwAAAAAAQOw/AAAAAABA7D8AAAAAAEDsPwAAAAAAQOw/AAAAAABA7D8AAAAAAEDsPwAAAAAAQOw/AAAAAABA7D8AAAAAAEDsPwAAAAAAQOw/AAAAAABA7D8AAAAAAEDsPwAAAAAAQOw/AAAAAABA7D8AAAAAAEDsPwAAAAAAQOw/AAAAAABA7D8AAAAAAEDsPwAAAAAAQOw/AAAAAABA7D8AAAAAAEDsPwAAAAAAQOw/AAAAAABA7D8AAAAAAEDsPwAAAAAAQOw/AAAAAABA7D8AAAAAAEDsPwAAAAAAQOw/AAAAAABA7D8AAAAAAEDsPwAAAAAAQOw/AAAAAABA7D8=\",\"dtype\":\"float64\",\"order\":\"little\",\"shape\":[46]},\"index\":[2,3,17,18,31,32,43,44,59,60,71,76,77,88,89,100,101,115,117,120,121,131,132,144,149,150,159,167,168,179,180,190,191,208,209,226,227,228,237,238,246,247,265,266,277,278],\"instrument\":[3,3,3,3,3,3,3,3,3,3,3,3,3,3,3,3,3,3,3,3,3,3,3,3,3,3,3,3,3,3,3,3,3,3,3,3,3,3,3,3,3,3,3,3,3,3],\"pitch\":[82,70,68,72,65,82,87,75,70,65,75,75,80,70,65,75,87,77,65,70,65,75,87,77,70,65,75,75,77,70,65,75,80,65,70,70,75,80,70,65,68,75,65,70,68,70],\"program\":[102,102,102,102,102,102,102,102,102,102,102,102,102,102,102,102,102,102,102,102,102,102,102,102,102,102,102,102,102,102,102,102,102,102,102,102,102,102,102,102,102,102,102,102,102,102],\"start_time\":{\"__ndarray__\":\"AAAAAAAAAAAAAAAAAAAAAAAAAAAAAPA/AAAAAAAA8D8AAAAAAAAAQAAAAAAAAABAAAAAAAAACEAAAAAAAAAIQAAAAAAAABBAAAAAAAAAEEBVVVVVVVUTQFVVVVVVVRVAVVVVVVVVFUAAAAAAAAAYQAAAAAAAABhAVVVVVVVVG0BVVVVVVVUbQFVVVVVVVR9AVVVVVVXVH0AAAAAAAAAgQAAAAAAAACBAq6qqqqqqIUCrqqqqqqohQAAAAAAAgCNAAAAAAAAAJEAAAAAAAAAkQKuqqqqqqiVAAAAAAACAJkAAAAAAAIAmQAAAAAAAAChAAAAAAAAAKEAAAAAAAAAqQAAAAAAAACpAAAAAAAAALEAAAAAAAAAsQAAAAAAAAC9AAAAAAAAAL0AAAAAAAAAvQAAAAAAAADBAAAAAAAAAMEAAAAAAAAAxQAAAAAAAADFAAAAAAAAAMkAAAAAAAAAyQAAAAAAAADNAAAAAAAAAM0A=\",\"dtype\":\"float64\",\"order\":\"little\",\"shape\":[46]},\"top\":{\"__ndarray__\":\"mpmZmZmZVECamZmZmZlRQJqZmZmZGVFAmpmZmZkZUkCamZmZmVlQQJqZmZmZmVRAmpmZmZnZVUCamZmZmdlSQJqZmZmZmVFAmpmZmZlZUECamZmZmdlSQJqZmZmZ2VJAmpmZmZkZVECamZmZmZlRQJqZmZmZWVBAmpmZmZnZUkCamZmZmdlVQJqZmZmZWVNAmpmZmZlZUECamZmZmZlRQJqZmZmZWVBAmpmZmZnZUkCamZmZmdlVQJqZmZmZWVNAmpmZmZmZUUCamZmZmVlQQJqZmZmZ2VJAmpmZmZnZUkCamZmZmVlTQJqZmZmZmVFAmpmZmZlZUECamZmZmdlSQJqZmZmZGVRAmpmZmZlZUECamZmZmZlRQJqZmZmZmVFAmpmZmZnZUkCamZmZmRlUQJqZmZmZmVFAmpmZmZlZUECamZmZmRlRQJqZmZmZ2VJAmpmZmZlZUECamZmZmZlRQJqZmZmZGVFAmpmZmZmZUUA=\",\"dtype\":\"float64\",\"order\":\"little\",\"shape\":[46]},\"velocity\":[113,113,113,113,113,113,113,113,113,113,113,113,113,113,113,113,113,113,113,113,113,113,113,113,113,113,113,113,113,113,113,113,113,113,113,113,113,113,113,113,113,113,113,113,113,113]},\"selected\":{\"id\":\"2003\"},\"selection_policy\":{\"id\":\"2004\"}},\"id\":\"1837\",\"type\":\"ColumnDataSource\"},{\"attributes\":{\"text\":\"\"},\"id\":\"1993\",\"type\":\"Title\"},{\"attributes\":{},\"id\":\"1794\",\"type\":\"DataRange1d\"},{\"attributes\":{\"bottom\":{\"field\":\"bottom\"},\"fill_alpha\":{\"value\":0.1},\"fill_color\":{\"value\":\"#66c2a5\"},\"left\":{\"field\":\"start_time\"},\"line_alpha\":{\"value\":0.1},\"right\":{\"field\":\"end_time\"},\"top\":{\"field\":\"top\"}},\"id\":\"1972\",\"type\":\"Quad\"},{\"attributes\":{},\"id\":\"1814\",\"type\":\"SaveTool\"},{\"attributes\":{},\"id\":\"2052\",\"type\":\"UnionRenderers\"},{\"attributes\":{},\"id\":\"2053\",\"type\":\"Selection\"},{\"attributes\":{\"bottom\":{\"field\":\"bottom\"},\"fill_alpha\":{\"field\":\"fill_alpha\"},\"fill_color\":{\"value\":\"#f46d43\"},\"left\":{\"field\":\"start_time\"},\"right\":{\"field\":\"end_time\"},\"top\":{\"field\":\"top\"}},\"id\":\"1839\",\"type\":\"Quad\"},{\"attributes\":{\"data_source\":{\"id\":\"1837\"},\"glyph\":{\"id\":\"1839\"},\"hover_glyph\":null,\"muted_glyph\":null,\"nonselection_glyph\":{\"id\":\"1840\"},\"selection_glyph\":null,\"view\":{\"id\":\"1842\"}},\"id\":\"1841\",\"type\":\"GlyphRenderer\"},{\"attributes\":{\"bottom\":{\"field\":\"bottom\"},\"fill_alpha\":{\"field\":\"fill_alpha\"},\"fill_color\":{\"value\":\"#f46d43\"},\"left\":{\"field\":\"start_time\"},\"right\":{\"field\":\"end_time\"},\"top\":{\"field\":\"top\"}},\"id\":\"1965\",\"type\":\"Quad\"},{\"attributes\":{},\"id\":\"2054\",\"type\":\"UnionRenderers\"},{\"attributes\":{\"data_source\":{\"id\":\"1963\"},\"glyph\":{\"id\":\"1965\"},\"hover_glyph\":null,\"muted_glyph\":null,\"nonselection_glyph\":{\"id\":\"1966\"},\"selection_glyph\":null,\"view\":{\"id\":\"1968\"}},\"id\":\"1967\",\"type\":\"GlyphRenderer\"},{\"attributes\":{\"axis\":{\"id\":\"1802\"},\"ticker\":null},\"id\":\"1805\",\"type\":\"Grid\"},{\"attributes\":{\"source\":{\"id\":\"1837\"}},\"id\":\"1842\",\"type\":\"CDSView\"},{\"attributes\":{\"bottom\":{\"field\":\"bottom\"},\"fill_alpha\":{\"value\":0.1},\"fill_color\":{\"value\":\"#f46d43\"},\"left\":{\"field\":\"start_time\"},\"line_alpha\":{\"value\":0.1},\"right\":{\"field\":\"end_time\"},\"top\":{\"field\":\"top\"}},\"id\":\"1840\",\"type\":\"Quad\"},{\"attributes\":{\"source\":{\"id\":\"1963\"}},\"id\":\"1968\",\"type\":\"CDSView\"},{\"attributes\":{\"axis_label\":\"time (sec)\",\"formatter\":{\"id\":\"1996\"},\"ticker\":{\"id\":\"1803\"}},\"id\":\"1802\",\"type\":\"LinearAxis\"},{\"attributes\":{\"bottom\":{\"field\":\"bottom\"},\"fill_alpha\":{\"value\":0.1},\"fill_color\":{\"value\":\"#f46d43\"},\"left\":{\"field\":\"start_time\"},\"line_alpha\":{\"value\":0.1},\"right\":{\"field\":\"end_time\"},\"top\":{\"field\":\"top\"}},\"id\":\"1966\",\"type\":\"Quad\"},{\"attributes\":{},\"id\":\"1796\",\"type\":\"DataRange1d\"},{\"attributes\":{\"source\":{\"id\":\"1855\"}},\"id\":\"1860\",\"type\":\"CDSView\"},{\"attributes\":{\"data_source\":{\"id\":\"1969\"},\"glyph\":{\"id\":\"1971\"},\"hover_glyph\":null,\"muted_glyph\":null,\"nonselection_glyph\":{\"id\":\"1972\"},\"selection_glyph\":null,\"view\":{\"id\":\"1974\"}},\"id\":\"1973\",\"type\":\"GlyphRenderer\"},{\"attributes\":{\"axis\":{\"id\":\"1806\"},\"dimension\":1,\"ticker\":{\"id\":\"1824\"}},\"id\":\"1809\",\"type\":\"Grid\"},{\"attributes\":{\"data\":{\"bottom\":{\"__ndarray__\":\"ZmZmZmamUkDNzMzMzExPQGZmZmZm5lFAZmZmZmZmUUBmZmZmZuZRQGZmZmZmplJAzczMzMxMSUBmZmZmZqZQQGZmZmZmZlFAZmZmZmZmUUBmZmZmZqZSQM3MzMzMTElAZmZmZmbmUUBmZmZmZqZQQGZmZmZmplJA\",\"dtype\":\"float64\",\"order\":\"little\",\"shape\":[15]},\"duration\":{\"__ndarray__\":\"sKqqqqqq4j8AAAAAAAD4P4Cqqqqqqro/YFVVVVVV1T9QVVVVVVXjPwAAAAAAANg/AAAAAAAA5D8AAAAAAADQPwAAAAAAAMA/UFVVVVVV7T9QVVVVVVXtP7Cqqqqqqu4/sKqqqqqq7j/AqqqqqqrSP8Cqqqqqqso/\",\"dtype\":\"float64\",\"order\":\"little\",\"shape\":[15]},\"end_time\":{\"__ndarray__\":\"q6qqqqoqIUAAAAAAAAAkQFVVVVVVtSFAq6qqqqqqIkBVVVVVVbUjQAAAAAAAwCNAAAAAAABAJUAAAAAAAAAmQAAAAAAAACZAVVVVVVXVJ0BVVVVVVdUnQKuqqqqq6idAq6qqqqrqJ0CrqqqqquonQKuqqqqq6idA\",\"dtype\":\"float64\",\"order\":\"little\",\"shape\":[15]},\"fill_alpha\":{\"__ndarray__\":\"AAAAAABA7D8AAAAAAEDsPwAAAAAAQOw/AAAAAABA7D8AAAAAAEDsPwAAAAAAQOw/AAAAAABA6D8AAAAAAEDsPwAAAAAAQOw/AAAAAABA7D8AAAAAAEDsPwAAAAAAQOw/AAAAAABA7D8AAAAAAEDoPwAAAAAAQOw/\",\"dtype\":\"float64\",\"order\":\"little\",\"shape\":[15]},\"index\":[118,125,130,133,136,139,147,157,160,161,162,163,164,173,174],\"instrument\":[7,7,7,7,7,7,7,7,7,7,7,7,7,7,7],\"pitch\":[75,63,72,70,72,75,51,67,70,70,75,51,72,67,75],\"program\":[4,4,4,4,4,4,4,4,4,4,4,4,4,4,4],\"start_time\":{\"__ndarray__\":\"AAAAAAAAIEAAAAAAAAAhQAAAAAAAgCFAAAAAAAAAIkAAAAAAAIAiQAAAAAAAACNAAAAAAAAAJEAAAAAAAIAlQAAAAAAAwCVAAAAAAAAAJkAAAAAAAAAmQAAAAAAAACZAAAAAAAAAJkBVVVVVVVUnQAAAAAAAgCdA\",\"dtype\":\"float64\",\"order\":\"little\",\"shape\":[15]},\"top\":{\"__ndarray__\":\"mpmZmZnZUkAzMzMzM7NPQJqZmZmZGVJAmpmZmZmZUUCamZmZmRlSQJqZmZmZ2VJAMzMzMzOzSUCamZmZmdlQQJqZmZmZmVFAmpmZmZmZUUCamZmZmdlSQDMzMzMzs0lAmpmZmZkZUkCamZmZmdlQQJqZmZmZ2VJA\",\"dtype\":\"float64\",\"order\":\"little\",\"shape\":[15]},\"velocity\":[113,113,113,113,113,113,97,113,113,113,113,113,113,97,113]},\"selected\":{\"id\":\"2011\"},\"selection_policy\":{\"id\":\"2012\"}},\"id\":\"1861\",\"type\":\"ColumnDataSource\"},{\"attributes\":{\"bottom\":{\"field\":\"bottom\"},\"fill_alpha\":{\"field\":\"fill_alpha\"},\"fill_color\":{\"value\":\"#66c2a5\"},\"left\":{\"field\":\"start_time\"},\"right\":{\"field\":\"end_time\"},\"top\":{\"field\":\"top\"}},\"id\":\"1971\",\"type\":\"Quad\"},{\"attributes\":{\"data\":{\"bottom\":{\"__ndarray__\":\"ZmZmZmZmUUDNzMzMzExPQGZmZmZmplBAZmZmZmbmUUBmZmZmZqZSQGZmZmZmplJAZmZmZmZmUUDNzMzMzExPQGZmZmZmplBAZmZmZmbmUUBmZmZmZqZSQGZmZmZmplJA\",\"dtype\":\"float64\",\"order\":\"little\",\"shape\":[12]},\"duration\":{\"__ndarray__\":\"AAAAAAAA2D9UVVVVVVX3PwAAAAAAAPY/AAAAAAAA8D+oqqqqqqrWP6Cqqqqqqro/AAAAAAAA2D9UVVVVVVX1P1RVVVVVVfM/AAAAAAAA6j9AVVVVVVW1P6Cqqqqqqso/\",\"dtype\":\"float64\",\"order\":\"little\",\"shape\":[12]},\"end_time\":{\"__ndarray__\":\"AAAAAAAAA0CqqqqqqqoPQAAAAAAAABBAAAAAAAAAEECqqqqqqioLQFVVVVVV1QxAAAAAAACAEUBVVVVVVVUXQFVVVVVV1RdAVVVVVVWVFkCqqqqqquoVQFVVVVVV1RdA\",\"dtype\":\"float64\",\"order\":\"little\",\"shape\":[12]},\"fill_alpha\":{\"__ndarray__\":\"AAAAAABA7D8AAAAAAEDsPwAAAAAAQOw/AAAAAABA7D8AAAAAAEDsPwAAAAAAQOw/AAAAAABA7D8AAAAAAEDsPwAAAAAAQOw/AAAAAABA7D8AAAAAAEDsPwAAAAAAQOw/\",\"dtype\":\"float64\",\"order\":\"little\",\"shape\":[12]},\"index\":[29,37,39,42,48,51,57,64,69,70,79,83],\"instrument\":[4,4,4,4,4,4,4,4,4,4,4,4],\"pitch\":[70,63,67,72,75,75,70,63,67,72,75,75],\"program\":[2,2,2,2,2,2,2,2,2,2,2,2],\"start_time\":{\"__ndarray__\":\"AAAAAAAAAEAAAAAAAAAEQAAAAAAAAAVAAAAAAAAACEBVVVVVVVUIQAAAAAAAAAxAAAAAAAAAEEAAAAAAAAASQAAAAAAAABNAVVVVVVVVE0BVVVVVVZUVQAAAAAAAABdA\",\"dtype\":\"float64\",\"order\":\"little\",\"shape\":[12]},\"top\":{\"__ndarray__\":\"mpmZmZmZUUAzMzMzM7NPQJqZmZmZ2VBAmpmZmZkZUkCamZmZmdlSQJqZmZmZ2VJAmpmZmZmZUUAzMzMzM7NPQJqZmZmZ2VBAmpmZmZkZUkCamZmZmdlSQJqZmZmZ2VJA\",\"dtype\":\"float64\",\"order\":\"little\",\"shape\":[12]},\"velocity\":[113,113,113,113,113,113,113,113,113,113,113,113]},\"selected\":{\"id\":\"2005\"},\"selection_policy\":{\"id\":\"2006\"}},\"id\":\"1843\",\"type\":\"ColumnDataSource\"}],\"root_ids\":[\"1793\"]},\"title\":\"Bokeh Application\",\"version\":\"2.1.1\"}};\n",
              "  var render_items = [{\"docid\":\"ff3be13a-0ee3-489c-a8ef-5d682e01bb02\",\"root_ids\":[\"1793\"],\"roots\":{\"1793\":\"ec9f1cd8-a068-49c2-a334-0bf30f3d6b0c\"}}];\n",
              "  root.Bokeh.embed.embed_items_notebook(docs_json, render_items);\n",
              "\n",
              "  }\n",
              "  if (root.Bokeh !== undefined) {\n",
              "    embed_document(root);\n",
              "  } else {\n",
              "    var attempts = 0;\n",
              "    var timer = setInterval(function(root) {\n",
              "      if (root.Bokeh !== undefined) {\n",
              "        clearInterval(timer);\n",
              "        embed_document(root);\n",
              "      } else {\n",
              "        attempts++;\n",
              "        if (attempts > 100) {\n",
              "          clearInterval(timer);\n",
              "          console.log(\"Bokeh: ERROR: Unable to run BokehJS code because BokehJS library is missing\");\n",
              "        }\n",
              "      }\n",
              "    }, 10, root)\n",
              "  }\n",
              "})(window);"
            ],
            "application/vnd.bokehjs_exec.v0+json": ""
          },
          "metadata": {
            "tags": [],
            "application/vnd.bokehjs_exec.v0+json": {
              "id": "1793"
            }
          }
        }
      ]
    },
    {
      "cell_type": "code",
      "metadata": {
        "id": "7IKK96Nhdc2k",
        "colab_type": "code",
        "colab": {
          "base_uri": "https://localhost:8080/",
          "height": 17
        },
        "outputId": "cd7e658a-8425-495f-e1b1-54b82d0c653f"
      },
      "source": [
        "download(interp_ns, 'interp.mid')"
      ],
      "execution_count": 15,
      "outputs": [
        {
          "output_type": "display_data",
          "data": {
            "application/javascript": [
              "\n",
              "    async function download(id, filename, size) {\n",
              "      if (!google.colab.kernel.accessAllowed) {\n",
              "        return;\n",
              "      }\n",
              "      const div = document.createElement('div');\n",
              "      const label = document.createElement('label');\n",
              "      label.textContent = `Downloading \"${filename}\": `;\n",
              "      div.appendChild(label);\n",
              "      const progress = document.createElement('progress');\n",
              "      progress.max = size;\n",
              "      div.appendChild(progress);\n",
              "      document.body.appendChild(div);\n",
              "\n",
              "      const buffers = [];\n",
              "      let downloaded = 0;\n",
              "\n",
              "      const channel = await google.colab.kernel.comms.open(id);\n",
              "      // Send a message to notify the kernel that we're ready.\n",
              "      channel.send({})\n",
              "\n",
              "      for await (const message of channel.messages) {\n",
              "        // Send a message to notify the kernel that we're ready.\n",
              "        channel.send({})\n",
              "        if (message.buffers) {\n",
              "          for (const buffer of message.buffers) {\n",
              "            buffers.push(buffer);\n",
              "            downloaded += buffer.byteLength;\n",
              "            progress.value = downloaded;\n",
              "          }\n",
              "        }\n",
              "      }\n",
              "      const blob = new Blob(buffers, {type: 'application/binary'});\n",
              "      const a = document.createElement('a');\n",
              "      a.href = window.URL.createObjectURL(blob);\n",
              "      a.download = filename;\n",
              "      div.appendChild(a);\n",
              "      a.click();\n",
              "      div.remove();\n",
              "    }\n",
              "  "
            ],
            "text/plain": [
              "<IPython.core.display.Javascript object>"
            ]
          },
          "metadata": {
            "tags": []
          }
        },
        {
          "output_type": "display_data",
          "data": {
            "application/javascript": [
              "download(\"download_0ee994e5-4561-49cf-87b8-9bc7407d44ca\", \"interp.mid\", 5187)"
            ],
            "text/plain": [
              "<IPython.core.display.Javascript object>"
            ]
          },
          "metadata": {
            "tags": []
          }
        }
      ]
    },
    {
      "cell_type": "code",
      "metadata": {
        "id": "WLee0yozdnvk",
        "colab_type": "code",
        "colab": {
          "resources": {
            "http://localhost:8080/nbextensions/google.colab/files.js": {
              "data": "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",
              "ok": true,
              "headers": [
                [
                  "content-type",
                  "application/javascript"
                ]
              ],
              "status": 200,
              "status_text": ""
            }
          },
          "base_uri": "https://localhost:8080/",
          "height": 89
        },
        "outputId": "c239b085-dfcf-405e-e104-302691cd1f20"
      },
      "source": [
        "### Upload MIDI Files to Reconstruct\n",
        "midi_files = files.upload().values()\n",
        "seqs = [mm.midi_to_sequence_proto(midi) for midi in midi_files]\n",
        "\n",
        "uploaded_seqs = []\n",
        "for seq in seqs:\n",
        "  _, tensors, _, _ = model._config.data_converter.to_tensors(seq)\n",
        "  uploaded_seqs.extend(model._config.data_converter.from_tensors(tensors))\n",
        "  \n",
        "trim_sequences(uploaded_seqs)\n",
        "\n",
        "print('Parsed %d measures' % len(uploaded_seqs))"
      ],
      "execution_count": 16,
      "outputs": [
        {
          "output_type": "display_data",
          "data": {
            "text/html": [
              "\n",
              "     <input type=\"file\" id=\"files-efc300e0-2a95-4634-add7-320758a22139\" name=\"files[]\" multiple disabled\n",
              "        style=\"border:none\" />\n",
              "     <output id=\"result-efc300e0-2a95-4634-add7-320758a22139\">\n",
              "      Upload widget is only available when the cell has been executed in the\n",
              "      current browser session. Please rerun this cell to enable.\n",
              "      </output>\n",
              "      <script src=\"/nbextensions/google.colab/files.js\"></script> "
            ],
            "text/plain": [
              "<IPython.core.display.HTML object>"
            ]
          },
          "metadata": {
            "tags": []
          }
        },
        {
          "output_type": "stream",
          "text": [
            "Saving interp.mid to interp (1).mid\n",
            "Parsed 32 measures\n"
          ],
          "name": "stdout"
        }
      ]
    },
    {
      "cell_type": "code",
      "metadata": {
        "id": "Xk5kheg3dtND",
        "colab_type": "code",
        "colab": {
          "base_uri": "https://localhost:8080/",
          "height": 567
        },
        "outputId": "cc57366e-cfb8-4f15-9a25-bf933576b8eb"
      },
      "source": [
        "### Encode and Decode\n",
        "\n",
        "index = 0 \n",
        "temperature = 0.2 \n",
        "\n",
        "z, _, _ = model.encode([uploaded_seqs[index]])\n",
        "reconstructed_seq = model.decode(z, length = TOTAL_STEPS,\n",
        "                                 temperature = temperature)[0]\n",
        "\n",
        "trim_sequences([reconstructed_seq])\n",
        "\n",
        "print('Original')\n",
        "play(uploaded_seqs[index])\n",
        "mm.plot_sequence(uploaded_seqs[index])\n",
        "\n",
        "print('Reconstructed')\n",
        "play(reconstructed_seq)\n",
        "mm.plot_sequence(reconstructed_seq)"
      ],
      "execution_count": 17,
      "outputs": [
        {
          "output_type": "stream",
          "text": [
            "Original\n"
          ],
          "name": "stdout"
        },
        {
          "output_type": "display_data",
          "data": {
            "text/html": [
              "<div id=\"id_12\"> </div>"
            ],
            "text/plain": [
              "<IPython.core.display.HTML object>"
            ]
          },
          "metadata": {
            "tags": []
          }
        },
        {
          "output_type": "display_data",
          "data": {
            "application/javascript": [
              "\n",
              "(function(root) {\n",
              "  function now() {\n",
              "    return new Date();\n",
              "  }\n",
              "\n",
              "  var force = true;\n",
              "\n",
              "  if (typeof root._bokeh_onload_callbacks === \"undefined\" || force === true) {\n",
              "    root._bokeh_onload_callbacks = [];\n",
              "    root._bokeh_is_loading = undefined;\n",
              "  }\n",
              "\n",
              "  var JS_MIME_TYPE = 'application/javascript';\n",
              "  var HTML_MIME_TYPE = 'text/html';\n",
              "  var EXEC_MIME_TYPE = 'application/vnd.bokehjs_exec.v0+json';\n",
              "  var CLASS_NAME = 'output_bokeh rendered_html';\n",
              "\n",
              "  /**\n",
              "   * Render data to the DOM node\n",
              "   */\n",
              "  function render(props, node) {\n",
              "    var script = document.createElement(\"script\");\n",
              "    node.appendChild(script);\n",
              "  }\n",
              "\n",
              "  /**\n",
              "   * Handle when an output is cleared or removed\n",
              "   */\n",
              "  function handleClearOutput(event, handle) {\n",
              "    var cell = handle.cell;\n",
              "\n",
              "    var id = cell.output_area._bokeh_element_id;\n",
              "    var server_id = cell.output_area._bokeh_server_id;\n",
              "    // Clean up Bokeh references\n",
              "    if (id != null && id in Bokeh.index) {\n",
              "      Bokeh.index[id].model.document.clear();\n",
              "      delete Bokeh.index[id];\n",
              "    }\n",
              "\n",
              "    if (server_id !== undefined) {\n",
              "      // Clean up Bokeh references\n",
              "      var cmd = \"from bokeh.io.state import curstate; print(curstate().uuid_to_server['\" + server_id + \"'].get_sessions()[0].document.roots[0]._id)\";\n",
              "      cell.notebook.kernel.execute(cmd, {\n",
              "        iopub: {\n",
              "          output: function(msg) {\n",
              "            var id = msg.content.text.trim();\n",
              "            if (id in Bokeh.index) {\n",
              "              Bokeh.index[id].model.document.clear();\n",
              "              delete Bokeh.index[id];\n",
              "            }\n",
              "          }\n",
              "        }\n",
              "      });\n",
              "      // Destroy server and session\n",
              "      var cmd = \"import bokeh.io.notebook as ion; ion.destroy_server('\" + server_id + \"')\";\n",
              "      cell.notebook.kernel.execute(cmd);\n",
              "    }\n",
              "  }\n",
              "\n",
              "  /**\n",
              "   * Handle when a new output is added\n",
              "   */\n",
              "  function handleAddOutput(event, handle) {\n",
              "    var output_area = handle.output_area;\n",
              "    var output = handle.output;\n",
              "\n",
              "    // limit handleAddOutput to display_data with EXEC_MIME_TYPE content only\n",
              "    if ((output.output_type != \"display_data\") || (!output.data.hasOwnProperty(EXEC_MIME_TYPE))) {\n",
              "      return\n",
              "    }\n",
              "\n",
              "    var toinsert = output_area.element.find(\".\" + CLASS_NAME.split(' ')[0]);\n",
              "\n",
              "    if (output.metadata[EXEC_MIME_TYPE][\"id\"] !== undefined) {\n",
              "      toinsert[toinsert.length - 1].firstChild.textContent = output.data[JS_MIME_TYPE];\n",
              "      // store reference to embed id on output_area\n",
              "      output_area._bokeh_element_id = output.metadata[EXEC_MIME_TYPE][\"id\"];\n",
              "    }\n",
              "    if (output.metadata[EXEC_MIME_TYPE][\"server_id\"] !== undefined) {\n",
              "      var bk_div = document.createElement(\"div\");\n",
              "      bk_div.innerHTML = output.data[HTML_MIME_TYPE];\n",
              "      var script_attrs = bk_div.children[0].attributes;\n",
              "      for (var i = 0; i < script_attrs.length; i++) {\n",
              "        toinsert[toinsert.length - 1].firstChild.setAttribute(script_attrs[i].name, script_attrs[i].value);\n",
              "        toinsert[toinsert.length - 1].firstChild.textContent = bk_div.children[0].textContent\n",
              "      }\n",
              "      // store reference to server id on output_area\n",
              "      output_area._bokeh_server_id = output.metadata[EXEC_MIME_TYPE][\"server_id\"];\n",
              "    }\n",
              "  }\n",
              "\n",
              "  function register_renderer(events, OutputArea) {\n",
              "\n",
              "    function append_mime(data, metadata, element) {\n",
              "      // create a DOM node to render to\n",
              "      var toinsert = this.create_output_subarea(\n",
              "        metadata,\n",
              "        CLASS_NAME,\n",
              "        EXEC_MIME_TYPE\n",
              "      );\n",
              "      this.keyboard_manager.register_events(toinsert);\n",
              "      // Render to node\n",
              "      var props = {data: data, metadata: metadata[EXEC_MIME_TYPE]};\n",
              "      render(props, toinsert[toinsert.length - 1]);\n",
              "      element.append(toinsert);\n",
              "      return toinsert\n",
              "    }\n",
              "\n",
              "    /* Handle when an output is cleared or removed */\n",
              "    events.on('clear_output.CodeCell', handleClearOutput);\n",
              "    events.on('delete.Cell', handleClearOutput);\n",
              "\n",
              "    /* Handle when a new output is added */\n",
              "    events.on('output_added.OutputArea', handleAddOutput);\n",
              "\n",
              "    /**\n",
              "     * Register the mime type and append_mime function with output_area\n",
              "     */\n",
              "    OutputArea.prototype.register_mime_type(EXEC_MIME_TYPE, append_mime, {\n",
              "      /* Is output safe? */\n",
              "      safe: true,\n",
              "      /* Index of renderer in `output_area.display_order` */\n",
              "      index: 0\n",
              "    });\n",
              "  }\n",
              "\n",
              "  // register the mime type if in Jupyter Notebook environment and previously unregistered\n",
              "  if (root.Jupyter !== undefined) {\n",
              "    var events = require('base/js/events');\n",
              "    var OutputArea = require('notebook/js/outputarea').OutputArea;\n",
              "\n",
              "    if (OutputArea.prototype.mime_types().indexOf(EXEC_MIME_TYPE) == -1) {\n",
              "      register_renderer(events, OutputArea);\n",
              "    }\n",
              "  }\n",
              "\n",
              "  \n",
              "  if (typeof (root._bokeh_timeout) === \"undefined\" || force === true) {\n",
              "    root._bokeh_timeout = Date.now() + 5000;\n",
              "    root._bokeh_failed_load = false;\n",
              "  }\n",
              "\n",
              "  var NB_LOAD_WARNING = {'data': {'text/html':\n",
              "     \"<div style='background-color: #fdd'>\\n\"+\n",
              "     \"<p>\\n\"+\n",
              "     \"BokehJS does not appear to have successfully loaded. If loading BokehJS from CDN, this \\n\"+\n",
              "     \"may be due to a slow or bad network connection. Possible fixes:\\n\"+\n",
              "     \"</p>\\n\"+\n",
              "     \"<ul>\\n\"+\n",
              "     \"<li>re-rerun `output_notebook()` to attempt to load from CDN again, or</li>\\n\"+\n",
              "     \"<li>use INLINE resources instead, as so:</li>\\n\"+\n",
              "     \"</ul>\\n\"+\n",
              "     \"<code>\\n\"+\n",
              "     \"from bokeh.resources import INLINE\\n\"+\n",
              "     \"output_notebook(resources=INLINE)\\n\"+\n",
              "     \"</code>\\n\"+\n",
              "     \"</div>\"}};\n",
              "\n",
              "  function display_loaded() {\n",
              "    var el = document.getElementById(null);\n",
              "    if (el != null) {\n",
              "      el.textContent = \"BokehJS is loading...\";\n",
              "    }\n",
              "    if (root.Bokeh !== undefined) {\n",
              "      if (el != null) {\n",
              "        el.textContent = \"BokehJS \" + root.Bokeh.version + \" successfully loaded.\";\n",
              "      }\n",
              "    } else if (Date.now() < root._bokeh_timeout) {\n",
              "      setTimeout(display_loaded, 100)\n",
              "    }\n",
              "  }\n",
              "\n",
              "\n",
              "  function run_callbacks() {\n",
              "    try {\n",
              "      root._bokeh_onload_callbacks.forEach(function(callback) {\n",
              "        if (callback != null)\n",
              "          callback();\n",
              "      });\n",
              "    } finally {\n",
              "      delete root._bokeh_onload_callbacks\n",
              "    }\n",
              "    console.debug(\"Bokeh: all callbacks have finished\");\n",
              "  }\n",
              "\n",
              "  function load_libs(css_urls, js_urls, callback) {\n",
              "    if (css_urls == null) css_urls = [];\n",
              "    if (js_urls == null) js_urls = [];\n",
              "\n",
              "    root._bokeh_onload_callbacks.push(callback);\n",
              "    if (root._bokeh_is_loading > 0) {\n",
              "      console.debug(\"Bokeh: BokehJS is being loaded, scheduling callback at\", now());\n",
              "      return null;\n",
              "    }\n",
              "    if (js_urls == null || js_urls.length === 0) {\n",
              "      run_callbacks();\n",
              "      return null;\n",
              "    }\n",
              "    console.debug(\"Bokeh: BokehJS not loaded, scheduling load and callback at\", now());\n",
              "    root._bokeh_is_loading = css_urls.length + js_urls.length;\n",
              "\n",
              "    function on_load() {\n",
              "      root._bokeh_is_loading--;\n",
              "      if (root._bokeh_is_loading === 0) {\n",
              "        console.debug(\"Bokeh: all BokehJS libraries/stylesheets loaded\");\n",
              "        run_callbacks()\n",
              "      }\n",
              "    }\n",
              "\n",
              "    function on_error() {\n",
              "      console.error(\"failed to load \" + url);\n",
              "    }\n",
              "\n",
              "    for (var i = 0; i < css_urls.length; i++) {\n",
              "      var url = css_urls[i];\n",
              "      const element = document.createElement(\"link\");\n",
              "      element.onload = on_load;\n",
              "      element.onerror = on_error;\n",
              "      element.rel = \"stylesheet\";\n",
              "      element.type = \"text/css\";\n",
              "      element.href = url;\n",
              "      console.debug(\"Bokeh: injecting link tag for BokehJS stylesheet: \", url);\n",
              "      document.body.appendChild(element);\n",
              "    }\n",
              "\n",
              "    const hashes = {\"https://cdn.bokeh.org/bokeh/release/bokeh-2.1.1.min.js\": \"kLr4fYcqcSpbuI95brIH3vnnYCquzzSxHPU6XGQCIkQRGJwhg0StNbj1eegrHs12\", \"https://cdn.bokeh.org/bokeh/release/bokeh-widgets-2.1.1.min.js\": \"xIGPmVtaOm+z0BqfSOMn4lOR6ciex448GIKG4eE61LsAvmGj48XcMQZtKcE/UXZe\", \"https://cdn.bokeh.org/bokeh/release/bokeh-tables-2.1.1.min.js\": \"Dc9u1wF/0zApGIWoBbH77iWEHtdmkuYWG839Uzmv8y8yBLXebjO9ZnERsde5Ln/P\", \"https://cdn.bokeh.org/bokeh/release/bokeh-gl-2.1.1.min.js\": \"cT9JaBz7GiRXdENrJLZNSC6eMNF3nh3fa5fTF51Svp+ukxPdwcU5kGXGPBgDCa2j\"};\n",
              "\n",
              "    for (var i = 0; i < js_urls.length; i++) {\n",
              "      var url = js_urls[i];\n",
              "      var element = document.createElement('script');\n",
              "      element.onload = on_load;\n",
              "      element.onerror = on_error;\n",
              "      element.async = false;\n",
              "      element.src = url;\n",
              "      if (url in hashes) {\n",
              "        element.crossOrigin = \"anonymous\";\n",
              "        element.integrity = \"sha384-\" + hashes[url];\n",
              "      }\n",
              "      console.debug(\"Bokeh: injecting script tag for BokehJS library: \", url);\n",
              "      document.head.appendChild(element);\n",
              "    }\n",
              "  };\n",
              "\n",
              "  function inject_raw_css(css) {\n",
              "    const element = document.createElement(\"style\");\n",
              "    element.appendChild(document.createTextNode(css));\n",
              "    document.body.appendChild(element);\n",
              "  }\n",
              "\n",
              "  \n",
              "  var js_urls = [\"https://cdn.bokeh.org/bokeh/release/bokeh-2.1.1.min.js\", \"https://cdn.bokeh.org/bokeh/release/bokeh-widgets-2.1.1.min.js\", \"https://cdn.bokeh.org/bokeh/release/bokeh-tables-2.1.1.min.js\", \"https://cdn.bokeh.org/bokeh/release/bokeh-gl-2.1.1.min.js\"];\n",
              "  var css_urls = [];\n",
              "  \n",
              "\n",
              "  var inline_js = [\n",
              "    function(Bokeh) {\n",
              "      Bokeh.set_log_level(\"info\");\n",
              "    },\n",
              "    function(Bokeh) {\n",
              "    \n",
              "    \n",
              "    }\n",
              "  ];\n",
              "\n",
              "  function run_inline_js() {\n",
              "    \n",
              "    if (root.Bokeh !== undefined || force === true) {\n",
              "      \n",
              "    for (var i = 0; i < inline_js.length; i++) {\n",
              "      inline_js[i].call(root, root.Bokeh);\n",
              "    }\n",
              "    } else if (Date.now() < root._bokeh_timeout) {\n",
              "      setTimeout(run_inline_js, 100);\n",
              "    } else if (!root._bokeh_failed_load) {\n",
              "      console.log(\"Bokeh: BokehJS failed to load within specified timeout.\");\n",
              "      root._bokeh_failed_load = true;\n",
              "    } else if (force !== true) {\n",
              "      var cell = $(document.getElementById(null)).parents('.cell').data().cell;\n",
              "      cell.output_area.append_execute_result(NB_LOAD_WARNING)\n",
              "    }\n",
              "\n",
              "  }\n",
              "\n",
              "  if (root._bokeh_is_loading === 0) {\n",
              "    console.debug(\"Bokeh: BokehJS loaded, going straight to plotting\");\n",
              "    run_inline_js();\n",
              "  } else {\n",
              "    load_libs(css_urls, js_urls, function() {\n",
              "      console.debug(\"Bokeh: BokehJS plotting callback run at\", now());\n",
              "      run_inline_js();\n",
              "    });\n",
              "  }\n",
              "}(window));"
            ],
            "application/vnd.bokehjs_load.v0+json": "\n(function(root) {\n  function now() {\n    return new Date();\n  }\n\n  var force = true;\n\n  if (typeof root._bokeh_onload_callbacks === \"undefined\" || force === true) {\n    root._bokeh_onload_callbacks = [];\n    root._bokeh_is_loading = undefined;\n  }\n\n  \n\n  \n  if (typeof (root._bokeh_timeout) === \"undefined\" || force === true) {\n    root._bokeh_timeout = Date.now() + 5000;\n    root._bokeh_failed_load = false;\n  }\n\n  var NB_LOAD_WARNING = {'data': {'text/html':\n     \"<div style='background-color: #fdd'>\\n\"+\n     \"<p>\\n\"+\n     \"BokehJS does not appear to have successfully loaded. If loading BokehJS from CDN, this \\n\"+\n     \"may be due to a slow or bad network connection. Possible fixes:\\n\"+\n     \"</p>\\n\"+\n     \"<ul>\\n\"+\n     \"<li>re-rerun `output_notebook()` to attempt to load from CDN again, or</li>\\n\"+\n     \"<li>use INLINE resources instead, as so:</li>\\n\"+\n     \"</ul>\\n\"+\n     \"<code>\\n\"+\n     \"from bokeh.resources import INLINE\\n\"+\n     \"output_notebook(resources=INLINE)\\n\"+\n     \"</code>\\n\"+\n     \"</div>\"}};\n\n  function display_loaded() {\n    var el = document.getElementById(null);\n    if (el != null) {\n      el.textContent = \"BokehJS is loading...\";\n    }\n    if (root.Bokeh !== undefined) {\n      if (el != null) {\n        el.textContent = \"BokehJS \" + root.Bokeh.version + \" successfully loaded.\";\n      }\n    } else if (Date.now() < root._bokeh_timeout) {\n      setTimeout(display_loaded, 100)\n    }\n  }\n\n\n  function run_callbacks() {\n    try {\n      root._bokeh_onload_callbacks.forEach(function(callback) {\n        if (callback != null)\n          callback();\n      });\n    } finally {\n      delete root._bokeh_onload_callbacks\n    }\n    console.debug(\"Bokeh: all callbacks have finished\");\n  }\n\n  function load_libs(css_urls, js_urls, callback) {\n    if (css_urls == null) css_urls = [];\n    if (js_urls == null) js_urls = [];\n\n    root._bokeh_onload_callbacks.push(callback);\n    if (root._bokeh_is_loading > 0) {\n      console.debug(\"Bokeh: BokehJS is being loaded, scheduling callback at\", now());\n      return null;\n    }\n    if (js_urls == null || js_urls.length === 0) {\n      run_callbacks();\n      return null;\n    }\n    console.debug(\"Bokeh: BokehJS not loaded, scheduling load and callback at\", now());\n    root._bokeh_is_loading = css_urls.length + js_urls.length;\n\n    function on_load() {\n      root._bokeh_is_loading--;\n      if (root._bokeh_is_loading === 0) {\n        console.debug(\"Bokeh: all BokehJS libraries/stylesheets loaded\");\n        run_callbacks()\n      }\n    }\n\n    function on_error() {\n      console.error(\"failed to load \" + url);\n    }\n\n    for (var i = 0; i < css_urls.length; i++) {\n      var url = css_urls[i];\n      const element = document.createElement(\"link\");\n      element.onload = on_load;\n      element.onerror = on_error;\n      element.rel = \"stylesheet\";\n      element.type = \"text/css\";\n      element.href = url;\n      console.debug(\"Bokeh: injecting link tag for BokehJS stylesheet: \", url);\n      document.body.appendChild(element);\n    }\n\n    const hashes = {\"https://cdn.bokeh.org/bokeh/release/bokeh-2.1.1.min.js\": \"kLr4fYcqcSpbuI95brIH3vnnYCquzzSxHPU6XGQCIkQRGJwhg0StNbj1eegrHs12\", \"https://cdn.bokeh.org/bokeh/release/bokeh-widgets-2.1.1.min.js\": \"xIGPmVtaOm+z0BqfSOMn4lOR6ciex448GIKG4eE61LsAvmGj48XcMQZtKcE/UXZe\", \"https://cdn.bokeh.org/bokeh/release/bokeh-tables-2.1.1.min.js\": \"Dc9u1wF/0zApGIWoBbH77iWEHtdmkuYWG839Uzmv8y8yBLXebjO9ZnERsde5Ln/P\", \"https://cdn.bokeh.org/bokeh/release/bokeh-gl-2.1.1.min.js\": \"cT9JaBz7GiRXdENrJLZNSC6eMNF3nh3fa5fTF51Svp+ukxPdwcU5kGXGPBgDCa2j\"};\n\n    for (var i = 0; i < js_urls.length; i++) {\n      var url = js_urls[i];\n      var element = document.createElement('script');\n      element.onload = on_load;\n      element.onerror = on_error;\n      element.async = false;\n      element.src = url;\n      if (url in hashes) {\n        element.crossOrigin = \"anonymous\";\n        element.integrity = \"sha384-\" + hashes[url];\n      }\n      console.debug(\"Bokeh: injecting script tag for BokehJS library: \", url);\n      document.head.appendChild(element);\n    }\n  };\n\n  function inject_raw_css(css) {\n    const element = document.createElement(\"style\");\n    element.appendChild(document.createTextNode(css));\n    document.body.appendChild(element);\n  }\n\n  \n  var js_urls = [\"https://cdn.bokeh.org/bokeh/release/bokeh-2.1.1.min.js\", \"https://cdn.bokeh.org/bokeh/release/bokeh-widgets-2.1.1.min.js\", \"https://cdn.bokeh.org/bokeh/release/bokeh-tables-2.1.1.min.js\", \"https://cdn.bokeh.org/bokeh/release/bokeh-gl-2.1.1.min.js\"];\n  var css_urls = [];\n  \n\n  var inline_js = [\n    function(Bokeh) {\n      Bokeh.set_log_level(\"info\");\n    },\n    function(Bokeh) {\n    \n    \n    }\n  ];\n\n  function run_inline_js() {\n    \n    if (root.Bokeh !== undefined || force === true) {\n      \n    for (var i = 0; i < inline_js.length; i++) {\n      inline_js[i].call(root, root.Bokeh);\n    }\n    } else if (Date.now() < root._bokeh_timeout) {\n      setTimeout(run_inline_js, 100);\n    } else if (!root._bokeh_failed_load) {\n      console.log(\"Bokeh: BokehJS failed to load within specified timeout.\");\n      root._bokeh_failed_load = true;\n    } else if (force !== true) {\n      var cell = $(document.getElementById(null)).parents('.cell').data().cell;\n      cell.output_area.append_execute_result(NB_LOAD_WARNING)\n    }\n\n  }\n\n  if (root._bokeh_is_loading === 0) {\n    console.debug(\"Bokeh: BokehJS loaded, going straight to plotting\");\n    run_inline_js();\n  } else {\n    load_libs(css_urls, js_urls, function() {\n      console.debug(\"Bokeh: BokehJS plotting callback run at\", now());\n      run_inline_js();\n    });\n  }\n}(window));"
          },
          "metadata": {
            "tags": []
          }
        },
        {
          "output_type": "display_data",
          "data": {
            "text/html": [
              "\n",
              "\n",
              "\n",
              "\n",
              "\n",
              "\n",
              "  <div class=\"bk-root\" id=\"f4f89eab-1a7e-4905-91df-1ee1ae29ffc8\" data-root-id=\"2557\"></div>\n"
            ]
          },
          "metadata": {
            "tags": []
          }
        },
        {
          "output_type": "display_data",
          "data": {
            "application/javascript": [
              "(function(root) {\n",
              "  function embed_document(root) {\n",
              "    \n",
              "  var docs_json = {\"97ddb05f-8808-42b8-9776-49fb8c9b68a7\":{\"roots\":{\"references\":[{\"attributes\":{\"below\":[{\"id\":\"2566\"}],\"center\":[{\"id\":\"2569\"},{\"id\":\"2573\"}],\"left\":[{\"id\":\"2570\"}],\"plot_height\":200,\"plot_width\":500,\"renderers\":[{\"id\":\"2593\"},{\"id\":\"2599\"},{\"id\":\"2605\"},{\"id\":\"2611\"}],\"title\":{\"id\":\"2613\"},\"toolbar\":{\"id\":\"2580\"},\"x_range\":{\"id\":\"2558\"},\"x_scale\":{\"id\":\"2562\"},\"y_range\":{\"id\":\"2560\"},\"y_scale\":{\"id\":\"2564\"}},\"id\":\"2557\",\"subtype\":\"Figure\",\"type\":\"Plot\"},{\"attributes\":{\"axis_label\":\"time (sec)\",\"formatter\":{\"id\":\"2616\"},\"ticker\":{\"id\":\"2567\"}},\"id\":\"2566\",\"type\":\"LinearAxis\"},{\"attributes\":{\"data_source\":{\"id\":\"2601\"},\"glyph\":{\"id\":\"2603\"},\"hover_glyph\":null,\"muted_glyph\":null,\"nonselection_glyph\":{\"id\":\"2604\"},\"selection_glyph\":null,\"view\":{\"id\":\"2606\"}},\"id\":\"2605\",\"type\":\"GlyphRenderer\"},{\"attributes\":{},\"id\":\"2626\",\"type\":\"UnionRenderers\"},{\"attributes\":{},\"id\":\"2616\",\"type\":\"BasicTickFormatter\"},{\"attributes\":{},\"id\":\"2625\",\"type\":\"Selection\"},{\"attributes\":{\"data\":{\"bottom\":{\"__ndarray__\":\"zczMzMxMT0DNzMzMzExPQM3MzMzMzEZAzczMzMxMT0A=\",\"dtype\":\"float64\",\"order\":\"little\",\"shape\":[4]},\"duration\":{\"__ndarray__\":\"qqqqqqqq4j+qqqqqqqrkPwAAAAAAAPM/WFVVVVVV3T8=\",\"dtype\":\"float64\",\"order\":\"little\",\"shape\":[4]},\"end_time\":{\"__ndarray__\":\"qqqqqqqq4j9VVVVVVVX2PwAAAAAAAP8/AAAAAAAA/z8=\",\"dtype\":\"float64\",\"order\":\"little\",\"shape\":[4]},\"fill_alpha\":{\"__ndarray__\":\"AAAAAABA7D8AAAAAAEDsPwAAAAAAQOw/AAAAAABA7D8=\",\"dtype\":\"float64\",\"order\":\"little\",\"shape\":[4]},\"index\":[1,12,13,21],\"instrument\":[1,1,1,1],\"pitch\":[63,63,46,63],\"program\":[32,32,32,32],\"start_time\":{\"__ndarray__\":\"AAAAAAAAAAAAAAAAAADoPwAAAAAAAOg/qqqqqqqq9z8=\",\"dtype\":\"float64\",\"order\":\"little\",\"shape\":[4]},\"top\":{\"__ndarray__\":\"MzMzMzOzT0AzMzMzM7NPQDMzMzMzM0dAMzMzMzOzT0A=\",\"dtype\":\"float64\",\"order\":\"little\",\"shape\":[4]},\"velocity\":[113,113,113,113]},\"selected\":{\"id\":\"2621\"},\"selection_policy\":{\"id\":\"2622\"}},\"id\":\"2595\",\"type\":\"ColumnDataSource\"},{\"attributes\":{\"source\":{\"id\":\"2607\"}},\"id\":\"2612\",\"type\":\"CDSView\"},{\"attributes\":{\"data\":{\"bottom\":{\"__ndarray__\":\"ZmZmZmZmUUDNzMzMzExPQGZmZmZmplBAZmZmZmbmUUBmZmZmZqZSQGZmZmZmplJAZmZmZmamUkA=\",\"dtype\":\"float64\",\"order\":\"little\",\"shape\":[7]},\"duration\":{\"__ndarray__\":\"AAAAAAAA2D8AAAAAAAD4PwAAAAAAAPQ/q6qqqqqq8j+qqqqqqqriP1hVVVVVVcU/sKqqqqqquj8=\",\"dtype\":\"float64\",\"order\":\"little\",\"shape\":[7]},\"end_time\":{\"__ndarray__\":\"AAAAAAAA2D8AAAAAAAAAQAAAAAAAAABAAAAAAAAAAEBVVVVVVVX3P1VVVVVVVfs/VVVVVVVV/j8=\",\"dtype\":\"float64\",\"order\":\"little\",\"shape\":[7]},\"fill_alpha\":{\"__ndarray__\":\"AAAAAABA7D8AAAAAAEDsPwAAAAAAQOw/AAAAAABA7D8AAAAAAEDsPwAAAAAAQOw/AAAAAABA7D8=\",\"dtype\":\"float64\",\"order\":\"little\",\"shape\":[7]},\"index\":[0,7,11,14,16,25,27],\"instrument\":[0,0,0,0,0,0,0],\"pitch\":[70,63,67,72,75,75,75],\"program\":[1,1,1,1,1,1,1],\"start_time\":{\"__ndarray__\":\"AAAAAAAAAAAAAAAAAADgPwAAAAAAAOg/qqqqqqqq6j8AAAAAAADsP6qqqqqqqvg/qqqqqqqq/D8=\",\"dtype\":\"float64\",\"order\":\"little\",\"shape\":[7]},\"top\":{\"__ndarray__\":\"mpmZmZmZUUAzMzMzM7NPQJqZmZmZ2VBAmpmZmZkZUkCamZmZmdlSQJqZmZmZ2VJAmpmZmZnZUkA=\",\"dtype\":\"float64\",\"order\":\"little\",\"shape\":[7]},\"velocity\":[113,113,113,113,113,113,113]},\"selected\":{\"id\":\"2619\"},\"selection_policy\":{\"id\":\"2620\"}},\"id\":\"2589\",\"type\":\"ColumnDataSource\"},{\"attributes\":{},\"id\":\"2558\",\"type\":\"DataRange1d\"},{\"attributes\":{\"data\":{\"bottom\":{\"__ndarray__\":\"ZmZmZmZmVEBmZmZmZmZRQGZmZmZm5lBAZmZmZmbmUUA=\",\"dtype\":\"float64\",\"order\":\"little\",\"shape\":[4]},\"duration\":{\"__ndarray__\":\"AAAAAAAA7D9VVVVVVVXtPwAAAAAAAPA/AAAAAAAA8D8=\",\"dtype\":\"float64\",\"order\":\"little\",\"shape\":[4]},\"end_time\":{\"__ndarray__\":\"AAAAAAAA7D9VVVVVVVXtPwAAAAAAAABAAAAAAAAAAEA=\",\"dtype\":\"float64\",\"order\":\"little\",\"shape\":[4]},\"fill_alpha\":{\"__ndarray__\":\"AAAAAABA7D8AAAAAAEDsPwAAAAAAQOw/AAAAAABA7D8=\",\"dtype\":\"float64\",\"order\":\"little\",\"shape\":[4]},\"index\":[2,3,17,18],\"instrument\":[2,2,2,2],\"pitch\":[82,70,68,72],\"program\":[102,102,102,102],\"start_time\":{\"__ndarray__\":\"AAAAAAAAAAAAAAAAAAAAAAAAAAAAAPA/AAAAAAAA8D8=\",\"dtype\":\"float64\",\"order\":\"little\",\"shape\":[4]},\"top\":{\"__ndarray__\":\"mpmZmZmZVECamZmZmZlRQJqZmZmZGVFAmpmZmZkZUkA=\",\"dtype\":\"float64\",\"order\":\"little\",\"shape\":[4]},\"velocity\":[113,113,113,113]},\"selected\":{\"id\":\"2623\"},\"selection_policy\":{\"id\":\"2624\"}},\"id\":\"2601\",\"type\":\"ColumnDataSource\"},{\"attributes\":{},\"id\":\"2624\",\"type\":\"UnionRenderers\"},{\"attributes\":{\"bottom_units\":\"screen\",\"fill_alpha\":0.5,\"fill_color\":\"lightgrey\",\"left_units\":\"screen\",\"level\":\"overlay\",\"line_alpha\":1.0,\"line_color\":\"black\",\"line_dash\":[4,4],\"line_width\":2,\"right_units\":\"screen\",\"top_units\":\"screen\"},\"id\":\"2579\",\"type\":\"BoxAnnotation\"},{\"attributes\":{\"callback\":null,\"tooltips\":[[\"pitch\",\"@pitch\"],[\"program\",\"@program\"],[\"velo\",\"@velocity\"],[\"duration\",\"@duration\"],[\"start_time\",\"@start_time\"],[\"end_time\",\"@end_time\"],[\"velocity\",\"@velocity\"],[\"fill_alpha\",\"@fill_alpha\"]]},\"id\":\"2574\",\"type\":\"HoverTool\"},{\"attributes\":{\"bottom\":{\"field\":\"bottom\"},\"fill_alpha\":{\"field\":\"fill_alpha\"},\"fill_color\":{\"value\":\"#66c2a5\"},\"left\":{\"field\":\"start_time\"},\"right\":{\"field\":\"end_time\"},\"top\":{\"field\":\"top\"}},\"id\":\"2609\",\"type\":\"Quad\"},{\"attributes\":{\"interval\":12},\"id\":\"2586\",\"type\":\"SingleIntervalTicker\"},{\"attributes\":{},\"id\":\"2577\",\"type\":\"ResetTool\"},{\"attributes\":{},\"id\":\"2562\",\"type\":\"LinearScale\"},{\"attributes\":{\"bottom\":{\"field\":\"bottom\"},\"fill_alpha\":{\"field\":\"fill_alpha\"},\"fill_color\":{\"value\":\"#d53e4f\"},\"left\":{\"field\":\"start_time\"},\"right\":{\"field\":\"end_time\"},\"top\":{\"field\":\"top\"}},\"id\":\"2591\",\"type\":\"Quad\"},{\"attributes\":{\"data_source\":{\"id\":\"2589\"},\"glyph\":{\"id\":\"2591\"},\"hover_glyph\":null,\"muted_glyph\":null,\"nonselection_glyph\":{\"id\":\"2592\"},\"selection_glyph\":null,\"view\":{\"id\":\"2594\"}},\"id\":\"2593\",\"type\":\"GlyphRenderer\"},{\"attributes\":{\"bottom\":{\"field\":\"bottom\"},\"fill_alpha\":{\"field\":\"fill_alpha\"},\"fill_color\":{\"value\":\"#f46d43\"},\"left\":{\"field\":\"start_time\"},\"right\":{\"field\":\"end_time\"},\"top\":{\"field\":\"top\"}},\"id\":\"2603\",\"type\":\"Quad\"},{\"attributes\":{},\"id\":\"2575\",\"type\":\"PanTool\"},{\"attributes\":{\"axis\":{\"id\":\"2570\"},\"dimension\":1,\"ticker\":{\"id\":\"2588\"}},\"id\":\"2573\",\"type\":\"Grid\"},{\"attributes\":{\"source\":{\"id\":\"2589\"}},\"id\":\"2594\",\"type\":\"CDSView\"},{\"attributes\":{\"bottom\":{\"field\":\"bottom\"},\"fill_alpha\":{\"value\":0.1},\"fill_color\":{\"value\":\"#66c2a5\"},\"left\":{\"field\":\"start_time\"},\"line_alpha\":{\"value\":0.1},\"right\":{\"field\":\"end_time\"},\"top\":{\"field\":\"top\"}},\"id\":\"2610\",\"type\":\"Quad\"},{\"attributes\":{\"bottom\":{\"field\":\"bottom\"},\"fill_alpha\":{\"value\":0.1},\"fill_color\":{\"value\":\"#d53e4f\"},\"left\":{\"field\":\"start_time\"},\"line_alpha\":{\"value\":0.1},\"right\":{\"field\":\"end_time\"},\"top\":{\"field\":\"top\"}},\"id\":\"2592\",\"type\":\"Quad\"},{\"attributes\":{\"data\":{\"bottom\":{\"__ndarray__\":\"zczMzMxMSUDNzMzMzMxLQM3MzMzMzEFAzczMzMzMS0DNzMzMzExJQM3MzMzMzENAzczMzMxMSUDNzMzMzExJQM3MzMzMTElAzczMzMxMSUDNzMzMzMxDQM3MzMzMzEtAzczMzMzMQUDNzMzMzMxBQA==\",\"dtype\":\"float64\",\"order\":\"little\",\"shape\":[14]},\"duration\":{\"__ndarray__\":\"VVVVVVVVpT9VVVVVVVW1PwAAAAAAAMA/UFVVVVVVpT8AAAAAAACwP1BVVVVVVbU/YFVVVVVVpT8AAAAAAADAP0BVVVVVVaU/QFVVVVVVpT8AAAAAAACwP1BVVVVVVbU/QFVVVVVVpT9gVVVVVVWlPw==\",\"dtype\":\"float64\",\"order\":\"little\",\"shape\":[14]},\"end_time\":{\"__ndarray__\":\"VVVVVVVVpT9VVVVVVVW1PwAAAAAAAMA/VVVVVVVV4T8AAAAAAADiP6qqqqqqquI/AAAAAAAA7D8AAAAAAADyP6qqqqqqqvQ/qqqqqqqq+D8AAAAAAAD5P1VVVVVVVfk/qqqqqqqq/D9VVVVVVVX/Pw==\",\"dtype\":\"float64\",\"order\":\"little\",\"shape\":[14]},\"fill_alpha\":{\"__ndarray__\":\"AAAAAABA7D8AAAAAAEDsPwAAAAAAQOw/AAAAAABA7D8AAAAAAEDsPwAAAAAAQOw/AAAAAACA0D8AAAAAAEDsPwAAAAAAQOA/AAAAAABA7D8AAAAAAEDsPwAAAAAAQOw/AAAAAABA4D8AAAAAAEDgPw==\",\"dtype\":\"float64\",\"order\":\"little\",\"shape\":[14]},\"index\":[4,5,6,8,9,10,15,19,20,22,23,24,26,28],\"instrument\":[3,3,3,3,3,3,3,3,3,3,3,3,3,3],\"pitch\":[51,56,36,56,51,40,51,51,51,51,40,56,36,36],\"program\":[0,0,0,0,0,0,0,0,0,0,0,0,0,0],\"start_time\":{\"__ndarray__\":\"AAAAAAAAAAAAAAAAAAAAAAAAAAAAAAAAAAAAAAAA4D8AAAAAAADgPwAAAAAAAOA/qqqqqqqq6j8AAAAAAADwPwAAAAAAAPQ/AAAAAAAA+D8AAAAAAAD4PwAAAAAAAPg/AAAAAAAA/D+qqqqqqqr+Pw==\",\"dtype\":\"float64\",\"order\":\"little\",\"shape\":[14]},\"top\":{\"__ndarray__\":\"MzMzMzOzSUAzMzMzMzNMQDMzMzMzM0JAMzMzMzMzTEAzMzMzM7NJQDMzMzMzM0RAMzMzMzOzSUAzMzMzM7NJQDMzMzMzs0lAMzMzMzOzSUAzMzMzMzNEQDMzMzMzM0xAMzMzMzMzQkAzMzMzMzNCQA==\",\"dtype\":\"float64\",\"order\":\"little\",\"shape\":[14]},\"velocity\":[113,113,113,113,113,113,33,113,65,113,113,113,65,65]},\"selected\":{\"id\":\"2625\"},\"selection_policy\":{\"id\":\"2626\"}},\"id\":\"2607\",\"type\":\"ColumnDataSource\"},{\"attributes\":{},\"id\":\"2578\",\"type\":\"SaveTool\"},{\"attributes\":{\"axis\":{\"id\":\"2566\"},\"ticker\":null},\"id\":\"2569\",\"type\":\"Grid\"},{\"attributes\":{},\"id\":\"2567\",\"type\":\"BasicTicker\"},{\"attributes\":{},\"id\":\"2617\",\"type\":\"BasicTickFormatter\"},{\"attributes\":{\"interval\":12},\"id\":\"2588\",\"type\":\"SingleIntervalTicker\"},{\"attributes\":{},\"id\":\"2619\",\"type\":\"Selection\"},{\"attributes\":{},\"id\":\"2622\",\"type\":\"UnionRenderers\"},{\"attributes\":{\"active_drag\":\"auto\",\"active_inspect\":\"auto\",\"active_multi\":null,\"active_scroll\":\"auto\",\"active_tap\":\"auto\",\"tools\":[{\"id\":\"2574\"},{\"id\":\"2575\"},{\"id\":\"2576\"},{\"id\":\"2577\"},{\"id\":\"2578\"}]},\"id\":\"2580\",\"type\":\"Toolbar\"},{\"attributes\":{\"data_source\":{\"id\":\"2607\"},\"glyph\":{\"id\":\"2609\"},\"hover_glyph\":null,\"muted_glyph\":null,\"nonselection_glyph\":{\"id\":\"2610\"},\"selection_glyph\":null,\"view\":{\"id\":\"2612\"}},\"id\":\"2611\",\"type\":\"GlyphRenderer\"},{\"attributes\":{},\"id\":\"2560\",\"type\":\"DataRange1d\"},{\"attributes\":{},\"id\":\"2564\",\"type\":\"LinearScale\"},{\"attributes\":{},\"id\":\"2620\",\"type\":\"UnionRenderers\"},{\"attributes\":{\"bottom\":{\"field\":\"bottom\"},\"fill_alpha\":{\"field\":\"fill_alpha\"},\"fill_color\":{\"value\":\"#3288bd\"},\"left\":{\"field\":\"start_time\"},\"right\":{\"field\":\"end_time\"},\"top\":{\"field\":\"top\"}},\"id\":\"2597\",\"type\":\"Quad\"},{\"attributes\":{\"text\":\"\"},\"id\":\"2613\",\"type\":\"Title\"},{\"attributes\":{\"axis_label\":\"pitch (MIDI)\",\"formatter\":{\"id\":\"2617\"},\"ticker\":{\"id\":\"2586\"}},\"id\":\"2570\",\"type\":\"LinearAxis\"},{\"attributes\":{\"data_source\":{\"id\":\"2595\"},\"glyph\":{\"id\":\"2597\"},\"hover_glyph\":null,\"muted_glyph\":null,\"nonselection_glyph\":{\"id\":\"2598\"},\"selection_glyph\":null,\"view\":{\"id\":\"2600\"}},\"id\":\"2599\",\"type\":\"GlyphRenderer\"},{\"attributes\":{},\"id\":\"2621\",\"type\":\"Selection\"},{\"attributes\":{\"source\":{\"id\":\"2595\"}},\"id\":\"2600\",\"type\":\"CDSView\"},{\"attributes\":{\"bottom\":{\"field\":\"bottom\"},\"fill_alpha\":{\"value\":0.1},\"fill_color\":{\"value\":\"#3288bd\"},\"left\":{\"field\":\"start_time\"},\"line_alpha\":{\"value\":0.1},\"right\":{\"field\":\"end_time\"},\"top\":{\"field\":\"top\"}},\"id\":\"2598\",\"type\":\"Quad\"},{\"attributes\":{\"bottom\":{\"field\":\"bottom\"},\"fill_alpha\":{\"value\":0.1},\"fill_color\":{\"value\":\"#f46d43\"},\"left\":{\"field\":\"start_time\"},\"line_alpha\":{\"value\":0.1},\"right\":{\"field\":\"end_time\"},\"top\":{\"field\":\"top\"}},\"id\":\"2604\",\"type\":\"Quad\"},{\"attributes\":{\"overlay\":{\"id\":\"2579\"}},\"id\":\"2576\",\"type\":\"BoxZoomTool\"},{\"attributes\":{},\"id\":\"2623\",\"type\":\"Selection\"},{\"attributes\":{\"source\":{\"id\":\"2601\"}},\"id\":\"2606\",\"type\":\"CDSView\"}],\"root_ids\":[\"2557\"]},\"title\":\"Bokeh Application\",\"version\":\"2.1.1\"}};\n",
              "  var render_items = [{\"docid\":\"97ddb05f-8808-42b8-9776-49fb8c9b68a7\",\"root_ids\":[\"2557\"],\"roots\":{\"2557\":\"f4f89eab-1a7e-4905-91df-1ee1ae29ffc8\"}}];\n",
              "  root.Bokeh.embed.embed_items_notebook(docs_json, render_items);\n",
              "\n",
              "  }\n",
              "  if (root.Bokeh !== undefined) {\n",
              "    embed_document(root);\n",
              "  } else {\n",
              "    var attempts = 0;\n",
              "    var timer = setInterval(function(root) {\n",
              "      if (root.Bokeh !== undefined) {\n",
              "        clearInterval(timer);\n",
              "        embed_document(root);\n",
              "      } else {\n",
              "        attempts++;\n",
              "        if (attempts > 100) {\n",
              "          clearInterval(timer);\n",
              "          console.log(\"Bokeh: ERROR: Unable to run BokehJS code because BokehJS library is missing\");\n",
              "        }\n",
              "      }\n",
              "    }, 10, root)\n",
              "  }\n",
              "})(window);"
            ],
            "application/vnd.bokehjs_exec.v0+json": ""
          },
          "metadata": {
            "tags": [],
            "application/vnd.bokehjs_exec.v0+json": {
              "id": "2557"
            }
          }
        },
        {
          "output_type": "stream",
          "text": [
            "Reconstructed\n"
          ],
          "name": "stdout"
        },
        {
          "output_type": "display_data",
          "data": {
            "text/html": [
              "<div id=\"id_13\"> </div>"
            ],
            "text/plain": [
              "<IPython.core.display.HTML object>"
            ]
          },
          "metadata": {
            "tags": []
          }
        },
        {
          "output_type": "display_data",
          "data": {
            "text/html": [
              "\n",
              "\n",
              "\n",
              "\n",
              "\n",
              "\n",
              "  <div class=\"bk-root\" id=\"0712650b-9eb5-41b8-b11b-41db7d1f3e36\" data-root-id=\"2855\"></div>\n"
            ]
          },
          "metadata": {
            "tags": []
          }
        },
        {
          "output_type": "display_data",
          "data": {
            "application/javascript": [
              "(function(root) {\n",
              "  function embed_document(root) {\n",
              "    \n",
              "  var docs_json = {\"fa5597a7-a9fe-4b95-af6c-2e327d632083\":{\"roots\":{\"references\":[{\"attributes\":{\"below\":[{\"id\":\"2864\"}],\"center\":[{\"id\":\"2867\"},{\"id\":\"2871\"}],\"left\":[{\"id\":\"2868\"}],\"plot_height\":200,\"plot_width\":500,\"renderers\":[{\"id\":\"2891\"},{\"id\":\"2897\"},{\"id\":\"2903\"},{\"id\":\"2909\"}],\"title\":{\"id\":\"2911\"},\"toolbar\":{\"id\":\"2878\"},\"x_range\":{\"id\":\"2856\"},\"x_scale\":{\"id\":\"2860\"},\"y_range\":{\"id\":\"2858\"},\"y_scale\":{\"id\":\"2862\"}},\"id\":\"2855\",\"subtype\":\"Figure\",\"type\":\"Plot\"},{\"attributes\":{\"data\":{\"bottom\":{\"__ndarray__\":\"ZmZmZmZmUUBmZmZmZuZRQGZmZmZmplJAZmZmZmZmUUDNzMzMzExPQGZmZmZmplBAZmZmZmZmUUA=\",\"dtype\":\"float64\",\"order\":\"little\",\"shape\":[7]},\"duration\":{\"__ndarray__\":\"qqqqqqqq2j+qqqqqqqraP1RVVVVVVek/VFVVVVVV5T9WVVVVVVXpP6yqqqqqqt4/YFVVVVVVpT8=\",\"dtype\":\"float64\",\"order\":\"little\",\"shape\":[7]},\"end_time\":{\"__ndarray__\":\"qqqqqqqq2j9VVVVVVVXtP6qqqqqqqvA/qqqqqqqq+j8AAAAAAAAAQAAAAAAAAABAAAAAAAAAAEA=\",\"dtype\":\"float64\",\"order\":\"little\",\"shape\":[7]},\"fill_alpha\":{\"__ndarray__\":\"AAAAAABA6D8AAAAAAEDoPwAAAAAAQOg/AAAAAABA7D8AAAAAAEDoPwAAAAAAQOg/AAAAAABA6D8=\",\"dtype\":\"float64\",\"order\":\"little\",\"shape\":[7]},\"index\":[0,1,2,3,4,5,6],\"instrument\":[0,0,0,0,0,0,0],\"pitch\":[70,72,75,70,63,67,70],\"program\":[1,1,1,1,1,1,1],\"start_time\":{\"__ndarray__\":\"AAAAAAAAAAAAAAAAAADgPwAAAAAAANA/AAAAAAAA8D9VVVVVVVXzP1VVVVVVVfg/VVVVVVVV/z8=\",\"dtype\":\"float64\",\"order\":\"little\",\"shape\":[7]},\"top\":{\"__ndarray__\":\"mpmZmZmZUUCamZmZmRlSQJqZmZmZ2VJAmpmZmZmZUUAzMzMzM7NPQJqZmZmZ2VBAmpmZmZmZUUA=\",\"dtype\":\"float64\",\"order\":\"little\",\"shape\":[7]},\"velocity\":[97,97,97,113,97,97,97]},\"selected\":{\"id\":\"2917\"},\"selection_policy\":{\"id\":\"2918\"}},\"id\":\"2887\",\"type\":\"ColumnDataSource\"},{\"attributes\":{\"axis_label\":\"time (sec)\",\"formatter\":{\"id\":\"2914\"},\"ticker\":{\"id\":\"2865\"}},\"id\":\"2864\",\"type\":\"LinearAxis\"},{\"attributes\":{\"axis\":{\"id\":\"2864\"},\"ticker\":null},\"id\":\"2867\",\"type\":\"Grid\"},{\"attributes\":{\"data\":{\"bottom\":{\"__ndarray__\":\"ZmZmZmZmVEBmZmZmZmZRQGZmZmZm5lBAZmZmZmbmUUA=\",\"dtype\":\"float64\",\"order\":\"little\",\"shape\":[4]},\"duration\":{\"__ndarray__\":\"AAAAAAAA7D9VVVVVVVXtPwAAAAAAAPA/AAAAAAAA8D8=\",\"dtype\":\"float64\",\"order\":\"little\",\"shape\":[4]},\"end_time\":{\"__ndarray__\":\"AAAAAAAA7D9VVVVVVVXtPwAAAAAAAABAAAAAAAAAAEA=\",\"dtype\":\"float64\",\"order\":\"little\",\"shape\":[4]},\"fill_alpha\":{\"__ndarray__\":\"AAAAAABA7D8AAAAAAEDsPwAAAAAAQOw/AAAAAABA7D8=\",\"dtype\":\"float64\",\"order\":\"little\",\"shape\":[4]},\"index\":[11,12,13,14],\"instrument\":[2,2,2,2],\"pitch\":[82,70,68,72],\"program\":[102,102,102,102],\"start_time\":{\"__ndarray__\":\"AAAAAAAAAAAAAAAAAAAAAAAAAAAAAPA/AAAAAAAA8D8=\",\"dtype\":\"float64\",\"order\":\"little\",\"shape\":[4]},\"top\":{\"__ndarray__\":\"mpmZmZmZVECamZmZmZlRQJqZmZmZGVFAmpmZmZkZUkA=\",\"dtype\":\"float64\",\"order\":\"little\",\"shape\":[4]},\"velocity\":[113,113,113,113]},\"selected\":{\"id\":\"2921\"},\"selection_policy\":{\"id\":\"2922\"}},\"id\":\"2899\",\"type\":\"ColumnDataSource\"},{\"attributes\":{},\"id\":\"2920\",\"type\":\"UnionRenderers\"},{\"attributes\":{},\"id\":\"2919\",\"type\":\"Selection\"},{\"attributes\":{\"overlay\":{\"id\":\"2877\"}},\"id\":\"2874\",\"type\":\"BoxZoomTool\"},{\"attributes\":{\"data\":{\"bottom\":{\"__ndarray__\":\"zczMzMxMSUDNzMzMzMxLQM3MzMzMzEFAzczMzMxMSUDNzMzMzMxLQM3MzMzMzENAzczMzMxMSUDNzMzMzExJQM3MzMzMzENAzczMzMxMSUDNzMzMzExJQM3MzMzMzENAzczMzMxMSUDNzMzMzExJQA==\",\"dtype\":\"float64\",\"order\":\"little\",\"shape\":[14]},\"duration\":{\"__ndarray__\":\"VVVVVVVVpT9VVVVVVVW1PwAAAAAAAMA/UFVVVVVVpT9QVVVVVVWlP1BVVVVVVbU/AAAAAAAAsD9AVVVVVVWlP1BVVVVVVbU/QFVVVVVVpT8AAAAAAACwP1BVVVVVVbU/QFVVVVVVpT9AVVVVVVWlPw==\",\"dtype\":\"float64\",\"order\":\"little\",\"shape\":[14]},\"end_time\":{\"__ndarray__\":\"VVVVVVVVpT9VVVVVVVW1PwAAAAAAAMA/VVVVVVVV4T9VVVVVVVXhP6qqqqqqquI/AAAAAAAA6j+qqqqqqqrwP1VVVVVVVfE/qqqqqqqq9D8AAAAAAAD5P1VVVVVVVfk/qqqqqqqq/D+qqqqqqqr+Pw==\",\"dtype\":\"float64\",\"order\":\"little\",\"shape\":[14]},\"fill_alpha\":{\"__ndarray__\":\"AAAAAABA7D8AAAAAAEDsPwAAAAAAQOw/AAAAAABA7D8AAAAAAEDsPwAAAAAAQOw/AAAAAABA4D8AAAAAAEDsPwAAAAAAQOw/AAAAAABA4D8AAAAAAEDsPwAAAAAAQOw/AAAAAABA4D8AAAAAAEDkPw==\",\"dtype\":\"float64\",\"order\":\"little\",\"shape\":[14]},\"index\":[15,16,17,18,19,20,21,22,23,24,25,26,27,28],\"instrument\":[3,3,3,3,3,3,3,3,3,3,3,3,3,3],\"pitch\":[51,56,36,51,56,40,51,51,40,51,51,40,51,51],\"program\":[0,0,0,0,0,0,0,0,0,0,0,0,0,0],\"start_time\":{\"__ndarray__\":\"AAAAAAAAAAAAAAAAAAAAAAAAAAAAAAAAAAAAAAAA4D8AAAAAAADgPwAAAAAAAOA/AAAAAAAA6D8AAAAAAADwPwAAAAAAAPA/AAAAAAAA9D8AAAAAAAD4PwAAAAAAAPg/AAAAAAAA/D8AAAAAAAD+Pw==\",\"dtype\":\"float64\",\"order\":\"little\",\"shape\":[14]},\"top\":{\"__ndarray__\":\"MzMzMzOzSUAzMzMzMzNMQDMzMzMzM0JAMzMzMzOzSUAzMzMzMzNMQDMzMzMzM0RAMzMzMzOzSUAzMzMzM7NJQDMzMzMzM0RAMzMzMzOzSUAzMzMzM7NJQDMzMzMzM0RAMzMzMzOzSUAzMzMzM7NJQA==\",\"dtype\":\"float64\",\"order\":\"little\",\"shape\":[14]},\"velocity\":[113,113,113,113,113,113,65,113,113,65,113,113,65,81]},\"selected\":{\"id\":\"2923\"},\"selection_policy\":{\"id\":\"2924\"}},\"id\":\"2905\",\"type\":\"ColumnDataSource\"},{\"attributes\":{},\"id\":\"2918\",\"type\":\"UnionRenderers\"},{\"attributes\":{},\"id\":\"2923\",\"type\":\"Selection\"},{\"attributes\":{},\"id\":\"2862\",\"type\":\"LinearScale\"},{\"attributes\":{},\"id\":\"2917\",\"type\":\"Selection\"},{\"attributes\":{\"bottom\":{\"field\":\"bottom\"},\"fill_alpha\":{\"field\":\"fill_alpha\"},\"fill_color\":{\"value\":\"#d53e4f\"},\"left\":{\"field\":\"start_time\"},\"right\":{\"field\":\"end_time\"},\"top\":{\"field\":\"top\"}},\"id\":\"2889\",\"type\":\"Quad\"},{\"attributes\":{\"bottom\":{\"field\":\"bottom\"},\"fill_alpha\":{\"value\":0.1},\"fill_color\":{\"value\":\"#66c2a5\"},\"left\":{\"field\":\"start_time\"},\"line_alpha\":{\"value\":0.1},\"right\":{\"field\":\"end_time\"},\"top\":{\"field\":\"top\"}},\"id\":\"2908\",\"type\":\"Quad\"},{\"attributes\":{\"data_source\":{\"id\":\"2887\"},\"glyph\":{\"id\":\"2889\"},\"hover_glyph\":null,\"muted_glyph\":null,\"nonselection_glyph\":{\"id\":\"2890\"},\"selection_glyph\":null,\"view\":{\"id\":\"2892\"}},\"id\":\"2891\",\"type\":\"GlyphRenderer\"},{\"attributes\":{},\"id\":\"2922\",\"type\":\"UnionRenderers\"},{\"attributes\":{\"source\":{\"id\":\"2905\"}},\"id\":\"2910\",\"type\":\"CDSView\"},{\"attributes\":{\"source\":{\"id\":\"2887\"}},\"id\":\"2892\",\"type\":\"CDSView\"},{\"attributes\":{},\"id\":\"2858\",\"type\":\"DataRange1d\"},{\"attributes\":{\"data_source\":{\"id\":\"2905\"},\"glyph\":{\"id\":\"2907\"},\"hover_glyph\":null,\"muted_glyph\":null,\"nonselection_glyph\":{\"id\":\"2908\"},\"selection_glyph\":null,\"view\":{\"id\":\"2910\"}},\"id\":\"2909\",\"type\":\"GlyphRenderer\"},{\"attributes\":{\"bottom\":{\"field\":\"bottom\"},\"fill_alpha\":{\"value\":0.1},\"fill_color\":{\"value\":\"#d53e4f\"},\"left\":{\"field\":\"start_time\"},\"line_alpha\":{\"value\":0.1},\"right\":{\"field\":\"end_time\"},\"top\":{\"field\":\"top\"}},\"id\":\"2890\",\"type\":\"Quad\"},{\"attributes\":{},\"id\":\"2876\",\"type\":\"SaveTool\"},{\"attributes\":{},\"id\":\"2915\",\"type\":\"BasicTickFormatter\"},{\"attributes\":{\"bottom\":{\"field\":\"bottom\"},\"fill_alpha\":{\"field\":\"fill_alpha\"},\"fill_color\":{\"value\":\"#66c2a5\"},\"left\":{\"field\":\"start_time\"},\"right\":{\"field\":\"end_time\"},\"top\":{\"field\":\"top\"}},\"id\":\"2907\",\"type\":\"Quad\"},{\"attributes\":{},\"id\":\"2875\",\"type\":\"ResetTool\"},{\"attributes\":{\"active_drag\":\"auto\",\"active_inspect\":\"auto\",\"active_multi\":null,\"active_scroll\":\"auto\",\"active_tap\":\"auto\",\"tools\":[{\"id\":\"2872\"},{\"id\":\"2873\"},{\"id\":\"2874\"},{\"id\":\"2875\"},{\"id\":\"2876\"}]},\"id\":\"2878\",\"type\":\"Toolbar\"},{\"attributes\":{\"axis_label\":\"pitch (MIDI)\",\"formatter\":{\"id\":\"2915\"},\"ticker\":{\"id\":\"2884\"}},\"id\":\"2868\",\"type\":\"LinearAxis\"},{\"attributes\":{},\"id\":\"2856\",\"type\":\"DataRange1d\"},{\"attributes\":{\"bottom_units\":\"screen\",\"fill_alpha\":0.5,\"fill_color\":\"lightgrey\",\"left_units\":\"screen\",\"level\":\"overlay\",\"line_alpha\":1.0,\"line_color\":\"black\",\"line_dash\":[4,4],\"line_width\":2,\"right_units\":\"screen\",\"top_units\":\"screen\"},\"id\":\"2877\",\"type\":\"BoxAnnotation\"},{\"attributes\":{},\"id\":\"2865\",\"type\":\"BasicTicker\"},{\"attributes\":{\"bottom\":{\"field\":\"bottom\"},\"fill_alpha\":{\"field\":\"fill_alpha\"},\"fill_color\":{\"value\":\"#3288bd\"},\"left\":{\"field\":\"start_time\"},\"right\":{\"field\":\"end_time\"},\"top\":{\"field\":\"top\"}},\"id\":\"2895\",\"type\":\"Quad\"},{\"attributes\":{\"data_source\":{\"id\":\"2893\"},\"glyph\":{\"id\":\"2895\"},\"hover_glyph\":null,\"muted_glyph\":null,\"nonselection_glyph\":{\"id\":\"2896\"},\"selection_glyph\":null,\"view\":{\"id\":\"2898\"}},\"id\":\"2897\",\"type\":\"GlyphRenderer\"},{\"attributes\":{},\"id\":\"2924\",\"type\":\"UnionRenderers\"},{\"attributes\":{\"axis\":{\"id\":\"2868\"},\"dimension\":1,\"ticker\":{\"id\":\"2886\"}},\"id\":\"2871\",\"type\":\"Grid\"},{\"attributes\":{\"source\":{\"id\":\"2893\"}},\"id\":\"2898\",\"type\":\"CDSView\"},{\"attributes\":{\"interval\":12},\"id\":\"2884\",\"type\":\"SingleIntervalTicker\"},{\"attributes\":{\"bottom\":{\"field\":\"bottom\"},\"fill_alpha\":{\"value\":0.1},\"fill_color\":{\"value\":\"#3288bd\"},\"left\":{\"field\":\"start_time\"},\"line_alpha\":{\"value\":0.1},\"right\":{\"field\":\"end_time\"},\"top\":{\"field\":\"top\"}},\"id\":\"2896\",\"type\":\"Quad\"},{\"attributes\":{\"interval\":12},\"id\":\"2886\",\"type\":\"SingleIntervalTicker\"},{\"attributes\":{\"callback\":null,\"tooltips\":[[\"pitch\",\"@pitch\"],[\"program\",\"@program\"],[\"velo\",\"@velocity\"],[\"duration\",\"@duration\"],[\"start_time\",\"@start_time\"],[\"end_time\",\"@end_time\"],[\"velocity\",\"@velocity\"],[\"fill_alpha\",\"@fill_alpha\"]]},\"id\":\"2872\",\"type\":\"HoverTool\"},{\"attributes\":{\"bottom\":{\"field\":\"bottom\"},\"fill_alpha\":{\"value\":0.1},\"fill_color\":{\"value\":\"#f46d43\"},\"left\":{\"field\":\"start_time\"},\"line_alpha\":{\"value\":0.1},\"right\":{\"field\":\"end_time\"},\"top\":{\"field\":\"top\"}},\"id\":\"2902\",\"type\":\"Quad\"},{\"attributes\":{},\"id\":\"2914\",\"type\":\"BasicTickFormatter\"},{\"attributes\":{},\"id\":\"2873\",\"type\":\"PanTool\"},{\"attributes\":{\"text\":\"\"},\"id\":\"2911\",\"type\":\"Title\"},{\"attributes\":{\"bottom\":{\"field\":\"bottom\"},\"fill_alpha\":{\"field\":\"fill_alpha\"},\"fill_color\":{\"value\":\"#f46d43\"},\"left\":{\"field\":\"start_time\"},\"right\":{\"field\":\"end_time\"},\"top\":{\"field\":\"top\"}},\"id\":\"2901\",\"type\":\"Quad\"},{\"attributes\":{\"data_source\":{\"id\":\"2899\"},\"glyph\":{\"id\":\"2901\"},\"hover_glyph\":null,\"muted_glyph\":null,\"nonselection_glyph\":{\"id\":\"2902\"},\"selection_glyph\":null,\"view\":{\"id\":\"2904\"}},\"id\":\"2903\",\"type\":\"GlyphRenderer\"},{\"attributes\":{},\"id\":\"2921\",\"type\":\"Selection\"},{\"attributes\":{},\"id\":\"2860\",\"type\":\"LinearScale\"},{\"attributes\":{\"source\":{\"id\":\"2899\"}},\"id\":\"2904\",\"type\":\"CDSView\"},{\"attributes\":{\"data\":{\"bottom\":{\"__ndarray__\":\"zczMzMxMT0DNzMzMzExPQM3MzMzMzEZAzczMzMxMSUA=\",\"dtype\":\"float64\",\"order\":\"little\",\"shape\":[4]},\"duration\":{\"__ndarray__\":\"qqqqqqqq4j+qqqqqqqrkPwAAAAAAAOY/AAAAAAAA4D8=\",\"dtype\":\"float64\",\"order\":\"little\",\"shape\":[4]},\"end_time\":{\"__ndarray__\":\"qqqqqqqq4j9VVVVVVVX2PwAAAAAAAPc/AAAAAAAAAEA=\",\"dtype\":\"float64\",\"order\":\"little\",\"shape\":[4]},\"fill_alpha\":{\"__ndarray__\":\"AAAAAABA7D8AAAAAAEDsPwAAAAAAQOw/AAAAAABA7D8=\",\"dtype\":\"float64\",\"order\":\"little\",\"shape\":[4]},\"index\":[7,8,9,10],\"instrument\":[1,1,1,1],\"pitch\":[63,63,46,51],\"program\":[32,32,32,32],\"start_time\":{\"__ndarray__\":\"AAAAAAAAAAAAAAAAAADoPwAAAAAAAOg/AAAAAAAA+D8=\",\"dtype\":\"float64\",\"order\":\"little\",\"shape\":[4]},\"top\":{\"__ndarray__\":\"MzMzMzOzT0AzMzMzM7NPQDMzMzMzM0dAMzMzMzOzSUA=\",\"dtype\":\"float64\",\"order\":\"little\",\"shape\":[4]},\"velocity\":[113,113,113,113]},\"selected\":{\"id\":\"2919\"},\"selection_policy\":{\"id\":\"2920\"}},\"id\":\"2893\",\"type\":\"ColumnDataSource\"}],\"root_ids\":[\"2855\"]},\"title\":\"Bokeh Application\",\"version\":\"2.1.1\"}};\n",
              "  var render_items = [{\"docid\":\"fa5597a7-a9fe-4b95-af6c-2e327d632083\",\"root_ids\":[\"2855\"],\"roots\":{\"2855\":\"0712650b-9eb5-41b8-b11b-41db7d1f3e36\"}}];\n",
              "  root.Bokeh.embed.embed_items_notebook(docs_json, render_items);\n",
              "\n",
              "  }\n",
              "  if (root.Bokeh !== undefined) {\n",
              "    embed_document(root);\n",
              "  } else {\n",
              "    var attempts = 0;\n",
              "    var timer = setInterval(function(root) {\n",
              "      if (root.Bokeh !== undefined) {\n",
              "        clearInterval(timer);\n",
              "        embed_document(root);\n",
              "      } else {\n",
              "        attempts++;\n",
              "        if (attempts > 100) {\n",
              "          clearInterval(timer);\n",
              "          console.log(\"Bokeh: ERROR: Unable to run BokehJS code because BokehJS library is missing\");\n",
              "        }\n",
              "      }\n",
              "    }, 10, root)\n",
              "  }\n",
              "})(window);"
            ],
            "application/vnd.bokehjs_exec.v0+json": ""
          },
          "metadata": {
            "tags": [],
            "application/vnd.bokehjs_exec.v0+json": {
              "id": "2855"
            }
          }
        }
      ]
    },
    {
      "cell_type": "code",
      "metadata": {
        "id": "9nved7nKd5dl",
        "colab_type": "code",
        "colab": {}
      },
      "source": [
        ""
      ],
      "execution_count": null,
      "outputs": []
    }
  ]
}