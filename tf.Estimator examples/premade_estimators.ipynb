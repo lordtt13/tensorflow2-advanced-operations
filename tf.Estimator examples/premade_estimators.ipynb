{
 "cells": [
  {
   "cell_type": "code",
   "execution_count": 1,
   "metadata": {},
   "outputs": [],
   "source": [
    "import pandas as pd\n",
    "import tensorflow as tf"
   ]
  },
  {
   "cell_type": "code",
   "execution_count": 2,
   "metadata": {},
   "outputs": [],
   "source": [
    "# Get the IRIS dataset\n",
    "\n",
    "CSV_COLUMN_NAMES = ['SepalLength', 'SepalWidth', 'PetalLength', 'PetalWidth', 'Species']\n",
    "SPECIES = ['Setosa', 'Versicolor', 'Virginica']"
   ]
  },
  {
   "cell_type": "code",
   "execution_count": 3,
   "metadata": {},
   "outputs": [
    {
     "name": "stdout",
     "output_type": "stream",
     "text": [
      "Downloading data from https://storage.googleapis.com/download.tensorflow.org/data/iris_training.csv\n",
      "8192/2194 [================================================================================================================] - 0s 0us/step\n",
      "Downloading data from https://storage.googleapis.com/download.tensorflow.org/data/iris_test.csv\n",
      "8192/573 [============================================================================================================================================================================================================================================================================================================================================================================================================================================] - 0s 0us/step\n"
     ]
    }
   ],
   "source": [
    "train_path = tf.keras.utils.get_file(\n",
    "    \"iris_training.csv\", \"https://storage.googleapis.com/download.tensorflow.org/data/iris_training.csv\")\n",
    "test_path = tf.keras.utils.get_file(\n",
    "    \"iris_test.csv\", \"https://storage.googleapis.com/download.tensorflow.org/data/iris_test.csv\")\n",
    "\n",
    "train = pd.read_csv(train_path, names = CSV_COLUMN_NAMES, header = 0)\n",
    "test = pd.read_csv(test_path, names = CSV_COLUMN_NAMES, header = 0)"
   ]
  },
  {
   "cell_type": "code",
   "execution_count": 4,
   "metadata": {},
   "outputs": [
    {
     "data": {
      "text/html": [
       "<div>\n",
       "<style scoped>\n",
       "    .dataframe tbody tr th:only-of-type {\n",
       "        vertical-align: middle;\n",
       "    }\n",
       "\n",
       "    .dataframe tbody tr th {\n",
       "        vertical-align: top;\n",
       "    }\n",
       "\n",
       "    .dataframe thead th {\n",
       "        text-align: right;\n",
       "    }\n",
       "</style>\n",
       "<table border=\"1\" class=\"dataframe\">\n",
       "  <thead>\n",
       "    <tr style=\"text-align: right;\">\n",
       "      <th></th>\n",
       "      <th>SepalLength</th>\n",
       "      <th>SepalWidth</th>\n",
       "      <th>PetalLength</th>\n",
       "      <th>PetalWidth</th>\n",
       "      <th>Species</th>\n",
       "    </tr>\n",
       "  </thead>\n",
       "  <tbody>\n",
       "    <tr>\n",
       "      <th>0</th>\n",
       "      <td>6.4</td>\n",
       "      <td>2.8</td>\n",
       "      <td>5.6</td>\n",
       "      <td>2.2</td>\n",
       "      <td>2</td>\n",
       "    </tr>\n",
       "    <tr>\n",
       "      <th>1</th>\n",
       "      <td>5.0</td>\n",
       "      <td>2.3</td>\n",
       "      <td>3.3</td>\n",
       "      <td>1.0</td>\n",
       "      <td>1</td>\n",
       "    </tr>\n",
       "    <tr>\n",
       "      <th>2</th>\n",
       "      <td>4.9</td>\n",
       "      <td>2.5</td>\n",
       "      <td>4.5</td>\n",
       "      <td>1.7</td>\n",
       "      <td>2</td>\n",
       "    </tr>\n",
       "    <tr>\n",
       "      <th>3</th>\n",
       "      <td>4.9</td>\n",
       "      <td>3.1</td>\n",
       "      <td>1.5</td>\n",
       "      <td>0.1</td>\n",
       "      <td>0</td>\n",
       "    </tr>\n",
       "    <tr>\n",
       "      <th>4</th>\n",
       "      <td>5.7</td>\n",
       "      <td>3.8</td>\n",
       "      <td>1.7</td>\n",
       "      <td>0.3</td>\n",
       "      <td>0</td>\n",
       "    </tr>\n",
       "  </tbody>\n",
       "</table>\n",
       "</div>"
      ],
      "text/plain": [
       "   SepalLength  SepalWidth  PetalLength  PetalWidth  Species\n",
       "0          6.4         2.8          5.6         2.2        2\n",
       "1          5.0         2.3          3.3         1.0        1\n",
       "2          4.9         2.5          4.5         1.7        2\n",
       "3          4.9         3.1          1.5         0.1        0\n",
       "4          5.7         3.8          1.7         0.3        0"
      ]
     },
     "execution_count": 4,
     "metadata": {},
     "output_type": "execute_result"
    }
   ],
   "source": [
    "train.head()"
   ]
  },
  {
   "cell_type": "code",
   "execution_count": 5,
   "metadata": {},
   "outputs": [
    {
     "data": {
      "text/html": [
       "<div>\n",
       "<style scoped>\n",
       "    .dataframe tbody tr th:only-of-type {\n",
       "        vertical-align: middle;\n",
       "    }\n",
       "\n",
       "    .dataframe tbody tr th {\n",
       "        vertical-align: top;\n",
       "    }\n",
       "\n",
       "    .dataframe thead th {\n",
       "        text-align: right;\n",
       "    }\n",
       "</style>\n",
       "<table border=\"1\" class=\"dataframe\">\n",
       "  <thead>\n",
       "    <tr style=\"text-align: right;\">\n",
       "      <th></th>\n",
       "      <th>SepalLength</th>\n",
       "      <th>SepalWidth</th>\n",
       "      <th>PetalLength</th>\n",
       "      <th>PetalWidth</th>\n",
       "    </tr>\n",
       "  </thead>\n",
       "  <tbody>\n",
       "    <tr>\n",
       "      <th>0</th>\n",
       "      <td>6.4</td>\n",
       "      <td>2.8</td>\n",
       "      <td>5.6</td>\n",
       "      <td>2.2</td>\n",
       "    </tr>\n",
       "    <tr>\n",
       "      <th>1</th>\n",
       "      <td>5.0</td>\n",
       "      <td>2.3</td>\n",
       "      <td>3.3</td>\n",
       "      <td>1.0</td>\n",
       "    </tr>\n",
       "    <tr>\n",
       "      <th>2</th>\n",
       "      <td>4.9</td>\n",
       "      <td>2.5</td>\n",
       "      <td>4.5</td>\n",
       "      <td>1.7</td>\n",
       "    </tr>\n",
       "    <tr>\n",
       "      <th>3</th>\n",
       "      <td>4.9</td>\n",
       "      <td>3.1</td>\n",
       "      <td>1.5</td>\n",
       "      <td>0.1</td>\n",
       "    </tr>\n",
       "    <tr>\n",
       "      <th>4</th>\n",
       "      <td>5.7</td>\n",
       "      <td>3.8</td>\n",
       "      <td>1.7</td>\n",
       "      <td>0.3</td>\n",
       "    </tr>\n",
       "  </tbody>\n",
       "</table>\n",
       "</div>"
      ],
      "text/plain": [
       "   SepalLength  SepalWidth  PetalLength  PetalWidth\n",
       "0          6.4         2.8          5.6         2.2\n",
       "1          5.0         2.3          3.3         1.0\n",
       "2          4.9         2.5          4.5         1.7\n",
       "3          4.9         3.1          1.5         0.1\n",
       "4          5.7         3.8          1.7         0.3"
      ]
     },
     "execution_count": 5,
     "metadata": {},
     "output_type": "execute_result"
    }
   ],
   "source": [
    "train_y = train.pop('Species')\n",
    "test_y = test.pop('Species')\n",
    "\n",
    "# The label column has now been removed from the features.\n",
    "train.head()"
   ]
  },
  {
   "cell_type": "code",
   "execution_count": 6,
   "metadata": {},
   "outputs": [],
   "source": [
    "def input_fn(features, labels, training = True, batch_size = 256):\n",
    "    \"\"\"An input function for training or evaluating\"\"\"\n",
    "    # Convert the inputs to a Dataset.\n",
    "    dataset = tf.data.Dataset.from_tensor_slices((dict(features), labels))\n",
    "\n",
    "    # Shuffle and repeat if you are in training mode.\n",
    "    if training:\n",
    "        dataset = dataset.shuffle(1000).repeat()\n",
    "    \n",
    "    return dataset.batch(batch_size)"
   ]
  },
  {
   "cell_type": "code",
   "execution_count": 7,
   "metadata": {},
   "outputs": [],
   "source": [
    "# Feature columns describe how to use the input.\n",
    "my_feature_columns = []\n",
    "for key in train.keys():\n",
    "    my_feature_columns.append(tf.feature_column.numeric_column(key = key))"
   ]
  },
  {
   "cell_type": "code",
   "execution_count": 8,
   "metadata": {},
   "outputs": [
    {
     "name": "stdout",
     "output_type": "stream",
     "text": [
      "INFO:tensorflow:Using default config.\n",
      "WARNING:tensorflow:Using temporary folder as model directory: /tmp/tmpbestj041\n",
      "INFO:tensorflow:Using config: {'_model_dir': '/tmp/tmpbestj041', '_tf_random_seed': None, '_save_summary_steps': 100, '_save_checkpoints_steps': None, '_save_checkpoints_secs': 600, '_session_config': allow_soft_placement: true\n",
      "graph_options {\n",
      "  rewrite_options {\n",
      "    meta_optimizer_iterations: ONE\n",
      "  }\n",
      "}\n",
      ", '_keep_checkpoint_max': 5, '_keep_checkpoint_every_n_hours': 10000, '_log_step_count_steps': 100, '_train_distribute': None, '_device_fn': None, '_protocol': None, '_eval_distribute': None, '_experimental_distribute': None, '_experimental_max_worker_delay_secs': None, '_session_creation_timeout_secs': 7200, '_service': None, '_cluster_spec': ClusterSpec({}), '_task_type': 'worker', '_task_id': 0, '_global_id_in_cluster': 0, '_master': '', '_evaluation_master': '', '_is_chief': True, '_num_ps_replicas': 0, '_num_worker_replicas': 1}\n"
     ]
    }
   ],
   "source": [
    "# Instantiate an estimator\n",
    "\n",
    "# Build a DNN with 2 hidden layers with 30 and 10 hidden nodes each.\n",
    "classifier = tf.estimator.DNNClassifier(\n",
    "    feature_columns = my_feature_columns,\n",
    "    # Two hidden layers of 30 and 10 nodes respectively.\n",
    "    hidden_units = [30, 10],\n",
    "    # The model must choose between 3 classes.\n",
    "    n_classes = 3)"
   ]
  },
  {
   "cell_type": "code",
   "execution_count": 9,
   "metadata": {},
   "outputs": [
    {
     "name": "stdout",
     "output_type": "stream",
     "text": [
      "WARNING:tensorflow:From /home/tanmay/anaconda3/lib/python3.7/site-packages/tensorflow_core/python/ops/resource_variable_ops.py:1635: calling BaseResourceVariable.__init__ (from tensorflow.python.ops.resource_variable_ops) with constraint is deprecated and will be removed in a future version.\n",
      "Instructions for updating:\n",
      "If using Keras pass *_constraint arguments to layers.\n",
      "WARNING:tensorflow:From /home/tanmay/anaconda3/lib/python3.7/site-packages/tensorflow_core/python/training/training_util.py:236: Variable.initialized_value (from tensorflow.python.ops.variables) is deprecated and will be removed in a future version.\n",
      "Instructions for updating:\n",
      "Use Variable.read_value. Variables in 2.X are initialized automatically both in eager and graph (inside tf.defun) contexts.\n",
      "INFO:tensorflow:Calling model_fn.\n",
      "WARNING:tensorflow:Layer dnn is casting an input tensor from dtype float64 to the layer's dtype of float32, which is new behavior in TensorFlow 2.  The layer has dtype float32 because it's dtype defaults to floatx.\n",
      "\n",
      "If you intended to run this layer in float32, you can safely ignore this warning. If in doubt, this warning is likely only an issue if you are porting a TensorFlow 1.X model to TensorFlow 2.\n",
      "\n",
      "To change all layers to have dtype float64 by default, call `tf.keras.backend.set_floatx('float64')`. To change just this layer, pass dtype='float64' to the layer constructor. If you are the author of this layer, you can disable autocasting by passing autocast=False to the base Layer constructor.\n",
      "\n",
      "WARNING:tensorflow:From /home/tanmay/anaconda3/lib/python3.7/site-packages/tensorflow_core/python/keras/optimizer_v2/adagrad.py:103: calling Constant.__init__ (from tensorflow.python.ops.init_ops) with dtype is deprecated and will be removed in a future version.\n",
      "Instructions for updating:\n",
      "Call initializer instance with the dtype argument instead of passing it to the constructor\n",
      "INFO:tensorflow:Done calling model_fn.\n",
      "INFO:tensorflow:Create CheckpointSaverHook.\n",
      "INFO:tensorflow:Graph was finalized.\n",
      "INFO:tensorflow:Running local_init_op.\n",
      "INFO:tensorflow:Done running local_init_op.\n",
      "INFO:tensorflow:Saving checkpoints for 0 into /tmp/tmpbestj041/model.ckpt.\n",
      "INFO:tensorflow:loss = 1.8552328, step = 0\n",
      "INFO:tensorflow:global_step/sec: 182.095\n",
      "INFO:tensorflow:loss = 1.363018, step = 100 (0.551 sec)\n",
      "INFO:tensorflow:global_step/sec: 206.475\n",
      "INFO:tensorflow:loss = 1.2113093, step = 200 (0.484 sec)\n",
      "INFO:tensorflow:global_step/sec: 204.11\n",
      "INFO:tensorflow:loss = 1.1517282, step = 300 (0.490 sec)\n",
      "INFO:tensorflow:global_step/sec: 207.055\n",
      "INFO:tensorflow:loss = 1.1382399, step = 400 (0.482 sec)\n",
      "INFO:tensorflow:global_step/sec: 209.241\n",
      "INFO:tensorflow:loss = 1.0962688, step = 500 (0.478 sec)\n",
      "INFO:tensorflow:global_step/sec: 212.601\n",
      "INFO:tensorflow:loss = 1.0893987, step = 600 (0.471 sec)\n",
      "INFO:tensorflow:global_step/sec: 215.069\n",
      "INFO:tensorflow:loss = 1.0703449, step = 700 (0.464 sec)\n",
      "INFO:tensorflow:global_step/sec: 211.779\n",
      "INFO:tensorflow:loss = 1.0547197, step = 800 (0.472 sec)\n",
      "INFO:tensorflow:global_step/sec: 209.357\n",
      "INFO:tensorflow:loss = 1.0403798, step = 900 (0.478 sec)\n",
      "INFO:tensorflow:global_step/sec: 208.125\n",
      "INFO:tensorflow:loss = 1.0415286, step = 1000 (0.480 sec)\n",
      "INFO:tensorflow:global_step/sec: 211.526\n",
      "INFO:tensorflow:loss = 1.0283183, step = 1100 (0.473 sec)\n",
      "INFO:tensorflow:global_step/sec: 211.471\n",
      "INFO:tensorflow:loss = 1.0144924, step = 1200 (0.473 sec)\n",
      "INFO:tensorflow:global_step/sec: 212.294\n",
      "INFO:tensorflow:loss = 1.0066011, step = 1300 (0.471 sec)\n",
      "INFO:tensorflow:global_step/sec: 209.274\n",
      "INFO:tensorflow:loss = 0.9991328, step = 1400 (0.478 sec)\n",
      "INFO:tensorflow:global_step/sec: 210.789\n",
      "INFO:tensorflow:loss = 0.99034286, step = 1500 (0.474 sec)\n",
      "INFO:tensorflow:global_step/sec: 212.273\n",
      "INFO:tensorflow:loss = 0.9797326, step = 1600 (0.471 sec)\n",
      "INFO:tensorflow:global_step/sec: 211\n",
      "INFO:tensorflow:loss = 0.9764841, step = 1700 (0.474 sec)\n",
      "INFO:tensorflow:global_step/sec: 212.995\n",
      "INFO:tensorflow:loss = 0.9691933, step = 1800 (0.470 sec)\n",
      "INFO:tensorflow:global_step/sec: 213.906\n",
      "INFO:tensorflow:loss = 0.9584013, step = 1900 (0.467 sec)\n",
      "INFO:tensorflow:global_step/sec: 211.949\n",
      "INFO:tensorflow:loss = 0.9576715, step = 2000 (0.472 sec)\n",
      "INFO:tensorflow:global_step/sec: 211.844\n",
      "INFO:tensorflow:loss = 0.94980025, step = 2100 (0.472 sec)\n",
      "INFO:tensorflow:global_step/sec: 212.871\n",
      "INFO:tensorflow:loss = 0.93899316, step = 2200 (0.469 sec)\n",
      "INFO:tensorflow:global_step/sec: 207.788\n",
      "INFO:tensorflow:loss = 0.9338956, step = 2300 (0.482 sec)\n",
      "INFO:tensorflow:global_step/sec: 212.498\n",
      "INFO:tensorflow:loss = 0.9365586, step = 2400 (0.471 sec)\n",
      "INFO:tensorflow:global_step/sec: 208.863\n",
      "INFO:tensorflow:loss = 0.92871845, step = 2500 (0.479 sec)\n",
      "INFO:tensorflow:global_step/sec: 208.706\n",
      "INFO:tensorflow:loss = 0.9211183, step = 2600 (0.479 sec)\n",
      "INFO:tensorflow:global_step/sec: 207.207\n",
      "INFO:tensorflow:loss = 0.9145694, step = 2700 (0.483 sec)\n",
      "INFO:tensorflow:global_step/sec: 214.233\n",
      "INFO:tensorflow:loss = 0.90813744, step = 2800 (0.467 sec)\n",
      "INFO:tensorflow:global_step/sec: 208.382\n",
      "INFO:tensorflow:loss = 0.89952147, step = 2900 (0.480 sec)\n",
      "INFO:tensorflow:global_step/sec: 210.965\n",
      "INFO:tensorflow:loss = 0.90416074, step = 3000 (0.474 sec)\n",
      "INFO:tensorflow:global_step/sec: 209.196\n",
      "INFO:tensorflow:loss = 0.8972637, step = 3100 (0.477 sec)\n",
      "INFO:tensorflow:global_step/sec: 208.412\n",
      "INFO:tensorflow:loss = 0.8910595, step = 3200 (0.481 sec)\n",
      "INFO:tensorflow:global_step/sec: 208.727\n",
      "INFO:tensorflow:loss = 0.8869285, step = 3300 (0.479 sec)\n",
      "INFO:tensorflow:global_step/sec: 212.196\n",
      "INFO:tensorflow:loss = 0.88296443, step = 3400 (0.471 sec)\n",
      "INFO:tensorflow:global_step/sec: 213.017\n",
      "INFO:tensorflow:loss = 0.876285, step = 3500 (0.469 sec)\n",
      "INFO:tensorflow:global_step/sec: 206.94\n",
      "INFO:tensorflow:loss = 0.87867236, step = 3600 (0.483 sec)\n",
      "INFO:tensorflow:global_step/sec: 210.241\n",
      "INFO:tensorflow:loss = 0.86543506, step = 3700 (0.476 sec)\n",
      "INFO:tensorflow:global_step/sec: 207.707\n",
      "INFO:tensorflow:loss = 0.8652752, step = 3800 (0.482 sec)\n",
      "INFO:tensorflow:global_step/sec: 205.918\n",
      "INFO:tensorflow:loss = 0.86271024, step = 3900 (0.486 sec)\n",
      "INFO:tensorflow:global_step/sec: 208.763\n",
      "INFO:tensorflow:loss = 0.8534388, step = 4000 (0.479 sec)\n",
      "INFO:tensorflow:global_step/sec: 206.227\n",
      "INFO:tensorflow:loss = 0.84879315, step = 4100 (0.485 sec)\n",
      "INFO:tensorflow:global_step/sec: 204.292\n",
      "INFO:tensorflow:loss = 0.8481815, step = 4200 (0.490 sec)\n",
      "INFO:tensorflow:global_step/sec: 186.671\n",
      "INFO:tensorflow:loss = 0.8447624, step = 4300 (0.535 sec)\n",
      "INFO:tensorflow:global_step/sec: 198.35\n",
      "INFO:tensorflow:loss = 0.84210354, step = 4400 (0.504 sec)\n",
      "INFO:tensorflow:global_step/sec: 194.56\n",
      "INFO:tensorflow:loss = 0.8383477, step = 4500 (0.514 sec)\n",
      "INFO:tensorflow:global_step/sec: 189.855\n",
      "INFO:tensorflow:loss = 0.83381987, step = 4600 (0.526 sec)\n",
      "INFO:tensorflow:global_step/sec: 206.163\n",
      "INFO:tensorflow:loss = 0.8253861, step = 4700 (0.485 sec)\n",
      "INFO:tensorflow:global_step/sec: 206.346\n",
      "INFO:tensorflow:loss = 0.82203805, step = 4800 (0.485 sec)\n",
      "INFO:tensorflow:global_step/sec: 203.719\n",
      "INFO:tensorflow:loss = 0.8217172, step = 4900 (0.491 sec)\n",
      "INFO:tensorflow:Saving checkpoints for 5000 into /tmp/tmpbestj041/model.ckpt.\n",
      "INFO:tensorflow:Loss for final step: 0.819486.\n"
     ]
    },
    {
     "data": {
      "text/plain": [
       "<tensorflow_estimator.python.estimator.canned.dnn.DNNClassifierV2 at 0x7f765fdfd890>"
      ]
     },
     "execution_count": 9,
     "metadata": {},
     "output_type": "execute_result"
    }
   ],
   "source": [
    "# Train the Model.\n",
    "classifier.train(\n",
    "    input_fn = lambda: input_fn(train, train_y, training = True),\n",
    "    steps = 5000)"
   ]
  },
  {
   "cell_type": "code",
   "execution_count": 10,
   "metadata": {},
   "outputs": [
    {
     "name": "stdout",
     "output_type": "stream",
     "text": [
      "INFO:tensorflow:Calling model_fn.\n",
      "WARNING:tensorflow:Layer dnn is casting an input tensor from dtype float64 to the layer's dtype of float32, which is new behavior in TensorFlow 2.  The layer has dtype float32 because it's dtype defaults to floatx.\n",
      "\n",
      "If you intended to run this layer in float32, you can safely ignore this warning. If in doubt, this warning is likely only an issue if you are porting a TensorFlow 1.X model to TensorFlow 2.\n",
      "\n",
      "To change all layers to have dtype float64 by default, call `tf.keras.backend.set_floatx('float64')`. To change just this layer, pass dtype='float64' to the layer constructor. If you are the author of this layer, you can disable autocasting by passing autocast=False to the base Layer constructor.\n",
      "\n",
      "INFO:tensorflow:Done calling model_fn.\n",
      "INFO:tensorflow:Starting evaluation at 2020-04-18T12:59:35Z\n",
      "INFO:tensorflow:Graph was finalized.\n",
      "INFO:tensorflow:Restoring parameters from /tmp/tmpbestj041/model.ckpt-5000\n",
      "INFO:tensorflow:Running local_init_op.\n",
      "INFO:tensorflow:Done running local_init_op.\n",
      "INFO:tensorflow:Inference Time : 1.79804s\n",
      "INFO:tensorflow:Finished evaluation at 2020-04-18-12:59:37\n",
      "INFO:tensorflow:Saving dict for global step 5000: accuracy = 0.53333336, average_loss = 0.8754901, global_step = 5000, loss = 0.8754901\n",
      "INFO:tensorflow:Saving 'checkpoint_path' summary for global step 5000: /tmp/tmpbestj041/model.ckpt-5000\n",
      "\n",
      "Test set accuracy: 0.533\n",
      "\n"
     ]
    }
   ],
   "source": [
    "eval_result = classifier.evaluate(\n",
    "    input_fn = lambda: input_fn(test, test_y, training = False))\n",
    "\n",
    "print('\\nTest set accuracy: {accuracy:0.3f}\\n'.format(**eval_result))"
   ]
  },
  {
   "cell_type": "code",
   "execution_count": 11,
   "metadata": {},
   "outputs": [],
   "source": [
    "# Custom predict\n",
    "\n",
    "# Generate predictions from the model\n",
    "\n",
    "expected = ['Setosa', 'Versicolor', 'Virginica']\n",
    "\n",
    "predict_x = {\n",
    "    'SepalLength': [5.1, 5.9, 6.9],\n",
    "    'SepalWidth': [3.3, 3.0, 3.1],\n",
    "    'PetalLength': [1.7, 4.2, 5.4],\n",
    "    'PetalWidth': [0.5, 1.5, 2.1],\n",
    "}\n",
    "\n",
    "\n",
    "def input_fn(features, batch_size = 256):\n",
    "    \"\"\"An input function for prediction.\"\"\"\n",
    "    # Convert the inputs to a Dataset without labels.\n",
    "    return tf.data.Dataset.from_tensor_slices(dict(features)).batch(batch_size)\n",
    "\n",
    "predictions = classifier.predict(\n",
    "    input_fn = lambda: input_fn(predict_x))"
   ]
  },
  {
   "cell_type": "code",
   "execution_count": 12,
   "metadata": {},
   "outputs": [
    {
     "name": "stdout",
     "output_type": "stream",
     "text": [
      "INFO:tensorflow:Calling model_fn.\n",
      "INFO:tensorflow:Done calling model_fn.\n",
      "INFO:tensorflow:Graph was finalized.\n",
      "INFO:tensorflow:Restoring parameters from /tmp/tmpbestj041/model.ckpt-5000\n",
      "INFO:tensorflow:Running local_init_op.\n",
      "INFO:tensorflow:Done running local_init_op.\n",
      "Prediction is \"Setosa\" (40.7%), expected \"Setosa\"\n",
      "Prediction is \"Virginica\" (50.9%), expected \"Versicolor\"\n",
      "Prediction is \"Virginica\" (53.4%), expected \"Virginica\"\n"
     ]
    }
   ],
   "source": [
    "for pred_dict, expec in zip(predictions, expected):\n",
    "    class_id = pred_dict['class_ids'][0]\n",
    "    probability = pred_dict['probabilities'][class_id]\n",
    "\n",
    "    print('Prediction is \"{}\" ({:.1f}%), expected \"{}\"'.format(\n",
    "        SPECIES[class_id], 100 * probability, expec))"
   ]
  },
  {
   "cell_type": "code",
   "execution_count": null,
   "metadata": {},
   "outputs": [],
   "source": []
  }
 ],
 "metadata": {
  "kernelspec": {
   "display_name": "Python 3",
   "language": "python",
   "name": "python3"
  },
  "language_info": {
   "codemirror_mode": {
    "name": "ipython",
    "version": 3
   },
   "file_extension": ".py",
   "mimetype": "text/x-python",
   "name": "python",
   "nbconvert_exporter": "python",
   "pygments_lexer": "ipython3",
   "version": "3.7.6"
  }
 },
 "nbformat": 4,
 "nbformat_minor": 4
}
