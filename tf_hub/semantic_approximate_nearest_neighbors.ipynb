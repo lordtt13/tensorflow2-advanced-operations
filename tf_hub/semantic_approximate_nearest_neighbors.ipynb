{
 "cells": [
  {
   "cell_type": "code",
   "execution_count": 1,
   "metadata": {},
   "outputs": [],
   "source": [
    "import os\n",
    "import sys\n",
    "import annoy\n",
    "import pickle\n",
    "import tempfile\n",
    "\n",
    "import numpy as np\n",
    "import tensorflow as tf\n",
    "import apache_beam as beam\n",
    "import tensorflow_hub as hub\n",
    "\n",
    "from datetime import datetime\n",
    "from collections import namedtuple\n",
    "from apache_beam.transforms import util\n",
    "from sklearn.random_projection import gaussian_random_matrix"
   ]
  },
  {
   "cell_type": "code",
   "execution_count": 2,
   "metadata": {},
   "outputs": [
    {
     "name": "stdout",
     "output_type": "stream",
     "text": [
      "TF version: 2.1.0\n",
      "TF-Hub version: 0.8.0\n",
      "Apache Beam version: 2.20.0\n"
     ]
    }
   ],
   "source": [
    "print('TF version: {}'.format(tf.__version__))\n",
    "print('TF-Hub version: {}'.format(hub.__version__))\n",
    "print('Apache Beam version: {}'.format(beam.__version__))"
   ]
  },
  {
   "cell_type": "code",
   "execution_count": 3,
   "metadata": {},
   "outputs": [],
   "source": [
    "from tensorflow.keras.models import load_model \n",
    "from tensorflow.compat.v1 import ConfigProto\n",
    "from tensorflow.compat.v1 import InteractiveSession\n",
    "\n",
    "config = ConfigProto()\n",
    "config.gpu_options.allow_growth = True\n",
    "session = InteractiveSession(config = config)"
   ]
  },
  {
   "cell_type": "markdown",
   "metadata": {},
   "source": [
    "A Million News Headlines dataset contains news headlines published over a period of 15 years sourced from the reputable Australian Broadcasting Corp. (ABC). This news dataset has a summarised historical record of noteworthy events in the globe from early-2003 to end-2017 with a more granular focus on Australia.\n",
    "\n",
    "Format: Tab-separated two-column data: 1) publication date and 2) headline text. We are only interested in the headline text."
   ]
  },
  {
   "cell_type": "code",
   "execution_count": 4,
   "metadata": {},
   "outputs": [
    {
     "name": "stdout",
     "output_type": "stream",
     "text": [
      "publish_date\theadline_text\r\n",
      "20030219\t\"aba decides against community broadcasting licence\"\r\n",
      "20030219\t\"act fire witnesses must be aware of defamation\"\r\n",
      "20030219\t\"a g calls for infrastructure protection summit\"\r\n",
      "20030219\t\"air nz staff in aust strike for pay rise\"\r\n",
      "20030219\t\"air nz strike to affect australian travellers\"\r\n",
      "20030219\t\"ambitious olsson wins triple jump\"\r\n",
      "20030219\t\"antic delighted with record breaking barca\"\r\n",
      "20030219\t\"aussie qualifier stosur wastes four memphis match\"\r\n",
      "20030219\t\"aust addresses un security council over iraq\"\r\n"
     ]
    }
   ],
   "source": [
    "!head raw.tsv"
   ]
  },
  {
   "cell_type": "code",
   "execution_count": 5,
   "metadata": {},
   "outputs": [],
   "source": [
    "# We only keep the headline\n",
    "\n",
    "!rm -r corpus\n",
    "!mkdir corpus\n",
    "\n",
    "with open('corpus/text.txt', 'w') as out_file:\n",
    "  with open('raw.tsv', 'r') as in_file:\n",
    "    for line in in_file:\n",
    "      headline = line.split('\\t')[1].strip().strip('\"')\n",
    "      out_file.write(headline+\"\\n\")"
   ]
  },
  {
   "cell_type": "code",
   "execution_count": 6,
   "metadata": {},
   "outputs": [
    {
     "name": "stdout",
     "output_type": "stream",
     "text": [
      "severe storms forecast for nye in south east queensland\r\n",
      "snake catcher pleads for people not to kill reptiles\r\n",
      "south australia prepares for party to welcome new year\r\n",
      "strikers cool off the heat with big win in adelaide\r\n",
      "stunning images from the sydney to hobart yacht\r\n",
      "the ashes smiths warners near miss liven up boxing day test\r\n",
      "timelapse: brisbanes new year fireworks\r\n",
      "what 2017 meant to the kids of australia\r\n",
      "what the papodopoulos meeting may mean for ausus\r\n",
      "who is george papadopoulos the former trump campaign aide\r\n"
     ]
    }
   ],
   "source": [
    "!tail corpus/text.txt"
   ]
  },
  {
   "cell_type": "code",
   "execution_count": 7,
   "metadata": {},
   "outputs": [],
   "source": [
    "# Embedding extraction method\n",
    "\n",
    "embed_fn = None\n",
    "\n",
    "def generate_embeddings(text, module_url, random_projection_matrix = None):\n",
    "  # Beam will run this function in different processes that need to\n",
    "  # import hub and load embed_fn (if not previously loaded)\n",
    "  global embed_fn\n",
    "  if embed_fn is None:\n",
    "    embed_fn = hub.load(module_url)\n",
    "  embedding = embed_fn(text).numpy()\n",
    "  if random_projection_matrix is not None:\n",
    "    embedding = embedding.dot(random_projection_matrix)\n",
    "  return text, embedding"
   ]
  },
  {
   "cell_type": "code",
   "execution_count": 8,
   "metadata": {},
   "outputs": [],
   "source": [
    "def to_tf_example(entries):\n",
    "  examples = []\n",
    "\n",
    "  text_list, embedding_list = entries\n",
    "  for i in range(len(text_list)):\n",
    "    text = text_list[i]\n",
    "    embedding = embedding_list[i]\n",
    "\n",
    "    features = {\n",
    "        'text': tf.train.Feature(\n",
    "            bytes_list = tf.train.BytesList(value = [text.encode('utf-8')])),\n",
    "        'embedding': tf.train.Feature(\n",
    "            float_list = tf.train.FloatList(value = embedding.tolist()))\n",
    "    }\n",
    "  \n",
    "    example = tf.train.Example(\n",
    "        features = tf.train.Features(\n",
    "            feature = features)).SerializeToString(deterministic = True)\n",
    "  \n",
    "    examples.append(example)\n",
    "  \n",
    "  return examples"
   ]
  },
  {
   "cell_type": "code",
   "execution_count": 9,
   "metadata": {},
   "outputs": [],
   "source": [
    "# Beam Pipeline\n",
    "\n",
    "def run_hub2emb(args):\n",
    "  '''Runs the embedding generation pipeline'''\n",
    "\n",
    "  options = beam.options.pipeline_options.PipelineOptions(**args)\n",
    "  args = namedtuple(\"options\", args.keys())(*args.values())\n",
    "\n",
    "  with beam.Pipeline(args.runner, options = options) as pipeline:\n",
    "    (\n",
    "        pipeline\n",
    "        | 'Read sentences from files' >> beam.io.ReadFromText(\n",
    "            file_pattern = args.data_dir)\n",
    "        | 'Batch elements' >> util.BatchElements(\n",
    "            min_batch_size = args.batch_size, max_batch_size = args.batch_size)\n",
    "        | 'Generate embeddings' >> beam.Map(\n",
    "            generate_embeddings, args.module_url, args.random_projection_matrix)\n",
    "        | 'Encode to tf example' >> beam.FlatMap(to_tf_example)\n",
    "        | 'Write to TFRecords files' >> beam.io.WriteToTFRecord(\n",
    "            file_path_prefix = '{}/emb'.format(args.output_dir),\n",
    "            file_name_suffix = '.tfrecords')\n",
    "    )"
   ]
  },
  {
   "cell_type": "markdown",
   "metadata": {},
   "source": [
    "Random projection is a simple, yet powerfull technique used to reduce the dimensionality of a set of points which lie in Euclidean space. For a theoretical background, see the Johnson-Lindenstrauss lemma.\n",
    "\n",
    "Reducing the dimensionality of the embeddings with random projection means less time needed to build and query the ANN index.\n",
    "\n",
    "In this tutorial we use Gaussian Random Projection from the Scikit-learn library."
   ]
  },
  {
   "cell_type": "code",
   "execution_count": 10,
   "metadata": {},
   "outputs": [],
   "source": [
    "def generate_random_projection_weights(original_dim, projected_dim):\n",
    "  random_projection_matrix = None\n",
    "  random_projection_matrix = gaussian_random_matrix(\n",
    "      n_components = projected_dim, n_features = original_dim).T\n",
    "  print(\"A Gaussian random weight matrix was creates with shape of {}\".format(random_projection_matrix.shape))\n",
    "  print('Storing random projection matrix to disk...')\n",
    "  with open('random_projection_matrix', 'wb') as handle:\n",
    "    pickle.dump(random_projection_matrix, \n",
    "                handle, protocol = pickle.HIGHEST_PROTOCOL)\n",
    "        \n",
    "  return random_projection_matrix"
   ]
  },
  {
   "cell_type": "code",
   "execution_count": 11,
   "metadata": {},
   "outputs": [],
   "source": [
    "module_url = 'https://tfhub.dev/google/tf2-preview/nnlm-en-dim128/1' \n",
    "projected_dim = 64"
   ]
  },
  {
   "cell_type": "code",
   "execution_count": 12,
   "metadata": {},
   "outputs": [
    {
     "name": "stdout",
     "output_type": "stream",
     "text": [
      "A Gaussian random weight matrix was creates with shape of (128, 64)\n",
      "Storing random projection matrix to disk...\n",
      "Pipeline args are set.\n"
     ]
    },
    {
     "name": "stderr",
     "output_type": "stream",
     "text": [
      "/home/tanmay/anaconda3/lib/python3.7/site-packages/sklearn/utils/deprecation.py:87: FutureWarning: Function gaussian_random_matrix is deprecated; gaussian_random_matrix is deprecated in 0.22 and will be removed in version 0.24.\n",
      "  warnings.warn(msg, category=FutureWarning)\n"
     ]
    },
    {
     "data": {
      "text/plain": [
       "{'job_name': 'hub2emb-200505-040704',\n",
       " 'runner': 'DirectRunner',\n",
       " 'batch_size': 1024,\n",
       " 'data_dir': 'corpus/*.txt',\n",
       " 'output_dir': '/tmp/tmp6o0hfzko',\n",
       " 'module_url': 'https://tfhub.dev/google/tf2-preview/nnlm-en-dim128/1',\n",
       " 'random_projection_matrix': array([[ 0.11777096, -0.18941194,  0.12355215, ..., -0.11935346,\n",
       "         -0.05472856,  0.10257149],\n",
       "        [-0.02463811,  0.03498989,  0.15584462, ...,  0.03632531,\n",
       "         -0.15344418,  0.13499407],\n",
       "        [ 0.1745208 ,  0.25193234, -0.0140515 , ...,  0.07187349,\n",
       "          0.05380318,  0.22745183],\n",
       "        ...,\n",
       "        [-0.01787598, -0.10541555, -0.0043509 , ..., -0.05776771,\n",
       "          0.00942593, -0.05365407],\n",
       "        [-0.0649402 ,  0.11598637,  0.15178003, ..., -0.11255522,\n",
       "         -0.01757714,  0.13242785],\n",
       "        [-0.01959453, -0.01784685,  0.07341345, ..., -0.05164322,\n",
       "         -0.2140977 ,  0.05822046]])}"
      ]
     },
     "execution_count": 12,
     "metadata": {},
     "output_type": "execute_result"
    }
   ],
   "source": [
    "output_dir = tempfile.mkdtemp()\n",
    "original_dim = hub.load(module_url)(['']).shape[1]\n",
    "random_projection_matrix = None\n",
    "\n",
    "if projected_dim:\n",
    "  random_projection_matrix = generate_random_projection_weights(\n",
    "      original_dim, projected_dim)\n",
    "\n",
    "args = {\n",
    "    'job_name': 'hub2emb-{}'.format(datetime.utcnow().strftime('%y%m%d-%H%M%S')),\n",
    "    'runner': 'DirectRunner',\n",
    "    'batch_size': 1024,\n",
    "    'data_dir': 'corpus/*.txt',\n",
    "    'output_dir': output_dir,\n",
    "    'module_url': module_url,\n",
    "    'random_projection_matrix': random_projection_matrix,\n",
    "}\n",
    "\n",
    "print(\"Pipeline args are set.\")\n",
    "args"
   ]
  },
  {
   "cell_type": "code",
   "execution_count": 13,
   "metadata": {},
   "outputs": [
    {
     "name": "stdout",
     "output_type": "stream",
     "text": [
      "Running pipeline...\n"
     ]
    },
    {
     "name": "stderr",
     "output_type": "stream",
     "text": [
      "WARNING:apache_beam.io.tfrecordio:Couldn't find python-snappy so the implementation of _TFRecordUtil._masked_crc32c is not as fast as it could be.\n"
     ]
    },
    {
     "name": "stdout",
     "output_type": "stream",
     "text": [
      "CPU times: user 4min 40s, sys: 13.1 s, total: 4min 53s\n",
      "Wall time: 1min 15s\n",
      "Pipeline is done.\n"
     ]
    }
   ],
   "source": [
    "print(\"Running pipeline...\")\n",
    "%time run_hub2emb(args)\n",
    "print(\"Pipeline is done.\")"
   ]
  },
  {
   "cell_type": "code",
   "execution_count": 14,
   "metadata": {},
   "outputs": [
    {
     "name": "stdout",
     "output_type": "stream",
     "text": [
      "headline_text: [-0.06242689  0.0451642  -0.12775695  0.13880947 -0.00685298  0.01386029\n",
      "  0.06293475 -0.05843846 -0.1290109   0.07561249]\n",
      "aba decides against community broadcasting licence: [-0.02759941 -0.0668483   0.14180553 -0.10934345  0.16544361 -0.11714991\n",
      " -0.04192351 -0.16579825  0.07328099  0.05042982]\n",
      "act fire witnesses must be aware of defamation: [ 0.08266592  0.05657516 -0.09953444 -0.22255915 -0.08982131 -0.09224436\n",
      " -0.11571347 -0.15178515 -0.12480546  0.24920128]\n",
      "a g calls for infrastructure protection summit: [-0.11184522  0.09457187 -0.15731621 -0.05019473 -0.03897159  0.09188722\n",
      "  0.1212418  -0.02741695 -0.03070022  0.16001716]\n",
      "air nz staff in aust strike for pay rise: [ 0.04117656 -0.23968488 -0.23157041  0.04474726  0.03047607  0.02460521\n",
      "  0.1868024  -0.20157345  0.21702358  0.13327442]\n"
     ]
    }
   ],
   "source": [
    "embed_file = os.path.join(output_dir, 'emb-00000-of-00001.tfrecords')\n",
    "sample = 5\n",
    "\n",
    "# Create a description of the features.\n",
    "feature_description = {\n",
    "    'text': tf.io.FixedLenFeature([], tf.string),\n",
    "    'embedding': tf.io.FixedLenFeature([projected_dim], tf.float32)\n",
    "}\n",
    "\n",
    "def _parse_example(example):\n",
    "  # Parse the input `tf.Example` proto using the dictionary above.\n",
    "  return tf.io.parse_single_example(example, feature_description)\n",
    "\n",
    "dataset = tf.data.TFRecordDataset(embed_file)\n",
    "for record in dataset.take(sample).map(_parse_example):\n",
    "  print(\"{}: {}\".format(record['text'].numpy().decode('utf-8'), record['embedding'].numpy()[:10]))"
   ]
  },
  {
   "cell_type": "markdown",
   "metadata": {},
   "source": [
    "ANNOY (Approximate Nearest Neighbors Oh Yeah) is a C++ library with Python bindings to search for points in space that are close to a given query point. It also creates large read-only file-based data structures that are mapped into memory. It is built and used by Spotify for music recommendations."
   ]
  },
  {
   "cell_type": "code",
   "execution_count": 15,
   "metadata": {},
   "outputs": [],
   "source": [
    "def build_index(embedding_files_pattern, index_filename, vector_length, \n",
    "    metric = 'angular', num_trees = 100):\n",
    "  '''Builds an ANNOY index'''\n",
    "\n",
    "  annoy_index = annoy.AnnoyIndex(vector_length, metric = metric)\n",
    "  # Mapping between the item and its identifier in the index\n",
    "  mapping = {}\n",
    "\n",
    "  embed_files = tf.io.gfile.glob(embedding_files_pattern)\n",
    "  num_files = len(embed_files)\n",
    "  print('Found {} embedding file(s).'.format(num_files))\n",
    "\n",
    "  item_counter = 0\n",
    "  for i, embed_file in enumerate(embed_files):\n",
    "    print('Loading embeddings in file {} of {}...'.format(i+1, num_files))\n",
    "    dataset = tf.data.TFRecordDataset(embed_file)\n",
    "    for record in dataset.map(_parse_example):\n",
    "      text = record['text'].numpy().decode(\"utf-8\")\n",
    "      embedding = record['embedding'].numpy()\n",
    "      mapping[item_counter] = text\n",
    "      annoy_index.add_item(item_counter, embedding)\n",
    "      item_counter += 1\n",
    "      if item_counter % 100000 == 0:\n",
    "        print('{} items loaded to the index'.format(item_counter))\n",
    "\n",
    "  print('A total of {} items added to the index'.format(item_counter))\n",
    "\n",
    "  print('Building the index with {} trees...'.format(num_trees))\n",
    "  annoy_index.build(n_trees = num_trees)\n",
    "  print('Index is successfully built.')\n",
    "  \n",
    "  print('Saving index to disk...')\n",
    "  annoy_index.save(index_filename)\n",
    "  print('Index is saved to disk.')\n",
    "  print(\"Index file size: {} GB\".format(\n",
    "    round(os.path.getsize(index_filename) / float(1024 ** 3), 2)))\n",
    "  annoy_index.unload()\n",
    "\n",
    "  print('Saving mapping to disk...')\n",
    "  with open(index_filename + '.mapping', 'wb') as handle:\n",
    "    pickle.dump(mapping, handle, protocol = pickle.HIGHEST_PROTOCOL)\n",
    "  print('Mapping is saved to disk.')\n",
    "  print(\"Mapping file size: {} MB\".format(\n",
    "    round(os.path.getsize(index_filename + '.mapping') / float(1024 ** 2), 2)))"
   ]
  },
  {
   "cell_type": "code",
   "execution_count": 16,
   "metadata": {},
   "outputs": [],
   "source": [
    "embedding_files = \"{}/emb-*.tfrecords\".format(output_dir)\n",
    "embedding_dimension = projected_dim\n",
    "index_filename = \"index\""
   ]
  },
  {
   "cell_type": "code",
   "execution_count": 17,
   "metadata": {},
   "outputs": [
    {
     "name": "stdout",
     "output_type": "stream",
     "text": [
      "Found 1 embedding file(s).\n",
      "Loading embeddings in file 1 of 1...\n",
      "100000 items loaded to the index\n",
      "200000 items loaded to the index\n",
      "300000 items loaded to the index\n",
      "400000 items loaded to the index\n",
      "500000 items loaded to the index\n",
      "600000 items loaded to the index\n",
      "700000 items loaded to the index\n",
      "800000 items loaded to the index\n",
      "900000 items loaded to the index\n",
      "1000000 items loaded to the index\n",
      "1100000 items loaded to the index\n",
      "A total of 1103664 items added to the index\n",
      "Building the index with 100 trees...\n",
      "Index is successfully built.\n",
      "Saving index to disk...\n",
      "Index is saved to disk.\n",
      "Index file size: 1.62 GB\n",
      "Saving mapping to disk...\n",
      "Mapping is saved to disk.\n",
      "Mapping file size: 50.61 MB\n",
      "CPU times: user 7min 54s, sys: 18.2 s, total: 8min 12s\n",
      "Wall time: 7min 8s\n"
     ]
    }
   ],
   "source": [
    "%time build_index(embedding_files, index_filename, embedding_dimension)"
   ]
  },
  {
   "cell_type": "markdown",
   "metadata": {},
   "source": [
    "### Use the Index for Similarity Matching\n",
    "Now we can use the ANN index to find news headlines that are semantically close to an input query."
   ]
  },
  {
   "cell_type": "code",
   "execution_count": 18,
   "metadata": {},
   "outputs": [
    {
     "name": "stdout",
     "output_type": "stream",
     "text": [
      "Annoy index is loaded.\n",
      "Mapping file is loaded.\n"
     ]
    },
    {
     "name": "stderr",
     "output_type": "stream",
     "text": [
      "/home/tanmay/anaconda3/lib/python3.7/site-packages/ipykernel_launcher.py:1: FutureWarning: The default argument for metric will be removed in future version of Annoy. Please pass metric='angular' explicitly.\n",
      "  \"\"\"Entry point for launching an IPython kernel.\n"
     ]
    }
   ],
   "source": [
    "index = annoy.AnnoyIndex(embedding_dimension)\n",
    "index.load(index_filename, prefault = True)\n",
    "print('Annoy index is loaded.')\n",
    "with open(index_filename + '.mapping', 'rb') as handle:\n",
    "  mapping = pickle.load(handle)\n",
    "print('Mapping file is loaded.')"
   ]
  },
  {
   "cell_type": "code",
   "execution_count": 19,
   "metadata": {},
   "outputs": [],
   "source": [
    "# Similarity matching method\n",
    "\n",
    "def find_similar_items(embedding, num_matches = 5):\n",
    "  '''Finds similar items to a given embedding in the ANN index'''\n",
    "  ids = index.get_nns_by_vector(\n",
    "  embedding, num_matches, search_k = -1, include_distances = False)\n",
    "  items = [mapping[i] for i in ids]\n",
    "  return items"
   ]
  },
  {
   "cell_type": "code",
   "execution_count": 20,
   "metadata": {},
   "outputs": [
    {
     "name": "stdout",
     "output_type": "stream",
     "text": [
      "Loading the TF-Hub module...\n",
      "CPU times: user 949 ms, sys: 540 ms, total: 1.49 s\n",
      "Wall time: 1.49 s\n",
      "TF-Hub module is loaded.\n",
      "Loading random projection matrix...\n",
      "random projection matrix is loaded.\n"
     ]
    }
   ],
   "source": [
    "# Extract embedding from a given query\n",
    "\n",
    "print(\"Loading the TF-Hub module...\")\n",
    "%time embed_fn = hub.load(module_url)\n",
    "print(\"TF-Hub module is loaded.\")\n",
    "\n",
    "random_projection_matrix = None\n",
    "if os.path.exists('random_projection_matrix'):\n",
    "  print(\"Loading random projection matrix...\")\n",
    "  with open('random_projection_matrix', 'rb') as handle:\n",
    "    random_projection_matrix = pickle.load(handle)\n",
    "  print('random projection matrix is loaded.')\n",
    "\n",
    "def extract_embeddings(query):\n",
    "  '''Generates the embedding for the query'''\n",
    "  query_embedding =  embed_fn([query])[0].numpy()\n",
    "  if random_projection_matrix is not None:\n",
    "    query_embedding = query_embedding.dot(random_projection_matrix)\n",
    "  return query_embedding"
   ]
  },
  {
   "cell_type": "code",
   "execution_count": 21,
   "metadata": {},
   "outputs": [
    {
     "data": {
      "text/plain": [
       "array([-0.13628113,  0.01904645,  0.2518048 ,  0.08050381,  0.07141582,\n",
       "       -0.16103104, -0.02986444,  0.0651799 ,  0.33066507,  0.03870673])"
      ]
     },
     "execution_count": 21,
     "metadata": {},
     "output_type": "execute_result"
    }
   ],
   "source": [
    "extract_embeddings(\"Hello Machine Learning!\")[:10]"
   ]
  },
  {
   "cell_type": "code",
   "execution_count": 22,
   "metadata": {},
   "outputs": [
    {
     "name": "stdout",
     "output_type": "stream",
     "text": [
      "Generating embedding for the query...\n",
      "CPU times: user 5.64 ms, sys: 16.4 ms, total: 22.1 ms\n",
      "Wall time: 21 ms\n",
      "\n",
      "Finding relevant items in the index...\n",
      "CPU times: user 1.58 ms, sys: 0 ns, total: 1.58 ms\n",
      "Wall time: 906 µs\n",
      "\n",
      "Results:\n",
      "=========\n",
      "confronting global challenges\n",
      "old wisdom unites to solve global dilemmas\n",
      "old wisdom unites to solve global dilemmas\n",
      "nuclear watchdog warns of new global dangers\n",
      "world bank issues global warming warning\n",
      "us consumerism poses global recession threat expert\n",
      "global warning\n",
      "outback challenge proves lucrative\n",
      "iea boss warns of global energy crisis\n",
      "new research challenges global warming theories\n"
     ]
    }
   ],
   "source": [
    "# Enter a query to find the most similar items\n",
    "\n",
    "query = \"confronting global challenges\" \n",
    "\n",
    "print(\"Generating embedding for the query...\")\n",
    "%time query_embedding = extract_embeddings(query)\n",
    "\n",
    "print(\"\")\n",
    "print(\"Finding relevant items in the index...\")\n",
    "%time items = find_similar_items(query_embedding, 10)\n",
    "\n",
    "print(\"\")\n",
    "print(\"Results:\")\n",
    "print(\"=========\")\n",
    "for item in items:\n",
    "  print(item)"
   ]
  },
  {
   "cell_type": "code",
   "execution_count": null,
   "metadata": {},
   "outputs": [],
   "source": []
  }
 ],
 "metadata": {
  "kernelspec": {
   "display_name": "Python 3",
   "language": "python",
   "name": "python3"
  },
  "language_info": {
   "codemirror_mode": {
    "name": "ipython",
    "version": 3
   },
   "file_extension": ".py",
   "mimetype": "text/x-python",
   "name": "python",
   "nbconvert_exporter": "python",
   "pygments_lexer": "ipython3",
   "version": "3.7.6"
  }
 },
 "nbformat": 4,
 "nbformat_minor": 4
}
