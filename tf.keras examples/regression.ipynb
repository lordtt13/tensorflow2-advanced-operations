{
 "cells": [
  {
   "cell_type": "code",
   "execution_count": 1,
   "metadata": {},
   "outputs": [],
   "source": [
    "import pathlib\n",
    "import tensorflow_docs.plots\n",
    "import tensorflow_docs.modeling\n",
    "\n",
    "import numpy as np\n",
    "import pandas as pd\n",
    "import seaborn as sns\n",
    "import tensorflow as tf\n",
    "import matplotlib.pyplot as plt\n",
    "import tensorflow_docs as tfdocs\n",
    "\n",
    "from tensorflow import keras\n",
    "from tensorflow.keras import layers"
   ]
  },
  {
   "cell_type": "code",
   "execution_count": 2,
   "metadata": {},
   "outputs": [
    {
     "name": "stdout",
     "output_type": "stream",
     "text": [
      "Downloading data from http://archive.ics.uci.edu/ml/machine-learning-databases/auto-mpg/auto-mpg.data\n",
      "32768/30286 [================================] - 0s 7us/step\n"
     ]
    }
   ],
   "source": [
    "# AutoMPG Dataset\n",
    "\n",
    "dataset_path = keras.utils.get_file(\"auto-mpg.data\", \\\n",
    "                                    \"http://archive.ics.uci.edu/ml/machine-learning-databases/auto-mpg/auto-mpg.data\")"
   ]
  },
  {
   "cell_type": "code",
   "execution_count": 3,
   "metadata": {},
   "outputs": [
    {
     "data": {
      "text/html": [
       "<div>\n",
       "<style scoped>\n",
       "    .dataframe tbody tr th:only-of-type {\n",
       "        vertical-align: middle;\n",
       "    }\n",
       "\n",
       "    .dataframe tbody tr th {\n",
       "        vertical-align: top;\n",
       "    }\n",
       "\n",
       "    .dataframe thead th {\n",
       "        text-align: right;\n",
       "    }\n",
       "</style>\n",
       "<table border=\"1\" class=\"dataframe\">\n",
       "  <thead>\n",
       "    <tr style=\"text-align: right;\">\n",
       "      <th></th>\n",
       "      <th>MPG</th>\n",
       "      <th>Cylinders</th>\n",
       "      <th>Displacement</th>\n",
       "      <th>Horsepower</th>\n",
       "      <th>Weight</th>\n",
       "      <th>Acceleration</th>\n",
       "      <th>Model Year</th>\n",
       "      <th>Origin</th>\n",
       "    </tr>\n",
       "  </thead>\n",
       "  <tbody>\n",
       "    <tr>\n",
       "      <th>393</th>\n",
       "      <td>27.0</td>\n",
       "      <td>4</td>\n",
       "      <td>140.0</td>\n",
       "      <td>86.0</td>\n",
       "      <td>2790.0</td>\n",
       "      <td>15.6</td>\n",
       "      <td>82</td>\n",
       "      <td>1</td>\n",
       "    </tr>\n",
       "    <tr>\n",
       "      <th>394</th>\n",
       "      <td>44.0</td>\n",
       "      <td>4</td>\n",
       "      <td>97.0</td>\n",
       "      <td>52.0</td>\n",
       "      <td>2130.0</td>\n",
       "      <td>24.6</td>\n",
       "      <td>82</td>\n",
       "      <td>2</td>\n",
       "    </tr>\n",
       "    <tr>\n",
       "      <th>395</th>\n",
       "      <td>32.0</td>\n",
       "      <td>4</td>\n",
       "      <td>135.0</td>\n",
       "      <td>84.0</td>\n",
       "      <td>2295.0</td>\n",
       "      <td>11.6</td>\n",
       "      <td>82</td>\n",
       "      <td>1</td>\n",
       "    </tr>\n",
       "    <tr>\n",
       "      <th>396</th>\n",
       "      <td>28.0</td>\n",
       "      <td>4</td>\n",
       "      <td>120.0</td>\n",
       "      <td>79.0</td>\n",
       "      <td>2625.0</td>\n",
       "      <td>18.6</td>\n",
       "      <td>82</td>\n",
       "      <td>1</td>\n",
       "    </tr>\n",
       "    <tr>\n",
       "      <th>397</th>\n",
       "      <td>31.0</td>\n",
       "      <td>4</td>\n",
       "      <td>119.0</td>\n",
       "      <td>82.0</td>\n",
       "      <td>2720.0</td>\n",
       "      <td>19.4</td>\n",
       "      <td>82</td>\n",
       "      <td>1</td>\n",
       "    </tr>\n",
       "  </tbody>\n",
       "</table>\n",
       "</div>"
      ],
      "text/plain": [
       "      MPG  Cylinders  Displacement  Horsepower  Weight  Acceleration  \\\n",
       "393  27.0          4         140.0        86.0  2790.0          15.6   \n",
       "394  44.0          4          97.0        52.0  2130.0          24.6   \n",
       "395  32.0          4         135.0        84.0  2295.0          11.6   \n",
       "396  28.0          4         120.0        79.0  2625.0          18.6   \n",
       "397  31.0          4         119.0        82.0  2720.0          19.4   \n",
       "\n",
       "     Model Year  Origin  \n",
       "393          82       1  \n",
       "394          82       2  \n",
       "395          82       1  \n",
       "396          82       1  \n",
       "397          82       1  "
      ]
     },
     "execution_count": 3,
     "metadata": {},
     "output_type": "execute_result"
    }
   ],
   "source": [
    "column_names = ['MPG','Cylinders','Displacement','Horsepower','Weight',\n",
    "                'Acceleration', 'Model Year', 'Origin']\n",
    "\n",
    "raw_dataset = pd.read_csv(dataset_path, names = column_names,\n",
    "                      na_values = \"?\", comment = '\\t',\n",
    "                      sep=\" \", skipinitialspace = True)\n",
    "\n",
    "dataset = raw_dataset.copy()\n",
    "dataset.tail()"
   ]
  },
  {
   "cell_type": "code",
   "execution_count": 4,
   "metadata": {},
   "outputs": [
    {
     "data": {
      "text/plain": [
       "MPG             0\n",
       "Cylinders       0\n",
       "Displacement    0\n",
       "Horsepower      6\n",
       "Weight          0\n",
       "Acceleration    0\n",
       "Model Year      0\n",
       "Origin          0\n",
       "dtype: int64"
      ]
     },
     "execution_count": 4,
     "metadata": {},
     "output_type": "execute_result"
    }
   ],
   "source": [
    "# check for NA rows\n",
    "\n",
    "dataset.isna().sum()"
   ]
  },
  {
   "cell_type": "code",
   "execution_count": 5,
   "metadata": {},
   "outputs": [],
   "source": [
    "# Drop NA rows\n",
    "\n",
    "dataset = dataset.dropna()"
   ]
  },
  {
   "cell_type": "code",
   "execution_count": 6,
   "metadata": {},
   "outputs": [
    {
     "data": {
      "text/html": [
       "<div>\n",
       "<style scoped>\n",
       "    .dataframe tbody tr th:only-of-type {\n",
       "        vertical-align: middle;\n",
       "    }\n",
       "\n",
       "    .dataframe tbody tr th {\n",
       "        vertical-align: top;\n",
       "    }\n",
       "\n",
       "    .dataframe thead th {\n",
       "        text-align: right;\n",
       "    }\n",
       "</style>\n",
       "<table border=\"1\" class=\"dataframe\">\n",
       "  <thead>\n",
       "    <tr style=\"text-align: right;\">\n",
       "      <th></th>\n",
       "      <th>MPG</th>\n",
       "      <th>Cylinders</th>\n",
       "      <th>Displacement</th>\n",
       "      <th>Horsepower</th>\n",
       "      <th>Weight</th>\n",
       "      <th>Acceleration</th>\n",
       "      <th>Model Year</th>\n",
       "      <th>Origin</th>\n",
       "    </tr>\n",
       "  </thead>\n",
       "  <tbody>\n",
       "    <tr>\n",
       "      <th>393</th>\n",
       "      <td>27.0</td>\n",
       "      <td>4</td>\n",
       "      <td>140.0</td>\n",
       "      <td>86.0</td>\n",
       "      <td>2790.0</td>\n",
       "      <td>15.6</td>\n",
       "      <td>82</td>\n",
       "      <td>USA</td>\n",
       "    </tr>\n",
       "    <tr>\n",
       "      <th>394</th>\n",
       "      <td>44.0</td>\n",
       "      <td>4</td>\n",
       "      <td>97.0</td>\n",
       "      <td>52.0</td>\n",
       "      <td>2130.0</td>\n",
       "      <td>24.6</td>\n",
       "      <td>82</td>\n",
       "      <td>Europe</td>\n",
       "    </tr>\n",
       "    <tr>\n",
       "      <th>395</th>\n",
       "      <td>32.0</td>\n",
       "      <td>4</td>\n",
       "      <td>135.0</td>\n",
       "      <td>84.0</td>\n",
       "      <td>2295.0</td>\n",
       "      <td>11.6</td>\n",
       "      <td>82</td>\n",
       "      <td>USA</td>\n",
       "    </tr>\n",
       "    <tr>\n",
       "      <th>396</th>\n",
       "      <td>28.0</td>\n",
       "      <td>4</td>\n",
       "      <td>120.0</td>\n",
       "      <td>79.0</td>\n",
       "      <td>2625.0</td>\n",
       "      <td>18.6</td>\n",
       "      <td>82</td>\n",
       "      <td>USA</td>\n",
       "    </tr>\n",
       "    <tr>\n",
       "      <th>397</th>\n",
       "      <td>31.0</td>\n",
       "      <td>4</td>\n",
       "      <td>119.0</td>\n",
       "      <td>82.0</td>\n",
       "      <td>2720.0</td>\n",
       "      <td>19.4</td>\n",
       "      <td>82</td>\n",
       "      <td>USA</td>\n",
       "    </tr>\n",
       "  </tbody>\n",
       "</table>\n",
       "</div>"
      ],
      "text/plain": [
       "      MPG  Cylinders  Displacement  Horsepower  Weight  Acceleration  \\\n",
       "393  27.0          4         140.0        86.0  2790.0          15.6   \n",
       "394  44.0          4          97.0        52.0  2130.0          24.6   \n",
       "395  32.0          4         135.0        84.0  2295.0          11.6   \n",
       "396  28.0          4         120.0        79.0  2625.0          18.6   \n",
       "397  31.0          4         119.0        82.0  2720.0          19.4   \n",
       "\n",
       "     Model Year  Origin  \n",
       "393          82     USA  \n",
       "394          82  Europe  \n",
       "395          82     USA  \n",
       "396          82     USA  \n",
       "397          82     USA  "
      ]
     },
     "execution_count": 6,
     "metadata": {},
     "output_type": "execute_result"
    }
   ],
   "source": [
    "# Convert to one hot encode for country of origin \n",
    "\n",
    "dataset['Origin'] = dataset['Origin'].map({1: 'USA', 2: 'Europe', 3: 'Japan'})\n",
    "dataset.tail()"
   ]
  },
  {
   "cell_type": "code",
   "execution_count": 7,
   "metadata": {},
   "outputs": [
    {
     "data": {
      "text/html": [
       "<div>\n",
       "<style scoped>\n",
       "    .dataframe tbody tr th:only-of-type {\n",
       "        vertical-align: middle;\n",
       "    }\n",
       "\n",
       "    .dataframe tbody tr th {\n",
       "        vertical-align: top;\n",
       "    }\n",
       "\n",
       "    .dataframe thead th {\n",
       "        text-align: right;\n",
       "    }\n",
       "</style>\n",
       "<table border=\"1\" class=\"dataframe\">\n",
       "  <thead>\n",
       "    <tr style=\"text-align: right;\">\n",
       "      <th></th>\n",
       "      <th>MPG</th>\n",
       "      <th>Cylinders</th>\n",
       "      <th>Displacement</th>\n",
       "      <th>Horsepower</th>\n",
       "      <th>Weight</th>\n",
       "      <th>Acceleration</th>\n",
       "      <th>Model Year</th>\n",
       "      <th>Europe</th>\n",
       "      <th>Japan</th>\n",
       "      <th>USA</th>\n",
       "    </tr>\n",
       "  </thead>\n",
       "  <tbody>\n",
       "    <tr>\n",
       "      <th>393</th>\n",
       "      <td>27.0</td>\n",
       "      <td>4</td>\n",
       "      <td>140.0</td>\n",
       "      <td>86.0</td>\n",
       "      <td>2790.0</td>\n",
       "      <td>15.6</td>\n",
       "      <td>82</td>\n",
       "      <td>0</td>\n",
       "      <td>0</td>\n",
       "      <td>1</td>\n",
       "    </tr>\n",
       "    <tr>\n",
       "      <th>394</th>\n",
       "      <td>44.0</td>\n",
       "      <td>4</td>\n",
       "      <td>97.0</td>\n",
       "      <td>52.0</td>\n",
       "      <td>2130.0</td>\n",
       "      <td>24.6</td>\n",
       "      <td>82</td>\n",
       "      <td>1</td>\n",
       "      <td>0</td>\n",
       "      <td>0</td>\n",
       "    </tr>\n",
       "    <tr>\n",
       "      <th>395</th>\n",
       "      <td>32.0</td>\n",
       "      <td>4</td>\n",
       "      <td>135.0</td>\n",
       "      <td>84.0</td>\n",
       "      <td>2295.0</td>\n",
       "      <td>11.6</td>\n",
       "      <td>82</td>\n",
       "      <td>0</td>\n",
       "      <td>0</td>\n",
       "      <td>1</td>\n",
       "    </tr>\n",
       "    <tr>\n",
       "      <th>396</th>\n",
       "      <td>28.0</td>\n",
       "      <td>4</td>\n",
       "      <td>120.0</td>\n",
       "      <td>79.0</td>\n",
       "      <td>2625.0</td>\n",
       "      <td>18.6</td>\n",
       "      <td>82</td>\n",
       "      <td>0</td>\n",
       "      <td>0</td>\n",
       "      <td>1</td>\n",
       "    </tr>\n",
       "    <tr>\n",
       "      <th>397</th>\n",
       "      <td>31.0</td>\n",
       "      <td>4</td>\n",
       "      <td>119.0</td>\n",
       "      <td>82.0</td>\n",
       "      <td>2720.0</td>\n",
       "      <td>19.4</td>\n",
       "      <td>82</td>\n",
       "      <td>0</td>\n",
       "      <td>0</td>\n",
       "      <td>1</td>\n",
       "    </tr>\n",
       "  </tbody>\n",
       "</table>\n",
       "</div>"
      ],
      "text/plain": [
       "      MPG  Cylinders  Displacement  Horsepower  Weight  Acceleration  \\\n",
       "393  27.0          4         140.0        86.0  2790.0          15.6   \n",
       "394  44.0          4          97.0        52.0  2130.0          24.6   \n",
       "395  32.0          4         135.0        84.0  2295.0          11.6   \n",
       "396  28.0          4         120.0        79.0  2625.0          18.6   \n",
       "397  31.0          4         119.0        82.0  2720.0          19.4   \n",
       "\n",
       "     Model Year  Europe  Japan  USA  \n",
       "393          82       0      0    1  \n",
       "394          82       1      0    0  \n",
       "395          82       0      0    1  \n",
       "396          82       0      0    1  \n",
       "397          82       0      0    1  "
      ]
     },
     "execution_count": 7,
     "metadata": {},
     "output_type": "execute_result"
    }
   ],
   "source": [
    "dataset = pd.get_dummies(dataset, prefix = '', prefix_sep = '')\n",
    "dataset.tail()"
   ]
  },
  {
   "cell_type": "code",
   "execution_count": 8,
   "metadata": {},
   "outputs": [],
   "source": [
    "train_dataset = dataset.sample(frac = 0.8,random_state = 42)\n",
    "test_dataset = dataset.drop(train_dataset.index)"
   ]
  },
  {
   "cell_type": "code",
   "execution_count": 9,
   "metadata": {},
   "outputs": [
    {
     "data": {
      "text/plain": [
       "<seaborn.axisgrid.PairGrid at 0x7fb50be31a10>"
      ]
     },
     "execution_count": 9,
     "metadata": {},
     "output_type": "execute_result"
    },
    {
     "data": {
      "image/png": "[encoded data removed]",
      "text/plain": [
       "<Figure size 720x720 with 20 Axes>"
      ]
     },
     "metadata": {
      "needs_background": "light"
     },
     "output_type": "display_data"
    }
   ],
   "source": [
    "# Plot dataset cols\n",
    "\n",
    "sns.pairplot(train_dataset[[\"MPG\", \"Cylinders\", \"Displacement\", \"Weight\"]], diag_kind = \"kde\")"
   ]
  },
  {
   "cell_type": "code",
   "execution_count": 10,
   "metadata": {},
   "outputs": [
    {
     "data": {
      "text/html": [
       "<div>\n",
       "<style scoped>\n",
       "    .dataframe tbody tr th:only-of-type {\n",
       "        vertical-align: middle;\n",
       "    }\n",
       "\n",
       "    .dataframe tbody tr th {\n",
       "        vertical-align: top;\n",
       "    }\n",
       "\n",
       "    .dataframe thead th {\n",
       "        text-align: right;\n",
       "    }\n",
       "</style>\n",
       "<table border=\"1\" class=\"dataframe\">\n",
       "  <thead>\n",
       "    <tr style=\"text-align: right;\">\n",
       "      <th></th>\n",
       "      <th>count</th>\n",
       "      <th>mean</th>\n",
       "      <th>std</th>\n",
       "      <th>min</th>\n",
       "      <th>25%</th>\n",
       "      <th>50%</th>\n",
       "      <th>75%</th>\n",
       "      <th>max</th>\n",
       "    </tr>\n",
       "  </thead>\n",
       "  <tbody>\n",
       "    <tr>\n",
       "      <th>Cylinders</th>\n",
       "      <td>314.0</td>\n",
       "      <td>5.531847</td>\n",
       "      <td>1.729449</td>\n",
       "      <td>3.0</td>\n",
       "      <td>4.000</td>\n",
       "      <td>4.0</td>\n",
       "      <td>8.00</td>\n",
       "      <td>8.0</td>\n",
       "    </tr>\n",
       "    <tr>\n",
       "      <th>Displacement</th>\n",
       "      <td>314.0</td>\n",
       "      <td>197.855096</td>\n",
       "      <td>106.501896</td>\n",
       "      <td>68.0</td>\n",
       "      <td>105.000</td>\n",
       "      <td>151.0</td>\n",
       "      <td>302.00</td>\n",
       "      <td>455.0</td>\n",
       "    </tr>\n",
       "    <tr>\n",
       "      <th>Horsepower</th>\n",
       "      <td>314.0</td>\n",
       "      <td>105.971338</td>\n",
       "      <td>39.636557</td>\n",
       "      <td>46.0</td>\n",
       "      <td>76.000</td>\n",
       "      <td>95.0</td>\n",
       "      <td>130.00</td>\n",
       "      <td>230.0</td>\n",
       "    </tr>\n",
       "    <tr>\n",
       "      <th>Weight</th>\n",
       "      <td>314.0</td>\n",
       "      <td>3005.745223</td>\n",
       "      <td>859.060925</td>\n",
       "      <td>1649.0</td>\n",
       "      <td>2231.000</td>\n",
       "      <td>2831.5</td>\n",
       "      <td>3641.75</td>\n",
       "      <td>4955.0</td>\n",
       "    </tr>\n",
       "    <tr>\n",
       "      <th>Acceleration</th>\n",
       "      <td>314.0</td>\n",
       "      <td>15.510828</td>\n",
       "      <td>2.803560</td>\n",
       "      <td>8.0</td>\n",
       "      <td>13.625</td>\n",
       "      <td>15.5</td>\n",
       "      <td>17.00</td>\n",
       "      <td>24.8</td>\n",
       "    </tr>\n",
       "    <tr>\n",
       "      <th>Model Year</th>\n",
       "      <td>314.0</td>\n",
       "      <td>75.910828</td>\n",
       "      <td>3.688989</td>\n",
       "      <td>70.0</td>\n",
       "      <td>73.000</td>\n",
       "      <td>76.0</td>\n",
       "      <td>79.00</td>\n",
       "      <td>82.0</td>\n",
       "    </tr>\n",
       "    <tr>\n",
       "      <th>Europe</th>\n",
       "      <td>314.0</td>\n",
       "      <td>0.171975</td>\n",
       "      <td>0.377961</td>\n",
       "      <td>0.0</td>\n",
       "      <td>0.000</td>\n",
       "      <td>0.0</td>\n",
       "      <td>0.00</td>\n",
       "      <td>1.0</td>\n",
       "    </tr>\n",
       "    <tr>\n",
       "      <th>Japan</th>\n",
       "      <td>314.0</td>\n",
       "      <td>0.203822</td>\n",
       "      <td>0.403481</td>\n",
       "      <td>0.0</td>\n",
       "      <td>0.000</td>\n",
       "      <td>0.0</td>\n",
       "      <td>0.00</td>\n",
       "      <td>1.0</td>\n",
       "    </tr>\n",
       "    <tr>\n",
       "      <th>USA</th>\n",
       "      <td>314.0</td>\n",
       "      <td>0.624204</td>\n",
       "      <td>0.485101</td>\n",
       "      <td>0.0</td>\n",
       "      <td>0.000</td>\n",
       "      <td>1.0</td>\n",
       "      <td>1.00</td>\n",
       "      <td>1.0</td>\n",
       "    </tr>\n",
       "  </tbody>\n",
       "</table>\n",
       "</div>"
      ],
      "text/plain": [
       "              count         mean         std     min       25%     50%  \\\n",
       "Cylinders     314.0     5.531847    1.729449     3.0     4.000     4.0   \n",
       "Displacement  314.0   197.855096  106.501896    68.0   105.000   151.0   \n",
       "Horsepower    314.0   105.971338   39.636557    46.0    76.000    95.0   \n",
       "Weight        314.0  3005.745223  859.060925  1649.0  2231.000  2831.5   \n",
       "Acceleration  314.0    15.510828    2.803560     8.0    13.625    15.5   \n",
       "Model Year    314.0    75.910828    3.688989    70.0    73.000    76.0   \n",
       "Europe        314.0     0.171975    0.377961     0.0     0.000     0.0   \n",
       "Japan         314.0     0.203822    0.403481     0.0     0.000     0.0   \n",
       "USA           314.0     0.624204    0.485101     0.0     0.000     1.0   \n",
       "\n",
       "                  75%     max  \n",
       "Cylinders        8.00     8.0  \n",
       "Displacement   302.00   455.0  \n",
       "Horsepower     130.00   230.0  \n",
       "Weight        3641.75  4955.0  \n",
       "Acceleration    17.00    24.8  \n",
       "Model Year      79.00    82.0  \n",
       "Europe           0.00     1.0  \n",
       "Japan            0.00     1.0  \n",
       "USA              1.00     1.0  "
      ]
     },
     "execution_count": 10,
     "metadata": {},
     "output_type": "execute_result"
    }
   ],
   "source": [
    "train_stats = train_dataset.describe()\n",
    "train_stats.pop(\"MPG\")\n",
    "train_stats = train_stats.transpose()\n",
    "train_stats"
   ]
  },
  {
   "cell_type": "code",
   "execution_count": 11,
   "metadata": {},
   "outputs": [],
   "source": [
    "train_labels = train_dataset.pop('MPG')\n",
    "test_labels = test_dataset.pop('MPG')"
   ]
  },
  {
   "cell_type": "code",
   "execution_count": 12,
   "metadata": {},
   "outputs": [],
   "source": [
    "# Standard Scaler\n",
    "\n",
    "def norm(x):\n",
    "  return (x - train_stats['mean']) / train_stats['std']\n",
    "\n",
    "normed_train_data = norm(train_dataset)\n",
    "normed_test_data = norm(test_dataset)"
   ]
  },
  {
   "cell_type": "code",
   "execution_count": 13,
   "metadata": {},
   "outputs": [],
   "source": [
    "# Build Reg Model\n",
    "\n",
    "def build_model():\n",
    "  model = keras.Sequential([\n",
    "    layers.Dense(64, activation='relu', input_shape = [len(train_dataset.keys())]),\n",
    "    layers.Dense(64, activation='relu'),\n",
    "    layers.Dense(1)\n",
    "  ])\n",
    "\n",
    "  optimizer = tf.keras.optimizers.RMSprop(0.001)\n",
    "\n",
    "  model.compile(loss = 'mse',\n",
    "                optimizer = optimizer,\n",
    "                metrics = ['mae', 'mse'])\n",
    "  return model"
   ]
  },
  {
   "cell_type": "code",
   "execution_count": 14,
   "metadata": {},
   "outputs": [
    {
     "name": "stdout",
     "output_type": "stream",
     "text": [
      "Model: \"sequential\"\n",
      "_________________________________________________________________\n",
      "Layer (type)                 Output Shape              Param #   \n",
      "=================================================================\n",
      "dense (Dense)                (None, 64)                640       \n",
      "_________________________________________________________________\n",
      "dense_1 (Dense)              (None, 64)                4160      \n",
      "_________________________________________________________________\n",
      "dense_2 (Dense)              (None, 1)                 65        \n",
      "=================================================================\n",
      "Total params: 4,865\n",
      "Trainable params: 4,865\n",
      "Non-trainable params: 0\n",
      "_________________________________________________________________\n"
     ]
    }
   ],
   "source": [
    "model = build_model()\n",
    "\n",
    "model.summary()"
   ]
  },
  {
   "cell_type": "code",
   "execution_count": 15,
   "metadata": {},
   "outputs": [
    {
     "name": "stdout",
     "output_type": "stream",
     "text": [
      "\n",
      "Epoch: 0, loss:560.6090,  mae:22.3562,  mse:560.6090,  val_loss:479.0290,  val_mae:20.4241,  val_mse:479.0290,  \n",
      "....................................................................................................\n",
      "Epoch: 100, loss:6.8946,  mae:1.8358,  mse:6.8946,  val_loss:5.0047,  val_mae:1.6895,  val_mse:5.0047,  \n",
      "....................................................................................................\n",
      "Epoch: 200, loss:6.2568,  mae:1.7331,  mse:6.2568,  val_loss:4.7380,  val_mae:1.7137,  val_mse:4.7380,  \n",
      "....................................................................................................\n",
      "Epoch: 300, loss:5.6498,  mae:1.6303,  mse:5.6498,  val_loss:3.8860,  val_mae:1.5412,  val_mse:3.8860,  \n",
      "....................................................................................................\n",
      "Epoch: 400, loss:5.1572,  mae:1.5652,  mse:5.1572,  val_loss:3.9330,  val_mae:1.5312,  val_mse:3.9330,  \n",
      "....................................................................................................\n",
      "Epoch: 500, loss:4.7710,  mae:1.4859,  mse:4.7710,  val_loss:4.1133,  val_mae:1.5690,  val_mse:4.1133,  \n",
      "....................................................................................................\n",
      "Epoch: 600, loss:4.3270,  mae:1.3536,  mse:4.3270,  val_loss:3.8683,  val_mae:1.5634,  val_mse:3.8683,  \n",
      "....................................................................................................\n",
      "Epoch: 700, loss:3.8110,  mae:1.2662,  mse:3.8110,  val_loss:4.1565,  val_mae:1.5149,  val_mse:4.1565,  \n",
      "....................................................................................................\n",
      "Epoch: 800, loss:3.3670,  mae:1.2112,  mse:3.3670,  val_loss:5.2477,  val_mae:1.7142,  val_mse:5.2477,  \n",
      "....................................................................................................\n",
      "Epoch: 900, loss:2.9401,  mae:1.0727,  mse:2.9401,  val_loss:4.4595,  val_mae:1.6693,  val_mse:4.4595,  \n",
      "...................................................................................................."
     ]
    }
   ],
   "source": [
    "EPOCHS = 1000\n",
    "\n",
    "history = model.fit(\n",
    "  normed_train_data, train_labels,\n",
    "  epochs=EPOCHS, validation_split = 0.2, verbose = 0,\n",
    "  callbacks=[tfdocs.modeling.EpochDots()]) # EpochDots reduces noise when training"
   ]
  },
  {
   "cell_type": "code",
   "execution_count": 16,
   "metadata": {},
   "outputs": [
    {
     "data": {
      "text/html": [
       "<div>\n",
       "<style scoped>\n",
       "    .dataframe tbody tr th:only-of-type {\n",
       "        vertical-align: middle;\n",
       "    }\n",
       "\n",
       "    .dataframe tbody tr th {\n",
       "        vertical-align: top;\n",
       "    }\n",
       "\n",
       "    .dataframe thead th {\n",
       "        text-align: right;\n",
       "    }\n",
       "</style>\n",
       "<table border=\"1\" class=\"dataframe\">\n",
       "  <thead>\n",
       "    <tr style=\"text-align: right;\">\n",
       "      <th></th>\n",
       "      <th>loss</th>\n",
       "      <th>mae</th>\n",
       "      <th>mse</th>\n",
       "      <th>val_loss</th>\n",
       "      <th>val_mae</th>\n",
       "      <th>val_mse</th>\n",
       "      <th>epoch</th>\n",
       "    </tr>\n",
       "  </thead>\n",
       "  <tbody>\n",
       "    <tr>\n",
       "      <th>995</th>\n",
       "      <td>2.553236</td>\n",
       "      <td>0.980838</td>\n",
       "      <td>2.553236</td>\n",
       "      <td>4.709698</td>\n",
       "      <td>1.740973</td>\n",
       "      <td>4.709698</td>\n",
       "      <td>995</td>\n",
       "    </tr>\n",
       "    <tr>\n",
       "      <th>996</th>\n",
       "      <td>2.713271</td>\n",
       "      <td>1.047767</td>\n",
       "      <td>2.713270</td>\n",
       "      <td>4.738209</td>\n",
       "      <td>1.707595</td>\n",
       "      <td>4.738210</td>\n",
       "      <td>996</td>\n",
       "    </tr>\n",
       "    <tr>\n",
       "      <th>997</th>\n",
       "      <td>2.743624</td>\n",
       "      <td>1.001065</td>\n",
       "      <td>2.743624</td>\n",
       "      <td>4.774779</td>\n",
       "      <td>1.675912</td>\n",
       "      <td>4.774779</td>\n",
       "      <td>997</td>\n",
       "    </tr>\n",
       "    <tr>\n",
       "      <th>998</th>\n",
       "      <td>2.875447</td>\n",
       "      <td>1.074890</td>\n",
       "      <td>2.875447</td>\n",
       "      <td>5.014554</td>\n",
       "      <td>1.716239</td>\n",
       "      <td>5.014555</td>\n",
       "      <td>998</td>\n",
       "    </tr>\n",
       "    <tr>\n",
       "      <th>999</th>\n",
       "      <td>2.569373</td>\n",
       "      <td>0.984537</td>\n",
       "      <td>2.569373</td>\n",
       "      <td>4.658446</td>\n",
       "      <td>1.726706</td>\n",
       "      <td>4.658446</td>\n",
       "      <td>999</td>\n",
       "    </tr>\n",
       "  </tbody>\n",
       "</table>\n",
       "</div>"
      ],
      "text/plain": [
       "         loss       mae       mse  val_loss   val_mae   val_mse  epoch\n",
       "995  2.553236  0.980838  2.553236  4.709698  1.740973  4.709698    995\n",
       "996  2.713271  1.047767  2.713270  4.738209  1.707595  4.738210    996\n",
       "997  2.743624  1.001065  2.743624  4.774779  1.675912  4.774779    997\n",
       "998  2.875447  1.074890  2.875447  5.014554  1.716239  5.014555    998\n",
       "999  2.569373  0.984537  2.569373  4.658446  1.726706  4.658446    999"
      ]
     },
     "execution_count": 16,
     "metadata": {},
     "output_type": "execute_result"
    }
   ],
   "source": [
    "hist = pd.DataFrame(history.history)\n",
    "hist['epoch'] = history.epoch\n",
    "hist.tail()"
   ]
  },
  {
   "cell_type": "code",
   "execution_count": 17,
   "metadata": {},
   "outputs": [],
   "source": [
    "# Change plots backend for a sec\n",
    "\n",
    "plotter = tfdocs.plots.HistoryPlotter(smoothing_std = 2)"
   ]
  },
  {
   "cell_type": "code",
   "execution_count": 18,
   "metadata": {},
   "outputs": [
    {
     "data": {
      "text/plain": [
       "Text(0, 0.5, 'MAE [MPG]')"
      ]
     },
     "execution_count": 18,
     "metadata": {},
     "output_type": "execute_result"
    },
    {
     "data": {
      "image/png": "[encoded data removed]",
      "text/plain": [
       "<Figure size 432x288 with 1 Axes>"
      ]
     },
     "metadata": {
      "needs_background": "light"
     },
     "output_type": "display_data"
    }
   ],
   "source": [
    "plotter.plot({'Basic': history}, metric = \"mae\")\n",
    "plt.ylim([0, 10])\n",
    "plt.ylabel('MAE [MPG]')"
   ]
  },
  {
   "cell_type": "code",
   "execution_count": 19,
   "metadata": {},
   "outputs": [
    {
     "data": {
      "text/plain": [
       "Text(0, 0.5, 'MSE [MPG^2]')"
      ]
     },
     "execution_count": 19,
     "metadata": {},
     "output_type": "execute_result"
    },
    {
     "data": {
      "image/png": "[encoded data removed]",
      "text/plain": [
       "<Figure size 432x288 with 1 Axes>"
      ]
     },
     "metadata": {
      "needs_background": "light"
     },
     "output_type": "display_data"
    }
   ],
   "source": [
    "plotter.plot({'Basic': history}, metric = \"mse\")\n",
    "plt.ylim([0, 20])\n",
    "plt.ylabel('MSE [MPG^2]')"
   ]
  },
  {
   "cell_type": "code",
   "execution_count": 20,
   "metadata": {},
   "outputs": [
    {
     "name": "stdout",
     "output_type": "stream",
     "text": [
      "Train on 251 samples, validate on 63 samples\n",
      "Epoch 1/1000\n",
      " 32/251 [==>...........................] - ETA: 2s - loss: 644.5775 - mae: 24.3536 - mse: 644.5775\n",
      "Epoch: 0, loss:595.9814,  mae:23.0159,  mse:595.9814,  val_loss:508.6809,  val_mae:21.0342,  val_mse:508.6809,  \n",
      "251/251 [==============================] - 0s 2ms/sample - loss: 595.9814 - mae: 23.0159 - mse: 595.9814 - val_loss: 508.6809 - val_mae: 21.0342 - val_mse: 508.6809\n",
      "Epoch 2/1000\n",
      "251/251 [==============================] - 0s 213us/sample - loss: 547.9487 - mae: 21.9628 - mse: 547.9487 - val_loss: 468.7771 - val_mae: 20.0657 - val_mse: 468.7771\n",
      "Epoch 3/1000\n",
      "251/251 [==============================] - 0s 217us/sample - loss: 502.6416 - mae: 20.9286 - mse: 502.6416 - val_loss: 427.9499 - val_mae: 19.0277 - val_mse: 427.9499\n",
      "Epoch 4/1000\n",
      "251/251 [==============================] - 0s 214us/sample - loss: 453.7878 - mae: 19.7958 - mse: 453.7878 - val_loss: 382.8785 - val_mae: 17.8504 - val_mse: 382.8785\n",
      "Epoch 5/1000\n",
      "251/251 [==============================] - 0s 194us/sample - loss: 400.2686 - mae: 18.4684 - mse: 400.2686 - val_loss: 335.2990 - val_mae: 16.5266 - val_mse: 335.2990\n",
      "Epoch 6/1000\n",
      "251/251 [==============================] - 0s 217us/sample - loss: 343.4180 - mae: 16.9548 - mse: 343.4181 - val_loss: 285.7551 - val_mae: 15.0509 - val_mse: 285.7551\n",
      "Epoch 7/1000\n",
      "251/251 [==============================] - 0s 192us/sample - loss: 284.7616 - mae: 15.2940 - mse: 284.7616 - val_loss: 235.6037 - val_mae: 13.4524 - val_mse: 235.6037\n",
      "Epoch 8/1000\n",
      "251/251 [==============================] - 0s 213us/sample - loss: 227.1224 - mae: 13.4810 - mse: 227.1224 - val_loss: 188.4620 - val_mae: 11.9011 - val_mse: 188.4620\n",
      "Epoch 9/1000\n",
      "251/251 [==============================] - 0s 210us/sample - loss: 173.3802 - mae: 11.6623 - mse: 173.3802 - val_loss: 144.8806 - val_mae: 10.2682 - val_mse: 144.8806\n",
      "Epoch 10/1000\n",
      "251/251 [==============================] - 0s 204us/sample - loss: 125.9302 - mae: 9.7877 - mse: 125.9302 - val_loss: 108.1380 - val_mae: 8.8110 - val_mse: 108.1380\n",
      "Epoch 11/1000\n",
      "251/251 [==============================] - 0s 210us/sample - loss: 87.8781 - mae: 7.9469 - mse: 87.8781 - val_loss: 79.2119 - val_mae: 7.4343 - val_mse: 79.2119\n",
      "Epoch 12/1000\n",
      "251/251 [==============================] - 0s 214us/sample - loss: 60.4809 - mae: 6.3874 - mse: 60.4809 - val_loss: 58.3285 - val_mae: 6.2346 - val_mse: 58.3285\n",
      "Epoch 13/1000\n",
      "251/251 [==============================] - 0s 205us/sample - loss: 42.9720 - mae: 5.2939 - mse: 42.9720 - val_loss: 44.2426 - val_mae: 5.2612 - val_mse: 44.2426\n",
      "Epoch 14/1000\n",
      "251/251 [==============================] - 0s 210us/sample - loss: 32.9671 - mae: 4.6134 - mse: 32.9671 - val_loss: 34.9698 - val_mae: 4.5983 - val_mse: 34.9698\n",
      "Epoch 15/1000\n",
      "251/251 [==============================] - 0s 205us/sample - loss: 26.7662 - mae: 4.1549 - mse: 26.7662 - val_loss: 27.9765 - val_mae: 4.1057 - val_mse: 27.9765\n",
      "Epoch 16/1000\n",
      "251/251 [==============================] - 0s 201us/sample - loss: 22.3841 - mae: 3.7949 - mse: 22.3841 - val_loss: 22.9958 - val_mae: 3.7073 - val_mse: 22.9958\n",
      "Epoch 17/1000\n",
      "251/251 [==============================] - 0s 211us/sample - loss: 19.1468 - mae: 3.4778 - mse: 19.1468 - val_loss: 18.7371 - val_mae: 3.3315 - val_mse: 18.7371\n",
      "Epoch 18/1000\n",
      "251/251 [==============================] - 0s 241us/sample - loss: 16.4448 - mae: 3.2618 - mse: 16.4448 - val_loss: 15.8286 - val_mae: 3.0521 - val_mse: 15.8286\n",
      "Epoch 19/1000\n",
      "251/251 [==============================] - 0s 232us/sample - loss: 14.5626 - mae: 3.0266 - mse: 14.5626 - val_loss: 13.2265 - val_mae: 2.7873 - val_mse: 13.2265\n",
      "Epoch 20/1000\n",
      "251/251 [==============================] - 0s 239us/sample - loss: 13.2874 - mae: 2.8706 - mse: 13.2874 - val_loss: 11.7867 - val_mae: 2.5922 - val_mse: 11.7867\n",
      "Epoch 21/1000\n",
      "251/251 [==============================] - 0s 236us/sample - loss: 12.1626 - mae: 2.7354 - mse: 12.1626 - val_loss: 10.6057 - val_mae: 2.4249 - val_mse: 10.6057\n",
      "Epoch 22/1000\n",
      "251/251 [==============================] - 0s 208us/sample - loss: 11.4121 - mae: 2.6167 - mse: 11.4121 - val_loss: 9.8661 - val_mae: 2.3526 - val_mse: 9.8661\n",
      "Epoch 23/1000\n",
      "251/251 [==============================] - 0s 230us/sample - loss: 11.0844 - mae: 2.5209 - mse: 11.0844 - val_loss: 9.3999 - val_mae: 2.2559 - val_mse: 9.3999\n",
      "Epoch 24/1000\n",
      "251/251 [==============================] - 0s 255us/sample - loss: 10.2555 - mae: 2.4014 - mse: 10.2555 - val_loss: 9.1772 - val_mae: 2.2453 - val_mse: 9.1772\n",
      "Epoch 25/1000\n",
      "251/251 [==============================] - 0s 240us/sample - loss: 10.1950 - mae: 2.3773 - mse: 10.1950 - val_loss: 8.1507 - val_mae: 2.0998 - val_mse: 8.1507\n",
      "Epoch 26/1000\n",
      "251/251 [==============================] - 0s 218us/sample - loss: 9.6072 - mae: 2.2977 - mse: 9.6072 - val_loss: 7.7256 - val_mae: 2.0377 - val_mse: 7.7256\n",
      "Epoch 27/1000\n",
      "251/251 [==============================] - 0s 198us/sample - loss: 9.3793 - mae: 2.2698 - mse: 9.3793 - val_loss: 8.1028 - val_mae: 2.0718 - val_mse: 8.1028\n",
      "Epoch 28/1000\n",
      "251/251 [==============================] - 0s 216us/sample - loss: 9.4129 - mae: 2.2512 - mse: 9.4129 - val_loss: 7.5049 - val_mae: 2.0067 - val_mse: 7.5049\n",
      "Epoch 29/1000\n",
      "251/251 [==============================] - 0s 181us/sample - loss: 9.2706 - mae: 2.2280 - mse: 9.2706 - val_loss: 7.6400 - val_mae: 2.0043 - val_mse: 7.6400\n",
      "Epoch 30/1000\n",
      "251/251 [==============================] - 0s 220us/sample - loss: 8.9710 - mae: 2.1913 - mse: 8.9710 - val_loss: 7.2189 - val_mae: 1.9812 - val_mse: 7.2189\n",
      "Epoch 31/1000\n",
      "251/251 [==============================] - 0s 231us/sample - loss: 8.9350 - mae: 2.1509 - mse: 8.9350 - val_loss: 7.1701 - val_mae: 1.9552 - val_mse: 7.1701\n",
      "Epoch 32/1000\n",
      "251/251 [==============================] - 0s 222us/sample - loss: 8.6366 - mae: 2.1311 - mse: 8.6366 - val_loss: 7.0110 - val_mae: 1.9113 - val_mse: 7.0110\n",
      "Epoch 33/1000\n",
      "251/251 [==============================] - 0s 238us/sample - loss: 8.7000 - mae: 2.1348 - mse: 8.7000 - val_loss: 7.5897 - val_mae: 2.0266 - val_mse: 7.5897\n",
      "Epoch 34/1000\n",
      "251/251 [==============================] - 0s 239us/sample - loss: 8.4325 - mae: 2.0889 - mse: 8.4325 - val_loss: 6.7959 - val_mae: 1.9008 - val_mse: 6.7959\n",
      "Epoch 35/1000\n",
      "251/251 [==============================] - 0s 239us/sample - loss: 8.4143 - mae: 2.0777 - mse: 8.4143 - val_loss: 6.8955 - val_mae: 1.9201 - val_mse: 6.8955\n",
      "Epoch 36/1000\n",
      "251/251 [==============================] - 0s 180us/sample - loss: 8.4670 - mae: 2.0849 - mse: 8.4670 - val_loss: 6.6450 - val_mae: 1.8798 - val_mse: 6.6450\n",
      "Epoch 37/1000\n",
      "251/251 [==============================] - 0s 187us/sample - loss: 8.1732 - mae: 2.0412 - mse: 8.1732 - val_loss: 6.5263 - val_mae: 1.8591 - val_mse: 6.5263\n",
      "Epoch 38/1000\n",
      "251/251 [==============================] - 0s 214us/sample - loss: 8.1144 - mae: 2.0525 - mse: 8.1144 - val_loss: 6.6666 - val_mae: 1.8967 - val_mse: 6.6666\n",
      "Epoch 39/1000\n",
      "251/251 [==============================] - 0s 191us/sample - loss: 7.9907 - mae: 2.0052 - mse: 7.9907 - val_loss: 6.4898 - val_mae: 1.8519 - val_mse: 6.4898\n",
      "Epoch 40/1000\n",
      "251/251 [==============================] - 0s 211us/sample - loss: 7.9581 - mae: 2.0105 - mse: 7.9581 - val_loss: 6.1895 - val_mae: 1.8548 - val_mse: 6.1895\n",
      "Epoch 41/1000\n",
      "251/251 [==============================] - 0s 192us/sample - loss: 8.0202 - mae: 2.0171 - mse: 8.0202 - val_loss: 6.1874 - val_mae: 1.8305 - val_mse: 6.1874\n",
      "Epoch 42/1000\n",
      "251/251 [==============================] - 0s 223us/sample - loss: 7.7987 - mae: 1.9767 - mse: 7.7987 - val_loss: 6.3701 - val_mae: 1.8897 - val_mse: 6.3701\n",
      "Epoch 43/1000\n",
      "251/251 [==============================] - 0s 187us/sample - loss: 8.1207 - mae: 2.0456 - mse: 8.1207 - val_loss: 6.2181 - val_mae: 1.8672 - val_mse: 6.2181\n",
      "Epoch 44/1000\n",
      "251/251 [==============================] - 0s 206us/sample - loss: 7.9473 - mae: 1.9743 - mse: 7.9473 - val_loss: 6.4089 - val_mae: 1.8829 - val_mse: 6.4089\n",
      "Epoch 45/1000\n",
      "251/251 [==============================] - 0s 204us/sample - loss: 7.6940 - mae: 1.9574 - mse: 7.6940 - val_loss: 6.3676 - val_mae: 1.8583 - val_mse: 6.3676\n",
      "Epoch 46/1000\n"
     ]
    },
    {
     "name": "stdout",
     "output_type": "stream",
     "text": [
      "251/251 [==============================] - 0s 200us/sample - loss: 7.9701 - mae: 2.0239 - mse: 7.9701 - val_loss: 6.1276 - val_mae: 1.8401 - val_mse: 6.1276\n",
      "Epoch 47/1000\n",
      "251/251 [==============================] - 0s 199us/sample - loss: 7.7123 - mae: 1.9545 - mse: 7.7123 - val_loss: 6.1364 - val_mae: 1.8184 - val_mse: 6.1364\n",
      "Epoch 48/1000\n",
      "251/251 [==============================] - 0s 210us/sample - loss: 7.5988 - mae: 1.9523 - mse: 7.5988 - val_loss: 5.9227 - val_mae: 1.8168 - val_mse: 5.9227\n",
      "Epoch 49/1000\n",
      "251/251 [==============================] - 0s 190us/sample - loss: 7.8692 - mae: 1.9663 - mse: 7.8692 - val_loss: 5.9699 - val_mae: 1.7853 - val_mse: 5.9699\n",
      "Epoch 50/1000\n",
      "251/251 [==============================] - 0s 211us/sample - loss: 7.5599 - mae: 1.9376 - mse: 7.5599 - val_loss: 6.0252 - val_mae: 1.8172 - val_mse: 6.0252\n",
      "Epoch 51/1000\n",
      "251/251 [==============================] - 0s 232us/sample - loss: 7.7172 - mae: 1.9670 - mse: 7.7172 - val_loss: 5.7708 - val_mae: 1.7592 - val_mse: 5.7708\n",
      "Epoch 52/1000\n",
      "251/251 [==============================] - 0s 243us/sample - loss: 7.5675 - mae: 1.9427 - mse: 7.5675 - val_loss: 6.1546 - val_mae: 1.8366 - val_mse: 6.1546\n",
      "Epoch 53/1000\n",
      "251/251 [==============================] - 0s 266us/sample - loss: 7.4496 - mae: 1.9237 - mse: 7.4496 - val_loss: 5.8096 - val_mae: 1.7714 - val_mse: 5.8096\n",
      "Epoch 54/1000\n",
      "251/251 [==============================] - 0s 224us/sample - loss: 7.6868 - mae: 1.9623 - mse: 7.6868 - val_loss: 5.6556 - val_mae: 1.7577 - val_mse: 5.6556\n",
      "Epoch 55/1000\n",
      "251/251 [==============================] - 0s 236us/sample - loss: 7.6216 - mae: 1.9566 - mse: 7.6216 - val_loss: 5.9107 - val_mae: 1.7829 - val_mse: 5.9107\n",
      "Epoch 56/1000\n",
      "251/251 [==============================] - 0s 218us/sample - loss: 7.4898 - mae: 1.9232 - mse: 7.4898 - val_loss: 6.3294 - val_mae: 1.8532 - val_mse: 6.3294\n",
      "Epoch 57/1000\n",
      "251/251 [==============================] - 0s 211us/sample - loss: 7.5219 - mae: 1.9255 - mse: 7.5219 - val_loss: 5.5215 - val_mae: 1.7282 - val_mse: 5.5215\n",
      "Epoch 58/1000\n",
      "251/251 [==============================] - 0s 209us/sample - loss: 7.4026 - mae: 1.9121 - mse: 7.4026 - val_loss: 5.6972 - val_mae: 1.7665 - val_mse: 5.6972\n",
      "Epoch 59/1000\n",
      "251/251 [==============================] - 0s 218us/sample - loss: 7.4674 - mae: 1.9340 - mse: 7.4674 - val_loss: 5.5768 - val_mae: 1.7669 - val_mse: 5.5768\n",
      "Epoch 60/1000\n",
      "251/251 [==============================] - 0s 203us/sample - loss: 7.5406 - mae: 1.9290 - mse: 7.5406 - val_loss: 5.7390 - val_mae: 1.7544 - val_mse: 5.7390\n",
      "Epoch 61/1000\n",
      "251/251 [==============================] - 0s 205us/sample - loss: 7.2895 - mae: 1.9070 - mse: 7.2895 - val_loss: 5.5784 - val_mae: 1.7543 - val_mse: 5.5784\n",
      "Epoch 62/1000\n",
      "251/251 [==============================] - 0s 209us/sample - loss: 7.1150 - mae: 1.8694 - mse: 7.1150 - val_loss: 5.7863 - val_mae: 1.7693 - val_mse: 5.7863\n",
      "Epoch 63/1000\n",
      "251/251 [==============================] - 0s 199us/sample - loss: 7.3952 - mae: 1.9501 - mse: 7.3952 - val_loss: 5.6267 - val_mae: 1.7338 - val_mse: 5.6267\n",
      "Epoch 64/1000\n",
      "251/251 [==============================] - 0s 193us/sample - loss: 7.2644 - mae: 1.9272 - mse: 7.2644 - val_loss: 5.7801 - val_mae: 1.7541 - val_mse: 5.7801\n",
      "Epoch 65/1000\n",
      "251/251 [==============================] - 0s 205us/sample - loss: 7.1803 - mae: 1.9022 - mse: 7.1803 - val_loss: 5.5610 - val_mae: 1.7557 - val_mse: 5.5610\n",
      "Epoch 66/1000\n",
      "251/251 [==============================] - 0s 198us/sample - loss: 7.5791 - mae: 1.9302 - mse: 7.5791 - val_loss: 5.6205 - val_mae: 1.7318 - val_mse: 5.6205\n",
      "Epoch 67/1000\n",
      "251/251 [==============================] - 0s 199us/sample - loss: 7.1640 - mae: 1.9096 - mse: 7.1640 - val_loss: 6.2674 - val_mae: 1.8371 - val_mse: 6.2674\n"
     ]
    }
   ],
   "source": [
    "model = build_model()\n",
    "\n",
    "early_stop = keras.callbacks.EarlyStopping(monitor = 'val_loss', patience = 10)\n",
    "\n",
    "early_history = model.fit(normed_train_data, train_labels, \n",
    "                    epochs = EPOCHS, validation_split = 0.2, verbose = 1, \n",
    "                    callbacks = [early_stop, tfdocs.modeling.EpochDots()]) "
   ]
  },
  {
   "cell_type": "code",
   "execution_count": 21,
   "metadata": {},
   "outputs": [
    {
     "data": {
      "text/plain": [
       "Text(0, 0.5, 'MAE [MPG]')"
      ]
     },
     "execution_count": 21,
     "metadata": {},
     "output_type": "execute_result"
    },
    {
     "data": {
      "image/png": "[encoded data removed]",
      "text/plain": [
       "<Figure size 432x288 with 1 Axes>"
      ]
     },
     "metadata": {
      "needs_background": "light"
     },
     "output_type": "display_data"
    }
   ],
   "source": [
    "plotter.plot({'Early Stopping': early_history}, metric = \"mae\")\n",
    "plt.ylim([0, 10])\n",
    "plt.ylabel('MAE [MPG]')"
   ]
  },
  {
   "cell_type": "code",
   "execution_count": 22,
   "metadata": {},
   "outputs": [
    {
     "name": "stdout",
     "output_type": "stream",
     "text": [
      "78/78 - 0s - loss: 8.3093 - mae: 2.0940 - mse: 8.3093\n",
      "Testing set Mean Abs Error:  2.09 MPG\n"
     ]
    }
   ],
   "source": [
    "loss, mae, mse = model.evaluate(normed_test_data, test_labels, verbose = 2)\n",
    "\n",
    "print(\"Testing set Mean Abs Error: {:5.2f} MPG\".format(mae))"
   ]
  },
  {
   "cell_type": "code",
   "execution_count": 23,
   "metadata": {},
   "outputs": [
    {
     "data": {
      "image/png": "[encoded data removed]",
      "text/plain": [
       "<Figure size 432x288 with 1 Axes>"
      ]
     },
     "metadata": {
      "needs_background": "light"
     },
     "output_type": "display_data"
    }
   ],
   "source": [
    "# Predict on dataset\n",
    "\n",
    "test_predictions = model.predict(normed_test_data).flatten()\n",
    "\n",
    "a = plt.axes(aspect='equal')\n",
    "plt.scatter(test_labels, test_predictions)\n",
    "plt.xlabel('True Values [MPG]')\n",
    "plt.ylabel('Predictions [MPG]')\n",
    "lims = [0, 50]\n",
    "plt.xlim(lims)\n",
    "plt.ylim(lims)\n",
    "_ = plt.plot(lims, lims)"
   ]
  },
  {
   "cell_type": "code",
   "execution_count": 24,
   "metadata": {},
   "outputs": [
    {
     "data": {
      "image/png": "[encoded data removed]",
      "text/plain": [
       "<Figure size 432x288 with 1 Axes>"
      ]
     },
     "metadata": {
      "needs_background": "light"
     },
     "output_type": "display_data"
    }
   ],
   "source": [
    "# Error Distribution\n",
    "\n",
    "error = test_predictions - test_labels\n",
    "plt.hist(error, bins = 25)\n",
    "plt.xlabel(\"Prediction Error [MPG]\")\n",
    "_ = plt.ylabel(\"Count\")"
   ]
  },
  {
   "cell_type": "code",
   "execution_count": null,
   "metadata": {},
   "outputs": [],
   "source": []
  }
 ],
 "metadata": {
  "kernelspec": {
   "display_name": "Python 3",
   "language": "python",
   "name": "python3"
  },
  "language_info": {
   "codemirror_mode": {
    "name": "ipython",
    "version": 3
   },
   "file_extension": ".py",
   "mimetype": "text/x-python",
   "name": "python",
   "nbconvert_exporter": "python",
   "pygments_lexer": "ipython3",
   "version": "3.7.6"
  }
 },
 "nbformat": 4,
 "nbformat_minor": 4
}
