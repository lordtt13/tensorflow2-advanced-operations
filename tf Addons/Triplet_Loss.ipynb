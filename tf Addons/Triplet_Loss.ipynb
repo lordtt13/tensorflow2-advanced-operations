{
  "nbformat": 4,
  "nbformat_minor": 0,
  "metadata": {
    "colab": {
      "name": "Triplet Loss.ipynb",
      "provenance": []
    },
    "kernelspec": {
      "name": "python3",
      "display_name": "Python 3"
    },
    "accelerator": "GPU",
    "widgets": {
      "application/vnd.jupyter.widget-state+json": {
        "c5ff7db3ccf740338fac0c531b8906b5": {
          "model_module": "@jupyter-widgets/controls",
          "model_name": "HBoxModel",
          "state": {
            "_view_name": "HBoxView",
            "_dom_classes": [],
            "_model_name": "HBoxModel",
            "_view_module": "@jupyter-widgets/controls",
            "_model_module_version": "1.5.0",
            "_view_count": null,
            "_view_module_version": "1.5.0",
            "box_style": "",
            "layout": "IPY_MODEL_c866c14694d64f4d905e89f3ca13b1d2",
            "_model_module": "@jupyter-widgets/controls",
            "children": [
              "IPY_MODEL_0535a8a8ffeb49919b3329c5a3a090d4",
              "IPY_MODEL_0fd8b7f6df4740e7a8c87ad30cdfce31"
            ]
          }
        },
        "c866c14694d64f4d905e89f3ca13b1d2": {
          "model_module": "@jupyter-widgets/base",
          "model_name": "LayoutModel",
          "state": {
            "_view_name": "LayoutView",
            "grid_template_rows": null,
            "right": null,
            "justify_content": null,
            "_view_module": "@jupyter-widgets/base",
            "overflow": null,
            "_model_module_version": "1.2.0",
            "_view_count": null,
            "flex_flow": null,
            "width": null,
            "min_width": null,
            "border": null,
            "align_items": null,
            "bottom": null,
            "_model_module": "@jupyter-widgets/base",
            "top": null,
            "grid_column": null,
            "overflow_y": null,
            "overflow_x": null,
            "grid_auto_flow": null,
            "grid_area": null,
            "grid_template_columns": null,
            "flex": null,
            "_model_name": "LayoutModel",
            "justify_items": null,
            "grid_row": null,
            "max_height": null,
            "align_content": null,
            "visibility": null,
            "align_self": null,
            "height": null,
            "min_height": null,
            "padding": null,
            "grid_auto_rows": null,
            "grid_gap": null,
            "max_width": null,
            "order": null,
            "_view_module_version": "1.2.0",
            "grid_template_areas": null,
            "object_position": null,
            "object_fit": null,
            "grid_auto_columns": null,
            "margin": null,
            "display": null,
            "left": null
          }
        },
        "0535a8a8ffeb49919b3329c5a3a090d4": {
          "model_module": "@jupyter-widgets/controls",
          "model_name": "FloatProgressModel",
          "state": {
            "_view_name": "ProgressView",
            "style": "IPY_MODEL_9a06ae45901b4758b93882f3df9e4c10",
            "_dom_classes": [],
            "description": "Dl Completed...: 100%",
            "_model_name": "FloatProgressModel",
            "bar_style": "success",
            "max": 4,
            "_view_module": "@jupyter-widgets/controls",
            "_model_module_version": "1.5.0",
            "value": 4,
            "_view_count": null,
            "_view_module_version": "1.5.0",
            "orientation": "horizontal",
            "min": 0,
            "description_tooltip": null,
            "_model_module": "@jupyter-widgets/controls",
            "layout": "IPY_MODEL_6bed4a33289046c2ab4342bbd9fd5821"
          }
        },
        "0fd8b7f6df4740e7a8c87ad30cdfce31": {
          "model_module": "@jupyter-widgets/controls",
          "model_name": "HTMLModel",
          "state": {
            "_view_name": "HTMLView",
            "style": "IPY_MODEL_21cd299fb1774cedb232365c39d06bae",
            "_dom_classes": [],
            "description": "",
            "_model_name": "HTMLModel",
            "placeholder": "​",
            "_view_module": "@jupyter-widgets/controls",
            "_model_module_version": "1.5.0",
            "value": " 4/4 [03:22&lt;00:00, 50.74s/ file]",
            "_view_count": null,
            "_view_module_version": "1.5.0",
            "description_tooltip": null,
            "_model_module": "@jupyter-widgets/controls",
            "layout": "IPY_MODEL_b75956cf70e0414bbd269866d22f3e53"
          }
        },
        "9a06ae45901b4758b93882f3df9e4c10": {
          "model_module": "@jupyter-widgets/controls",
          "model_name": "ProgressStyleModel",
          "state": {
            "_view_name": "StyleView",
            "_model_name": "ProgressStyleModel",
            "description_width": "initial",
            "_view_module": "@jupyter-widgets/base",
            "_model_module_version": "1.5.0",
            "_view_count": null,
            "_view_module_version": "1.2.0",
            "bar_color": null,
            "_model_module": "@jupyter-widgets/controls"
          }
        },
        "6bed4a33289046c2ab4342bbd9fd5821": {
          "model_module": "@jupyter-widgets/base",
          "model_name": "LayoutModel",
          "state": {
            "_view_name": "LayoutView",
            "grid_template_rows": null,
            "right": null,
            "justify_content": null,
            "_view_module": "@jupyter-widgets/base",
            "overflow": null,
            "_model_module_version": "1.2.0",
            "_view_count": null,
            "flex_flow": null,
            "width": null,
            "min_width": null,
            "border": null,
            "align_items": null,
            "bottom": null,
            "_model_module": "@jupyter-widgets/base",
            "top": null,
            "grid_column": null,
            "overflow_y": null,
            "overflow_x": null,
            "grid_auto_flow": null,
            "grid_area": null,
            "grid_template_columns": null,
            "flex": null,
            "_model_name": "LayoutModel",
            "justify_items": null,
            "grid_row": null,
            "max_height": null,
            "align_content": null,
            "visibility": null,
            "align_self": null,
            "height": null,
            "min_height": null,
            "padding": null,
            "grid_auto_rows": null,
            "grid_gap": null,
            "max_width": null,
            "order": null,
            "_view_module_version": "1.2.0",
            "grid_template_areas": null,
            "object_position": null,
            "object_fit": null,
            "grid_auto_columns": null,
            "margin": null,
            "display": null,
            "left": null
          }
        },
        "21cd299fb1774cedb232365c39d06bae": {
          "model_module": "@jupyter-widgets/controls",
          "model_name": "DescriptionStyleModel",
          "state": {
            "_view_name": "StyleView",
            "_model_name": "DescriptionStyleModel",
            "description_width": "",
            "_view_module": "@jupyter-widgets/base",
            "_model_module_version": "1.5.0",
            "_view_count": null,
            "_view_module_version": "1.2.0",
            "_model_module": "@jupyter-widgets/controls"
          }
        },
        "b75956cf70e0414bbd269866d22f3e53": {
          "model_module": "@jupyter-widgets/base",
          "model_name": "LayoutModel",
          "state": {
            "_view_name": "LayoutView",
            "grid_template_rows": null,
            "right": null,
            "justify_content": null,
            "_view_module": "@jupyter-widgets/base",
            "overflow": null,
            "_model_module_version": "1.2.0",
            "_view_count": null,
            "flex_flow": null,
            "width": null,
            "min_width": null,
            "border": null,
            "align_items": null,
            "bottom": null,
            "_model_module": "@jupyter-widgets/base",
            "top": null,
            "grid_column": null,
            "overflow_y": null,
            "overflow_x": null,
            "grid_auto_flow": null,
            "grid_area": null,
            "grid_template_columns": null,
            "flex": null,
            "_model_name": "LayoutModel",
            "justify_items": null,
            "grid_row": null,
            "max_height": null,
            "align_content": null,
            "visibility": null,
            "align_self": null,
            "height": null,
            "min_height": null,
            "padding": null,
            "grid_auto_rows": null,
            "grid_gap": null,
            "max_width": null,
            "order": null,
            "_view_module_version": "1.2.0",
            "grid_template_areas": null,
            "object_position": null,
            "object_fit": null,
            "grid_auto_columns": null,
            "margin": null,
            "display": null,
            "left": null
          }
        }
      }
    }
  },
  "cells": [
    {
      "cell_type": "markdown",
      "metadata": {
        "id": "7WnRoL0hYmNx",
        "colab_type": "text"
      },
      "source": [
        "### Triplet Loss\n",
        "\n",
        "As first introduced in the FaceNet paper, TripletLoss is a loss function that trains a neural network to closely embed features of the same class while maximizing the distance between embeddings of different classes. To do this an anchor is chosen along with one negative and one positive sample."
      ]
    },
    {
      "cell_type": "markdown",
      "metadata": {
        "id": "RLQQoxlMZC1L",
        "colab_type": "text"
      },
      "source": [
        "The loss function is described as a Euclidean distance function:\n",
        "\n",
        "![function](https://user-images.githubusercontent.com/18154355/61484709-7589b800-a96d-11e9-9c3c-e880514af4b7.png)\n",
        "\n",
        "Where A is our anchor input,  P is the positive sample input,  N is the negative sample input, and alpha is some margin you use to specify when a triplet has become too \"easy\" and you no longer want to adjust the weights from it."
      ]
    },
    {
      "cell_type": "markdown",
      "metadata": {
        "id": "vmN8pSfCZOkd",
        "colab_type": "text"
      },
      "source": [
        "### SemiHard Online Learning\n",
        "\n",
        "As shown in the paper, the best results are from triplets known as \"Semi-Hard\". These are defined as triplets where the negative is farther from the anchor than the positive, but still produces a positive loss. To efficiently find these triplets you utilize online learning and only train from the Semi-Hard examples in each batch. "
      ]
    },
    {
      "cell_type": "code",
      "metadata": {
        "id": "ZLYHXzhmZRA0",
        "colab_type": "code",
        "colab": {
          "base_uri": "https://localhost:8080/",
          "height": 34
        },
        "outputId": "09aefafe-98e1-4557-a5b5-97a46cd4ce67"
      },
      "source": [
        "pip install -q -U tensorflow-addons"
      ],
      "execution_count": 1,
      "outputs": [
        {
          "output_type": "stream",
          "text": [
            "\u001b[?25l\r\u001b[K     |▎                               | 10kB 34.7MB/s eta 0:00:01\r\u001b[K     |▋                               | 20kB 5.6MB/s eta 0:00:01\r\u001b[K     |█                               | 30kB 7.2MB/s eta 0:00:01\r\u001b[K     |█▏                              | 40kB 8.0MB/s eta 0:00:01\r\u001b[K     |█▌                              | 51kB 6.6MB/s eta 0:00:01\r\u001b[K     |█▉                              | 61kB 7.6MB/s eta 0:00:01\r\u001b[K     |██                              | 71kB 7.8MB/s eta 0:00:01\r\u001b[K     |██▍                             | 81kB 8.2MB/s eta 0:00:01\r\u001b[K     |██▊                             | 92kB 8.5MB/s eta 0:00:01\r\u001b[K     |███                             | 102kB 8.8MB/s eta 0:00:01\r\u001b[K     |███▎                            | 112kB 8.8MB/s eta 0:00:01\r\u001b[K     |███▋                            | 122kB 8.8MB/s eta 0:00:01\r\u001b[K     |███▉                            | 133kB 8.8MB/s eta 0:00:01\r\u001b[K     |████▏                           | 143kB 8.8MB/s eta 0:00:01\r\u001b[K     |████▌                           | 153kB 8.8MB/s eta 0:00:01\r\u001b[K     |████▊                           | 163kB 8.8MB/s eta 0:00:01\r\u001b[K     |█████                           | 174kB 8.8MB/s eta 0:00:01\r\u001b[K     |█████▍                          | 184kB 8.8MB/s eta 0:00:01\r\u001b[K     |█████▋                          | 194kB 8.8MB/s eta 0:00:01\r\u001b[K     |██████                          | 204kB 8.8MB/s eta 0:00:01\r\u001b[K     |██████▎                         | 215kB 8.8MB/s eta 0:00:01\r\u001b[K     |██████▌                         | 225kB 8.8MB/s eta 0:00:01\r\u001b[K     |██████▉                         | 235kB 8.8MB/s eta 0:00:01\r\u001b[K     |███████▏                        | 245kB 8.8MB/s eta 0:00:01\r\u001b[K     |███████▌                        | 256kB 8.8MB/s eta 0:00:01\r\u001b[K     |███████▊                        | 266kB 8.8MB/s eta 0:00:01\r\u001b[K     |████████                        | 276kB 8.8MB/s eta 0:00:01\r\u001b[K     |████████▍                       | 286kB 8.8MB/s eta 0:00:01\r\u001b[K     |████████▋                       | 296kB 8.8MB/s eta 0:00:01\r\u001b[K     |█████████                       | 307kB 8.8MB/s eta 0:00:01\r\u001b[K     |█████████▎                      | 317kB 8.8MB/s eta 0:00:01\r\u001b[K     |█████████▌                      | 327kB 8.8MB/s eta 0:00:01\r\u001b[K     |█████████▉                      | 337kB 8.8MB/s eta 0:00:01\r\u001b[K     |██████████▏                     | 348kB 8.8MB/s eta 0:00:01\r\u001b[K     |██████████▍                     | 358kB 8.8MB/s eta 0:00:01\r\u001b[K     |██████████▊                     | 368kB 8.8MB/s eta 0:00:01\r\u001b[K     |███████████                     | 378kB 8.8MB/s eta 0:00:01\r\u001b[K     |███████████▎                    | 389kB 8.8MB/s eta 0:00:01\r\u001b[K     |███████████▋                    | 399kB 8.8MB/s eta 0:00:01\r\u001b[K     |████████████                    | 409kB 8.8MB/s eta 0:00:01\r\u001b[K     |████████████▏                   | 419kB 8.8MB/s eta 0:00:01\r\u001b[K     |████████████▌                   | 430kB 8.8MB/s eta 0:00:01\r\u001b[K     |████████████▉                   | 440kB 8.8MB/s eta 0:00:01\r\u001b[K     |█████████████                   | 450kB 8.8MB/s eta 0:00:01\r\u001b[K     |█████████████▍                  | 460kB 8.8MB/s eta 0:00:01\r\u001b[K     |█████████████▊                  | 471kB 8.8MB/s eta 0:00:01\r\u001b[K     |██████████████                  | 481kB 8.8MB/s eta 0:00:01\r\u001b[K     |██████████████▎                 | 491kB 8.8MB/s eta 0:00:01\r\u001b[K     |██████████████▋                 | 501kB 8.8MB/s eta 0:00:01\r\u001b[K     |███████████████                 | 512kB 8.8MB/s eta 0:00:01\r\u001b[K     |███████████████▏                | 522kB 8.8MB/s eta 0:00:01\r\u001b[K     |███████████████▌                | 532kB 8.8MB/s eta 0:00:01\r\u001b[K     |███████████████▉                | 542kB 8.8MB/s eta 0:00:01\r\u001b[K     |████████████████                | 552kB 8.8MB/s eta 0:00:01\r\u001b[K     |████████████████▍               | 563kB 8.8MB/s eta 0:00:01\r\u001b[K     |████████████████▊               | 573kB 8.8MB/s eta 0:00:01\r\u001b[K     |█████████████████               | 583kB 8.8MB/s eta 0:00:01\r\u001b[K     |█████████████████▎              | 593kB 8.8MB/s eta 0:00:01\r\u001b[K     |█████████████████▋              | 604kB 8.8MB/s eta 0:00:01\r\u001b[K     |█████████████████▉              | 614kB 8.8MB/s eta 0:00:01\r\u001b[K     |██████████████████▏             | 624kB 8.8MB/s eta 0:00:01\r\u001b[K     |██████████████████▌             | 634kB 8.8MB/s eta 0:00:01\r\u001b[K     |██████████████████▊             | 645kB 8.8MB/s eta 0:00:01\r\u001b[K     |███████████████████             | 655kB 8.8MB/s eta 0:00:01\r\u001b[K     |███████████████████▍            | 665kB 8.8MB/s eta 0:00:01\r\u001b[K     |███████████████████▋            | 675kB 8.8MB/s eta 0:00:01\r\u001b[K     |████████████████████            | 686kB 8.8MB/s eta 0:00:01\r\u001b[K     |████████████████████▎           | 696kB 8.8MB/s eta 0:00:01\r\u001b[K     |████████████████████▌           | 706kB 8.8MB/s eta 0:00:01\r\u001b[K     |████████████████████▉           | 716kB 8.8MB/s eta 0:00:01\r\u001b[K     |█████████████████████▏          | 727kB 8.8MB/s eta 0:00:01\r\u001b[K     |█████████████████████▍          | 737kB 8.8MB/s eta 0:00:01\r\u001b[K     |█████████████████████▊          | 747kB 8.8MB/s eta 0:00:01\r\u001b[K     |██████████████████████          | 757kB 8.8MB/s eta 0:00:01\r\u001b[K     |██████████████████████▍         | 768kB 8.8MB/s eta 0:00:01\r\u001b[K     |██████████████████████▋         | 778kB 8.8MB/s eta 0:00:01\r\u001b[K     |███████████████████████         | 788kB 8.8MB/s eta 0:00:01\r\u001b[K     |███████████████████████▎        | 798kB 8.8MB/s eta 0:00:01\r\u001b[K     |███████████████████████▌        | 808kB 8.8MB/s eta 0:00:01\r\u001b[K     |███████████████████████▉        | 819kB 8.8MB/s eta 0:00:01\r\u001b[K     |████████████████████████▏       | 829kB 8.8MB/s eta 0:00:01\r\u001b[K     |████████████████████████▍       | 839kB 8.8MB/s eta 0:00:01\r\u001b[K     |████████████████████████▊       | 849kB 8.8MB/s eta 0:00:01\r\u001b[K     |█████████████████████████       | 860kB 8.8MB/s eta 0:00:01\r\u001b[K     |█████████████████████████▎      | 870kB 8.8MB/s eta 0:00:01\r\u001b[K     |█████████████████████████▋      | 880kB 8.8MB/s eta 0:00:01\r\u001b[K     |██████████████████████████      | 890kB 8.8MB/s eta 0:00:01\r\u001b[K     |██████████████████████████▏     | 901kB 8.8MB/s eta 0:00:01\r\u001b[K     |██████████████████████████▌     | 911kB 8.8MB/s eta 0:00:01\r\u001b[K     |██████████████████████████▉     | 921kB 8.8MB/s eta 0:00:01\r\u001b[K     |███████████████████████████     | 931kB 8.8MB/s eta 0:00:01\r\u001b[K     |███████████████████████████▍    | 942kB 8.8MB/s eta 0:00:01\r\u001b[K     |███████████████████████████▊    | 952kB 8.8MB/s eta 0:00:01\r\u001b[K     |████████████████████████████    | 962kB 8.8MB/s eta 0:00:01\r\u001b[K     |████████████████████████████▎   | 972kB 8.8MB/s eta 0:00:01\r\u001b[K     |████████████████████████████▋   | 983kB 8.8MB/s eta 0:00:01\r\u001b[K     |████████████████████████████▉   | 993kB 8.8MB/s eta 0:00:01\r\u001b[K     |█████████████████████████████▏  | 1.0MB 8.8MB/s eta 0:00:01\r\u001b[K     |█████████████████████████████▌  | 1.0MB 8.8MB/s eta 0:00:01\r\u001b[K     |█████████████████████████████▉  | 1.0MB 8.8MB/s eta 0:00:01\r\u001b[K     |██████████████████████████████  | 1.0MB 8.8MB/s eta 0:00:01\r\u001b[K     |██████████████████████████████▍ | 1.0MB 8.8MB/s eta 0:00:01\r\u001b[K     |██████████████████████████████▊ | 1.1MB 8.8MB/s eta 0:00:01\r\u001b[K     |███████████████████████████████ | 1.1MB 8.8MB/s eta 0:00:01\r\u001b[K     |███████████████████████████████▎| 1.1MB 8.8MB/s eta 0:00:01\r\u001b[K     |███████████████████████████████▋| 1.1MB 8.8MB/s eta 0:00:01\r\u001b[K     |███████████████████████████████▉| 1.1MB 8.8MB/s eta 0:00:01\r\u001b[K     |████████████████████████████████| 1.1MB 8.8MB/s \n",
            "\u001b[?25h"
          ],
          "name": "stdout"
        }
      ]
    },
    {
      "cell_type": "code",
      "metadata": {
        "id": "jkrSgIMZZVOg",
        "colab_type": "code",
        "colab": {}
      },
      "source": [
        "import io\n",
        "\n",
        "import numpy as np\n",
        "import tensorflow as tf\n",
        "import tensorflow_addons as tfa\n",
        "import tensorflow_datasets as tfds"
      ],
      "execution_count": 2,
      "outputs": []
    },
    {
      "cell_type": "code",
      "metadata": {
        "id": "S8kV4Q28Zb5-",
        "colab_type": "code",
        "colab": {
          "base_uri": "https://localhost:8080/",
          "height": 202,
          "referenced_widgets": [
            "c5ff7db3ccf740338fac0c531b8906b5",
            "c866c14694d64f4d905e89f3ca13b1d2",
            "0535a8a8ffeb49919b3329c5a3a090d4",
            "0fd8b7f6df4740e7a8c87ad30cdfce31",
            "9a06ae45901b4758b93882f3df9e4c10",
            "6bed4a33289046c2ab4342bbd9fd5821",
            "21cd299fb1774cedb232365c39d06bae",
            "b75956cf70e0414bbd269866d22f3e53"
          ]
        },
        "outputId": "977d8bc2-9749-49e4-d5bf-122540271061"
      },
      "source": [
        "# Data prep\n",
        "\n",
        "def _normalize_img(img, label):\n",
        "    img = tf.cast(img, tf.float32) / 255.\n",
        "    return (img, label)\n",
        "\n",
        "train_dataset, test_dataset = tfds.load(name = \"mnist\", split = ['train', 'test'], as_supervised = True)\n",
        "\n",
        "# Build your input pipelines\n",
        "train_dataset = train_dataset.shuffle(1024).batch(32)\n",
        "train_dataset = train_dataset.map(_normalize_img)\n",
        "\n",
        "test_dataset = test_dataset.batch(32)\n",
        "test_dataset = test_dataset.map(_normalize_img)"
      ],
      "execution_count": 3,
      "outputs": [
        {
          "output_type": "stream",
          "text": [
            "\u001b[1mDownloading and preparing dataset mnist/3.0.0 (download: 11.06 MiB, generated: Unknown size, total: 11.06 MiB) to /root/tensorflow_datasets/mnist/3.0.0...\u001b[0m\n"
          ],
          "name": "stdout"
        },
        {
          "output_type": "stream",
          "text": [
            "WARNING:absl:Dataset mnist is hosted on GCS. It will automatically be downloaded to your\n",
            "local data directory. If you'd instead prefer to read directly from our public\n",
            "GCS bucket (recommended if you're running on GCP), you can instead set\n",
            "data_dir=gs://tfds-data/datasets.\n",
            "\n"
          ],
          "name": "stderr"
        },
        {
          "output_type": "display_data",
          "data": {
            "application/vnd.jupyter.widget-view+json": {
              "model_id": "c5ff7db3ccf740338fac0c531b8906b5",
              "version_minor": 0,
              "version_major": 2
            },
            "text/plain": [
              "HBox(children=(FloatProgress(value=0.0, description='Dl Completed...', max=4.0, style=ProgressStyle(descriptio…"
            ]
          },
          "metadata": {
            "tags": []
          }
        },
        {
          "output_type": "stream",
          "text": [
            "\n",
            "\n",
            "\u001b[1mDataset mnist downloaded and prepared to /root/tensorflow_datasets/mnist/3.0.0. Subsequent calls will reuse this data.\u001b[0m\n"
          ],
          "name": "stdout"
        }
      ]
    },
    {
      "cell_type": "code",
      "metadata": {
        "id": "WUX9uy0bZiAS",
        "colab_type": "code",
        "colab": {}
      },
      "source": [
        "# Prep Model\n",
        "\n",
        "model = tf.keras.Sequential([\n",
        "    tf.keras.layers.Conv2D(filters = 64, kernel_size = 2, padding = 'same', activation = 'relu', input_shape = (28,28,1)),\n",
        "    tf.keras.layers.MaxPooling2D(pool_size = 2),\n",
        "    tf.keras.layers.Dropout(0.3),\n",
        "    tf.keras.layers.Conv2D(filters = 32, kernel_size = 2, padding = 'same', activation = 'relu'),\n",
        "    tf.keras.layers.MaxPooling2D(pool_size = 2),\n",
        "    tf.keras.layers.Dropout(0.3),\n",
        "    tf.keras.layers.Flatten(),\n",
        "    tf.keras.layers.Dense(256, activation = None), # No activation on final dense layer\n",
        "    tf.keras.layers.Lambda(lambda x: tf.math.l2_normalize(x, axis = 1)) # L2 normalize embeddings\n",
        "\n",
        "])"
      ],
      "execution_count": 4,
      "outputs": []
    },
    {
      "cell_type": "code",
      "metadata": {
        "id": "YLouaatwaGmv",
        "colab_type": "code",
        "colab": {}
      },
      "source": [
        "model.compile(\n",
        "    optimizer = tf.keras.optimizers.Adam(0.001),\n",
        "    loss = tfa.losses.TripletSemiHardLoss())"
      ],
      "execution_count": 5,
      "outputs": []
    },
    {
      "cell_type": "code",
      "metadata": {
        "id": "f3B7it4PaMY4",
        "colab_type": "code",
        "colab": {
          "base_uri": "https://localhost:8080/",
          "height": 204
        },
        "outputId": "30c47bb8-cdac-477f-e9a4-a3f714906c78"
      },
      "source": [
        "model.fit(\n",
        "    train_dataset,\n",
        "    epochs = 5)"
      ],
      "execution_count": 6,
      "outputs": [
        {
          "output_type": "stream",
          "text": [
            "Epoch 1/5\n",
            "1875/1875 [==============================] - 11s 6ms/step - loss: 0.5951\n",
            "Epoch 2/5\n",
            "1875/1875 [==============================] - 12s 6ms/step - loss: 0.4513\n",
            "Epoch 3/5\n",
            "1875/1875 [==============================] - 12s 7ms/step - loss: 0.4191\n",
            "Epoch 4/5\n",
            "1875/1875 [==============================] - 12s 7ms/step - loss: 0.4018\n",
            "Epoch 5/5\n",
            "1875/1875 [==============================] - 12s 6ms/step - loss: 0.3927\n"
          ],
          "name": "stdout"
        },
        {
          "output_type": "execute_result",
          "data": {
            "text/plain": [
              "<tensorflow.python.keras.callbacks.History at 0x7fdcfdd67160>"
            ]
          },
          "metadata": {
            "tags": []
          },
          "execution_count": 6
        }
      ]
    },
    {
      "cell_type": "code",
      "metadata": {
        "id": "svPJKuK-aTzD",
        "colab_type": "code",
        "colab": {}
      },
      "source": [
        "# Evaluate and save\n",
        "\n",
        "results = model.predict(test_dataset)\n",
        "\n",
        "np.savetxt(\"vecs.tsv\", results, delimiter = '\\t')\n",
        "\n",
        "out_m = io.open('meta.tsv', 'w', encoding = 'utf-8')\n",
        "for img, labels in tfds.as_numpy(test_dataset):\n",
        "    [out_m.write(str(x) + \"\\n\") for x in labels]\n",
        "out_m.close()"
      ],
      "execution_count": 7,
      "outputs": []
    }
  ]
}