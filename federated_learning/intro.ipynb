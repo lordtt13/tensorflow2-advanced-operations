{
  "nbformat": 4,
  "nbformat_minor": 0,
  "metadata": {
    "colab": {
      "name": "intro.ipynb",
      "provenance": []
    },
    "kernelspec": {
      "name": "python3",
      "display_name": "Python 3"
    },
    "accelerator": "GPU"
  },
  "cells": [
    {
      "cell_type": "code",
      "metadata": {
        "id": "2JRqugvxXKNW",
        "colab_type": "code",
        "colab": {
          "base_uri": "https://localhost:8080/",
          "height": 87
        },
        "outputId": "00549823-179e-4f33-b148-51ac3c98187d"
      },
      "source": [
        "import collections\n",
        "import nest_asyncio\n",
        "\n",
        "import numpy as np\n",
        "import tensorflow as tf\n",
        "import tensorflow_federated as tff\n",
        "from matplotlib import pyplot as plt"
      ],
      "execution_count": 1,
      "outputs": [
        {
          "output_type": "stream",
          "text": [
            "/usr/local/lib/python3.6/dist-packages/tensorflow_addons/utils/ensure_tf_install.py:44: UserWarning: You are currently using a nightly version of TensorFlow (2.4.0-dev20200730). \n",
            "TensorFlow Addons offers no support for the nightly versions of TensorFlow. Some things might work, some other might not. \n",
            "If you encounter a bug, do not file an issue on GitHub.\n",
            "  UserWarning,\n"
          ],
          "name": "stderr"
        }
      ]
    },
    {
      "cell_type": "code",
      "metadata": {
        "id": "uOlkUa5BXO5c",
        "colab_type": "code",
        "colab": {}
      },
      "source": [
        "nest_asyncio.apply()"
      ],
      "execution_count": 2,
      "outputs": []
    },
    {
      "cell_type": "code",
      "metadata": {
        "id": "tTxoCcNkXRBr",
        "colab_type": "code",
        "colab": {
          "base_uri": "https://localhost:8080/",
          "height": 34
        },
        "outputId": "57bfe5b9-63ae-4e63-84d5-86858a6fd5f7"
      },
      "source": [
        "tff.federated_computation(lambda: 'Hello, World!')()"
      ],
      "execution_count": 3,
      "outputs": [
        {
          "output_type": "execute_result",
          "data": {
            "text/plain": [
              "b'Hello, World!'"
            ]
          },
          "metadata": {
            "tags": []
          },
          "execution_count": 3
        }
      ]
    },
    {
      "cell_type": "markdown",
      "metadata": {
        "id": "8j1fMsnwXoXc",
        "colab_type": "text"
      },
      "source": [
        "### Prepping Input Data\n",
        "\n",
        "Federated Datasets are non-iid, we will load them now\n",
        "\n",
        "The data sets returned by load_data() are instances of tff.simulation.ClientData, an interface that allows us to enumerate the set of users, to construct a tf.data.Dataset that represents the data of a particular user, and to query the structure of individual elements. "
      ]
    },
    {
      "cell_type": "code",
      "metadata": {
        "id": "jYtIvmRYX0kr",
        "colab_type": "code",
        "colab": {}
      },
      "source": [
        "emnist_train, emnist_test = tff.simulation.datasets.emnist.load_data()"
      ],
      "execution_count": 4,
      "outputs": []
    },
    {
      "cell_type": "code",
      "metadata": {
        "id": "1Eyukp88YO3D",
        "colab_type": "code",
        "colab": {
          "base_uri": "https://localhost:8080/",
          "height": 34
        },
        "outputId": "8ffc6383-8ded-476d-98bd-ba5605de65b3"
      },
      "source": [
        "len(emnist_train.client_ids)"
      ],
      "execution_count": 5,
      "outputs": [
        {
          "output_type": "execute_result",
          "data": {
            "text/plain": [
              "3383"
            ]
          },
          "metadata": {
            "tags": []
          },
          "execution_count": 5
        }
      ]
    },
    {
      "cell_type": "code",
      "metadata": {
        "id": "MnQ2I1t7YPOl",
        "colab_type": "code",
        "colab": {
          "base_uri": "https://localhost:8080/",
          "height": 70
        },
        "outputId": "32ad60bb-5154-44d6-ced7-3045945dcfde"
      },
      "source": [
        "emnist_train.element_type_structure"
      ],
      "execution_count": 6,
      "outputs": [
        {
          "output_type": "execute_result",
          "data": {
            "text/plain": [
              "OrderedDict([('label', TensorSpec(shape=(), dtype=tf.int32, name=None)),\n",
              "             ('pixels',\n",
              "              TensorSpec(shape=(28, 28), dtype=tf.float32, name=None))])"
            ]
          },
          "metadata": {
            "tags": []
          },
          "execution_count": 6
        }
      ]
    },
    {
      "cell_type": "code",
      "metadata": {
        "id": "jKakjvphYa3F",
        "colab_type": "code",
        "colab": {
          "base_uri": "https://localhost:8080/",
          "height": 34
        },
        "outputId": "724e049c-47df-4bf2-a4c5-e2358978b96b"
      },
      "source": [
        "example_dataset = emnist_train.create_tf_dataset_for_client(\n",
        "    emnist_train.client_ids[0])\n",
        "\n",
        "example_element = next(iter(example_dataset))\n",
        "\n",
        "example_element['label'].numpy()"
      ],
      "execution_count": 7,
      "outputs": [
        {
          "output_type": "execute_result",
          "data": {
            "text/plain": [
              "5"
            ]
          },
          "metadata": {
            "tags": []
          },
          "execution_count": 7
        }
      ]
    },
    {
      "cell_type": "code",
      "metadata": {
        "id": "Lt65fU4OYheE",
        "colab_type": "code",
        "colab": {
          "base_uri": "https://localhost:8080/",
          "height": 264
        },
        "outputId": "681b5e5c-1438-4a9f-87a2-eb04310d5f1e"
      },
      "source": [
        "plt.imshow(example_element['pixels'].numpy(), cmap = 'gray', aspect = 'equal')\n",
        "plt.grid(False)\n",
        "_ = plt.show()"
      ],
      "execution_count": 8,
      "outputs": [
        {
          "output_type": "display_data",
          "data": {
            "image/png": "[encoded data removed]",
            "text/plain": [
              "<Figure size 432x288 with 1 Axes>"
            ]
          },
          "metadata": {
            "tags": [],
            "needs_background": "light"
          }
        }
      ]
    },
    {
      "cell_type": "markdown",
      "metadata": {
        "id": "1udPoc_bYuUk",
        "colab_type": "text"
      },
      "source": [
        "### Preprocessing"
      ]
    },
    {
      "cell_type": "code",
      "metadata": {
        "id": "sYISArxUYwey",
        "colab_type": "code",
        "colab": {}
      },
      "source": [
        "NUM_CLIENTS = 10\n",
        "NUM_EPOCHS = 5\n",
        "BATCH_SIZE = 20\n",
        "SHUFFLE_BUFFER = 100\n",
        "PREFETCH_BUFFER = 10\n",
        "\n",
        "def preprocess(dataset):\n",
        "\n",
        "  def batch_format_fn(element):\n",
        "    \"\"\"Flatten a batch `pixels` and return the features as an `OrderedDict`.\"\"\"\n",
        "    return collections.OrderedDict(\n",
        "        x = tf.reshape(element['pixels'], [-1, 784]),\n",
        "        y = tf.reshape(element['label'], [-1, 1]))\n",
        "\n",
        "  return dataset.repeat(NUM_EPOCHS).shuffle(SHUFFLE_BUFFER).batch(\n",
        "      BATCH_SIZE).map(batch_format_fn).prefetch(PREFETCH_BUFFER)"
      ],
      "execution_count": 9,
      "outputs": []
    },
    {
      "cell_type": "code",
      "metadata": {
        "id": "JbtefFRgY22v",
        "colab_type": "code",
        "colab": {
          "base_uri": "https://localhost:8080/",
          "height": 496
        },
        "outputId": "b003995f-6713-481e-ed59-f155f3d99dea"
      },
      "source": [
        "preprocessed_example_dataset = preprocess(example_dataset)\n",
        "\n",
        "sample_batch = tf.nest.map_structure(lambda x: x.numpy(),\n",
        "                                     next(iter(preprocessed_example_dataset)))\n",
        "\n",
        "sample_batch"
      ],
      "execution_count": 10,
      "outputs": [
        {
          "output_type": "execute_result",
          "data": {
            "text/plain": [
              "OrderedDict([('x', array([[1., 1., 1., ..., 1., 1., 1.],\n",
              "                     [1., 1., 1., ..., 1., 1., 1.],\n",
              "                     [1., 1., 1., ..., 1., 1., 1.],\n",
              "                     ...,\n",
              "                     [1., 1., 1., ..., 1., 1., 1.],\n",
              "                     [1., 1., 1., ..., 1., 1., 1.],\n",
              "                     [1., 1., 1., ..., 1., 1., 1.]], dtype=float32)),\n",
              "             ('y', array([[9],\n",
              "                     [6],\n",
              "                     [1],\n",
              "                     [1],\n",
              "                     [1],\n",
              "                     [0],\n",
              "                     [7],\n",
              "                     [1],\n",
              "                     [2],\n",
              "                     [6],\n",
              "                     [7],\n",
              "                     [1],\n",
              "                     [8],\n",
              "                     [9],\n",
              "                     [9],\n",
              "                     [1],\n",
              "                     [7],\n",
              "                     [0],\n",
              "                     [0],\n",
              "                     [4]], dtype=int32))])"
            ]
          },
          "metadata": {
            "tags": []
          },
          "execution_count": 10
        }
      ]
    },
    {
      "cell_type": "code",
      "metadata": {
        "id": "-iAm8pk-Y971",
        "colab_type": "code",
        "colab": {}
      },
      "source": [
        "def make_federated_data(client_data, client_ids):\n",
        "  return [\n",
        "      preprocess(client_data.create_tf_dataset_for_client(x))\n",
        "      for x in client_ids\n",
        "  ]"
      ],
      "execution_count": 11,
      "outputs": []
    },
    {
      "cell_type": "markdown",
      "metadata": {
        "id": "zGJs6QvMZmXv",
        "colab_type": "text"
      },
      "source": [
        "### Random Sampling"
      ]
    },
    {
      "cell_type": "code",
      "metadata": {
        "id": "g3t7HdFBZoCK",
        "colab_type": "code",
        "colab": {
          "base_uri": "https://localhost:8080/",
          "height": 52
        },
        "outputId": "133ea704-5bbc-4d53-ad7f-688b7d5c3e08"
      },
      "source": [
        "sample_clients = emnist_train.client_ids[0:NUM_CLIENTS]\n",
        "\n",
        "federated_train_data = make_federated_data(emnist_train, sample_clients)\n",
        "\n",
        "print('Number of client datasets: {l}'.format(l = len(federated_train_data)))\n",
        "print('First dataset: {d}'.format(d = federated_train_data[0]))"
      ],
      "execution_count": 12,
      "outputs": [
        {
          "output_type": "stream",
          "text": [
            "Number of client datasets: 10\n",
            "First dataset: <PrefetchDataset shapes: OrderedDict([(x, (None, 784)), (y, (None, 1))]), types: OrderedDict([(x, tf.float32), (y, tf.int32)])>\n"
          ],
          "name": "stdout"
        }
      ]
    },
    {
      "cell_type": "markdown",
      "metadata": {
        "id": "fhWkcybHZuBW",
        "colab_type": "text"
      },
      "source": [
        "### Create Model\n",
        "\n",
        "In order to use any model with TFF, it needs to be wrapped in an instance of the tff.learning.Model interface, which exposes methods to stamp the model's forward pass, metadata properties, etc., similarly to Keras, but also introduces additional elements, such as ways to control the process of computing federated metrics. "
      ]
    },
    {
      "cell_type": "code",
      "metadata": {
        "id": "49PwON_CZvt8",
        "colab_type": "code",
        "colab": {}
      },
      "source": [
        "def create_keras_model():\n",
        "  return tf.keras.models.Sequential([\n",
        "      tf.keras.layers.Input(shape = (784,)),\n",
        "      tf.keras.layers.Dense(10, kernel_initializer = 'zeros'),\n",
        "      tf.keras.layers.Softmax(),\n",
        "  ])"
      ],
      "execution_count": 13,
      "outputs": []
    },
    {
      "cell_type": "code",
      "metadata": {
        "id": "RZzWP_S6Z0Fs",
        "colab_type": "code",
        "colab": {}
      },
      "source": [
        "def model_fn():\n",
        "  # We _must_ create a new model here, and _not_ capture it from an external\n",
        "  # scope. TFF will call this within different graph contexts.\n",
        "  keras_model = create_keras_model()\n",
        "  return tff.learning.from_keras_model(\n",
        "      keras_model,\n",
        "      input_spec = preprocessed_example_dataset.element_spec,\n",
        "      loss = tf.keras.losses.SparseCategoricalCrossentropy(),\n",
        "      metrics = [tf.keras.metrics.SparseCategoricalAccuracy()])"
      ],
      "execution_count": 14,
      "outputs": []
    },
    {
      "cell_type": "markdown",
      "metadata": {
        "id": "1-yY7jWIaQcv",
        "colab_type": "text"
      },
      "source": [
        "### Training the Model\n",
        "\n",
        "Now that we have a model wrapped as tff.learning.Model for use with TFF, we can let TFF construct a Federated Averaging algorithm by invoking the helper function tff.learning.build_federated_averaging_process.\n",
        "\n",
        "One critical note on the Federated Averaging algorithm, there are 2 optimizers: a _clientoptimizer and a _serveroptimizer. The _clientoptimizer is only used to compute local model updates on each client. The _serveroptimizer applies the averaged update to the global model at the server. In particular, this means that the choice of optimizer and learning rate used may need to be different than the ones you have used to train the model on a standard i.i.d. dataset. We recommend starting with regular SGD, possibly with a smaller learning rate than usual."
      ]
    },
    {
      "cell_type": "code",
      "metadata": {
        "id": "XQslV_7BaZ-6",
        "colab_type": "code",
        "colab": {}
      },
      "source": [
        "iterative_process = tff.learning.build_federated_averaging_process(\n",
        "    model_fn,\n",
        "    client_optimizer_fn = lambda: tf.keras.optimizers.SGD(learning_rate = 0.02),\n",
        "    server_optimizer_fn = lambda: tf.keras.optimizers.SGD(learning_rate = 1.0))"
      ],
      "execution_count": 15,
      "outputs": []
    },
    {
      "cell_type": "markdown",
      "metadata": {
        "id": "NhfXxgpjbGrQ",
        "colab_type": "text"
      },
      "source": [
        "TFF has constructed a pair of federated computations above and packaged them into a tff.templates.IterativeProcess in which these computations are available as a pair of properties initialize and next.\n",
        "\n",
        "In a nutshell, federated computations are programs in TFF's internal language that can express various federated algorithms (you can find more about this in the custom algorithms tutorial). In this case, the two computations generated and packed into iterative_process implement Federated Averaging.\n",
        "\n",
        "It is a goal of TFF to define computations in a way that they could be executed in real federated learning settings, but currently only local execution simulation runtime is implemented. To execute a computation in a simulator, you simply invoke it like a Python function."
      ]
    },
    {
      "cell_type": "code",
      "metadata": {
        "id": "aoMP8j2ibQyX",
        "colab_type": "code",
        "colab": {
          "base_uri": "https://localhost:8080/",
          "height": 35
        },
        "outputId": "65726cdf-5550-4702-a118-19cf8bace9b1"
      },
      "source": [
        "str(iterative_process.initialize.type_signature)"
      ],
      "execution_count": 16,
      "outputs": [
        {
          "output_type": "execute_result",
          "data": {
            "application/vnd.google.colaboratory.intrinsic+json": {
              "type": "string"
            },
            "text/plain": [
              "'( -> <model=<trainable=<float32[784,10],float32[10]>,non_trainable=<>>,optimizer_state=<int64>,delta_aggregate_state=<>,model_broadcast_state=<>>@SERVER)'"
            ]
          },
          "metadata": {
            "tags": []
          },
          "execution_count": 16
        }
      ]
    },
    {
      "cell_type": "code",
      "metadata": {
        "id": "LvSgAHZXbS3a",
        "colab_type": "code",
        "colab": {}
      },
      "source": [
        "# Let's invoke the initialize computation to construct the server state.\n",
        "\n",
        "state = iterative_process.initialize()"
      ],
      "execution_count": 17,
      "outputs": []
    },
    {
      "cell_type": "markdown",
      "metadata": {
        "id": "vuYZ3IRJbier",
        "colab_type": "text"
      },
      "source": [
        "The second of the pair of federated computations, next, represents a single round of Federated Averaging, which consists of pushing the server state (including the model parameters) to the clients, on-device training on their local data, collecting and averaging model updates, and producing a new updated model at the server."
      ]
    },
    {
      "cell_type": "code",
      "metadata": {
        "id": "U8i2ysYQbjBs",
        "colab_type": "code",
        "colab": {
          "base_uri": "https://localhost:8080/",
          "height": 34
        },
        "outputId": "bd71d739-4f2b-431d-8229-10b11698c02f"
      },
      "source": [
        "state, metrics = iterative_process.next(state, federated_train_data)\n",
        "print('round  1, metrics={}'.format(metrics))"
      ],
      "execution_count": 18,
      "outputs": [
        {
          "output_type": "stream",
          "text": [
            "round  1, metrics=OrderedDict([('broadcast', ()), ('aggregation', ()), ('train', OrderedDict([('sparse_categorical_accuracy', 0.11234568), ('loss', 3.1384513)]))])\n"
          ],
          "name": "stdout"
        }
      ]
    },
    {
      "cell_type": "code",
      "metadata": {
        "id": "C036ZqBNbrZs",
        "colab_type": "code",
        "colab": {
          "base_uri": "https://localhost:8080/",
          "height": 176
        },
        "outputId": "c67375d6-2a12-4dce-a800-d43746b3ae4d"
      },
      "source": [
        "NUM_ROUNDS = 11\n",
        "for round_num in range(2, NUM_ROUNDS):\n",
        "  state, metrics = iterative_process.next(state, federated_train_data)\n",
        "  print('round {:2d}, metrics={}'.format(round_num, metrics))"
      ],
      "execution_count": 19,
      "outputs": [
        {
          "output_type": "stream",
          "text": [
            "round  2, metrics=OrderedDict([('broadcast', ()), ('aggregation', ()), ('train', OrderedDict([('sparse_categorical_accuracy', 0.14074074), ('loss', 2.9278913)]))])\n",
            "round  3, metrics=OrderedDict([('broadcast', ()), ('aggregation', ()), ('train', OrderedDict([('sparse_categorical_accuracy', 0.14855967), ('loss', 2.8688934)]))])\n",
            "round  4, metrics=OrderedDict([('broadcast', ()), ('aggregation', ()), ('train', OrderedDict([('sparse_categorical_accuracy', 0.18292181), ('loss', 2.589616)]))])\n",
            "round  5, metrics=OrderedDict([('broadcast', ()), ('aggregation', ()), ('train', OrderedDict([('sparse_categorical_accuracy', 0.19650206), ('loss', 2.48966)]))])\n",
            "round  6, metrics=OrderedDict([('broadcast', ()), ('aggregation', ()), ('train', OrderedDict([('sparse_categorical_accuracy', 0.22942387), ('loss', 2.4321945)]))])\n",
            "round  7, metrics=OrderedDict([('broadcast', ()), ('aggregation', ()), ('train', OrderedDict([('sparse_categorical_accuracy', 0.25123456), ('loss', 2.2919106)]))])\n",
            "round  8, metrics=OrderedDict([('broadcast', ()), ('aggregation', ()), ('train', OrderedDict([('sparse_categorical_accuracy', 0.26666668), ('loss', 2.2995691)]))])\n",
            "round  9, metrics=OrderedDict([('broadcast', ()), ('aggregation', ()), ('train', OrderedDict([('sparse_categorical_accuracy', 0.28703704), ('loss', 2.1779118)]))])\n",
            "round 10, metrics=OrderedDict([('broadcast', ()), ('aggregation', ()), ('train', OrderedDict([('sparse_categorical_accuracy', 0.32469136), ('loss', 2.0494978)]))])\n"
          ],
          "name": "stdout"
        }
      ]
    }
  ]
}