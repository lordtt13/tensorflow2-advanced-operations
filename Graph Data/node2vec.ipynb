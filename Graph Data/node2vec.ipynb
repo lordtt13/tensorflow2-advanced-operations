{
 "cells": [
  {
   "cell_type": "code",
   "execution_count": 1,
   "metadata": {},
   "outputs": [],
   "source": [
    "import os\n",
    "import math\n",
    "import random\n",
    "\n",
    "import numpy as np\n",
    "import pandas as pd\n",
    "import networkx as nx\n",
    "import tensorflow as tf\n",
    "import matplotlib.pyplot as plt\n",
    "\n",
    "from tqdm import tqdm\n",
    "from zipfile import ZipFile\n",
    "from tensorflow import keras\n",
    "from tensorflow.keras import layers\n",
    "from collections import defaultdict\n",
    "from urllib.request import urlretrieve"
   ]
  },
  {
   "cell_type": "code",
   "execution_count": 2,
   "metadata": {},
   "outputs": [],
   "source": [
    "urlretrieve(\n",
    "    \"http://files.grouplens.org/datasets/movielens/ml-latest-small.zip\", \"movielens.zip\"\n",
    ")\n",
    "ZipFile(\"movielens.zip\", \"r\").extractall()"
   ]
  },
  {
   "cell_type": "code",
   "execution_count": 3,
   "metadata": {},
   "outputs": [
    {
     "name": "stdout",
     "output_type": "stream",
     "text": [
      "Movies data shape: (9742, 3)\n",
      "Ratings data shape: (100836, 4)\n"
     ]
    }
   ],
   "source": [
    "# Load movies to a DataFrame.\n",
    "movies = pd.read_csv(\"ml-latest-small/movies.csv\")\n",
    "# Create a `movieId` string.\n",
    "movies[\"movieId\"] = movies[\"movieId\"].apply(lambda x: f\"movie_{x}\")\n",
    "\n",
    "# Load ratings to a DataFrame.\n",
    "ratings = pd.read_csv(\"ml-latest-small/ratings.csv\")\n",
    "# Convert the `ratings` to floating point\n",
    "ratings[\"rating\"] = ratings[\"rating\"].apply(lambda x: float(x))\n",
    "# Create the `movie_id` string.\n",
    "ratings[\"movieId\"] = ratings[\"movieId\"].apply(lambda x: f\"movie_{x}\")\n",
    "\n",
    "print(\"Movies data shape:\", movies.shape)\n",
    "print(\"Ratings data shape:\", ratings.shape)"
   ]
  },
  {
   "cell_type": "code",
   "execution_count": 4,
   "metadata": {},
   "outputs": [
    {
     "data": {
      "text/html": [
       "<div>\n",
       "<style scoped>\n",
       "    .dataframe tbody tr th:only-of-type {\n",
       "        vertical-align: middle;\n",
       "    }\n",
       "\n",
       "    .dataframe tbody tr th {\n",
       "        vertical-align: top;\n",
       "    }\n",
       "\n",
       "    .dataframe thead th {\n",
       "        text-align: right;\n",
       "    }\n",
       "</style>\n",
       "<table border=\"1\" class=\"dataframe\">\n",
       "  <thead>\n",
       "    <tr style=\"text-align: right;\">\n",
       "      <th></th>\n",
       "      <th>userId</th>\n",
       "      <th>movieId</th>\n",
       "      <th>rating</th>\n",
       "      <th>timestamp</th>\n",
       "    </tr>\n",
       "  </thead>\n",
       "  <tbody>\n",
       "    <tr>\n",
       "      <th>0</th>\n",
       "      <td>1</td>\n",
       "      <td>movie_1</td>\n",
       "      <td>4.0</td>\n",
       "      <td>964982703</td>\n",
       "    </tr>\n",
       "    <tr>\n",
       "      <th>1</th>\n",
       "      <td>1</td>\n",
       "      <td>movie_3</td>\n",
       "      <td>4.0</td>\n",
       "      <td>964981247</td>\n",
       "    </tr>\n",
       "    <tr>\n",
       "      <th>2</th>\n",
       "      <td>1</td>\n",
       "      <td>movie_6</td>\n",
       "      <td>4.0</td>\n",
       "      <td>964982224</td>\n",
       "    </tr>\n",
       "    <tr>\n",
       "      <th>3</th>\n",
       "      <td>1</td>\n",
       "      <td>movie_47</td>\n",
       "      <td>5.0</td>\n",
       "      <td>964983815</td>\n",
       "    </tr>\n",
       "    <tr>\n",
       "      <th>4</th>\n",
       "      <td>1</td>\n",
       "      <td>movie_50</td>\n",
       "      <td>5.0</td>\n",
       "      <td>964982931</td>\n",
       "    </tr>\n",
       "  </tbody>\n",
       "</table>\n",
       "</div>"
      ],
      "text/plain": [
       "   userId   movieId  rating  timestamp\n",
       "0       1   movie_1     4.0  964982703\n",
       "1       1   movie_3     4.0  964981247\n",
       "2       1   movie_6     4.0  964982224\n",
       "3       1  movie_47     5.0  964983815\n",
       "4       1  movie_50     5.0  964982931"
      ]
     },
     "execution_count": 4,
     "metadata": {},
     "output_type": "execute_result"
    }
   ],
   "source": [
    "ratings.head()"
   ]
  },
  {
   "cell_type": "code",
   "execution_count": 5,
   "metadata": {},
   "outputs": [
    {
     "data": {
      "text/html": [
       "<div>\n",
       "<style scoped>\n",
       "    .dataframe tbody tr th:only-of-type {\n",
       "        vertical-align: middle;\n",
       "    }\n",
       "\n",
       "    .dataframe tbody tr th {\n",
       "        vertical-align: top;\n",
       "    }\n",
       "\n",
       "    .dataframe thead th {\n",
       "        text-align: right;\n",
       "    }\n",
       "</style>\n",
       "<table border=\"1\" class=\"dataframe\">\n",
       "  <thead>\n",
       "    <tr style=\"text-align: right;\">\n",
       "      <th></th>\n",
       "      <th>movieId</th>\n",
       "      <th>title</th>\n",
       "      <th>genres</th>\n",
       "    </tr>\n",
       "  </thead>\n",
       "  <tbody>\n",
       "    <tr>\n",
       "      <th>0</th>\n",
       "      <td>movie_1</td>\n",
       "      <td>Toy Story (1995)</td>\n",
       "      <td>Adventure|Animation|Children|Comedy|Fantasy</td>\n",
       "    </tr>\n",
       "    <tr>\n",
       "      <th>1</th>\n",
       "      <td>movie_2</td>\n",
       "      <td>Jumanji (1995)</td>\n",
       "      <td>Adventure|Children|Fantasy</td>\n",
       "    </tr>\n",
       "    <tr>\n",
       "      <th>2</th>\n",
       "      <td>movie_3</td>\n",
       "      <td>Grumpier Old Men (1995)</td>\n",
       "      <td>Comedy|Romance</td>\n",
       "    </tr>\n",
       "    <tr>\n",
       "      <th>3</th>\n",
       "      <td>movie_4</td>\n",
       "      <td>Waiting to Exhale (1995)</td>\n",
       "      <td>Comedy|Drama|Romance</td>\n",
       "    </tr>\n",
       "    <tr>\n",
       "      <th>4</th>\n",
       "      <td>movie_5</td>\n",
       "      <td>Father of the Bride Part II (1995)</td>\n",
       "      <td>Comedy</td>\n",
       "    </tr>\n",
       "  </tbody>\n",
       "</table>\n",
       "</div>"
      ],
      "text/plain": [
       "   movieId                               title  \\\n",
       "0  movie_1                    Toy Story (1995)   \n",
       "1  movie_2                      Jumanji (1995)   \n",
       "2  movie_3             Grumpier Old Men (1995)   \n",
       "3  movie_4            Waiting to Exhale (1995)   \n",
       "4  movie_5  Father of the Bride Part II (1995)   \n",
       "\n",
       "                                        genres  \n",
       "0  Adventure|Animation|Children|Comedy|Fantasy  \n",
       "1                   Adventure|Children|Fantasy  \n",
       "2                               Comedy|Romance  \n",
       "3                         Comedy|Drama|Romance  \n",
       "4                                       Comedy  "
      ]
     },
     "execution_count": 5,
     "metadata": {},
     "output_type": "execute_result"
    }
   ],
   "source": [
    "movies.head()"
   ]
  },
  {
   "cell_type": "code",
   "execution_count": 6,
   "metadata": {},
   "outputs": [],
   "source": [
    "# Utility Functions\n",
    "def get_movie_title_by_id(movieId):\n",
    "    return list(movies[movies.movieId == movieId].title)[0]\n",
    "\n",
    "\n",
    "def get_movie_id_by_title(title):\n",
    "    return list(movies[movies.title == title].movieId)[0]"
   ]
  },
  {
   "cell_type": "markdown",
   "metadata": {},
   "source": [
    "### Construct the Movies graph\n",
    "We create an edge between two movie nodes in the graph if both movies are rated by the same user >= min_rating. The weight of the edge will be based on the pointwise mutual information between the two movies, which is computed as: `log(xy) - log(x) - log(y) + log(D)`, where:\n",
    "\n",
    "- `xy` is how many users rated both movie x and movie y with >= min_rating.\n",
    "- `x` is how many users rated movie x >= min_rating.\n",
    "- `y` is how many users rated movie y >= min_rating.\n",
    "- `D` total number of movie ratings >= min_rating."
   ]
  },
  {
   "cell_type": "markdown",
   "metadata": {},
   "source": [
    "#### Step 1: create the weighted edges between movies."
   ]
  },
  {
   "cell_type": "code",
   "execution_count": 7,
   "metadata": {},
   "outputs": [
    {
     "name": "stderr",
     "output_type": "stream",
     "text": [
      "Compute movie rating frequencies: 100%|██████████| 573/573 [00:00<00:00, 1775.98it/s]\n"
     ]
    }
   ],
   "source": [
    "min_rating = 5\n",
    "pair_frequency = defaultdict(int)\n",
    "item_frequency = defaultdict(int)\n",
    "\n",
    "# Filter instances where rating is greater than or equal to min_rating.\n",
    "rated_movies = ratings[ratings.rating >= min_rating]\n",
    "# Group instances by user.\n",
    "movies_grouped_by_users = list(rated_movies.groupby(\"userId\"))\n",
    "for group in tqdm(\n",
    "    movies_grouped_by_users,\n",
    "    position=0,\n",
    "    leave=True,\n",
    "    desc=\"Compute movie rating frequencies\",\n",
    "):\n",
    "    # Get a list of movies rated by the user.\n",
    "    current_movies = list(group[1][\"movieId\"])\n",
    "\n",
    "    for i in range(len(current_movies)):\n",
    "        item_frequency[current_movies[i]] += 1\n",
    "        for j in range(i + 1, len(current_movies)):\n",
    "            x = min(current_movies[i], current_movies[j])\n",
    "            y = max(current_movies[i], current_movies[j])\n",
    "            pair_frequency[(x, y)] += 1"
   ]
  },
  {
   "cell_type": "markdown",
   "metadata": {},
   "source": [
    "#### Step 2: create the graph with the nodes and the edges\n",
    "To reduce the number of edges between nodes, we only add an edge between movies if the weight of the edge is greater than min_weight."
   ]
  },
  {
   "cell_type": "code",
   "execution_count": 8,
   "metadata": {},
   "outputs": [
    {
     "name": "stderr",
     "output_type": "stream",
     "text": [
      "Creating the movie graph: 100%|██████████| 298586/298586 [00:00<00:00, 920494.55it/s]\n"
     ]
    }
   ],
   "source": [
    "min_weight = 10\n",
    "D = math.log(sum(item_frequency.values()))\n",
    "\n",
    "# Create the movies undirected graph.\n",
    "movies_graph = nx.Graph()\n",
    "# Add weighted edges between movies.\n",
    "# This automatically adds the movie nodes to the graph.\n",
    "for pair in tqdm(\n",
    "    pair_frequency, position=0, leave=True, desc=\"Creating the movie graph\"\n",
    "):\n",
    "    x, y = pair\n",
    "    xy_frequency = pair_frequency[pair]\n",
    "    x_frequency = item_frequency[x]\n",
    "    y_frequency = item_frequency[y]\n",
    "    pmi = math.log(xy_frequency) - math.log(x_frequency) - math.log(y_frequency) + D\n",
    "    weight = pmi * xy_frequency\n",
    "    # Only include edges with weight >= min_weight.\n",
    "    if weight >= min_weight:\n",
    "        movies_graph.add_edge(x, y, weight=weight)"
   ]
  },
  {
   "cell_type": "code",
   "execution_count": 9,
   "metadata": {},
   "outputs": [
    {
     "name": "stdout",
     "output_type": "stream",
     "text": [
      "Total number of graph nodes: 1405\n",
      "Total number of graph edges: 40043\n"
     ]
    }
   ],
   "source": [
    "print(\"Total number of graph nodes:\", movies_graph.number_of_nodes())\n",
    "print(\"Total number of graph edges:\", movies_graph.number_of_edges())"
   ]
  },
  {
   "cell_type": "code",
   "execution_count": 10,
   "metadata": {},
   "outputs": [
    {
     "name": "stdout",
     "output_type": "stream",
     "text": [
      "Average node degree: 57.0\n"
     ]
    }
   ],
   "source": [
    "degrees = []\n",
    "for node in movies_graph.nodes:\n",
    "    degrees.append(movies_graph.degree[node])\n",
    "\n",
    "print(\"Average node degree:\", round(sum(degrees) / len(degrees), 2))"
   ]
  },
  {
   "cell_type": "markdown",
   "metadata": {},
   "source": [
    "#### Step 3: Create vocabulary and a mapping from tokens to integer indices\n",
    "The vocabulary is the nodes (movie IDs) in the graph."
   ]
  },
  {
   "cell_type": "code",
   "execution_count": 11,
   "metadata": {},
   "outputs": [],
   "source": [
    "vocabulary = [\"NA\"] + list(movies_graph.nodes)\n",
    "vocabulary_lookup = {token: idx for idx, token in enumerate(vocabulary)}"
   ]
  },
  {
   "cell_type": "markdown",
   "metadata": {},
   "source": [
    "### Implement the biased random walk\n",
    "A random walk starts from a given node, and randomly picks a neighbour node to move to. If the edges are weighted, the neighbour is selected probabilistically with respect to weights of the edges between the current node and its neighbours. This procedure is repeated for num_steps to generate a sequence of related nodes.\n",
    "\n",
    "The `biased random walk` balances between breadth-first sampling (where only local neighbours are visited) and depth-first sampling (where distant neighbours are visited) by introducing the following two parameters:\n",
    "\n",
    "- Return parameter (`p`): Controls the likelihood of immediately revisiting a node in the walk. Setting it to a high value encourages moderate exploration, while setting it to a low value would keep the walk local.\n",
    "- In-out parameter (`q`): Allows the search to differentiate between inward and outward nodes. Setting it to a high value biases the random walk towards local nodes, while setting it to a low value biases the walk to visit nodes which are further away."
   ]
  },
  {
   "cell_type": "code",
   "execution_count": 12,
   "metadata": {},
   "outputs": [],
   "source": [
    "def next_step(graph, previous, current, p, q):\n",
    "    neighbors = list(graph.neighbors(current))\n",
    "\n",
    "    weights = []\n",
    "    # Adjust the weights of the edges to the neighbors with respect to p and q.\n",
    "    for neighbor in neighbors:\n",
    "        if neighbor == previous:\n",
    "            # Control the probability to return to the previous node.\n",
    "            weights.append(graph[current][neighbor][\"weight\"] / p)\n",
    "        elif graph.has_edge(neighbor, previous):\n",
    "            # The probability of visiting a local node.\n",
    "            weights.append(graph[current][neighbor][\"weight\"])\n",
    "        else:\n",
    "            # Control the probability to move forward.\n",
    "            weights.append(graph[current][neighbor][\"weight\"] / q)\n",
    "\n",
    "    # Compute the probabilities of visiting each neighbor.\n",
    "    weight_sum = sum(weights)\n",
    "    probabilities = [weight / weight_sum for weight in weights]\n",
    "    # Probabilistically select a neighbor to visit.\n",
    "    next = np.random.choice(neighbors, size=1, p=probabilities)[0]\n",
    "    return next\n",
    "\n",
    "\n",
    "def random_walk(graph, num_walks, num_steps, p, q):\n",
    "    walks = []\n",
    "    nodes = list(graph.nodes())\n",
    "    # Perform multiple iterations of the random walk.\n",
    "    for walk_iteration in range(num_walks):\n",
    "        random.shuffle(nodes)\n",
    "\n",
    "        for node in tqdm(\n",
    "            nodes,\n",
    "            position=0,\n",
    "            leave=True,\n",
    "            desc=f\"Random walks iteration {walk_iteration + 1} of {num_walks}\",\n",
    "        ):\n",
    "            # Start the walk with a random node from the graph.\n",
    "            walk = [node]\n",
    "            # Randomly walk for num_steps.\n",
    "            while len(walk) < num_steps:\n",
    "                current = walk[-1]\n",
    "                previous = walk[-2] if len(walk) > 1 else None\n",
    "                # Compute the next node to visit.\n",
    "                next = next_step(graph, previous, current, p, q)\n",
    "                walk.append(next)\n",
    "            # Replace node ids (movie ids) in the walk with token ids.\n",
    "            walk = [vocabulary_lookup[token] for token in walk]\n",
    "            # Add the walk to the generated sequence.\n",
    "            walks.append(walk)\n",
    "\n",
    "    return walks"
   ]
  },
  {
   "cell_type": "markdown",
   "metadata": {},
   "source": [
    "### Generate training data using the biased random walk"
   ]
  },
  {
   "cell_type": "code",
   "execution_count": 13,
   "metadata": {},
   "outputs": [
    {
     "name": "stderr",
     "output_type": "stream",
     "text": [
      "Random walks iteration 1 of 5: 100%|██████████| 1405/1405 [00:02<00:00, 510.61it/s]\n",
      "Random walks iteration 2 of 5: 100%|██████████| 1405/1405 [00:02<00:00, 512.70it/s]\n",
      "Random walks iteration 3 of 5: 100%|██████████| 1405/1405 [00:02<00:00, 513.60it/s]\n",
      "Random walks iteration 4 of 5: 100%|██████████| 1405/1405 [00:02<00:00, 505.06it/s]\n",
      "Random walks iteration 5 of 5: 100%|██████████| 1405/1405 [00:02<00:00, 491.44it/s]"
     ]
    },
    {
     "name": "stdout",
     "output_type": "stream",
     "text": [
      "Number of walks generated: 7025\n"
     ]
    },
    {
     "name": "stderr",
     "output_type": "stream",
     "text": [
      "\n"
     ]
    }
   ],
   "source": [
    "# Random walk return parameter.\n",
    "p = 1\n",
    "# Random walk in-out parameter.\n",
    "q = 1\n",
    "# Number of iterations of random walks.\n",
    "num_walks = 5\n",
    "# Number of steps of each random walk.\n",
    "num_steps = 10\n",
    "walks = random_walk(movies_graph, num_walks, num_steps, p, q)\n",
    "\n",
    "print(\"Number of walks generated:\", len(walks))"
   ]
  },
  {
   "cell_type": "markdown",
   "metadata": {},
   "source": [
    "### Generate positive and negative examples\n",
    "To train a skip-gram model, we use the generated walks to create positive and negative training examples. Each example includes the following features:\n",
    "\n",
    "- target: A movie in a walk sequence.\n",
    "- context: Another movie in a walk sequence.\n",
    "- weight: How many times these two movies occured in walk sequences.\n",
    "- label: The label is 1 if these two movies are samples from the walk sequences, otherwise (i.e., if randomly sampled) the label is 0."
   ]
  },
  {
   "cell_type": "code",
   "execution_count": 14,
   "metadata": {},
   "outputs": [
    {
     "name": "stderr",
     "output_type": "stream",
     "text": [
      "Generating postive and negative examples: 100%|██████████| 7025/7025 [00:06<00:00, 1088.46it/s]\n"
     ]
    }
   ],
   "source": [
    "def generate_examples(sequences, window_size, num_negative_samples, vocabulary_size):\n",
    "    example_weights = defaultdict(int)\n",
    "    # Iterate over all sequences (walks).\n",
    "    for sequence in tqdm(\n",
    "        sequences,\n",
    "        position=0,\n",
    "        leave=True,\n",
    "        desc=f\"Generating postive and negative examples\",\n",
    "    ):\n",
    "        # Generate positive and negative skip-gram pairs for a sequence (walk).\n",
    "        pairs, labels = keras.preprocessing.sequence.skipgrams(\n",
    "            sequence,\n",
    "            vocabulary_size=vocabulary_size,\n",
    "            window_size=window_size,\n",
    "            negative_samples=num_negative_samples,\n",
    "        )\n",
    "        for idx in range(len(pairs)):\n",
    "            pair = pairs[idx]\n",
    "            label = labels[idx]\n",
    "            target, context = min(pair[0], pair[1]), max(pair[0], pair[1])\n",
    "            if target == context:\n",
    "                continue\n",
    "            entry = (target, context, label)\n",
    "            example_weights[entry] += 1\n",
    "\n",
    "    targets, contexts, labels, weights = [], [], [], []\n",
    "    for entry in example_weights:\n",
    "        weight = example_weights[entry]\n",
    "        target, context, label = entry\n",
    "        targets.append(target)\n",
    "        contexts.append(context)\n",
    "        labels.append(label)\n",
    "        weights.append(weight)\n",
    "\n",
    "    return np.array(targets), np.array(contexts), np.array(labels), np.array(weights)\n",
    "\n",
    "\n",
    "num_negative_samples = 4\n",
    "targets, contexts, labels, weights = generate_examples(\n",
    "    sequences=walks,\n",
    "    window_size=num_steps,\n",
    "    num_negative_samples=num_negative_samples,\n",
    "    vocabulary_size=len(vocabulary),\n",
    ")"
   ]
  },
  {
   "cell_type": "code",
   "execution_count": null,
   "metadata": {},
   "outputs": [],
   "source": []
  }
 ],
 "metadata": {
  "kernelspec": {
   "display_name": "Python 3",
   "language": "python",
   "name": "python3"
  },
  "language_info": {
   "codemirror_mode": {
    "name": "ipython",
    "version": 3
   },
   "file_extension": ".py",
   "mimetype": "text/x-python",
   "name": "python",
   "nbconvert_exporter": "python",
   "pygments_lexer": "ipython3",
   "version": "3.8.5"
  }
 },
 "nbformat": 4,
 "nbformat_minor": 4
}
